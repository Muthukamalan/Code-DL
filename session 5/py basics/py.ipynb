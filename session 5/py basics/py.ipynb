{
 "cells": [
  {
   "cell_type": "code",
   "execution_count": 3,
   "metadata": {},
   "outputs": [
    {
     "name": "stdout",
     "output_type": "stream",
     "text": [
      "3\n",
      "3\n",
      "3\n"
     ]
    }
   ],
   "source": [
    "class Bicycle:\n",
    "    def __init__(self):\n",
    "        self.speed=0\n",
    "        self.gear = 1\n",
    "    def change_gear(self,val):\n",
    "        self.gear =val\n",
    "    def breaking(self):\n",
    "        self.speed=0\n",
    "\n",
    "\n",
    "# py not have private fields\n",
    "b= Bicycle()\n",
    "b.gear=3\n",
    "print(b.gear)\n",
    "\n",
    "\n",
    "# Actually\n",
    "class Bicycle:\n",
    "    def __init__(self) -> None:\n",
    "        self.speed=0\n",
    "        self.gear = 1\n",
    "    def get_gear(self):\n",
    "        return self.gear\n",
    "    def set_gear(self,val):\n",
    "        self.gear=val\n",
    "\n",
    "b = Bicycle()\n",
    "b.set_gear(3)\n",
    "print(b.get_gear())\n",
    "\n",
    "\n",
    "\n",
    "# convention\n",
    "class Bicycle:\n",
    "    def __init__(self) -> None:\n",
    "        self._gear=0\n",
    "b  = Bicycle()\n",
    "b._gear=3\n",
    "print(b._gear)\n",
    "\n",
    "# user's problem if they changed it\n",
    "\n"
   ]
  },
  {
   "cell_type": "code",
   "execution_count": 4,
   "metadata": {},
   "outputs": [
    {
     "name": "stdout",
     "output_type": "stream",
     "text": [
      "{'_gear': 3}\n"
     ]
    }
   ],
   "source": [
    "print(b.__dict__)"
   ]
  },
  {
   "cell_type": "code",
   "execution_count": 13,
   "metadata": {},
   "outputs": [
    {
     "name": "stdout",
     "output_type": "stream",
     "text": [
      "{'_Bicycle__chain': 'none', 'gear': 0, '_speed': 1}\n"
     ]
    }
   ],
   "source": [
    "# using double underscore\n",
    "\n",
    "class Bicycle:\n",
    "    a = 10\n",
    "    def __init__(self) -> None:\n",
    "        self.__chain = 'none'\n",
    "        self.gear = 0\n",
    "        self._speed = 1\n",
    "\n",
    "c = Bicycle()\n",
    "print(c.__dict__)"
   ]
  },
  {
   "cell_type": "code",
   "execution_count": 9,
   "metadata": {},
   "outputs": [
    {
     "name": "stdout",
     "output_type": "stream",
     "text": [
      "<class 'mappingproxy'>\n",
      "__module__=__main__\n",
      "__dict__=<attribute '__dict__' of 'MyClass' objects>\n",
      "__weakref__=<attribute '__weakref__' of 'MyClass' objects>\n",
      "__doc__=None\n"
     ]
    }
   ],
   "source": [
    "# Meta Programming\n",
    "\n",
    "class MyClass:\n",
    "    pass\n",
    "\n",
    "\n",
    "print(type( MyClass.__dict__))\n",
    "for k,v in MyClass.__dict__.items():\n",
    "    print(f'{k}={v}')"
   ]
  },
  {
   "cell_type": "code",
   "execution_count": 14,
   "metadata": {},
   "outputs": [
    {
     "name": "stdout",
     "output_type": "stream",
     "text": [
      "<class 'mappingproxy'>\n",
      "__module__=__main__\n",
      "a=10\n",
      "__init__=<function Bicycle.__init__ at 0x00000224EAE222A0>\n",
      "__dict__=<attribute '__dict__' of 'Bicycle' objects>\n",
      "__weakref__=<attribute '__weakref__' of 'Bicycle' objects>\n",
      "__doc__=None\n"
     ]
    }
   ],
   "source": [
    "print(type( Bicycle.__dict__))\n",
    "for k,v in Bicycle.__dict__.items():\n",
    "    print(f'{k}={v}')"
   ]
  },
  {
   "cell_type": "code",
   "execution_count": 17,
   "metadata": {},
   "outputs": [
    {
     "name": "stdout",
     "output_type": "stream",
     "text": [
      "10\n",
      "read only dit\n"
     ]
    }
   ],
   "source": [
    "print(Bicycle.__dict__['a'])\n",
    "\n",
    "try:\n",
    "    Bicycle.__dict__['a']=20\n",
    "except TypeError as te:\n",
    "    print('read only dit')"
   ]
  },
  {
   "cell_type": "code",
   "execution_count": 18,
   "metadata": {},
   "outputs": [
    {
     "name": "stdout",
     "output_type": "stream",
     "text": [
      "{'__module__': '__main__', '__dict__': <attribute '__dict__' of 'MyClass' objects>, '__weakref__': <attribute '__weakref__' of 'MyClass' objects>, '__doc__': None, 'v': 40}\n"
     ]
    }
   ],
   "source": [
    "MyClass.v = 40\n",
    "\n",
    "print(MyClass.__dict__)"
   ]
  },
  {
   "cell_type": "code",
   "execution_count": 20,
   "metadata": {},
   "outputs": [
    {
     "data": {
      "text/plain": [
       "mappingproxy({'__module__': '__main__',\n",
       "              '__dict__': <attribute '__dict__' of 'MyClass' objects>,\n",
       "              '__weakref__': <attribute '__weakref__' of 'MyClass' objects>,\n",
       "              '__doc__': None,\n",
       "              'v': 40})"
      ]
     },
     "execution_count": 20,
     "metadata": {},
     "output_type": "execute_result"
    }
   ],
   "source": [
    "vars(MyClass)"
   ]
  },
  {
   "cell_type": "code",
   "execution_count": 25,
   "metadata": {},
   "outputs": [
    {
     "name": "stdout",
     "output_type": "stream",
     "text": [
      "40\n",
      "no\n"
     ]
    },
    {
     "data": {
      "text/plain": [
       "mappingproxy({'__module__': '__main__',\n",
       "              '__dict__': <attribute '__dict__' of 'MyClass' objects>,\n",
       "              '__weakref__': <attribute '__weakref__' of 'MyClass' objects>,\n",
       "              '__doc__': None,\n",
       "              'v': 40,\n",
       "              'b': 100})"
      ]
     },
     "execution_count": 25,
     "metadata": {},
     "output_type": "execute_result"
    }
   ],
   "source": [
    "print(getattr(MyClass,'v','no'))\n",
    "\n",
    "print(getattr(MyClass,'b','no'))\n",
    "\n",
    "setattr(MyClass,'b',100)  # Myclass.b=100\n",
    "\n",
    "MyClass.__dict__"
   ]
  },
  {
   "cell_type": "code",
   "execution_count": 32,
   "metadata": {},
   "outputs": [
    {
     "name": "stdout",
     "output_type": "stream",
     "text": [
      "<function MyClass.say_hello at 0x00000224EAF92E80>\n",
      "<bound method MyClass.say_hello of <__main__.MyClass object at 0x00000224EB437690>>\n",
      "0x224eb437690\n",
      "Hello <__main__.MyClass object at 0x00000224EB437690>\n",
      "None\n",
      "<class 'function'>\n",
      "<class 'method'>\n"
     ]
    }
   ],
   "source": [
    "class MyClass:\n",
    "    def say_hello(self):\n",
    "        print(f'Hello {self}')\n",
    "\n",
    "print(MyClass.say_hello )\n",
    "\n",
    "obj = MyClass()\n",
    "print(obj.say_hello)\n",
    "\n",
    "print(hex(id(obj)))\n",
    "\n",
    "\n",
    "print(MyClass.say_hello(obj))\n",
    "\n",
    "print(type(MyClass.say_hello))\n",
    "print(type(obj.say_hello))"
   ]
  },
  {
   "cell_type": "code",
   "execution_count": 36,
   "metadata": {},
   "outputs": [
    {
     "name": "stdout",
     "output_type": "stream",
     "text": [
      "True\n"
     ]
    }
   ],
   "source": [
    "import types\n",
    "\n",
    "print(type(MyClass.say_hello) is types.FunctionType)"
   ]
  },
  {
   "cell_type": "code",
   "execution_count": 37,
   "metadata": {},
   "outputs": [
    {
     "name": "stdout",
     "output_type": "stream",
     "text": [
      "hello\n"
     ]
    }
   ],
   "source": [
    "class Logger:\n",
    "    enable_debug = False\n",
    "\n",
    "    def print(self,msg):\n",
    "        if self.enable_debug:\n",
    "            print(msg)\n",
    "\n",
    "log = Logger()\n",
    "log.print('hello')\n",
    "\n",
    "log.enable_debug=True\n",
    "log.print('hello')"
   ]
  },
  {
   "cell_type": "code",
   "execution_count": 39,
   "metadata": {},
   "outputs": [
    {
     "name": "stdout",
     "output_type": "stream",
     "text": [
      "{'__module__': '__main__', 'enable_debug': False, 'print': <function Logger.print at 0x00000224EAF93BA0>, '__dict__': <attribute '__dict__' of 'Logger' objects>, '__weakref__': <attribute '__weakref__' of 'Logger' objects>, '__doc__': None}\n",
      "{'enable_debug': True}\n"
     ]
    }
   ],
   "source": [
    "print(Logger.__dict__)\n",
    "print(log.__dict__)"
   ]
  },
  {
   "cell_type": "code",
   "execution_count": 40,
   "metadata": {},
   "outputs": [],
   "source": [
    "# class method always bound to class not object\n",
    "\n",
    "class MyClass:\n",
    "    @classmethod\n",
    "    def hello(cls):\n",
    "        print(f'Hello from {cls}')"
   ]
  },
  {
   "cell_type": "code",
   "execution_count": 41,
   "metadata": {},
   "outputs": [
    {
     "name": "stdout",
     "output_type": "stream",
     "text": [
      "<bound method MyClass.hello of <class '__main__.MyClass'>>\n",
      "Hello from <class '__main__.MyClass'>\n",
      "None\n",
      "<bound method MyClass.hello of <class '__main__.MyClass'>>\n",
      "Hello from <class '__main__.MyClass'>\n",
      "None\n"
     ]
    }
   ],
   "source": [
    "obj = MyClass()\n",
    "print(obj.hello)\n",
    "print(obj.hello())\n",
    "\n",
    "print(MyClass.hello)\n",
    "print(MyClass.hello())"
   ]
  },
  {
   "cell_type": "code",
   "execution_count": 42,
   "metadata": {},
   "outputs": [],
   "source": [
    "# staticmethod never bound to any object or class"
   ]
  },
  {
   "cell_type": "code",
   "execution_count": 43,
   "metadata": {},
   "outputs": [
    {
     "name": "stdout",
     "output_type": "stream",
     "text": [
      "Help on class MyClass in module __main__:\n",
      "\n",
      "class MyClass(builtins.object)\n",
      " |  Class methods defined here:\n",
      " |  \n",
      " |  hello() from builtins.type\n",
      " |  \n",
      " |  ----------------------------------------------------------------------\n",
      " |  Data descriptors defined here:\n",
      " |  \n",
      " |  __dict__\n",
      " |      dictionary for instance variables (if defined)\n",
      " |  \n",
      " |  __weakref__\n",
      " |      list of weak references to the object (if defined)\n",
      "\n"
     ]
    }
   ],
   "source": [
    "help(MyClass)"
   ]
  },
  {
   "cell_type": "code",
   "execution_count": null,
   "metadata": {},
   "outputs": [],
   "source": []
  }
 ],
 "metadata": {
  "kernelspec": {
   "display_name": "torchenv",
   "language": "python",
   "name": "python3"
  },
  "language_info": {
   "codemirror_mode": {
    "name": "ipython",
    "version": 3
   },
   "file_extension": ".py",
   "mimetype": "text/x-python",
   "name": "python",
   "nbconvert_exporter": "python",
   "pygments_lexer": "ipython3",
   "version": "3.11.4"
  },
  "orig_nbformat": 4
 },
 "nbformat": 4,
 "nbformat_minor": 2
}
