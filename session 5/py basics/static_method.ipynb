{
 "cells": [
  {
   "cell_type": "code",
   "execution_count": 2,
   "metadata": {},
   "outputs": [],
   "source": [
    "from datetime import datetime"
   ]
  },
  {
   "cell_type": "markdown",
   "metadata": {},
   "source": [
    "@static method\n",
    "\n",
    "- don't take any class or self variable"
   ]
  },
  {
   "cell_type": "code",
   "execution_count": 6,
   "metadata": {},
   "outputs": [
    {
     "name": "stdout",
     "output_type": "stream",
     "text": [
      "creation date: 2023-09-17\n",
      "creation date: 2023-09-17\n",
      "Default Employee raise amount = 1.2\n",
      "Emp1 raise amount             = 1.2\n",
      "Emp2 raise amount             = 1.2\n"
     ]
    }
   ],
   "source": [
    "class Employee:\n",
    "    num_of_emps = 10\n",
    "    raise_amt   = 1.2\n",
    "\n",
    "    def __init__(self,first:str,last:str,pay:int) -> None:\n",
    "        self.first:str = first\n",
    "        self.last :str = last\n",
    "        self.email = f'{last}.{first}@email.com'\n",
    "        self.pay:int = pay\n",
    "        Employee.call_static()\n",
    "\n",
    "        Employee.num_of_emps +=1\n",
    "\n",
    "    def fullname(self)->str:\n",
    "        return f'{self.first} {self.last}'\n",
    "    \n",
    "    def apply_raise(self)->str:\n",
    "        self.pay = int(self.pay*self.raise_amt)\n",
    "\n",
    "    @staticmethod\n",
    "    def call_static():\n",
    "        print(f\"creation date: {datetime.today().strftime('%Y-%m-%d')}\")\n",
    "\n",
    "e1 = Employee('muthu','kamalan',50000)\n",
    "e2 = Employee('test','user',40000)\n",
    "\n",
    "\n",
    "print(f'Default Employee raise amount = {Employee.raise_amt}')\n",
    "print(f'Emp1 raise amount             = {e1.raise_amt}')\n",
    "print(f'Emp2 raise amount             = {e2.raise_amt}')\n"
   ]
  },
  {
   "cell_type": "code",
   "execution_count": 7,
   "metadata": {},
   "outputs": [
    {
     "name": "stdout",
     "output_type": "stream",
     "text": [
      "creation date: 2023-09-17\n"
     ]
    }
   ],
   "source": [
    "e2.call_static()"
   ]
  },
  {
   "cell_type": "code",
   "execution_count": null,
   "metadata": {},
   "outputs": [],
   "source": []
  }
 ],
 "metadata": {
  "kernelspec": {
   "display_name": "torchenv",
   "language": "python",
   "name": "python3"
  },
  "language_info": {
   "codemirror_mode": {
    "name": "ipython",
    "version": 3
   },
   "file_extension": ".py",
   "mimetype": "text/x-python",
   "name": "python",
   "nbconvert_exporter": "python",
   "pygments_lexer": "ipython3",
   "version": "3.11.4"
  },
  "orig_nbformat": 4
 },
 "nbformat": 4,
 "nbformat_minor": 2
}
