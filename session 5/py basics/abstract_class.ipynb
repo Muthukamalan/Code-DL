{
 "cells": [
  {
   "cell_type": "markdown",
   "id": "04b9a2d5-46fc-40f7-adff-7863b0bbe52e",
   "metadata": {},
   "source": [
    "# Abstract Class"
   ]
  },
  {
   "cell_type": "markdown",
   "id": "889b2bca-ddf6-44df-8d04-ca74ef61d016",
   "metadata": {},
   "source": [
    "prevents a user from creating an object\n",
    "compels a user to override abstract method in a class\n",
    "\n",
    "abstract class = a class which contains one or more abstract methods\n",
    "\n",
    "abstract method = a method that has declaration but not have  implementation ( force to rewrite Inheritate class)"
   ]
  },
  {
   "cell_type": "code",
   "execution_count": 1,
   "id": "0b8d638c-7218-4dde-9362-a1002b4faa59",
   "metadata": {},
   "outputs": [
    {
     "name": "stdout",
     "output_type": "stream",
     "text": [
      "call Vehicle Class: None\n",
      "call Vehicle Class: GO car\n",
      "call Vehicle Class: GO Motorcycle\n"
     ]
    }
   ],
   "source": [
    "import  sys\n",
    "from abc import ABC,abstractmethod\n",
    "\n",
    "class Vehicle:\n",
    "    def go(self):\n",
    "        pass\n",
    "\n",
    "class Car(Vehicle):\n",
    "    def go(self):\n",
    "        return('GO car')\n",
    "\n",
    "class MotorCycle(Vehicle):\n",
    "    def go(self):\n",
    "        return(\"GO Motorcycle\")\n",
    "\n",
    "v1 = Vehicle()\n",
    "print(f'call Vehicle Class: {v1.go()}')\n",
    "\n",
    "c1 = Car()\n",
    "print(f'call Vehicle Class: {c1.go()}')\n",
    "\n",
    "m1 = MotorCycle()\n",
    "print(f'call Vehicle Class: {m1.go()}')\n",
    "\n",
    "# sys.modules[__name__].__dict__.clear()\n",
    "del Vehicle,Car,MotorCycle,v1,c1,m1"
   ]
  },
  {
   "cell_type": "markdown",
   "id": "1341dec3-bda4-4dbe-8a95-48985f775df6",
   "metadata": {},
   "source": [
    "- here Vehicle is Abstract Object sadly it's returning none"
   ]
  },
  {
   "cell_type": "code",
   "execution_count": 2,
   "id": "e6d828e5-24e7-4a2e-928b-9e22f5be67cb",
   "metadata": {},
   "outputs": [
    {
     "name": "stdout",
     "output_type": "stream",
     "text": [
      "we can't init Vechicle\n",
      "call Vehicle Class: GO car\n",
      "call Vehicle Class: GO Motorcycle\n"
     ]
    }
   ],
   "source": [
    "import  sys\n",
    "from abc import ABC,abstractmethod\n",
    "\n",
    "class Vehicle(ABC):\n",
    "    @abstractmethod\n",
    "    def go(self):\n",
    "        pass\n",
    "\n",
    "class Car(Vehicle):\n",
    "    def go(self):\n",
    "        return('GO car')\n",
    "\n",
    "class MotorCycle(Vehicle):\n",
    "    def go(self):\n",
    "        return(\"GO Motorcycle\")\n",
    "\n",
    "\n",
    "try:\n",
    "    v1 = Vehicle()\n",
    "    print(f'call Vehicle Class: {v1.go()}')\n",
    "except Exception as e:\n",
    "    print(f'we can\\'t init Vechicle')\n",
    "    \n",
    "\n",
    "c1 = Car()\n",
    "print(f'call Vehicle Class: {c1.go()}')\n",
    "\n",
    "m1 = MotorCycle()\n",
    "print(f'call Vehicle Class: {m1.go()}')\n",
    "\n",
    "# sys.modules[__name__].__dict__.clear()\n",
    "del Vehicle,Car,MotorCycle,c1,m1"
   ]
  },
  {
   "cell_type": "code",
   "execution_count": 3,
   "id": "ae574c15-48f8-4e0c-8734-d95adf3251bf",
   "metadata": {},
   "outputs": [
    {
     "name": "stdout",
     "output_type": "stream",
     "text": [
      "able to create Obj\n",
      "call Vehicle Class: GO car\n",
      "call Vehicle Class: GO Motorcycle\n"
     ]
    }
   ],
   "source": [
    "import  sys\n",
    "from abc import ABC,abstractmethod\n",
    "\n",
    "class Vehicle(ABC):\n",
    "    pass\n",
    "\n",
    "class Car(Vehicle):\n",
    "    def go(self):\n",
    "        return('GO car')\n",
    "\n",
    "class MotorCycle(Vehicle):\n",
    "    def go(self):\n",
    "        return(\"GO Motorcycle\")\n",
    "\n",
    "# What will happen atleast we didn't init one abstract method\n",
    "try:\n",
    "    v1 = Vehicle()\n",
    "    print('able to create Obj')\n",
    "    # print(f'call Vehicle Class: {v1.go()}')\n",
    "except Exception as e:\n",
    "    print(f'we can\\'t init Vechicle')\n",
    "    \n",
    "\n",
    "c1 = Car()\n",
    "print(f'call Vehicle Class: {c1.go()}')\n",
    "\n",
    "m1 = MotorCycle()\n",
    "print(f'call Vehicle Class: {m1.go()}')\n",
    "\n",
    "# sys.modules[__name__].__dict__.clear()\n",
    "del Vehicle,Car,MotorCycle,v1,c1,m1"
   ]
  },
  {
   "cell_type": "markdown",
   "id": "3c6b48c0",
   "metadata": {},
   "source": [
    "# Definition"
   ]
  },
  {
   "cell_type": "code",
   "execution_count": 4,
   "id": "bfed0ac6-c978-42f9-8591-668e61c3955f",
   "metadata": {},
   "outputs": [
    {
     "name": "stdout",
     "output_type": "stream",
     "text": [
      "we can't init Vechicle\n",
      "call Vehicle Class: GO car\n",
      "we can't init Motorcycle\n"
     ]
    }
   ],
   "source": [
    "import  sys\n",
    "from abc import ABC,abstractmethod\n",
    "\n",
    "class Vehicle(ABC):\n",
    "    @abstractmethod\n",
    "    def go(self):\n",
    "        pass\n",
    "\n",
    "class Car(Vehicle):\n",
    "    def go(self):\n",
    "        return('GO car')\n",
    "\n",
    "class MotorCycle(Vehicle):\n",
    "    pass\n",
    "\n",
    "# What will happen atleast we didn't init one abstract method\n",
    "try:\n",
    "    v1 = Vehicle()\n",
    "    print('able to create Obj')\n",
    "    # print(f'call Vehicle Class: {v1.go()}')\n",
    "except Exception as e:\n",
    "    print(f'we can\\'t init Vechicle')\n",
    "    \n",
    "\n",
    "c1 = Car()\n",
    "print(f'call Vehicle Class: {c1.go()}')\n",
    "\n",
    "try:\n",
    "    m1 = MotorCycle()\n",
    "    # print(f'call Vehicle Class: {m1.go()}')\n",
    "except Exception as e:\n",
    "    print(f'we can\\'t init Motorcycle')\n",
    "\n",
    "\n",
    "# sys.modules[__name__].__dict__.clear()\n",
    "del Vehicle,Car,MotorCycle,c1"
   ]
  },
  {
   "cell_type": "code",
   "execution_count": null,
   "id": "527de39b",
   "metadata": {},
   "outputs": [],
   "source": []
  }
 ],
 "metadata": {
  "kernelspec": {
   "display_name": "Python 3 (ipykernel)",
   "language": "python",
   "name": "python3"
  },
  "language_info": {
   "codemirror_mode": {
    "name": "ipython",
    "version": 3
   },
   "file_extension": ".py",
   "mimetype": "text/x-python",
   "name": "python",
   "nbconvert_exporter": "python",
   "pygments_lexer": "ipython3",
   "version": "3.11.4"
  }
 },
 "nbformat": 4,
 "nbformat_minor": 5
}
