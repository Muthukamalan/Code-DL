{
 "cells": [
  {
   "cell_type": "markdown",
   "metadata": {},
   "source": [
    "## Write class method explicitly"
   ]
  },
  {
   "cell_type": "code",
   "execution_count": 5,
   "metadata": {},
   "outputs": [
    {
     "name": "stdout",
     "output_type": "stream",
     "text": [
      "Default Employee raise amount = 1.2\n",
      "Emp1 raise amount             = 1.2\n",
      "Emp2 raise amount             = 1.2\n",
      "Default Employee raise amount = 1.4\n",
      "Emp1 raise amount             = 1.4\n",
      "Emp2 raise amount             = 1.4\n"
     ]
    }
   ],
   "source": [
    "class Employee:\n",
    "    num_of_emps = 10\n",
    "    raise_amt   = 1.2\n",
    "\n",
    "    def __init__(self,first:str,last:str,pay:int) -> None:\n",
    "        self.first:str = first\n",
    "        self.last :str = last\n",
    "        self.email = f'{last}.{first}@email.com'\n",
    "        self.pay:int = pay\n",
    "\n",
    "        Employee.num_of_emps +=1\n",
    "\n",
    "    def fullname(self)->str:\n",
    "        return f'{self.first} {self.last}'\n",
    "    \n",
    "    def apply_raise(self)->str:\n",
    "        self.pay = int(self.pay*self.raise_amt)\n",
    "\n",
    "e1 = Employee('muthu','kamalan',50000)\n",
    "e2 = Employee('test','user',40000)\n",
    "\n",
    "print(f'Default Employee raise amount = {Employee.raise_amt}')\n",
    "print(f'Emp1 raise amount             = {e1.raise_amt}')\n",
    "print(f'Emp2 raise amount             = {e2.raise_amt}')\n",
    "\n",
    "\n",
    "# Rewrite\n",
    "Employee.raise_amt = 1.4\n",
    "\n",
    "print(f'Default Employee raise amount = {Employee.raise_amt}')\n",
    "print(f'Emp1 raise amount             = {e1.raise_amt}')\n",
    "print(f'Emp2 raise amount             = {e2.raise_amt}')"
   ]
  },
  {
   "cell_type": "markdown",
   "metadata": {},
   "source": [
    "## write class method  implicitly"
   ]
  },
  {
   "cell_type": "code",
   "execution_count": 11,
   "metadata": {},
   "outputs": [
    {
     "name": "stdout",
     "output_type": "stream",
     "text": [
      "Default Employee raise amount = 1.2\n",
      "Emp1 raise amount             = 1.2\n",
      "Emp2 raise amount             = 1.2\n",
      "Default Employee raise amount = 1.7\n",
      "Emp1 raise amount             = 1.7\n",
      "Emp2 raise amount             = 1.7\n"
     ]
    }
   ],
   "source": [
    "class Employee:\n",
    "    num_of_emps = 10\n",
    "    raise_amt   = 1.2\n",
    "\n",
    "    def __init__(self,first:str,last:str,pay:int) -> None:\n",
    "        self.first:str = first\n",
    "        self.last :str = last\n",
    "        self.email = f'{last}.{first}@email.com'\n",
    "        self.pay:int = pay\n",
    "\n",
    "        Employee.num_of_emps +=1\n",
    "\n",
    "    def fullname(self)->str:\n",
    "        return f'{self.first} {self.last}'\n",
    "    \n",
    "    def apply_raise(self)->str:\n",
    "        self.pay = int(self.pay*self.raise_amt)\n",
    "\n",
    "    @classmethod\n",
    "    def set_raise_amnt(cls,amount):\n",
    "        cls.raise_amt=amount\n",
    "\n",
    "e1 = Employee('muthu','kamalan',50000)\n",
    "e2 = Employee('test','user',40000)\n",
    "\n",
    "\n",
    "print(f'Default Employee raise amount = {Employee.raise_amt}')\n",
    "print(f'Emp1 raise amount             = {e1.raise_amt}')\n",
    "print(f'Emp2 raise amount             = {e2.raise_amt}')\n",
    "\n",
    "\n",
    "Employee.set_raise_amnt(1.7)\n",
    "\n",
    "print(f'Default Employee raise amount = {Employee.raise_amt}')\n",
    "print(f'Emp1 raise amount             = {e1.raise_amt}')\n",
    "print(f'Emp2 raise amount             = {e2.raise_amt}')"
   ]
  },
  {
   "cell_type": "markdown",
   "metadata": {},
   "source": [
    "## Alternate constructor"
   ]
  },
  {
   "cell_type": "code",
   "execution_count": 13,
   "metadata": {},
   "outputs": [
    {
     "name": "stdout",
     "output_type": "stream",
     "text": [
      "Default Employee raise amount = 1.2\n",
      "Emp1 raise amount             = 1.2\n",
      "Emp2 raise amount             = 1.2\n",
      "50000\n"
     ]
    }
   ],
   "source": [
    "class Employee:\n",
    "    num_of_emps = 10\n",
    "    raise_amt   = 1.2\n",
    "\n",
    "    def __init__(self,first:str,last:str,pay:int) -> None:\n",
    "        self.first:str = first\n",
    "        self.last :str = last\n",
    "        self.email = f'{last}.{first}@email.com'\n",
    "        self.pay:int = pay\n",
    "\n",
    "        Employee.num_of_emps +=1\n",
    "\n",
    "    def fullname(self)->str:\n",
    "        return f'{self.first} {self.last}'\n",
    "    \n",
    "    def apply_raise(self)->str:\n",
    "        self.pay = int(self.pay*self.raise_amt)\n",
    "\n",
    "    @classmethod\n",
    "    def set_raise_amnt(cls,amount):\n",
    "        cls.raise_amt=amount\n",
    "\n",
    "    @classmethod\n",
    "    def from_string(cls,string)->Employee:\n",
    "        f,s,p = string.split('-')\n",
    "        return cls(f,s,p)\n",
    "\n",
    "e1 = Employee('muthu','kamalan',50000)\n",
    "e2 = Employee('test','user',40000)\n",
    "\n",
    "\n",
    "print(f'Default Employee raise amount = {Employee.raise_amt}')\n",
    "print(f'Emp1 raise amount             = {e1.raise_amt}')\n",
    "print(f'Emp2 raise amount             = {e2.raise_amt}')\n",
    "\n",
    "\n",
    "e3 = Employee.from_string('raj-paul-50000')\n",
    "print(e3.pay)"
   ]
  },
  {
   "cell_type": "code",
   "execution_count": null,
   "metadata": {},
   "outputs": [],
   "source": []
  }
 ],
 "metadata": {
  "kernelspec": {
   "display_name": "torchenv",
   "language": "python",
   "name": "python3"
  },
  "language_info": {
   "codemirror_mode": {
    "name": "ipython",
    "version": 3
   },
   "file_extension": ".py",
   "mimetype": "text/x-python",
   "name": "python",
   "nbconvert_exporter": "python",
   "pygments_lexer": "ipython3",
   "version": "3.11.4"
  },
  "orig_nbformat": 4
 },
 "nbformat": 4,
 "nbformat_minor": 2
}
