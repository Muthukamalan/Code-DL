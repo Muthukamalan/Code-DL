{
 "cells": [
  {
   "cell_type": "markdown",
   "metadata": {
    "id": "n09vaEgP6pLj"
   },
   "source": [
    "CODE BLOCK: 1"
   ]
  },
  {
   "cell_type": "code",
   "execution_count": 1,
   "metadata": {
    "id": "6PlbomWY3RSq"
   },
   "outputs": [],
   "source": [
    "import torch\n",
    "import torch.nn as nn\n",
    "import torch.nn.functional as F\n",
    "import torch.optim as optim\n",
    "from torchvision import datasets, transforms\n",
    "from torchsummary import summary"
   ]
  },
  {
   "cell_type": "markdown",
   "metadata": {
    "id": "VjBHHQVA6sXt"
   },
   "source": [
    "CODE BLOCK: 2"
   ]
  },
  {
   "cell_type": "code",
   "execution_count": 2,
   "metadata": {
    "colab": {
     "base_uri": "https://localhost:8080/"
    },
    "id": "94BxVVBP3WwS",
    "outputId": "46605080-bcaa-4042-8b60-2b0aec71a6b4"
   },
   "outputs": [
    {
     "name": "stdout",
     "output_type": "stream",
     "text": [
      "CUDA Available? True\n"
     ]
    },
    {
     "data": {
      "text/plain": [
       "device(type='cuda')"
      ]
     },
     "execution_count": 2,
     "metadata": {},
     "output_type": "execute_result"
    }
   ],
   "source": [
    "# CUDA?\n",
    "from utils import cuda,device\n",
    "\n",
    "print(\"CUDA Available?\", cuda)\n",
    "device"
   ]
  },
  {
   "cell_type": "markdown",
   "metadata": {
    "id": "3UHq59Sw6tmW"
   },
   "source": [
    "CODE BLOCK: 3"
   ]
  },
  {
   "cell_type": "code",
   "execution_count": 3,
   "metadata": {
    "id": "KpshQ2Ug38m2"
   },
   "outputs": [],
   "source": [
    "# Train data transformations\n",
    "from utils import train_transforms,test_transforms"
   ]
  },
  {
   "cell_type": "markdown",
   "metadata": {
    "id": "zQm17pM46zHL"
   },
   "source": [
    "CODE BLOCK: 4"
   ]
  },
  {
   "cell_type": "code",
   "execution_count": 4,
   "metadata": {
    "colab": {
     "base_uri": "https://localhost:8080/"
    },
    "id": "JB79ZYW13-AO",
    "outputId": "f375e7e7-b967-4ca5-cfad-a816b8f58a8a"
   },
   "outputs": [],
   "source": [
    "train_data = datasets.MNIST('../../data', train=True, download=False, transform=train_transforms)\n",
    "test_data = datasets.MNIST('../../data', train=False, download=False, transform=test_transforms)"
   ]
  },
  {
   "cell_type": "markdown",
   "metadata": {
    "id": "_PKSHxto6116"
   },
   "source": [
    "CODE BLOCK: 5"
   ]
  },
  {
   "cell_type": "code",
   "execution_count": 5,
   "metadata": {
    "id": "avCKK1uL4A68"
   },
   "outputs": [],
   "source": [
    "batch_size = 128\n",
    "\n",
    "if torch.cuda.is_available():\n",
    "    kwargs = {'batch_size': batch_size, 'shuffle': True, 'num_workers': 3, 'pin_memory': True}\n",
    "else:\n",
    "    kwargs = {'batch_size':32,'shuffle':True}\n",
    "\n",
    "test_loader = torch.utils.data.DataLoader(test_data, **kwargs)\n",
    "train_loader = torch.utils.data.DataLoader(train_data, **kwargs)"
   ]
  },
  {
   "cell_type": "code",
   "execution_count": 6,
   "metadata": {},
   "outputs": [
    {
     "data": {
      "text/plain": [
       "(469, 79, 60000, 10000)"
      ]
     },
     "execution_count": 6,
     "metadata": {},
     "output_type": "execute_result"
    }
   ],
   "source": [
    "len(train_loader), len(test_loader),  len(train_data), len(test_data)"
   ]
  },
  {
   "cell_type": "code",
   "execution_count": 7,
   "metadata": {},
   "outputs": [
    {
     "data": {
      "text/plain": [
       "(127.9317697228145, 126.58227848101266)"
      ]
     },
     "execution_count": 7,
     "metadata": {},
     "output_type": "execute_result"
    }
   ],
   "source": [
    "len(train_data)/len(train_loader), len(test_data)/len(test_loader)"
   ]
  },
  {
   "cell_type": "markdown",
   "metadata": {
    "id": "Hi_0rfq56-29"
   },
   "source": [
    "CODE BLOCK: 6"
   ]
  },
  {
   "cell_type": "code",
   "execution_count": 8,
   "metadata": {
    "colab": {
     "base_uri": "https://localhost:8080/",
     "height": 463
    },
    "id": "Hx7QkLcw4Epc",
    "outputId": "f300f2b7-1a0a-4a67-d541-fe8b9c525b86"
   },
   "outputs": [
    {
     "name": "stderr",
     "output_type": "stream",
     "text": [
      "C:\\Users\\muthu\\AppData\\Local\\Temp\\ipykernel_396\\695351802.py:9: UserWarning: The figure layout has changed to tight\n",
      "  plt.tight_layout()\n"
     ]
    },
    {
     "data": {
      "image/png": "[encoded data removed]",
      "text/plain": [
       "<Figure size 640x480 with 12 Axes>"
      ]
     },
     "metadata": {},
     "output_type": "display_data"
    }
   ],
   "source": [
    "import matplotlib.pyplot as plt\n",
    "\n",
    "batch_data, batch_label = next(iter(train_loader))\n",
    "\n",
    "fig = plt.figure()\n",
    "\n",
    "for i in range(12):\n",
    "  plt.subplot(3,4,i+1)\n",
    "  plt.tight_layout()\n",
    "  plt.imshow(batch_data[i].squeeze(0), cmap='gray')\n",
    "  plt.title(batch_label[i].item())\n",
    "  plt.xticks([])\n",
    "  plt.yticks([])\n",
    "plt.show()"
   ]
  },
  {
   "cell_type": "markdown",
   "metadata": {
    "id": "y3XbVJSb7Aee"
   },
   "source": [
    "CODE BLOCK: 7"
   ]
  },
  {
   "cell_type": "code",
   "execution_count": 9,
   "metadata": {
    "id": "UHBolvMH4F8y"
   },
   "outputs": [],
   "source": [
    "from model import Net"
   ]
  },
  {
   "cell_type": "markdown",
   "metadata": {
    "id": "89gd4_s7AO2y"
   },
   "source": [
    "CODE BLOCK: 8"
   ]
  },
  {
   "cell_type": "code",
   "execution_count": 10,
   "metadata": {
    "id": "7du4zM474LvT"
   },
   "outputs": [],
   "source": [
    "# Data to plot accuracy and loss graphs\n",
    "train_losses = []\n",
    "test_losses = []\n",
    "train_acc = []\n",
    "test_acc = []\n",
    "\n",
    "test_incorrect_pred = {'images': [], 'ground_truths': [], 'predicted_vals': []}"
   ]
  },
  {
   "cell_type": "markdown",
   "metadata": {
    "id": "kCwIPHqwAQgB"
   },
   "source": [
    "CODE BLOCK: 9"
   ]
  },
  {
   "cell_type": "code",
   "execution_count": 13,
   "metadata": {
    "id": "gpNw3-sy4QGd"
   },
   "outputs": [],
   "source": [
    "\n",
    "from tqdm import tqdm\n",
    "from utils import GetCorrectPredCount\n",
    "\n",
    "\n",
    "def train(model, device, train_loader, optimizer, criterion):\n",
    "  model.train()\n",
    "  pbar = tqdm(train_loader)\n",
    "\n",
    "  train_loss = 0\n",
    "  correct = 0\n",
    "  processed = 0\n",
    "\n",
    "  for batch_idx, (data, target) in enumerate(pbar):\n",
    "    data, target = data.to(device), target.to(device)\n",
    "    optimizer.zero_grad()\n",
    "\n",
    "    # Predict\n",
    "    pred = model(data)\n",
    "\n",
    "    # Calculate loss\n",
    "    loss = criterion(pred, target)\n",
    "    train_loss+=loss.item()\n",
    "\n",
    "    # Backpropagation\n",
    "    loss.backward()\n",
    "    optimizer.step()\n",
    "\n",
    "    correct += GetCorrectPredCount(pred, target)\n",
    "    processed += len(data)\n",
    "\n",
    "    pbar.set_description(desc= f'Train: Loss={loss.item():0.4f} Batch_id={batch_idx} Accuracy={100*correct/processed:0.2f}')\n",
    "\n",
    "  train_acc.append(100*correct/processed)\n",
    "  train_losses.append(train_loss/len(train_loader))\n",
    "\n",
    "def test(model, device, test_loader, criterion):\n",
    "    model.eval()\n",
    "\n",
    "    test_loss = 0\n",
    "    correct = 0\n",
    "\n",
    "    with torch.no_grad():\n",
    "        for batch_idx, (data, target) in enumerate(test_loader):\n",
    "            data, target = data.to(device), target.to(device)\n",
    "\n",
    "            output = model(data)\n",
    "            test_loss += criterion(output, target, reduction='sum').item()  # sum up batch loss\n",
    "\n",
    "            correct += GetCorrectPredCount(output, target)\n",
    "\n",
    "\n",
    "    test_loss /= len(test_loader.dataset)\n",
    "    test_acc.append(100. * correct / len(test_loader.dataset))\n",
    "    test_losses.append(test_loss)\n",
    "\n",
    "    print('Test set: Average loss: {:.4f}, Accuracy: {}/{} ({:.2f}%)\\n'.format(\n",
    "        test_loss, correct, len(test_loader.dataset),\n",
    "        100. * correct / len(test_loader.dataset)))\n"
   ]
  },
  {
   "cell_type": "markdown",
   "metadata": {
    "id": "09GYKBGRAT5M"
   },
   "source": [
    "CODE BLOCK: 10"
   ]
  },
  {
   "cell_type": "code",
   "execution_count": 14,
   "metadata": {},
   "outputs": [
    {
     "name": "stdout",
     "output_type": "stream",
     "text": [
      "----------------------------------------------------------------\n",
      "        Layer (type)               Output Shape         Param #\n",
      "================================================================\n",
      "            Conv2d-1           [-1, 32, 26, 26]             320\n",
      "            Conv2d-2           [-1, 64, 24, 24]          18,496\n",
      "            Conv2d-3          [-1, 128, 10, 10]          73,856\n",
      "            Conv2d-4            [-1, 256, 8, 8]         295,168\n",
      "            Linear-5                   [-1, 50]         204,850\n",
      "            Linear-6                   [-1, 10]             510\n",
      "================================================================\n",
      "Total params: 593,200\n",
      "Trainable params: 593,200\n",
      "Non-trainable params: 0\n",
      "----------------------------------------------------------------\n",
      "Input size (MB): 0.00\n",
      "Forward/backward pass size (MB): 0.67\n",
      "Params size (MB): 2.26\n",
      "Estimated Total Size (MB): 2.94\n",
      "----------------------------------------------------------------\n"
     ]
    }
   ],
   "source": [
    "model = Net().to(device)\n",
    "summary(model,(1,28,28))"
   ]
  },
  {
   "cell_type": "code",
   "execution_count": 15,
   "metadata": {
    "colab": {
     "base_uri": "https://localhost:8080/"
    },
    "id": "Owqiet9M4TV7",
    "outputId": "f5c847c7-642b-4773-becf-70168897809e",
    "scrolled": true
   },
   "outputs": [
    {
     "name": "stdout",
     "output_type": "stream",
     "text": [
      "Adjusting learning rate of group 0 to 1.0000e-02.\n",
      "Epoch 1\n"
     ]
    },
    {
     "name": "stderr",
     "output_type": "stream",
     "text": [
      "Train: Loss=0.0931 Batch_id=468 Accuracy=85.45: 100%|██████████| 469/469 [00:43<00:00, 10.76it/s]\n"
     ]
    },
    {
     "name": "stdout",
     "output_type": "stream",
     "text": [
      "Test set: Average loss: 0.0855, Accuracy: 9731/10000 (97.31%)\n",
      "\n",
      "Adjusting learning rate of group 0 to 1.0000e-02.\n",
      "Epoch 2\n"
     ]
    },
    {
     "name": "stderr",
     "output_type": "stream",
     "text": [
      "Train: Loss=0.0663 Batch_id=468 Accuracy=97.43: 100%|██████████| 469/469 [00:43<00:00, 10.79it/s]\n"
     ]
    },
    {
     "name": "stdout",
     "output_type": "stream",
     "text": [
      "Test set: Average loss: 0.0422, Accuracy: 9863/10000 (98.63%)\n",
      "\n",
      "Adjusting learning rate of group 0 to 1.0000e-02.\n",
      "Epoch 3\n"
     ]
    },
    {
     "name": "stderr",
     "output_type": "stream",
     "text": [
      "Train: Loss=0.0188 Batch_id=468 Accuracy=98.00: 100%|██████████| 469/469 [00:43<00:00, 10.78it/s]\n"
     ]
    },
    {
     "name": "stdout",
     "output_type": "stream",
     "text": [
      "Test set: Average loss: 0.0268, Accuracy: 9906/10000 (99.06%)\n",
      "\n",
      "Adjusting learning rate of group 0 to 1.0000e-02.\n",
      "Epoch 4\n"
     ]
    },
    {
     "name": "stderr",
     "output_type": "stream",
     "text": [
      "Train: Loss=0.0650 Batch_id=468 Accuracy=98.39: 100%|██████████| 469/469 [00:43<00:00, 10.82it/s]\n"
     ]
    },
    {
     "name": "stdout",
     "output_type": "stream",
     "text": [
      "Test set: Average loss: 0.0346, Accuracy: 9894/10000 (98.94%)\n",
      "\n",
      "Adjusting learning rate of group 0 to 1.0000e-02.\n",
      "Epoch 5\n"
     ]
    },
    {
     "name": "stderr",
     "output_type": "stream",
     "text": [
      "Train: Loss=0.0646 Batch_id=468 Accuracy=98.61: 100%|██████████| 469/469 [00:43<00:00, 10.77it/s]\n"
     ]
    },
    {
     "name": "stdout",
     "output_type": "stream",
     "text": [
      "Test set: Average loss: 0.0243, Accuracy: 9920/10000 (99.20%)\n",
      "\n",
      "Adjusting learning rate of group 0 to 1.0000e-02.\n",
      "Epoch 6\n"
     ]
    },
    {
     "name": "stderr",
     "output_type": "stream",
     "text": [
      "Train: Loss=0.0197 Batch_id=468 Accuracy=98.78: 100%|██████████| 469/469 [00:46<00:00, 10.09it/s]\n"
     ]
    },
    {
     "name": "stdout",
     "output_type": "stream",
     "text": [
      "Test set: Average loss: 0.0250, Accuracy: 9917/10000 (99.17%)\n",
      "\n",
      "Adjusting learning rate of group 0 to 1.0000e-02.\n",
      "Epoch 7\n"
     ]
    },
    {
     "name": "stderr",
     "output_type": "stream",
     "text": [
      "Train: Loss=0.0131 Batch_id=468 Accuracy=98.81: 100%|██████████| 469/469 [00:46<00:00, 10.12it/s]\n"
     ]
    },
    {
     "name": "stdout",
     "output_type": "stream",
     "text": [
      "Test set: Average loss: 0.0300, Accuracy: 9907/10000 (99.07%)\n",
      "\n",
      "Adjusting learning rate of group 0 to 1.0000e-02.\n",
      "Epoch 8\n"
     ]
    },
    {
     "name": "stderr",
     "output_type": "stream",
     "text": [
      "Train: Loss=0.0593 Batch_id=468 Accuracy=99.06: 100%|██████████| 469/469 [00:46<00:00, 10.12it/s]\n"
     ]
    },
    {
     "name": "stdout",
     "output_type": "stream",
     "text": [
      "Test set: Average loss: 0.0248, Accuracy: 9912/10000 (99.12%)\n",
      "\n",
      "Adjusting learning rate of group 0 to 1.0000e-02.\n",
      "Epoch 9\n"
     ]
    },
    {
     "name": "stderr",
     "output_type": "stream",
     "text": [
      "Train: Loss=0.0332 Batch_id=468 Accuracy=99.10: 100%|██████████| 469/469 [00:46<00:00, 10.09it/s]\n"
     ]
    },
    {
     "name": "stdout",
     "output_type": "stream",
     "text": [
      "Test set: Average loss: 0.0251, Accuracy: 9914/10000 (99.14%)\n",
      "\n",
      "Adjusting learning rate of group 0 to 1.0000e-02.\n",
      "Epoch 10\n"
     ]
    },
    {
     "name": "stderr",
     "output_type": "stream",
     "text": [
      "Train: Loss=0.0192 Batch_id=468 Accuracy=99.09: 100%|██████████| 469/469 [00:46<00:00, 10.09it/s]\n"
     ]
    },
    {
     "name": "stdout",
     "output_type": "stream",
     "text": [
      "Test set: Average loss: 0.0209, Accuracy: 9926/10000 (99.26%)\n",
      "\n",
      "Adjusting learning rate of group 0 to 1.0000e-02.\n",
      "Epoch 11\n"
     ]
    },
    {
     "name": "stderr",
     "output_type": "stream",
     "text": [
      "Train: Loss=0.0268 Batch_id=468 Accuracy=99.21: 100%|██████████| 469/469 [00:46<00:00, 10.11it/s]\n"
     ]
    },
    {
     "name": "stdout",
     "output_type": "stream",
     "text": [
      "Test set: Average loss: 0.0211, Accuracy: 9933/10000 (99.33%)\n",
      "\n",
      "Adjusting learning rate of group 0 to 1.0000e-02.\n",
      "Epoch 12\n"
     ]
    },
    {
     "name": "stderr",
     "output_type": "stream",
     "text": [
      "Train: Loss=0.0061 Batch_id=468 Accuracy=99.28: 100%|██████████| 469/469 [00:46<00:00, 10.10it/s]\n"
     ]
    },
    {
     "name": "stdout",
     "output_type": "stream",
     "text": [
      "Test set: Average loss: 0.0219, Accuracy: 9927/10000 (99.27%)\n",
      "\n",
      "Adjusting learning rate of group 0 to 1.0000e-02.\n",
      "Epoch 13\n"
     ]
    },
    {
     "name": "stderr",
     "output_type": "stream",
     "text": [
      "Train: Loss=0.0305 Batch_id=468 Accuracy=99.28: 100%|██████████| 469/469 [00:48<00:00,  9.70it/s]\n"
     ]
    },
    {
     "name": "stdout",
     "output_type": "stream",
     "text": [
      "Test set: Average loss: 0.0235, Accuracy: 9932/10000 (99.32%)\n",
      "\n",
      "Adjusting learning rate of group 0 to 1.0000e-02.\n",
      "Epoch 14\n"
     ]
    },
    {
     "name": "stderr",
     "output_type": "stream",
     "text": [
      "Train: Loss=0.0164 Batch_id=468 Accuracy=99.31: 100%|██████████| 469/469 [00:47<00:00,  9.97it/s]\n"
     ]
    },
    {
     "name": "stdout",
     "output_type": "stream",
     "text": [
      "Test set: Average loss: 0.0241, Accuracy: 9914/10000 (99.14%)\n",
      "\n",
      "Adjusting learning rate of group 0 to 1.0000e-02.\n",
      "Epoch 15\n"
     ]
    },
    {
     "name": "stderr",
     "output_type": "stream",
     "text": [
      "Train: Loss=0.0033 Batch_id=468 Accuracy=99.39: 100%|██████████| 469/469 [00:46<00:00, 10.09it/s]\n"
     ]
    },
    {
     "name": "stdout",
     "output_type": "stream",
     "text": [
      "Test set: Average loss: 0.0255, Accuracy: 9921/10000 (99.21%)\n",
      "\n",
      "Adjusting learning rate of group 0 to 1.0000e-03.\n",
      "Epoch 16\n"
     ]
    },
    {
     "name": "stderr",
     "output_type": "stream",
     "text": [
      "Train: Loss=0.0022 Batch_id=468 Accuracy=99.56: 100%|██████████| 469/469 [00:46<00:00, 10.07it/s]\n"
     ]
    },
    {
     "name": "stdout",
     "output_type": "stream",
     "text": [
      "Test set: Average loss: 0.0176, Accuracy: 9944/10000 (99.44%)\n",
      "\n",
      "Adjusting learning rate of group 0 to 1.0000e-03.\n",
      "Epoch 17\n"
     ]
    },
    {
     "name": "stderr",
     "output_type": "stream",
     "text": [
      "Train: Loss=0.0010 Batch_id=468 Accuracy=99.65: 100%|██████████| 469/469 [00:46<00:00, 10.07it/s]\n"
     ]
    },
    {
     "name": "stdout",
     "output_type": "stream",
     "text": [
      "Test set: Average loss: 0.0170, Accuracy: 9944/10000 (99.44%)\n",
      "\n",
      "Adjusting learning rate of group 0 to 1.0000e-03.\n",
      "Epoch 18\n"
     ]
    },
    {
     "name": "stderr",
     "output_type": "stream",
     "text": [
      "Train: Loss=0.0072 Batch_id=468 Accuracy=99.65: 100%|██████████| 469/469 [00:46<00:00, 10.05it/s]\n"
     ]
    },
    {
     "name": "stdout",
     "output_type": "stream",
     "text": [
      "Test set: Average loss: 0.0172, Accuracy: 9944/10000 (99.44%)\n",
      "\n",
      "Adjusting learning rate of group 0 to 1.0000e-03.\n",
      "Epoch 19\n"
     ]
    },
    {
     "name": "stderr",
     "output_type": "stream",
     "text": [
      "Train: Loss=0.0007 Batch_id=468 Accuracy=99.66: 100%|██████████| 469/469 [00:46<00:00, 10.09it/s]\n"
     ]
    },
    {
     "name": "stdout",
     "output_type": "stream",
     "text": [
      "Test set: Average loss: 0.0170, Accuracy: 9944/10000 (99.44%)\n",
      "\n",
      "Adjusting learning rate of group 0 to 1.0000e-03.\n",
      "Epoch 20\n"
     ]
    },
    {
     "name": "stderr",
     "output_type": "stream",
     "text": [
      "Train: Loss=0.0009 Batch_id=468 Accuracy=99.66: 100%|██████████| 469/469 [00:46<00:00, 10.09it/s]\n"
     ]
    },
    {
     "name": "stdout",
     "output_type": "stream",
     "text": [
      "Test set: Average loss: 0.0165, Accuracy: 9945/10000 (99.45%)\n",
      "\n",
      "Adjusting learning rate of group 0 to 1.0000e-03.\n"
     ]
    }
   ],
   "source": [
    "optimizer = optim.SGD(model.parameters(), lr=0.01, momentum=0.9)\n",
    "scheduler = optim.lr_scheduler.StepLR(optimizer, step_size=15, gamma=0.1, verbose=True)\n",
    "# New Line\n",
    "criterion = F.cross_entropy\n",
    "num_epochs = 20\n",
    "\n",
    "for epoch in range(1, num_epochs+1):\n",
    "  print(f'Epoch {epoch}')\n",
    "  train(model, device, train_loader, optimizer, criterion)\n",
    "  test(model, device, test_loader, criterion)\n",
    "  scheduler.step()"
   ]
  },
  {
   "cell_type": "markdown",
   "metadata": {
    "id": "B-LM-Z1k6FcF"
   },
   "source": [
    "CODE BLOCK: 11"
   ]
  },
  {
   "cell_type": "code",
   "execution_count": 16,
   "metadata": {
    "colab": {
     "base_uri": "https://localhost:8080/",
     "height": 871
    },
    "id": "Wu0l7dli4eC9",
    "outputId": "cd1fcdab-0c0f-41dc-d1c9-6b80f9eb7915"
   },
   "outputs": [
    {
     "data": {
      "image/png": "[encoded data removed]",
      "text/plain": [
       "<Figure size 1500x1000 with 4 Axes>"
      ]
     },
     "metadata": {},
     "output_type": "display_data"
    }
   ],
   "source": [
    "fig, axs = plt.subplots(2,2,figsize=(15,10))\n",
    "axs[0, 0].plot(train_losses)\n",
    "axs[0, 0].set_title(\"Training Loss\")\n",
    "axs[1, 0].plot(train_acc)\n",
    "axs[1, 0].set_title(\"Training Accuracy\")\n",
    "axs[0, 1].plot(test_losses)\n",
    "axs[0, 1].set_title(\"Test Loss\")\n",
    "axs[1, 1].plot(test_acc)\n",
    "axs[1, 1].set_title(\"Test Accuracy\")\n",
    "plt.show()"
   ]
  }
 ],
 "metadata": {
  "accelerator": "GPU",
  "colab": {
   "gpuType": "T4",
   "provenance": []
  },
  "gpuClass": "standard",
  "kernelspec": {
   "display_name": "Python 3 (ipykernel)",
   "language": "python",
   "name": "python3"
  },
  "language_info": {
   "codemirror_mode": {
    "name": "ipython",
    "version": 3
   },
   "file_extension": ".py",
   "mimetype": "text/x-python",
   "name": "python",
   "nbconvert_exporter": "python",
   "pygments_lexer": "ipython3",
   "version": "3.11.4"
  }
 },
 "nbformat": 4,
 "nbformat_minor": 4
}
