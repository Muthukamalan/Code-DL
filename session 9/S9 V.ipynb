{
 "cells": [
  {
   "cell_type": "code",
   "execution_count": null,
   "id": "94fe698c-7b38-44ba-87ab-0eaea78f2193",
   "metadata": {},
   "outputs": [],
   "source": [
    "import numpy as np\n",
    "from torch import nn\n",
    "from torch.nn import functional as F\n",
    "import torch\n",
    "from torch import optim\n",
    "from torchvision import datasets,transforms\n",
    "from torchinfo import summary\n",
    "import albumentations as A\n",
    "from albumentations.pytorch import ToTensorV2\n",
    "\n",
    "from transformations import (train_transforms,test_transforms,no_transforms)\n",
    "\n",
    "from trainer import Trainer\n",
    "from tester import Tester\n",
    "from utlis import visualize_data,show_misclassified_images,device,is_cuda\n",
    "from viz import plot_class_distribution, plot_confusion_matrix, plot_curves\n",
    "from dataloader import CIFAR10Dataset,CIFAR10DataLoader\n",
    "from models import ConvLayer,TransBlock,DepthwiseConvLayer\n",
    "\n",
    "\n",
    "# Augmentation\n",
    "atrain_dataset = CIFAR10Dataset(root='../data/',train=True,Atransforms=train_transforms,download=False)\n",
    "atest_dataset  = CIFAR10Dataset(root='../data/',train=False,Atransforms=test_transforms,download=False)\n",
    "acifar = CIFAR10DataLoader(batch_size=512,is_cuda_available=True)\n",
    "atrain_loader, atest_loader = acifar.get_loader(atrain_dataset,atest_dataset)\n",
    "\n",
    "\n",
    "# No Augmentation\n",
    "train_dataset = CIFAR10Dataset(root='../data/',train=True,Atransforms=no_transforms,download=False)\n",
    "test_dataset  = CIFAR10Dataset(root='../data/',train=False,Atransforms=no_transforms,download=False)\n",
    "cifar = CIFAR10DataLoader(batch_size=512,is_cuda_available=True)\n",
    "train_loader, test_loader = cifar.get_loader(train_dataset,test_dataset)"
   ]
  },
  {
   "cell_type": "code",
   "execution_count": null,
   "id": "9212042e-ea35-4efb-9ff3-ed8a0f5218e7",
   "metadata": {},
   "outputs": [],
   "source": [
    "visualize_data(atrain_loader,classes=acifar.classes,num_figures=24)"
   ]
  },
  {
   "cell_type": "code",
   "execution_count": null,
   "id": "1ac89ed5-cdec-4269-be44-e563b9239586",
   "metadata": {},
   "outputs": [],
   "source": [
    "visualize_data(train_loader,classes=acifar.classes,num_figures=24)"
   ]
  },
  {
   "cell_type": "code",
   "execution_count": null,
   "id": "0de0c1b5-05ac-43db-a544-3919d2832e59",
   "metadata": {},
   "outputs": [],
   "source": [
    "class Net(nn.Module):\n",
    "    def __init__(self):\n",
    "        super().__init__(self)\n",
    "        pass\n",
    "    def forward(self,x):\n",
    "        return F.log_softmax(x.view(-1,10), dim=1)\n",
    "\n",
    "model = Net()\n",
    "summary(model,input_size=(1,3,32,32),device=deice)"
   ]
  },
  {
   "cell_type": "code",
   "execution_count": null,
   "id": "f53239f5-6e54-48f8-b543-41dfa58a71db",
   "metadata": {},
   "outputs": [],
   "source": [
    "prev_test_loss = float('inf')\n",
    "\n",
    "optimizer = optim.SGD(params=model.parameters(), lr=0.1, momentum=0.9)\n",
    "scheduler = optim.lr_scheduler.ReduceLROnPlateau(optimizer=optimizer,mode='min',factor=0.1,patience=3)\n",
    "criterion = nn.NLLLoss()\n",
    "trainer = Trainer(model=model, train_loader=atrain_loader, optimizer=optimizer, criterion=criterion, device=device)\n",
    "tester = Tester(model=model, test_loader=atest_loader,criterion=criterion, device=device)\n",
    "\n",
    "for epoch in range(1, 51):\n",
    "    trainer.train(epoch=epoch)\n",
    "    _,test_loss = tester.test()\n",
    "    if prev_test_loss>test_loss:\n",
    "        torch.save(obj=model.state_dict(),f='./bmodels/model.pth')\n",
    "    scheduler.step(test_loss)"
   ]
  },
  {
   "cell_type": "code",
   "execution_count": null,
   "id": "9edab604-23ea-4bf2-9a28-05a309bb7892",
   "metadata": {},
   "outputs": [],
   "source": [
    "plot_curves(trainer.train_losses,trainer.train_accuracies,tester.test_losses,tester.test_accuracies)"
   ]
  },
  {
   "cell_type": "code",
   "execution_count": null,
   "id": "ae38b7cd-287b-47fd-b6d6-c42e816b2792",
   "metadata": {},
   "outputs": [],
   "source": [
    "images, predictions, labels =  tester.get_misclassified_images()\n",
    "show_misclassified_images(images[:15],predictions[:15],labels[:15],cifar.classes)\n",
    "plot_class_distribution(train_loader,cifar.classes)\n",
    "plot_confusion_matrix(model,test_loader,device,cifar.classes)"
   ]
  }
 ],
 "metadata": {
  "kernelspec": {
   "display_name": "Python 3 (ipykernel)",
   "language": "python",
   "name": "python3"
  },
  "language_info": {
   "codemirror_mode": {
    "name": "ipython",
    "version": 3
   },
   "file_extension": ".py",
   "mimetype": "text/x-python",
   "name": "python",
   "nbconvert_exporter": "python",
   "pygments_lexer": "ipython3",
   "version": "3.11.4"
  }
 },
 "nbformat": 4,
 "nbformat_minor": 5
}
