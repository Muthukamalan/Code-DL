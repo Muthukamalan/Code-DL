{
 "cells": [
  {
   "cell_type": "code",
   "execution_count": 1,
   "id": "8bf359bd-67be-484d-a08a-3be9469f841d",
   "metadata": {
    "scrolled": true
   },
   "outputs": [
    {
     "name": "stdout",
     "output_type": "stream",
     "text": [
      "Sat Oct 21 14:53:48 2023       \n",
      "+---------------------------------------------------------------------------------------+\n",
      "| NVIDIA-SMI 536.67                 Driver Version: 536.67       CUDA Version: 12.2     |\n",
      "|-----------------------------------------+----------------------+----------------------+\n",
      "| GPU  Name                     TCC/WDDM  | Bus-Id        Disp.A | Volatile Uncorr. ECC |\n",
      "| Fan  Temp   Perf          Pwr:Usage/Cap |         Memory-Usage | GPU-Util  Compute M. |\n",
      "|                                         |                      |               MIG M. |\n",
      "|=========================================+======================+======================|\n",
      "|   0  NVIDIA GeForce RTX 4050 ...  WDDM  | 00000000:01:00.0 Off |                  N/A |\n",
      "| N/A   41C    P0              17W / 136W |      0MiB /  6141MiB |      0%      Default |\n",
      "|                                         |                      |                  N/A |\n",
      "+-----------------------------------------+----------------------+----------------------+\n",
      "                                                                                         \n",
      "+---------------------------------------------------------------------------------------+\n",
      "| Processes:                                                                            |\n",
      "|  GPU   GI   CI        PID   Type   Process name                            GPU Memory |\n",
      "|        ID   ID                                                             Usage      |\n",
      "|=======================================================================================|\n",
      "|  No running processes found                                                           |\n",
      "+---------------------------------------------------------------------------------------+\n"
     ]
    }
   ],
   "source": [
    "!nvidia-smi"
   ]
  },
  {
   "cell_type": "code",
   "execution_count": 2,
   "id": "9f452fae-095c-4719-890d-a788e5b7cc1d",
   "metadata": {},
   "outputs": [],
   "source": [
    "import numpy as np\n",
    "from torch import nn\n",
    "from torch.nn import functional as F\n",
    "import torch\n",
    "from torch import optim\n",
    "from torchvision import datasets,transforms\n",
    "from torchinfo import summary"
   ]
  },
  {
   "cell_type": "code",
   "execution_count": 3,
   "id": "94c5adb5-3555-4215-87f8-e0cc33fbff74",
   "metadata": {},
   "outputs": [],
   "source": [
    "from transformations import test_transforms #train_transforms"
   ]
  },
  {
   "cell_type": "code",
   "execution_count": 4,
   "id": "1178d989-481f-4c92-9274-2247bcf8a605",
   "metadata": {},
   "outputs": [],
   "source": [
    "from trainer import Trainer\n",
    "from tester import Tester\n",
    "from utlis import visualize_data,show_misclassified_images,device,is_cuda\n",
    "from viz import plot_class_distribution, plot_confusion_matrix, plot_curves\n",
    "from dataloader import CIFAR10Dataset,CIFAR10DataLoader\n",
    "from models import ConvLayer,TransBlock,DepthwiseConvLayer"
   ]
  },
  {
   "cell_type": "code",
   "execution_count": 5,
   "id": "bc4971c5-f3aa-4603-bea9-19b1e8eacb5d",
   "metadata": {},
   "outputs": [],
   "source": [
    "# ALbumentation\n",
    "import albumentations as A\n",
    "from albumentations.pytorch import ToTensorV2\n",
    "\n",
    "train_transforms = A.Compose([\n",
    "    A.HorizontalFlip(always_apply=False,p=0.5),\n",
    "    A.ShiftScaleRotate(shift_limit=0.0625, scale_limit=0.1, rotate_limit=45, mask_value=(0.4914, 0.4822, 0.4465), always_apply=False,p=0.5,),\n",
    "    A.CoarseDropout( max_holes= 2,max_height = 8,max_width = 8,min_holes= 2,min_height = 8,min_width= 8,mask_fill_value = (0.4914, 0.4822, 0.4465),always_apply = False, p= 0.7),\n",
    "    A.Normalize(mean=(0.4914, 0.4822, 0.4465),std=(0.2470, 0.2435, 0.2616),p=1),\n",
    "    ToTensorV2(),\n",
    "])\n",
    "\n",
    "atrain_dataset = CIFAR10Dataset(root='../data/',train=True,Atransforms=train_transforms,download=False)\n",
    "atest_dataset  = CIFAR10Dataset(root='../data/',train=False,Atransforms=test_transforms,download=False)\n",
    "\n",
    "acifar = CIFAR10DataLoader(batch_size=512,is_cuda_available=True)\n",
    "atrain_loader, atest_loader = acifar.get_loader(atrain_dataset,atest_dataset)"
   ]
  },
  {
   "cell_type": "code",
   "execution_count": 6,
   "id": "bd83658e-2e12-4704-934e-443b9139a5e7",
   "metadata": {},
   "outputs": [],
   "source": [
    "# # GET Train Loader\n",
    "\n",
    "# train_dataset = CIFAR10Dataset(root='../data/',train=True,Atransforms=test_transforms,download=False)\n",
    "# test_dataset  = CIFAR10Dataset(root='../data/',train=False,Atransforms=test_transforms,download=False)\n",
    "\n",
    "# cifar = CIFAR10DataLoader(batch_size=512,is_cuda_available=True)\n",
    "# train_loader, test_loader = cifar.get_loader(train_dataset,test_dataset)"
   ]
  },
  {
   "cell_type": "code",
   "execution_count": 7,
   "id": "1d0c6af3-176a-4c92-a8bc-90e85cd3894d",
   "metadata": {},
   "outputs": [
    {
     "name": "stderr",
     "output_type": "stream",
     "text": [
      "C:\\Users\\muthu\\Documents\\TSAI\\session 9\\utlis.py:44: UserWarning: The figure layout has changed to tight\n",
      "  plt.tight_layout()\n"
     ]
    },
    {
     "data": {
      "image/png": "[encoded data removed]",
      "text/plain": [
       "<Figure size 640x480 with 24 Axes>"
      ]
     },
     "metadata": {},
     "output_type": "display_data"
    }
   ],
   "source": [
    "visualize_data(atrain_loader,classes=acifar.classes,num_figures=24)"
   ]
  },
  {
   "cell_type": "code",
   "execution_count": 8,
   "id": "2222e150-fc7b-4e2d-92a8-348b7b69ddba",
   "metadata": {
    "scrolled": true
   },
   "outputs": [
    {
     "data": {
      "text/plain": [
       "==========================================================================================\n",
       "Layer (type:depth-idx)                   Output Shape              Param #\n",
       "==========================================================================================\n",
       "Net9                                     [1, 10]                   --\n",
       "├─Sequential: 1-1                        [1, 16, 32, 32]           --\n",
       "│    └─Conv2d: 2-1                       [1, 3, 32, 32]            27\n",
       "│    └─Conv2d: 2-2                       [1, 16, 32, 32]           48\n",
       "│    └─ReLU: 2-3                         [1, 16, 32, 32]           --\n",
       "│    └─BatchNorm2d: 2-4                  [1, 16, 32, 32]           32\n",
       "│    └─Dropout2d: 2-5                    [1, 16, 32, 32]           --\n",
       "├─Sequential: 1-2                        [1, 16, 32, 32]           --\n",
       "│    └─Conv2d: 2-6                       [1, 16, 32, 32]           144\n",
       "│    └─Conv2d: 2-7                       [1, 16, 32, 32]           256\n",
       "│    └─ReLU: 2-8                         [1, 16, 32, 32]           --\n",
       "│    └─BatchNorm2d: 2-9                  [1, 16, 32, 32]           32\n",
       "│    └─Dropout2d: 2-10                   [1, 16, 32, 32]           --\n",
       "├─Sequential: 1-3                        [1, 16, 32, 32]           --\n",
       "│    └─Conv2d: 2-11                      [1, 16, 32, 32]           144\n",
       "│    └─Conv2d: 2-12                      [1, 16, 32, 32]           256\n",
       "│    └─ReLU: 2-13                        [1, 16, 32, 32]           --\n",
       "│    └─BatchNorm2d: 2-14                 [1, 16, 32, 32]           32\n",
       "│    └─Dropout2d: 2-15                   [1, 16, 32, 32]           --\n",
       "├─Sequential: 1-4                        [1, 8, 32, 32]            --\n",
       "│    └─Conv2d: 2-16                      [1, 8, 32, 32]            128\n",
       "├─Sequential: 1-5                        [1, 32, 32, 32]           --\n",
       "│    └─Conv2d: 2-17                      [1, 8, 32, 32]            72\n",
       "│    └─Conv2d: 2-18                      [1, 32, 32, 32]           256\n",
       "│    └─ReLU: 2-19                        [1, 32, 32, 32]           --\n",
       "│    └─BatchNorm2d: 2-20                 [1, 32, 32, 32]           64\n",
       "│    └─Dropout2d: 2-21                   [1, 32, 32, 32]           --\n",
       "├─Sequential: 1-6                        [1, 32, 32, 32]           --\n",
       "│    └─Conv2d: 2-22                      [1, 32, 32, 32]           288\n",
       "│    └─Conv2d: 2-23                      [1, 32, 32, 32]           1,024\n",
       "│    └─ReLU: 2-24                        [1, 32, 32, 32]           --\n",
       "│    └─BatchNorm2d: 2-25                 [1, 32, 32, 32]           64\n",
       "│    └─Dropout2d: 2-26                   [1, 32, 32, 32]           --\n",
       "├─Sequential: 1-7                        [1, 32, 32, 32]           --\n",
       "│    └─Conv2d: 2-27                      [1, 32, 32, 32]           288\n",
       "│    └─Conv2d: 2-28                      [1, 32, 32, 32]           1,024\n",
       "│    └─ReLU: 2-29                        [1, 32, 32, 32]           --\n",
       "│    └─BatchNorm2d: 2-30                 [1, 32, 32, 32]           64\n",
       "│    └─Dropout2d: 2-31                   [1, 32, 32, 32]           --\n",
       "├─Sequential: 1-8                        [1, 24, 32, 32]           --\n",
       "│    └─Conv2d: 2-32                      [1, 24, 32, 32]           768\n",
       "├─Sequential: 1-9                        [1, 40, 32, 32]           --\n",
       "│    └─Conv2d: 2-33                      [1, 24, 32, 32]           216\n",
       "│    └─Conv2d: 2-34                      [1, 40, 32, 32]           960\n",
       "│    └─ReLU: 2-35                        [1, 40, 32, 32]           --\n",
       "│    └─BatchNorm2d: 2-36                 [1, 40, 32, 32]           80\n",
       "│    └─Dropout2d: 2-37                   [1, 40, 32, 32]           --\n",
       "├─Sequential: 1-10                       [1, 40, 32, 32]           --\n",
       "│    └─Conv2d: 2-38                      [1, 40, 32, 32]           360\n",
       "│    └─Conv2d: 2-39                      [1, 40, 32, 32]           1,600\n",
       "│    └─ReLU: 2-40                        [1, 40, 32, 32]           --\n",
       "│    └─BatchNorm2d: 2-41                 [1, 40, 32, 32]           80\n",
       "│    └─Dropout2d: 2-42                   [1, 40, 32, 32]           --\n",
       "├─Sequential: 1-11                       [1, 40, 32, 32]           --\n",
       "│    └─Conv2d: 2-43                      [1, 40, 32, 32]           360\n",
       "│    └─Conv2d: 2-44                      [1, 40, 32, 32]           1,600\n",
       "│    └─ReLU: 2-45                        [1, 40, 32, 32]           --\n",
       "│    └─BatchNorm2d: 2-46                 [1, 40, 32, 32]           80\n",
       "│    └─Dropout2d: 2-47                   [1, 40, 32, 32]           --\n",
       "├─Sequential: 1-12                       [1, 10, 32, 32]           --\n",
       "│    └─Conv2d: 2-48                      [1, 10, 32, 32]           400\n",
       "├─AdaptiveAvgPool2d: 1-13                [1, 10, 1, 1]             --\n",
       "==========================================================================================\n",
       "Total params: 10,747\n",
       "Trainable params: 10,747\n",
       "Non-trainable params: 0\n",
       "Total mult-adds (Units.MEGABYTES): 10.46\n",
       "==========================================================================================\n",
       "Input size (MB): 0.01\n",
       "Forward/backward pass size (MB): 6.40\n",
       "Params size (MB): 0.04\n",
       "Estimated Total Size (MB): 6.45\n",
       "=========================================================================================="
      ]
     },
     "execution_count": 8,
     "metadata": {},
     "output_type": "execute_result"
    }
   ],
   "source": [
    "class Net9(nn.Module):\n",
    "        def __init__(self,sequeeze_channels:list,dp_rate=0.1):\n",
    "            super(Net9,self).__init__()\n",
    "            self.dp_rate=dp_rate\n",
    "\n",
    "            self.C11 =  nn.Sequential(\n",
    "                        nn.Conv2d(in_channels=sequeeze_channels[0] ,out_channels=sequeeze_channels[0],groups=sequeeze_channels[0], kernel_size=3,bias=False,padding=1,stride=1),\n",
    "                        nn.Conv2d(in_channels=sequeeze_channels[0], out_channels=sequeeze_channels[2], kernel_size=1,padding=0,bias=False),\n",
    "                        # nn.Conv2d(\n",
    "                        #     in_channels=sequeeze_channels[0],\n",
    "                        #     out_channels=sequeeze_channels[2],\n",
    "                        #     kernel_size=3,stride=1,padding=1,bias=False),\n",
    "                        nn.ReLU(inplace=True),\n",
    "                        nn.BatchNorm2d(sequeeze_channels[2]),\n",
    "                        nn.Dropout2d(self.dp_rate)\n",
    "                    )\n",
    "\n",
    "            self.C12 = nn.Sequential(\n",
    "                        nn.Conv2d(in_channels=sequeeze_channels[2] ,out_channels=sequeeze_channels[2],groups=sequeeze_channels[2], kernel_size=3,bias=False,padding=1,stride=1),\n",
    "                        nn.Conv2d(in_channels=sequeeze_channels[2], out_channels=sequeeze_channels[2], kernel_size=1,padding=0,bias=False),\n",
    "                        \n",
    "                        # nn.Conv2d(\n",
    "                        #     in_channels=sequeeze_channels[2],\n",
    "                        #     out_channels=sequeeze_channels[2],\n",
    "                        #     kernel_size=3,stride=1,padding=1,bias=False),\n",
    "                        nn.ReLU(inplace=True),\n",
    "                        nn.BatchNorm2d(sequeeze_channels[2]),\n",
    "                        nn.Dropout2d(self.dp_rate)\n",
    "                    )\n",
    "            self.C13 = nn.Sequential(\n",
    "                        nn.Conv2d(in_channels=sequeeze_channels[2] ,out_channels=sequeeze_channels[2],groups=sequeeze_channels[2], kernel_size=3,bias=False,padding=1,stride=1),\n",
    "                        nn.Conv2d(in_channels=sequeeze_channels[2], out_channels=sequeeze_channels[2], kernel_size=1,padding=0,bias=False),\n",
    "                        # nn.Conv2d(in_channels=sequeeze_channels[2],\n",
    "                        #           out_channels=sequeeze_channels[2],\n",
    "                        #           kernel_size=3,stride=2,padding=1,bias=False),\n",
    "                        nn.ReLU(inplace=True),\n",
    "                        nn.BatchNorm2d(sequeeze_channels[2]),\n",
    "                        nn.Dropout2d(self.dp_rate)\n",
    "                    )\n",
    "            self.T11 = nn.Sequential(\n",
    "                nn.Conv2d(in_channels=sequeeze_channels[2],out_channels=sequeeze_channels[1],kernel_size=1,stride=1,bias=False,dilation=1)\n",
    "            )\n",
    "\n",
    "\n",
    "            self.C21  = nn.Sequential(\n",
    "                        nn.Conv2d(in_channels=sequeeze_channels[1],out_channels=sequeeze_channels[1],groups=sequeeze_channels[1],kernel_size=3,bias=False,padding=1,stride=1),\n",
    "                        nn.Conv2d(in_channels=sequeeze_channels[1],out_channels=sequeeze_channels[4],kernel_size=1,padding=0,bias=False),\n",
    "                        # nn.Conv2d(in_channels=sequeeze_channels[1],out_channels=sequeeze_channels[4],kernel_size=3,stride=1,padding=1,bias=False),\n",
    "                        nn.ReLU(inplace=True),\n",
    "                        nn.BatchNorm2d(sequeeze_channels[4]),\n",
    "                        nn.Dropout2d(self.dp_rate)\n",
    "            )\n",
    "            self.C22 =  nn.Sequential(\n",
    "                        nn.Conv2d(in_channels=sequeeze_channels[4],out_channels=sequeeze_channels[4],groups=sequeeze_channels[4],kernel_size=3,bias=False,padding=1,stride=1),\n",
    "                        nn.Conv2d(in_channels=sequeeze_channels[4],out_channels=sequeeze_channels[4],kernel_size=1,padding=0,bias=False),\n",
    "                        # nn.Conv2d(in_channels=sequeeze_channels[4],out_channels=sequeeze_channels[4],kernel_size=3,stride=1,padding=1,bias=False),\n",
    "                        nn.ReLU(inplace=True),\n",
    "                        nn.BatchNorm2d(sequeeze_channels[4]),\n",
    "                        nn.Dropout2d(self.dp_rate)\n",
    "            )\n",
    "            self.C23 =  nn.Sequential(\n",
    "                        nn.Conv2d(in_channels=sequeeze_channels[4],out_channels=sequeeze_channels[4],groups=sequeeze_channels[4],kernel_size=3,bias=False,padding=1,stride=1),\n",
    "                        nn.Conv2d(in_channels=sequeeze_channels[4],out_channels=sequeeze_channels[4],kernel_size=1,padding=0,bias=False),\n",
    "                        # nn.Conv2d(in_channels=sequeeze_channels[4],out_channels=sequeeze_channels[4],kernel_size=3,stride=2,padding=1,bias=False),\n",
    "                        nn.ReLU(inplace=True),\n",
    "                        nn.BatchNorm2d(sequeeze_channels[4]),\n",
    "                        nn.Dropout2d(self.dp_rate)\n",
    "            )\n",
    "            self.T21 = nn.Sequential(nn.Conv2d(in_channels=sequeeze_channels[4],out_channels=sequeeze_channels[3],kernel_size=1,stride=1,bias=False,dilation=2))\n",
    "\n",
    "            \n",
    "            self.C31  = nn.Sequential(\n",
    "                        nn.Conv2d(in_channels=sequeeze_channels[3],out_channels=sequeeze_channels[3],groups=sequeeze_channels[3],kernel_size=3,bias=False,padding=1,stride=1),\n",
    "                        nn.Conv2d(in_channels=sequeeze_channels[3],out_channels=sequeeze_channels[5],kernel_size=1,padding=0,bias=False),\n",
    "                        # nn.Conv2d(in_channels=sequeeze_channels[3],out_channels=sequeeze_channels[5],kernel_size=3,stride=1,padding=1,bias=False),\n",
    "                        nn.ReLU(inplace=True),\n",
    "                        nn.BatchNorm2d(sequeeze_channels[5]),\n",
    "                        nn.Dropout2d(self.dp_rate)\n",
    "            )\n",
    "            self.C32  =  nn.Sequential(\n",
    "                        nn.Conv2d(in_channels=sequeeze_channels[5],out_channels=sequeeze_channels[5],groups=sequeeze_channels[5],kernel_size=3,bias=False,padding=1,stride=1),\n",
    "                        nn.Conv2d(in_channels=sequeeze_channels[5],out_channels=sequeeze_channels[5],kernel_size=1,padding=0,bias=False),\n",
    "                        # nn.Conv2d(in_channels=sequeeze_channels[5],out_channels=sequeeze_channels[5],kernel_size=3,stride=1,padding=1,bias=False),\n",
    "                        nn.ReLU(inplace=True),\n",
    "                        nn.BatchNorm2d(sequeeze_channels[5]),\n",
    "                        nn.Dropout2d(self.dp_rate)\n",
    "            )\n",
    "            self.C33 =  nn.Sequential(\n",
    "                        nn.Conv2d(in_channels=sequeeze_channels[5],out_channels=sequeeze_channels[5],groups=sequeeze_channels[5],kernel_size=3,bias=False,padding=1,stride=1),\n",
    "                        nn.Conv2d(in_channels=sequeeze_channels[5],out_channels=sequeeze_channels[5],kernel_size=1,padding=0,bias=False),\n",
    "                        # nn.Conv2d(in_channels=sequeeze_channels[5],out_channels=sequeeze_channels[5],kernel_size=3,stride=2,padding=1,bias=False),\n",
    "                        nn.ReLU(inplace=True),\n",
    "                        nn.BatchNorm2d(sequeeze_channels[5]),\n",
    "                        nn.Dropout2d(self.dp_rate)\n",
    "            )\n",
    "            self.T31 = nn.Sequential(\n",
    "                        nn.Conv2d(in_channels=sequeeze_channels[5],out_channels=sequeeze_channels[6],kernel_size=1,stride=1,bias=False,dilation=3)\n",
    "            )           \n",
    "            self.gap = nn.AdaptiveAvgPool2d(output_size=1)\n",
    "            \n",
    "        def forward(self,x):\n",
    "            x = self.C11(x)\n",
    "            x = x+self.C12(x)            \n",
    "            x = self.C13(x)\n",
    "            x = self.T11(x)\n",
    "            \n",
    "            x = self.C21(x)\n",
    "            x = x+self.C22(x)\n",
    "            x = self.C23(x)\n",
    "            x = self.T21(x)\n",
    "            \n",
    "            \n",
    "            x = self.C31(x)\n",
    "            x = x+self.C32(x)\n",
    "            x = self.C33(x)\n",
    "            x = self.T31(x)\n",
    "\n",
    "            x = self.gap(x)\n",
    "            return F.log_softmax(x.view(-1,10), dim=1)\n",
    "\n",
    "model9 = Net9(sequeeze_channels=[3,8,16,24,32,40,10],dp_rate=0.15)\n",
    "summary(model9,(1,3,32,32))"
   ]
  },
  {
   "cell_type": "code",
   "execution_count": 9,
   "id": "e6030c3f-6864-4985-9825-b811ee55082d",
   "metadata": {
    "scrolled": true
   },
   "outputs": [
    {
     "name": "stderr",
     "output_type": "stream",
     "text": [
      "EPOCH = 1 | LR = 0.1 | Loss = 1.83 | Batch = 97 | Accuracy = 22.28: 100%|███| 98/98 [00:36<00:00,  2.70it/s]\n"
     ]
    },
    {
     "name": "stdout",
     "output_type": "stream",
     "text": [
      "Test set: Average loss: 0.0035, Accuracy: 3124/10000 (31.24%)\n"
     ]
    },
    {
     "name": "stderr",
     "output_type": "stream",
     "text": [
      "EPOCH = 2 | LR = 0.1 | Loss = 1.78 | Batch = 97 | Accuracy = 28.97: 100%|███| 98/98 [00:42<00:00,  2.29it/s]\n"
     ]
    },
    {
     "name": "stdout",
     "output_type": "stream",
     "text": [
      "Test set: Average loss: 0.0034, Accuracy: 3514/10000 (35.14%)\n"
     ]
    },
    {
     "name": "stderr",
     "output_type": "stream",
     "text": [
      "EPOCH = 3 | LR = 0.1 | Loss = 1.74 | Batch = 97 | Accuracy = 31.69: 100%|███| 98/98 [00:42<00:00,  2.29it/s]\n"
     ]
    },
    {
     "name": "stdout",
     "output_type": "stream",
     "text": [
      "Test set: Average loss: 0.0033, Accuracy: 3852/10000 (38.52%)\n"
     ]
    },
    {
     "name": "stderr",
     "output_type": "stream",
     "text": [
      "EPOCH = 4 | LR = 0.1 | Loss = 1.65 | Batch = 97 | Accuracy = 34.26: 100%|███| 98/98 [00:41<00:00,  2.39it/s]\n"
     ]
    },
    {
     "name": "stdout",
     "output_type": "stream",
     "text": [
      "Test set: Average loss: 0.0031, Accuracy: 4079/10000 (40.79%)\n"
     ]
    },
    {
     "name": "stderr",
     "output_type": "stream",
     "text": [
      "EPOCH = 5 | LR = 0.1 | Loss = 1.74 | Batch = 97 | Accuracy = 35.89: 100%|███| 98/98 [00:41<00:00,  2.36it/s]\n"
     ]
    },
    {
     "name": "stdout",
     "output_type": "stream",
     "text": [
      "Test set: Average loss: 0.0030, Accuracy: 4568/10000 (45.68%)\n"
     ]
    },
    {
     "name": "stderr",
     "output_type": "stream",
     "text": [
      "EPOCH = 6 | LR = 0.1 | Loss = 1.57 | Batch = 97 | Accuracy = 37.47: 100%|███| 98/98 [00:42<00:00,  2.29it/s]\n"
     ]
    },
    {
     "name": "stdout",
     "output_type": "stream",
     "text": [
      "Test set: Average loss: 0.0030, Accuracy: 4324/10000 (43.24%)\n"
     ]
    },
    {
     "name": "stderr",
     "output_type": "stream",
     "text": [
      "EPOCH = 7 | LR = 0.1 | Loss = 1.64 | Batch = 97 | Accuracy = 38.37: 100%|███| 98/98 [00:41<00:00,  2.39it/s]\n"
     ]
    },
    {
     "name": "stdout",
     "output_type": "stream",
     "text": [
      "Test set: Average loss: 0.0029, Accuracy: 4542/10000 (45.42%)\n"
     ]
    },
    {
     "name": "stderr",
     "output_type": "stream",
     "text": [
      "EPOCH = 8 | LR = 0.1 | Loss = 1.65 | Batch = 97 | Accuracy = 40.09: 100%|███| 98/98 [00:40<00:00,  2.44it/s]\n"
     ]
    },
    {
     "name": "stdout",
     "output_type": "stream",
     "text": [
      "Test set: Average loss: 0.0027, Accuracy: 4936/10000 (49.36%)\n"
     ]
    },
    {
     "name": "stderr",
     "output_type": "stream",
     "text": [
      "EPOCH = 9 | LR = 0.1 | Loss = 1.53 | Batch = 97 | Accuracy = 41.33: 100%|███| 98/98 [00:41<00:00,  2.36it/s]\n"
     ]
    },
    {
     "name": "stdout",
     "output_type": "stream",
     "text": [
      "Test set: Average loss: 0.0027, Accuracy: 4995/10000 (49.95%)\n"
     ]
    },
    {
     "name": "stderr",
     "output_type": "stream",
     "text": [
      "EPOCH = 10 | LR = 0.1 | Loss = 1.48 | Batch = 97 | Accuracy = 42.40: 100%|██| 98/98 [00:40<00:00,  2.40it/s]\n"
     ]
    },
    {
     "name": "stdout",
     "output_type": "stream",
     "text": [
      "Test set: Average loss: 0.0026, Accuracy: 5148/10000 (51.48%)\n"
     ]
    },
    {
     "name": "stderr",
     "output_type": "stream",
     "text": [
      "EPOCH = 11 | LR = 0.1 | Loss = 1.49 | Batch = 97 | Accuracy = 42.89: 100%|██| 98/98 [00:40<00:00,  2.41it/s]\n"
     ]
    },
    {
     "name": "stdout",
     "output_type": "stream",
     "text": [
      "Test set: Average loss: 0.0026, Accuracy: 5220/10000 (52.20%)\n"
     ]
    },
    {
     "name": "stderr",
     "output_type": "stream",
     "text": [
      "EPOCH = 12 | LR = 0.1 | Loss = 1.66 | Batch = 97 | Accuracy = 43.75: 100%|██| 98/98 [00:40<00:00,  2.42it/s]\n"
     ]
    },
    {
     "name": "stdout",
     "output_type": "stream",
     "text": [
      "Test set: Average loss: 0.0026, Accuracy: 5229/10000 (52.29%)\n"
     ]
    },
    {
     "name": "stderr",
     "output_type": "stream",
     "text": [
      "EPOCH = 13 | LR = 0.1 | Loss = 1.46 | Batch = 97 | Accuracy = 44.16: 100%|██| 98/98 [00:40<00:00,  2.42it/s]\n"
     ]
    },
    {
     "name": "stdout",
     "output_type": "stream",
     "text": [
      "Test set: Average loss: 0.0026, Accuracy: 5263/10000 (52.63%)\n"
     ]
    },
    {
     "name": "stderr",
     "output_type": "stream",
     "text": [
      "EPOCH = 14 | LR = 0.1 | Loss = 1.60 | Batch = 97 | Accuracy = 44.46: 100%|██| 98/98 [00:40<00:00,  2.43it/s]\n"
     ]
    },
    {
     "name": "stdout",
     "output_type": "stream",
     "text": [
      "Test set: Average loss: 0.0026, Accuracy: 5285/10000 (52.85%)\n"
     ]
    },
    {
     "name": "stderr",
     "output_type": "stream",
     "text": [
      "EPOCH = 15 | LR = 0.1 | Loss = 1.47 | Batch = 97 | Accuracy = 44.93: 100%|██| 98/98 [00:40<00:00,  2.40it/s]\n"
     ]
    },
    {
     "name": "stdout",
     "output_type": "stream",
     "text": [
      "Test set: Average loss: 0.0025, Accuracy: 5373/10000 (53.73%)\n"
     ]
    },
    {
     "name": "stderr",
     "output_type": "stream",
     "text": [
      "EPOCH = 16 | LR = 0.1 | Loss = 1.54 | Batch = 97 | Accuracy = 45.61: 100%|██| 98/98 [00:40<00:00,  2.40it/s]\n"
     ]
    },
    {
     "name": "stdout",
     "output_type": "stream",
     "text": [
      "Test set: Average loss: 0.0025, Accuracy: 5518/10000 (55.18%)\n"
     ]
    },
    {
     "name": "stderr",
     "output_type": "stream",
     "text": [
      "EPOCH = 17 | LR = 0.1 | Loss = 1.44 | Batch = 97 | Accuracy = 46.16: 100%|██| 98/98 [00:40<00:00,  2.43it/s]\n"
     ]
    },
    {
     "name": "stdout",
     "output_type": "stream",
     "text": [
      "Test set: Average loss: 0.0025, Accuracy: 5400/10000 (54.00%)\n"
     ]
    },
    {
     "name": "stderr",
     "output_type": "stream",
     "text": [
      "EPOCH = 18 | LR = 0.1 | Loss = 1.48 | Batch = 97 | Accuracy = 46.15: 100%|██| 98/98 [00:40<00:00,  2.41it/s]\n"
     ]
    },
    {
     "name": "stdout",
     "output_type": "stream",
     "text": [
      "Test set: Average loss: 0.0024, Accuracy: 5684/10000 (56.84%)\n"
     ]
    },
    {
     "name": "stderr",
     "output_type": "stream",
     "text": [
      "EPOCH = 19 | LR = 0.1 | Loss = 1.47 | Batch = 97 | Accuracy = 46.80: 100%|██| 98/98 [00:35<00:00,  2.79it/s]\n"
     ]
    },
    {
     "name": "stdout",
     "output_type": "stream",
     "text": [
      "Test set: Average loss: 0.0025, Accuracy: 5466/10000 (54.66%)\n"
     ]
    },
    {
     "name": "stderr",
     "output_type": "stream",
     "text": [
      "EPOCH = 20 | LR = 0.1 | Loss = 1.53 | Batch = 97 | Accuracy = 46.78: 100%|██| 98/98 [00:35<00:00,  2.80it/s]\n"
     ]
    },
    {
     "name": "stdout",
     "output_type": "stream",
     "text": [
      "Test set: Average loss: 0.0024, Accuracy: 5603/10000 (56.03%)\n"
     ]
    },
    {
     "name": "stderr",
     "output_type": "stream",
     "text": [
      "EPOCH = 21 | LR = 0.1 | Loss = 1.43 | Batch = 97 | Accuracy = 47.07: 100%|██| 98/98 [00:35<00:00,  2.80it/s]\n"
     ]
    },
    {
     "name": "stdout",
     "output_type": "stream",
     "text": [
      "Test set: Average loss: 0.0024, Accuracy: 5695/10000 (56.95%)\n"
     ]
    },
    {
     "name": "stderr",
     "output_type": "stream",
     "text": [
      "EPOCH = 22 | LR = 0.1 | Loss = 1.40 | Batch = 97 | Accuracy = 47.56: 100%|██| 98/98 [00:34<00:00,  2.82it/s]\n"
     ]
    },
    {
     "name": "stdout",
     "output_type": "stream",
     "text": [
      "Test set: Average loss: 0.0024, Accuracy: 5704/10000 (57.04%)\n"
     ]
    },
    {
     "name": "stderr",
     "output_type": "stream",
     "text": [
      "EPOCH = 23 | LR = 0.1 | Loss = 1.45 | Batch = 97 | Accuracy = 47.58: 100%|██| 98/98 [00:34<00:00,  2.81it/s]\n"
     ]
    },
    {
     "name": "stdout",
     "output_type": "stream",
     "text": [
      "Test set: Average loss: 0.0024, Accuracy: 5699/10000 (56.99%)\n"
     ]
    },
    {
     "name": "stderr",
     "output_type": "stream",
     "text": [
      "EPOCH = 24 | LR = 0.1 | Loss = 1.56 | Batch = 97 | Accuracy = 48.03: 100%|██| 98/98 [00:35<00:00,  2.77it/s]\n"
     ]
    },
    {
     "name": "stdout",
     "output_type": "stream",
     "text": [
      "Test set: Average loss: 0.0024, Accuracy: 5728/10000 (57.28%)\n"
     ]
    },
    {
     "name": "stderr",
     "output_type": "stream",
     "text": [
      "EPOCH = 25 | LR = 0.1 | Loss = 1.57 | Batch = 97 | Accuracy = 48.15: 100%|██| 98/98 [00:38<00:00,  2.55it/s]\n"
     ]
    },
    {
     "name": "stdout",
     "output_type": "stream",
     "text": [
      "Test set: Average loss: 0.0023, Accuracy: 5784/10000 (57.84%)\n"
     ]
    },
    {
     "name": "stderr",
     "output_type": "stream",
     "text": [
      "EPOCH = 26 | LR = 0.1 | Loss = 1.56 | Batch = 97 | Accuracy = 48.46: 100%|██| 98/98 [00:37<00:00,  2.59it/s]\n"
     ]
    },
    {
     "name": "stdout",
     "output_type": "stream",
     "text": [
      "Test set: Average loss: 0.0022, Accuracy: 5924/10000 (59.24%)\n"
     ]
    },
    {
     "name": "stderr",
     "output_type": "stream",
     "text": [
      "EPOCH = 27 | LR = 0.1 | Loss = 1.42 | Batch = 97 | Accuracy = 48.83: 100%|██| 98/98 [00:37<00:00,  2.64it/s]\n"
     ]
    },
    {
     "name": "stdout",
     "output_type": "stream",
     "text": [
      "Test set: Average loss: 0.0023, Accuracy: 5828/10000 (58.28%)\n"
     ]
    },
    {
     "name": "stderr",
     "output_type": "stream",
     "text": [
      "EPOCH = 28 | LR = 0.1 | Loss = 1.48 | Batch = 97 | Accuracy = 48.98: 100%|██| 98/98 [00:35<00:00,  2.77it/s]\n"
     ]
    },
    {
     "name": "stdout",
     "output_type": "stream",
     "text": [
      "Test set: Average loss: 0.0023, Accuracy: 5871/10000 (58.71%)\n"
     ]
    },
    {
     "name": "stderr",
     "output_type": "stream",
     "text": [
      "EPOCH = 29 | LR = 0.1 | Loss = 1.48 | Batch = 97 | Accuracy = 48.91: 100%|██| 98/98 [00:36<00:00,  2.72it/s]\n"
     ]
    },
    {
     "name": "stdout",
     "output_type": "stream",
     "text": [
      "Test set: Average loss: 0.0023, Accuracy: 5851/10000 (58.51%)\n"
     ]
    },
    {
     "name": "stderr",
     "output_type": "stream",
     "text": [
      "EPOCH = 30 | LR = 0.1 | Loss = 1.31 | Batch = 97 | Accuracy = 49.11: 100%|██| 98/98 [00:36<00:00,  2.71it/s]\n"
     ]
    },
    {
     "name": "stdout",
     "output_type": "stream",
     "text": [
      "Test set: Average loss: 0.0022, Accuracy: 5977/10000 (59.77%)\n"
     ]
    },
    {
     "name": "stderr",
     "output_type": "stream",
     "text": [
      "EPOCH = 31 | LR = 0.1 | Loss = 1.41 | Batch = 97 | Accuracy = 48.96: 100%|██| 98/98 [00:35<00:00,  2.78it/s]\n"
     ]
    },
    {
     "name": "stdout",
     "output_type": "stream",
     "text": [
      "Test set: Average loss: 0.0023, Accuracy: 5844/10000 (58.44%)\n"
     ]
    },
    {
     "name": "stderr",
     "output_type": "stream",
     "text": [
      "EPOCH = 32 | LR = 0.1 | Loss = 1.42 | Batch = 97 | Accuracy = 49.55: 100%|██| 98/98 [00:35<00:00,  2.77it/s]\n"
     ]
    },
    {
     "name": "stdout",
     "output_type": "stream",
     "text": [
      "Test set: Average loss: 0.0022, Accuracy: 5956/10000 (59.56%)\n"
     ]
    },
    {
     "name": "stderr",
     "output_type": "stream",
     "text": [
      "EPOCH = 33 | LR = 0.1 | Loss = 1.39 | Batch = 97 | Accuracy = 49.38: 100%|██| 98/98 [00:35<00:00,  2.72it/s]\n"
     ]
    },
    {
     "name": "stdout",
     "output_type": "stream",
     "text": [
      "Test set: Average loss: 0.0023, Accuracy: 5777/10000 (57.77%)\n"
     ]
    },
    {
     "name": "stderr",
     "output_type": "stream",
     "text": [
      "EPOCH = 34 | LR = 0.1 | Loss = 1.49 | Batch = 97 | Accuracy = 49.53: 100%|██| 98/98 [00:35<00:00,  2.77it/s]\n"
     ]
    },
    {
     "name": "stdout",
     "output_type": "stream",
     "text": [
      "Test set: Average loss: 0.0022, Accuracy: 6006/10000 (60.06%)\n"
     ]
    },
    {
     "name": "stderr",
     "output_type": "stream",
     "text": [
      "EPOCH = 35 | LR = 0.1 | Loss = 1.41 | Batch = 97 | Accuracy = 49.59: 100%|██| 98/98 [00:34<00:00,  2.83it/s]\n"
     ]
    },
    {
     "name": "stdout",
     "output_type": "stream",
     "text": [
      "Test set: Average loss: 0.0023, Accuracy: 5913/10000 (59.13%)\n"
     ]
    },
    {
     "name": "stderr",
     "output_type": "stream",
     "text": [
      "EPOCH = 36 | LR = 0.1 | Loss = 1.45 | Batch = 97 | Accuracy = 49.63: 100%|██| 98/98 [00:35<00:00,  2.79it/s]\n"
     ]
    },
    {
     "name": "stdout",
     "output_type": "stream",
     "text": [
      "Test set: Average loss: 0.0022, Accuracy: 5961/10000 (59.61%)\n"
     ]
    },
    {
     "name": "stderr",
     "output_type": "stream",
     "text": [
      "EPOCH = 37 | LR = 0.1 | Loss = 1.38 | Batch = 97 | Accuracy = 50.23: 100%|██| 98/98 [00:34<00:00,  2.81it/s]\n"
     ]
    },
    {
     "name": "stdout",
     "output_type": "stream",
     "text": [
      "Test set: Average loss: 0.0022, Accuracy: 5922/10000 (59.22%)\n"
     ]
    },
    {
     "name": "stderr",
     "output_type": "stream",
     "text": [
      "EPOCH = 38 | LR = 0.1 | Loss = 1.49 | Batch = 97 | Accuracy = 49.95: 100%|██| 98/98 [00:34<00:00,  2.84it/s]\n"
     ]
    },
    {
     "name": "stdout",
     "output_type": "stream",
     "text": [
      "Test set: Average loss: 0.0022, Accuracy: 6017/10000 (60.17%)\n"
     ]
    },
    {
     "name": "stderr",
     "output_type": "stream",
     "text": [
      "EPOCH = 39 | LR = 0.1 | Loss = 1.36 | Batch = 97 | Accuracy = 50.25: 100%|██| 98/98 [00:35<00:00,  2.75it/s]\n"
     ]
    },
    {
     "name": "stdout",
     "output_type": "stream",
     "text": [
      "Test set: Average loss: 0.0022, Accuracy: 5908/10000 (59.08%)\n"
     ]
    },
    {
     "name": "stderr",
     "output_type": "stream",
     "text": [
      "EPOCH = 40 | LR = 0.1 | Loss = 1.43 | Batch = 97 | Accuracy = 50.14: 100%|██| 98/98 [00:34<00:00,  2.83it/s]\n"
     ]
    },
    {
     "name": "stdout",
     "output_type": "stream",
     "text": [
      "Test set: Average loss: 0.0023, Accuracy: 5866/10000 (58.66%)\n"
     ]
    },
    {
     "name": "stderr",
     "output_type": "stream",
     "text": [
      "EPOCH = 41 | LR = 0.010000000000000002 | Loss = 1.39 | Batch = 97 | Accuracy = 51.13: 100%|█| 98/98 [00:34<0\n"
     ]
    },
    {
     "name": "stdout",
     "output_type": "stream",
     "text": [
      "Test set: Average loss: 0.0021, Accuracy: 6165/10000 (61.65%)\n"
     ]
    },
    {
     "name": "stderr",
     "output_type": "stream",
     "text": [
      "EPOCH = 42 | LR = 0.010000000000000002 | Loss = 1.29 | Batch = 97 | Accuracy = 51.58: 100%|█| 98/98 [00:36<0\n"
     ]
    },
    {
     "name": "stdout",
     "output_type": "stream",
     "text": [
      "Test set: Average loss: 0.0021, Accuracy: 6140/10000 (61.40%)\n"
     ]
    },
    {
     "name": "stderr",
     "output_type": "stream",
     "text": [
      "EPOCH = 43 | LR = 0.010000000000000002 | Loss = 1.38 | Batch = 97 | Accuracy = 51.62: 100%|█| 98/98 [00:34<0\n"
     ]
    },
    {
     "name": "stdout",
     "output_type": "stream",
     "text": [
      "Test set: Average loss: 0.0021, Accuracy: 6162/10000 (61.62%)\n"
     ]
    },
    {
     "name": "stderr",
     "output_type": "stream",
     "text": [
      "EPOCH = 44 | LR = 0.010000000000000002 | Loss = 1.39 | Batch = 97 | Accuracy = 51.42: 100%|█| 98/98 [00:34<0\n"
     ]
    },
    {
     "name": "stdout",
     "output_type": "stream",
     "text": [
      "Test set: Average loss: 0.0021, Accuracy: 6190/10000 (61.90%)\n"
     ]
    },
    {
     "name": "stderr",
     "output_type": "stream",
     "text": [
      "EPOCH = 45 | LR = 0.010000000000000002 | Loss = 1.43 | Batch = 97 | Accuracy = 51.61: 100%|█| 98/98 [00:34<0\n"
     ]
    },
    {
     "name": "stdout",
     "output_type": "stream",
     "text": [
      "Test set: Average loss: 0.0021, Accuracy: 6199/10000 (61.99%)\n"
     ]
    },
    {
     "name": "stderr",
     "output_type": "stream",
     "text": [
      "EPOCH = 46 | LR = 0.010000000000000002 | Loss = 1.34 | Batch = 97 | Accuracy = 51.93: 100%|█| 98/98 [00:34<0\n"
     ]
    },
    {
     "name": "stdout",
     "output_type": "stream",
     "text": [
      "Test set: Average loss: 0.0021, Accuracy: 6211/10000 (62.11%)\n"
     ]
    },
    {
     "name": "stderr",
     "output_type": "stream",
     "text": [
      "EPOCH = 47 | LR = 0.010000000000000002 | Loss = 1.26 | Batch = 97 | Accuracy = 51.92: 100%|█| 98/98 [00:34<0\n"
     ]
    },
    {
     "name": "stdout",
     "output_type": "stream",
     "text": [
      "Test set: Average loss: 0.0021, Accuracy: 6201/10000 (62.01%)\n"
     ]
    },
    {
     "name": "stderr",
     "output_type": "stream",
     "text": [
      "EPOCH = 48 | LR = 0.010000000000000002 | Loss = 1.35 | Batch = 97 | Accuracy = 51.88: 100%|█| 98/98 [00:34<0\n"
     ]
    },
    {
     "name": "stdout",
     "output_type": "stream",
     "text": [
      "Test set: Average loss: 0.0021, Accuracy: 6182/10000 (61.82%)\n"
     ]
    },
    {
     "name": "stderr",
     "output_type": "stream",
     "text": [
      "EPOCH = 49 | LR = 0.010000000000000002 | Loss = 1.38 | Batch = 97 | Accuracy = 52.18: 100%|█| 98/98 [00:35<0\n"
     ]
    },
    {
     "name": "stdout",
     "output_type": "stream",
     "text": [
      "Test set: Average loss: 0.0021, Accuracy: 6215/10000 (62.15%)\n"
     ]
    },
    {
     "name": "stderr",
     "output_type": "stream",
     "text": [
      "EPOCH = 50 | LR = 0.0010000000000000002 | Loss = 1.38 | Batch = 97 | Accuracy = 52.04: 100%|█| 98/98 [00:34<\n"
     ]
    },
    {
     "name": "stdout",
     "output_type": "stream",
     "text": [
      "Test set: Average loss: 0.0021, Accuracy: 6203/10000 (62.03%)\n"
     ]
    }
   ],
   "source": [
    "prev_test_loss = float('inf')\n",
    "\n",
    "optimizer = optim.SGD(params=model9.parameters(), lr=0.1, momentum=0.9)\n",
    "scheduler = optim.lr_scheduler.ReduceLROnPlateau(optimizer=optimizer,mode='min',factor=0.1,patience=3)\n",
    "criterion = nn.NLLLoss()\n",
    "trainer = Trainer(model=model9, train_loader=atrain_loader, optimizer=optimizer, criterion=criterion, device=device)\n",
    "tester = Tester(model=model9, test_loader=atest_loader,criterion=criterion, device=device)\n",
    "\n",
    "for epoch in range(1, 51):\n",
    "    trainer.train(epoch=epoch)\n",
    "    _,test_loss = tester.test()\n",
    "    if prev_test_loss>test_loss:\n",
    "        torch.save(obj=model9.state_dict(),f='./bmodels/model9_modified_aug.pth')\n",
    "    scheduler.step(test_loss)"
   ]
  },
  {
   "cell_type": "code",
   "execution_count": 10,
   "id": "ea1db830-98ed-4908-a0c5-b75df207e1e2",
   "metadata": {},
   "outputs": [
    {
     "data": {
      "image/png": "[encoded data removed]",
      "text/plain": [
       "<Figure size 1500x1000 with 4 Axes>"
      ]
     },
     "metadata": {},
     "output_type": "display_data"
    }
   ],
   "source": [
    "\n",
    "plot_curves(trainer.train_losses,trainer.train_accuracies,tester.test_losses,tester.test_accuracies)"
   ]
  },
  {
   "cell_type": "code",
   "execution_count": null,
   "id": "4104b695-ce39-4e45-834c-f61788a736e7",
   "metadata": {},
   "outputs": [],
   "source": []
  },
  {
   "cell_type": "code",
   "execution_count": null,
   "id": "a41c2b35-fbac-4d15-ab3e-931f516c037e",
   "metadata": {},
   "outputs": [],
   "source": []
  },
  {
   "cell_type": "code",
   "execution_count": null,
   "id": "0ff41151-19f7-4255-a02d-8c8d4417ce2e",
   "metadata": {},
   "outputs": [],
   "source": []
  },
  {
   "cell_type": "code",
   "execution_count": null,
   "id": "8ac998bf-783e-4bb0-a0ee-e0e67da7f03a",
   "metadata": {},
   "outputs": [],
   "source": []
  },
  {
   "cell_type": "code",
   "execution_count": null,
   "id": "8dcff532-c670-431e-be07-40f1525520ce",
   "metadata": {},
   "outputs": [],
   "source": []
  },
  {
   "cell_type": "code",
   "execution_count": null,
   "id": "a91b0604-9c05-4ad6-b82c-3a850da3de4f",
   "metadata": {},
   "outputs": [],
   "source": []
  },
  {
   "cell_type": "markdown",
   "id": "5bc1cc47-2c13-4a75-bb7a-552009bf69d6",
   "metadata": {},
   "source": [
    "# OLD CODE"
   ]
  },
  {
   "cell_type": "code",
   "execution_count": 11,
   "id": "8931ebf2-bef6-49e8-9000-0a9d38df8c22",
   "metadata": {},
   "outputs": [],
   "source": [
    "# We used this Squeeze-Expand Network before\n",
    "class Net1(nn.Module):\n",
    "    def __init__(self):\n",
    "        super(Net1,self).__init__()\n",
    "        self.dp_rate = 0.2\n",
    "\n",
    "        self.conv1 = nn.Sequential(\n",
    "            ConvLayer(inc=3,outc=8,k=3,s=1,p=1,d=1,dp_rate=self.dp_rate),\n",
    "            ConvLayer(inc=8,outc=24,k=3,s=1,p=1,d=1,dp_rate=self.dp_rate),\n",
    "            ConvLayer(inc=24,outc=32,k=3,s=1,p=1,d=1,dp_rate=self.dp_rate),\n",
    "        )\n",
    "        self.trans1 = TransBlock(32,24,p=0.1)\n",
    "        self.conv2 = nn.Sequential(\n",
    "            ConvLayer(inc=24,outc=32,k=3,s=1,p=1,d=1,dp_rate=self.dp_rate),\n",
    "            ConvLayer(inc=32,outc=32,k=3,s=1,p=1,d=1,dp_rate=self.dp_rate),\n",
    "            ConvLayer(inc=32,outc=64,k=3,s=1,p=1,d=1,dp_rate=self.dp_rate),\n",
    "        )\n",
    "        self.trans2 = TransBlock(64,32,p=0.1)\n",
    "        self.conv3 = nn.Sequential(\n",
    "            ConvLayer(inc=32,outc=64,k=3,s=1,p=1,d=1,dp_rate=self.dp_rate),\n",
    "            ConvLayer(inc=64,outc=64,k=3,s=1,p=1,d=1,dp_rate=self.dp_rate),\n",
    "            ConvLayer(inc=64,outc=128,k=3,s=1,p=1,d=1,dp_rate=self.dp_rate),\n",
    "        )\n",
    "        self.trans3 = TransBlock(128,64,p=0.1)\n",
    "        self.conv4 = nn.Sequential(\n",
    "            nn.Conv2d(in_channels=64,out_channels=128,kernel_size=1,bias=False,)\n",
    "        )\n",
    "        self.gap = nn.AdaptiveAvgPool2d(output_size=1)\n",
    "        self.out = nn.Conv2d(128,10,kernel_size=1,bias=False)\n",
    "    def forward(self,x):\n",
    "        x = self.conv1(x)\n",
    "        x = self.trans1(x)\n",
    "        x = self.conv2(x)\n",
    "        x = self.trans2(x)\n",
    "        x = self.conv3(x)\n",
    "        x = self.trans3(x)\n",
    "        x = self.conv4(x)\n",
    "        x = self.gap(x)\n",
    "        x = self.out(x)\n",
    "        return F.log_softmax(x.view(-1,10), dim=1)"
   ]
  },
  {
   "cell_type": "code",
   "execution_count": 12,
   "id": "865710fe-1bd2-4ea3-a9ff-c6b1c3541cbf",
   "metadata": {
    "scrolled": true
   },
   "outputs": [
    {
     "ename": "RuntimeError",
     "evalue": "Failed to run torchinfo. See above stack traces for more details. Executed layers up to: [Sequential: 1, ConvLayer: 2, Sequential: 3, Conv2d: 4, BatchNorm2d: 4, ReLU: 4, Dropout2d: 4, ConvLayer: 2, Sequential: 3, Conv2d: 4, BatchNorm2d: 4, ReLU: 4, Dropout2d: 4, ConvLayer: 2, Sequential: 3, Conv2d: 4, BatchNorm2d: 4, ReLU: 4, Dropout2d: 4]",
     "output_type": "error",
     "traceback": [
      "\u001b[1;31m---------------------------------------------------------------------------\u001b[0m",
      "\u001b[1;31mTypeError\u001b[0m                                 Traceback (most recent call last)",
      "File \u001b[1;32mc:\\Users\\muthu\\miniconda3\\envs\\torchenv\\Lib\\site-packages\\torchinfo\\torchinfo.py:295\u001b[0m, in \u001b[0;36mforward_pass\u001b[1;34m(model, x, batch_dim, cache_forward_pass, device, mode, **kwargs)\u001b[0m\n\u001b[0;32m    294\u001b[0m \u001b[38;5;28;01mif\u001b[39;00m \u001b[38;5;28misinstance\u001b[39m(x, (\u001b[38;5;28mlist\u001b[39m, \u001b[38;5;28mtuple\u001b[39m)):\n\u001b[1;32m--> 295\u001b[0m     _ \u001b[38;5;241m=\u001b[39m \u001b[43mmodel\u001b[49m\u001b[43m(\u001b[49m\u001b[38;5;241;43m*\u001b[39;49m\u001b[43mx\u001b[49m\u001b[43m,\u001b[49m\u001b[43m \u001b[49m\u001b[38;5;241;43m*\u001b[39;49m\u001b[38;5;241;43m*\u001b[39;49m\u001b[43mkwargs\u001b[49m\u001b[43m)\u001b[49m\n\u001b[0;32m    296\u001b[0m \u001b[38;5;28;01melif\u001b[39;00m \u001b[38;5;28misinstance\u001b[39m(x, \u001b[38;5;28mdict\u001b[39m):\n",
      "File \u001b[1;32mc:\\Users\\muthu\\miniconda3\\envs\\torchenv\\Lib\\site-packages\\torch\\nn\\modules\\module.py:1538\u001b[0m, in \u001b[0;36mModule._call_impl\u001b[1;34m(self, *args, **kwargs)\u001b[0m\n\u001b[0;32m   1536\u001b[0m     args \u001b[38;5;241m=\u001b[39m bw_hook\u001b[38;5;241m.\u001b[39msetup_input_hook(args)\n\u001b[1;32m-> 1538\u001b[0m result \u001b[38;5;241m=\u001b[39m \u001b[43mforward_call\u001b[49m\u001b[43m(\u001b[49m\u001b[38;5;241;43m*\u001b[39;49m\u001b[43margs\u001b[49m\u001b[43m,\u001b[49m\u001b[43m \u001b[49m\u001b[38;5;241;43m*\u001b[39;49m\u001b[38;5;241;43m*\u001b[39;49m\u001b[43mkwargs\u001b[49m\u001b[43m)\u001b[49m\n\u001b[0;32m   1539\u001b[0m \u001b[38;5;28;01mif\u001b[39;00m _global_forward_hooks \u001b[38;5;129;01mor\u001b[39;00m \u001b[38;5;28mself\u001b[39m\u001b[38;5;241m.\u001b[39m_forward_hooks:\n",
      "Cell \u001b[1;32mIn[11], line 32\u001b[0m, in \u001b[0;36mNet1.forward\u001b[1;34m(self, x)\u001b[0m\n\u001b[0;32m     31\u001b[0m x \u001b[38;5;241m=\u001b[39m \u001b[38;5;28mself\u001b[39m\u001b[38;5;241m.\u001b[39mconv1(x)\n\u001b[1;32m---> 32\u001b[0m x \u001b[38;5;241m=\u001b[39m \u001b[38;5;28;43mself\u001b[39;49m\u001b[38;5;241;43m.\u001b[39;49m\u001b[43mtrans1\u001b[49m\u001b[43m(\u001b[49m\u001b[43mx\u001b[49m\u001b[43m)\u001b[49m\n\u001b[0;32m     33\u001b[0m x \u001b[38;5;241m=\u001b[39m \u001b[38;5;28mself\u001b[39m\u001b[38;5;241m.\u001b[39mconv2(x)\n",
      "File \u001b[1;32mc:\\Users\\muthu\\miniconda3\\envs\\torchenv\\Lib\\site-packages\\torch\\nn\\modules\\module.py:1538\u001b[0m, in \u001b[0;36mModule._call_impl\u001b[1;34m(self, *args, **kwargs)\u001b[0m\n\u001b[0;32m   1536\u001b[0m     args \u001b[38;5;241m=\u001b[39m bw_hook\u001b[38;5;241m.\u001b[39msetup_input_hook(args)\n\u001b[1;32m-> 1538\u001b[0m result \u001b[38;5;241m=\u001b[39m \u001b[43mforward_call\u001b[49m\u001b[43m(\u001b[49m\u001b[38;5;241;43m*\u001b[39;49m\u001b[43margs\u001b[49m\u001b[43m,\u001b[49m\u001b[43m \u001b[49m\u001b[38;5;241;43m*\u001b[39;49m\u001b[38;5;241;43m*\u001b[39;49m\u001b[43mkwargs\u001b[49m\u001b[43m)\u001b[49m\n\u001b[0;32m   1539\u001b[0m \u001b[38;5;28;01mif\u001b[39;00m _global_forward_hooks \u001b[38;5;129;01mor\u001b[39;00m \u001b[38;5;28mself\u001b[39m\u001b[38;5;241m.\u001b[39m_forward_hooks:\n",
      "File \u001b[1;32m~\\Documents\\TSAI\\session 9\\models.py:57\u001b[0m, in \u001b[0;36mTransBlock.forward\u001b[1;34m(self, x)\u001b[0m\n\u001b[0;32m     56\u001b[0m \u001b[38;5;28;01mdef\u001b[39;00m \u001b[38;5;21mforward\u001b[39m(\u001b[38;5;28mself\u001b[39m,x):\n\u001b[1;32m---> 57\u001b[0m     x \u001b[38;5;241m=\u001b[39m \u001b[38;5;28;43mself\u001b[39;49m\u001b[38;5;241;43m.\u001b[39;49m\u001b[43mlayer\u001b[49m\u001b[43m(\u001b[49m\u001b[43mx\u001b[49m\u001b[43m)\u001b[49m\n\u001b[0;32m     58\u001b[0m     \u001b[38;5;28;01mreturn\u001b[39;00m x\n",
      "File \u001b[1;32mc:\\Users\\muthu\\miniconda3\\envs\\torchenv\\Lib\\site-packages\\torch\\nn\\modules\\module.py:1538\u001b[0m, in \u001b[0;36mModule._call_impl\u001b[1;34m(self, *args, **kwargs)\u001b[0m\n\u001b[0;32m   1536\u001b[0m     args \u001b[38;5;241m=\u001b[39m bw_hook\u001b[38;5;241m.\u001b[39msetup_input_hook(args)\n\u001b[1;32m-> 1538\u001b[0m result \u001b[38;5;241m=\u001b[39m \u001b[43mforward_call\u001b[49m\u001b[43m(\u001b[49m\u001b[38;5;241;43m*\u001b[39;49m\u001b[43margs\u001b[49m\u001b[43m,\u001b[49m\u001b[43m \u001b[49m\u001b[38;5;241;43m*\u001b[39;49m\u001b[38;5;241;43m*\u001b[39;49m\u001b[43mkwargs\u001b[49m\u001b[43m)\u001b[49m\n\u001b[0;32m   1539\u001b[0m \u001b[38;5;28;01mif\u001b[39;00m _global_forward_hooks \u001b[38;5;129;01mor\u001b[39;00m \u001b[38;5;28mself\u001b[39m\u001b[38;5;241m.\u001b[39m_forward_hooks:\n",
      "File \u001b[1;32mc:\\Users\\muthu\\miniconda3\\envs\\torchenv\\Lib\\site-packages\\torch\\nn\\modules\\container.py:217\u001b[0m, in \u001b[0;36mSequential.forward\u001b[1;34m(self, input)\u001b[0m\n\u001b[0;32m    216\u001b[0m \u001b[38;5;28;01mfor\u001b[39;00m module \u001b[38;5;129;01min\u001b[39;00m \u001b[38;5;28mself\u001b[39m:\n\u001b[1;32m--> 217\u001b[0m     \u001b[38;5;28minput\u001b[39m \u001b[38;5;241m=\u001b[39m \u001b[43mmodule\u001b[49m\u001b[43m(\u001b[49m\u001b[38;5;28;43minput\u001b[39;49m\u001b[43m)\u001b[49m\n\u001b[0;32m    218\u001b[0m \u001b[38;5;28;01mreturn\u001b[39;00m \u001b[38;5;28minput\u001b[39m\n",
      "File \u001b[1;32mc:\\Users\\muthu\\miniconda3\\envs\\torchenv\\Lib\\site-packages\\torch\\nn\\modules\\module.py:1538\u001b[0m, in \u001b[0;36mModule._call_impl\u001b[1;34m(self, *args, **kwargs)\u001b[0m\n\u001b[0;32m   1536\u001b[0m     args \u001b[38;5;241m=\u001b[39m bw_hook\u001b[38;5;241m.\u001b[39msetup_input_hook(args)\n\u001b[1;32m-> 1538\u001b[0m result \u001b[38;5;241m=\u001b[39m \u001b[43mforward_call\u001b[49m\u001b[43m(\u001b[49m\u001b[38;5;241;43m*\u001b[39;49m\u001b[43margs\u001b[49m\u001b[43m,\u001b[49m\u001b[43m \u001b[49m\u001b[38;5;241;43m*\u001b[39;49m\u001b[38;5;241;43m*\u001b[39;49m\u001b[43mkwargs\u001b[49m\u001b[43m)\u001b[49m\n\u001b[0;32m   1539\u001b[0m \u001b[38;5;28;01mif\u001b[39;00m _global_forward_hooks \u001b[38;5;129;01mor\u001b[39;00m \u001b[38;5;28mself\u001b[39m\u001b[38;5;241m.\u001b[39m_forward_hooks:\n",
      "File \u001b[1;32mc:\\Users\\muthu\\miniconda3\\envs\\torchenv\\Lib\\site-packages\\torch\\nn\\modules\\conv.py:463\u001b[0m, in \u001b[0;36mConv2d.forward\u001b[1;34m(self, input)\u001b[0m\n\u001b[0;32m    462\u001b[0m \u001b[38;5;28;01mdef\u001b[39;00m \u001b[38;5;21mforward\u001b[39m(\u001b[38;5;28mself\u001b[39m, \u001b[38;5;28minput\u001b[39m: Tensor) \u001b[38;5;241m-\u001b[39m\u001b[38;5;241m>\u001b[39m Tensor:\n\u001b[1;32m--> 463\u001b[0m     \u001b[38;5;28;01mreturn\u001b[39;00m \u001b[38;5;28;43mself\u001b[39;49m\u001b[38;5;241;43m.\u001b[39;49m\u001b[43m_conv_forward\u001b[49m\u001b[43m(\u001b[49m\u001b[38;5;28;43minput\u001b[39;49m\u001b[43m,\u001b[49m\u001b[43m \u001b[49m\u001b[38;5;28;43mself\u001b[39;49m\u001b[38;5;241;43m.\u001b[39;49m\u001b[43mweight\u001b[49m\u001b[43m,\u001b[49m\u001b[43m \u001b[49m\u001b[38;5;28;43mself\u001b[39;49m\u001b[38;5;241;43m.\u001b[39;49m\u001b[43mbias\u001b[49m\u001b[43m)\u001b[49m\n",
      "File \u001b[1;32mc:\\Users\\muthu\\miniconda3\\envs\\torchenv\\Lib\\site-packages\\torch\\nn\\modules\\conv.py:459\u001b[0m, in \u001b[0;36mConv2d._conv_forward\u001b[1;34m(self, input, weight, bias)\u001b[0m\n\u001b[0;32m    456\u001b[0m     \u001b[38;5;28;01mreturn\u001b[39;00m F\u001b[38;5;241m.\u001b[39mconv2d(F\u001b[38;5;241m.\u001b[39mpad(\u001b[38;5;28minput\u001b[39m, \u001b[38;5;28mself\u001b[39m\u001b[38;5;241m.\u001b[39m_reversed_padding_repeated_twice, mode\u001b[38;5;241m=\u001b[39m\u001b[38;5;28mself\u001b[39m\u001b[38;5;241m.\u001b[39mpadding_mode),\n\u001b[0;32m    457\u001b[0m                     weight, bias, \u001b[38;5;28mself\u001b[39m\u001b[38;5;241m.\u001b[39mstride,\n\u001b[0;32m    458\u001b[0m                     _pair(\u001b[38;5;241m0\u001b[39m), \u001b[38;5;28mself\u001b[39m\u001b[38;5;241m.\u001b[39mdilation, \u001b[38;5;28mself\u001b[39m\u001b[38;5;241m.\u001b[39mgroups)\n\u001b[1;32m--> 459\u001b[0m \u001b[38;5;28;01mreturn\u001b[39;00m \u001b[43mF\u001b[49m\u001b[38;5;241;43m.\u001b[39;49m\u001b[43mconv2d\u001b[49m\u001b[43m(\u001b[49m\u001b[38;5;28;43minput\u001b[39;49m\u001b[43m,\u001b[49m\u001b[43m \u001b[49m\u001b[43mweight\u001b[49m\u001b[43m,\u001b[49m\u001b[43m \u001b[49m\u001b[43mbias\u001b[49m\u001b[43m,\u001b[49m\u001b[43m \u001b[49m\u001b[38;5;28;43mself\u001b[39;49m\u001b[38;5;241;43m.\u001b[39;49m\u001b[43mstride\u001b[49m\u001b[43m,\u001b[49m\n\u001b[0;32m    460\u001b[0m \u001b[43m                \u001b[49m\u001b[38;5;28;43mself\u001b[39;49m\u001b[38;5;241;43m.\u001b[39;49m\u001b[43mpadding\u001b[49m\u001b[43m,\u001b[49m\u001b[43m \u001b[49m\u001b[38;5;28;43mself\u001b[39;49m\u001b[38;5;241;43m.\u001b[39;49m\u001b[43mdilation\u001b[49m\u001b[43m,\u001b[49m\u001b[43m \u001b[49m\u001b[38;5;28;43mself\u001b[39;49m\u001b[38;5;241;43m.\u001b[39;49m\u001b[43mgroups\u001b[49m\u001b[43m)\u001b[49m\n",
      "\u001b[1;31mTypeError\u001b[0m: conv2d() received an invalid combination of arguments - got (Tensor, Parameter, NoneType, tuple, tuple, tuple, int), but expected one of:\n * (Tensor input, Tensor weight, Tensor bias, tuple of ints stride, tuple of ints padding, tuple of ints dilation, int groups)\n      didn't match because some of the arguments have invalid types: (\u001b[32;1mTensor\u001b[0m, \u001b[31;1mParameter\u001b[0m, \u001b[31;1mNoneType\u001b[0m, \u001b[31;1mtuple of (int, int)\u001b[0m, \u001b[31;1mtuple of (float, float)\u001b[0m, \u001b[31;1mtuple of (int, int)\u001b[0m, \u001b[32;1mint\u001b[0m)\n * (Tensor input, Tensor weight, Tensor bias, tuple of ints stride, str padding, tuple of ints dilation, int groups)\n      didn't match because some of the arguments have invalid types: (\u001b[32;1mTensor\u001b[0m, \u001b[31;1mParameter\u001b[0m, \u001b[31;1mNoneType\u001b[0m, \u001b[31;1mtuple of (int, int)\u001b[0m, \u001b[31;1mtuple of (float, float)\u001b[0m, \u001b[31;1mtuple of (int, int)\u001b[0m, \u001b[32;1mint\u001b[0m)\n",
      "\nThe above exception was the direct cause of the following exception:\n",
      "\u001b[1;31mRuntimeError\u001b[0m                              Traceback (most recent call last)",
      "Cell \u001b[1;32mIn[12], line 2\u001b[0m\n\u001b[0;32m      1\u001b[0m simple_model \u001b[38;5;241m=\u001b[39m Net1()\u001b[38;5;241m.\u001b[39mto(device)\n\u001b[1;32m----> 2\u001b[0m \u001b[43msummary\u001b[49m\u001b[43m(\u001b[49m\u001b[43msimple_model\u001b[49m\u001b[43m,\u001b[49m\u001b[43m(\u001b[49m\u001b[38;5;241;43m1\u001b[39;49m\u001b[43m,\u001b[49m\u001b[38;5;241;43m3\u001b[39;49m\u001b[43m,\u001b[49m\u001b[38;5;241;43m32\u001b[39;49m\u001b[43m,\u001b[49m\u001b[38;5;241;43m32\u001b[39;49m\u001b[43m)\u001b[49m\u001b[43m)\u001b[49m\n",
      "File \u001b[1;32mc:\\Users\\muthu\\miniconda3\\envs\\torchenv\\Lib\\site-packages\\torchinfo\\torchinfo.py:223\u001b[0m, in \u001b[0;36msummary\u001b[1;34m(model, input_size, input_data, batch_dim, cache_forward_pass, col_names, col_width, depth, device, dtypes, mode, row_settings, verbose, **kwargs)\u001b[0m\n\u001b[0;32m    216\u001b[0m validate_user_params(\n\u001b[0;32m    217\u001b[0m     input_data, input_size, columns, col_width, device, dtypes, verbose\n\u001b[0;32m    218\u001b[0m )\n\u001b[0;32m    220\u001b[0m x, correct_input_size \u001b[38;5;241m=\u001b[39m process_input(\n\u001b[0;32m    221\u001b[0m     input_data, input_size, batch_dim, device, dtypes\n\u001b[0;32m    222\u001b[0m )\n\u001b[1;32m--> 223\u001b[0m summary_list \u001b[38;5;241m=\u001b[39m \u001b[43mforward_pass\u001b[49m\u001b[43m(\u001b[49m\n\u001b[0;32m    224\u001b[0m \u001b[43m    \u001b[49m\u001b[43mmodel\u001b[49m\u001b[43m,\u001b[49m\u001b[43m \u001b[49m\u001b[43mx\u001b[49m\u001b[43m,\u001b[49m\u001b[43m \u001b[49m\u001b[43mbatch_dim\u001b[49m\u001b[43m,\u001b[49m\u001b[43m \u001b[49m\u001b[43mcache_forward_pass\u001b[49m\u001b[43m,\u001b[49m\u001b[43m \u001b[49m\u001b[43mdevice\u001b[49m\u001b[43m,\u001b[49m\u001b[43m \u001b[49m\u001b[43mmodel_mode\u001b[49m\u001b[43m,\u001b[49m\u001b[43m \u001b[49m\u001b[38;5;241;43m*\u001b[39;49m\u001b[38;5;241;43m*\u001b[39;49m\u001b[43mkwargs\u001b[49m\n\u001b[0;32m    225\u001b[0m \u001b[43m\u001b[49m\u001b[43m)\u001b[49m\n\u001b[0;32m    226\u001b[0m formatting \u001b[38;5;241m=\u001b[39m FormattingOptions(depth, verbose, columns, col_width, rows)\n\u001b[0;32m    227\u001b[0m results \u001b[38;5;241m=\u001b[39m ModelStatistics(\n\u001b[0;32m    228\u001b[0m     summary_list, correct_input_size, get_total_memory_used(x), formatting\n\u001b[0;32m    229\u001b[0m )\n",
      "File \u001b[1;32mc:\\Users\\muthu\\miniconda3\\envs\\torchenv\\Lib\\site-packages\\torchinfo\\torchinfo.py:304\u001b[0m, in \u001b[0;36mforward_pass\u001b[1;34m(model, x, batch_dim, cache_forward_pass, device, mode, **kwargs)\u001b[0m\n\u001b[0;32m    302\u001b[0m \u001b[38;5;28;01mexcept\u001b[39;00m \u001b[38;5;167;01mException\u001b[39;00m \u001b[38;5;28;01mas\u001b[39;00m e:\n\u001b[0;32m    303\u001b[0m     executed_layers \u001b[38;5;241m=\u001b[39m [layer \u001b[38;5;28;01mfor\u001b[39;00m layer \u001b[38;5;129;01min\u001b[39;00m summary_list \u001b[38;5;28;01mif\u001b[39;00m layer\u001b[38;5;241m.\u001b[39mexecuted]\n\u001b[1;32m--> 304\u001b[0m     \u001b[38;5;28;01mraise\u001b[39;00m \u001b[38;5;167;01mRuntimeError\u001b[39;00m(\n\u001b[0;32m    305\u001b[0m         \u001b[38;5;124m\"\u001b[39m\u001b[38;5;124mFailed to run torchinfo. See above stack traces for more details. \u001b[39m\u001b[38;5;124m\"\u001b[39m\n\u001b[0;32m    306\u001b[0m         \u001b[38;5;124mf\u001b[39m\u001b[38;5;124m\"\u001b[39m\u001b[38;5;124mExecuted layers up to: \u001b[39m\u001b[38;5;132;01m{\u001b[39;00mexecuted_layers\u001b[38;5;132;01m}\u001b[39;00m\u001b[38;5;124m\"\u001b[39m\n\u001b[0;32m    307\u001b[0m     ) \u001b[38;5;28;01mfrom\u001b[39;00m \u001b[38;5;21;01me\u001b[39;00m\n\u001b[0;32m    308\u001b[0m \u001b[38;5;28;01mfinally\u001b[39;00m:\n\u001b[0;32m    309\u001b[0m     \u001b[38;5;28;01mif\u001b[39;00m hooks:\n",
      "\u001b[1;31mRuntimeError\u001b[0m: Failed to run torchinfo. See above stack traces for more details. Executed layers up to: [Sequential: 1, ConvLayer: 2, Sequential: 3, Conv2d: 4, BatchNorm2d: 4, ReLU: 4, Dropout2d: 4, ConvLayer: 2, Sequential: 3, Conv2d: 4, BatchNorm2d: 4, ReLU: 4, Dropout2d: 4, ConvLayer: 2, Sequential: 3, Conv2d: 4, BatchNorm2d: 4, ReLU: 4, Dropout2d: 4]"
     ]
    }
   ],
   "source": [
    "simple_model = Net1().to(device)\n",
    "summary(simple_model,(1,3,32,32))"
   ]
  },
  {
   "cell_type": "code",
   "execution_count": null,
   "id": "b07b0465-5fd6-458f-805f-67c3ee0f0f38",
   "metadata": {
    "scrolled": true
   },
   "outputs": [],
   "source": [
    "prev_test_loss = float('inf')\n",
    "\n",
    "optimizer = optim.SGD(simple_model.parameters(), lr=0.2, momentum=0.9)\n",
    "scheduler = optim.lr_scheduler.ReduceLROnPlateau(optimizer=optimizer,mode='min',factor=0.1,patience=5)\n",
    "criterion = nn.NLLLoss()\n",
    "trainer = Trainer(simple_model, simple_train_loader, optimizer, criterion, device)\n",
    "tester = Tester(simple_model, simple_test_loader, criterion, device)\n",
    "\n",
    "for epoch in range(1, 51):\n",
    "    trainer.train(epoch=epoch)\n",
    "    _,test_loss = tester.test()\n",
    "    if prev_test_loss>test_loss:\n",
    "        torch.save(simple_model.state_dict(),'./bmodels/simple_model_with_mp_rf44.pth')\n",
    "    scheduler.step(test_loss)\n"
   ]
  },
  {
   "cell_type": "code",
   "execution_count": null,
   "id": "9fa2423a-34f2-4397-a7c4-4306dfbb3e44",
   "metadata": {},
   "outputs": [],
   "source": [
    "plot_curves(trainer.train_losses,trainer.train_accuracies,tester.test_losses,tester.test_accuracies)"
   ]
  },
  {
   "cell_type": "markdown",
   "id": "c2f01a96-0c62-49cf-9a1a-b046e2c49893",
   "metadata": {},
   "source": [
    "# Model-1 with Augmentation"
   ]
  },
  {
   "cell_type": "code",
   "execution_count": null,
   "id": "49f784c1-a2ae-421c-8d45-3973a5836f02",
   "metadata": {
    "scrolled": true
   },
   "outputs": [],
   "source": [
    "prev_test_loss = float('inf')\n",
    "simple_model = Net1().to(device)\n",
    "optimizer = optim.SGD(simple_model.parameters(), lr=0.2, momentum=0.9)\n",
    "scheduler = optim.lr_scheduler.ReduceLROnPlateau(optimizer=optimizer,mode='min',factor=0.1,patience=5)\n",
    "criterion = nn.NLLLoss()\n",
    "trainer = Trainer(simple_model, train_loader, optimizer, criterion, device)\n",
    "tester = Tester(simple_model, test_loader, criterion, device)\n",
    "\n",
    "for epoch in range(1, 51):\n",
    "    trainer.train(epoch=epoch)\n",
    "    _,test_loss = tester.test()\n",
    "    if prev_test_loss>test_loss:\n",
    "        torch.save(simple_model.state_dict(),'./bmodels/simple_model_with_mp_rf44_aug.pth')\n",
    "    scheduler.step(test_loss)"
   ]
  },
  {
   "cell_type": "code",
   "execution_count": null,
   "id": "f7efc0d9-c208-4313-9df7-e31d0b1fc60b",
   "metadata": {},
   "outputs": [],
   "source": [
    "plot_curves(trainer.train_losses,trainer.train_accuracies,tester.test_losses,tester.test_accuracies)"
   ]
  },
  {
   "cell_type": "markdown",
   "id": "98a41044-f265-4d23-b99f-c9de408b68d1",
   "metadata": {},
   "source": [
    "# Model-2\n",
    "\n",
    "**Objective**\n",
    "- remove MP\n",
    "- use strided instead\n",
    "- rest same as previous model\n",
    "\n",
    "**Results**\n",
    "-\n",
    "-"
   ]
  },
  {
   "cell_type": "code",
   "execution_count": null,
   "id": "bc6515e1-432a-4387-9abb-a4eecf784609",
   "metadata": {},
   "outputs": [],
   "source": [
    "# We used this Squeeze-Expand Network before\n",
    "class Net2(nn.Module):\n",
    "    def __init__(self,dp:int):\n",
    "        super(Net2,self).__init__()\n",
    "        self.dp_rate = dp\n",
    "\n",
    "        self.conv1 = nn.Sequential(\n",
    "            ConvLayer(inc=3,outc=8,k=3,s=1,p=1,d=1,dp_rate=self.dp_rate),\n",
    "            ConvLayer(inc=8,outc=24,k=3,s=1,p=1,d=1,dp_rate=self.dp_rate),\n",
    "            ConvLayer(inc=24,outc=32,k=3,s=2,p=1,d=1,dp_rate=self.dp_rate),\n",
    "        )\n",
    "        # self.trans1 = TransBlock(32,24)\n",
    "        self.trans1 = nn.Sequential(\n",
    "            nn.Conv2d(in_channels=32,out_channels=24,kernel_size=1,bias=False)\n",
    "        )\n",
    "        self.conv2 = nn.Sequential(\n",
    "            ConvLayer(inc=24,outc=32,k=3,s=1,p=1,d=1,dp_rate=self.dp_rate),\n",
    "            ConvLayer(inc=32,outc=32,k=3,s=1,p=1,d=1,dp_rate=self.dp_rate),\n",
    "            ConvLayer(inc=32,outc=64,k=3,s=2,p=1,d=1,dp_rate=self.dp_rate),\n",
    "        )\n",
    "        # self.trans2 = TransBlock(64,32)\n",
    "        self.trans2 = nn.Sequential(\n",
    "            nn.Conv2d(in_channels=64,out_channels=32,kernel_size=1,bias=False)\n",
    "        )\n",
    "        \n",
    "        self.conv3 = nn.Sequential(\n",
    "            ConvLayer(inc=32,outc=64,k=3,s=1,p=1,d=1,dp_rate=self.dp_rate),\n",
    "            ConvLayer(inc=64,outc=64,k=3,s=1,p=1,d=1,dp_rate=self.dp_rate),\n",
    "            ConvLayer(inc=64,outc=128,k=3,s=2,p=1,d=1,dp_rate=self.dp_rate),\n",
    "        )\n",
    "        # self.trans3 = TransBlock(128,64)\n",
    "        self.trans3 = nn.Sequential(\n",
    "            nn.Conv2d(in_channels=128,out_channels=64,kernel_size=1,bias=False)\n",
    "        )\n",
    "        self.conv4 = nn.Sequential(\n",
    "            nn.Conv2d(in_channels=64,out_channels=128,kernel_size=1,bias=False,)\n",
    "        )\n",
    "        self.gap = nn.AdaptiveAvgPool2d(output_size=1)\n",
    "        self.out = nn.Conv2d(128,10,kernel_size=1,bias=False)\n",
    "    def forward(self,x):\n",
    "        x = self.conv1(x)\n",
    "        x = self.trans1(x)\n",
    "        x = self.conv2(x)\n",
    "        x = self.trans2(x)\n",
    "        x = self.conv3(x)\n",
    "        x = self.trans3(x)\n",
    "        x = self.conv4(x)\n",
    "        x = self.gap(x)\n",
    "        x = self.out(x)\n",
    "        return F.log_softmax(x.view(-1,10), dim=1)"
   ]
  },
  {
   "cell_type": "code",
   "execution_count": null,
   "id": "4bd66905-e672-482d-9779-8eea32d3531a",
   "metadata": {
    "scrolled": true
   },
   "outputs": [],
   "source": [
    "model2_removed_mp = Net2(0.2).to(device)\n",
    "# summary(model2_removed_mp,(3,32,32))"
   ]
  },
  {
   "cell_type": "code",
   "execution_count": null,
   "id": "1412ad40-ce53-498d-8098-f6c2b7a8926a",
   "metadata": {
    "scrolled": true
   },
   "outputs": [],
   "source": [
    "prev_test_loss = float('inf')\n",
    "\n",
    "optimizer = optim.SGD(model2_removed_mp.parameters(), lr=0.2, momentum=0.9)\n",
    "scheduler = optim.lr_scheduler.ReduceLROnPlateau(optimizer=optimizer,mode='min',factor=0.1,patience=5)\n",
    "criterion = nn.NLLLoss()\n",
    "trainer = Trainer(model2_removed_mp, train_loader, optimizer, criterion, device)\n",
    "tester = Tester(model2_removed_mp, test_loader, criterion, device)\n",
    "\n",
    "for epoch in range(1, 51):\n",
    "    trainer.train(epoch=epoch)\n",
    "    _,test_loss = tester.test()\n",
    "    if prev_test_loss>test_loss:\n",
    "        torch.save(simple_model.state_dict(),'./bmodels/model1_without_mp.pth')\n",
    "    scheduler.step(test_loss)"
   ]
  },
  {
   "cell_type": "code",
   "execution_count": null,
   "id": "697586f6-8753-4e96-97b1-7217c201842d",
   "metadata": {},
   "outputs": [],
   "source": [
    "plot_curves(trainer.train_losses,trainer.train_accuracies,tester.test_losses,tester.test_accuracies)"
   ]
  },
  {
   "cell_type": "markdown",
   "id": "8861885a-610c-44a5-beeb-aa5f5ae9ff7b",
   "metadata": {},
   "source": [
    "# Model-2 with AUG"
   ]
  },
  {
   "cell_type": "code",
   "execution_count": null,
   "id": "f21d87a1-0f3c-41b5-ab5b-3b1f35bd3d3c",
   "metadata": {
    "scrolled": true
   },
   "outputs": [],
   "source": [
    "prev_test_loss = float('inf')\n",
    "model2_removed_mp = Net2(0.2).to(device)\n",
    "optimizer = optim.SGD(model2_removed_mp.parameters(), lr=0.2, momentum=0.9)\n",
    "scheduler = optim.lr_scheduler.ReduceLROnPlateau(optimizer=optimizer,mode='min',factor=0.1,patience=5)\n",
    "criterion = nn.NLLLoss()\n",
    "trainer = Trainer(model2_removed_mp, simple_train_loader, optimizer, criterion, device)\n",
    "tester = Tester(model2_removed_mp, simple_test_loader, criterion, device)\n",
    "\n",
    "for epoch in range(1, 51):\n",
    "    trainer.train(epoch=epoch)\n",
    "    _,test_loss = tester.test()\n",
    "    if prev_test_loss>test_loss:\n",
    "        torch.save(simple_model.state_dict(),'./bmodels/model1_without_mp.pth')\n",
    "    scheduler.step(test_loss)"
   ]
  },
  {
   "cell_type": "code",
   "execution_count": null,
   "id": "e0e9d733-efc8-4fe0-8d6b-a79f391a1d36",
   "metadata": {},
   "outputs": [],
   "source": [
    "plot_curves(trainer.train_losses,trainer.train_accuracies,tester.test_losses,tester.test_accuracies)"
   ]
  },
  {
   "cell_type": "markdown",
   "id": "492dc54c-944f-4bcb-b8d5-3d8cf2d952e0",
   "metadata": {},
   "source": [
    "# Model\n",
    "\n",
    "## normal model ( no conditions apply)\n",
    "\n",
    "## shrink model  (200k params)\n",
    "\n",
    "## remove maxpool but 3 conv\n",
    "\n",
    "## dialated kernels\n",
    "\n",
    "## depth-wise kernel\n",
    "\n",
    "## all depth-wise kernel\n",
    "\n",
    "## apply albumentation"
   ]
  },
  {
   "cell_type": "code",
   "execution_count": null,
   "id": "1f3a5c0a-09ab-46a8-ac9b-c69bb2ffe806",
   "metadata": {},
   "outputs": [],
   "source": []
  },
  {
   "cell_type": "code",
   "execution_count": null,
   "id": "0bd0186e-2d1c-46c5-9d16-adf8dd3072d4",
   "metadata": {},
   "outputs": [],
   "source": []
  }
 ],
 "metadata": {
  "kernelspec": {
   "display_name": "Python 3 (ipykernel)",
   "language": "python",
   "name": "python3"
  },
  "language_info": {
   "codemirror_mode": {
    "name": "ipython",
    "version": 3
   },
   "file_extension": ".py",
   "mimetype": "text/x-python",
   "name": "python",
   "nbconvert_exporter": "python",
   "pygments_lexer": "ipython3",
   "version": "3.11.4"
  }
 },
 "nbformat": 4,
 "nbformat_minor": 5
}
