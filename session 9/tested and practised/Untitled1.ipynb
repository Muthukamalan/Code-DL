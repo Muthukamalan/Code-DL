{
 "cells": [
  {
   "cell_type": "code",
   "execution_count": 1,
   "id": "fb97bcaa-c262-4007-b58a-91ec718994a8",
   "metadata": {},
   "outputs": [],
   "source": [
    "import numpy as np\n",
    "from torch import nn\n",
    "from torch.nn import functional as F\n",
    "import torch\n",
    "from torch import optim\n",
    "from torchvision import datasets,transforms\n",
    "from torchinfo import summary\n",
    "\n",
    "\n",
    "from trainer import Trainer\n",
    "from tester import Tester\n",
    "from utlis import visualize_data,show_misclassified_images,device,is_cuda\n",
    "from viz import plot_class_distribution, plot_confusion_matrix, plot_curves\n",
    "from dataloader import CIFAR10Dataset,CIFAR10DataLoader\n",
    "from models import ConvLayer,TransBlock,DepthwiseConvLayer\n",
    "from transformations import train_transforms,test_transforms\n",
    "\n",
    "\n",
    "\n",
    "atrain_dataset = CIFAR10Dataset(root='../data/',train=True,Atransforms=train_transforms,download=False)\n",
    "atest_dataset  = CIFAR10Dataset(root='../data/',train=False,Atransforms=test_transforms,download=False)\n",
    "acifar = CIFAR10DataLoader(batch_size=512,is_cuda_available=True)\n",
    "atrain_loader, atest_loader = acifar.get_loader(atrain_dataset,atest_dataset)"
   ]
  },
  {
   "cell_type": "code",
   "execution_count": 2,
   "id": "c6ecd219-61ea-4b62-952e-f019c1d4d3cd",
   "metadata": {},
   "outputs": [],
   "source": [
    "import wandb"
   ]
  },
  {
   "cell_type": "code",
   "execution_count": 3,
   "id": "2a267dcf-1ecc-432a-848e-a6992b692fc3",
   "metadata": {},
   "outputs": [
    {
     "name": "stderr",
     "output_type": "stream",
     "text": [
      "\u001b[34m\u001b[1mwandb\u001b[0m: Currently logged in as: \u001b[33mmuthukamalan98\u001b[0m. Use \u001b[1m`wandb login --relogin`\u001b[0m to force relogin\n"
     ]
    },
    {
     "data": {
      "text/plain": [
       "True"
      ]
     },
     "execution_count": 3,
     "metadata": {},
     "output_type": "execute_result"
    }
   ],
   "source": [
    "import os\n",
    "os.environ['WANDB_API_KEY'] = '47aafcfd9a3f65de61e49bc0362c1b8553d2d9e1'\n",
    "wandb.login(force=True)"
   ]
  },
  {
   "cell_type": "code",
   "execution_count": 4,
   "id": "7592b3d6-d58c-4bcc-922f-4b28a0dc209d",
   "metadata": {},
   "outputs": [
    {
     "data": {
      "text/html": [
       "wandb version 0.15.12 is available!  To upgrade, please run:\n",
       " $ pip install wandb --upgrade"
      ],
      "text/plain": [
       "<IPython.core.display.HTML object>"
      ]
     },
     "metadata": {},
     "output_type": "display_data"
    },
    {
     "data": {
      "text/html": [
       "Tracking run with wandb version 0.15.8"
      ],
      "text/plain": [
       "<IPython.core.display.HTML object>"
      ]
     },
     "metadata": {},
     "output_type": "display_data"
    },
    {
     "data": {
      "text/html": [
       "Run data is saved locally in <code>C:\\Users\\muthu\\Documents\\TSAI\\session 9\\wandb\\run-20231017_093449-r3brakcd</code>"
      ],
      "text/plain": [
       "<IPython.core.display.HTML object>"
      ]
     },
     "metadata": {},
     "output_type": "display_data"
    },
    {
     "data": {
      "text/html": [
       "Syncing run <strong><a href='https://wandb.ai/muthukamalan98/CIFAR10%20/runs/r3brakcd' target=\"_blank\">session 9</a></strong> to <a href='https://wandb.ai/muthukamalan98/CIFAR10%20' target=\"_blank\">Weights & Biases</a> (<a href='https://wandb.me/run' target=\"_blank\">docs</a>)<br/>"
      ],
      "text/plain": [
       "<IPython.core.display.HTML object>"
      ]
     },
     "metadata": {},
     "output_type": "display_data"
    },
    {
     "data": {
      "text/html": [
       " View project at <a href='https://wandb.ai/muthukamalan98/CIFAR10%20' target=\"_blank\">https://wandb.ai/muthukamalan98/CIFAR10%20</a>"
      ],
      "text/plain": [
       "<IPython.core.display.HTML object>"
      ]
     },
     "metadata": {},
     "output_type": "display_data"
    },
    {
     "data": {
      "text/html": [
       " View run at <a href='https://wandb.ai/muthukamalan98/CIFAR10%20/runs/r3brakcd' target=\"_blank\">https://wandb.ai/muthukamalan98/CIFAR10%20/runs/r3brakcd</a>"
      ],
      "text/plain": [
       "<IPython.core.display.HTML object>"
      ]
     },
     "metadata": {},
     "output_type": "display_data"
    },
    {
     "data": {
      "text/html": [
       "<button onClick=\"this.nextSibling.style.display='block';this.style.display='none';\">Display W&B run</button><iframe src='https://wandb.ai/muthukamalan98/CIFAR10%20/runs/r3brakcd?jupyter=true' style='border:none;width:100%;height:420px;display:none;'></iframe>"
      ],
      "text/plain": [
       "<wandb.sdk.wandb_run.Run at 0x231b20ec050>"
      ]
     },
     "execution_count": 4,
     "metadata": {},
     "output_type": "execute_result"
    }
   ],
   "source": [
    "wandb.init(name='session 9', project='CIFAR10 ',notes='This is a introductory project')"
   ]
  },
  {
   "cell_type": "code",
   "execution_count": 5,
   "id": "d443d5ed-5469-4ecf-b9e5-abaa647dccbd",
   "metadata": {},
   "outputs": [],
   "source": [
    "\n",
    "class Net(nn.Module):\n",
    "    #This defines the structure of the NN.\n",
    "    def __init__(self,norm='BN',drop=0.01):\n",
    "      super(Net,self).__init__()\n",
    "\n",
    "      ##Block 1\n",
    "      self.conv1 = nn.Conv2d(3, 16, 3, padding=1,bias=False)\n",
    "      self.norm1 = self.select_norm(norm,16)\n",
    "      self.conv2 = nn.Conv2d(16, 32, 3, padding=1,bias=False)\n",
    "      self.norm2 = self.select_norm(norm,32)\n",
    "      self.conv3 = nn.Conv2d(32, 32, 3, padding=1,bias=False)\n",
    "      self.norm3 = self.select_norm(norm,32)\n",
    "      self.dilated_conv1 = nn.Conv2d(32,32,3,stride = 2,dilation=2,padding=0,bias=False)\n",
    "      self.dilated_norm1 = self.select_norm(norm,32)\n",
    "        \n",
    "      ##Block 2\n",
    "      self.conv4 = nn.Conv2d(32, 32, 3, padding=1,bias=False)\n",
    "      self.norm4 = self.select_norm(norm,32)\n",
    "      self.conv5 = nn.Conv2d(32, 52, 3, padding=1,bias=False)\n",
    "      self.norm5 = self.select_norm(norm,52)\n",
    "      self.dilated_conv2 = nn.Conv2d(52,64,3,stride = 2,dilation=2,padding=0,bias=False)\n",
    "      self.dilated_norm2 = self.select_norm(norm,64)\n",
    "        \n",
    "      ## Block 3\n",
    "      #nn.Conv2d(in_channels=16, out_channels=16, kernel_size=3, groups=16)\n",
    "      self.depthwise_conv1 = nn.Conv2d(64, 64,1,stride = 1,groups = 64, padding=0,bias=False)\n",
    "      self.depthwise_norm1 = self.select_norm(norm,64)\n",
    "      self.conv6 = nn.Conv2d(64, 64, 3, padding=1,bias=False)\n",
    "      self.norm6 = self.select_norm(norm,64)\n",
    "      self.strided_conv1 = nn.Conv2d(64,64,1,stride = 2,padding=1,bias=False)\n",
    "      self.strided_norm1 = self.select_norm(norm,64)\n",
    "        \n",
    "      ## Block 4\n",
    "      self.conv7 = nn.Conv2d(64, 64, 3, padding=1,bias=False)\n",
    "      self.norm7 = self.select_norm(norm,64)\n",
    "      self.conv8 = nn.Conv2d(64,10,3,stride = 1, padding=1,bias=False)\n",
    "\n",
    "      self.drop = nn.Dropout2d(drop)\n",
    "      self.gap = nn.AvgPool2d(4)      \n",
    "\n",
    "    def forward(self, x):\n",
    "        x = self.drop(self.norm1(F.relu(self.conv1(x))))\n",
    "        x = self.drop(self.norm2(F.relu(self.conv2(x))))\n",
    "        x = self.drop(self.norm3(F.relu(self.conv3(x))))\n",
    "        x = self.drop(self.dilated_norm1(F.relu(self.dilated_conv1(x))))\n",
    "\n",
    "        x = self.drop(self.norm4(F.relu(self.conv4(x))))\n",
    "        x = self.drop(self.norm5(F.relu(self.conv5(x))))\n",
    "        x = self.drop(self.dilated_norm2(F.relu(self.dilated_conv2(x))))\n",
    "\n",
    "   \n",
    "\n",
    "        x = self.drop(self.depthwise_norm1(F.relu(self.depthwise_conv1(x))))\n",
    "        x = self.drop(self.norm6(F.relu(self.conv6(x))))\n",
    "        x = self.drop(self.strided_norm1(F.relu(self.strided_conv1(x))))\n",
    "         \n",
    "        x = self.drop(self.norm7(F.relu(self.conv7(x))))\n",
    "        x = self.conv8(x)\n",
    "        x = self.gap(x)\n",
    "      \n",
    "        x = x.view(-1, 10)\n",
    "        return F.log_softmax(x,dim=-1) \n",
    "  \n",
    "        \n",
    "    def select_norm(self, norm, channels,groupsize=2):\n",
    "        if norm == 'BN':\n",
    "            return nn.BatchNorm2d(channels)\n",
    "        elif norm == 'LN':\n",
    "            return nn.GroupNorm(1,channels)\n",
    "        elif norm == 'GN':\n",
    "            return nn.GroupNorm(groupsize,channels)            "
   ]
  },
  {
   "cell_type": "code",
   "execution_count": 6,
   "id": "e90479a5-b4da-416e-96fb-01c5b1198003",
   "metadata": {
    "scrolled": true
   },
   "outputs": [
    {
     "data": {
      "text/plain": [
       "==========================================================================================\n",
       "Layer (type:depth-idx)                   Output Shape              Param #\n",
       "==========================================================================================\n",
       "Net                                      [1, 10]                   --\n",
       "├─Conv2d: 1-1                            [1, 16, 32, 32]           432\n",
       "├─BatchNorm2d: 1-2                       [1, 16, 32, 32]           32\n",
       "├─Dropout2d: 1-3                         [1, 16, 32, 32]           --\n",
       "├─Conv2d: 1-4                            [1, 32, 32, 32]           4,608\n",
       "├─BatchNorm2d: 1-5                       [1, 32, 32, 32]           64\n",
       "├─Dropout2d: 1-6                         [1, 32, 32, 32]           --\n",
       "├─Conv2d: 1-7                            [1, 32, 32, 32]           9,216\n",
       "├─BatchNorm2d: 1-8                       [1, 32, 32, 32]           64\n",
       "├─Dropout2d: 1-9                         [1, 32, 32, 32]           --\n",
       "├─Conv2d: 1-10                           [1, 32, 14, 14]           9,216\n",
       "├─BatchNorm2d: 1-11                      [1, 32, 14, 14]           64\n",
       "├─Dropout2d: 1-12                        [1, 32, 14, 14]           --\n",
       "├─Conv2d: 1-13                           [1, 32, 14, 14]           9,216\n",
       "├─BatchNorm2d: 1-14                      [1, 32, 14, 14]           64\n",
       "├─Dropout2d: 1-15                        [1, 32, 14, 14]           --\n",
       "├─Conv2d: 1-16                           [1, 52, 14, 14]           14,976\n",
       "├─BatchNorm2d: 1-17                      [1, 52, 14, 14]           104\n",
       "├─Dropout2d: 1-18                        [1, 52, 14, 14]           --\n",
       "├─Conv2d: 1-19                           [1, 64, 5, 5]             29,952\n",
       "├─BatchNorm2d: 1-20                      [1, 64, 5, 5]             128\n",
       "├─Dropout2d: 1-21                        [1, 64, 5, 5]             --\n",
       "├─Conv2d: 1-22                           [1, 64, 5, 5]             64\n",
       "├─BatchNorm2d: 1-23                      [1, 64, 5, 5]             128\n",
       "├─Dropout2d: 1-24                        [1, 64, 5, 5]             --\n",
       "├─Conv2d: 1-25                           [1, 64, 5, 5]             36,864\n",
       "├─BatchNorm2d: 1-26                      [1, 64, 5, 5]             128\n",
       "├─Dropout2d: 1-27                        [1, 64, 5, 5]             --\n",
       "├─Conv2d: 1-28                           [1, 64, 4, 4]             4,096\n",
       "├─BatchNorm2d: 1-29                      [1, 64, 4, 4]             128\n",
       "├─Dropout2d: 1-30                        [1, 64, 4, 4]             --\n",
       "├─Conv2d: 1-31                           [1, 64, 4, 4]             36,864\n",
       "├─BatchNorm2d: 1-32                      [1, 64, 4, 4]             128\n",
       "├─Dropout2d: 1-33                        [1, 64, 4, 4]             --\n",
       "├─Conv2d: 1-34                           [1, 10, 4, 4]             5,760\n",
       "├─AvgPool2d: 1-35                        [1, 10, 1, 1]             --\n",
       "==========================================================================================\n",
       "Total params: 162,296\n",
       "Trainable params: 162,296\n",
       "Non-trainable params: 0\n",
       "Total mult-adds (Units.MEGABYTES): 23.57\n",
       "==========================================================================================\n",
       "Input size (MB): 0.01\n",
       "Forward/backward pass size (MB): 1.79\n",
       "Params size (MB): 0.65\n",
       "Estimated Total Size (MB): 2.45\n",
       "=========================================================================================="
      ]
     },
     "execution_count": 6,
     "metadata": {},
     "output_type": "execute_result"
    }
   ],
   "source": [
    "model = Net(norm=\"BN\",drop=0.01)\n",
    "summary(model=model,input_size=(1,3,32,32))"
   ]
  },
  {
   "cell_type": "code",
   "execution_count": 7,
   "id": "6d2e4bb1-80ac-40a8-9fc3-5987c4ae784e",
   "metadata": {
    "scrolled": true
   },
   "outputs": [
    {
     "name": "stderr",
     "output_type": "stream",
     "text": [
      "EPOCH = 1 | LR = 0.1 | Loss = 1.52 | Batch = 97 | Accuracy = 33.32: 100%|███| 98/98 [00:50<00:00,  1.95it/s]\n"
     ]
    },
    {
     "name": "stdout",
     "output_type": "stream",
     "text": [
      "Test set: Average loss: 0.0031, Accuracy: 4391/10000 (43.91%)\n"
     ]
    },
    {
     "name": "stderr",
     "output_type": "stream",
     "text": [
      "EPOCH = 2 | LR = 0.1 | Loss = 1.41 | Batch = 97 | Accuracy = 43.22: 100%|███| 98/98 [00:49<00:00,  1.99it/s]\n"
     ]
    },
    {
     "name": "stdout",
     "output_type": "stream",
     "text": [
      "Test set: Average loss: 0.0026, Accuracy: 5295/10000 (52.95%)\n"
     ]
    },
    {
     "name": "stderr",
     "output_type": "stream",
     "text": [
      "EPOCH = 3 | LR = 0.1 | Loss = 1.42 | Batch = 97 | Accuracy = 48.76: 100%|███| 98/98 [00:48<00:00,  2.02it/s]\n"
     ]
    },
    {
     "name": "stdout",
     "output_type": "stream",
     "text": [
      "Test set: Average loss: 0.0024, Accuracy: 5678/10000 (56.78%)\n"
     ]
    },
    {
     "name": "stderr",
     "output_type": "stream",
     "text": [
      "EPOCH = 4 | LR = 0.1 | Loss = 1.33 | Batch = 97 | Accuracy = 52.24: 100%|███| 98/98 [00:47<00:00,  2.08it/s]\n"
     ]
    },
    {
     "name": "stdout",
     "output_type": "stream",
     "text": [
      "Test set: Average loss: 0.0022, Accuracy: 6121/10000 (61.21%)\n"
     ]
    },
    {
     "name": "stderr",
     "output_type": "stream",
     "text": [
      "EPOCH = 5 | LR = 0.1 | Loss = 1.33 | Batch = 97 | Accuracy = 55.08: 100%|███| 98/98 [00:48<00:00,  2.04it/s]\n"
     ]
    },
    {
     "name": "stdout",
     "output_type": "stream",
     "text": [
      "Test set: Average loss: 0.0021, Accuracy: 6324/10000 (63.24%)\n"
     ]
    },
    {
     "name": "stderr",
     "output_type": "stream",
     "text": [
      "EPOCH = 6 | LR = 0.1 | Loss = 1.13 | Batch = 97 | Accuracy = 57.52: 100%|███| 98/98 [00:31<00:00,  3.12it/s]\n"
     ]
    },
    {
     "name": "stdout",
     "output_type": "stream",
     "text": [
      "Test set: Average loss: 0.0019, Accuracy: 6655/10000 (66.55%)\n"
     ]
    },
    {
     "name": "stderr",
     "output_type": "stream",
     "text": [
      "EPOCH = 7 | LR = 0.1 | Loss = 1.07 | Batch = 97 | Accuracy = 59.20: 100%|███| 98/98 [00:31<00:00,  3.13it/s]\n"
     ]
    },
    {
     "name": "stdout",
     "output_type": "stream",
     "text": [
      "Test set: Average loss: 0.0018, Accuracy: 6804/10000 (68.04%)\n"
     ]
    },
    {
     "name": "stderr",
     "output_type": "stream",
     "text": [
      "EPOCH = 8 | LR = 0.1 | Loss = 1.02 | Batch = 97 | Accuracy = 61.35: 100%|███| 98/98 [00:30<00:00,  3.19it/s]\n"
     ]
    },
    {
     "name": "stdout",
     "output_type": "stream",
     "text": [
      "Test set: Average loss: 0.0017, Accuracy: 7059/10000 (70.59%)\n"
     ]
    },
    {
     "name": "stderr",
     "output_type": "stream",
     "text": [
      "EPOCH = 9 | LR = 0.1 | Loss = 1.02 | Batch = 97 | Accuracy = 62.55: 100%|███| 98/98 [00:30<00:00,  3.17it/s]\n"
     ]
    },
    {
     "name": "stdout",
     "output_type": "stream",
     "text": [
      "Test set: Average loss: 0.0016, Accuracy: 7281/10000 (72.81%)\n"
     ]
    },
    {
     "data": {
      "text/html": [
       "Waiting for W&B process to finish... <strong style=\"color:green\">(success).</strong>"
      ],
      "text/plain": [
       "<IPython.core.display.HTML object>"
      ]
     },
     "metadata": {},
     "output_type": "display_data"
    },
    {
     "data": {
      "text/html": [
       "<style>\n",
       "    table.wandb td:nth-child(1) { padding: 0 10px; text-align: left ; width: auto;} td:nth-child(2) {text-align: left ; width: 100%}\n",
       "    .wandb-row { display: flex; flex-direction: row; flex-wrap: wrap; justify-content: flex-start; width: 100% }\n",
       "    .wandb-col { display: flex; flex-direction: column; flex-basis: 100%; flex: 1; padding: 10px; }\n",
       "    </style>\n",
       "<div class=\"wandb-row\"><div class=\"wandb-col\"><h3>Run history:</h3><br/><table class=\"wandb\"><tr><td>Epoch</td><td>▁▂▃▄▅▅▆▇█</td></tr><tr><td>Train Acc</td><td>▁▃▅▆▆▇▇██</td></tr><tr><td>Train Loss</td><td>▁▁▁▁▁▁▁▁▁</td></tr><tr><td>Valid Acc</td><td>▁▃▄▅▆▆▇▇█</td></tr><tr><td>Valid Loss</td><td>█▆▅▄▄▃▂▁▁</td></tr></table><br/></div><div class=\"wandb-col\"><h3>Run summary:</h3><br/><table class=\"wandb\"><tr><td>Epoch</td><td>9</td></tr><tr><td>Train Acc</td><td>62.55</td></tr><tr><td>Train Loss</td><td>0.0</td></tr><tr><td>Valid Acc</td><td>72.81</td></tr><tr><td>Valid Loss</td><td>0.00155</td></tr></table><br/></div></div>"
      ],
      "text/plain": [
       "<IPython.core.display.HTML object>"
      ]
     },
     "metadata": {},
     "output_type": "display_data"
    },
    {
     "data": {
      "text/html": [
       " View run <strong style=\"color:#cdcd00\">session 9</strong> at: <a href='https://wandb.ai/muthukamalan98/CIFAR10%20/runs/r3brakcd' target=\"_blank\">https://wandb.ai/muthukamalan98/CIFAR10%20/runs/r3brakcd</a><br/> View job at <a href='https://wandb.ai/muthukamalan98/CIFAR10%20/jobs/QXJ0aWZhY3RDb2xsZWN0aW9uOjEwNzM0NDkzMA==/version_details/v0' target=\"_blank\">https://wandb.ai/muthukamalan98/CIFAR10%20/jobs/QXJ0aWZhY3RDb2xsZWN0aW9uOjEwNzM0NDkzMA==/version_details/v0</a><br/>Synced 5 W&B file(s), 0 media file(s), 2 artifact file(s) and 0 other file(s)"
      ],
      "text/plain": [
       "<IPython.core.display.HTML object>"
      ]
     },
     "metadata": {},
     "output_type": "display_data"
    },
    {
     "data": {
      "text/html": [
       "Find logs at: <code>.\\wandb\\run-20231017_093449-r3brakcd\\logs</code>"
      ],
      "text/plain": [
       "<IPython.core.display.HTML object>"
      ]
     },
     "metadata": {},
     "output_type": "display_data"
    }
   ],
   "source": [
    "# prev_test_loss = float('inf')\n",
    "\n",
    "optimizer = optim.SGD(params=model.parameters(), lr=0.1, momentum=0.9)\n",
    "scheduler = optim.lr_scheduler.ReduceLROnPlateau(optimizer=optimizer,mode='min',factor=0.1,patience=3,verbose=True)\n",
    "criterion = nn.NLLLoss()\n",
    "trainer = Trainer(model=model, train_loader=atrain_loader, optimizer=optimizer, criterion=criterion, device=device)\n",
    "tester = Tester(model=model, test_loader=atest_loader,criterion=criterion, device=device)\n",
    "wandb.watch(model)\n",
    "for epoch in range(1, 10):\n",
    "    train_acc,train_loss,_= trainer.train(epoch=epoch)\n",
    "    test_acc ,test_loss = tester.test()\n",
    "    # if prev_test_loss>test_loss:\n",
    "    #     torch.save(obj=model.state_dict(),f='./bmodels/model.pth')\n",
    "    wandb.log({\n",
    "        \"Epoch\": epoch,\n",
    "        \"Train Loss\": train_loss,\n",
    "        \"Train Acc\": train_acc,\n",
    "        \"Valid Loss\": test_loss,\n",
    "        \"Valid Acc\": test_acc\n",
    "    })\n",
    "    scheduler.step(test_loss)\n",
    "wandb.finish()"
   ]
  },
  {
   "cell_type": "code",
   "execution_count": null,
   "id": "0c598bb7-58b8-499b-ab18-05603973438f",
   "metadata": {},
   "outputs": [],
   "source": []
  }
 ],
 "metadata": {
  "kernelspec": {
   "display_name": "Python 3 (ipykernel)",
   "language": "python",
   "name": "python3"
  },
  "language_info": {
   "codemirror_mode": {
    "name": "ipython",
    "version": 3
   },
   "file_extension": ".py",
   "mimetype": "text/x-python",
   "name": "python",
   "nbconvert_exporter": "python",
   "pygments_lexer": "ipython3",
   "version": "3.11.4"
  }
 },
 "nbformat": 4,
 "nbformat_minor": 5
}
