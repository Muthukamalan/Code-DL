{
 "cells": [
  {
   "cell_type": "code",
   "execution_count": 1,
   "id": "3cbb910d-ba63-4522-9bc3-be5065efa54b",
   "metadata": {},
   "outputs": [
    {
     "name": "stdout",
     "output_type": "stream",
     "text": [
      "Sat Oct 21 14:56:14 2023       \n",
      "+---------------------------------------------------------------------------------------+\n",
      "| NVIDIA-SMI 536.67                 Driver Version: 536.67       CUDA Version: 12.2     |\n",
      "|-----------------------------------------+----------------------+----------------------+\n",
      "| GPU  Name                     TCC/WDDM  | Bus-Id        Disp.A | Volatile Uncorr. ECC |\n",
      "| Fan  Temp   Perf          Pwr:Usage/Cap |         Memory-Usage | GPU-Util  Compute M. |\n",
      "|                                         |                      |               MIG M. |\n",
      "|=========================================+======================+======================|\n",
      "|   0  NVIDIA GeForce RTX 4050 ...  WDDM  | 00000000:01:00.0 Off |                  N/A |\n",
      "| N/A   44C    P8               2W / 136W |   3092MiB /  6141MiB |      0%      Default |\n",
      "|                                         |                      |                  N/A |\n",
      "+-----------------------------------------+----------------------+----------------------+\n",
      "                                                                                         \n",
      "+---------------------------------------------------------------------------------------+\n",
      "| Processes:                                                                            |\n",
      "|  GPU   GI   CI        PID   Type   Process name                            GPU Memory |\n",
      "|        ID   ID                                                             Usage      |\n",
      "|=======================================================================================|\n",
      "|    0   N/A  N/A      5812      C   ...miniconda3\\envs\\torchenv\\python.exe    N/A      |\n",
      "+---------------------------------------------------------------------------------------+\n"
     ]
    }
   ],
   "source": [
    "!nvidia-smi"
   ]
  },
  {
   "cell_type": "code",
   "execution_count": 2,
   "id": "a57c779e-bc7c-463c-b3e6-b0a0e607f528",
   "metadata": {},
   "outputs": [],
   "source": [
    "import numpy as np\n",
    "from torch import nn\n",
    "from torch.nn import functional as F\n",
    "import torch\n",
    "from torch import optim\n",
    "from torchvision import datasets,transforms\n",
    "from torchinfo import summary"
   ]
  },
  {
   "cell_type": "code",
   "execution_count": 3,
   "id": "0ca07a56-511b-4c64-ae8b-817b1ec9359f",
   "metadata": {},
   "outputs": [],
   "source": [
    "from transformations import train_transforms,test_transforms"
   ]
  },
  {
   "cell_type": "code",
   "execution_count": 4,
   "id": "6dae444b-7904-4456-8e58-98e20f6b3375",
   "metadata": {},
   "outputs": [],
   "source": [
    "from trainer import Trainer\n",
    "from tester import Tester\n",
    "from utlis import visualize_data,show_misclassified_images,device,is_cuda\n",
    "from viz import plot_class_distribution, plot_confusion_matrix, plot_curves\n",
    "from dataloader import CIFAR10Dataset,CIFAR10DataLoader\n",
    "from models import ConvLayer,TransBlock,DepthwiseConvLayer"
   ]
  },
  {
   "cell_type": "code",
   "execution_count": 5,
   "id": "b03b1999-c6bc-4116-a8b5-8d27ebadc572",
   "metadata": {},
   "outputs": [],
   "source": [
    "# ALbumentation\n",
    "train_dataset = CIFAR10Dataset(root='../data/',train=True,Atransforms=train_transforms,download=False)\n",
    "test_dataset  = CIFAR10Dataset(root='../data/',train=False,Atransforms=test_transforms,download=False)\n",
    "\n",
    "cifar = CIFAR10DataLoader()\n",
    "train_loader,test_loader = cifar.get_loader(train_dataset,test_dataset)"
   ]
  },
  {
   "cell_type": "code",
   "execution_count": 6,
   "id": "732b9408-c760-41cc-80ea-38517bc6fcf4",
   "metadata": {},
   "outputs": [],
   "source": [
    "# cifar = CIFAR10DataLoader()\n",
    "# simple_train_loader , simple_test_loader = cifar.get_loader(\n",
    "#     CIFAR10Dataset(root='../data/',train=True,Atransforms=test_transforms,download=False),\n",
    "#     CIFAR10Dataset(root='../data/',train=False,Atransforms=test_transforms,download=False)\n",
    "# )"
   ]
  },
  {
   "cell_type": "markdown",
   "id": "b51fc272-51e9-4dce-9497-7b937f62026b",
   "metadata": {},
   "source": [
    "# Resnet like Architecture"
   ]
  },
  {
   "cell_type": "code",
   "execution_count": 7,
   "id": "e03ce79f-34b1-4df2-a091-81d01ddb2562",
   "metadata": {},
   "outputs": [],
   "source": [
    "# We used this Squeeze-Expand Network before\n",
    "class Net1(nn.Module):\n",
    "    def __init__(self):\n",
    "        super(Net1,self).__init__()\n",
    "        self.dp_rate = 0.2\n",
    "\n",
    "        self.c1 = ConvLayer(inc=3,outc=16,s=1,k=3,p=1,d=1,dp_rate=self.dp_rate)\n",
    "        self.c2 = ConvLayer(inc=16,outc=16,s=1,p=1,k=3,d=1,dp_rate=self.dp_rate)\n",
    "        self.c3 = ConvLayer(inc=16,outc=32,s=2,p=1,d=1,k=3,dp_rate=self.dp_rate)\n",
    "        \n",
    "        self.c4 = ConvLayer(inc=32,outc=32,k=3,s=1,p=1,d=1,dp_rate=self.dp_rate)\n",
    "        self.c5 = ConvLayer(inc=32,outc=32,k=3,s=1,p=1,d=1,dp_rate=self.dp_rate)\n",
    "        self.c6 = ConvLayer(inc=32,outc=32,k=3,s=2,p=1,d=1,dp_rate=self.dp_rate)\n",
    "\n",
    "        self.c7 = ConvLayer(inc=32,outc=60,k=3,s=1,p=1,d=1,dp_rate=self.dp_rate)\n",
    "        self.c8 = ConvLayer(inc=60,outc=60,k=3,s=1,p=1,d=1,dp_rate=self.dp_rate)\n",
    "        self.c9 = nn.Sequential(\n",
    "            nn.Conv2d(in_channels=60,out_channels=60,kernel_size=3,stride=2,dilation=1,padding=1,bias=False)\n",
    "        )\n",
    "\n",
    "        self.gap = nn.AdaptiveAvgPool2d(output_size=1)\n",
    "        self.c10 = nn.Conv2d(60,10,kernel_size=1,bias=False)\n",
    "    def forward(self,x):\n",
    "        x = self.c1(x)\n",
    "        x = x + self.c2(x)\n",
    "        x = self.c3(x)\n",
    "        \n",
    "        x = x+self.c4(x)\n",
    "        x = x+self.c5(x)\n",
    "        x = self.c6(x)\n",
    "\n",
    "        x = self.c7(x)\n",
    "        x = x + self.c8(x)\n",
    "        x = self.c9(x)\n",
    "\n",
    "        x = self.gap(x)\n",
    "        x = self.c10(x)\n",
    "        return F.log_softmax(x.view(-1,10), dim=1)"
   ]
  },
  {
   "cell_type": "code",
   "execution_count": 8,
   "id": "02e86540-7c65-4a0d-af35-a300858cc215",
   "metadata": {},
   "outputs": [
    {
     "data": {
      "text/plain": [
       "==========================================================================================\n",
       "Layer (type:depth-idx)                   Output Shape              Param #\n",
       "==========================================================================================\n",
       "Net1                                     [1, 10]                   --\n",
       "├─ConvLayer: 1-1                         [1, 16, 32, 32]           --\n",
       "│    └─Sequential: 2-1                   [1, 16, 32, 32]           --\n",
       "│    │    └─Conv2d: 3-1                  [1, 16, 32, 32]           432\n",
       "│    │    └─BatchNorm2d: 3-2             [1, 16, 32, 32]           32\n",
       "│    │    └─ReLU: 3-3                    [1, 16, 32, 32]           --\n",
       "│    │    └─Dropout2d: 3-4               [1, 16, 32, 32]           --\n",
       "├─ConvLayer: 1-2                         [1, 16, 32, 32]           --\n",
       "│    └─Sequential: 2-2                   [1, 16, 32, 32]           --\n",
       "│    │    └─Conv2d: 3-5                  [1, 16, 32, 32]           2,304\n",
       "│    │    └─BatchNorm2d: 3-6             [1, 16, 32, 32]           32\n",
       "│    │    └─ReLU: 3-7                    [1, 16, 32, 32]           --\n",
       "│    │    └─Dropout2d: 3-8               [1, 16, 32, 32]           --\n",
       "├─ConvLayer: 1-3                         [1, 32, 16, 16]           --\n",
       "│    └─Sequential: 2-3                   [1, 32, 16, 16]           --\n",
       "│    │    └─Conv2d: 3-9                  [1, 32, 16, 16]           4,608\n",
       "│    │    └─BatchNorm2d: 3-10            [1, 32, 16, 16]           64\n",
       "│    │    └─ReLU: 3-11                   [1, 32, 16, 16]           --\n",
       "│    │    └─Dropout2d: 3-12              [1, 32, 16, 16]           --\n",
       "├─ConvLayer: 1-4                         [1, 32, 16, 16]           --\n",
       "│    └─Sequential: 2-4                   [1, 32, 16, 16]           --\n",
       "│    │    └─Conv2d: 3-13                 [1, 32, 16, 16]           9,216\n",
       "│    │    └─BatchNorm2d: 3-14            [1, 32, 16, 16]           64\n",
       "│    │    └─ReLU: 3-15                   [1, 32, 16, 16]           --\n",
       "│    │    └─Dropout2d: 3-16              [1, 32, 16, 16]           --\n",
       "├─ConvLayer: 1-5                         [1, 32, 16, 16]           --\n",
       "│    └─Sequential: 2-5                   [1, 32, 16, 16]           --\n",
       "│    │    └─Conv2d: 3-17                 [1, 32, 16, 16]           9,216\n",
       "│    │    └─BatchNorm2d: 3-18            [1, 32, 16, 16]           64\n",
       "│    │    └─ReLU: 3-19                   [1, 32, 16, 16]           --\n",
       "│    │    └─Dropout2d: 3-20              [1, 32, 16, 16]           --\n",
       "├─ConvLayer: 1-6                         [1, 32, 8, 8]             --\n",
       "│    └─Sequential: 2-6                   [1, 32, 8, 8]             --\n",
       "│    │    └─Conv2d: 3-21                 [1, 32, 8, 8]             9,216\n",
       "│    │    └─BatchNorm2d: 3-22            [1, 32, 8, 8]             64\n",
       "│    │    └─ReLU: 3-23                   [1, 32, 8, 8]             --\n",
       "│    │    └─Dropout2d: 3-24              [1, 32, 8, 8]             --\n",
       "├─ConvLayer: 1-7                         [1, 60, 8, 8]             --\n",
       "│    └─Sequential: 2-7                   [1, 60, 8, 8]             --\n",
       "│    │    └─Conv2d: 3-25                 [1, 60, 8, 8]             17,280\n",
       "│    │    └─BatchNorm2d: 3-26            [1, 60, 8, 8]             120\n",
       "│    │    └─ReLU: 3-27                   [1, 60, 8, 8]             --\n",
       "│    │    └─Dropout2d: 3-28              [1, 60, 8, 8]             --\n",
       "├─ConvLayer: 1-8                         [1, 60, 8, 8]             --\n",
       "│    └─Sequential: 2-8                   [1, 60, 8, 8]             --\n",
       "│    │    └─Conv2d: 3-29                 [1, 60, 8, 8]             32,400\n",
       "│    │    └─BatchNorm2d: 3-30            [1, 60, 8, 8]             120\n",
       "│    │    └─ReLU: 3-31                   [1, 60, 8, 8]             --\n",
       "│    │    └─Dropout2d: 3-32              [1, 60, 8, 8]             --\n",
       "├─Sequential: 1-9                        [1, 60, 4, 4]             --\n",
       "│    └─Conv2d: 2-9                       [1, 60, 4, 4]             32,400\n",
       "├─AdaptiveAvgPool2d: 1-10                [1, 60, 1, 1]             --\n",
       "├─Conv2d: 1-11                           [1, 10, 1, 1]             600\n",
       "==========================================================================================\n",
       "Total params: 118,232\n",
       "Trainable params: 118,232\n",
       "Non-trainable params: 0\n",
       "Total mult-adds (Units.MEGABYTES): 12.99\n",
       "==========================================================================================\n",
       "Input size (MB): 0.01\n",
       "Forward/backward pass size (MB): 1.08\n",
       "Params size (MB): 0.47\n",
       "Estimated Total Size (MB): 1.57\n",
       "=========================================================================================="
      ]
     },
     "execution_count": 8,
     "metadata": {},
     "output_type": "execute_result"
    }
   ],
   "source": [
    "simple_model = Net1().to(device)\n",
    "summary(simple_model,(1,3,32,32))"
   ]
  },
  {
   "cell_type": "code",
   "execution_count": 9,
   "id": "2a3650fc-60f6-4fd5-a026-83a0699d33bf",
   "metadata": {
    "scrolled": true
   },
   "outputs": [
    {
     "name": "stderr",
     "output_type": "stream",
     "text": [
      "EPOCH = 1 | LR = 0.1 | Loss = 1.86 | Batch = 390 | Accuracy = 24.45: 100%|█| 391/391 [00:16<00:00, 24.00it/s\n"
     ]
    },
    {
     "name": "stdout",
     "output_type": "stream",
     "text": [
      "Test set: Average loss: 0.0134, Accuracy: 3612/10000 (36.12%)\n"
     ]
    },
    {
     "name": "stderr",
     "output_type": "stream",
     "text": [
      "EPOCH = 2 | LR = 0.1 | Loss = 1.86 | Batch = 390 | Accuracy = 32.66: 100%|█| 391/391 [00:17<00:00, 22.75it/s\n"
     ]
    },
    {
     "name": "stdout",
     "output_type": "stream",
     "text": [
      "Test set: Average loss: 0.0124, Accuracy: 4264/10000 (42.64%)\n"
     ]
    },
    {
     "name": "stderr",
     "output_type": "stream",
     "text": [
      "EPOCH = 3 | LR = 0.1 | Loss = 1.63 | Batch = 390 | Accuracy = 35.82: 100%|█| 391/391 [00:16<00:00, 23.34it/s\n"
     ]
    },
    {
     "name": "stdout",
     "output_type": "stream",
     "text": [
      "Test set: Average loss: 0.0119, Accuracy: 4355/10000 (43.55%)\n"
     ]
    },
    {
     "name": "stderr",
     "output_type": "stream",
     "text": [
      "EPOCH = 4 | LR = 0.1 | Loss = 1.66 | Batch = 390 | Accuracy = 37.89: 100%|█| 391/391 [00:16<00:00, 23.39it/s\n"
     ]
    },
    {
     "name": "stdout",
     "output_type": "stream",
     "text": [
      "Test set: Average loss: 0.0114, Accuracy: 4604/10000 (46.04%)\n"
     ]
    }
   ],
   "source": [
    "prev_test_loss = float('inf')\n",
    "simple_model = Net1().to(device)\n",
    "optimizer = optim.SGD(simple_model.parameters(), lr=0.1, momentum=0.9)\n",
    "scheduler = optim.lr_scheduler.ReduceLROnPlateau(optimizer=optimizer,mode='min',factor=0.1,patience=5)\n",
    "criterion = nn.NLLLoss()\n",
    "trainer = Trainer(simple_model, train_loader, optimizer, criterion, device)\n",
    "tester = Tester(simple_model, test_loader, criterion, device)\n",
    "\n",
    "for epoch in range(1, 5):\n",
    "    trainer.train(epoch=epoch)\n",
    "    _,test_loss = tester.test()\n",
    "    if prev_test_loss>test_loss:\n",
    "        torch.save(simple_model.state_dict(),'./bmodels/simple_model_with_mp_rf44.pth')\n",
    "    scheduler.step(test_loss)"
   ]
  },
  {
   "cell_type": "code",
   "execution_count": 10,
   "id": "d40c3b09-de6b-441f-a4ca-b34cbc0fa982",
   "metadata": {},
   "outputs": [
    {
     "data": {
      "image/png": "[encoded data removed]",
      "text/plain": [
       "<Figure size 1500x1000 with 4 Axes>"
      ]
     },
     "metadata": {},
     "output_type": "display_data"
    }
   ],
   "source": [
    "plot_curves(trainer.train_losses,trainer.train_accuracies,tester.test_losses,tester.test_accuracies)"
   ]
  },
  {
   "cell_type": "code",
   "execution_count": 11,
   "id": "19cf02e0-bfdd-4704-bc0e-a232502a9d0a",
   "metadata": {},
   "outputs": [],
   "source": [
    "# We used this Squeeze-Expand Network before\n",
    "class Net2(nn.Module):\n",
    "    def __init__(self):\n",
    "        super(Net2,self).__init__()\n",
    "        self.dp_rate = 0.1\n",
    "\n",
    "        self.c1 = ConvLayer(inc=3,outc=16,s=1,k=3,p=1,d=1,dp_rate=self.dp_rate)\n",
    "        self.c2 = ConvLayer(inc=16,outc=16,s=1,p=1,k=3,d=1,dp_rate=self.dp_rate)\n",
    "        self.c3 = ConvLayer(inc=16,outc=32,s=2,p=1,d=1,k=3,dp_rate=self.dp_rate)\n",
    "        \n",
    "        self.c4 = ConvLayer(inc=32,outc=40,k=3,s=1,p=1,d=1,dp_rate=self.dp_rate)\n",
    "        self.c5 = ConvLayer(inc=40,outc=40,k=3,s=1,p=1,d=1,dp_rate=self.dp_rate)\n",
    "        self.c6 = ConvLayer(inc=40,outc=40,k=3,s=2,p=1,d=1,dp_rate=self.dp_rate)\n",
    "\n",
    "        self.c7 = ConvLayer(inc=40,outc=80,k=3,s=1,p=1,d=1,dp_rate=self.dp_rate)\n",
    "        self.c8 = ConvLayer(inc=80,outc=80,k=3,s=1,p=1,d=1,dp_rate=self.dp_rate)\n",
    "        self.c9 = nn.Sequential(\n",
    "            nn.Conv2d(in_channels=80,out_channels=70,kernel_size=3,stride=2,dilation=1,padding=1,bias=False)\n",
    "        )\n",
    "\n",
    "        self.gap = nn.AdaptiveAvgPool2d(output_size=1)\n",
    "        self.c10 = nn.Conv2d(70,10,kernel_size=1,bias=False)\n",
    "    def forward(self,x):\n",
    "        x = self.c1(x)\n",
    "        x = x + self.c2(x)\n",
    "        x = self.c3(x)\n",
    "        \n",
    "        x = self.c4(x)\n",
    "        x = x+self.c5(x)\n",
    "        x = self.c6(x)\n",
    "\n",
    "        x = self.c7(x)\n",
    "        x = x + self.c8(x)\n",
    "        x = self.c9(x)\n",
    "\n",
    "        x = self.gap(x)\n",
    "        x = self.c10(x)\n",
    "        return F.log_softmax(x.view(-1,10), dim=1)"
   ]
  },
  {
   "cell_type": "code",
   "execution_count": 12,
   "id": "7fdefbd0-c666-44a4-8cbc-abbe1b8c07de",
   "metadata": {
    "scrolled": true
   },
   "outputs": [
    {
     "data": {
      "text/plain": [
       "==========================================================================================\n",
       "Layer (type:depth-idx)                   Output Shape              Param #\n",
       "==========================================================================================\n",
       "Net2                                     [1, 10]                   --\n",
       "├─ConvLayer: 1-1                         [1, 16, 32, 32]           --\n",
       "│    └─Sequential: 2-1                   [1, 16, 32, 32]           --\n",
       "│    │    └─Conv2d: 3-1                  [1, 16, 32, 32]           432\n",
       "│    │    └─BatchNorm2d: 3-2             [1, 16, 32, 32]           32\n",
       "│    │    └─ReLU: 3-3                    [1, 16, 32, 32]           --\n",
       "│    │    └─Dropout2d: 3-4               [1, 16, 32, 32]           --\n",
       "├─ConvLayer: 1-2                         [1, 16, 32, 32]           --\n",
       "│    └─Sequential: 2-2                   [1, 16, 32, 32]           --\n",
       "│    │    └─Conv2d: 3-5                  [1, 16, 32, 32]           2,304\n",
       "│    │    └─BatchNorm2d: 3-6             [1, 16, 32, 32]           32\n",
       "│    │    └─ReLU: 3-7                    [1, 16, 32, 32]           --\n",
       "│    │    └─Dropout2d: 3-8               [1, 16, 32, 32]           --\n",
       "├─ConvLayer: 1-3                         [1, 32, 16, 16]           --\n",
       "│    └─Sequential: 2-3                   [1, 32, 16, 16]           --\n",
       "│    │    └─Conv2d: 3-9                  [1, 32, 16, 16]           4,608\n",
       "│    │    └─BatchNorm2d: 3-10            [1, 32, 16, 16]           64\n",
       "│    │    └─ReLU: 3-11                   [1, 32, 16, 16]           --\n",
       "│    │    └─Dropout2d: 3-12              [1, 32, 16, 16]           --\n",
       "├─ConvLayer: 1-4                         [1, 40, 16, 16]           --\n",
       "│    └─Sequential: 2-4                   [1, 40, 16, 16]           --\n",
       "│    │    └─Conv2d: 3-13                 [1, 40, 16, 16]           11,520\n",
       "│    │    └─BatchNorm2d: 3-14            [1, 40, 16, 16]           80\n",
       "│    │    └─ReLU: 3-15                   [1, 40, 16, 16]           --\n",
       "│    │    └─Dropout2d: 3-16              [1, 40, 16, 16]           --\n",
       "├─ConvLayer: 1-5                         [1, 40, 16, 16]           --\n",
       "│    └─Sequential: 2-5                   [1, 40, 16, 16]           --\n",
       "│    │    └─Conv2d: 3-17                 [1, 40, 16, 16]           14,400\n",
       "│    │    └─BatchNorm2d: 3-18            [1, 40, 16, 16]           80\n",
       "│    │    └─ReLU: 3-19                   [1, 40, 16, 16]           --\n",
       "│    │    └─Dropout2d: 3-20              [1, 40, 16, 16]           --\n",
       "├─ConvLayer: 1-6                         [1, 40, 8, 8]             --\n",
       "│    └─Sequential: 2-6                   [1, 40, 8, 8]             --\n",
       "│    │    └─Conv2d: 3-21                 [1, 40, 8, 8]             14,400\n",
       "│    │    └─BatchNorm2d: 3-22            [1, 40, 8, 8]             80\n",
       "│    │    └─ReLU: 3-23                   [1, 40, 8, 8]             --\n",
       "│    │    └─Dropout2d: 3-24              [1, 40, 8, 8]             --\n",
       "├─ConvLayer: 1-7                         [1, 80, 8, 8]             --\n",
       "│    └─Sequential: 2-7                   [1, 80, 8, 8]             --\n",
       "│    │    └─Conv2d: 3-25                 [1, 80, 8, 8]             28,800\n",
       "│    │    └─BatchNorm2d: 3-26            [1, 80, 8, 8]             160\n",
       "│    │    └─ReLU: 3-27                   [1, 80, 8, 8]             --\n",
       "│    │    └─Dropout2d: 3-28              [1, 80, 8, 8]             --\n",
       "├─ConvLayer: 1-8                         [1, 80, 8, 8]             --\n",
       "│    └─Sequential: 2-8                   [1, 80, 8, 8]             --\n",
       "│    │    └─Conv2d: 3-29                 [1, 80, 8, 8]             57,600\n",
       "│    │    └─BatchNorm2d: 3-30            [1, 80, 8, 8]             160\n",
       "│    │    └─ReLU: 3-31                   [1, 80, 8, 8]             --\n",
       "│    │    └─Dropout2d: 3-32              [1, 80, 8, 8]             --\n",
       "├─Sequential: 1-9                        [1, 70, 4, 4]             --\n",
       "│    └─Conv2d: 2-9                       [1, 70, 4, 4]             50,400\n",
       "├─AdaptiveAvgPool2d: 1-10                [1, 70, 1, 1]             --\n",
       "├─Conv2d: 1-11                           [1, 10, 1, 1]             700\n",
       "==========================================================================================\n",
       "Total params: 185,852\n",
       "Trainable params: 185,852\n",
       "Non-trainable params: 0\n",
       "Total mult-adds (Units.MEGABYTES): 17.88\n",
       "==========================================================================================\n",
       "Input size (MB): 0.01\n",
       "Forward/backward pass size (MB): 1.20\n",
       "Params size (MB): 0.74\n",
       "Estimated Total Size (MB): 1.95\n",
       "=========================================================================================="
      ]
     },
     "execution_count": 12,
     "metadata": {},
     "output_type": "execute_result"
    }
   ],
   "source": [
    "model2 = Net2().to(device)\n",
    "summary(model2,(1,3,32,32))"
   ]
  },
  {
   "cell_type": "code",
   "execution_count": 13,
   "id": "326e1246-de51-460c-a98a-a9618ff1ff3f",
   "metadata": {
    "scrolled": true
   },
   "outputs": [
    {
     "name": "stderr",
     "output_type": "stream",
     "text": [
      "EPOCH = 1 | LR = 0.1 | Loss = 1.83 | Batch = 390 | Accuracy = 25.89: 100%|█| 391/391 [00:18<00:00, 20.62it/s\n"
     ]
    },
    {
     "name": "stdout",
     "output_type": "stream",
     "text": [
      "Test set: Average loss: 0.0131, Accuracy: 3695/10000 (36.95%)\n"
     ]
    },
    {
     "name": "stderr",
     "output_type": "stream",
     "text": [
      "EPOCH = 2 | LR = 0.1 | Loss = 1.76 | Batch = 390 | Accuracy = 35.15: 100%|█| 391/391 [00:18<00:00, 21.00it/s\n"
     ]
    },
    {
     "name": "stdout",
     "output_type": "stream",
     "text": [
      "Test set: Average loss: 0.0118, Accuracy: 4456/10000 (44.56%)\n"
     ]
    },
    {
     "name": "stderr",
     "output_type": "stream",
     "text": [
      "EPOCH = 3 | LR = 0.1 | Loss = 1.56 | Batch = 390 | Accuracy = 39.09: 100%|█| 391/391 [00:16<00:00, 23.15it/s\n"
     ]
    },
    {
     "name": "stdout",
     "output_type": "stream",
     "text": [
      "Test set: Average loss: 0.0107, Accuracy: 5082/10000 (50.82%)\n"
     ]
    },
    {
     "name": "stderr",
     "output_type": "stream",
     "text": [
      "EPOCH = 4 | LR = 0.1 | Loss = 1.51 | Batch = 390 | Accuracy = 42.73: 100%|█| 391/391 [00:17<00:00, 22.93it/s\n"
     ]
    },
    {
     "name": "stdout",
     "output_type": "stream",
     "text": [
      "Test set: Average loss: 0.0100, Accuracy: 5456/10000 (54.56%)\n"
     ]
    },
    {
     "name": "stderr",
     "output_type": "stream",
     "text": [
      "EPOCH = 5 | LR = 0.1 | Loss = 1.41 | Batch = 390 | Accuracy = 45.67: 100%|█| 391/391 [00:19<00:00, 20.41it/s\n"
     ]
    },
    {
     "name": "stdout",
     "output_type": "stream",
     "text": [
      "Test set: Average loss: 0.0093, Accuracy: 5743/10000 (57.43%)\n"
     ]
    },
    {
     "name": "stderr",
     "output_type": "stream",
     "text": [
      "EPOCH = 6 | LR = 0.1 | Loss = 1.53 | Batch = 390 | Accuracy = 47.93: 100%|█| 391/391 [00:17<00:00, 22.85it/s\n"
     ]
    },
    {
     "name": "stdout",
     "output_type": "stream",
     "text": [
      "Test set: Average loss: 0.0093, Accuracy: 5670/10000 (56.70%)\n"
     ]
    },
    {
     "name": "stderr",
     "output_type": "stream",
     "text": [
      "EPOCH = 7 | LR = 0.1 | Loss = 1.67 | Batch = 390 | Accuracy = 49.66: 100%|█| 391/391 [00:17<00:00, 22.44it/s\n"
     ]
    },
    {
     "name": "stdout",
     "output_type": "stream",
     "text": [
      "Test set: Average loss: 0.0083, Accuracy: 6205/10000 (62.05%)\n"
     ]
    },
    {
     "name": "stderr",
     "output_type": "stream",
     "text": [
      "EPOCH = 8 | LR = 0.1 | Loss = 1.61 | Batch = 390 | Accuracy = 50.97: 100%|█| 391/391 [00:18<00:00, 21.26it/s\n"
     ]
    },
    {
     "name": "stdout",
     "output_type": "stream",
     "text": [
      "Test set: Average loss: 0.0084, Accuracy: 6105/10000 (61.05%)\n"
     ]
    },
    {
     "name": "stderr",
     "output_type": "stream",
     "text": [
      "EPOCH = 9 | LR = 0.1 | Loss = 1.29 | Batch = 390 | Accuracy = 52.36: 100%|█| 391/391 [00:16<00:00, 24.08it/s\n"
     ]
    },
    {
     "name": "stdout",
     "output_type": "stream",
     "text": [
      "Test set: Average loss: 0.0092, Accuracy: 5861/10000 (58.61%)\n"
     ]
    },
    {
     "name": "stderr",
     "output_type": "stream",
     "text": [
      "EPOCH = 10 | LR = 0.1 | Loss = 1.04 | Batch = 390 | Accuracy = 53.57: 100%|█| 391/391 [00:18<00:00, 21.62it/\n"
     ]
    },
    {
     "name": "stdout",
     "output_type": "stream",
     "text": [
      "Test set: Average loss: 0.0078, Accuracy: 6501/10000 (65.01%)\n"
     ]
    },
    {
     "name": "stderr",
     "output_type": "stream",
     "text": [
      "EPOCH = 11 | LR = 0.1 | Loss = 1.14 | Batch = 390 | Accuracy = 54.73: 100%|█| 391/391 [00:19<00:00, 20.52it/\n"
     ]
    },
    {
     "name": "stdout",
     "output_type": "stream",
     "text": [
      "Test set: Average loss: 0.0078, Accuracy: 6558/10000 (65.58%)\n"
     ]
    },
    {
     "name": "stderr",
     "output_type": "stream",
     "text": [
      "EPOCH = 12 | LR = 0.1 | Loss = 1.37 | Batch = 390 | Accuracy = 55.98: 100%|█| 391/391 [00:19<00:00, 20.44it/\n"
     ]
    },
    {
     "name": "stdout",
     "output_type": "stream",
     "text": [
      "Test set: Average loss: 0.0070, Accuracy: 6847/10000 (68.47%)\n"
     ]
    },
    {
     "name": "stderr",
     "output_type": "stream",
     "text": [
      "EPOCH = 13 | LR = 0.1 | Loss = 1.08 | Batch = 390 | Accuracy = 56.46: 100%|█| 391/391 [00:17<00:00, 22.78it/\n"
     ]
    },
    {
     "name": "stdout",
     "output_type": "stream",
     "text": [
      "Test set: Average loss: 0.0071, Accuracy: 6821/10000 (68.21%)\n"
     ]
    },
    {
     "name": "stderr",
     "output_type": "stream",
     "text": [
      "EPOCH = 14 | LR = 0.1 | Loss = 1.21 | Batch = 390 | Accuracy = 57.05: 100%|█| 391/391 [00:19<00:00, 20.29it/\n"
     ]
    },
    {
     "name": "stdout",
     "output_type": "stream",
     "text": [
      "Test set: Average loss: 0.0068, Accuracy: 6958/10000 (69.58%)\n"
     ]
    },
    {
     "name": "stderr",
     "output_type": "stream",
     "text": [
      "EPOCH = 15 | LR = 0.1 | Loss = 1.53 | Batch = 390 | Accuracy = 57.41: 100%|█| 391/391 [00:18<00:00, 20.78it/\n"
     ]
    },
    {
     "name": "stdout",
     "output_type": "stream",
     "text": [
      "Test set: Average loss: 0.0067, Accuracy: 7025/10000 (70.25%)\n"
     ]
    },
    {
     "name": "stderr",
     "output_type": "stream",
     "text": [
      "EPOCH = 16 | LR = 0.1 | Loss = 0.94 | Batch = 390 | Accuracy = 58.71: 100%|█| 391/391 [00:17<00:00, 22.97it/\n"
     ]
    },
    {
     "name": "stdout",
     "output_type": "stream",
     "text": [
      "Test set: Average loss: 0.0068, Accuracy: 6957/10000 (69.57%)\n"
     ]
    },
    {
     "name": "stderr",
     "output_type": "stream",
     "text": [
      "EPOCH = 17 | LR = 0.1 | Loss = 1.08 | Batch = 390 | Accuracy = 58.77: 100%|█| 391/391 [00:17<00:00, 22.63it/\n"
     ]
    },
    {
     "name": "stdout",
     "output_type": "stream",
     "text": [
      "Test set: Average loss: 0.0066, Accuracy: 7063/10000 (70.63%)\n"
     ]
    },
    {
     "name": "stderr",
     "output_type": "stream",
     "text": [
      "EPOCH = 18 | LR = 0.1 | Loss = 0.96 | Batch = 390 | Accuracy = 59.92: 100%|█| 391/391 [00:17<00:00, 22.20it/\n"
     ]
    },
    {
     "name": "stdout",
     "output_type": "stream",
     "text": [
      "Test set: Average loss: 0.0061, Accuracy: 7347/10000 (73.47%)\n"
     ]
    },
    {
     "name": "stderr",
     "output_type": "stream",
     "text": [
      "EPOCH = 19 | LR = 0.1 | Loss = 1.64 | Batch = 390 | Accuracy = 60.28: 100%|█| 391/391 [00:16<00:00, 23.34it/\n"
     ]
    },
    {
     "name": "stdout",
     "output_type": "stream",
     "text": [
      "Test set: Average loss: 0.0062, Accuracy: 7269/10000 (72.69%)\n"
     ]
    },
    {
     "name": "stderr",
     "output_type": "stream",
     "text": [
      "EPOCH = 20 | LR = 0.1 | Loss = 1.23 | Batch = 390 | Accuracy = 60.83: 100%|█| 391/391 [00:17<00:00, 22.37it/\n"
     ]
    },
    {
     "name": "stdout",
     "output_type": "stream",
     "text": [
      "Test set: Average loss: 0.0060, Accuracy: 7408/10000 (74.08%)\n"
     ]
    },
    {
     "name": "stderr",
     "output_type": "stream",
     "text": [
      "EPOCH = 21 | LR = 0.1 | Loss = 1.35 | Batch = 390 | Accuracy = 61.28: 100%|█| 391/391 [00:18<00:00, 20.88it/\n"
     ]
    },
    {
     "name": "stdout",
     "output_type": "stream",
     "text": [
      "Test set: Average loss: 0.0060, Accuracy: 7386/10000 (73.86%)\n"
     ]
    },
    {
     "name": "stderr",
     "output_type": "stream",
     "text": [
      "EPOCH = 22 | LR = 0.1 | Loss = 1.03 | Batch = 390 | Accuracy = 61.41: 100%|█| 391/391 [00:17<00:00, 22.73it/\n"
     ]
    },
    {
     "name": "stdout",
     "output_type": "stream",
     "text": [
      "Test set: Average loss: 0.0057, Accuracy: 7553/10000 (75.53%)\n"
     ]
    },
    {
     "name": "stderr",
     "output_type": "stream",
     "text": [
      "EPOCH = 23 | LR = 0.1 | Loss = 1.30 | Batch = 390 | Accuracy = 61.72: 100%|█| 391/391 [00:17<00:00, 22.88it/\n"
     ]
    },
    {
     "name": "stdout",
     "output_type": "stream",
     "text": [
      "Test set: Average loss: 0.0059, Accuracy: 7401/10000 (74.01%)\n"
     ]
    },
    {
     "name": "stderr",
     "output_type": "stream",
     "text": [
      "EPOCH = 24 | LR = 0.1 | Loss = 1.32 | Batch = 390 | Accuracy = 61.97: 100%|█| 391/391 [00:19<00:00, 20.50it/\n"
     ]
    },
    {
     "name": "stdout",
     "output_type": "stream",
     "text": [
      "Test set: Average loss: 0.0060, Accuracy: 7391/10000 (73.91%)\n"
     ]
    },
    {
     "name": "stderr",
     "output_type": "stream",
     "text": [
      "EPOCH = 25 | LR = 0.1 | Loss = 1.08 | Batch = 390 | Accuracy = 62.09: 100%|█| 391/391 [00:16<00:00, 23.47it/\n"
     ]
    },
    {
     "name": "stdout",
     "output_type": "stream",
     "text": [
      "Test set: Average loss: 0.0056, Accuracy: 7539/10000 (75.39%)\n"
     ]
    },
    {
     "name": "stderr",
     "output_type": "stream",
     "text": [
      "EPOCH = 26 | LR = 0.1 | Loss = 1.06 | Batch = 390 | Accuracy = 62.49: 100%|█| 391/391 [00:16<00:00, 23.62it/\n"
     ]
    },
    {
     "name": "stdout",
     "output_type": "stream",
     "text": [
      "Test set: Average loss: 0.0058, Accuracy: 7521/10000 (75.21%)\n"
     ]
    },
    {
     "name": "stderr",
     "output_type": "stream",
     "text": [
      "EPOCH = 27 | LR = 0.1 | Loss = 1.01 | Batch = 390 | Accuracy = 62.74: 100%|█| 391/391 [00:18<00:00, 21.04it/\n"
     ]
    },
    {
     "name": "stdout",
     "output_type": "stream",
     "text": [
      "Test set: Average loss: 0.0054, Accuracy: 7599/10000 (75.99%)\n"
     ]
    },
    {
     "name": "stderr",
     "output_type": "stream",
     "text": [
      "EPOCH = 28 | LR = 0.1 | Loss = 1.13 | Batch = 390 | Accuracy = 63.01: 100%|█| 391/391 [00:16<00:00, 24.07it/\n"
     ]
    },
    {
     "name": "stdout",
     "output_type": "stream",
     "text": [
      "Test set: Average loss: 0.0059, Accuracy: 7424/10000 (74.24%)\n"
     ]
    },
    {
     "name": "stderr",
     "output_type": "stream",
     "text": [
      "EPOCH = 29 | LR = 0.1 | Loss = 1.38 | Batch = 390 | Accuracy = 63.70: 100%|█| 391/391 [00:16<00:00, 23.79it/\n"
     ]
    },
    {
     "name": "stdout",
     "output_type": "stream",
     "text": [
      "Test set: Average loss: 0.0055, Accuracy: 7642/10000 (76.42%)\n"
     ]
    },
    {
     "name": "stderr",
     "output_type": "stream",
     "text": [
      "EPOCH = 30 | LR = 0.1 | Loss = 0.98 | Batch = 390 | Accuracy = 63.67: 100%|█| 391/391 [00:18<00:00, 21.62it/\n"
     ]
    },
    {
     "name": "stdout",
     "output_type": "stream",
     "text": [
      "Test set: Average loss: 0.0057, Accuracy: 7520/10000 (75.20%)\n"
     ]
    },
    {
     "name": "stderr",
     "output_type": "stream",
     "text": [
      "EPOCH = 31 | LR = 0.1 | Loss = 0.99 | Batch = 390 | Accuracy = 63.26: 100%|█| 391/391 [00:16<00:00, 23.21it/\n"
     ]
    },
    {
     "name": "stdout",
     "output_type": "stream",
     "text": [
      "Test set: Average loss: 0.0055, Accuracy: 7657/10000 (76.57%)\n"
     ]
    },
    {
     "name": "stderr",
     "output_type": "stream",
     "text": [
      "EPOCH = 32 | LR = 0.1 | Loss = 1.00 | Batch = 390 | Accuracy = 64.13: 100%|█| 391/391 [00:16<00:00, 23.61it/\n"
     ]
    },
    {
     "name": "stdout",
     "output_type": "stream",
     "text": [
      "Test set: Average loss: 0.0051, Accuracy: 7794/10000 (77.94%)\n"
     ]
    },
    {
     "name": "stderr",
     "output_type": "stream",
     "text": [
      "EPOCH = 33 | LR = 0.1 | Loss = 0.98 | Batch = 390 | Accuracy = 63.92: 100%|█| 391/391 [00:17<00:00, 21.74it/\n"
     ]
    },
    {
     "name": "stdout",
     "output_type": "stream",
     "text": [
      "Test set: Average loss: 0.0054, Accuracy: 7638/10000 (76.38%)\n"
     ]
    },
    {
     "name": "stderr",
     "output_type": "stream",
     "text": [
      "EPOCH = 34 | LR = 0.1 | Loss = 0.92 | Batch = 390 | Accuracy = 64.04: 100%|█| 391/391 [00:17<00:00, 22.53it/\n"
     ]
    },
    {
     "name": "stdout",
     "output_type": "stream",
     "text": [
      "Test set: Average loss: 0.0053, Accuracy: 7664/10000 (76.64%)\n"
     ]
    },
    {
     "name": "stderr",
     "output_type": "stream",
     "text": [
      "EPOCH = 35 | LR = 0.1 | Loss = 1.23 | Batch = 390 | Accuracy = 64.32: 100%|█| 391/391 [00:16<00:00, 23.53it/\n"
     ]
    },
    {
     "name": "stdout",
     "output_type": "stream",
     "text": [
      "Test set: Average loss: 0.0052, Accuracy: 7718/10000 (77.18%)\n"
     ]
    },
    {
     "name": "stderr",
     "output_type": "stream",
     "text": [
      "EPOCH = 36 | LR = 0.1 | Loss = 0.96 | Batch = 390 | Accuracy = 64.80: 100%|█| 391/391 [00:16<00:00, 23.07it/\n"
     ]
    },
    {
     "name": "stdout",
     "output_type": "stream",
     "text": [
      "Test set: Average loss: 0.0054, Accuracy: 7655/10000 (76.55%)\n"
     ]
    },
    {
     "name": "stderr",
     "output_type": "stream",
     "text": [
      "EPOCH = 37 | LR = 0.1 | Loss = 1.14 | Batch = 390 | Accuracy = 64.89: 100%|█| 391/391 [00:17<00:00, 21.82it/\n"
     ]
    },
    {
     "name": "stdout",
     "output_type": "stream",
     "text": [
      "Test set: Average loss: 0.0053, Accuracy: 7649/10000 (76.49%)\n"
     ]
    },
    {
     "name": "stderr",
     "output_type": "stream",
     "text": [
      "EPOCH = 38 | LR = 0.1 | Loss = 0.90 | Batch = 390 | Accuracy = 64.90: 100%|█| 391/391 [00:16<00:00, 23.65it/\n"
     ]
    },
    {
     "name": "stdout",
     "output_type": "stream",
     "text": [
      "Test set: Average loss: 0.0051, Accuracy: 7802/10000 (78.02%)\n"
     ]
    },
    {
     "name": "stderr",
     "output_type": "stream",
     "text": [
      "EPOCH = 39 | LR = 0.1 | Loss = 1.19 | Batch = 390 | Accuracy = 65.17: 100%|█| 391/391 [00:16<00:00, 23.14it/\n"
     ]
    },
    {
     "name": "stdout",
     "output_type": "stream",
     "text": [
      "Test set: Average loss: 0.0053, Accuracy: 7699/10000 (76.99%)\n"
     ]
    },
    {
     "name": "stderr",
     "output_type": "stream",
     "text": [
      "EPOCH = 40 | LR = 0.1 | Loss = 0.89 | Batch = 390 | Accuracy = 65.03: 100%|█| 391/391 [00:18<00:00, 20.71it/\n"
     ]
    },
    {
     "name": "stdout",
     "output_type": "stream",
     "text": [
      "Test set: Average loss: 0.0050, Accuracy: 7802/10000 (78.02%)\n"
     ]
    },
    {
     "name": "stderr",
     "output_type": "stream",
     "text": [
      "EPOCH = 41 | LR = 0.1 | Loss = 0.92 | Batch = 390 | Accuracy = 65.41: 100%|█| 391/391 [00:16<00:00, 23.25it/\n"
     ]
    },
    {
     "name": "stdout",
     "output_type": "stream",
     "text": [
      "Test set: Average loss: 0.0051, Accuracy: 7828/10000 (78.28%)\n"
     ]
    },
    {
     "name": "stderr",
     "output_type": "stream",
     "text": [
      "EPOCH = 42 | LR = 0.1 | Loss = 0.86 | Batch = 390 | Accuracy = 65.28: 100%|█| 391/391 [00:17<00:00, 22.94it/\n"
     ]
    },
    {
     "name": "stdout",
     "output_type": "stream",
     "text": [
      "Test set: Average loss: 0.0054, Accuracy: 7668/10000 (76.68%)\n"
     ]
    },
    {
     "name": "stderr",
     "output_type": "stream",
     "text": [
      "EPOCH = 43 | LR = 0.1 | Loss = 0.88 | Batch = 390 | Accuracy = 65.20: 100%|█| 391/391 [00:19<00:00, 20.50it/\n"
     ]
    },
    {
     "name": "stdout",
     "output_type": "stream",
     "text": [
      "Test set: Average loss: 0.0053, Accuracy: 7677/10000 (76.77%)\n"
     ]
    },
    {
     "name": "stderr",
     "output_type": "stream",
     "text": [
      "EPOCH = 44 | LR = 0.1 | Loss = 0.94 | Batch = 390 | Accuracy = 66.00: 100%|█| 391/391 [00:16<00:00, 23.81it/\n"
     ]
    },
    {
     "name": "stdout",
     "output_type": "stream",
     "text": [
      "Test set: Average loss: 0.0049, Accuracy: 7846/10000 (78.46%)\n"
     ]
    },
    {
     "name": "stderr",
     "output_type": "stream",
     "text": [
      "EPOCH = 45 | LR = 0.1 | Loss = 1.06 | Batch = 390 | Accuracy = 65.75: 100%|█| 391/391 [00:16<00:00, 23.84it/\n"
     ]
    },
    {
     "name": "stdout",
     "output_type": "stream",
     "text": [
      "Test set: Average loss: 0.0048, Accuracy: 7952/10000 (79.52%)\n"
     ]
    },
    {
     "name": "stderr",
     "output_type": "stream",
     "text": [
      "EPOCH = 46 | LR = 0.1 | Loss = 0.85 | Batch = 390 | Accuracy = 65.73: 100%|█| 391/391 [00:18<00:00, 20.97it/\n"
     ]
    },
    {
     "name": "stdout",
     "output_type": "stream",
     "text": [
      "Test set: Average loss: 0.0049, Accuracy: 7864/10000 (78.64%)\n"
     ]
    },
    {
     "name": "stderr",
     "output_type": "stream",
     "text": [
      "EPOCH = 47 | LR = 0.1 | Loss = 0.82 | Batch = 390 | Accuracy = 66.02: 100%|█| 391/391 [00:16<00:00, 24.30it/\n"
     ]
    },
    {
     "name": "stdout",
     "output_type": "stream",
     "text": [
      "Test set: Average loss: 0.0049, Accuracy: 7881/10000 (78.81%)\n"
     ]
    },
    {
     "name": "stderr",
     "output_type": "stream",
     "text": [
      "EPOCH = 48 | LR = 0.1 | Loss = 0.69 | Batch = 390 | Accuracy = 65.91: 100%|█| 391/391 [00:16<00:00, 23.74it/\n"
     ]
    },
    {
     "name": "stdout",
     "output_type": "stream",
     "text": [
      "Test set: Average loss: 0.0049, Accuracy: 7929/10000 (79.29%)\n"
     ]
    },
    {
     "name": "stderr",
     "output_type": "stream",
     "text": [
      "EPOCH = 49 | LR = 0.1 | Loss = 1.05 | Batch = 390 | Accuracy = 65.96: 100%|█| 391/391 [00:18<00:00, 21.61it/\n"
     ]
    },
    {
     "name": "stdout",
     "output_type": "stream",
     "text": [
      "Test set: Average loss: 0.0049, Accuracy: 7873/10000 (78.73%)\n"
     ]
    },
    {
     "name": "stderr",
     "output_type": "stream",
     "text": [
      "EPOCH = 50 | LR = 0.1 | Loss = 1.07 | Batch = 390 | Accuracy = 66.36: 100%|█| 391/391 [00:16<00:00, 23.08it/\n"
     ]
    },
    {
     "name": "stdout",
     "output_type": "stream",
     "text": [
      "Test set: Average loss: 0.0048, Accuracy: 7991/10000 (79.91%)\n"
     ]
    }
   ],
   "source": [
    "prev_test_loss = float('inf')\n",
    "model2 = Net2().to(device)\n",
    "optimizer = optim.SGD(model2.parameters(), lr=0.1, momentum=0.9)\n",
    "scheduler = optim.lr_scheduler.ReduceLROnPlateau(optimizer=optimizer,mode='min',factor=0.1,patience=5)\n",
    "criterion = nn.NLLLoss()\n",
    "trainer = Trainer(model2, train_loader, optimizer, criterion, device)\n",
    "tester = Tester(model2, test_loader, criterion, device)\n",
    "\n",
    "for epoch in range(1, 51):\n",
    "    trainer.train(epoch=epoch)\n",
    "    _,test_loss = tester.test()\n",
    "    if prev_test_loss>test_loss:\n",
    "        torch.save(model2.state_dict(),'./bmodels/simple_model_with_mp_rf44_resnet.pth')\n",
    "    scheduler.step(test_loss)"
   ]
  },
  {
   "cell_type": "code",
   "execution_count": 14,
   "id": "3687d94c-174f-48c8-b78a-09ddf9bd63da",
   "metadata": {},
   "outputs": [
    {
     "data": {
      "image/png": "[encoded data removed]",
      "text/plain": [
       "<Figure size 1500x1000 with 4 Axes>"
      ]
     },
     "metadata": {},
     "output_type": "display_data"
    }
   ],
   "source": [
    "plot_curves(trainer.train_losses,trainer.train_accuracies,tester.test_losses,tester.test_accuracies)\n"
   ]
  },
  {
   "cell_type": "code",
   "execution_count": null,
   "id": "0859bf01-7b4b-4d20-a640-32945ac8a3c5",
   "metadata": {},
   "outputs": [],
   "source": []
  },
  {
   "cell_type": "code",
   "execution_count": null,
   "id": "541ab63f-4641-49fe-8d90-ad6c21a24601",
   "metadata": {},
   "outputs": [],
   "source": []
  },
  {
   "cell_type": "code",
   "execution_count": null,
   "id": "481e2de5-44bb-4a1e-bde3-2f9b4df38885",
   "metadata": {},
   "outputs": [],
   "source": []
  },
  {
   "cell_type": "code",
   "execution_count": null,
   "id": "5e998ae1-dfb5-449e-b180-3dac135e52c0",
   "metadata": {},
   "outputs": [],
   "source": []
  },
  {
   "cell_type": "code",
   "execution_count": null,
   "id": "f9796adc-f3e8-4ad9-b65c-829f1d842c52",
   "metadata": {},
   "outputs": [],
   "source": []
  },
  {
   "cell_type": "code",
   "execution_count": null,
   "id": "0cdf65f1-8890-4c97-9f2f-0b0b1ca098e3",
   "metadata": {},
   "outputs": [],
   "source": []
  },
  {
   "cell_type": "code",
   "execution_count": 15,
   "id": "63a6307c-b944-41a0-9363-997b4b65b3f3",
   "metadata": {},
   "outputs": [],
   "source": [
    "# We used this Squeeze-Expand Network before\n",
    "class Net2(nn.Module):\n",
    "    def __init__(self):\n",
    "        super(Net2,self).__init__()\n",
    "        self.dp_rate = 0.1\n",
    "\n",
    "        self.c1 = ConvLayer(inc=3,outc=16,s=1,k=3,p=1,d=1,dp_rate=self.dp_rate)\n",
    "        self.c2 = ConvLayer(inc=16,outc=16,s=1,p=1,k=3,d=1,dp_rate=self.dp_rate)\n",
    "        self.c3 = ConvLayer(inc=16,outc=32,s=1,p=1,d=2,k=3,dp_rate=self.dp_rate)\n",
    "\n",
    "        self.t1 = nn.Sequential(\n",
    "            nn.Conv2d(in_channels=32,out_channels=32,kernel_size=1,bias=False,padding=1)\n",
    "        )\n",
    "\n",
    "        \n",
    "        self.c4 = DepthwiseConvLayer(inc=32,outc=40,k=1,s=1,p=1,dp_rate=self.dp_rate)\n",
    "        self.c5 = ConvLayer(inc=40,outc=40,k=3,s=1,p=1,d=1,dp_rate=self.dp_rate)\n",
    "        self.c51 = ConvLayer(inc=40,outc=40,k=3,s=1,p=1,d=1,dp_rate=self.dp_rate)\n",
    "        self.c6 = ConvLayer(inc=40,outc=40,k=3,s=1,p=1,d=4,dp_rate=self.dp_rate)\n",
    "        self.t2 = nn.Sequential(\n",
    "            nn.Conv2d(in_channels=40,out_channels=40,kernel_size=1,bias=False,padding=1)\n",
    "        )\n",
    "\n",
    "        self.c7 = ConvLayer(inc=40,outc=64,k=3,s=1,p=1,d=1,dp_rate=self.dp_rate)\n",
    "        self.c8 = ConvLayer(inc=64,outc=64,k=3,s=1,p=1,d=1,dp_rate=self.dp_rate)\n",
    "        self.c81 = ConvLayer(inc=64,outc=64,k=3,s=1,p=1,d=1,dp_rate=self.dp_rate)\n",
    "        self.c9 = nn.Sequential(\n",
    "            nn.Conv2d(in_channels=64,out_channels=64,kernel_size=3,stride=1,dilation=1,padding=1,bias=False),\n",
    "            nn.Conv2d(in_channels=64,out_channels=32,kernel_size=1,stride=1,dilation=1,bias=False)\n",
    "        )\n",
    "\n",
    "        self.gap = nn.AdaptiveAvgPool2d(output_size=1)\n",
    "        self.c10 = nn.Conv2d(32,10,kernel_size=1,bias=False)\n",
    "    def forward(self,x):\n",
    "        x = self.c1(x)\n",
    "        x = x + self.c2(x)\n",
    "        x = self.c3(x)\n",
    "        x = self.t1(x)\n",
    "        \n",
    "        x = self.c4(x)\n",
    "        x = x+self.c5(x)\n",
    "        x = self.c51(x)\n",
    "        x = self.c6(x)\n",
    "        x = self.t2(x)\n",
    "    \n",
    "        x = self.c7(x) \n",
    "        x = self.c81(x)        \n",
    "        x = x + self.c8(x)  \n",
    "        x = self.c9(x)\n",
    "\n",
    "        x = self.gap(x)\n",
    "        x = self.c10(x)\n",
    "        return F.log_softmax(x.view(-1,10), dim=1)"
   ]
  },
  {
   "cell_type": "code",
   "execution_count": 16,
   "id": "a54c2fcc-c842-4eb9-bdaa-3f32d2945c43",
   "metadata": {},
   "outputs": [
    {
     "ename": "TypeError",
     "evalue": "DepthwiseConvLayer.__init__() got an unexpected keyword argument 'k'",
     "output_type": "error",
     "traceback": [
      "\u001b[1;31m---------------------------------------------------------------------------\u001b[0m",
      "\u001b[1;31mTypeError\u001b[0m                                 Traceback (most recent call last)",
      "Cell \u001b[1;32mIn[16], line 1\u001b[0m\n\u001b[1;32m----> 1\u001b[0m m \u001b[38;5;241m=\u001b[39m \u001b[43mNet2\u001b[49m\u001b[43m(\u001b[49m\u001b[43m)\u001b[49m\u001b[38;5;241m.\u001b[39mto(device)\n\u001b[0;32m      2\u001b[0m summary(m,(\u001b[38;5;241m1\u001b[39m,\u001b[38;5;241m3\u001b[39m,\u001b[38;5;241m32\u001b[39m,\u001b[38;5;241m32\u001b[39m))\n",
      "Cell \u001b[1;32mIn[15], line 16\u001b[0m, in \u001b[0;36mNet2.__init__\u001b[1;34m(self)\u001b[0m\n\u001b[0;32m      9\u001b[0m \u001b[38;5;28mself\u001b[39m\u001b[38;5;241m.\u001b[39mc3 \u001b[38;5;241m=\u001b[39m ConvLayer(inc\u001b[38;5;241m=\u001b[39m\u001b[38;5;241m16\u001b[39m,outc\u001b[38;5;241m=\u001b[39m\u001b[38;5;241m32\u001b[39m,s\u001b[38;5;241m=\u001b[39m\u001b[38;5;241m1\u001b[39m,p\u001b[38;5;241m=\u001b[39m\u001b[38;5;241m1\u001b[39m,d\u001b[38;5;241m=\u001b[39m\u001b[38;5;241m2\u001b[39m,k\u001b[38;5;241m=\u001b[39m\u001b[38;5;241m3\u001b[39m,dp_rate\u001b[38;5;241m=\u001b[39m\u001b[38;5;28mself\u001b[39m\u001b[38;5;241m.\u001b[39mdp_rate)\n\u001b[0;32m     11\u001b[0m \u001b[38;5;28mself\u001b[39m\u001b[38;5;241m.\u001b[39mt1 \u001b[38;5;241m=\u001b[39m nn\u001b[38;5;241m.\u001b[39mSequential(\n\u001b[0;32m     12\u001b[0m     nn\u001b[38;5;241m.\u001b[39mConv2d(in_channels\u001b[38;5;241m=\u001b[39m\u001b[38;5;241m32\u001b[39m,out_channels\u001b[38;5;241m=\u001b[39m\u001b[38;5;241m32\u001b[39m,kernel_size\u001b[38;5;241m=\u001b[39m\u001b[38;5;241m1\u001b[39m,bias\u001b[38;5;241m=\u001b[39m\u001b[38;5;28;01mFalse\u001b[39;00m,padding\u001b[38;5;241m=\u001b[39m\u001b[38;5;241m1\u001b[39m)\n\u001b[0;32m     13\u001b[0m )\n\u001b[1;32m---> 16\u001b[0m \u001b[38;5;28mself\u001b[39m\u001b[38;5;241m.\u001b[39mc4 \u001b[38;5;241m=\u001b[39m \u001b[43mDepthwiseConvLayer\u001b[49m\u001b[43m(\u001b[49m\u001b[43minc\u001b[49m\u001b[38;5;241;43m=\u001b[39;49m\u001b[38;5;241;43m32\u001b[39;49m\u001b[43m,\u001b[49m\u001b[43moutc\u001b[49m\u001b[38;5;241;43m=\u001b[39;49m\u001b[38;5;241;43m40\u001b[39;49m\u001b[43m,\u001b[49m\u001b[43mk\u001b[49m\u001b[38;5;241;43m=\u001b[39;49m\u001b[38;5;241;43m1\u001b[39;49m\u001b[43m,\u001b[49m\u001b[43ms\u001b[49m\u001b[38;5;241;43m=\u001b[39;49m\u001b[38;5;241;43m1\u001b[39;49m\u001b[43m,\u001b[49m\u001b[43mp\u001b[49m\u001b[38;5;241;43m=\u001b[39;49m\u001b[38;5;241;43m1\u001b[39;49m\u001b[43m,\u001b[49m\u001b[43mdp_rate\u001b[49m\u001b[38;5;241;43m=\u001b[39;49m\u001b[38;5;28;43mself\u001b[39;49m\u001b[38;5;241;43m.\u001b[39;49m\u001b[43mdp_rate\u001b[49m\u001b[43m)\u001b[49m\n\u001b[0;32m     17\u001b[0m \u001b[38;5;28mself\u001b[39m\u001b[38;5;241m.\u001b[39mc5 \u001b[38;5;241m=\u001b[39m ConvLayer(inc\u001b[38;5;241m=\u001b[39m\u001b[38;5;241m40\u001b[39m,outc\u001b[38;5;241m=\u001b[39m\u001b[38;5;241m40\u001b[39m,k\u001b[38;5;241m=\u001b[39m\u001b[38;5;241m3\u001b[39m,s\u001b[38;5;241m=\u001b[39m\u001b[38;5;241m1\u001b[39m,p\u001b[38;5;241m=\u001b[39m\u001b[38;5;241m1\u001b[39m,d\u001b[38;5;241m=\u001b[39m\u001b[38;5;241m1\u001b[39m,dp_rate\u001b[38;5;241m=\u001b[39m\u001b[38;5;28mself\u001b[39m\u001b[38;5;241m.\u001b[39mdp_rate)\n\u001b[0;32m     18\u001b[0m \u001b[38;5;28mself\u001b[39m\u001b[38;5;241m.\u001b[39mc51 \u001b[38;5;241m=\u001b[39m ConvLayer(inc\u001b[38;5;241m=\u001b[39m\u001b[38;5;241m40\u001b[39m,outc\u001b[38;5;241m=\u001b[39m\u001b[38;5;241m40\u001b[39m,k\u001b[38;5;241m=\u001b[39m\u001b[38;5;241m3\u001b[39m,s\u001b[38;5;241m=\u001b[39m\u001b[38;5;241m1\u001b[39m,p\u001b[38;5;241m=\u001b[39m\u001b[38;5;241m1\u001b[39m,d\u001b[38;5;241m=\u001b[39m\u001b[38;5;241m1\u001b[39m,dp_rate\u001b[38;5;241m=\u001b[39m\u001b[38;5;28mself\u001b[39m\u001b[38;5;241m.\u001b[39mdp_rate)\n",
      "\u001b[1;31mTypeError\u001b[0m: DepthwiseConvLayer.__init__() got an unexpected keyword argument 'k'"
     ]
    }
   ],
   "source": [
    "m = Net2().to(device)\n",
    "summary(m,(1,3,32,32))"
   ]
  },
  {
   "cell_type": "code",
   "execution_count": null,
   "id": "a83a674c-41a5-489d-beaa-ed1e041311c5",
   "metadata": {
    "scrolled": true
   },
   "outputs": [],
   "source": [
    "prev_test_loss = float('inf')\n",
    "m = Net2().to(device)\n",
    "\n",
    "optimizer = optim.SGD(m.parameters(), lr=0.1, momentum=0.9)\n",
    "scheduler = optim.lr_scheduler.ReduceLROnPlateau(optimizer=optimizer,mode='min',factor=0.1,patience=3)\n",
    "criterion = nn.NLLLoss()\n",
    "trainer = Trainer(m, train_loader, optimizer, criterion, device)\n",
    "tester = Tester(m, test_loader, criterion, device)\n",
    "\n",
    "for epoch in range(1, 51):\n",
    "    trainer.train(epoch=epoch)\n",
    "    _,test_loss = tester.test()\n",
    "    if prev_test_loss>test_loss:\n",
    "        torch.save(m.state_dict(),'./bmodels/my_model.pth')\n",
    "    scheduler.step(test_loss)"
   ]
  },
  {
   "cell_type": "code",
   "execution_count": null,
   "id": "e9960fb6-7930-4fc6-bba5-621ba167eae8",
   "metadata": {},
   "outputs": [],
   "source": [
    "plot_curves(trainer.train_losses,trainer.train_accuracies,tester.test_losses,tester.test_accuracies)"
   ]
  },
  {
   "cell_type": "code",
   "execution_count": null,
   "id": "14f235d1-9248-4cdc-a29d-a2ebfdee1146",
   "metadata": {},
   "outputs": [],
   "source": []
  },
  {
   "cell_type": "code",
   "execution_count": null,
   "id": "e71127d6-ea0b-4b6c-8fb1-1b93443df946",
   "metadata": {},
   "outputs": [],
   "source": []
  },
  {
   "cell_type": "code",
   "execution_count": null,
   "id": "c5f19ae7-271e-4bb1-853c-4fd4865110b3",
   "metadata": {},
   "outputs": [],
   "source": []
  },
  {
   "cell_type": "code",
   "execution_count": null,
   "id": "b6fc0f14-d9bc-430b-b351-95a6f7eb6c2c",
   "metadata": {},
   "outputs": [],
   "source": []
  },
  {
   "cell_type": "code",
   "execution_count": null,
   "id": "a2258c8d-be08-4ed2-8cde-df195492fd90",
   "metadata": {},
   "outputs": [],
   "source": []
  },
  {
   "cell_type": "markdown",
   "id": "74383358-3302-4c55-9216-a624e09494e1",
   "metadata": {},
   "source": [
    "# Dilated Kernels implementation"
   ]
  },
  {
   "cell_type": "code",
   "execution_count": null,
   "id": "56ebb8df-1854-4b39-8715-cb19a7352c75",
   "metadata": {},
   "outputs": [],
   "source": [
    "class Net(nn.Module):\n",
    "    def __init__(self,dp_rate):\n",
    "        super(Net,self).__init__()\n",
    "        self.dp_rate = dp_rate\n",
    "    \n",
    "        self.c1 = nn.Sequential(\n",
    "            ConvLayer(inc=3,outc=8,k=3,p=1,s=1,d=1,dp_rate=self.dp_rate),\n",
    "            ConvLayer(inc=8,outc=12,k=3,p=1,s=1,d=1,dp_rate=self.dp_rate),\n",
    "            ConvLayer(inc=12,outc=16,k=3,p=1,s=1,d=1,dp_rate=self.dp_rate)\n",
    "        )\n",
    "\n",
    "        self.c2 = nn.Sequential(\n",
    "            ConvLayer(inc=16,outc=24,k=3,p=1,d=1,s=1,dp_rate=self.dp_rate),\n",
    "            ConvLayer(inc=24,outc=24,k=3,p=0,s=1,d=1,dp_rate=self.dp_rate)\n",
    "        )\n",
    "        self.c3DiL = nn.Sequential(\n",
    "            ConvLayer(inc=16,outc=24,s=1,p=1,d=2,k=3,dp_rate=self.dp_rate),\n",
    "        )\n",
    "\n",
    "\n",
    "        self.c4 = nn.Sequential(\n",
    "            ConvLayer(inc=24,outc=30,k=3,p=1,s=1,d=1,dp_rate=self.dp_rate),\n",
    "            ConvLayer(inc=30,outc=30,k=3,p=0,s=1,d=1,dp_rate=self.dp_rate),\n",
    "        )\n",
    "\n",
    "\n",
    "        self.c5DiL = nn.Sequential(\n",
    "            ConvLayer(inc=24,outc=30,k=3,d=2,p=1,dp_rate=self.dp_rate,s=1)\n",
    "        )\n",
    "\n",
    "        self.c6 = nn.Sequential(\n",
    "            ConvLayer(inc=30,outc=32,k=3,p=0,dp_rate=self.dp_rate,s=1,d=1),\n",
    "            ConvLayer(inc=32,outc=36,k=3,p=0,dp_rate=self.dp_rate,s=1,d=1),\n",
    "            ConvLayer(inc=36,outc=38,k=3,p=0,dp_rate=self.dp_rate,s=1,d=1),\n",
    "            ConvLayer(inc=38,outc=40,k=3,p=0,dp_rate=self.dp_rate,s=1,d=1)\n",
    "        )\n",
    "\n",
    "        self.C7DiL = nn.Sequential(\n",
    "            ConvLayer(inc=30,outc=36,k=3,p=0,dp_rate=self.dp_rate,s=1,d=2),\n",
    "            ConvLayer(inc=36,outc=40,k=3,p=0,dp_rate=self.dp_rate,s=1,d=2)\n",
    "        )\n",
    "\n",
    "        self.gap = nn.AdaptiveAvgPool2d(output_size=1)\n",
    "        self.out = nn.Conv2d(in_channels=40,out_channels=10,kernel_size=1,bias=False)\n",
    "    \n",
    "    def forward(self,x):\n",
    "\n",
    "        # BLOCK ONE\n",
    "        x = self.c1(x)\n",
    "        path1 = self.c2(x)\n",
    "        path2 = F.dropout2d(\n",
    "                    F.relu_( \n",
    "                        F.batch_norm(\n",
    "                            self.c3DiL(x),\n",
    "                            torch.zeros(24,device=device), #mu=0\n",
    "                            torch.ones(24,device=device),   # ones are fine for first training iter  \n",
    "                            training=True,\n",
    "                            momentum=0.9\n",
    "                        )\n",
    "                    ) # self.c3DiL(x)\n",
    "                )\n",
    "        x = path1 + path2\n",
    "\n",
    "        # BLOCK TWO\n",
    "        path1 = self.c4(x)\n",
    "        path2 = F.dropout2d(\n",
    "                    F.relu_( \n",
    "                        F.batch_norm(\n",
    "                            self.c5DiL(x),\n",
    "                            torch.zeros(30,device=device), #mu=0\n",
    "                            torch.ones(30,device=device),   # ones are fine for first training iter  \n",
    "                            training=True,\n",
    "                            momentum=0.9\n",
    "                        )\n",
    "                    ) # self.c3DiL(x)\n",
    "                )\n",
    "        x = path1+path2 \n",
    "\n",
    "        # BLOCK 4\n",
    "        path1 = self.c6(x)\n",
    "        path2  =F.dropout2d(\n",
    "                    F.relu_( \n",
    "                        F.batch_norm(\n",
    "                            self.C7DiL(x),\n",
    "                            torch.zeros(40,device=device), #mu=0\n",
    "                            torch.ones(40,device=device),   # ones are fine for first training iter  \n",
    "                            training=True,\n",
    "                            momentum=0.9\n",
    "                        )\n",
    "                    ) # self.c3DiL(x)\n",
    "                )\n",
    "        x = path1 + path2\n",
    "\n",
    "        # GAP\n",
    "        x = self.gap(x)\n",
    "\n",
    "        # OUT BLOCK\n",
    "        x = self.out(x)\n",
    "        return F.log_softmax(x.view(-1,10), dim=1)"
   ]
  },
  {
   "cell_type": "code",
   "execution_count": null,
   "id": "46c2f259-12e8-4a2e-86e9-356cb9c9a2b2",
   "metadata": {
    "scrolled": true
   },
   "outputs": [],
   "source": [
    "model3 = Net(0.1).to(device)\n",
    "summary(model3,(1,3,32,32),)"
   ]
  },
  {
   "cell_type": "code",
   "execution_count": null,
   "id": "da12f028-4980-49fe-8362-193b6f76a110",
   "metadata": {
    "scrolled": true
   },
   "outputs": [],
   "source": [
    "prev_test_loss = float('inf')\n",
    "\n",
    "\n",
    "optimizer = optim.SGD(model3.parameters(), lr=0.1, momentum=0.9)\n",
    "scheduler = optim.lr_scheduler.ReduceLROnPlateau(optimizer=optimizer,mode='min',factor=0.1,patience=5)\n",
    "criterion = nn.NLLLoss()\n",
    "trainer = Trainer(model3, simple_train_loader, optimizer, criterion, device)\n",
    "tester = Tester(model3, simple_test_loader, criterion, device)\n",
    "\n",
    "for epoch in range(1, 51):\n",
    "    trainer.train(epoch=epoch)\n",
    "    _,test_loss = tester.test()\n",
    "    if prev_test_loss>test_loss:\n",
    "        torch.save(model3.state_dict(),'./bmodels/simple_model_with_mp_rf44_resnet_with_dilation_kernel.pth')\n",
    "    scheduler.step(test_loss)"
   ]
  },
  {
   "cell_type": "code",
   "execution_count": null,
   "id": "75531cac-2109-4762-ab06-433ed2110915",
   "metadata": {},
   "outputs": [],
   "source": [
    "plot_curves(trainer.train_losses,trainer.train_accuracies,tester.test_losses,tester.test_accuracies)"
   ]
  },
  {
   "cell_type": "code",
   "execution_count": null,
   "id": "368f6973-249b-4e59-a104-4b7f396777ae",
   "metadata": {
    "scrolled": true
   },
   "outputs": [],
   "source": [
    "model4 = Net(0.2).to(device)\n",
    "summary(model4,(1,3,32,32),)\n",
    "\n",
    "\n",
    "prev_test_loss = float('inf')\n",
    "\n",
    "\n",
    "optimizer = optim.SGD(model4.parameters(), lr=0.1, momentum=0.9)\n",
    "scheduler = optim.lr_scheduler.ReduceLROnPlateau(optimizer=optimizer,mode='min',factor=0.1,patience=5)\n",
    "criterion = nn.NLLLoss()\n",
    "trainer = Trainer(model4, train_loader, optimizer, criterion, device)\n",
    "tester = Tester(model4, test_loader, criterion, device)\n",
    "\n",
    "for epoch in range(1, 51):\n",
    "    trainer.train(epoch=epoch)\n",
    "    _,test_loss = tester.test()\n",
    "    if prev_test_loss>test_loss:\n",
    "        torch.save(model3.state_dict(),'./bmodels/simple_model_with_mp_rf44_resnet_with_dilation_kernel_aug.pth')\n",
    "    scheduler.step(test_loss)"
   ]
  },
  {
   "cell_type": "code",
   "execution_count": null,
   "id": "141ee154-2cef-4159-8135-dacfee181afe",
   "metadata": {},
   "outputs": [],
   "source": [
    "plot_curves(trainer.train_losses,trainer.train_accuracies,tester.test_losses,tester.test_accuracies)"
   ]
  },
  {
   "cell_type": "code",
   "execution_count": null,
   "id": "9145f883-7e51-4a6a-88e0-5e6bdfac16af",
   "metadata": {},
   "outputs": [],
   "source": []
  }
 ],
 "metadata": {
  "kernelspec": {
   "display_name": "Python 3 (ipykernel)",
   "language": "python",
   "name": "python3"
  },
  "language_info": {
   "codemirror_mode": {
    "name": "ipython",
    "version": 3
   },
   "file_extension": ".py",
   "mimetype": "text/x-python",
   "name": "python",
   "nbconvert_exporter": "python",
   "pygments_lexer": "ipython3",
   "version": "3.11.4"
  }
 },
 "nbformat": 4,
 "nbformat_minor": 5
}
