{
 "cells": [
  {
   "cell_type": "code",
   "execution_count": null,
   "id": "0c6044c7-063e-4520-b053-0b5fa45f86e7",
   "metadata": {},
   "outputs": [],
   "source": [
    "# !nvidia-smi"
   ]
  },
  {
   "cell_type": "code",
   "execution_count": 1,
   "id": "a845e5e5-569f-4ae0-ba64-d77a8fe2ce8d",
   "metadata": {},
   "outputs": [],
   "source": [
    "import numpy as np\n",
    "from torch import nn\n",
    "from torch.nn import functional as F\n",
    "import torch\n",
    "from torch import optim\n",
    "from torchvision import datasets,transforms\n",
    "from torchinfo import summary"
   ]
  },
  {
   "cell_type": "code",
   "execution_count": 2,
   "id": "3b394b73-8d6f-44e8-86e5-9d12854cb28c",
   "metadata": {},
   "outputs": [
    {
     "data": {
      "text/plain": [
       "<torch.cuda.amp.autocast_mode.autocast at 0x225129ae890>"
      ]
     },
     "execution_count": 2,
     "metadata": {},
     "output_type": "execute_result"
    }
   ],
   "source": [
    "torch.cuda.amp.autocast(enabled=True)"
   ]
  },
  {
   "cell_type": "code",
   "execution_count": 3,
   "id": "134abfd7-7367-49a2-af10-3cc13157a0fd",
   "metadata": {},
   "outputs": [],
   "source": [
    "from trainer import Trainer\n",
    "from tester import Tester\n",
    "from utlis import visualize_data,show_misclassified_images,device,is_cuda\n",
    "from viz import plot_class_distribution, plot_confusion_matrix, plot_curves\n",
    "from dataloader import CIFAR10Dataset,CIFAR10DataLoader\n",
    "from models import ConvLayer,TransBlock,DepthwiseConvLayer\n",
    "from transformations import train_transforms,test_transforms"
   ]
  },
  {
   "cell_type": "code",
   "execution_count": 4,
   "id": "6db95c94-0f63-44eb-aa29-42efa79d0502",
   "metadata": {},
   "outputs": [],
   "source": [
    "# ALbumentation\n",
    "\n",
    "import albumentations as A\n",
    "from albumentations.pytorch import ToTensorV2\n",
    "\n",
    "train_transforms = A.Compose([\n",
    "    A.HorizontalFlip(always_apply=False,p=0.5),\n",
    "    A.ShiftScaleRotate(shift_limit=0.0625, scale_limit=0.1, rotate_limit=45, mask_value=(0.4914, 0.4822, 0.4465), always_apply=False,p=0.5,),\n",
    "    A.CoarseDropout( max_holes= 2,max_height = 8,max_width = 8,min_holes= 2,min_height = 8,min_width= 8,mask_fill_value = (0.4914, 0.4822, 0.4465),always_apply = False, p= 0.7),\n",
    "    A.Normalize(mean=(0.4914, 0.4822, 0.4465),std=(0.2470, 0.2435, 0.2616),p=1),\n",
    "    ToTensorV2(),\n",
    "])\n",
    "\n",
    "\n",
    "atrain_dataset = CIFAR10Dataset(root='../data/',train=True,Atransforms=train_transforms,download=False)\n",
    "atest_dataset  = CIFAR10Dataset(root='../data/',train=False,Atransforms=test_transforms,download=False)\n",
    "acifar = CIFAR10DataLoader(batch_size=512,is_cuda_available=True)\n",
    "atrain_loader, atest_loader = acifar.get_loader(atrain_dataset,atest_dataset)"
   ]
  },
  {
   "cell_type": "code",
   "execution_count": 5,
   "id": "3fdcb086-323c-486c-9e6c-f194004bc9d9",
   "metadata": {},
   "outputs": [],
   "source": [
    "# GET Train Loader\n",
    "train_dataset = CIFAR10Dataset(root='../data/',train=True,Atransforms=test_transforms,download=False)\n",
    "test_dataset  = CIFAR10Dataset(root='../data/',train=False,Atransforms=test_transforms,download=False)\n",
    "cifar = CIFAR10DataLoader(batch_size=512,is_cuda_available=True)\n",
    "train_loader, test_loader = cifar.get_loader(train_dataset,test_dataset)"
   ]
  },
  {
   "cell_type": "code",
   "execution_count": 48,
   "id": "5392262a-59e5-46a2-8fd9-8407133fbd01",
   "metadata": {},
   "outputs": [],
   "source": [
    "class DepthwiseConvLayer(nn.Module):\n",
    "    def __init__(self,inc,outc,s,p,dp_rate)->None:\n",
    "        super(DepthwiseConvLayer,self).__init__()\n",
    "        self.c1 = nn.Conv2d(in_channels=inc,out_channels=inc,groups=inc,kernel_size=3,stride=s,padding=0,bias=False)\n",
    "        nn.init.kaiming_uniform_(self.c1.weight, mode='fan_in', nonlinearity='relu')\n",
    "        \n",
    "        self.c2 = nn.Conv2d(in_channels=inc,out_channels=outc,kernel_size=1,padding=p,bias=False)\n",
    "        nn.init.kaiming_uniform_(self.c2.weight, mode='fan_in', nonlinearity='relu')\n",
    "        \n",
    "        self.layer = nn.Sequential(\n",
    "            nn.ReLU(),\n",
    "            nn.BatchNorm2d(outc),\n",
    "            nn.Dropout2d(dp_rate)\n",
    "        )\n",
    "    def forward(self,x):\n",
    "        x = self.c1(x)\n",
    "        x = self.c2(x)\n",
    "        return self.layer(x)"
   ]
  },
  {
   "cell_type": "code",
   "execution_count": null,
   "id": "c962a9ba-4633-464a-aa5c-026ff274d1af",
   "metadata": {},
   "outputs": [],
   "source": []
  },
  {
   "cell_type": "code",
   "execution_count": null,
   "id": "98c0b082-e912-4710-9ae5-4a282c1e8429",
   "metadata": {},
   "outputs": [],
   "source": []
  },
  {
   "cell_type": "code",
   "execution_count": null,
   "id": "bb4bc916-34fd-4583-a88f-70b4f3579340",
   "metadata": {},
   "outputs": [],
   "source": []
  },
  {
   "cell_type": "code",
   "execution_count": null,
   "id": "b20e5e45-5816-464c-a2e0-f7ef30e70874",
   "metadata": {},
   "outputs": [],
   "source": []
  },
  {
   "cell_type": "code",
   "execution_count": 42,
   "id": "4455d89f-ace6-483c-9e73-59d10d872b96",
   "metadata": {},
   "outputs": [],
   "source": [
    "class Network2(nn.Module):\n",
    "    def __init__(self,dp=0.1):\n",
    "        super(Network2,self).__init__()\n",
    "        self.dp = dp\n",
    "        self.c1 = ConvLayer(inc=3, outc=16,k=3,p=1,s=1,d=1,dp_rate=self.dp)\n",
    "        self.c2 = ConvLayer(inc=16,outc=16,k=3,p=1,s=1,d=1,dp_rate=self.dp) \n",
    "        self.c3 = ConvLayer(inc=16,outc=16,k=3,p=1,s=1,d=2,dp_rate=self.dp)\n",
    "        self.t1 = TransBlock(inc=16,outc=8,p=0)\n",
    "\n",
    "        self.c4 = ConvLayer(inc=8,outc=32,k=3,p=1,s=1,d=1,dp_rate=self.dp)\n",
    "        self.c5 = ConvLayer(inc=32,outc=32,k=3,p=1,s=1,d=1,dp_rate=self.dp)\n",
    "        self.c6 = ConvLayer(inc=32,outc=32,k=3,p=0,s=1,d=4,dp_rate=self.dp)\n",
    "        self.t2 = TransBlock(inc=32,outc=24,p=0)\n",
    "\n",
    "        self.c7 = ConvLayer(inc=24,outc=40,k=3,p=1,s=1,d=1,dp_rate=self.dp)\n",
    "        self.c8 = ConvLayer(inc=40,outc=40,k=3,p=1,s=1,d=1,dp_rate=self.dp)\n",
    "        self.c9 = ConvLayer(inc=40,outc=40,k=3,p=0,s=2,d=4,dp_rate=self.dp)\n",
    "        self.t3 = TransBlock(inc=40,outc=32,p=0)\n",
    "        \n",
    "        self.gap = nn.AdaptiveAvgPool2d(output_size=1)\n",
    "        self.out = nn.Sequential(TransBlock(inc=32,outc=10,p=0))\n",
    "        \n",
    "    def forward(self,x):\n",
    "        x = self.c1(x)\n",
    "        x = x + self.c2(x)\n",
    "        x = self.c3(x)\n",
    "        x = self.t1(x)\n",
    "        \n",
    "        x = self.c4(x)\n",
    "        x = x + self.c5(x)\n",
    "        x = self.c6(x)\n",
    "        x = self.t2(x)\n",
    "        \n",
    "        x = self.c7(x)\n",
    "        x = x + self.c8(x)\n",
    "        # print(x.shape)\n",
    "        \n",
    "        x = self.c9(x)\n",
    "        # print(x.shape)\n",
    "        x = self.t3(x)\n",
    "        \n",
    "        x = self.gap(x)\n",
    "        x = self.out(x)        \n",
    "        return F.log_softmax(x.view(-1,10), dim=1)"
   ]
  },
  {
   "cell_type": "code",
   "execution_count": 37,
   "id": "b37b6d9d-b0af-4fce-a3a5-6d3f3a723404",
   "metadata": {},
   "outputs": [
    {
     "data": {
      "text/plain": [
       "torch.Size([1, 40, 7, 7])"
      ]
     },
     "execution_count": 37,
     "metadata": {},
     "output_type": "execute_result"
    }
   ],
   "source": [
    "layer = nn.Conv2d(in_channels=40,out_channels=40,kernel_size=3,dilation=4,stride=2,padding=0)\n",
    "layer(torch.rand((1,40,22,22))).shape"
   ]
  },
  {
   "cell_type": "code",
   "execution_count": 43,
   "id": "06cdc693-6e2e-4340-9252-f4b4569949a4",
   "metadata": {
    "scrolled": true
   },
   "outputs": [
    {
     "data": {
      "text/plain": [
       "==========================================================================================\n",
       "Layer (type:depth-idx)                   Output Shape              Param #\n",
       "==========================================================================================\n",
       "Network2                                 [1, 10]                   --\n",
       "├─ConvLayer: 1-1                         [1, 16, 32, 32]           --\n",
       "│    └─Sequential: 2-1                   [1, 16, 32, 32]           --\n",
       "│    │    └─Conv2d: 3-1                  [1, 16, 32, 32]           432\n",
       "│    │    └─BatchNorm2d: 3-2             [1, 16, 32, 32]           32\n",
       "│    │    └─ReLU: 3-3                    [1, 16, 32, 32]           --\n",
       "│    │    └─Dropout2d: 3-4               [1, 16, 32, 32]           --\n",
       "├─ConvLayer: 1-2                         [1, 16, 32, 32]           --\n",
       "│    └─Sequential: 2-2                   [1, 16, 32, 32]           --\n",
       "│    │    └─Conv2d: 3-5                  [1, 16, 32, 32]           2,304\n",
       "│    │    └─BatchNorm2d: 3-6             [1, 16, 32, 32]           32\n",
       "│    │    └─ReLU: 3-7                    [1, 16, 32, 32]           --\n",
       "│    │    └─Dropout2d: 3-8               [1, 16, 32, 32]           --\n",
       "├─ConvLayer: 1-3                         [1, 16, 30, 30]           --\n",
       "│    └─Sequential: 2-3                   [1, 16, 30, 30]           --\n",
       "│    │    └─Conv2d: 3-9                  [1, 16, 30, 30]           2,304\n",
       "│    │    └─BatchNorm2d: 3-10            [1, 16, 30, 30]           32\n",
       "│    │    └─ReLU: 3-11                   [1, 16, 30, 30]           --\n",
       "│    │    └─Dropout2d: 3-12              [1, 16, 30, 30]           --\n",
       "├─TransBlock: 1-4                        [1, 8, 30, 30]            --\n",
       "│    └─Sequential: 2-4                   [1, 8, 30, 30]            --\n",
       "│    │    └─Conv2d: 3-13                 [1, 8, 30, 30]            128\n",
       "├─ConvLayer: 1-5                         [1, 32, 30, 30]           --\n",
       "│    └─Sequential: 2-5                   [1, 32, 30, 30]           --\n",
       "│    │    └─Conv2d: 3-14                 [1, 32, 30, 30]           2,304\n",
       "│    │    └─BatchNorm2d: 3-15            [1, 32, 30, 30]           64\n",
       "│    │    └─ReLU: 3-16                   [1, 32, 30, 30]           --\n",
       "│    │    └─Dropout2d: 3-17              [1, 32, 30, 30]           --\n",
       "├─ConvLayer: 1-6                         [1, 32, 30, 30]           --\n",
       "│    └─Sequential: 2-6                   [1, 32, 30, 30]           --\n",
       "│    │    └─Conv2d: 3-18                 [1, 32, 30, 30]           9,216\n",
       "│    │    └─BatchNorm2d: 3-19            [1, 32, 30, 30]           64\n",
       "│    │    └─ReLU: 3-20                   [1, 32, 30, 30]           --\n",
       "│    │    └─Dropout2d: 3-21              [1, 32, 30, 30]           --\n",
       "├─ConvLayer: 1-7                         [1, 32, 22, 22]           --\n",
       "│    └─Sequential: 2-7                   [1, 32, 22, 22]           --\n",
       "│    │    └─Conv2d: 3-22                 [1, 32, 22, 22]           9,216\n",
       "│    │    └─BatchNorm2d: 3-23            [1, 32, 22, 22]           64\n",
       "│    │    └─ReLU: 3-24                   [1, 32, 22, 22]           --\n",
       "│    │    └─Dropout2d: 3-25              [1, 32, 22, 22]           --\n",
       "├─TransBlock: 1-8                        [1, 24, 22, 22]           --\n",
       "│    └─Sequential: 2-8                   [1, 24, 22, 22]           --\n",
       "│    │    └─Conv2d: 3-26                 [1, 24, 22, 22]           768\n",
       "├─ConvLayer: 1-9                         [1, 40, 22, 22]           --\n",
       "│    └─Sequential: 2-9                   [1, 40, 22, 22]           --\n",
       "│    │    └─Conv2d: 3-27                 [1, 40, 22, 22]           8,640\n",
       "│    │    └─BatchNorm2d: 3-28            [1, 40, 22, 22]           80\n",
       "│    │    └─ReLU: 3-29                   [1, 40, 22, 22]           --\n",
       "│    │    └─Dropout2d: 3-30              [1, 40, 22, 22]           --\n",
       "├─ConvLayer: 1-10                        [1, 40, 22, 22]           --\n",
       "│    └─Sequential: 2-10                  [1, 40, 22, 22]           --\n",
       "│    │    └─Conv2d: 3-31                 [1, 40, 22, 22]           14,400\n",
       "│    │    └─BatchNorm2d: 3-32            [1, 40, 22, 22]           80\n",
       "│    │    └─ReLU: 3-33                   [1, 40, 22, 22]           --\n",
       "│    │    └─Dropout2d: 3-34              [1, 40, 22, 22]           --\n",
       "├─ConvLayer: 1-11                        [1, 40, 7, 7]             --\n",
       "│    └─Sequential: 2-11                  [1, 40, 7, 7]             --\n",
       "│    │    └─Conv2d: 3-35                 [1, 40, 7, 7]             14,400\n",
       "│    │    └─BatchNorm2d: 3-36            [1, 40, 7, 7]             80\n",
       "│    │    └─ReLU: 3-37                   [1, 40, 7, 7]             --\n",
       "│    │    └─Dropout2d: 3-38              [1, 40, 7, 7]             --\n",
       "├─TransBlock: 1-12                       [1, 32, 7, 7]             --\n",
       "│    └─Sequential: 2-12                  [1, 32, 7, 7]             --\n",
       "│    │    └─Conv2d: 3-39                 [1, 32, 7, 7]             1,280\n",
       "├─AdaptiveAvgPool2d: 1-13                [1, 32, 1, 1]             --\n",
       "├─Sequential: 1-14                       [1, 10, 1, 1]             --\n",
       "│    └─TransBlock: 2-13                  [1, 10, 1, 1]             --\n",
       "│    │    └─Sequential: 3-40             [1, 10, 1, 1]             320\n",
       "==========================================================================================\n",
       "Total params: 66,240\n",
       "Trainable params: 66,240\n",
       "Non-trainable params: 0\n",
       "Total mult-adds (Units.MEGABYTES): 32.11\n",
       "==========================================================================================\n",
       "Input size (MB): 0.01\n",
       "Forward/backward pass size (MB): 2.74\n",
       "Params size (MB): 0.26\n",
       "Estimated Total Size (MB): 3.02\n",
       "=========================================================================================="
      ]
     },
     "execution_count": 43,
     "metadata": {},
     "output_type": "execute_result"
    }
   ],
   "source": [
    "model = Network2(dp=0.15).to(device)\n",
    "summary(model,input_size=(1,3,32,32))"
   ]
  },
  {
   "cell_type": "code",
   "execution_count": 44,
   "id": "3e735985-ba61-4941-8273-e66fd94df152",
   "metadata": {
    "scrolled": true
   },
   "outputs": [
    {
     "name": "stderr",
     "output_type": "stream",
     "text": [
      "EPOCH = 1 | LR = 0.1 | Loss = 1.88 | Batch = 97 | Accuracy = 25.35: 100%|███| 98/98 [00:35<00:00,  2.75it/s]\n"
     ]
    },
    {
     "name": "stdout",
     "output_type": "stream",
     "text": [
      "Test set: Average loss: 0.0033, Accuracy: 3710/10000 (37.10%)\n"
     ]
    },
    {
     "name": "stderr",
     "output_type": "stream",
     "text": [
      "EPOCH = 2 | LR = 0.1 | Loss = 1.57 | Batch = 97 | Accuracy = 36.16: 100%|███| 98/98 [00:35<00:00,  2.77it/s]\n"
     ]
    },
    {
     "name": "stdout",
     "output_type": "stream",
     "text": [
      "Test set: Average loss: 0.0031, Accuracy: 4324/10000 (43.24%)\n"
     ]
    },
    {
     "name": "stderr",
     "output_type": "stream",
     "text": [
      "EPOCH = 3 | LR = 0.1 | Loss = 1.54 | Batch = 97 | Accuracy = 40.96: 100%|███| 98/98 [00:35<00:00,  2.75it/s]\n"
     ]
    },
    {
     "name": "stdout",
     "output_type": "stream",
     "text": [
      "Test set: Average loss: 0.0029, Accuracy: 4595/10000 (45.95%)\n"
     ]
    },
    {
     "name": "stderr",
     "output_type": "stream",
     "text": [
      "EPOCH = 4 | LR = 0.1 | Loss = 1.53 | Batch = 97 | Accuracy = 44.62: 100%|███| 98/98 [00:35<00:00,  2.74it/s]\n"
     ]
    },
    {
     "name": "stdout",
     "output_type": "stream",
     "text": [
      "Test set: Average loss: 0.0026, Accuracy: 5255/10000 (52.55%)\n"
     ]
    },
    {
     "name": "stderr",
     "output_type": "stream",
     "text": [
      "EPOCH = 5 | LR = 0.1 | Loss = 1.29 | Batch = 97 | Accuracy = 48.38: 100%|███| 98/98 [00:35<00:00,  2.72it/s]\n"
     ]
    },
    {
     "name": "stdout",
     "output_type": "stream",
     "text": [
      "Test set: Average loss: 0.0025, Accuracy: 5640/10000 (56.40%)\n"
     ]
    },
    {
     "name": "stderr",
     "output_type": "stream",
     "text": [
      "EPOCH = 6 | LR = 0.1 | Loss = 1.26 | Batch = 97 | Accuracy = 51.51: 100%|███| 98/98 [00:35<00:00,  2.73it/s]\n"
     ]
    },
    {
     "name": "stdout",
     "output_type": "stream",
     "text": [
      "Test set: Average loss: 0.0023, Accuracy: 5891/10000 (58.91%)\n"
     ]
    },
    {
     "name": "stderr",
     "output_type": "stream",
     "text": [
      "EPOCH = 7 | LR = 0.1 | Loss = 1.26 | Batch = 97 | Accuracy = 53.44: 100%|███| 98/98 [00:35<00:00,  2.74it/s]\n"
     ]
    },
    {
     "name": "stdout",
     "output_type": "stream",
     "text": [
      "Test set: Average loss: 0.0022, Accuracy: 6023/10000 (60.23%)\n"
     ]
    },
    {
     "name": "stderr",
     "output_type": "stream",
     "text": [
      "EPOCH = 8 | LR = 0.1 | Loss = 1.19 | Batch = 97 | Accuracy = 55.25: 100%|███| 98/98 [00:35<00:00,  2.73it/s]\n"
     ]
    },
    {
     "name": "stdout",
     "output_type": "stream",
     "text": [
      "Test set: Average loss: 0.0021, Accuracy: 6365/10000 (63.65%)\n"
     ]
    },
    {
     "name": "stderr",
     "output_type": "stream",
     "text": [
      "EPOCH = 9 | LR = 0.1 | Loss = 1.22 | Batch = 97 | Accuracy = 57.14: 100%|███| 98/98 [00:35<00:00,  2.73it/s]\n"
     ]
    },
    {
     "name": "stdout",
     "output_type": "stream",
     "text": [
      "Test set: Average loss: 0.0021, Accuracy: 6201/10000 (62.01%)\n"
     ]
    },
    {
     "name": "stderr",
     "output_type": "stream",
     "text": [
      "EPOCH = 10 | LR = 0.1 | Loss = 1.08 | Batch = 97 | Accuracy = 58.90: 100%|██| 98/98 [00:35<00:00,  2.74it/s]\n"
     ]
    },
    {
     "name": "stdout",
     "output_type": "stream",
     "text": [
      "Test set: Average loss: 0.0019, Accuracy: 6551/10000 (65.51%)\n"
     ]
    },
    {
     "name": "stderr",
     "output_type": "stream",
     "text": [
      "EPOCH = 11 | LR = 0.1 | Loss = 1.12 | Batch = 97 | Accuracy = 60.18: 100%|██| 98/98 [00:37<00:00,  2.59it/s]\n"
     ]
    },
    {
     "name": "stdout",
     "output_type": "stream",
     "text": [
      "Test set: Average loss: 0.0019, Accuracy: 6737/10000 (67.37%)\n"
     ]
    },
    {
     "name": "stderr",
     "output_type": "stream",
     "text": [
      "EPOCH = 12 | LR = 0.1 | Loss = 1.01 | Batch = 97 | Accuracy = 61.41: 100%|██| 98/98 [00:35<00:00,  2.75it/s]\n"
     ]
    },
    {
     "name": "stdout",
     "output_type": "stream",
     "text": [
      "Test set: Average loss: 0.0018, Accuracy: 6852/10000 (68.52%)\n"
     ]
    },
    {
     "name": "stderr",
     "output_type": "stream",
     "text": [
      "EPOCH = 13 | LR = 0.1 | Loss = 0.95 | Batch = 97 | Accuracy = 62.32: 100%|██| 98/98 [00:35<00:00,  2.74it/s]\n"
     ]
    },
    {
     "name": "stdout",
     "output_type": "stream",
     "text": [
      "Test set: Average loss: 0.0017, Accuracy: 6938/10000 (69.38%)\n"
     ]
    },
    {
     "name": "stderr",
     "output_type": "stream",
     "text": [
      "EPOCH = 14 | LR = 0.1 | Loss = 0.97 | Batch = 97 | Accuracy = 63.28: 100%|██| 98/98 [00:35<00:00,  2.74it/s]\n"
     ]
    },
    {
     "name": "stdout",
     "output_type": "stream",
     "text": [
      "Test set: Average loss: 0.0018, Accuracy: 6760/10000 (67.60%)\n"
     ]
    },
    {
     "name": "stderr",
     "output_type": "stream",
     "text": [
      "EPOCH = 15 | LR = 0.1 | Loss = 0.99 | Batch = 97 | Accuracy = 64.08: 100%|██| 98/98 [00:35<00:00,  2.75it/s]\n"
     ]
    },
    {
     "name": "stdout",
     "output_type": "stream",
     "text": [
      "Test set: Average loss: 0.0019, Accuracy: 6746/10000 (67.46%)\n"
     ]
    },
    {
     "name": "stderr",
     "output_type": "stream",
     "text": [
      "EPOCH = 16 | LR = 0.1 | Loss = 1.01 | Batch = 97 | Accuracy = 65.05: 100%|██| 98/98 [00:36<00:00,  2.72it/s]\n"
     ]
    },
    {
     "name": "stdout",
     "output_type": "stream",
     "text": [
      "Test set: Average loss: 0.0017, Accuracy: 7006/10000 (70.06%)\n"
     ]
    },
    {
     "name": "stderr",
     "output_type": "stream",
     "text": [
      "EPOCH = 17 | LR = 0.1 | Loss = 0.95 | Batch = 97 | Accuracy = 65.40: 100%|██| 98/98 [00:35<00:00,  2.74it/s]\n"
     ]
    },
    {
     "name": "stdout",
     "output_type": "stream",
     "text": [
      "Test set: Average loss: 0.0016, Accuracy: 7189/10000 (71.89%)\n"
     ]
    },
    {
     "name": "stderr",
     "output_type": "stream",
     "text": [
      "EPOCH = 18 | LR = 0.1 | Loss = 0.91 | Batch = 97 | Accuracy = 66.08: 100%|██| 98/98 [00:37<00:00,  2.62it/s]\n"
     ]
    },
    {
     "name": "stdout",
     "output_type": "stream",
     "text": [
      "Test set: Average loss: 0.0017, Accuracy: 7121/10000 (71.21%)\n"
     ]
    },
    {
     "name": "stderr",
     "output_type": "stream",
     "text": [
      "EPOCH = 19 | LR = 0.1 | Loss = 0.97 | Batch = 97 | Accuracy = 67.01: 100%|██| 98/98 [00:36<00:00,  2.72it/s]\n"
     ]
    },
    {
     "name": "stdout",
     "output_type": "stream",
     "text": [
      "Test set: Average loss: 0.0016, Accuracy: 7280/10000 (72.80%)\n"
     ]
    },
    {
     "name": "stderr",
     "output_type": "stream",
     "text": [
      "EPOCH = 20 | LR = 0.1 | Loss = 0.97 | Batch = 97 | Accuracy = 67.04: 100%|██| 98/98 [00:35<00:00,  2.76it/s]\n"
     ]
    },
    {
     "name": "stdout",
     "output_type": "stream",
     "text": [
      "Test set: Average loss: 0.0016, Accuracy: 7222/10000 (72.22%)\n"
     ]
    },
    {
     "name": "stderr",
     "output_type": "stream",
     "text": [
      "EPOCH = 21 | LR = 0.1 | Loss = 0.93 | Batch = 97 | Accuracy = 67.42: 100%|██| 98/98 [00:35<00:00,  2.76it/s]\n"
     ]
    },
    {
     "name": "stdout",
     "output_type": "stream",
     "text": [
      "Test set: Average loss: 0.0016, Accuracy: 7139/10000 (71.39%)\n"
     ]
    },
    {
     "name": "stderr",
     "output_type": "stream",
     "text": [
      "  0%|                                                                                | 0/98 [00:15<?, ?it/s]\n",
      "\n",
      "KeyboardInterrupt\n",
      "\n"
     ]
    }
   ],
   "source": [
    "# prev_test_loss = float('inf')\n",
    "\n",
    "optimizer = optim.SGD(params=model.parameters(), lr=0.1, momentum=0.9)\n",
    "scheduler = optim.lr_scheduler.ReduceLROnPlateau(optimizer=optimizer,mode='min',factor=0.1,patience=3,verbose=True)\n",
    "criterion = nn.NLLLoss()\n",
    "trainer = Trainer(model=model, train_loader=train_loader, optimizer=optimizer, criterion=criterion, device=device)\n",
    "tester = Tester(model=model, test_loader=test_loader,criterion=criterion, device=device)\n",
    "\n",
    "for epoch in range(1, 51):\n",
    "    trainer.train(epoch=epoch)\n",
    "    _,test_loss = tester.test()\n",
    "    # if prev_test_loss>test_loss:\n",
    "    #     torch.save(obj=model.state_dict(),f='./bmodels/model.pth')\n",
    "    scheduler.step(test_loss)"
   ]
  },
  {
   "cell_type": "code",
   "execution_count": 45,
   "id": "68616fb6-b138-4d42-a438-2e9513e5bf3b",
   "metadata": {},
   "outputs": [
    {
     "data": {
      "image/png": "[encoded data removed]",
      "text/plain": [
       "<Figure size 1500x1000 with 4 Axes>"
      ]
     },
     "metadata": {},
     "output_type": "display_data"
    }
   ],
   "source": [
    "plot_curves(trainer.train_losses,trainer.train_accuracies,tester.test_losses,tester.test_accuracies)"
   ]
  },
  {
   "cell_type": "code",
   "execution_count": 64,
   "id": "4c644601-f123-4175-a901-dee2828aad34",
   "metadata": {},
   "outputs": [],
   "source": []
  },
  {
   "cell_type": "code",
   "execution_count": 50,
   "id": "83cd3b37-afc0-4cf7-bc52-4d3224a47b47",
   "metadata": {},
   "outputs": [],
   "source": [
    "class Network(nn.Module):\n",
    "    def __init__(self,dp=0.1):\n",
    "        super(Network,self).__init__()\n",
    "        self.dp = dp\n",
    "        self.c1 = ConvLayer(inc=3, outc=16,k=3,p=1,s=1,d=1,dp_rate=self.dp)\n",
    "        self.c2 = ConvLayer(inc=16,outc=16,k=3,p=1,s=1,d=1,dp_rate=self.dp) \n",
    "        self.c2_add = ConvLayer(inc=16,outc=16,k=3,p=1,s=1,d=1,dp_rate=self.dp) \n",
    "        self.c3 = ConvLayer(inc=16,outc=16,k=3,p=1,s=1,d=2,dp_rate=self.dp)\n",
    "        self.t1 = TransBlock(inc=16,outc=8,p=0)\n",
    "\n",
    "        self.d1 = DepthwiseConvLayer(inc=8,outc=32,s=1,p=1,dp_rate=self.dp)\n",
    "        self.c4 = ConvLayer(inc=32,outc=32,k=3,p=1,s=1,d=1,dp_rate=self.dp)\n",
    "        self.d2 = DepthwiseConvLayer(inc=32,outc=32,s=1,p=1,dp_rate=self.dp)\n",
    "        self.c5 = ConvLayer(inc=32,outc=32,k=3,p=1,s=1,d=1,dp_rate=self.dp)\n",
    "        self.c6 = ConvLayer(inc=32,outc=32,k=3,p=0,s=1,d=4,dp_rate=self.dp)\n",
    "        self.t2 = TransBlock(inc=32,outc=24,p=0)\n",
    "\n",
    "        self.d3 = DepthwiseConvLayer(inc=24,outc=40,s=1,p=1,dp_rate=self.dp)\n",
    "        self.c7 = ConvLayer(inc=40,outc=40,k=3,p=1,s=1,d=1,dp_rate=self.dp)\n",
    "        self.d4 = DepthwiseConvLayer(inc=40,outc=40,s=1,p=1,dp_rate=self.dp)\n",
    "        self.c8 = ConvLayer(inc=40,outc=40,k=3,p=1,s=1,d=1,dp_rate=self.dp)\n",
    "        self.c9 = ConvLayer(inc=40,outc=80,k=3,p=0,s=2,d=6,dp_rate=self.dp)\n",
    "        self.t3 = TransBlock(inc=80,outc=32,p=0)\n",
    "        \n",
    "        self.gap = nn.AdaptiveAvgPool2d(output_size=1)\n",
    "        self.out = nn.Sequential(TransBlock(inc=32,outc=10,p=0))\n",
    "        \n",
    "    def forward(self,x):\n",
    "        x = self.c1(x)\n",
    "        x = x + self.c2(x)\n",
    "        x = x + self.c2_add(x)\n",
    "        x = self.c3(x)\n",
    "        x = self.t1(x)\n",
    "\n",
    "        x = self.d1(x)\n",
    "        x = x + self.c4(x)\n",
    "        x = x + self.d2(x)\n",
    "        x = x + self.c5(x)\n",
    "        x = self.c6(x)\n",
    "        x = self.t2(x)\n",
    "\n",
    "        x = self.d3(x)\n",
    "        x = x + self.c7(x)\n",
    "        x = x + self.d4(x)\n",
    "        x = x + self.c8(x)\n",
    "        x = self.c9(x)\n",
    "        x = self.t3(x)\n",
    "        \n",
    "        x = self.gap(x)\n",
    "        x = self.out(x)        \n",
    "        return F.log_softmax(x.view(-1,10), dim=1)"
   ]
  },
  {
   "cell_type": "code",
   "execution_count": 51,
   "id": "82e7eec2-e0e1-4b4c-a03f-4af8d2d84898",
   "metadata": {
    "scrolled": true
   },
   "outputs": [
    {
     "data": {
      "text/plain": [
       "==========================================================================================\n",
       "Layer (type:depth-idx)                   Output Shape              Param #\n",
       "==========================================================================================\n",
       "Network                                  [1, 10]                   --\n",
       "├─ConvLayer: 1-1                         [1, 16, 32, 32]           --\n",
       "│    └─Sequential: 2-1                   [1, 16, 32, 32]           --\n",
       "│    │    └─Conv2d: 3-1                  [1, 16, 32, 32]           432\n",
       "│    │    └─BatchNorm2d: 3-2             [1, 16, 32, 32]           32\n",
       "│    │    └─ReLU: 3-3                    [1, 16, 32, 32]           --\n",
       "│    │    └─Dropout2d: 3-4               [1, 16, 32, 32]           --\n",
       "├─ConvLayer: 1-2                         [1, 16, 32, 32]           --\n",
       "│    └─Sequential: 2-2                   [1, 16, 32, 32]           --\n",
       "│    │    └─Conv2d: 3-5                  [1, 16, 32, 32]           2,304\n",
       "│    │    └─BatchNorm2d: 3-6             [1, 16, 32, 32]           32\n",
       "│    │    └─ReLU: 3-7                    [1, 16, 32, 32]           --\n",
       "│    │    └─Dropout2d: 3-8               [1, 16, 32, 32]           --\n",
       "├─ConvLayer: 1-3                         [1, 16, 32, 32]           --\n",
       "│    └─Sequential: 2-3                   [1, 16, 32, 32]           --\n",
       "│    │    └─Conv2d: 3-9                  [1, 16, 32, 32]           2,304\n",
       "│    │    └─BatchNorm2d: 3-10            [1, 16, 32, 32]           32\n",
       "│    │    └─ReLU: 3-11                   [1, 16, 32, 32]           --\n",
       "│    │    └─Dropout2d: 3-12              [1, 16, 32, 32]           --\n",
       "├─ConvLayer: 1-4                         [1, 16, 30, 30]           --\n",
       "│    └─Sequential: 2-4                   [1, 16, 30, 30]           --\n",
       "│    │    └─Conv2d: 3-13                 [1, 16, 30, 30]           2,304\n",
       "│    │    └─BatchNorm2d: 3-14            [1, 16, 30, 30]           32\n",
       "│    │    └─ReLU: 3-15                   [1, 16, 30, 30]           --\n",
       "│    │    └─Dropout2d: 3-16              [1, 16, 30, 30]           --\n",
       "├─TransBlock: 1-5                        [1, 8, 30, 30]            --\n",
       "│    └─Sequential: 2-5                   [1, 8, 30, 30]            --\n",
       "│    │    └─Conv2d: 3-17                 [1, 8, 30, 30]            128\n",
       "├─DepthwiseConvLayer: 1-6                [1, 32, 30, 30]           --\n",
       "│    └─Conv2d: 2-6                       [1, 8, 28, 28]            72\n",
       "│    └─Conv2d: 2-7                       [1, 32, 30, 30]           256\n",
       "│    └─Sequential: 2-8                   [1, 32, 30, 30]           --\n",
       "│    │    └─ReLU: 3-18                   [1, 32, 30, 30]           --\n",
       "│    │    └─BatchNorm2d: 3-19            [1, 32, 30, 30]           64\n",
       "│    │    └─Dropout2d: 3-20              [1, 32, 30, 30]           --\n",
       "├─ConvLayer: 1-7                         [1, 32, 30, 30]           --\n",
       "│    └─Sequential: 2-9                   [1, 32, 30, 30]           --\n",
       "│    │    └─Conv2d: 3-21                 [1, 32, 30, 30]           9,216\n",
       "│    │    └─BatchNorm2d: 3-22            [1, 32, 30, 30]           64\n",
       "│    │    └─ReLU: 3-23                   [1, 32, 30, 30]           --\n",
       "│    │    └─Dropout2d: 3-24              [1, 32, 30, 30]           --\n",
       "├─DepthwiseConvLayer: 1-8                [1, 32, 30, 30]           --\n",
       "│    └─Conv2d: 2-10                      [1, 32, 28, 28]           288\n",
       "│    └─Conv2d: 2-11                      [1, 32, 30, 30]           1,024\n",
       "│    └─Sequential: 2-12                  [1, 32, 30, 30]           --\n",
       "│    │    └─ReLU: 3-25                   [1, 32, 30, 30]           --\n",
       "│    │    └─BatchNorm2d: 3-26            [1, 32, 30, 30]           64\n",
       "│    │    └─Dropout2d: 3-27              [1, 32, 30, 30]           --\n",
       "├─ConvLayer: 1-9                         [1, 32, 30, 30]           --\n",
       "│    └─Sequential: 2-13                  [1, 32, 30, 30]           --\n",
       "│    │    └─Conv2d: 3-28                 [1, 32, 30, 30]           9,216\n",
       "│    │    └─BatchNorm2d: 3-29            [1, 32, 30, 30]           64\n",
       "│    │    └─ReLU: 3-30                   [1, 32, 30, 30]           --\n",
       "│    │    └─Dropout2d: 3-31              [1, 32, 30, 30]           --\n",
       "├─ConvLayer: 1-10                        [1, 32, 22, 22]           --\n",
       "│    └─Sequential: 2-14                  [1, 32, 22, 22]           --\n",
       "│    │    └─Conv2d: 3-32                 [1, 32, 22, 22]           9,216\n",
       "│    │    └─BatchNorm2d: 3-33            [1, 32, 22, 22]           64\n",
       "│    │    └─ReLU: 3-34                   [1, 32, 22, 22]           --\n",
       "│    │    └─Dropout2d: 3-35              [1, 32, 22, 22]           --\n",
       "├─TransBlock: 1-11                       [1, 24, 22, 22]           --\n",
       "│    └─Sequential: 2-15                  [1, 24, 22, 22]           --\n",
       "│    │    └─Conv2d: 3-36                 [1, 24, 22, 22]           768\n",
       "├─DepthwiseConvLayer: 1-12               [1, 40, 22, 22]           --\n",
       "│    └─Conv2d: 2-16                      [1, 24, 20, 20]           216\n",
       "│    └─Conv2d: 2-17                      [1, 40, 22, 22]           960\n",
       "│    └─Sequential: 2-18                  [1, 40, 22, 22]           --\n",
       "│    │    └─ReLU: 3-37                   [1, 40, 22, 22]           --\n",
       "│    │    └─BatchNorm2d: 3-38            [1, 40, 22, 22]           80\n",
       "│    │    └─Dropout2d: 3-39              [1, 40, 22, 22]           --\n",
       "├─ConvLayer: 1-13                        [1, 40, 22, 22]           --\n",
       "│    └─Sequential: 2-19                  [1, 40, 22, 22]           --\n",
       "│    │    └─Conv2d: 3-40                 [1, 40, 22, 22]           14,400\n",
       "│    │    └─BatchNorm2d: 3-41            [1, 40, 22, 22]           80\n",
       "│    │    └─ReLU: 3-42                   [1, 40, 22, 22]           --\n",
       "│    │    └─Dropout2d: 3-43              [1, 40, 22, 22]           --\n",
       "├─DepthwiseConvLayer: 1-14               [1, 40, 22, 22]           --\n",
       "│    └─Conv2d: 2-20                      [1, 40, 20, 20]           360\n",
       "│    └─Conv2d: 2-21                      [1, 40, 22, 22]           1,600\n",
       "│    └─Sequential: 2-22                  [1, 40, 22, 22]           --\n",
       "│    │    └─ReLU: 3-44                   [1, 40, 22, 22]           --\n",
       "│    │    └─BatchNorm2d: 3-45            [1, 40, 22, 22]           80\n",
       "│    │    └─Dropout2d: 3-46              [1, 40, 22, 22]           --\n",
       "├─ConvLayer: 1-15                        [1, 40, 22, 22]           --\n",
       "│    └─Sequential: 2-23                  [1, 40, 22, 22]           --\n",
       "│    │    └─Conv2d: 3-47                 [1, 40, 22, 22]           14,400\n",
       "│    │    └─BatchNorm2d: 3-48            [1, 40, 22, 22]           80\n",
       "│    │    └─ReLU: 3-49                   [1, 40, 22, 22]           --\n",
       "│    │    └─Dropout2d: 3-50              [1, 40, 22, 22]           --\n",
       "├─ConvLayer: 1-16                        [1, 80, 5, 5]             --\n",
       "│    └─Sequential: 2-24                  [1, 80, 5, 5]             --\n",
       "│    │    └─Conv2d: 3-51                 [1, 80, 5, 5]             28,800\n",
       "│    │    └─BatchNorm2d: 3-52            [1, 80, 5, 5]             160\n",
       "│    │    └─ReLU: 3-53                   [1, 80, 5, 5]             --\n",
       "│    │    └─Dropout2d: 3-54              [1, 80, 5, 5]             --\n",
       "├─TransBlock: 1-17                       [1, 32, 5, 5]             --\n",
       "│    └─Sequential: 2-25                  [1, 32, 5, 5]             --\n",
       "│    │    └─Conv2d: 3-55                 [1, 32, 5, 5]             2,560\n",
       "├─AdaptiveAvgPool2d: 1-18                [1, 32, 1, 1]             --\n",
       "├─Sequential: 1-19                       [1, 10, 1, 1]             --\n",
       "│    └─TransBlock: 2-26                  [1, 10, 1, 1]             --\n",
       "│    │    └─Sequential: 3-56             [1, 10, 1, 1]             320\n",
       "==========================================================================================\n",
       "Total params: 102,072\n",
       "Trainable params: 102,072\n",
       "Non-trainable params: 0\n",
       "Total mult-adds (Units.MEGABYTES): 46.40\n",
       "==========================================================================================\n",
       "Input size (MB): 0.01\n",
       "Forward/backward pass size (MB): 4.99\n",
       "Params size (MB): 0.41\n",
       "Estimated Total Size (MB): 5.41\n",
       "=========================================================================================="
      ]
     },
     "execution_count": 51,
     "metadata": {},
     "output_type": "execute_result"
    }
   ],
   "source": [
    "m1 = Network().to(device)\n",
    "summary(m1,input_size=(1,3,32,32))"
   ]
  },
  {
   "cell_type": "code",
   "execution_count": 52,
   "id": "0c2b9e2f-1051-4dcd-8d20-d06c6028b213",
   "metadata": {
    "scrolled": true
   },
   "outputs": [
    {
     "name": "stderr",
     "output_type": "stream",
     "text": [
      "EPOCH = 1 | LR = 0.1 | Loss = 1.63 | Batch = 97 | Accuracy = 30.25: 100%|███| 98/98 [00:42<00:00,  2.29it/s]\n"
     ]
    },
    {
     "name": "stdout",
     "output_type": "stream",
     "text": [
      "Test set: Average loss: 0.0031, Accuracy: 4222/10000 (42.22%)\n"
     ]
    },
    {
     "name": "stderr",
     "output_type": "stream",
     "text": [
      "EPOCH = 2 | LR = 0.1 | Loss = 1.48 | Batch = 97 | Accuracy = 42.28: 100%|███| 98/98 [00:42<00:00,  2.28it/s]\n"
     ]
    },
    {
     "name": "stdout",
     "output_type": "stream",
     "text": [
      "Test set: Average loss: 0.0028, Accuracy: 4762/10000 (47.62%)\n"
     ]
    },
    {
     "name": "stderr",
     "output_type": "stream",
     "text": [
      "EPOCH = 3 | LR = 0.1 | Loss = 1.36 | Batch = 97 | Accuracy = 47.85: 100%|███| 98/98 [00:42<00:00,  2.32it/s]\n"
     ]
    },
    {
     "name": "stdout",
     "output_type": "stream",
     "text": [
      "Test set: Average loss: 0.0025, Accuracy: 5354/10000 (53.54%)\n"
     ]
    },
    {
     "name": "stderr",
     "output_type": "stream",
     "text": [
      "EPOCH = 4 | LR = 0.1 | Loss = 1.22 | Batch = 97 | Accuracy = 52.21: 100%|███| 98/98 [00:42<00:00,  2.30it/s]\n"
     ]
    },
    {
     "name": "stdout",
     "output_type": "stream",
     "text": [
      "Test set: Average loss: 0.0023, Accuracy: 5899/10000 (58.99%)\n"
     ]
    },
    {
     "name": "stderr",
     "output_type": "stream",
     "text": [
      "EPOCH = 5 | LR = 0.1 | Loss = 1.16 | Batch = 97 | Accuracy = 55.57: 100%|███| 98/98 [00:43<00:00,  2.28it/s]\n"
     ]
    },
    {
     "name": "stdout",
     "output_type": "stream",
     "text": [
      "Test set: Average loss: 0.0021, Accuracy: 6205/10000 (62.05%)\n"
     ]
    },
    {
     "name": "stderr",
     "output_type": "stream",
     "text": [
      "EPOCH = 6 | LR = 0.1 | Loss = 1.15 | Batch = 97 | Accuracy = 58.75: 100%|███| 98/98 [00:42<00:00,  2.29it/s]\n"
     ]
    },
    {
     "name": "stdout",
     "output_type": "stream",
     "text": [
      "Test set: Average loss: 0.0021, Accuracy: 6280/10000 (62.80%)\n"
     ]
    },
    {
     "name": "stderr",
     "output_type": "stream",
     "text": [
      "EPOCH = 7 | LR = 0.1 | Loss = 1.17 | Batch = 97 | Accuracy = 61.18: 100%|███| 98/98 [00:42<00:00,  2.28it/s]\n"
     ]
    },
    {
     "name": "stdout",
     "output_type": "stream",
     "text": [
      "Test set: Average loss: 0.0019, Accuracy: 6627/10000 (66.27%)\n"
     ]
    },
    {
     "name": "stderr",
     "output_type": "stream",
     "text": [
      "EPOCH = 8 | LR = 0.1 | Loss = 1.02 | Batch = 97 | Accuracy = 63.28: 100%|███| 98/98 [00:42<00:00,  2.29it/s]\n"
     ]
    },
    {
     "name": "stdout",
     "output_type": "stream",
     "text": [
      "Test set: Average loss: 0.0018, Accuracy: 6877/10000 (68.77%)\n"
     ]
    },
    {
     "name": "stderr",
     "output_type": "stream",
     "text": [
      "EPOCH = 9 | LR = 0.1 | Loss = 0.92 | Batch = 97 | Accuracy = 65.31: 100%|███| 98/98 [00:42<00:00,  2.31it/s]\n"
     ]
    },
    {
     "name": "stdout",
     "output_type": "stream",
     "text": [
      "Test set: Average loss: 0.0018, Accuracy: 6900/10000 (69.00%)\n"
     ]
    },
    {
     "name": "stderr",
     "output_type": "stream",
     "text": [
      "EPOCH = 10 | LR = 0.1 | Loss = 0.89 | Batch = 97 | Accuracy = 66.60: 100%|██| 98/98 [00:43<00:00,  2.26it/s]\n"
     ]
    },
    {
     "name": "stdout",
     "output_type": "stream",
     "text": [
      "Test set: Average loss: 0.0016, Accuracy: 7101/10000 (71.01%)\n"
     ]
    },
    {
     "name": "stderr",
     "output_type": "stream",
     "text": [
      "EPOCH = 11 | LR = 0.1 | Loss = 0.90 | Batch = 97 | Accuracy = 67.88: 100%|██| 98/98 [00:42<00:00,  2.30it/s]\n"
     ]
    },
    {
     "name": "stdout",
     "output_type": "stream",
     "text": [
      "Test set: Average loss: 0.0016, Accuracy: 7224/10000 (72.24%)\n"
     ]
    },
    {
     "name": "stderr",
     "output_type": "stream",
     "text": [
      "EPOCH = 12 | LR = 0.1 | Loss = 0.78 | Batch = 97 | Accuracy = 69.20: 100%|██| 98/98 [00:42<00:00,  2.30it/s]\n"
     ]
    },
    {
     "name": "stdout",
     "output_type": "stream",
     "text": [
      "Test set: Average loss: 0.0015, Accuracy: 7284/10000 (72.84%)\n"
     ]
    },
    {
     "name": "stderr",
     "output_type": "stream",
     "text": [
      "EPOCH = 13 | LR = 0.1 | Loss = 0.91 | Batch = 97 | Accuracy = 70.06: 100%|██| 98/98 [00:42<00:00,  2.30it/s]\n"
     ]
    },
    {
     "name": "stdout",
     "output_type": "stream",
     "text": [
      "Test set: Average loss: 0.0015, Accuracy: 7434/10000 (74.34%)\n"
     ]
    },
    {
     "name": "stderr",
     "output_type": "stream",
     "text": [
      "EPOCH = 14 | LR = 0.1 | Loss = 0.73 | Batch = 97 | Accuracy = 70.76: 100%|██| 98/98 [00:42<00:00,  2.31it/s]\n"
     ]
    },
    {
     "name": "stdout",
     "output_type": "stream",
     "text": [
      "Test set: Average loss: 0.0015, Accuracy: 7369/10000 (73.69%)\n"
     ]
    },
    {
     "name": "stderr",
     "output_type": "stream",
     "text": [
      "EPOCH = 15 | LR = 0.1 | Loss = 0.67 | Batch = 97 | Accuracy = 71.73: 100%|██| 98/98 [00:43<00:00,  2.23it/s]\n"
     ]
    },
    {
     "name": "stdout",
     "output_type": "stream",
     "text": [
      "Test set: Average loss: 0.0014, Accuracy: 7499/10000 (74.99%)\n"
     ]
    },
    {
     "name": "stderr",
     "output_type": "stream",
     "text": [
      "EPOCH = 16 | LR = 0.1 | Loss = 0.72 | Batch = 97 | Accuracy = 72.19: 100%|██| 98/98 [00:42<00:00,  2.28it/s]\n"
     ]
    },
    {
     "name": "stdout",
     "output_type": "stream",
     "text": [
      "Test set: Average loss: 0.0014, Accuracy: 7526/10000 (75.26%)\n"
     ]
    },
    {
     "name": "stderr",
     "output_type": "stream",
     "text": [
      "EPOCH = 17 | LR = 0.1 | Loss = 0.81 | Batch = 97 | Accuracy = 72.84: 100%|██| 98/98 [00:42<00:00,  2.29it/s]\n"
     ]
    },
    {
     "name": "stdout",
     "output_type": "stream",
     "text": [
      "Test set: Average loss: 0.0014, Accuracy: 7608/10000 (76.08%)\n"
     ]
    },
    {
     "name": "stderr",
     "output_type": "stream",
     "text": [
      "EPOCH = 18 | LR = 0.1 | Loss = 0.79 | Batch = 97 | Accuracy = 73.62: 100%|██| 98/98 [00:42<00:00,  2.30it/s]\n"
     ]
    },
    {
     "name": "stdout",
     "output_type": "stream",
     "text": [
      "Test set: Average loss: 0.0014, Accuracy: 7597/10000 (75.97%)\n"
     ]
    },
    {
     "name": "stderr",
     "output_type": "stream",
     "text": [
      "EPOCH = 19 | LR = 0.1 | Loss = 0.80 | Batch = 97 | Accuracy = 73.74: 100%|██| 98/98 [00:42<00:00,  2.28it/s]\n"
     ]
    },
    {
     "name": "stdout",
     "output_type": "stream",
     "text": [
      "Test set: Average loss: 0.0014, Accuracy: 7612/10000 (76.12%)\n"
     ]
    },
    {
     "name": "stderr",
     "output_type": "stream",
     "text": [
      "EPOCH = 20 | LR = 0.1 | Loss = 0.70 | Batch = 97 | Accuracy = 74.33: 100%|██| 98/98 [00:43<00:00,  2.25it/s]\n"
     ]
    },
    {
     "name": "stdout",
     "output_type": "stream",
     "text": [
      "Test set: Average loss: 0.0013, Accuracy: 7718/10000 (77.18%)\n"
     ]
    },
    {
     "name": "stderr",
     "output_type": "stream",
     "text": [
      "EPOCH = 21 | LR = 0.1 | Loss = 0.75 | Batch = 97 | Accuracy = 74.84: 100%|██| 98/98 [00:43<00:00,  2.23it/s]\n"
     ]
    },
    {
     "name": "stdout",
     "output_type": "stream",
     "text": [
      "Test set: Average loss: 0.0013, Accuracy: 7761/10000 (77.61%)\n"
     ]
    },
    {
     "name": "stderr",
     "output_type": "stream",
     "text": [
      "EPOCH = 22 | LR = 0.1 | Loss = 0.65 | Batch = 97 | Accuracy = 75.02: 100%|██| 98/98 [00:43<00:00,  2.27it/s]\n"
     ]
    },
    {
     "name": "stdout",
     "output_type": "stream",
     "text": [
      "Test set: Average loss: 0.0013, Accuracy: 7771/10000 (77.71%)\n"
     ]
    },
    {
     "name": "stderr",
     "output_type": "stream",
     "text": [
      "EPOCH = 23 | LR = 0.1 | Loss = 0.74 | Batch = 97 | Accuracy = 75.28: 100%|██| 98/98 [00:43<00:00,  2.28it/s]\n"
     ]
    },
    {
     "name": "stdout",
     "output_type": "stream",
     "text": [
      "Test set: Average loss: 0.0013, Accuracy: 7794/10000 (77.94%)\n"
     ]
    },
    {
     "name": "stderr",
     "output_type": "stream",
     "text": [
      "EPOCH = 24 | LR = 0.1 | Loss = 0.79 | Batch = 97 | Accuracy = 76.19: 100%|██| 98/98 [00:43<00:00,  2.26it/s]\n"
     ]
    },
    {
     "name": "stdout",
     "output_type": "stream",
     "text": [
      "Test set: Average loss: 0.0013, Accuracy: 7800/10000 (78.00%)\n"
     ]
    },
    {
     "name": "stderr",
     "output_type": "stream",
     "text": [
      "EPOCH = 25 | LR = 0.1 | Loss = 0.68 | Batch = 97 | Accuracy = 76.17: 100%|██| 98/98 [00:42<00:00,  2.29it/s]\n"
     ]
    },
    {
     "name": "stdout",
     "output_type": "stream",
     "text": [
      "Test set: Average loss: 0.0013, Accuracy: 7791/10000 (77.91%)\n"
     ]
    },
    {
     "name": "stderr",
     "output_type": "stream",
     "text": [
      "EPOCH = 26 | LR = 0.1 | Loss = 0.67 | Batch = 97 | Accuracy = 76.57: 100%|██| 98/98 [00:42<00:00,  2.28it/s]\n"
     ]
    },
    {
     "name": "stdout",
     "output_type": "stream",
     "text": [
      "Test set: Average loss: 0.0013, Accuracy: 7801/10000 (78.01%)\n"
     ]
    },
    {
     "name": "stderr",
     "output_type": "stream",
     "text": [
      "EPOCH = 27 | LR = 0.1 | Loss = 0.55 | Batch = 97 | Accuracy = 76.80: 100%|██| 98/98 [00:42<00:00,  2.29it/s]\n"
     ]
    },
    {
     "name": "stdout",
     "output_type": "stream",
     "text": [
      "Test set: Average loss: 0.0013, Accuracy: 7768/10000 (77.68%)\n"
     ]
    },
    {
     "name": "stderr",
     "output_type": "stream",
     "text": [
      "EPOCH = 28 | LR = 0.1 | Loss = 0.64 | Batch = 97 | Accuracy = 76.71: 100%|██| 98/98 [00:42<00:00,  2.30it/s]\n"
     ]
    },
    {
     "name": "stdout",
     "output_type": "stream",
     "text": [
      "Test set: Average loss: 0.0013, Accuracy: 7773/10000 (77.73%)\n"
     ]
    },
    {
     "name": "stderr",
     "output_type": "stream",
     "text": [
      "EPOCH = 29 | LR = 0.1 | Loss = 0.61 | Batch = 97 | Accuracy = 77.28: 100%|██| 98/98 [00:42<00:00,  2.29it/s]\n"
     ]
    },
    {
     "name": "stdout",
     "output_type": "stream",
     "text": [
      "Test set: Average loss: 0.0013, Accuracy: 7843/10000 (78.43%)\n"
     ]
    },
    {
     "name": "stderr",
     "output_type": "stream",
     "text": [
      "EPOCH = 30 | LR = 0.1 | Loss = 0.62 | Batch = 97 | Accuracy = 77.63: 100%|██| 98/98 [00:43<00:00,  2.26it/s]\n"
     ]
    },
    {
     "name": "stdout",
     "output_type": "stream",
     "text": [
      "Test set: Average loss: 0.0012, Accuracy: 7852/10000 (78.52%)\n"
     ]
    },
    {
     "name": "stderr",
     "output_type": "stream",
     "text": [
      "EPOCH = 31 | LR = 0.1 | Loss = 0.60 | Batch = 97 | Accuracy = 77.60: 100%|██| 98/98 [00:43<00:00,  2.26it/s]\n"
     ]
    },
    {
     "name": "stdout",
     "output_type": "stream",
     "text": [
      "Test set: Average loss: 0.0012, Accuracy: 7859/10000 (78.59%)\n"
     ]
    },
    {
     "name": "stderr",
     "output_type": "stream",
     "text": [
      "EPOCH = 32 | LR = 0.1 | Loss = 0.64 | Batch = 97 | Accuracy = 77.95: 100%|██| 98/98 [00:43<00:00,  2.26it/s]\n"
     ]
    },
    {
     "name": "stdout",
     "output_type": "stream",
     "text": [
      "Test set: Average loss: 0.0012, Accuracy: 7853/10000 (78.53%)\n"
     ]
    },
    {
     "name": "stderr",
     "output_type": "stream",
     "text": [
      "  0%|                                                                                | 0/98 [00:13<?, ?it/s]\n",
      "\n",
      "KeyboardInterrupt\n",
      "\n"
     ]
    }
   ],
   "source": [
    "# prev_test_loss = float('inf')\n",
    "\n",
    "optimizer = optim.SGD(params=m1.parameters(), lr=0.1, momentum=0.9)\n",
    "scheduler = optim.lr_scheduler.ReduceLROnPlateau(optimizer=optimizer,mode='min',factor=0.1,patience=3,verbose=True)\n",
    "criterion = nn.NLLLoss()\n",
    "trainer = Trainer(model=m1, train_loader=train_loader, optimizer=optimizer, criterion=criterion, device=device)\n",
    "tester = Tester(model=m1, test_loader=test_loader,criterion=criterion, device=device)\n",
    "\n",
    "for epoch in range(1, 51):\n",
    "    trainer.train(epoch=epoch)\n",
    "    _,test_loss = tester.test()\n",
    "    # if prev_test_loss>test_loss:\n",
    "    #     torch.save(obj=model.state_dict(),f='./bmodels/model.pth')\n",
    "    scheduler.step(test_loss)"
   ]
  },
  {
   "cell_type": "code",
   "execution_count": 53,
   "id": "c455df40-41c7-4e6a-b4a3-e3f2a662566b",
   "metadata": {},
   "outputs": [
    {
     "data": {
      "image/png": "[encoded data removed]",
      "text/plain": [
       "<Figure size 1500x1000 with 4 Axes>"
      ]
     },
     "metadata": {},
     "output_type": "display_data"
    }
   ],
   "source": [
    "plot_curves(trainer.train_losses,trainer.train_accuracies,tester.test_losses,tester.test_accuracies)"
   ]
  },
  {
   "cell_type": "code",
   "execution_count": null,
   "id": "ffb68f39-6890-4a1d-ab41-8f8d0ffeae70",
   "metadata": {},
   "outputs": [],
   "source": []
  },
  {
   "cell_type": "code",
   "execution_count": null,
   "id": "0eef26b5-97b3-47f4-b5ab-925c3cc2f01f",
   "metadata": {},
   "outputs": [],
   "source": []
  },
  {
   "cell_type": "code",
   "execution_count": 24,
   "id": "ec691784-325b-4aca-86f7-3eb5b3e81219",
   "metadata": {},
   "outputs": [],
   "source": [
    "class Network2(nn.Module):\n",
    "    def __init__(self,squeeze_channels,dp=0.1):\n",
    "        super(Network2,self).__init__()\n",
    "        self.dp = dp\n",
    "        self.c1 = ConvLayer(inc=squeeze_channels[0], outc=squeeze_channels[2],k=3,p=1,s=1,d=1,dp_rate=self.dp)\n",
    "        self.c2 = ConvLayer(inc=squeeze_channels[2],outc=squeeze_channels[2],k=3,p=1,s=1,d=1,dp_rate=self.dp) \n",
    "        self.c3 = ConvLayer(inc=squeeze_channels[2],outc=squeeze_channels[2],k=3,p=1,s=1,d=1,dp_rate=self.dp) \n",
    "        self.c4 = ConvLayer(inc=squeeze_channels[2],outc=squeeze_channels[2],k=3,p=1,s=1,d=2,dp_rate=self.dp)\n",
    "        self.t1 = TransBlock(inc=squeeze_channels[2],outc=squeeze_channels[1],p=0)\n",
    "\n",
    "        self.d1 = DepthwiseConvLayer(inc=squeeze_channels[1],outc=squeeze_channels[4],s=1,p=1,dp_rate=self.dp)\n",
    "        self.c5 = ConvLayer(inc=squeeze_channels[4],outc=squeeze_channels[4],k=3,p=1,s=1,d=1,dp_rate=self.dp)\n",
    "        self.d2 = DepthwiseConvLayer(inc=squeeze_channels[4],outc=squeeze_channels[4],s=1,p=1,dp_rate=self.dp)\n",
    "        self.c6 = ConvLayer(inc=squeeze_channels[4],outc=squeeze_channels[4],k=3,p=1,s=1,d=1,dp_rate=self.dp)\n",
    "        self.c7 = ConvLayer(inc=squeeze_channels[4],outc=squeeze_channels[4],k=3,p=0,s=1,d=4,dp_rate=self.dp)\n",
    "        self.t2 = TransBlock(inc=squeeze_channels[4],outc=squeeze_channels[3],p=0)\n",
    "\n",
    "        self.d3 = DepthwiseConvLayer(inc=squeeze_channels[3],outc=squeeze_channels[5],s=1,p=1,dp_rate=self.dp)\n",
    "        self.c8 = ConvLayer(inc=squeeze_channels[5],outc=squeeze_channels[5],k=3,p=1,s=1,d=1,dp_rate=self.dp)\n",
    "        self.d4 = DepthwiseConvLayer(inc=squeeze_channels[5],outc=squeeze_channels[5],s=1,p=1,dp_rate=self.dp)\n",
    "        self.c9 = ConvLayer(inc=squeeze_channels[5],outc=squeeze_channels[5],k=3,p=1,s=1,d=1,dp_rate=self.dp)\n",
    "        self.c10 = ConvLayer(inc=squeeze_channels[5],outc=squeeze_channels[6],k=3,p=0,s=1,d=8,dp_rate=self.dp)\n",
    "        self.t3 = TransBlock(inc=squeeze_channels[6],outc=squeeze_channels[3],p=0)\n",
    "        \n",
    "        self.gap = nn.AdaptiveAvgPool2d(output_size=1)\n",
    "        self.out = nn.Sequential(TransBlock(inc=squeeze_channels[3],outc=10,p=0))\n",
    "        \n",
    "    def forward(self,x):\n",
    "        x = self.c1(x)\n",
    "        x = x + self.c2(x)\n",
    "        x = x + self.c3(x)\n",
    "        x = self.c4(x)\n",
    "        x = self.t1(x)\n",
    "\n",
    "        x = self.d1(x)\n",
    "        x = x + self.c5(x)\n",
    "        x = x + self.d2(x)\n",
    "        x = x + self.c6(x)\n",
    "        x = self.c7(x)\n",
    "        x = self.t2(x)\n",
    "\n",
    "        x = self.d3(x)\n",
    "        x = x + self.c8(x)\n",
    "        x = x + self.d4(x)\n",
    "        x = x + self.c9(x)\n",
    "        x = self.c10(x)\n",
    "        x = self.t3(x)\n",
    "        \n",
    "        x = self.gap(x)\n",
    "        x = self.out(x)        \n",
    "        return F.log_softmax(x.view(-1,10), dim=1)"
   ]
  },
  {
   "cell_type": "code",
   "execution_count": 25,
   "id": "aef27cc8-cb49-4b1c-ade6-4cadc475a530",
   "metadata": {
    "scrolled": true
   },
   "outputs": [
    {
     "data": {
      "text/plain": [
       "==========================================================================================\n",
       "Layer (type:depth-idx)                   Output Shape              Param #\n",
       "==========================================================================================\n",
       "Network2                                 [1, 10]                   --\n",
       "├─ConvLayer: 1-1                         [1, 24, 32, 32]           --\n",
       "│    └─Sequential: 2-1                   [1, 24, 32, 32]           --\n",
       "│    │    └─Conv2d: 3-1                  [1, 24, 32, 32]           648\n",
       "│    │    └─BatchNorm2d: 3-2             [1, 24, 32, 32]           48\n",
       "│    │    └─ReLU: 3-3                    [1, 24, 32, 32]           --\n",
       "│    │    └─Dropout2d: 3-4               [1, 24, 32, 32]           --\n",
       "├─ConvLayer: 1-2                         [1, 24, 32, 32]           --\n",
       "│    └─Sequential: 2-2                   [1, 24, 32, 32]           --\n",
       "│    │    └─Conv2d: 3-5                  [1, 24, 32, 32]           5,184\n",
       "│    │    └─BatchNorm2d: 3-6             [1, 24, 32, 32]           48\n",
       "│    │    └─ReLU: 3-7                    [1, 24, 32, 32]           --\n",
       "│    │    └─Dropout2d: 3-8               [1, 24, 32, 32]           --\n",
       "├─ConvLayer: 1-3                         [1, 24, 32, 32]           --\n",
       "│    └─Sequential: 2-3                   [1, 24, 32, 32]           --\n",
       "│    │    └─Conv2d: 3-9                  [1, 24, 32, 32]           5,184\n",
       "│    │    └─BatchNorm2d: 3-10            [1, 24, 32, 32]           48\n",
       "│    │    └─ReLU: 3-11                   [1, 24, 32, 32]           --\n",
       "│    │    └─Dropout2d: 3-12              [1, 24, 32, 32]           --\n",
       "├─ConvLayer: 1-4                         [1, 24, 30, 30]           --\n",
       "│    └─Sequential: 2-4                   [1, 24, 30, 30]           --\n",
       "│    │    └─Conv2d: 3-13                 [1, 24, 30, 30]           5,184\n",
       "│    │    └─BatchNorm2d: 3-14            [1, 24, 30, 30]           48\n",
       "│    │    └─ReLU: 3-15                   [1, 24, 30, 30]           --\n",
       "│    │    └─Dropout2d: 3-16              [1, 24, 30, 30]           --\n",
       "├─TransBlock: 1-5                        [1, 16, 30, 30]           --\n",
       "│    └─Sequential: 2-5                   [1, 16, 30, 30]           --\n",
       "│    │    └─Conv2d: 3-17                 [1, 16, 30, 30]           384\n",
       "├─DepthwiseConvLayer: 1-6                [1, 34, 30, 30]           --\n",
       "│    └─Sequential: 2-6                   [1, 34, 30, 30]           --\n",
       "│    │    └─Conv2d: 3-18                 [1, 16, 28, 28]           144\n",
       "│    │    └─Conv2d: 3-19                 [1, 34, 30, 30]           544\n",
       "│    │    └─ReLU: 3-20                   [1, 34, 30, 30]           --\n",
       "│    │    └─BatchNorm2d: 3-21            [1, 34, 30, 30]           68\n",
       "│    │    └─Dropout2d: 3-22              [1, 34, 30, 30]           --\n",
       "├─ConvLayer: 1-7                         [1, 34, 30, 30]           --\n",
       "│    └─Sequential: 2-7                   [1, 34, 30, 30]           --\n",
       "│    │    └─Conv2d: 3-23                 [1, 34, 30, 30]           10,404\n",
       "│    │    └─BatchNorm2d: 3-24            [1, 34, 30, 30]           68\n",
       "│    │    └─ReLU: 3-25                   [1, 34, 30, 30]           --\n",
       "│    │    └─Dropout2d: 3-26              [1, 34, 30, 30]           --\n",
       "├─DepthwiseConvLayer: 1-8                [1, 34, 30, 30]           --\n",
       "│    └─Sequential: 2-8                   [1, 34, 30, 30]           --\n",
       "│    │    └─Conv2d: 3-27                 [1, 34, 28, 28]           306\n",
       "│    │    └─Conv2d: 3-28                 [1, 34, 30, 30]           1,156\n",
       "│    │    └─ReLU: 3-29                   [1, 34, 30, 30]           --\n",
       "│    │    └─BatchNorm2d: 3-30            [1, 34, 30, 30]           68\n",
       "│    │    └─Dropout2d: 3-31              [1, 34, 30, 30]           --\n",
       "├─ConvLayer: 1-9                         [1, 34, 30, 30]           --\n",
       "│    └─Sequential: 2-9                   [1, 34, 30, 30]           --\n",
       "│    │    └─Conv2d: 3-32                 [1, 34, 30, 30]           10,404\n",
       "│    │    └─BatchNorm2d: 3-33            [1, 34, 30, 30]           68\n",
       "│    │    └─ReLU: 3-34                   [1, 34, 30, 30]           --\n",
       "│    │    └─Dropout2d: 3-35              [1, 34, 30, 30]           --\n",
       "├─ConvLayer: 1-10                        [1, 34, 22, 22]           --\n",
       "│    └─Sequential: 2-10                  [1, 34, 22, 22]           --\n",
       "│    │    └─Conv2d: 3-36                 [1, 34, 22, 22]           10,404\n",
       "│    │    └─BatchNorm2d: 3-37            [1, 34, 22, 22]           68\n",
       "│    │    └─ReLU: 3-38                   [1, 34, 22, 22]           --\n",
       "│    │    └─Dropout2d: 3-39              [1, 34, 22, 22]           --\n",
       "├─TransBlock: 1-11                       [1, 30, 22, 22]           --\n",
       "│    └─Sequential: 2-11                  [1, 30, 22, 22]           --\n",
       "│    │    └─Conv2d: 3-40                 [1, 30, 22, 22]           1,020\n",
       "├─DepthwiseConvLayer: 1-12               [1, 44, 22, 22]           --\n",
       "│    └─Sequential: 2-12                  [1, 44, 22, 22]           --\n",
       "│    │    └─Conv2d: 3-41                 [1, 30, 20, 20]           270\n",
       "│    │    └─Conv2d: 3-42                 [1, 44, 22, 22]           1,320\n",
       "│    │    └─ReLU: 3-43                   [1, 44, 22, 22]           --\n",
       "│    │    └─BatchNorm2d: 3-44            [1, 44, 22, 22]           88\n",
       "│    │    └─Dropout2d: 3-45              [1, 44, 22, 22]           --\n",
       "├─ConvLayer: 1-13                        [1, 44, 22, 22]           --\n",
       "│    └─Sequential: 2-13                  [1, 44, 22, 22]           --\n",
       "│    │    └─Conv2d: 3-46                 [1, 44, 22, 22]           17,424\n",
       "│    │    └─BatchNorm2d: 3-47            [1, 44, 22, 22]           88\n",
       "│    │    └─ReLU: 3-48                   [1, 44, 22, 22]           --\n",
       "│    │    └─Dropout2d: 3-49              [1, 44, 22, 22]           --\n",
       "├─DepthwiseConvLayer: 1-14               [1, 44, 22, 22]           --\n",
       "│    └─Sequential: 2-14                  [1, 44, 22, 22]           --\n",
       "│    │    └─Conv2d: 3-50                 [1, 44, 20, 20]           396\n",
       "│    │    └─Conv2d: 3-51                 [1, 44, 22, 22]           1,936\n",
       "│    │    └─ReLU: 3-52                   [1, 44, 22, 22]           --\n",
       "│    │    └─BatchNorm2d: 3-53            [1, 44, 22, 22]           88\n",
       "│    │    └─Dropout2d: 3-54              [1, 44, 22, 22]           --\n",
       "├─ConvLayer: 1-15                        [1, 44, 22, 22]           --\n",
       "│    └─Sequential: 2-15                  [1, 44, 22, 22]           --\n",
       "│    │    └─Conv2d: 3-55                 [1, 44, 22, 22]           17,424\n",
       "│    │    └─BatchNorm2d: 3-56            [1, 44, 22, 22]           88\n",
       "│    │    └─ReLU: 3-57                   [1, 44, 22, 22]           --\n",
       "│    │    └─Dropout2d: 3-58              [1, 44, 22, 22]           --\n",
       "├─ConvLayer: 1-16                        [1, 50, 6, 6]             --\n",
       "│    └─Sequential: 2-16                  [1, 50, 6, 6]             --\n",
       "│    │    └─Conv2d: 3-59                 [1, 50, 6, 6]             19,800\n",
       "│    │    └─BatchNorm2d: 3-60            [1, 50, 6, 6]             100\n",
       "│    │    └─ReLU: 3-61                   [1, 50, 6, 6]             --\n",
       "│    │    └─Dropout2d: 3-62              [1, 50, 6, 6]             --\n",
       "├─TransBlock: 1-17                       [1, 30, 6, 6]             --\n",
       "│    └─Sequential: 2-17                  [1, 30, 6, 6]             --\n",
       "│    │    └─Conv2d: 3-63                 [1, 30, 6, 6]             1,500\n",
       "├─AdaptiveAvgPool2d: 1-18                [1, 30, 1, 1]             --\n",
       "├─Sequential: 1-19                       [1, 10, 1, 1]             --\n",
       "│    └─TransBlock: 2-18                  [1, 10, 1, 1]             --\n",
       "│    │    └─Sequential: 3-64             [1, 10, 1, 1]             300\n",
       "==========================================================================================\n",
       "Total params: 112,320\n",
       "Trainable params: 112,320\n",
       "Non-trainable params: 0\n",
       "Total mult-adds (Units.MEGABYTES): 61.91\n",
       "==========================================================================================\n",
       "Input size (MB): 0.01\n",
       "Forward/backward pass size (MB): 5.93\n",
       "Params size (MB): 0.45\n",
       "Estimated Total Size (MB): 6.39\n",
       "=========================================================================================="
      ]
     },
     "execution_count": 25,
     "metadata": {},
     "output_type": "execute_result"
    }
   ],
   "source": [
    "m2 = Network2(squeeze_channels=[3,16,24,30,34,44,50],dp=0.15)\n",
    "summary(m2,input_size=(1,3,32,32))"
   ]
  },
  {
   "cell_type": "code",
   "execution_count": 27,
   "id": "50f593ec-4934-4e9d-92d9-a9a4bfc83f7e",
   "metadata": {
    "scrolled": true
   },
   "outputs": [
    {
     "name": "stderr",
     "output_type": "stream",
     "text": [
      "EPOCH = 1 | LR = 0.1 | Loss = 1.85 | Batch = 97 | Accuracy = 25.88: 100%|████████████████████████████████████████████████████████████████| 98/98 [00:41<00:00,  2.38it/s]\n"
     ]
    },
    {
     "name": "stdout",
     "output_type": "stream",
     "text": [
      "Test set: Average loss: 0.0033, Accuracy: 3864/10000 (38.64%)\n"
     ]
    },
    {
     "name": "stderr",
     "output_type": "stream",
     "text": [
      "EPOCH = 2 | LR = 0.1 | Loss = 1.72 | Batch = 97 | Accuracy = 35.85: 100%|████████████████████████████████████████████████████████████████| 98/98 [00:40<00:00,  2.40it/s]\n"
     ]
    },
    {
     "name": "stdout",
     "output_type": "stream",
     "text": [
      "Test set: Average loss: 0.0030, Accuracy: 4445/10000 (44.45%)\n"
     ]
    },
    {
     "name": "stderr",
     "output_type": "stream",
     "text": [
      "EPOCH = 3 | LR = 0.1 | Loss = 1.76 | Batch = 97 | Accuracy = 39.38: 100%|████████████████████████████████████████████████████████████████| 98/98 [00:40<00:00,  2.40it/s]\n"
     ]
    },
    {
     "name": "stdout",
     "output_type": "stream",
     "text": [
      "Test set: Average loss: 0.0029, Accuracy: 4702/10000 (47.02%)\n"
     ]
    },
    {
     "name": "stderr",
     "output_type": "stream",
     "text": [
      "EPOCH = 4 | LR = 0.1 | Loss = 1.52 | Batch = 97 | Accuracy = 41.52: 100%|████████████████████████████████████████████████████████████████| 98/98 [00:40<00:00,  2.43it/s]\n"
     ]
    },
    {
     "name": "stdout",
     "output_type": "stream",
     "text": [
      "Test set: Average loss: 0.0027, Accuracy: 5016/10000 (50.16%)\n"
     ]
    },
    {
     "name": "stderr",
     "output_type": "stream",
     "text": [
      "EPOCH = 5 | LR = 0.1 | Loss = 1.51 | Batch = 97 | Accuracy = 43.45: 100%|████████████████████████████████████████████████████████████████| 98/98 [00:40<00:00,  2.41it/s]\n"
     ]
    },
    {
     "name": "stdout",
     "output_type": "stream",
     "text": [
      "Test set: Average loss: 0.0026, Accuracy: 5206/10000 (52.06%)\n"
     ]
    },
    {
     "name": "stderr",
     "output_type": "stream",
     "text": [
      "EPOCH = 6 | LR = 0.1 | Loss = 1.50 | Batch = 97 | Accuracy = 45.02: 100%|████████████████████████████████████████████████████████████████| 98/98 [00:40<00:00,  2.39it/s]\n"
     ]
    },
    {
     "name": "stdout",
     "output_type": "stream",
     "text": [
      "Test set: Average loss: 0.0025, Accuracy: 5374/10000 (53.74%)\n"
     ]
    },
    {
     "name": "stderr",
     "output_type": "stream",
     "text": [
      "EPOCH = 7 | LR = 0.1 | Loss = 1.45 | Batch = 97 | Accuracy = 46.56: 100%|████████████████████████████████████████████████████████████████| 98/98 [00:40<00:00,  2.39it/s]\n"
     ]
    },
    {
     "name": "stdout",
     "output_type": "stream",
     "text": [
      "Test set: Average loss: 0.0024, Accuracy: 5521/10000 (55.21%)\n"
     ]
    },
    {
     "name": "stderr",
     "output_type": "stream",
     "text": [
      "EPOCH = 8 | LR = 0.1 | Loss = 1.49 | Batch = 97 | Accuracy = 47.63: 100%|████████████████████████████████████████████████████████████████| 98/98 [00:42<00:00,  2.33it/s]\n"
     ]
    },
    {
     "name": "stdout",
     "output_type": "stream",
     "text": [
      "Test set: Average loss: 0.0024, Accuracy: 5614/10000 (56.14%)\n"
     ]
    },
    {
     "name": "stderr",
     "output_type": "stream",
     "text": [
      "EPOCH = 9 | LR = 0.1 | Loss = 1.42 | Batch = 97 | Accuracy = 48.61: 100%|████████████████████████████████████████████████████████████████| 98/98 [00:41<00:00,  2.36it/s]\n"
     ]
    },
    {
     "name": "stdout",
     "output_type": "stream",
     "text": [
      "Test set: Average loss: 0.0023, Accuracy: 5781/10000 (57.81%)\n"
     ]
    },
    {
     "name": "stderr",
     "output_type": "stream",
     "text": [
      "  0%|                                                                                                                                             | 0/98 [00:20<?, ?it/s]\n",
      "\n",
      "KeyboardInterrupt\n",
      "\n"
     ]
    }
   ],
   "source": [
    "# prev_test_loss = float('inf')\n",
    "\n",
    "optimizer = optim.SGD(params=m2.parameters(), lr=0.1, momentum=0.9)\n",
    "scheduler = optim.lr_scheduler.ReduceLROnPlateau(optimizer=optimizer,mode='min',factor=0.1,patience=3,verbose=True)\n",
    "criterion = nn.NLLLoss()\n",
    "trainer = Trainer(model=m2, train_loader=atrain_loader, optimizer=optimizer, criterion=criterion, device=device)\n",
    "tester = Tester(model=m2, test_loader=atest_loader,criterion=criterion, device=device)\n",
    "\n",
    "for epoch in range(1, 51):\n",
    "    trainer.train(epoch=epoch)\n",
    "    _,test_loss = tester.test()\n",
    "    # if prev_test_loss>test_loss:\n",
    "    #     torch.save(obj=model.state_dict(),f='./bmodels/model.pth')\n",
    "    scheduler.step(test_loss)"
   ]
  },
  {
   "cell_type": "code",
   "execution_count": null,
   "id": "ef91bc93-1e02-43f8-af54-caccdaa44970",
   "metadata": {},
   "outputs": [],
   "source": []
  },
  {
   "cell_type": "code",
   "execution_count": 7,
   "id": "ac33fa1c-ce8e-451c-9384-dbf36dc30405",
   "metadata": {},
   "outputs": [],
   "source": [
    "# backup best model\n",
    "\n",
    "class Network(nn.Module):\n",
    "    def __init__(self,dp=0.1):\n",
    "        super(Network,self).__init__()\n",
    "        self.dp = dp\n",
    "        self.c1 = ConvLayer(inc=3, outc=16,k=3,p=1,s=1,d=1,dp_rate=self.dp)\n",
    "        self.c2 = ConvLayer(inc=16,outc=16,k=3,p=1,s=1,d=1,dp_rate=self.dp) \n",
    "        self.c3 = ConvLayer(inc=16,outc=16,k=3,p=1,s=1,d=2,dp_rate=self.dp)\n",
    "        self.t1 = TransBlock(inc=16,outc=8,p=0)\n",
    "\n",
    "        self.c4 = ConvLayer(inc=8,outc=32,k=3,p=1,s=1,d=1,dp_rate=self.dp)\n",
    "        self.c5 = ConvLayer(inc=32,outc=32,k=3,p=1,s=1,d=1,dp_rate=self.dp)\n",
    "        self.c6 = ConvLayer(inc=32,outc=32,k=3,p=0,s=1,d=4,dp_rate=self.dp)\n",
    "        self.t2 = TransBlock(inc=32,outc=24,p=0)\n",
    "\n",
    "        self.c7 = ConvLayer(inc=24,outc=40,k=3,p=1,s=1,d=1,dp_rate=self.dp)\n",
    "        self.c8 = ConvLayer(inc=40,outc=40,k=3,p=1,s=1,d=1,dp_rate=self.dp)\n",
    "        self.c9 = ConvLayer(inc=40,outc=40,k=3,p=0,s=1,d=8,dp_rate=self.dp)\n",
    "        self.t3 = TransBlock(inc=40,outc=32,p=0)\n",
    "        \n",
    "        self.gap = nn.AdaptiveAvgPool2d(output_size=1)\n",
    "        self.out = nn.Sequential(TransBlock(inc=32,outc=10,p=0))\n",
    "        \n",
    "    def forward(self,x):\n",
    "        x = self.c1(x)\n",
    "        x = x + self.c2(x)\n",
    "        x = self.c3(x)\n",
    "        x = self.t1(x)\n",
    "        \n",
    "        x = self.c4(x)\n",
    "        x = x + self.c5(x)\n",
    "        x = self.c6(x)\n",
    "        x = self.t2(x)\n",
    "        \n",
    "        x = self.c7(x)\n",
    "        x = x + self.c8(x)\n",
    "        x = self.c9(x)\n",
    "        x = self.t3(x)\n",
    "        \n",
    "        x = self.gap(x)\n",
    "        x = self.out(x)        \n",
    "        return F.log_softmax(x.view(-1,10), dim=1)"
   ]
  },
  {
   "cell_type": "code",
   "execution_count": null,
   "id": "98503726-b8f3-43c3-9b81-4a13f7f220e3",
   "metadata": {},
   "outputs": [],
   "source": []
  }
 ],
 "metadata": {
  "kernelspec": {
   "display_name": "Python 3 (ipykernel)",
   "language": "python",
   "name": "python3"
  },
  "language_info": {
   "codemirror_mode": {
    "name": "ipython",
    "version": 3
   },
   "file_extension": ".py",
   "mimetype": "text/x-python",
   "name": "python",
   "nbconvert_exporter": "python",
   "pygments_lexer": "ipython3",
   "version": "3.11.4"
  }
 },
 "nbformat": 4,
 "nbformat_minor": 5
}
