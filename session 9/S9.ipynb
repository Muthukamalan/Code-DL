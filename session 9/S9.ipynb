{
 "cells": [
  {
   "cell_type": "code",
   "execution_count": 1,
   "id": "8bf359bd-67be-484d-a08a-3be9469f841d",
   "metadata": {
    "scrolled": true
   },
   "outputs": [
    {
     "name": "stdout",
     "output_type": "stream",
     "text": [
      "Tue Oct 10 01:19:27 2023       \n",
      "+---------------------------------------------------------------------------------------+\n",
      "| NVIDIA-SMI 536.67                 Driver Version: 536.67       CUDA Version: 12.2     |\n",
      "|-----------------------------------------+----------------------+----------------------+\n",
      "| GPU  Name                     TCC/WDDM  | Bus-Id        Disp.A | Volatile Uncorr. ECC |\n",
      "| Fan  Temp   Perf          Pwr:Usage/Cap |         Memory-Usage | GPU-Util  Compute M. |\n",
      "|                                         |                      |               MIG M. |\n",
      "|=========================================+======================+======================|\n",
      "|   0  NVIDIA GeForce RTX 4050 ...  WDDM  | 00000000:01:00.0 Off |                  N/A |\n",
      "| N/A   47C    P4              39W / 131W |   2668MiB /  6141MiB |    100%      Default |\n",
      "|                                         |                      |                  N/A |\n",
      "+-----------------------------------------+----------------------+----------------------+\n",
      "                                                                                         \n",
      "+---------------------------------------------------------------------------------------+\n",
      "| Processes:                                                                            |\n",
      "|  GPU   GI   CI        PID   Type   Process name                            GPU Memory |\n",
      "|        ID   ID                                                             Usage      |\n",
      "|=======================================================================================|\n",
      "|    0   N/A  N/A     12168      C   ...miniconda3\\envs\\torchenv\\python.exe    N/A      |\n",
      "+---------------------------------------------------------------------------------------+\n"
     ]
    }
   ],
   "source": [
    "!nvidia-smi"
   ]
  },
  {
   "cell_type": "code",
   "execution_count": 2,
   "id": "9f452fae-095c-4719-890d-a788e5b7cc1d",
   "metadata": {},
   "outputs": [],
   "source": [
    "import numpy as np\n",
    "from torch import nn\n",
    "from torch.nn import functional as F\n",
    "import torch\n",
    "from torch import optim\n",
    "from torchvision import datasets,transforms\n",
    "from torchinfo import summary"
   ]
  },
  {
   "cell_type": "code",
   "execution_count": 3,
   "id": "2581a8e6-8ea8-4523-9d9e-48cf434bb462",
   "metadata": {},
   "outputs": [],
   "source": [
    "from transformations import train_transforms,test_transforms"
   ]
  },
  {
   "cell_type": "code",
   "execution_count": 4,
   "id": "1178d989-481f-4c92-9274-2247bcf8a605",
   "metadata": {},
   "outputs": [],
   "source": [
    "from trainer import Trainer\n",
    "from tester import Tester\n",
    "from utlis import visualize_data,show_misclassified_images,device,is_cuda\n",
    "from viz import plot_class_distribution, plot_confusion_matrix, plot_curves\n",
    "from dataloader import CIFAR10Dataset,CIFAR10DataLoader\n",
    "from models import ConvLayer,TransBlock,DepthwiseConvLayer"
   ]
  },
  {
   "cell_type": "code",
   "execution_count": 5,
   "id": "bc4971c5-f3aa-4603-bea9-19b1e8eacb5d",
   "metadata": {},
   "outputs": [],
   "source": [
    "# ALbumentation\n",
    "train_dataset = CIFAR10Dataset(root='../data/',train=True,Atransforms=train_transforms,download=False)\n",
    "test_dataset  = CIFAR10Dataset(root='../data/',train=False,Atransforms=test_transforms,download=False)\n",
    "\n",
    "cifar = CIFAR10DataLoader()\n",
    "train_loader,test_loader = cifar.get_loader(train_dataset,test_dataset)"
   ]
  },
  {
   "cell_type": "code",
   "execution_count": 6,
   "id": "bd83658e-2e12-4704-934e-443b9139a5e7",
   "metadata": {},
   "outputs": [],
   "source": [
    "cifar = CIFAR10DataLoader()\n",
    "simple_train_loader , simple_test_loader = cifar.get_loader(\n",
    "    CIFAR10Dataset(root='../data/',train=True,Atransforms=test_transforms,download=False),\n",
    "    CIFAR10Dataset(root='../data/',train=False,Atransforms=test_transforms,download=False)\n",
    ")"
   ]
  },
  {
   "cell_type": "code",
   "execution_count": null,
   "id": "2b456835-5acc-44dc-a29e-b4a11caaf73f",
   "metadata": {},
   "outputs": [],
   "source": []
  },
  {
   "cell_type": "markdown",
   "id": "839b01e8-4526-4df9-8c4e-c0a9c23e9edc",
   "metadata": {},
   "source": [
    "# Model\n",
    "\n",
    "**Objective**\n",
    "- squeeze expand structure from last session\n",
    "- rf 44<\n",
    "- not care about 200k\n",
    "- 50 epoch\n",
    "- no augmentation \n",
    "**Results**"
   ]
  },
  {
   "cell_type": "code",
   "execution_count": 7,
   "id": "8931ebf2-bef6-49e8-9000-0a9d38df8c22",
   "metadata": {},
   "outputs": [],
   "source": [
    "# We used this Squeeze-Expand Network before\n",
    "class Net1(nn.Module):\n",
    "    def __init__(self):\n",
    "        super(Net1,self).__init__()\n",
    "        self.dp_rate = 0.2\n",
    "\n",
    "        self.conv1 = nn.Sequential(\n",
    "            ConvLayer(inc=3,outc=8,k=3,s=1,p=1,d=1,dp_rate=self.dp_rate),\n",
    "            ConvLayer(inc=8,outc=24,k=3,s=1,p=1,d=1,dp_rate=self.dp_rate),\n",
    "            ConvLayer(inc=24,outc=32,k=3,s=1,p=1,d=1,dp_rate=self.dp_rate),\n",
    "        )\n",
    "        self.trans1 = TransBlock(32,24)\n",
    "        self.conv2 = nn.Sequential(\n",
    "            ConvLayer(inc=24,outc=32,k=3,s=1,p=1,d=1,dp_rate=self.dp_rate),\n",
    "            ConvLayer(inc=32,outc=32,k=3,s=1,p=1,d=1,dp_rate=self.dp_rate),\n",
    "            ConvLayer(inc=32,outc=64,k=3,s=1,p=1,d=1,dp_rate=self.dp_rate),\n",
    "        )\n",
    "        self.trans2 = TransBlock(64,32)\n",
    "        self.conv3 = nn.Sequential(\n",
    "            ConvLayer(inc=32,outc=64,k=3,s=1,p=1,d=1,dp_rate=self.dp_rate),\n",
    "            ConvLayer(inc=64,outc=64,k=3,s=1,p=1,d=1,dp_rate=self.dp_rate),\n",
    "            ConvLayer(inc=64,outc=128,k=3,s=1,p=1,d=1,dp_rate=self.dp_rate),\n",
    "        )\n",
    "        self.trans3 = TransBlock(128,64)\n",
    "        self.conv4 = nn.Sequential(\n",
    "            nn.Conv2d(in_channels=64,out_channels=128,kernel_size=1,bias=False,)\n",
    "        )\n",
    "        self.gap = nn.AdaptiveAvgPool2d(output_size=1)\n",
    "        self.out = nn.Conv2d(128,10,kernel_size=1,bias=False)\n",
    "    def forward(self,x):\n",
    "        x = self.conv1(x)\n",
    "        x = self.trans1(x)\n",
    "        x = self.conv2(x)\n",
    "        x = self.trans2(x)\n",
    "        x = self.conv3(x)\n",
    "        x = self.trans3(x)\n",
    "        x = self.conv4(x)\n",
    "        x = self.gap(x)\n",
    "        x = self.out(x)\n",
    "        return F.log_softmax(x.view(-1,10), dim=1)"
   ]
  },
  {
   "cell_type": "code",
   "execution_count": 8,
   "id": "865710fe-1bd2-4ea3-a9ff-c6b1c3541cbf",
   "metadata": {
    "scrolled": true
   },
   "outputs": [],
   "source": [
    "simple_model = Net1().to(device)\n",
    "# summary(simple_model,(3,32,32))"
   ]
  },
  {
   "cell_type": "code",
   "execution_count": 9,
   "id": "b07b0465-5fd6-458f-805f-67c3ee0f0f38",
   "metadata": {
    "scrolled": true
   },
   "outputs": [
    {
     "name": "stderr",
     "output_type": "stream",
     "text": [
      "EPOCH = 1 | LR = 0.2 | Loss = 1.78 | Batch = 390 | Accuracy = 23.46: 100%|█████████████████████████████████████████████████████████████| 391/391 [00:25<00:00, 15.46it/s]\n"
     ]
    },
    {
     "name": "stdout",
     "output_type": "stream",
     "text": [
      "Test set: Average loss: 0.0146, Accuracy: 2935/10000 (29.35%)\n"
     ]
    },
    {
     "name": "stderr",
     "output_type": "stream",
     "text": [
      "EPOCH = 2 | LR = 0.2 | Loss = 1.78 | Batch = 390 | Accuracy = 32.42: 100%|█████████████████████████████████████████████████████████████| 391/391 [00:15<00:00, 25.20it/s]\n"
     ]
    },
    {
     "name": "stdout",
     "output_type": "stream",
     "text": [
      "Test set: Average loss: 0.0128, Accuracy: 4031/10000 (40.31%)\n"
     ]
    },
    {
     "name": "stderr",
     "output_type": "stream",
     "text": [
      "EPOCH = 3 | LR = 0.2 | Loss = 1.53 | Batch = 390 | Accuracy = 36.77: 100%|█████████████████████████████████████████████████████████████| 391/391 [00:15<00:00, 25.71it/s]\n"
     ]
    },
    {
     "name": "stdout",
     "output_type": "stream",
     "text": [
      "Test set: Average loss: 0.0126, Accuracy: 4155/10000 (41.55%)\n"
     ]
    },
    {
     "name": "stderr",
     "output_type": "stream",
     "text": [
      "EPOCH = 4 | LR = 0.2 | Loss = 1.53 | Batch = 390 | Accuracy = 39.64: 100%|█████████████████████████████████████████████████████████████| 391/391 [00:15<00:00, 25.33it/s]\n"
     ]
    },
    {
     "name": "stdout",
     "output_type": "stream",
     "text": [
      "Test set: Average loss: 0.0118, Accuracy: 4471/10000 (44.71%)\n"
     ]
    },
    {
     "name": "stderr",
     "output_type": "stream",
     "text": [
      "EPOCH = 5 | LR = 0.2 | Loss = 1.66 | Batch = 390 | Accuracy = 42.05: 100%|█████████████████████████████████████████████████████████████| 391/391 [00:15<00:00, 25.55it/s]\n"
     ]
    },
    {
     "name": "stdout",
     "output_type": "stream",
     "text": [
      "Test set: Average loss: 0.0119, Accuracy: 4517/10000 (45.17%)\n"
     ]
    },
    {
     "name": "stderr",
     "output_type": "stream",
     "text": [
      "EPOCH = 6 | LR = 0.2 | Loss = 1.42 | Batch = 390 | Accuracy = 44.94: 100%|█████████████████████████████████████████████████████████████| 391/391 [00:14<00:00, 26.10it/s]\n"
     ]
    },
    {
     "name": "stdout",
     "output_type": "stream",
     "text": [
      "Test set: Average loss: 0.0106, Accuracy: 5104/10000 (51.04%)\n"
     ]
    },
    {
     "name": "stderr",
     "output_type": "stream",
     "text": [
      "EPOCH = 7 | LR = 0.2 | Loss = 1.57 | Batch = 390 | Accuracy = 46.50: 100%|█████████████████████████████████████████████████████████████| 391/391 [00:15<00:00, 25.82it/s]\n"
     ]
    },
    {
     "name": "stdout",
     "output_type": "stream",
     "text": [
      "Test set: Average loss: 0.0107, Accuracy: 5080/10000 (50.80%)\n"
     ]
    },
    {
     "name": "stderr",
     "output_type": "stream",
     "text": [
      "EPOCH = 8 | LR = 0.2 | Loss = 1.35 | Batch = 390 | Accuracy = 49.47: 100%|█████████████████████████████████████████████████████████████| 391/391 [00:15<00:00, 25.39it/s]\n"
     ]
    },
    {
     "name": "stdout",
     "output_type": "stream",
     "text": [
      "Test set: Average loss: 0.0097, Accuracy: 5672/10000 (56.72%)\n"
     ]
    },
    {
     "name": "stderr",
     "output_type": "stream",
     "text": [
      "EPOCH = 9 | LR = 0.2 | Loss = 1.14 | Batch = 390 | Accuracy = 50.94: 100%|█████████████████████████████████████████████████████████████| 391/391 [00:15<00:00, 25.14it/s]\n"
     ]
    },
    {
     "name": "stdout",
     "output_type": "stream",
     "text": [
      "Test set: Average loss: 0.0092, Accuracy: 5746/10000 (57.46%)\n"
     ]
    },
    {
     "name": "stderr",
     "output_type": "stream",
     "text": [
      "EPOCH = 10 | LR = 0.2 | Loss = 1.33 | Batch = 390 | Accuracy = 53.62: 100%|████████████████████████████████████████████████████████████| 391/391 [00:16<00:00, 24.34it/s]\n"
     ]
    },
    {
     "name": "stdout",
     "output_type": "stream",
     "text": [
      "Test set: Average loss: 0.0088, Accuracy: 6095/10000 (60.95%)\n"
     ]
    },
    {
     "name": "stderr",
     "output_type": "stream",
     "text": [
      "EPOCH = 11 | LR = 0.2 | Loss = 1.01 | Batch = 390 | Accuracy = 55.22: 100%|████████████████████████████████████████████████████████████| 391/391 [00:15<00:00, 25.28it/s]\n"
     ]
    },
    {
     "name": "stdout",
     "output_type": "stream",
     "text": [
      "Test set: Average loss: 0.0091, Accuracy: 5949/10000 (59.49%)\n"
     ]
    },
    {
     "name": "stderr",
     "output_type": "stream",
     "text": [
      "EPOCH = 12 | LR = 0.2 | Loss = 1.11 | Batch = 390 | Accuracy = 56.27: 100%|████████████████████████████████████████████████████████████| 391/391 [00:15<00:00, 25.86it/s]\n"
     ]
    },
    {
     "name": "stdout",
     "output_type": "stream",
     "text": [
      "Test set: Average loss: 0.0085, Accuracy: 6200/10000 (62.00%)\n"
     ]
    },
    {
     "name": "stderr",
     "output_type": "stream",
     "text": [
      "EPOCH = 13 | LR = 0.2 | Loss = 1.21 | Batch = 390 | Accuracy = 57.70: 100%|████████████████████████████████████████████████████████████| 391/391 [00:15<00:00, 25.91it/s]\n"
     ]
    },
    {
     "name": "stdout",
     "output_type": "stream",
     "text": [
      "Test set: Average loss: 0.0081, Accuracy: 6447/10000 (64.47%)\n"
     ]
    },
    {
     "name": "stderr",
     "output_type": "stream",
     "text": [
      "EPOCH = 14 | LR = 0.2 | Loss = 1.13 | Batch = 390 | Accuracy = 59.00: 100%|████████████████████████████████████████████████████████████| 391/391 [00:15<00:00, 25.74it/s]\n"
     ]
    },
    {
     "name": "stdout",
     "output_type": "stream",
     "text": [
      "Test set: Average loss: 0.0081, Accuracy: 6366/10000 (63.66%)\n"
     ]
    },
    {
     "name": "stderr",
     "output_type": "stream",
     "text": [
      "EPOCH = 15 | LR = 0.2 | Loss = 0.90 | Batch = 390 | Accuracy = 60.34: 100%|████████████████████████████████████████████████████████████| 391/391 [00:15<00:00, 25.00it/s]\n"
     ]
    },
    {
     "name": "stdout",
     "output_type": "stream",
     "text": [
      "Test set: Average loss: 0.0078, Accuracy: 6581/10000 (65.81%)\n"
     ]
    },
    {
     "name": "stderr",
     "output_type": "stream",
     "text": [
      "EPOCH = 16 | LR = 0.2 | Loss = 1.37 | Batch = 390 | Accuracy = 60.80: 100%|████████████████████████████████████████████████████████████| 391/391 [00:15<00:00, 25.28it/s]\n"
     ]
    },
    {
     "name": "stdout",
     "output_type": "stream",
     "text": [
      "Test set: Average loss: 0.0081, Accuracy: 6465/10000 (64.65%)\n"
     ]
    },
    {
     "name": "stderr",
     "output_type": "stream",
     "text": [
      "EPOCH = 17 | LR = 0.2 | Loss = 1.18 | Batch = 390 | Accuracy = 61.84: 100%|████████████████████████████████████████████████████████████| 391/391 [00:14<00:00, 26.85it/s]\n"
     ]
    },
    {
     "name": "stdout",
     "output_type": "stream",
     "text": [
      "Test set: Average loss: 0.0080, Accuracy: 6426/10000 (64.26%)\n"
     ]
    },
    {
     "name": "stderr",
     "output_type": "stream",
     "text": [
      "EPOCH = 18 | LR = 0.2 | Loss = 1.02 | Batch = 390 | Accuracy = 62.47: 100%|████████████████████████████████████████████████████████████| 391/391 [00:14<00:00, 26.40it/s]\n"
     ]
    },
    {
     "name": "stdout",
     "output_type": "stream",
     "text": [
      "Test set: Average loss: 0.0075, Accuracy: 6670/10000 (66.70%)\n"
     ]
    },
    {
     "name": "stderr",
     "output_type": "stream",
     "text": [
      "EPOCH = 19 | LR = 0.2 | Loss = 0.81 | Batch = 390 | Accuracy = 63.42: 100%|████████████████████████████████████████████████████████████| 391/391 [00:15<00:00, 24.91it/s]\n"
     ]
    },
    {
     "name": "stdout",
     "output_type": "stream",
     "text": [
      "Test set: Average loss: 0.0073, Accuracy: 6768/10000 (67.68%)\n"
     ]
    },
    {
     "name": "stderr",
     "output_type": "stream",
     "text": [
      "EPOCH = 20 | LR = 0.2 | Loss = 0.95 | Batch = 390 | Accuracy = 63.80: 100%|████████████████████████████████████████████████████████████| 391/391 [00:15<00:00, 26.01it/s]\n"
     ]
    },
    {
     "name": "stdout",
     "output_type": "stream",
     "text": [
      "Test set: Average loss: 0.0077, Accuracy: 6610/10000 (66.10%)\n"
     ]
    },
    {
     "name": "stderr",
     "output_type": "stream",
     "text": [
      "EPOCH = 21 | LR = 0.2 | Loss = 1.10 | Batch = 390 | Accuracy = 64.30: 100%|████████████████████████████████████████████████████████████| 391/391 [00:15<00:00, 25.88it/s]\n"
     ]
    },
    {
     "name": "stdout",
     "output_type": "stream",
     "text": [
      "Test set: Average loss: 0.0071, Accuracy: 6852/10000 (68.52%)\n"
     ]
    },
    {
     "name": "stderr",
     "output_type": "stream",
     "text": [
      "EPOCH = 22 | LR = 0.2 | Loss = 0.91 | Batch = 390 | Accuracy = 64.97: 100%|████████████████████████████████████████████████████████████| 391/391 [00:14<00:00, 26.59it/s]\n"
     ]
    },
    {
     "name": "stdout",
     "output_type": "stream",
     "text": [
      "Test set: Average loss: 0.0066, Accuracy: 7089/10000 (70.89%)\n"
     ]
    },
    {
     "name": "stderr",
     "output_type": "stream",
     "text": [
      "EPOCH = 23 | LR = 0.2 | Loss = 0.90 | Batch = 390 | Accuracy = 65.52: 100%|████████████████████████████████████████████████████████████| 391/391 [00:15<00:00, 25.84it/s]\n"
     ]
    },
    {
     "name": "stdout",
     "output_type": "stream",
     "text": [
      "Test set: Average loss: 0.0069, Accuracy: 6989/10000 (69.89%)\n"
     ]
    },
    {
     "name": "stderr",
     "output_type": "stream",
     "text": [
      "EPOCH = 24 | LR = 0.2 | Loss = 1.12 | Batch = 390 | Accuracy = 65.82: 100%|████████████████████████████████████████████████████████████| 391/391 [00:14<00:00, 27.15it/s]\n"
     ]
    },
    {
     "name": "stdout",
     "output_type": "stream",
     "text": [
      "Test set: Average loss: 0.0065, Accuracy: 7149/10000 (71.49%)\n"
     ]
    },
    {
     "name": "stderr",
     "output_type": "stream",
     "text": [
      "EPOCH = 25 | LR = 0.2 | Loss = 0.91 | Batch = 390 | Accuracy = 66.77: 100%|████████████████████████████████████████████████████████████| 391/391 [00:14<00:00, 26.56it/s]\n"
     ]
    },
    {
     "name": "stdout",
     "output_type": "stream",
     "text": [
      "Test set: Average loss: 0.0071, Accuracy: 6915/10000 (69.15%)\n"
     ]
    },
    {
     "name": "stderr",
     "output_type": "stream",
     "text": [
      "EPOCH = 26 | LR = 0.2 | Loss = 0.89 | Batch = 390 | Accuracy = 66.94: 100%|████████████████████████████████████████████████████████████| 391/391 [00:14<00:00, 26.20it/s]\n"
     ]
    },
    {
     "name": "stdout",
     "output_type": "stream",
     "text": [
      "Test set: Average loss: 0.0062, Accuracy: 7270/10000 (72.70%)\n"
     ]
    },
    {
     "name": "stderr",
     "output_type": "stream",
     "text": [
      "EPOCH = 27 | LR = 0.2 | Loss = 0.98 | Batch = 390 | Accuracy = 67.31: 100%|████████████████████████████████████████████████████████████| 391/391 [00:14<00:00, 26.80it/s]\n"
     ]
    },
    {
     "name": "stdout",
     "output_type": "stream",
     "text": [
      "Test set: Average loss: 0.0063, Accuracy: 7262/10000 (72.62%)\n"
     ]
    },
    {
     "name": "stderr",
     "output_type": "stream",
     "text": [
      "EPOCH = 28 | LR = 0.2 | Loss = 1.11 | Batch = 390 | Accuracy = 67.84: 100%|████████████████████████████████████████████████████████████| 391/391 [00:14<00:00, 26.63it/s]\n"
     ]
    },
    {
     "name": "stdout",
     "output_type": "stream",
     "text": [
      "Test set: Average loss: 0.0067, Accuracy: 7077/10000 (70.77%)\n"
     ]
    },
    {
     "name": "stderr",
     "output_type": "stream",
     "text": [
      "EPOCH = 29 | LR = 0.2 | Loss = 0.81 | Batch = 390 | Accuracy = 68.04: 100%|████████████████████████████████████████████████████████████| 391/391 [00:14<00:00, 26.71it/s]\n"
     ]
    },
    {
     "name": "stdout",
     "output_type": "stream",
     "text": [
      "Test set: Average loss: 0.0061, Accuracy: 7307/10000 (73.07%)\n"
     ]
    },
    {
     "name": "stderr",
     "output_type": "stream",
     "text": [
      "EPOCH = 30 | LR = 0.2 | Loss = 0.86 | Batch = 390 | Accuracy = 68.69: 100%|████████████████████████████████████████████████████████████| 391/391 [00:14<00:00, 26.92it/s]\n"
     ]
    },
    {
     "name": "stdout",
     "output_type": "stream",
     "text": [
      "Test set: Average loss: 0.0060, Accuracy: 7313/10000 (73.13%)\n"
     ]
    },
    {
     "name": "stderr",
     "output_type": "stream",
     "text": [
      "EPOCH = 31 | LR = 0.2 | Loss = 0.89 | Batch = 390 | Accuracy = 68.62: 100%|████████████████████████████████████████████████████████████| 391/391 [00:14<00:00, 26.67it/s]\n"
     ]
    },
    {
     "name": "stdout",
     "output_type": "stream",
     "text": [
      "Test set: Average loss: 0.0061, Accuracy: 7269/10000 (72.69%)\n"
     ]
    },
    {
     "name": "stderr",
     "output_type": "stream",
     "text": [
      "EPOCH = 32 | LR = 0.2 | Loss = 1.11 | Batch = 390 | Accuracy = 69.01: 100%|████████████████████████████████████████████████████████████| 391/391 [00:14<00:00, 26.47it/s]\n"
     ]
    },
    {
     "name": "stdout",
     "output_type": "stream",
     "text": [
      "Test set: Average loss: 0.0061, Accuracy: 7351/10000 (73.51%)\n"
     ]
    },
    {
     "name": "stderr",
     "output_type": "stream",
     "text": [
      "EPOCH = 33 | LR = 0.2 | Loss = 0.95 | Batch = 390 | Accuracy = 69.47: 100%|████████████████████████████████████████████████████████████| 391/391 [00:14<00:00, 26.15it/s]\n"
     ]
    },
    {
     "name": "stdout",
     "output_type": "stream",
     "text": [
      "Test set: Average loss: 0.0058, Accuracy: 7507/10000 (75.07%)\n"
     ]
    },
    {
     "name": "stderr",
     "output_type": "stream",
     "text": [
      "EPOCH = 34 | LR = 0.2 | Loss = 1.01 | Batch = 390 | Accuracy = 69.86: 100%|████████████████████████████████████████████████████████████| 391/391 [00:15<00:00, 25.80it/s]\n"
     ]
    },
    {
     "name": "stdout",
     "output_type": "stream",
     "text": [
      "Test set: Average loss: 0.0060, Accuracy: 7329/10000 (73.29%)\n"
     ]
    },
    {
     "name": "stderr",
     "output_type": "stream",
     "text": [
      "EPOCH = 35 | LR = 0.2 | Loss = 0.86 | Batch = 390 | Accuracy = 70.10: 100%|████████████████████████████████████████████████████████████| 391/391 [00:14<00:00, 26.10it/s]\n"
     ]
    },
    {
     "name": "stdout",
     "output_type": "stream",
     "text": [
      "Test set: Average loss: 0.0059, Accuracy: 7444/10000 (74.44%)\n"
     ]
    },
    {
     "name": "stderr",
     "output_type": "stream",
     "text": [
      "EPOCH = 36 | LR = 0.2 | Loss = 1.14 | Batch = 390 | Accuracy = 70.55: 100%|████████████████████████████████████████████████████████████| 391/391 [00:14<00:00, 26.30it/s]\n"
     ]
    },
    {
     "name": "stdout",
     "output_type": "stream",
     "text": [
      "Test set: Average loss: 0.0056, Accuracy: 7583/10000 (75.83%)\n"
     ]
    },
    {
     "name": "stderr",
     "output_type": "stream",
     "text": [
      "EPOCH = 37 | LR = 0.2 | Loss = 0.84 | Batch = 390 | Accuracy = 70.66: 100%|████████████████████████████████████████████████████████████| 391/391 [00:14<00:00, 26.54it/s]\n"
     ]
    },
    {
     "name": "stdout",
     "output_type": "stream",
     "text": [
      "Test set: Average loss: 0.0060, Accuracy: 7364/10000 (73.64%)\n"
     ]
    },
    {
     "name": "stderr",
     "output_type": "stream",
     "text": [
      "EPOCH = 38 | LR = 0.2 | Loss = 1.08 | Batch = 390 | Accuracy = 70.69: 100%|████████████████████████████████████████████████████████████| 391/391 [00:14<00:00, 26.40it/s]\n"
     ]
    },
    {
     "name": "stdout",
     "output_type": "stream",
     "text": [
      "Test set: Average loss: 0.0055, Accuracy: 7572/10000 (75.72%)\n"
     ]
    },
    {
     "name": "stderr",
     "output_type": "stream",
     "text": [
      "EPOCH = 39 | LR = 0.2 | Loss = 0.67 | Batch = 390 | Accuracy = 71.01: 100%|████████████████████████████████████████████████████████████| 391/391 [00:15<00:00, 25.91it/s]\n"
     ]
    },
    {
     "name": "stdout",
     "output_type": "stream",
     "text": [
      "Test set: Average loss: 0.0060, Accuracy: 7396/10000 (73.96%)\n"
     ]
    },
    {
     "name": "stderr",
     "output_type": "stream",
     "text": [
      "EPOCH = 40 | LR = 0.2 | Loss = 0.75 | Batch = 390 | Accuracy = 71.05: 100%|████████████████████████████████████████████████████████████| 391/391 [00:14<00:00, 26.07it/s]\n"
     ]
    },
    {
     "name": "stdout",
     "output_type": "stream",
     "text": [
      "Test set: Average loss: 0.0056, Accuracy: 7525/10000 (75.25%)\n"
     ]
    },
    {
     "name": "stderr",
     "output_type": "stream",
     "text": [
      "EPOCH = 41 | LR = 0.2 | Loss = 0.72 | Batch = 390 | Accuracy = 71.94: 100%|████████████████████████████████████████████████████████████| 391/391 [00:15<00:00, 25.90it/s]\n"
     ]
    },
    {
     "name": "stdout",
     "output_type": "stream",
     "text": [
      "Test set: Average loss: 0.0057, Accuracy: 7494/10000 (74.94%)\n"
     ]
    },
    {
     "name": "stderr",
     "output_type": "stream",
     "text": [
      "EPOCH = 42 | LR = 0.2 | Loss = 0.86 | Batch = 390 | Accuracy = 71.64: 100%|████████████████████████████████████████████████████████████| 391/391 [00:14<00:00, 26.42it/s]\n"
     ]
    },
    {
     "name": "stdout",
     "output_type": "stream",
     "text": [
      "Test set: Average loss: 0.0056, Accuracy: 7483/10000 (74.83%)\n"
     ]
    },
    {
     "name": "stderr",
     "output_type": "stream",
     "text": [
      "EPOCH = 43 | LR = 0.2 | Loss = 0.65 | Batch = 390 | Accuracy = 72.01: 100%|████████████████████████████████████████████████████████████| 391/391 [00:14<00:00, 26.21it/s]\n"
     ]
    },
    {
     "name": "stdout",
     "output_type": "stream",
     "text": [
      "Test set: Average loss: 0.0058, Accuracy: 7492/10000 (74.92%)\n"
     ]
    },
    {
     "name": "stderr",
     "output_type": "stream",
     "text": [
      "EPOCH = 44 | LR = 0.2 | Loss = 0.83 | Batch = 390 | Accuracy = 72.46: 100%|████████████████████████████████████████████████████████████| 391/391 [00:15<00:00, 25.91it/s]\n"
     ]
    },
    {
     "name": "stdout",
     "output_type": "stream",
     "text": [
      "Test set: Average loss: 0.0057, Accuracy: 7445/10000 (74.45%)\n"
     ]
    },
    {
     "name": "stderr",
     "output_type": "stream",
     "text": [
      "EPOCH = 45 | LR = 0.020000000000000004 | Loss = 0.59 | Batch = 390 | Accuracy = 74.60: 100%|███████████████████████████████████████████| 391/391 [00:14<00:00, 26.36it/s]\n"
     ]
    },
    {
     "name": "stdout",
     "output_type": "stream",
     "text": [
      "Test set: Average loss: 0.0052, Accuracy: 7745/10000 (77.45%)\n"
     ]
    },
    {
     "name": "stderr",
     "output_type": "stream",
     "text": [
      "EPOCH = 46 | LR = 0.020000000000000004 | Loss = 0.63 | Batch = 390 | Accuracy = 75.48: 100%|███████████████████████████████████████████| 391/391 [00:15<00:00, 25.58it/s]\n"
     ]
    },
    {
     "name": "stdout",
     "output_type": "stream",
     "text": [
      "Test set: Average loss: 0.0051, Accuracy: 7818/10000 (78.18%)\n"
     ]
    },
    {
     "name": "stderr",
     "output_type": "stream",
     "text": [
      "EPOCH = 47 | LR = 0.020000000000000004 | Loss = 0.63 | Batch = 390 | Accuracy = 75.70: 100%|███████████████████████████████████████████| 391/391 [00:15<00:00, 25.83it/s]\n"
     ]
    },
    {
     "name": "stdout",
     "output_type": "stream",
     "text": [
      "Test set: Average loss: 0.0052, Accuracy: 7789/10000 (77.89%)\n"
     ]
    },
    {
     "name": "stderr",
     "output_type": "stream",
     "text": [
      "EPOCH = 48 | LR = 0.020000000000000004 | Loss = 0.69 | Batch = 390 | Accuracy = 75.85: 100%|███████████████████████████████████████████| 391/391 [00:14<00:00, 26.16it/s]\n"
     ]
    },
    {
     "name": "stdout",
     "output_type": "stream",
     "text": [
      "Test set: Average loss: 0.0052, Accuracy: 7722/10000 (77.22%)\n"
     ]
    },
    {
     "name": "stderr",
     "output_type": "stream",
     "text": [
      "EPOCH = 49 | LR = 0.020000000000000004 | Loss = 0.64 | Batch = 390 | Accuracy = 75.83: 100%|███████████████████████████████████████████| 391/391 [00:14<00:00, 26.28it/s]\n"
     ]
    },
    {
     "name": "stdout",
     "output_type": "stream",
     "text": [
      "Test set: Average loss: 0.0051, Accuracy: 7800/10000 (78.00%)\n"
     ]
    },
    {
     "name": "stderr",
     "output_type": "stream",
     "text": [
      "EPOCH = 50 | LR = 0.020000000000000004 | Loss = 0.69 | Batch = 390 | Accuracy = 75.97: 100%|███████████████████████████████████████████| 391/391 [00:14<00:00, 26.39it/s]\n"
     ]
    },
    {
     "name": "stdout",
     "output_type": "stream",
     "text": [
      "Test set: Average loss: 0.0050, Accuracy: 7832/10000 (78.32%)\n"
     ]
    }
   ],
   "source": [
    "prev_test_loss = float('inf')\n",
    "\n",
    "optimizer = optim.SGD(simple_model.parameters(), lr=0.2, momentum=0.9)\n",
    "scheduler = optim.lr_scheduler.ReduceLROnPlateau(optimizer=optimizer,mode='min',factor=0.1,patience=5)\n",
    "criterion = nn.NLLLoss()\n",
    "trainer = Trainer(simple_model, simple_train_loader, optimizer, criterion, device)\n",
    "tester = Tester(simple_model, simple_test_loader, criterion, device)\n",
    "\n",
    "for epoch in range(1, 51):\n",
    "    trainer.train(epoch=epoch)\n",
    "    _,test_loss = tester.test()\n",
    "    if prev_test_loss>test_loss:\n",
    "        torch.save(simple_model.state_dict(),'./bmodels/simple_model_with_mp_rf44.pth')\n",
    "    scheduler.step(test_loss)\n"
   ]
  },
  {
   "cell_type": "code",
   "execution_count": 10,
   "id": "9fa2423a-34f2-4397-a7c4-4306dfbb3e44",
   "metadata": {},
   "outputs": [
    {
     "data": {
      "image/png": "[encoded data removed]",
      "text/plain": [
       "<Figure size 1500x1000 with 4 Axes>"
      ]
     },
     "metadata": {},
     "output_type": "display_data"
    }
   ],
   "source": [
    "plot_curves(trainer.train_losses,trainer.train_accuracies,tester.test_losses,tester.test_accuracies)"
   ]
  },
  {
   "cell_type": "markdown",
   "id": "c2f01a96-0c62-49cf-9a1a-b046e2c49893",
   "metadata": {},
   "source": [
    "# Model-1 with Augmentation"
   ]
  },
  {
   "cell_type": "code",
   "execution_count": 11,
   "id": "49f784c1-a2ae-421c-8d45-3973a5836f02",
   "metadata": {
    "scrolled": true
   },
   "outputs": [
    {
     "name": "stderr",
     "output_type": "stream",
     "text": [
      "EPOCH = 1 | LR = 0.2 | Loss = 2.05 | Batch = 390 | Accuracy = 21.75: 100%|█████████████████████████████████████████████████████████████| 391/391 [00:17<00:00, 21.75it/s]\n"
     ]
    },
    {
     "name": "stdout",
     "output_type": "stream",
     "text": [
      "Test set: Average loss: 0.0156, Accuracy: 2677/10000 (26.77%)\n"
     ]
    },
    {
     "name": "stderr",
     "output_type": "stream",
     "text": [
      "EPOCH = 2 | LR = 0.2 | Loss = 2.02 | Batch = 390 | Accuracy = 27.17: 100%|█████████████████████████████████████████████████████████████| 391/391 [00:17<00:00, 21.93it/s]\n"
     ]
    },
    {
     "name": "stdout",
     "output_type": "stream",
     "text": [
      "Test set: Average loss: 0.0143, Accuracy: 3467/10000 (34.67%)\n"
     ]
    },
    {
     "name": "stderr",
     "output_type": "stream",
     "text": [
      "EPOCH = 3 | LR = 0.2 | Loss = 2.09 | Batch = 390 | Accuracy = 30.25: 100%|█████████████████████████████████████████████████████████████| 391/391 [00:18<00:00, 21.38it/s]\n"
     ]
    },
    {
     "name": "stdout",
     "output_type": "stream",
     "text": [
      "Test set: Average loss: 0.0132, Accuracy: 3837/10000 (38.37%)\n"
     ]
    },
    {
     "name": "stderr",
     "output_type": "stream",
     "text": [
      "EPOCH = 4 | LR = 0.2 | Loss = 1.91 | Batch = 390 | Accuracy = 31.93: 100%|█████████████████████████████████████████████████████████████| 391/391 [00:18<00:00, 21.54it/s]\n"
     ]
    },
    {
     "name": "stdout",
     "output_type": "stream",
     "text": [
      "Test set: Average loss: 0.0131, Accuracy: 3789/10000 (37.89%)\n"
     ]
    },
    {
     "name": "stderr",
     "output_type": "stream",
     "text": [
      "EPOCH = 5 | LR = 0.2 | Loss = 1.73 | Batch = 390 | Accuracy = 33.71: 100%|█████████████████████████████████████████████████████████████| 391/391 [00:18<00:00, 21.61it/s]\n"
     ]
    },
    {
     "name": "stdout",
     "output_type": "stream",
     "text": [
      "Test set: Average loss: 0.0124, Accuracy: 4290/10000 (42.90%)\n"
     ]
    },
    {
     "name": "stderr",
     "output_type": "stream",
     "text": [
      "EPOCH = 6 | LR = 0.2 | Loss = 1.62 | Batch = 390 | Accuracy = 34.86: 100%|█████████████████████████████████████████████████████████████| 391/391 [00:18<00:00, 21.42it/s]\n"
     ]
    },
    {
     "name": "stdout",
     "output_type": "stream",
     "text": [
      "Test set: Average loss: 0.0120, Accuracy: 4273/10000 (42.73%)\n"
     ]
    },
    {
     "name": "stderr",
     "output_type": "stream",
     "text": [
      "EPOCH = 7 | LR = 0.2 | Loss = 1.60 | Batch = 390 | Accuracy = 36.53: 100%|█████████████████████████████████████████████████████████████| 391/391 [00:18<00:00, 21.28it/s]\n"
     ]
    },
    {
     "name": "stdout",
     "output_type": "stream",
     "text": [
      "Test set: Average loss: 0.0115, Accuracy: 4576/10000 (45.76%)\n"
     ]
    },
    {
     "name": "stderr",
     "output_type": "stream",
     "text": [
      "EPOCH = 8 | LR = 0.2 | Loss = 1.73 | Batch = 390 | Accuracy = 37.33: 100%|█████████████████████████████████████████████████████████████| 391/391 [00:17<00:00, 21.73it/s]\n"
     ]
    },
    {
     "name": "stdout",
     "output_type": "stream",
     "text": [
      "Test set: Average loss: 0.0114, Accuracy: 4608/10000 (46.08%)\n"
     ]
    },
    {
     "name": "stderr",
     "output_type": "stream",
     "text": [
      "EPOCH = 9 | LR = 0.2 | Loss = 1.73 | Batch = 390 | Accuracy = 38.13: 100%|█████████████████████████████████████████████████████████████| 391/391 [00:18<00:00, 21.49it/s]\n"
     ]
    },
    {
     "name": "stdout",
     "output_type": "stream",
     "text": [
      "Test set: Average loss: 0.0111, Accuracy: 4790/10000 (47.90%)\n"
     ]
    },
    {
     "name": "stderr",
     "output_type": "stream",
     "text": [
      "EPOCH = 10 | LR = 0.2 | Loss = 1.62 | Batch = 390 | Accuracy = 39.57: 100%|████████████████████████████████████████████████████████████| 391/391 [00:18<00:00, 21.48it/s]\n"
     ]
    },
    {
     "name": "stdout",
     "output_type": "stream",
     "text": [
      "Test set: Average loss: 0.0111, Accuracy: 4764/10000 (47.64%)\n"
     ]
    },
    {
     "name": "stderr",
     "output_type": "stream",
     "text": [
      "EPOCH = 11 | LR = 0.2 | Loss = 1.67 | Batch = 390 | Accuracy = 40.32: 100%|████████████████████████████████████████████████████████████| 391/391 [00:18<00:00, 21.35it/s]\n"
     ]
    },
    {
     "name": "stdout",
     "output_type": "stream",
     "text": [
      "Test set: Average loss: 0.0107, Accuracy: 5096/10000 (50.96%)\n"
     ]
    },
    {
     "name": "stderr",
     "output_type": "stream",
     "text": [
      "EPOCH = 12 | LR = 0.2 | Loss = 1.71 | Batch = 390 | Accuracy = 41.17: 100%|████████████████████████████████████████████████████████████| 391/391 [00:18<00:00, 21.23it/s]\n"
     ]
    },
    {
     "name": "stdout",
     "output_type": "stream",
     "text": [
      "Test set: Average loss: 0.0105, Accuracy: 4982/10000 (49.82%)\n"
     ]
    },
    {
     "name": "stderr",
     "output_type": "stream",
     "text": [
      "EPOCH = 13 | LR = 0.2 | Loss = 1.68 | Batch = 390 | Accuracy = 42.47: 100%|████████████████████████████████████████████████████████████| 391/391 [00:18<00:00, 21.45it/s]\n"
     ]
    },
    {
     "name": "stdout",
     "output_type": "stream",
     "text": [
      "Test set: Average loss: 0.0102, Accuracy: 5193/10000 (51.93%)\n"
     ]
    },
    {
     "name": "stderr",
     "output_type": "stream",
     "text": [
      "EPOCH = 14 | LR = 0.2 | Loss = 1.60 | Batch = 390 | Accuracy = 43.20: 100%|████████████████████████████████████████████████████████████| 391/391 [00:18<00:00, 21.34it/s]\n"
     ]
    },
    {
     "name": "stdout",
     "output_type": "stream",
     "text": [
      "Test set: Average loss: 0.0100, Accuracy: 5309/10000 (53.09%)\n"
     ]
    },
    {
     "name": "stderr",
     "output_type": "stream",
     "text": [
      "EPOCH = 15 | LR = 0.2 | Loss = 1.56 | Batch = 390 | Accuracy = 43.63: 100%|████████████████████████████████████████████████████████████| 391/391 [00:18<00:00, 21.45it/s]\n"
     ]
    },
    {
     "name": "stdout",
     "output_type": "stream",
     "text": [
      "Test set: Average loss: 0.0098, Accuracy: 5439/10000 (54.39%)\n"
     ]
    },
    {
     "name": "stderr",
     "output_type": "stream",
     "text": [
      "EPOCH = 16 | LR = 0.2 | Loss = 1.60 | Batch = 390 | Accuracy = 44.74: 100%|████████████████████████████████████████████████████████████| 391/391 [00:18<00:00, 21.29it/s]\n"
     ]
    },
    {
     "name": "stdout",
     "output_type": "stream",
     "text": [
      "Test set: Average loss: 0.0096, Accuracy: 5623/10000 (56.23%)\n"
     ]
    },
    {
     "name": "stderr",
     "output_type": "stream",
     "text": [
      "EPOCH = 17 | LR = 0.2 | Loss = 1.52 | Batch = 390 | Accuracy = 45.20: 100%|████████████████████████████████████████████████████████████| 391/391 [00:18<00:00, 21.17it/s]\n"
     ]
    },
    {
     "name": "stdout",
     "output_type": "stream",
     "text": [
      "Test set: Average loss: 0.0097, Accuracy: 5568/10000 (55.68%)\n"
     ]
    },
    {
     "name": "stderr",
     "output_type": "stream",
     "text": [
      "EPOCH = 18 | LR = 0.2 | Loss = 1.39 | Batch = 390 | Accuracy = 45.51: 100%|████████████████████████████████████████████████████████████| 391/391 [00:18<00:00, 20.70it/s]\n"
     ]
    },
    {
     "name": "stdout",
     "output_type": "stream",
     "text": [
      "Test set: Average loss: 0.0090, Accuracy: 5905/10000 (59.05%)\n"
     ]
    },
    {
     "name": "stderr",
     "output_type": "stream",
     "text": [
      "EPOCH = 19 | LR = 0.2 | Loss = 1.49 | Batch = 390 | Accuracy = 46.01: 100%|████████████████████████████████████████████████████████████| 391/391 [00:18<00:00, 20.67it/s]\n"
     ]
    },
    {
     "name": "stdout",
     "output_type": "stream",
     "text": [
      "Test set: Average loss: 0.0096, Accuracy: 5689/10000 (56.89%)\n"
     ]
    },
    {
     "name": "stderr",
     "output_type": "stream",
     "text": [
      "EPOCH = 20 | LR = 0.2 | Loss = 1.45 | Batch = 390 | Accuracy = 47.09: 100%|████████████████████████████████████████████████████████████| 391/391 [00:18<00:00, 21.39it/s]\n"
     ]
    },
    {
     "name": "stdout",
     "output_type": "stream",
     "text": [
      "Test set: Average loss: 0.0090, Accuracy: 5911/10000 (59.11%)\n"
     ]
    },
    {
     "name": "stderr",
     "output_type": "stream",
     "text": [
      "EPOCH = 21 | LR = 0.2 | Loss = 1.33 | Batch = 390 | Accuracy = 47.37: 100%|████████████████████████████████████████████████████████████| 391/391 [00:18<00:00, 20.67it/s]\n"
     ]
    },
    {
     "name": "stdout",
     "output_type": "stream",
     "text": [
      "Test set: Average loss: 0.0091, Accuracy: 5869/10000 (58.69%)\n"
     ]
    },
    {
     "name": "stderr",
     "output_type": "stream",
     "text": [
      "EPOCH = 22 | LR = 0.2 | Loss = 1.28 | Batch = 390 | Accuracy = 47.41: 100%|████████████████████████████████████████████████████████████| 391/391 [00:18<00:00, 21.05it/s]\n"
     ]
    },
    {
     "name": "stdout",
     "output_type": "stream",
     "text": [
      "Test set: Average loss: 0.0088, Accuracy: 6059/10000 (60.59%)\n"
     ]
    },
    {
     "name": "stderr",
     "output_type": "stream",
     "text": [
      "EPOCH = 23 | LR = 0.2 | Loss = 1.37 | Batch = 390 | Accuracy = 47.76: 100%|████████████████████████████████████████████████████████████| 391/391 [00:18<00:00, 21.31it/s]\n"
     ]
    },
    {
     "name": "stdout",
     "output_type": "stream",
     "text": [
      "Test set: Average loss: 0.0093, Accuracy: 5877/10000 (58.77%)\n"
     ]
    },
    {
     "name": "stderr",
     "output_type": "stream",
     "text": [
      "EPOCH = 24 | LR = 0.2 | Loss = 1.34 | Batch = 390 | Accuracy = 48.53: 100%|████████████████████████████████████████████████████████████| 391/391 [00:18<00:00, 20.97it/s]\n"
     ]
    },
    {
     "name": "stdout",
     "output_type": "stream",
     "text": [
      "Test set: Average loss: 0.0092, Accuracy: 5859/10000 (58.59%)\n"
     ]
    },
    {
     "name": "stderr",
     "output_type": "stream",
     "text": [
      "EPOCH = 25 | LR = 0.2 | Loss = 1.43 | Batch = 390 | Accuracy = 48.91: 100%|████████████████████████████████████████████████████████████| 391/391 [00:18<00:00, 20.85it/s]\n"
     ]
    },
    {
     "name": "stdout",
     "output_type": "stream",
     "text": [
      "Test set: Average loss: 0.0084, Accuracy: 6219/10000 (62.19%)\n"
     ]
    },
    {
     "name": "stderr",
     "output_type": "stream",
     "text": [
      "EPOCH = 26 | LR = 0.2 | Loss = 1.40 | Batch = 390 | Accuracy = 49.10: 100%|████████████████████████████████████████████████████████████| 391/391 [00:18<00:00, 20.89it/s]\n"
     ]
    },
    {
     "name": "stdout",
     "output_type": "stream",
     "text": [
      "Test set: Average loss: 0.0084, Accuracy: 6251/10000 (62.51%)\n"
     ]
    },
    {
     "name": "stderr",
     "output_type": "stream",
     "text": [
      "EPOCH = 27 | LR = 0.2 | Loss = 1.48 | Batch = 390 | Accuracy = 49.52: 100%|████████████████████████████████████████████████████████████| 391/391 [00:18<00:00, 21.17it/s]\n"
     ]
    },
    {
     "name": "stdout",
     "output_type": "stream",
     "text": [
      "Test set: Average loss: 0.0086, Accuracy: 6116/10000 (61.16%)\n"
     ]
    },
    {
     "name": "stderr",
     "output_type": "stream",
     "text": [
      "EPOCH = 28 | LR = 0.2 | Loss = 1.52 | Batch = 390 | Accuracy = 49.83: 100%|████████████████████████████████████████████████████████████| 391/391 [00:18<00:00, 21.36it/s]\n"
     ]
    },
    {
     "name": "stdout",
     "output_type": "stream",
     "text": [
      "Test set: Average loss: 0.0083, Accuracy: 6280/10000 (62.80%)\n"
     ]
    },
    {
     "name": "stderr",
     "output_type": "stream",
     "text": [
      "EPOCH = 29 | LR = 0.2 | Loss = 1.49 | Batch = 390 | Accuracy = 50.00: 100%|████████████████████████████████████████████████████████████| 391/391 [00:18<00:00, 20.68it/s]\n"
     ]
    },
    {
     "name": "stdout",
     "output_type": "stream",
     "text": [
      "Test set: Average loss: 0.0082, Accuracy: 6266/10000 (62.66%)\n"
     ]
    },
    {
     "name": "stderr",
     "output_type": "stream",
     "text": [
      "EPOCH = 30 | LR = 0.2 | Loss = 1.33 | Batch = 390 | Accuracy = 50.52: 100%|████████████████████████████████████████████████████████████| 391/391 [00:18<00:00, 21.21it/s]\n"
     ]
    },
    {
     "name": "stdout",
     "output_type": "stream",
     "text": [
      "Test set: Average loss: 0.0081, Accuracy: 6362/10000 (63.62%)\n"
     ]
    },
    {
     "name": "stderr",
     "output_type": "stream",
     "text": [
      "EPOCH = 31 | LR = 0.2 | Loss = 1.27 | Batch = 390 | Accuracy = 50.61: 100%|████████████████████████████████████████████████████████████| 391/391 [00:18<00:00, 20.71it/s]\n"
     ]
    },
    {
     "name": "stdout",
     "output_type": "stream",
     "text": [
      "Test set: Average loss: 0.0082, Accuracy: 6314/10000 (63.14%)\n"
     ]
    },
    {
     "name": "stderr",
     "output_type": "stream",
     "text": [
      "EPOCH = 32 | LR = 0.2 | Loss = 1.46 | Batch = 390 | Accuracy = 50.97: 100%|████████████████████████████████████████████████████████████| 391/391 [00:18<00:00, 20.95it/s]\n"
     ]
    },
    {
     "name": "stdout",
     "output_type": "stream",
     "text": [
      "Test set: Average loss: 0.0081, Accuracy: 6420/10000 (64.20%)\n"
     ]
    },
    {
     "name": "stderr",
     "output_type": "stream",
     "text": [
      "EPOCH = 33 | LR = 0.2 | Loss = 1.20 | Batch = 390 | Accuracy = 51.19: 100%|████████████████████████████████████████████████████████████| 391/391 [00:18<00:00, 21.25it/s]\n"
     ]
    },
    {
     "name": "stdout",
     "output_type": "stream",
     "text": [
      "Test set: Average loss: 0.0082, Accuracy: 6302/10000 (63.02%)\n"
     ]
    },
    {
     "name": "stderr",
     "output_type": "stream",
     "text": [
      "EPOCH = 34 | LR = 0.2 | Loss = 1.15 | Batch = 390 | Accuracy = 51.27: 100%|████████████████████████████████████████████████████████████| 391/391 [00:18<00:00, 20.76it/s]\n"
     ]
    },
    {
     "name": "stdout",
     "output_type": "stream",
     "text": [
      "Test set: Average loss: 0.0079, Accuracy: 6471/10000 (64.71%)\n"
     ]
    },
    {
     "name": "stderr",
     "output_type": "stream",
     "text": [
      "EPOCH = 35 | LR = 0.2 | Loss = 1.33 | Batch = 390 | Accuracy = 51.66: 100%|████████████████████████████████████████████████████████████| 391/391 [00:18<00:00, 20.92it/s]\n"
     ]
    },
    {
     "name": "stdout",
     "output_type": "stream",
     "text": [
      "Test set: Average loss: 0.0078, Accuracy: 6481/10000 (64.81%)\n"
     ]
    },
    {
     "name": "stderr",
     "output_type": "stream",
     "text": [
      "EPOCH = 36 | LR = 0.2 | Loss = 1.19 | Batch = 390 | Accuracy = 51.88: 100%|████████████████████████████████████████████████████████████| 391/391 [00:19<00:00, 20.51it/s]\n"
     ]
    },
    {
     "name": "stdout",
     "output_type": "stream",
     "text": [
      "Test set: Average loss: 0.0077, Accuracy: 6583/10000 (65.83%)\n"
     ]
    },
    {
     "name": "stderr",
     "output_type": "stream",
     "text": [
      "EPOCH = 37 | LR = 0.2 | Loss = 1.42 | Batch = 390 | Accuracy = 52.16: 100%|████████████████████████████████████████████████████████████| 391/391 [00:18<00:00, 21.32it/s]\n"
     ]
    },
    {
     "name": "stdout",
     "output_type": "stream",
     "text": [
      "Test set: Average loss: 0.0081, Accuracy: 6357/10000 (63.57%)\n"
     ]
    },
    {
     "name": "stderr",
     "output_type": "stream",
     "text": [
      "EPOCH = 38 | LR = 0.2 | Loss = 1.47 | Batch = 390 | Accuracy = 52.52: 100%|████████████████████████████████████████████████████████████| 391/391 [00:18<00:00, 20.77it/s]\n"
     ]
    },
    {
     "name": "stdout",
     "output_type": "stream",
     "text": [
      "Test set: Average loss: 0.0081, Accuracy: 6365/10000 (63.65%)\n"
     ]
    },
    {
     "name": "stderr",
     "output_type": "stream",
     "text": [
      "EPOCH = 39 | LR = 0.2 | Loss = 1.54 | Batch = 390 | Accuracy = 52.83: 100%|████████████████████████████████████████████████████████████| 391/391 [00:18<00:00, 20.95it/s]\n"
     ]
    },
    {
     "name": "stdout",
     "output_type": "stream",
     "text": [
      "Test set: Average loss: 0.0081, Accuracy: 6318/10000 (63.18%)\n"
     ]
    },
    {
     "name": "stderr",
     "output_type": "stream",
     "text": [
      "EPOCH = 40 | LR = 0.2 | Loss = 1.45 | Batch = 390 | Accuracy = 52.43: 100%|████████████████████████████████████████████████████████████| 391/391 [00:19<00:00, 20.57it/s]\n"
     ]
    },
    {
     "name": "stdout",
     "output_type": "stream",
     "text": [
      "Test set: Average loss: 0.0075, Accuracy: 6640/10000 (66.40%)\n"
     ]
    },
    {
     "name": "stderr",
     "output_type": "stream",
     "text": [
      "EPOCH = 41 | LR = 0.2 | Loss = 1.46 | Batch = 390 | Accuracy = 52.58: 100%|████████████████████████████████████████████████████████████| 391/391 [00:18<00:00, 20.83it/s]\n"
     ]
    },
    {
     "name": "stdout",
     "output_type": "stream",
     "text": [
      "Test set: Average loss: 0.0078, Accuracy: 6485/10000 (64.85%)\n"
     ]
    },
    {
     "name": "stderr",
     "output_type": "stream",
     "text": [
      "EPOCH = 42 | LR = 0.2 | Loss = 1.31 | Batch = 390 | Accuracy = 52.68: 100%|████████████████████████████████████████████████████████████| 391/391 [00:18<00:00, 20.75it/s]\n"
     ]
    },
    {
     "name": "stdout",
     "output_type": "stream",
     "text": [
      "Test set: Average loss: 0.0079, Accuracy: 6456/10000 (64.56%)\n"
     ]
    },
    {
     "name": "stderr",
     "output_type": "stream",
     "text": [
      "EPOCH = 43 | LR = 0.2 | Loss = 1.44 | Batch = 390 | Accuracy = 53.15: 100%|████████████████████████████████████████████████████████████| 391/391 [00:18<00:00, 20.95it/s]\n"
     ]
    },
    {
     "name": "stdout",
     "output_type": "stream",
     "text": [
      "Test set: Average loss: 0.0077, Accuracy: 6597/10000 (65.97%)\n"
     ]
    },
    {
     "name": "stderr",
     "output_type": "stream",
     "text": [
      "EPOCH = 44 | LR = 0.2 | Loss = 1.32 | Batch = 390 | Accuracy = 53.32: 100%|████████████████████████████████████████████████████████████| 391/391 [00:18<00:00, 21.25it/s]\n"
     ]
    },
    {
     "name": "stdout",
     "output_type": "stream",
     "text": [
      "Test set: Average loss: 0.0075, Accuracy: 6655/10000 (66.55%)\n"
     ]
    },
    {
     "name": "stderr",
     "output_type": "stream",
     "text": [
      "EPOCH = 45 | LR = 0.2 | Loss = 1.35 | Batch = 390 | Accuracy = 53.31: 100%|████████████████████████████████████████████████████████████| 391/391 [00:18<00:00, 21.26it/s]\n"
     ]
    },
    {
     "name": "stdout",
     "output_type": "stream",
     "text": [
      "Test set: Average loss: 0.0079, Accuracy: 6504/10000 (65.04%)\n"
     ]
    },
    {
     "name": "stderr",
     "output_type": "stream",
     "text": [
      "EPOCH = 46 | LR = 0.2 | Loss = 1.10 | Batch = 390 | Accuracy = 53.52: 100%|████████████████████████████████████████████████████████████| 391/391 [00:18<00:00, 21.13it/s]\n"
     ]
    },
    {
     "name": "stdout",
     "output_type": "stream",
     "text": [
      "Test set: Average loss: 0.0076, Accuracy: 6602/10000 (66.02%)\n"
     ]
    },
    {
     "name": "stderr",
     "output_type": "stream",
     "text": [
      "EPOCH = 47 | LR = 0.2 | Loss = 1.19 | Batch = 390 | Accuracy = 53.85: 100%|████████████████████████████████████████████████████████████| 391/391 [00:18<00:00, 21.22it/s]\n"
     ]
    },
    {
     "name": "stdout",
     "output_type": "stream",
     "text": [
      "Test set: Average loss: 0.0081, Accuracy: 6530/10000 (65.30%)\n"
     ]
    },
    {
     "name": "stderr",
     "output_type": "stream",
     "text": [
      "EPOCH = 48 | LR = 0.2 | Loss = 1.27 | Batch = 390 | Accuracy = 53.69: 100%|████████████████████████████████████████████████████████████| 391/391 [00:18<00:00, 21.32it/s]\n"
     ]
    },
    {
     "name": "stdout",
     "output_type": "stream",
     "text": [
      "Test set: Average loss: 0.0081, Accuracy: 6493/10000 (64.93%)\n"
     ]
    },
    {
     "name": "stderr",
     "output_type": "stream",
     "text": [
      "EPOCH = 49 | LR = 0.2 | Loss = 1.42 | Batch = 390 | Accuracy = 53.92: 100%|████████████████████████████████████████████████████████████| 391/391 [00:18<00:00, 21.08it/s]\n"
     ]
    },
    {
     "name": "stdout",
     "output_type": "stream",
     "text": [
      "Test set: Average loss: 0.0073, Accuracy: 6663/10000 (66.63%)\n"
     ]
    },
    {
     "name": "stderr",
     "output_type": "stream",
     "text": [
      "EPOCH = 50 | LR = 0.2 | Loss = 1.12 | Batch = 390 | Accuracy = 53.98: 100%|████████████████████████████████████████████████████████████| 391/391 [00:19<00:00, 20.35it/s]\n"
     ]
    },
    {
     "name": "stdout",
     "output_type": "stream",
     "text": [
      "Test set: Average loss: 0.0071, Accuracy: 6880/10000 (68.80%)\n"
     ]
    }
   ],
   "source": [
    "prev_test_loss = float('inf')\n",
    "simple_model = Net1().to(device)\n",
    "optimizer = optim.SGD(simple_model.parameters(), lr=0.2, momentum=0.9)\n",
    "scheduler = optim.lr_scheduler.ReduceLROnPlateau(optimizer=optimizer,mode='min',factor=0.1,patience=5)\n",
    "criterion = nn.NLLLoss()\n",
    "trainer = Trainer(simple_model, train_loader, optimizer, criterion, device)\n",
    "tester = Tester(simple_model, test_loader, criterion, device)\n",
    "\n",
    "for epoch in range(1, 51):\n",
    "    trainer.train(epoch=epoch)\n",
    "    _,test_loss = tester.test()\n",
    "    if prev_test_loss>test_loss:\n",
    "        torch.save(simple_model.state_dict(),'./bmodels/simple_model_with_mp_rf44_aug.pth')\n",
    "    scheduler.step(test_loss)"
   ]
  },
  {
   "cell_type": "code",
   "execution_count": 12,
   "id": "f7efc0d9-c208-4313-9df7-e31d0b1fc60b",
   "metadata": {},
   "outputs": [
    {
     "data": {
      "image/png": "[encoded data removed]",
      "text/plain": [
       "<Figure size 1500x1000 with 4 Axes>"
      ]
     },
     "metadata": {},
     "output_type": "display_data"
    }
   ],
   "source": [
    "plot_curves(trainer.train_losses,trainer.train_accuracies,tester.test_losses,tester.test_accuracies)"
   ]
  },
  {
   "cell_type": "markdown",
   "id": "98a41044-f265-4d23-b99f-c9de408b68d1",
   "metadata": {},
   "source": [
    "# Model-2\n",
    "\n",
    "**Objective**\n",
    "- remove MP\n",
    "- use strided instead\n",
    "- rest same as previous model\n",
    "\n",
    "**Results**\n",
    "-\n",
    "-"
   ]
  },
  {
   "cell_type": "code",
   "execution_count": 13,
   "id": "bc6515e1-432a-4387-9abb-a4eecf784609",
   "metadata": {},
   "outputs": [],
   "source": [
    "# We used this Squeeze-Expand Network before\n",
    "class Net2(nn.Module):\n",
    "    def __init__(self,dp:int):\n",
    "        super(Net2,self).__init__()\n",
    "        self.dp_rate = dp\n",
    "\n",
    "        self.conv1 = nn.Sequential(\n",
    "            ConvLayer(inc=3,outc=8,k=3,s=1,p=1,d=1,dp_rate=self.dp_rate),\n",
    "            ConvLayer(inc=8,outc=24,k=3,s=1,p=1,d=1,dp_rate=self.dp_rate),\n",
    "            ConvLayer(inc=24,outc=32,k=3,s=2,p=1,d=1,dp_rate=self.dp_rate),\n",
    "        )\n",
    "        # self.trans1 = TransBlock(32,24)\n",
    "        self.trans1 = nn.Sequential(\n",
    "            nn.Conv2d(in_channels=32,out_channels=24,kernel_size=1,bias=False)\n",
    "        )\n",
    "        self.conv2 = nn.Sequential(\n",
    "            ConvLayer(inc=24,outc=32,k=3,s=1,p=1,d=1,dp_rate=self.dp_rate),\n",
    "            ConvLayer(inc=32,outc=32,k=3,s=1,p=1,d=1,dp_rate=self.dp_rate),\n",
    "            ConvLayer(inc=32,outc=64,k=3,s=2,p=1,d=1,dp_rate=self.dp_rate),\n",
    "        )\n",
    "        # self.trans2 = TransBlock(64,32)\n",
    "        self.trans2 = nn.Sequential(\n",
    "            nn.Conv2d(in_channels=64,out_channels=32,kernel_size=1,bias=False)\n",
    "        )\n",
    "        \n",
    "        self.conv3 = nn.Sequential(\n",
    "            ConvLayer(inc=32,outc=64,k=3,s=1,p=1,d=1,dp_rate=self.dp_rate),\n",
    "            ConvLayer(inc=64,outc=64,k=3,s=1,p=1,d=1,dp_rate=self.dp_rate),\n",
    "            ConvLayer(inc=64,outc=128,k=3,s=2,p=1,d=1,dp_rate=self.dp_rate),\n",
    "        )\n",
    "        # self.trans3 = TransBlock(128,64)\n",
    "        self.trans3 = nn.Sequential(\n",
    "            nn.Conv2d(in_channels=128,out_channels=64,kernel_size=1,bias=False)\n",
    "        )\n",
    "        self.conv4 = nn.Sequential(\n",
    "            nn.Conv2d(in_channels=64,out_channels=128,kernel_size=1,bias=False,)\n",
    "        )\n",
    "        self.gap = nn.AdaptiveAvgPool2d(output_size=1)\n",
    "        self.out = nn.Conv2d(128,10,kernel_size=1,bias=False)\n",
    "    def forward(self,x):\n",
    "        x = self.conv1(x)\n",
    "        x = self.trans1(x)\n",
    "        x = self.conv2(x)\n",
    "        x = self.trans2(x)\n",
    "        x = self.conv3(x)\n",
    "        x = self.trans3(x)\n",
    "        x = self.conv4(x)\n",
    "        x = self.gap(x)\n",
    "        x = self.out(x)\n",
    "        return F.log_softmax(x.view(-1,10), dim=1)"
   ]
  },
  {
   "cell_type": "code",
   "execution_count": 14,
   "id": "4bd66905-e672-482d-9779-8eea32d3531a",
   "metadata": {
    "scrolled": true
   },
   "outputs": [],
   "source": [
    "model2_removed_mp = Net2(0.2).to(device)\n",
    "# summary(model2_removed_mp,(3,32,32))"
   ]
  },
  {
   "cell_type": "code",
   "execution_count": 15,
   "id": "1412ad40-ce53-498d-8098-f6c2b7a8926a",
   "metadata": {
    "scrolled": true
   },
   "outputs": [
    {
     "name": "stderr",
     "output_type": "stream",
     "text": [
      "EPOCH = 1 | LR = 0.2 | Loss = 1.78 | Batch = 390 | Accuracy = 22.65: 100%|█████████████████████████████████████████████████████████████| 391/391 [00:12<00:00, 30.91it/s]\n"
     ]
    },
    {
     "name": "stdout",
     "output_type": "stream",
     "text": [
      "Test set: Average loss: 0.0141, Accuracy: 3105/10000 (31.05%)\n"
     ]
    },
    {
     "name": "stderr",
     "output_type": "stream",
     "text": [
      "EPOCH = 2 | LR = 0.2 | Loss = 1.63 | Batch = 390 | Accuracy = 31.12: 100%|█████████████████████████████████████████████████████████████| 391/391 [00:12<00:00, 32.06it/s]\n"
     ]
    },
    {
     "name": "stdout",
     "output_type": "stream",
     "text": [
      "Test set: Average loss: 0.0136, Accuracy: 3482/10000 (34.82%)\n"
     ]
    },
    {
     "name": "stderr",
     "output_type": "stream",
     "text": [
      "EPOCH = 3 | LR = 0.2 | Loss = 1.63 | Batch = 390 | Accuracy = 35.47: 100%|█████████████████████████████████████████████████████████████| 391/391 [00:12<00:00, 31.99it/s]\n"
     ]
    },
    {
     "name": "stdout",
     "output_type": "stream",
     "text": [
      "Test set: Average loss: 0.0122, Accuracy: 4157/10000 (41.57%)\n"
     ]
    },
    {
     "name": "stderr",
     "output_type": "stream",
     "text": [
      "EPOCH = 4 | LR = 0.2 | Loss = 1.70 | Batch = 390 | Accuracy = 38.40: 100%|█████████████████████████████████████████████████████████████| 391/391 [00:12<00:00, 31.81it/s]\n"
     ]
    },
    {
     "name": "stdout",
     "output_type": "stream",
     "text": [
      "Test set: Average loss: 0.0122, Accuracy: 4242/10000 (42.42%)\n"
     ]
    },
    {
     "name": "stderr",
     "output_type": "stream",
     "text": [
      "EPOCH = 5 | LR = 0.2 | Loss = 1.41 | Batch = 390 | Accuracy = 39.98: 100%|█████████████████████████████████████████████████████████████| 391/391 [00:12<00:00, 31.79it/s]\n"
     ]
    },
    {
     "name": "stdout",
     "output_type": "stream",
     "text": [
      "Test set: Average loss: 0.0116, Accuracy: 4540/10000 (45.40%)\n"
     ]
    },
    {
     "name": "stderr",
     "output_type": "stream",
     "text": [
      "EPOCH = 6 | LR = 0.2 | Loss = 1.52 | Batch = 390 | Accuracy = 42.44: 100%|█████████████████████████████████████████████████████████████| 391/391 [00:12<00:00, 31.41it/s]\n"
     ]
    },
    {
     "name": "stdout",
     "output_type": "stream",
     "text": [
      "Test set: Average loss: 0.0116, Accuracy: 4690/10000 (46.90%)\n"
     ]
    },
    {
     "name": "stderr",
     "output_type": "stream",
     "text": [
      "EPOCH = 7 | LR = 0.2 | Loss = 1.44 | Batch = 390 | Accuracy = 44.61: 100%|█████████████████████████████████████████████████████████████| 391/391 [00:12<00:00, 31.83it/s]\n"
     ]
    },
    {
     "name": "stdout",
     "output_type": "stream",
     "text": [
      "Test set: Average loss: 0.0106, Accuracy: 5141/10000 (51.41%)\n"
     ]
    },
    {
     "name": "stderr",
     "output_type": "stream",
     "text": [
      "EPOCH = 8 | LR = 0.2 | Loss = 1.60 | Batch = 390 | Accuracy = 46.48: 100%|█████████████████████████████████████████████████████████████| 391/391 [00:12<00:00, 31.48it/s]\n"
     ]
    },
    {
     "name": "stdout",
     "output_type": "stream",
     "text": [
      "Test set: Average loss: 0.0102, Accuracy: 5278/10000 (52.78%)\n"
     ]
    },
    {
     "name": "stderr",
     "output_type": "stream",
     "text": [
      "EPOCH = 9 | LR = 0.2 | Loss = 1.50 | Batch = 390 | Accuracy = 48.21: 100%|█████████████████████████████████████████████████████████████| 391/391 [00:12<00:00, 31.47it/s]\n"
     ]
    },
    {
     "name": "stdout",
     "output_type": "stream",
     "text": [
      "Test set: Average loss: 0.0098, Accuracy: 5558/10000 (55.58%)\n"
     ]
    },
    {
     "name": "stderr",
     "output_type": "stream",
     "text": [
      "EPOCH = 10 | LR = 0.2 | Loss = 1.49 | Batch = 390 | Accuracy = 49.49: 100%|████████████████████████████████████████████████████████████| 391/391 [00:12<00:00, 31.27it/s]\n"
     ]
    },
    {
     "name": "stdout",
     "output_type": "stream",
     "text": [
      "Test set: Average loss: 0.0094, Accuracy: 5767/10000 (57.67%)\n"
     ]
    },
    {
     "name": "stderr",
     "output_type": "stream",
     "text": [
      "EPOCH = 11 | LR = 0.2 | Loss = 1.38 | Batch = 390 | Accuracy = 51.43: 100%|████████████████████████████████████████████████████████████| 391/391 [00:12<00:00, 31.72it/s]\n"
     ]
    },
    {
     "name": "stdout",
     "output_type": "stream",
     "text": [
      "Test set: Average loss: 0.0095, Accuracy: 5653/10000 (56.53%)\n"
     ]
    },
    {
     "name": "stderr",
     "output_type": "stream",
     "text": [
      "EPOCH = 12 | LR = 0.2 | Loss = 1.16 | Batch = 390 | Accuracy = 52.85: 100%|████████████████████████████████████████████████████████████| 391/391 [00:12<00:00, 31.71it/s]\n"
     ]
    },
    {
     "name": "stdout",
     "output_type": "stream",
     "text": [
      "Test set: Average loss: 0.0089, Accuracy: 5870/10000 (58.70%)\n"
     ]
    },
    {
     "name": "stderr",
     "output_type": "stream",
     "text": [
      "EPOCH = 13 | LR = 0.2 | Loss = 1.34 | Batch = 390 | Accuracy = 54.19: 100%|████████████████████████████████████████████████████████████| 391/391 [00:12<00:00, 31.57it/s]\n"
     ]
    },
    {
     "name": "stdout",
     "output_type": "stream",
     "text": [
      "Test set: Average loss: 0.0088, Accuracy: 6073/10000 (60.73%)\n"
     ]
    },
    {
     "name": "stderr",
     "output_type": "stream",
     "text": [
      "EPOCH = 14 | LR = 0.2 | Loss = 1.26 | Batch = 390 | Accuracy = 55.66: 100%|████████████████████████████████████████████████████████████| 391/391 [00:12<00:00, 31.75it/s]\n"
     ]
    },
    {
     "name": "stdout",
     "output_type": "stream",
     "text": [
      "Test set: Average loss: 0.0085, Accuracy: 6254/10000 (62.54%)\n"
     ]
    },
    {
     "name": "stderr",
     "output_type": "stream",
     "text": [
      "EPOCH = 15 | LR = 0.2 | Loss = 1.15 | Batch = 390 | Accuracy = 56.62: 100%|████████████████████████████████████████████████████████████| 391/391 [00:12<00:00, 31.70it/s]\n"
     ]
    },
    {
     "name": "stdout",
     "output_type": "stream",
     "text": [
      "Test set: Average loss: 0.0081, Accuracy: 6314/10000 (63.14%)\n"
     ]
    },
    {
     "name": "stderr",
     "output_type": "stream",
     "text": [
      "EPOCH = 16 | LR = 0.2 | Loss = 1.26 | Batch = 390 | Accuracy = 57.63: 100%|████████████████████████████████████████████████████████████| 391/391 [00:12<00:00, 31.04it/s]\n"
     ]
    },
    {
     "name": "stdout",
     "output_type": "stream",
     "text": [
      "Test set: Average loss: 0.0078, Accuracy: 6562/10000 (65.62%)\n"
     ]
    },
    {
     "name": "stderr",
     "output_type": "stream",
     "text": [
      "EPOCH = 17 | LR = 0.2 | Loss = 1.23 | Batch = 390 | Accuracy = 58.91: 100%|████████████████████████████████████████████████████████████| 391/391 [00:12<00:00, 31.05it/s]\n"
     ]
    },
    {
     "name": "stdout",
     "output_type": "stream",
     "text": [
      "Test set: Average loss: 0.0081, Accuracy: 6400/10000 (64.00%)\n"
     ]
    },
    {
     "name": "stderr",
     "output_type": "stream",
     "text": [
      "EPOCH = 18 | LR = 0.2 | Loss = 1.00 | Batch = 390 | Accuracy = 59.69: 100%|████████████████████████████████████████████████████████████| 391/391 [00:12<00:00, 31.59it/s]\n"
     ]
    },
    {
     "name": "stdout",
     "output_type": "stream",
     "text": [
      "Test set: Average loss: 0.0076, Accuracy: 6611/10000 (66.11%)\n"
     ]
    },
    {
     "name": "stderr",
     "output_type": "stream",
     "text": [
      "EPOCH = 19 | LR = 0.2 | Loss = 1.18 | Batch = 390 | Accuracy = 60.23: 100%|████████████████████████████████████████████████████████████| 391/391 [00:13<00:00, 29.46it/s]\n"
     ]
    },
    {
     "name": "stdout",
     "output_type": "stream",
     "text": [
      "Test set: Average loss: 0.0075, Accuracy: 6645/10000 (66.45%)\n"
     ]
    },
    {
     "name": "stderr",
     "output_type": "stream",
     "text": [
      "EPOCH = 20 | LR = 0.2 | Loss = 1.05 | Batch = 390 | Accuracy = 60.72: 100%|████████████████████████████████████████████████████████████| 391/391 [00:13<00:00, 29.43it/s]\n"
     ]
    },
    {
     "name": "stdout",
     "output_type": "stream",
     "text": [
      "Test set: Average loss: 0.0077, Accuracy: 6585/10000 (65.85%)\n"
     ]
    },
    {
     "name": "stderr",
     "output_type": "stream",
     "text": [
      "EPOCH = 21 | LR = 0.2 | Loss = 1.18 | Batch = 390 | Accuracy = 61.72: 100%|████████████████████████████████████████████████████████████| 391/391 [00:12<00:00, 30.67it/s]\n"
     ]
    },
    {
     "name": "stdout",
     "output_type": "stream",
     "text": [
      "Test set: Average loss: 0.0075, Accuracy: 6719/10000 (67.19%)\n"
     ]
    },
    {
     "name": "stderr",
     "output_type": "stream",
     "text": [
      "EPOCH = 22 | LR = 0.2 | Loss = 1.13 | Batch = 390 | Accuracy = 62.54: 100%|████████████████████████████████████████████████████████████| 391/391 [00:13<00:00, 29.20it/s]\n"
     ]
    },
    {
     "name": "stdout",
     "output_type": "stream",
     "text": [
      "Test set: Average loss: 0.0071, Accuracy: 6835/10000 (68.35%)\n"
     ]
    },
    {
     "name": "stderr",
     "output_type": "stream",
     "text": [
      "EPOCH = 23 | LR = 0.2 | Loss = 1.30 | Batch = 390 | Accuracy = 62.44: 100%|████████████████████████████████████████████████████████████| 391/391 [00:13<00:00, 30.04it/s]\n"
     ]
    },
    {
     "name": "stdout",
     "output_type": "stream",
     "text": [
      "Test set: Average loss: 0.0069, Accuracy: 6986/10000 (69.86%)\n"
     ]
    },
    {
     "name": "stderr",
     "output_type": "stream",
     "text": [
      "EPOCH = 24 | LR = 0.2 | Loss = 1.17 | Batch = 390 | Accuracy = 63.13: 100%|████████████████████████████████████████████████████████████| 391/391 [00:12<00:00, 31.37it/s]\n"
     ]
    },
    {
     "name": "stdout",
     "output_type": "stream",
     "text": [
      "Test set: Average loss: 0.0070, Accuracy: 6836/10000 (68.36%)\n"
     ]
    },
    {
     "name": "stderr",
     "output_type": "stream",
     "text": [
      "EPOCH = 25 | LR = 0.2 | Loss = 1.25 | Batch = 390 | Accuracy = 63.57: 100%|████████████████████████████████████████████████████████████| 391/391 [00:13<00:00, 29.79it/s]\n"
     ]
    },
    {
     "name": "stdout",
     "output_type": "stream",
     "text": [
      "Test set: Average loss: 0.0070, Accuracy: 6950/10000 (69.50%)\n"
     ]
    },
    {
     "name": "stderr",
     "output_type": "stream",
     "text": [
      "EPOCH = 26 | LR = 0.2 | Loss = 1.20 | Batch = 390 | Accuracy = 64.39: 100%|████████████████████████████████████████████████████████████| 391/391 [00:12<00:00, 31.01it/s]\n"
     ]
    },
    {
     "name": "stdout",
     "output_type": "stream",
     "text": [
      "Test set: Average loss: 0.0070, Accuracy: 6935/10000 (69.35%)\n"
     ]
    },
    {
     "name": "stderr",
     "output_type": "stream",
     "text": [
      "EPOCH = 27 | LR = 0.2 | Loss = 1.22 | Batch = 390 | Accuracy = 64.69: 100%|████████████████████████████████████████████████████████████| 391/391 [00:12<00:00, 31.63it/s]\n"
     ]
    },
    {
     "name": "stdout",
     "output_type": "stream",
     "text": [
      "Test set: Average loss: 0.0066, Accuracy: 7025/10000 (70.25%)\n"
     ]
    },
    {
     "name": "stderr",
     "output_type": "stream",
     "text": [
      "EPOCH = 28 | LR = 0.2 | Loss = 1.14 | Batch = 390 | Accuracy = 65.08: 100%|████████████████████████████████████████████████████████████| 391/391 [00:12<00:00, 31.13it/s]\n"
     ]
    },
    {
     "name": "stdout",
     "output_type": "stream",
     "text": [
      "Test set: Average loss: 0.0065, Accuracy: 7106/10000 (71.06%)\n"
     ]
    },
    {
     "name": "stderr",
     "output_type": "stream",
     "text": [
      "EPOCH = 29 | LR = 0.2 | Loss = 0.99 | Batch = 390 | Accuracy = 65.05: 100%|████████████████████████████████████████████████████████████| 391/391 [00:12<00:00, 31.12it/s]\n"
     ]
    },
    {
     "name": "stdout",
     "output_type": "stream",
     "text": [
      "Test set: Average loss: 0.0066, Accuracy: 7078/10000 (70.78%)\n"
     ]
    },
    {
     "name": "stderr",
     "output_type": "stream",
     "text": [
      "EPOCH = 30 | LR = 0.2 | Loss = 0.79 | Batch = 390 | Accuracy = 65.23: 100%|████████████████████████████████████████████████████████████| 391/391 [00:12<00:00, 31.64it/s]\n"
     ]
    },
    {
     "name": "stdout",
     "output_type": "stream",
     "text": [
      "Test set: Average loss: 0.0065, Accuracy: 7079/10000 (70.79%)\n"
     ]
    },
    {
     "name": "stderr",
     "output_type": "stream",
     "text": [
      "EPOCH = 31 | LR = 0.2 | Loss = 1.08 | Batch = 390 | Accuracy = 65.83: 100%|████████████████████████████████████████████████████████████| 391/391 [00:12<00:00, 31.09it/s]\n"
     ]
    },
    {
     "name": "stdout",
     "output_type": "stream",
     "text": [
      "Test set: Average loss: 0.0067, Accuracy: 7055/10000 (70.55%)\n"
     ]
    },
    {
     "name": "stderr",
     "output_type": "stream",
     "text": [
      "EPOCH = 32 | LR = 0.2 | Loss = 1.10 | Batch = 390 | Accuracy = 66.16: 100%|████████████████████████████████████████████████████████████| 391/391 [00:12<00:00, 30.89it/s]\n"
     ]
    },
    {
     "name": "stdout",
     "output_type": "stream",
     "text": [
      "Test set: Average loss: 0.0065, Accuracy: 7138/10000 (71.38%)\n"
     ]
    },
    {
     "name": "stderr",
     "output_type": "stream",
     "text": [
      "EPOCH = 33 | LR = 0.2 | Loss = 1.06 | Batch = 390 | Accuracy = 66.52: 100%|████████████████████████████████████████████████████████████| 391/391 [00:12<00:00, 31.48it/s]\n"
     ]
    },
    {
     "name": "stdout",
     "output_type": "stream",
     "text": [
      "Test set: Average loss: 0.0064, Accuracy: 7193/10000 (71.93%)\n"
     ]
    },
    {
     "name": "stderr",
     "output_type": "stream",
     "text": [
      "EPOCH = 34 | LR = 0.2 | Loss = 0.76 | Batch = 390 | Accuracy = 66.61: 100%|████████████████████████████████████████████████████████████| 391/391 [00:12<00:00, 30.96it/s]\n"
     ]
    },
    {
     "name": "stdout",
     "output_type": "stream",
     "text": [
      "Test set: Average loss: 0.0066, Accuracy: 7099/10000 (70.99%)\n"
     ]
    },
    {
     "name": "stderr",
     "output_type": "stream",
     "text": [
      "EPOCH = 35 | LR = 0.2 | Loss = 0.83 | Batch = 390 | Accuracy = 66.96: 100%|████████████████████████████████████████████████████████████| 391/391 [00:12<00:00, 31.27it/s]\n"
     ]
    },
    {
     "name": "stdout",
     "output_type": "stream",
     "text": [
      "Test set: Average loss: 0.0064, Accuracy: 7163/10000 (71.63%)\n"
     ]
    },
    {
     "name": "stderr",
     "output_type": "stream",
     "text": [
      "EPOCH = 36 | LR = 0.2 | Loss = 0.98 | Batch = 390 | Accuracy = 67.33: 100%|████████████████████████████████████████████████████████████| 391/391 [00:12<00:00, 31.69it/s]\n"
     ]
    },
    {
     "name": "stdout",
     "output_type": "stream",
     "text": [
      "Test set: Average loss: 0.0065, Accuracy: 7115/10000 (71.15%)\n"
     ]
    },
    {
     "name": "stderr",
     "output_type": "stream",
     "text": [
      "EPOCH = 37 | LR = 0.2 | Loss = 0.77 | Batch = 390 | Accuracy = 67.74: 100%|████████████████████████████████████████████████████████████| 391/391 [00:12<00:00, 30.80it/s]\n"
     ]
    },
    {
     "name": "stdout",
     "output_type": "stream",
     "text": [
      "Test set: Average loss: 0.0061, Accuracy: 7360/10000 (73.60%)\n"
     ]
    },
    {
     "name": "stderr",
     "output_type": "stream",
     "text": [
      "EPOCH = 38 | LR = 0.2 | Loss = 0.97 | Batch = 390 | Accuracy = 67.64: 100%|████████████████████████████████████████████████████████████| 391/391 [00:12<00:00, 31.45it/s]\n"
     ]
    },
    {
     "name": "stdout",
     "output_type": "stream",
     "text": [
      "Test set: Average loss: 0.0062, Accuracy: 7236/10000 (72.36%)\n"
     ]
    },
    {
     "name": "stderr",
     "output_type": "stream",
     "text": [
      "EPOCH = 39 | LR = 0.2 | Loss = 0.89 | Batch = 390 | Accuracy = 67.88: 100%|████████████████████████████████████████████████████████████| 391/391 [00:12<00:00, 31.47it/s]\n"
     ]
    },
    {
     "name": "stdout",
     "output_type": "stream",
     "text": [
      "Test set: Average loss: 0.0064, Accuracy: 7216/10000 (72.16%)\n"
     ]
    },
    {
     "name": "stderr",
     "output_type": "stream",
     "text": [
      "EPOCH = 40 | LR = 0.2 | Loss = 1.07 | Batch = 390 | Accuracy = 68.05: 100%|████████████████████████████████████████████████████████████| 391/391 [00:12<00:00, 31.23it/s]\n"
     ]
    },
    {
     "name": "stdout",
     "output_type": "stream",
     "text": [
      "Test set: Average loss: 0.0063, Accuracy: 7286/10000 (72.86%)\n"
     ]
    },
    {
     "name": "stderr",
     "output_type": "stream",
     "text": [
      "EPOCH = 41 | LR = 0.2 | Loss = 1.12 | Batch = 390 | Accuracy = 68.28: 100%|████████████████████████████████████████████████████████████| 391/391 [00:12<00:00, 31.00it/s]\n"
     ]
    },
    {
     "name": "stdout",
     "output_type": "stream",
     "text": [
      "Test set: Average loss: 0.0063, Accuracy: 7262/10000 (72.62%)\n"
     ]
    },
    {
     "name": "stderr",
     "output_type": "stream",
     "text": [
      "EPOCH = 42 | LR = 0.2 | Loss = 0.94 | Batch = 390 | Accuracy = 68.62: 100%|████████████████████████████████████████████████████████████| 391/391 [00:12<00:00, 30.29it/s]\n"
     ]
    },
    {
     "name": "stdout",
     "output_type": "stream",
     "text": [
      "Test set: Average loss: 0.0060, Accuracy: 7458/10000 (74.58%)\n"
     ]
    },
    {
     "name": "stderr",
     "output_type": "stream",
     "text": [
      "EPOCH = 43 | LR = 0.2 | Loss = 0.89 | Batch = 390 | Accuracy = 68.69: 100%|████████████████████████████████████████████████████████████| 391/391 [00:12<00:00, 30.20it/s]\n"
     ]
    },
    {
     "name": "stdout",
     "output_type": "stream",
     "text": [
      "Test set: Average loss: 0.0060, Accuracy: 7378/10000 (73.78%)\n"
     ]
    },
    {
     "name": "stderr",
     "output_type": "stream",
     "text": [
      "EPOCH = 44 | LR = 0.2 | Loss = 0.67 | Batch = 390 | Accuracy = 68.71: 100%|████████████████████████████████████████████████████████████| 391/391 [00:13<00:00, 29.97it/s]\n"
     ]
    },
    {
     "name": "stdout",
     "output_type": "stream",
     "text": [
      "Test set: Average loss: 0.0061, Accuracy: 7362/10000 (73.62%)\n"
     ]
    },
    {
     "name": "stderr",
     "output_type": "stream",
     "text": [
      "EPOCH = 45 | LR = 0.2 | Loss = 1.05 | Batch = 390 | Accuracy = 68.95: 100%|████████████████████████████████████████████████████████████| 391/391 [00:12<00:00, 30.90it/s]\n"
     ]
    },
    {
     "name": "stdout",
     "output_type": "stream",
     "text": [
      "Test set: Average loss: 0.0062, Accuracy: 7286/10000 (72.86%)\n"
     ]
    },
    {
     "name": "stderr",
     "output_type": "stream",
     "text": [
      "EPOCH = 46 | LR = 0.2 | Loss = 0.94 | Batch = 390 | Accuracy = 68.94: 100%|████████████████████████████████████████████████████████████| 391/391 [00:12<00:00, 30.87it/s]\n"
     ]
    },
    {
     "name": "stdout",
     "output_type": "stream",
     "text": [
      "Test set: Average loss: 0.0059, Accuracy: 7391/10000 (73.91%)\n"
     ]
    },
    {
     "name": "stderr",
     "output_type": "stream",
     "text": [
      "EPOCH = 47 | LR = 0.2 | Loss = 0.80 | Batch = 390 | Accuracy = 68.91: 100%|████████████████████████████████████████████████████████████| 391/391 [00:12<00:00, 31.19it/s]\n"
     ]
    },
    {
     "name": "stdout",
     "output_type": "stream",
     "text": [
      "Test set: Average loss: 0.0060, Accuracy: 7380/10000 (73.80%)\n"
     ]
    },
    {
     "name": "stderr",
     "output_type": "stream",
     "text": [
      "EPOCH = 48 | LR = 0.2 | Loss = 0.75 | Batch = 390 | Accuracy = 69.36: 100%|████████████████████████████████████████████████████████████| 391/391 [00:12<00:00, 30.85it/s]\n"
     ]
    },
    {
     "name": "stdout",
     "output_type": "stream",
     "text": [
      "Test set: Average loss: 0.0060, Accuracy: 7401/10000 (74.01%)\n"
     ]
    },
    {
     "name": "stderr",
     "output_type": "stream",
     "text": [
      "EPOCH = 49 | LR = 0.2 | Loss = 0.83 | Batch = 390 | Accuracy = 69.65: 100%|████████████████████████████████████████████████████████████| 391/391 [00:12<00:00, 31.50it/s]\n"
     ]
    },
    {
     "name": "stdout",
     "output_type": "stream",
     "text": [
      "Test set: Average loss: 0.0058, Accuracy: 7438/10000 (74.38%)\n"
     ]
    },
    {
     "name": "stderr",
     "output_type": "stream",
     "text": [
      "EPOCH = 50 | LR = 0.2 | Loss = 0.83 | Batch = 390 | Accuracy = 69.72: 100%|████████████████████████████████████████████████████████████| 391/391 [00:12<00:00, 31.00it/s]\n"
     ]
    },
    {
     "name": "stdout",
     "output_type": "stream",
     "text": [
      "Test set: Average loss: 0.0059, Accuracy: 7439/10000 (74.39%)\n"
     ]
    }
   ],
   "source": [
    "prev_test_loss = float('inf')\n",
    "\n",
    "optimizer = optim.SGD(model2_removed_mp.parameters(), lr=0.2, momentum=0.9)\n",
    "scheduler = optim.lr_scheduler.ReduceLROnPlateau(optimizer=optimizer,mode='min',factor=0.1,patience=5)\n",
    "criterion = nn.NLLLoss()\n",
    "trainer = Trainer(model2_removed_mp, simple_train_loader, optimizer, criterion, device)\n",
    "tester = Tester(model2_removed_mp, simple_test_loader, criterion, device)\n",
    "\n",
    "for epoch in range(1, 51):\n",
    "    trainer.train(epoch=epoch)\n",
    "    _,test_loss = tester.test()\n",
    "    if prev_test_loss>test_loss:\n",
    "        torch.save(simple_model.state_dict(),'./bmodels/model1_without_mp.pth')\n",
    "    scheduler.step(test_loss)"
   ]
  },
  {
   "cell_type": "code",
   "execution_count": 16,
   "id": "697586f6-8753-4e96-97b1-7217c201842d",
   "metadata": {},
   "outputs": [
    {
     "data": {
      "image/png": "[encoded data removed]",
      "text/plain": [
       "<Figure size 1500x1000 with 4 Axes>"
      ]
     },
     "metadata": {},
     "output_type": "display_data"
    }
   ],
   "source": [
    "plot_curves(trainer.train_losses,trainer.train_accuracies,tester.test_losses,tester.test_accuracies)"
   ]
  },
  {
   "cell_type": "markdown",
   "id": "8861885a-610c-44a5-beeb-aa5f5ae9ff7b",
   "metadata": {},
   "source": [
    "# Model-2 with AUG"
   ]
  },
  {
   "cell_type": "code",
   "execution_count": 17,
   "id": "f21d87a1-0f3c-41b5-ab5b-3b1f35bd3d3c",
   "metadata": {
    "scrolled": true
   },
   "outputs": [
    {
     "name": "stderr",
     "output_type": "stream",
     "text": [
      "EPOCH = 1 | LR = 0.2 | Loss = 2.04 | Batch = 390 | Accuracy = 23.66: 100%|█████████████████████████████████████████████████████████████| 391/391 [00:12<00:00, 31.28it/s]\n"
     ]
    },
    {
     "name": "stdout",
     "output_type": "stream",
     "text": [
      "Test set: Average loss: 0.0143, Accuracy: 3282/10000 (32.82%)\n"
     ]
    },
    {
     "name": "stderr",
     "output_type": "stream",
     "text": [
      "EPOCH = 2 | LR = 0.2 | Loss = 1.84 | Batch = 390 | Accuracy = 32.59: 100%|█████████████████████████████████████████████████████████████| 391/391 [00:12<00:00, 31.97it/s]\n"
     ]
    },
    {
     "name": "stdout",
     "output_type": "stream",
     "text": [
      "Test set: Average loss: 0.0131, Accuracy: 3954/10000 (39.54%)\n"
     ]
    },
    {
     "name": "stderr",
     "output_type": "stream",
     "text": [
      "EPOCH = 3 | LR = 0.2 | Loss = 1.70 | Batch = 390 | Accuracy = 37.56: 100%|█████████████████████████████████████████████████████████████| 391/391 [00:12<00:00, 31.16it/s]\n"
     ]
    },
    {
     "name": "stdout",
     "output_type": "stream",
     "text": [
      "Test set: Average loss: 0.0121, Accuracy: 4224/10000 (42.24%)\n"
     ]
    },
    {
     "name": "stderr",
     "output_type": "stream",
     "text": [
      "EPOCH = 4 | LR = 0.2 | Loss = 1.71 | Batch = 390 | Accuracy = 39.46: 100%|█████████████████████████████████████████████████████████████| 391/391 [00:12<00:00, 31.85it/s]\n"
     ]
    },
    {
     "name": "stdout",
     "output_type": "stream",
     "text": [
      "Test set: Average loss: 0.0116, Accuracy: 4496/10000 (44.96%)\n"
     ]
    },
    {
     "name": "stderr",
     "output_type": "stream",
     "text": [
      "EPOCH = 5 | LR = 0.2 | Loss = 1.59 | Batch = 390 | Accuracy = 42.42: 100%|█████████████████████████████████████████████████████████████| 391/391 [00:12<00:00, 31.80it/s]\n"
     ]
    },
    {
     "name": "stdout",
     "output_type": "stream",
     "text": [
      "Test set: Average loss: 0.0110, Accuracy: 4805/10000 (48.05%)\n"
     ]
    },
    {
     "name": "stderr",
     "output_type": "stream",
     "text": [
      "EPOCH = 6 | LR = 0.2 | Loss = 1.24 | Batch = 390 | Accuracy = 44.84: 100%|█████████████████████████████████████████████████████████████| 391/391 [00:12<00:00, 31.04it/s]\n"
     ]
    },
    {
     "name": "stdout",
     "output_type": "stream",
     "text": [
      "Test set: Average loss: 0.0102, Accuracy: 5189/10000 (51.89%)\n"
     ]
    },
    {
     "name": "stderr",
     "output_type": "stream",
     "text": [
      "EPOCH = 7 | LR = 0.2 | Loss = 1.30 | Batch = 390 | Accuracy = 46.35: 100%|█████████████████████████████████████████████████████████████| 391/391 [00:12<00:00, 31.76it/s]\n"
     ]
    },
    {
     "name": "stdout",
     "output_type": "stream",
     "text": [
      "Test set: Average loss: 0.0102, Accuracy: 5287/10000 (52.87%)\n"
     ]
    },
    {
     "name": "stderr",
     "output_type": "stream",
     "text": [
      "EPOCH = 8 | LR = 0.2 | Loss = 1.55 | Batch = 390 | Accuracy = 48.32: 100%|█████████████████████████████████████████████████████████████| 391/391 [00:12<00:00, 31.63it/s]\n"
     ]
    },
    {
     "name": "stdout",
     "output_type": "stream",
     "text": [
      "Test set: Average loss: 0.0098, Accuracy: 5468/10000 (54.68%)\n"
     ]
    },
    {
     "name": "stderr",
     "output_type": "stream",
     "text": [
      "EPOCH = 9 | LR = 0.2 | Loss = 1.54 | Batch = 390 | Accuracy = 50.31: 100%|█████████████████████████████████████████████████████████████| 391/391 [00:12<00:00, 30.97it/s]\n"
     ]
    },
    {
     "name": "stdout",
     "output_type": "stream",
     "text": [
      "Test set: Average loss: 0.0096, Accuracy: 5622/10000 (56.22%)\n"
     ]
    },
    {
     "name": "stderr",
     "output_type": "stream",
     "text": [
      "EPOCH = 10 | LR = 0.2 | Loss = 1.30 | Batch = 390 | Accuracy = 52.12: 100%|████████████████████████████████████████████████████████████| 391/391 [00:12<00:00, 31.62it/s]\n"
     ]
    },
    {
     "name": "stdout",
     "output_type": "stream",
     "text": [
      "Test set: Average loss: 0.0093, Accuracy: 5788/10000 (57.88%)\n"
     ]
    },
    {
     "name": "stderr",
     "output_type": "stream",
     "text": [
      "EPOCH = 11 | LR = 0.2 | Loss = 1.30 | Batch = 390 | Accuracy = 53.49: 100%|████████████████████████████████████████████████████████████| 391/391 [00:12<00:00, 31.42it/s]\n"
     ]
    },
    {
     "name": "stdout",
     "output_type": "stream",
     "text": [
      "Test set: Average loss: 0.0090, Accuracy: 5878/10000 (58.78%)\n"
     ]
    },
    {
     "name": "stderr",
     "output_type": "stream",
     "text": [
      "EPOCH = 12 | LR = 0.2 | Loss = 1.19 | Batch = 390 | Accuracy = 54.78: 100%|████████████████████████████████████████████████████████████| 391/391 [00:12<00:00, 31.04it/s]\n"
     ]
    },
    {
     "name": "stdout",
     "output_type": "stream",
     "text": [
      "Test set: Average loss: 0.0088, Accuracy: 6052/10000 (60.52%)\n"
     ]
    },
    {
     "name": "stderr",
     "output_type": "stream",
     "text": [
      "EPOCH = 13 | LR = 0.2 | Loss = 1.56 | Batch = 390 | Accuracy = 56.13: 100%|████████████████████████████████████████████████████████████| 391/391 [00:12<00:00, 31.61it/s]\n"
     ]
    },
    {
     "name": "stdout",
     "output_type": "stream",
     "text": [
      "Test set: Average loss: 0.0083, Accuracy: 6190/10000 (61.90%)\n"
     ]
    },
    {
     "name": "stderr",
     "output_type": "stream",
     "text": [
      "EPOCH = 14 | LR = 0.2 | Loss = 1.22 | Batch = 390 | Accuracy = 57.03: 100%|████████████████████████████████████████████████████████████| 391/391 [00:12<00:00, 31.13it/s]\n"
     ]
    },
    {
     "name": "stdout",
     "output_type": "stream",
     "text": [
      "Test set: Average loss: 0.0082, Accuracy: 6363/10000 (63.63%)\n"
     ]
    },
    {
     "name": "stderr",
     "output_type": "stream",
     "text": [
      "EPOCH = 15 | LR = 0.2 | Loss = 1.27 | Batch = 390 | Accuracy = 57.80: 100%|████████████████████████████████████████████████████████████| 391/391 [00:11<00:00, 34.66it/s]\n"
     ]
    },
    {
     "name": "stdout",
     "output_type": "stream",
     "text": [
      "Test set: Average loss: 0.0080, Accuracy: 6494/10000 (64.94%)\n"
     ]
    },
    {
     "name": "stderr",
     "output_type": "stream",
     "text": [
      "EPOCH = 16 | LR = 0.2 | Loss = 1.02 | Batch = 390 | Accuracy = 58.67: 100%|████████████████████████████████████████████████████████████| 391/391 [00:12<00:00, 30.93it/s]\n"
     ]
    },
    {
     "name": "stdout",
     "output_type": "stream",
     "text": [
      "Test set: Average loss: 0.0081, Accuracy: 6357/10000 (63.57%)\n"
     ]
    },
    {
     "name": "stderr",
     "output_type": "stream",
     "text": [
      "EPOCH = 17 | LR = 0.2 | Loss = 1.24 | Batch = 390 | Accuracy = 59.01: 100%|████████████████████████████████████████████████████████████| 391/391 [00:12<00:00, 31.36it/s]\n"
     ]
    },
    {
     "name": "stdout",
     "output_type": "stream",
     "text": [
      "Test set: Average loss: 0.0077, Accuracy: 6624/10000 (66.24%)\n"
     ]
    },
    {
     "name": "stderr",
     "output_type": "stream",
     "text": [
      "EPOCH = 18 | LR = 0.2 | Loss = 1.13 | Batch = 390 | Accuracy = 60.12: 100%|████████████████████████████████████████████████████████████| 391/391 [00:12<00:00, 31.63it/s]\n"
     ]
    },
    {
     "name": "stdout",
     "output_type": "stream",
     "text": [
      "Test set: Average loss: 0.0075, Accuracy: 6670/10000 (66.70%)\n"
     ]
    },
    {
     "name": "stderr",
     "output_type": "stream",
     "text": [
      "EPOCH = 19 | LR = 0.2 | Loss = 1.22 | Batch = 390 | Accuracy = 60.42: 100%|████████████████████████████████████████████████████████████| 391/391 [00:12<00:00, 31.47it/s]\n"
     ]
    },
    {
     "name": "stdout",
     "output_type": "stream",
     "text": [
      "Test set: Average loss: 0.0075, Accuracy: 6754/10000 (67.54%)\n"
     ]
    },
    {
     "name": "stderr",
     "output_type": "stream",
     "text": [
      "EPOCH = 20 | LR = 0.2 | Loss = 1.28 | Batch = 390 | Accuracy = 61.49: 100%|████████████████████████████████████████████████████████████| 391/391 [00:12<00:00, 31.63it/s]\n"
     ]
    },
    {
     "name": "stdout",
     "output_type": "stream",
     "text": [
      "Test set: Average loss: 0.0077, Accuracy: 6658/10000 (66.58%)\n"
     ]
    },
    {
     "name": "stderr",
     "output_type": "stream",
     "text": [
      "EPOCH = 21 | LR = 0.2 | Loss = 1.33 | Batch = 390 | Accuracy = 61.78: 100%|████████████████████████████████████████████████████████████| 391/391 [00:12<00:00, 31.52it/s]\n"
     ]
    },
    {
     "name": "stdout",
     "output_type": "stream",
     "text": [
      "Test set: Average loss: 0.0073, Accuracy: 6798/10000 (67.98%)\n"
     ]
    },
    {
     "name": "stderr",
     "output_type": "stream",
     "text": [
      "EPOCH = 22 | LR = 0.2 | Loss = 0.99 | Batch = 390 | Accuracy = 62.12: 100%|████████████████████████████████████████████████████████████| 391/391 [00:12<00:00, 31.42it/s]\n"
     ]
    },
    {
     "name": "stdout",
     "output_type": "stream",
     "text": [
      "Test set: Average loss: 0.0071, Accuracy: 6836/10000 (68.36%)\n"
     ]
    },
    {
     "name": "stderr",
     "output_type": "stream",
     "text": [
      "EPOCH = 23 | LR = 0.2 | Loss = 1.10 | Batch = 390 | Accuracy = 62.99: 100%|████████████████████████████████████████████████████████████| 391/391 [00:12<00:00, 31.64it/s]\n"
     ]
    },
    {
     "name": "stdout",
     "output_type": "stream",
     "text": [
      "Test set: Average loss: 0.0071, Accuracy: 6926/10000 (69.26%)\n"
     ]
    },
    {
     "name": "stderr",
     "output_type": "stream",
     "text": [
      "EPOCH = 24 | LR = 0.2 | Loss = 1.09 | Batch = 390 | Accuracy = 63.53: 100%|████████████████████████████████████████████████████████████| 391/391 [00:12<00:00, 31.58it/s]\n"
     ]
    },
    {
     "name": "stdout",
     "output_type": "stream",
     "text": [
      "Test set: Average loss: 0.0070, Accuracy: 6937/10000 (69.37%)\n"
     ]
    },
    {
     "name": "stderr",
     "output_type": "stream",
     "text": [
      "EPOCH = 25 | LR = 0.2 | Loss = 1.00 | Batch = 390 | Accuracy = 63.58: 100%|████████████████████████████████████████████████████████████| 391/391 [00:12<00:00, 31.01it/s]\n"
     ]
    },
    {
     "name": "stdout",
     "output_type": "stream",
     "text": [
      "Test set: Average loss: 0.0069, Accuracy: 6990/10000 (69.90%)\n"
     ]
    },
    {
     "name": "stderr",
     "output_type": "stream",
     "text": [
      "EPOCH = 26 | LR = 0.2 | Loss = 1.08 | Batch = 390 | Accuracy = 63.96: 100%|████████████████████████████████████████████████████████████| 391/391 [00:13<00:00, 29.35it/s]\n"
     ]
    },
    {
     "name": "stdout",
     "output_type": "stream",
     "text": [
      "Test set: Average loss: 0.0068, Accuracy: 6966/10000 (69.66%)\n"
     ]
    },
    {
     "name": "stderr",
     "output_type": "stream",
     "text": [
      "EPOCH = 27 | LR = 0.2 | Loss = 0.77 | Batch = 390 | Accuracy = 64.29: 100%|████████████████████████████████████████████████████████████| 391/391 [00:12<00:00, 31.88it/s]\n"
     ]
    },
    {
     "name": "stdout",
     "output_type": "stream",
     "text": [
      "Test set: Average loss: 0.0067, Accuracy: 7098/10000 (70.98%)\n"
     ]
    },
    {
     "name": "stderr",
     "output_type": "stream",
     "text": [
      "EPOCH = 28 | LR = 0.2 | Loss = 1.09 | Batch = 390 | Accuracy = 64.91: 100%|████████████████████████████████████████████████████████████| 391/391 [00:12<00:00, 31.83it/s]\n"
     ]
    },
    {
     "name": "stdout",
     "output_type": "stream",
     "text": [
      "Test set: Average loss: 0.0068, Accuracy: 6982/10000 (69.82%)\n"
     ]
    },
    {
     "name": "stderr",
     "output_type": "stream",
     "text": [
      "EPOCH = 29 | LR = 0.2 | Loss = 0.98 | Batch = 390 | Accuracy = 64.91: 100%|████████████████████████████████████████████████████████████| 391/391 [00:12<00:00, 31.84it/s]\n"
     ]
    },
    {
     "name": "stdout",
     "output_type": "stream",
     "text": [
      "Test set: Average loss: 0.0069, Accuracy: 6955/10000 (69.55%)\n"
     ]
    },
    {
     "name": "stderr",
     "output_type": "stream",
     "text": [
      "EPOCH = 30 | LR = 0.2 | Loss = 1.02 | Batch = 390 | Accuracy = 65.30: 100%|████████████████████████████████████████████████████████████| 391/391 [00:12<00:00, 31.59it/s]\n"
     ]
    },
    {
     "name": "stdout",
     "output_type": "stream",
     "text": [
      "Test set: Average loss: 0.0068, Accuracy: 7043/10000 (70.43%)\n"
     ]
    },
    {
     "name": "stderr",
     "output_type": "stream",
     "text": [
      "EPOCH = 31 | LR = 0.2 | Loss = 0.83 | Batch = 390 | Accuracy = 65.83: 100%|████████████████████████████████████████████████████████████| 391/391 [00:12<00:00, 31.48it/s]\n"
     ]
    },
    {
     "name": "stdout",
     "output_type": "stream",
     "text": [
      "Test set: Average loss: 0.0066, Accuracy: 7146/10000 (71.46%)\n"
     ]
    },
    {
     "name": "stderr",
     "output_type": "stream",
     "text": [
      "EPOCH = 32 | LR = 0.2 | Loss = 1.07 | Batch = 390 | Accuracy = 66.21: 100%|████████████████████████████████████████████████████████████| 391/391 [00:12<00:00, 31.48it/s]\n"
     ]
    },
    {
     "name": "stdout",
     "output_type": "stream",
     "text": [
      "Test set: Average loss: 0.0065, Accuracy: 7167/10000 (71.67%)\n"
     ]
    },
    {
     "name": "stderr",
     "output_type": "stream",
     "text": [
      "EPOCH = 33 | LR = 0.2 | Loss = 0.94 | Batch = 390 | Accuracy = 66.41: 100%|████████████████████████████████████████████████████████████| 391/391 [00:12<00:00, 31.38it/s]\n"
     ]
    },
    {
     "name": "stdout",
     "output_type": "stream",
     "text": [
      "Test set: Average loss: 0.0068, Accuracy: 7034/10000 (70.34%)\n"
     ]
    },
    {
     "name": "stderr",
     "output_type": "stream",
     "text": [
      "EPOCH = 34 | LR = 0.2 | Loss = 1.16 | Batch = 390 | Accuracy = 66.85: 100%|████████████████████████████████████████████████████████████| 391/391 [00:12<00:00, 31.54it/s]\n"
     ]
    },
    {
     "name": "stdout",
     "output_type": "stream",
     "text": [
      "Test set: Average loss: 0.0069, Accuracy: 6930/10000 (69.30%)\n"
     ]
    },
    {
     "name": "stderr",
     "output_type": "stream",
     "text": [
      "EPOCH = 35 | LR = 0.2 | Loss = 1.03 | Batch = 390 | Accuracy = 66.76: 100%|████████████████████████████████████████████████████████████| 391/391 [00:12<00:00, 31.84it/s]\n"
     ]
    },
    {
     "name": "stdout",
     "output_type": "stream",
     "text": [
      "Test set: Average loss: 0.0063, Accuracy: 7223/10000 (72.23%)\n"
     ]
    },
    {
     "name": "stderr",
     "output_type": "stream",
     "text": [
      "EPOCH = 36 | LR = 0.2 | Loss = 1.02 | Batch = 390 | Accuracy = 67.07: 100%|████████████████████████████████████████████████████████████| 391/391 [00:12<00:00, 31.65it/s]\n"
     ]
    },
    {
     "name": "stdout",
     "output_type": "stream",
     "text": [
      "Test set: Average loss: 0.0063, Accuracy: 7264/10000 (72.64%)\n"
     ]
    },
    {
     "name": "stderr",
     "output_type": "stream",
     "text": [
      "EPOCH = 37 | LR = 0.2 | Loss = 0.98 | Batch = 390 | Accuracy = 67.22: 100%|████████████████████████████████████████████████████████████| 391/391 [00:12<00:00, 31.62it/s]\n"
     ]
    },
    {
     "name": "stdout",
     "output_type": "stream",
     "text": [
      "Test set: Average loss: 0.0063, Accuracy: 7238/10000 (72.38%)\n"
     ]
    },
    {
     "name": "stderr",
     "output_type": "stream",
     "text": [
      "EPOCH = 38 | LR = 0.2 | Loss = 1.00 | Batch = 390 | Accuracy = 67.56: 100%|████████████████████████████████████████████████████████████| 391/391 [00:12<00:00, 31.68it/s]\n"
     ]
    },
    {
     "name": "stdout",
     "output_type": "stream",
     "text": [
      "Test set: Average loss: 0.0061, Accuracy: 7370/10000 (73.70%)\n"
     ]
    },
    {
     "name": "stderr",
     "output_type": "stream",
     "text": [
      "EPOCH = 39 | LR = 0.2 | Loss = 1.29 | Batch = 390 | Accuracy = 67.67: 100%|████████████████████████████████████████████████████████████| 391/391 [00:12<00:00, 31.74it/s]\n"
     ]
    },
    {
     "name": "stdout",
     "output_type": "stream",
     "text": [
      "Test set: Average loss: 0.0064, Accuracy: 7215/10000 (72.15%)\n"
     ]
    },
    {
     "name": "stderr",
     "output_type": "stream",
     "text": [
      "EPOCH = 40 | LR = 0.2 | Loss = 0.97 | Batch = 390 | Accuracy = 67.95: 100%|████████████████████████████████████████████████████████████| 391/391 [00:12<00:00, 31.57it/s]\n"
     ]
    },
    {
     "name": "stdout",
     "output_type": "stream",
     "text": [
      "Test set: Average loss: 0.0063, Accuracy: 7279/10000 (72.79%)\n"
     ]
    },
    {
     "name": "stderr",
     "output_type": "stream",
     "text": [
      "EPOCH = 41 | LR = 0.2 | Loss = 0.94 | Batch = 390 | Accuracy = 68.13: 100%|████████████████████████████████████████████████████████████| 391/391 [00:12<00:00, 31.30it/s]\n"
     ]
    },
    {
     "name": "stdout",
     "output_type": "stream",
     "text": [
      "Test set: Average loss: 0.0061, Accuracy: 7400/10000 (74.00%)\n"
     ]
    },
    {
     "name": "stderr",
     "output_type": "stream",
     "text": [
      "EPOCH = 42 | LR = 0.2 | Loss = 0.90 | Batch = 390 | Accuracy = 68.31: 100%|████████████████████████████████████████████████████████████| 391/391 [00:12<00:00, 30.58it/s]\n"
     ]
    },
    {
     "name": "stdout",
     "output_type": "stream",
     "text": [
      "Test set: Average loss: 0.0061, Accuracy: 7346/10000 (73.46%)\n"
     ]
    },
    {
     "name": "stderr",
     "output_type": "stream",
     "text": [
      "EPOCH = 43 | LR = 0.2 | Loss = 0.72 | Batch = 390 | Accuracy = 68.92: 100%|████████████████████████████████████████████████████████████| 391/391 [00:12<00:00, 30.43it/s]\n"
     ]
    },
    {
     "name": "stdout",
     "output_type": "stream",
     "text": [
      "Test set: Average loss: 0.0059, Accuracy: 7456/10000 (74.56%)\n"
     ]
    },
    {
     "name": "stderr",
     "output_type": "stream",
     "text": [
      "EPOCH = 44 | LR = 0.2 | Loss = 0.86 | Batch = 390 | Accuracy = 68.82: 100%|████████████████████████████████████████████████████████████| 391/391 [00:12<00:00, 30.36it/s]\n"
     ]
    },
    {
     "name": "stdout",
     "output_type": "stream",
     "text": [
      "Test set: Average loss: 0.0060, Accuracy: 7448/10000 (74.48%)\n"
     ]
    },
    {
     "name": "stderr",
     "output_type": "stream",
     "text": [
      "EPOCH = 45 | LR = 0.2 | Loss = 0.95 | Batch = 390 | Accuracy = 69.06: 100%|████████████████████████████████████████████████████████████| 391/391 [00:12<00:00, 30.41it/s]\n"
     ]
    },
    {
     "name": "stdout",
     "output_type": "stream",
     "text": [
      "Test set: Average loss: 0.0063, Accuracy: 7256/10000 (72.56%)\n"
     ]
    },
    {
     "name": "stderr",
     "output_type": "stream",
     "text": [
      "EPOCH = 46 | LR = 0.2 | Loss = 1.00 | Batch = 390 | Accuracy = 69.27: 100%|████████████████████████████████████████████████████████████| 391/391 [00:13<00:00, 30.04it/s]\n"
     ]
    },
    {
     "name": "stdout",
     "output_type": "stream",
     "text": [
      "Test set: Average loss: 0.0062, Accuracy: 7354/10000 (73.54%)\n"
     ]
    },
    {
     "name": "stderr",
     "output_type": "stream",
     "text": [
      "EPOCH = 47 | LR = 0.2 | Loss = 1.03 | Batch = 390 | Accuracy = 69.53: 100%|████████████████████████████████████████████████████████████| 391/391 [00:13<00:00, 30.05it/s]\n"
     ]
    },
    {
     "name": "stdout",
     "output_type": "stream",
     "text": [
      "Test set: Average loss: 0.0059, Accuracy: 7414/10000 (74.14%)\n"
     ]
    },
    {
     "name": "stderr",
     "output_type": "stream",
     "text": [
      "EPOCH = 48 | LR = 0.2 | Loss = 0.90 | Batch = 390 | Accuracy = 69.77: 100%|████████████████████████████████████████████████████████████| 391/391 [00:13<00:00, 30.05it/s]\n"
     ]
    },
    {
     "name": "stdout",
     "output_type": "stream",
     "text": [
      "Test set: Average loss: 0.0059, Accuracy: 7431/10000 (74.31%)\n"
     ]
    },
    {
     "name": "stderr",
     "output_type": "stream",
     "text": [
      "EPOCH = 49 | LR = 0.2 | Loss = 0.76 | Batch = 390 | Accuracy = 69.64: 100%|████████████████████████████████████████████████████████████| 391/391 [00:12<00:00, 30.20it/s]\n"
     ]
    },
    {
     "name": "stdout",
     "output_type": "stream",
     "text": [
      "Test set: Average loss: 0.0061, Accuracy: 7360/10000 (73.60%)\n"
     ]
    },
    {
     "name": "stderr",
     "output_type": "stream",
     "text": [
      "EPOCH = 50 | LR = 0.2 | Loss = 0.79 | Batch = 390 | Accuracy = 69.77: 100%|████████████████████████████████████████████████████████████| 391/391 [00:12<00:00, 30.16it/s]\n"
     ]
    },
    {
     "name": "stdout",
     "output_type": "stream",
     "text": [
      "Test set: Average loss: 0.0059, Accuracy: 7435/10000 (74.35%)\n"
     ]
    }
   ],
   "source": [
    "prev_test_loss = float('inf')\n",
    "model2_removed_mp = Net2(0.2).to(device)\n",
    "optimizer = optim.SGD(model2_removed_mp.parameters(), lr=0.2, momentum=0.9)\n",
    "scheduler = optim.lr_scheduler.ReduceLROnPlateau(optimizer=optimizer,mode='min',factor=0.1,patience=5)\n",
    "criterion = nn.NLLLoss()\n",
    "trainer = Trainer(model2_removed_mp, simple_train_loader, optimizer, criterion, device)\n",
    "tester = Tester(model2_removed_mp, simple_test_loader, criterion, device)\n",
    "\n",
    "for epoch in range(1, 51):\n",
    "    trainer.train(epoch=epoch)\n",
    "    _,test_loss = tester.test()\n",
    "    if prev_test_loss>test_loss:\n",
    "        torch.save(simple_model.state_dict(),'./bmodels/model1_without_mp.pth')\n",
    "    scheduler.step(test_loss)"
   ]
  },
  {
   "cell_type": "code",
   "execution_count": 18,
   "id": "e0e9d733-efc8-4fe0-8d6b-a79f391a1d36",
   "metadata": {},
   "outputs": [
    {
     "data": {
      "image/png": "[encoded data removed]",
      "text/plain": [
       "<Figure size 1500x1000 with 4 Axes>"
      ]
     },
     "metadata": {},
     "output_type": "display_data"
    }
   ],
   "source": [
    "plot_curves(trainer.train_losses,trainer.train_accuracies,tester.test_losses,tester.test_accuracies)"
   ]
  },
  {
   "cell_type": "markdown",
   "id": "492dc54c-944f-4bcb-b8d5-3d8cf2d952e0",
   "metadata": {},
   "source": [
    "# Model\n",
    "\n",
    "## normal model ( no conditions apply)\n",
    "\n",
    "## shrink model  (200k params)\n",
    "\n",
    "## remove maxpool but 3 conv\n",
    "\n",
    "## dialated kernels\n",
    "\n",
    "## depth-wise kernel\n",
    "\n",
    "## all depth-wise kernel\n",
    "\n",
    "## apply albumentation"
   ]
  },
  {
   "cell_type": "code",
   "execution_count": null,
   "id": "1f3a5c0a-09ab-46a8-ac9b-c69bb2ffe806",
   "metadata": {},
   "outputs": [],
   "source": []
  },
  {
   "cell_type": "code",
   "execution_count": null,
   "id": "0bd0186e-2d1c-46c5-9d16-adf8dd3072d4",
   "metadata": {},
   "outputs": [],
   "source": []
  }
 ],
 "metadata": {
  "kernelspec": {
   "display_name": "Python 3 (ipykernel)",
   "language": "python",
   "name": "python3"
  },
  "language_info": {
   "codemirror_mode": {
    "name": "ipython",
    "version": 3
   },
   "file_extension": ".py",
   "mimetype": "text/x-python",
   "name": "python",
   "nbconvert_exporter": "python",
   "pygments_lexer": "ipython3",
   "version": "3.11.4"
  }
 },
 "nbformat": 4,
 "nbformat_minor": 5
}
