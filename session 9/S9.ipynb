{
 "cells": [
  {
   "cell_type": "code",
   "execution_count": 1,
   "id": "8bf359bd-67be-484d-a08a-3be9469f841d",
   "metadata": {},
   "outputs": [
    {
     "name": "stdout",
     "output_type": "stream",
     "text": [
      "Wed Oct  4 01:24:00 2023       \n",
      "+---------------------------------------------------------------------------------------+\n",
      "| NVIDIA-SMI 536.67                 Driver Version: 536.67       CUDA Version: 12.2     |\n",
      "|-----------------------------------------+----------------------+----------------------+\n",
      "| GPU  Name                     TCC/WDDM  | Bus-Id        Disp.A | Volatile Uncorr. ECC |\n",
      "| Fan  Temp   Perf          Pwr:Usage/Cap |         Memory-Usage | GPU-Util  Compute M. |\n",
      "|                                         |                      |               MIG M. |\n",
      "|=========================================+======================+======================|\n",
      "|   0  NVIDIA GeForce RTX 4050 ...  WDDM  | 00000000:01:00.0 Off |                  N/A |\n",
      "| N/A   42C    P0              17W / 140W |      0MiB /  6141MiB |      0%      Default |\n",
      "|                                         |                      |                  N/A |\n",
      "+-----------------------------------------+----------------------+----------------------+\n",
      "                                                                                         \n",
      "+---------------------------------------------------------------------------------------+\n",
      "| Processes:                                                                            |\n",
      "|  GPU   GI   CI        PID   Type   Process name                            GPU Memory |\n",
      "|        ID   ID                                                             Usage      |\n",
      "|=======================================================================================|\n",
      "|  No running processes found                                                           |\n",
      "+---------------------------------------------------------------------------------------+\n"
     ]
    }
   ],
   "source": [
    "!nvidia-smi"
   ]
  },
  {
   "cell_type": "code",
   "execution_count": 2,
   "id": "9f452fae-095c-4719-890d-a788e5b7cc1d",
   "metadata": {},
   "outputs": [],
   "source": [
    "import numpy as np\n",
    "from torch import nn\n",
    "from torch.nn import functional as F\n",
    "import torch\n",
    "from torch import optim\n",
    "from torchvision import datasets,transforms\n",
    "from torchsummary import summary"
   ]
  },
  {
   "cell_type": "code",
   "execution_count": 3,
   "id": "2581a8e6-8ea8-4523-9d9e-48cf434bb462",
   "metadata": {},
   "outputs": [],
   "source": [
    "from transformations import train_transforms,test_transforms"
   ]
  },
  {
   "cell_type": "code",
   "execution_count": 4,
   "id": "1178d989-481f-4c92-9274-2247bcf8a605",
   "metadata": {},
   "outputs": [],
   "source": [
    "from trainer import Trainer\n",
    "from tester import Tester\n",
    "from utlis import visualize_data,show_misclassified_images,device,is_cuda\n",
    "from viz import plot_class_distribution, plot_confusion_matrix, plot_curves\n",
    "from dataloader import CIFAR10Dataset,CIFAR10DataLoader\n",
    "from models import ConvLayer,TransBlock,DepthwiseConvLayer"
   ]
  },
  {
   "cell_type": "code",
   "execution_count": 5,
   "id": "bc4971c5-f3aa-4603-bea9-19b1e8eacb5d",
   "metadata": {},
   "outputs": [],
   "source": [
    "# ALbumentation\n",
    "# train_dataset = CIFAR10Dataset(root='../data/',train=True,Atransforms=train_transforms,download=False)\n",
    "# test_dataset  = CIFAR10Dataset(root='../data/',train=False,Atransforms=test_transforms,download=False)\n",
    "\n",
    "# cifar = CIFAR10DataLoader()\n",
    "# train_loader,test_loader = cifar.get_loader(train_dataset,test_dataset)"
   ]
  },
  {
   "cell_type": "code",
   "execution_count": 6,
   "id": "bd83658e-2e12-4704-934e-443b9139a5e7",
   "metadata": {},
   "outputs": [],
   "source": [
    "cifar = CIFAR10DataLoader()\n",
    "simple_train_loader , simple_test_loader = cifar.get_loader(\n",
    "    CIFAR10Dataset(root='../data/',train=True,Atransforms=test_transforms,download=False),\n",
    "    CIFAR10Dataset(root='../data/',train=False,Atransforms=test_transforms,download=False)\n",
    ")"
   ]
  },
  {
   "cell_type": "markdown",
   "id": "839b01e8-4526-4df9-8c4e-c0a9c23e9edc",
   "metadata": {},
   "source": [
    "# Model\n",
    "\n",
    "**Objective**\n",
    "- squeeze expand structure from last session\n",
    "- rf 44<\n",
    "- not care about 200k\n",
    "- 50 epoch\n",
    "- no augmentation \n",
    "**Results**"
   ]
  },
  {
   "cell_type": "code",
   "execution_count": 7,
   "id": "8931ebf2-bef6-49e8-9000-0a9d38df8c22",
   "metadata": {},
   "outputs": [],
   "source": [
    "# We used this Squeeze-Expand Network before\n",
    "class Net1(nn.Module):\n",
    "    def __init__(self):\n",
    "        super(Net1,self).__init__()\n",
    "        self.dp_rate = 0.2\n",
    "\n",
    "        self.conv1 = nn.Sequential(\n",
    "            ConvLayer(inc=3,outc=8,k=3,s=1,p=1,d=1,dp_rate=self.dp_rate),\n",
    "            ConvLayer(inc=8,outc=24,k=3,s=1,p=1,d=1,dp_rate=self.dp_rate),\n",
    "            ConvLayer(inc=24,outc=32,k=3,s=1,p=1,d=1,dp_rate=self.dp_rate),\n",
    "        )\n",
    "        self.trans1 = TransBlock(32,24)\n",
    "        self.conv2 = nn.Sequential(\n",
    "            ConvLayer(inc=24,outc=32,k=3,s=1,p=1,d=1,dp_rate=self.dp_rate),\n",
    "            ConvLayer(inc=32,outc=32,k=3,s=1,p=1,d=1,dp_rate=self.dp_rate),\n",
    "            ConvLayer(inc=32,outc=64,k=3,s=1,p=1,d=1,dp_rate=self.dp_rate),\n",
    "        )\n",
    "        self.trans2 = TransBlock(64,32)\n",
    "        self.conv3 = nn.Sequential(\n",
    "            ConvLayer(inc=32,outc=64,k=3,s=1,p=1,d=1,dp_rate=self.dp_rate),\n",
    "            ConvLayer(inc=64,outc=64,k=3,s=1,p=1,d=1,dp_rate=self.dp_rate),\n",
    "            ConvLayer(inc=64,outc=128,k=3,s=1,p=1,d=1,dp_rate=self.dp_rate),\n",
    "        )\n",
    "        self.trans3 = TransBlock(128,64)\n",
    "        self.conv4 = nn.Sequential(\n",
    "            nn.Conv2d(in_channels=64,out_channels=128,kernel_size=1,bias=False,)\n",
    "        )\n",
    "        self.gap = nn.AdaptiveAvgPool2d(output_size=1)\n",
    "        self.out = nn.Conv2d(128,10,kernel_size=1,bias=False)\n",
    "    def forward(self,x):\n",
    "        x = self.conv1(x)\n",
    "        x = self.trans1(x)\n",
    "        x = self.conv2(x)\n",
    "        x = self.trans2(x)\n",
    "        x = self.conv3(x)\n",
    "        x = self.trans3(x)\n",
    "        x = self.conv4(x)\n",
    "        x = self.gap(x)\n",
    "        x = self.out(x)\n",
    "        return F.log_softmax(x.view(-1,10), dim=1)"
   ]
  },
  {
   "cell_type": "code",
   "execution_count": 8,
   "id": "865710fe-1bd2-4ea3-a9ff-c6b1c3541cbf",
   "metadata": {},
   "outputs": [
    {
     "name": "stdout",
     "output_type": "stream",
     "text": [
      "----------------------------------------------------------------\n",
      "        Layer (type)               Output Shape         Param #\n",
      "================================================================\n",
      "            Conv2d-1            [-1, 8, 32, 32]             216\n",
      "       BatchNorm2d-2            [-1, 8, 32, 32]              16\n",
      "              ReLU-3            [-1, 8, 32, 32]               0\n",
      "         Dropout2d-4            [-1, 8, 32, 32]               0\n",
      "         ConvLayer-5            [-1, 8, 32, 32]               0\n",
      "            Conv2d-6           [-1, 24, 32, 32]           1,728\n",
      "       BatchNorm2d-7           [-1, 24, 32, 32]              48\n",
      "              ReLU-8           [-1, 24, 32, 32]               0\n",
      "         Dropout2d-9           [-1, 24, 32, 32]               0\n",
      "        ConvLayer-10           [-1, 24, 32, 32]               0\n",
      "           Conv2d-11           [-1, 32, 32, 32]           6,912\n",
      "      BatchNorm2d-12           [-1, 32, 32, 32]              64\n",
      "             ReLU-13           [-1, 32, 32, 32]               0\n",
      "        Dropout2d-14           [-1, 32, 32, 32]               0\n",
      "        ConvLayer-15           [-1, 32, 32, 32]               0\n",
      "           Conv2d-16           [-1, 24, 32, 32]             768\n",
      "        MaxPool2d-17           [-1, 24, 16, 16]               0\n",
      "       TransBlock-18           [-1, 24, 16, 16]               0\n",
      "           Conv2d-19           [-1, 32, 16, 16]           6,912\n",
      "      BatchNorm2d-20           [-1, 32, 16, 16]              64\n",
      "             ReLU-21           [-1, 32, 16, 16]               0\n",
      "        Dropout2d-22           [-1, 32, 16, 16]               0\n",
      "        ConvLayer-23           [-1, 32, 16, 16]               0\n",
      "           Conv2d-24           [-1, 32, 16, 16]           9,216\n",
      "      BatchNorm2d-25           [-1, 32, 16, 16]              64\n",
      "             ReLU-26           [-1, 32, 16, 16]               0\n",
      "        Dropout2d-27           [-1, 32, 16, 16]               0\n",
      "        ConvLayer-28           [-1, 32, 16, 16]               0\n",
      "           Conv2d-29           [-1, 64, 16, 16]          18,432\n",
      "      BatchNorm2d-30           [-1, 64, 16, 16]             128\n",
      "             ReLU-31           [-1, 64, 16, 16]               0\n",
      "        Dropout2d-32           [-1, 64, 16, 16]               0\n",
      "        ConvLayer-33           [-1, 64, 16, 16]               0\n",
      "           Conv2d-34           [-1, 32, 16, 16]           2,048\n",
      "        MaxPool2d-35             [-1, 32, 8, 8]               0\n",
      "       TransBlock-36             [-1, 32, 8, 8]               0\n",
      "           Conv2d-37             [-1, 64, 8, 8]          18,432\n",
      "      BatchNorm2d-38             [-1, 64, 8, 8]             128\n",
      "             ReLU-39             [-1, 64, 8, 8]               0\n",
      "        Dropout2d-40             [-1, 64, 8, 8]               0\n",
      "        ConvLayer-41             [-1, 64, 8, 8]               0\n",
      "           Conv2d-42             [-1, 64, 8, 8]          36,864\n",
      "      BatchNorm2d-43             [-1, 64, 8, 8]             128\n",
      "             ReLU-44             [-1, 64, 8, 8]               0\n",
      "        Dropout2d-45             [-1, 64, 8, 8]               0\n",
      "        ConvLayer-46             [-1, 64, 8, 8]               0\n",
      "           Conv2d-47            [-1, 128, 8, 8]          73,728\n",
      "      BatchNorm2d-48            [-1, 128, 8, 8]             256\n",
      "             ReLU-49            [-1, 128, 8, 8]               0\n",
      "        Dropout2d-50            [-1, 128, 8, 8]               0\n",
      "        ConvLayer-51            [-1, 128, 8, 8]               0\n",
      "           Conv2d-52             [-1, 64, 8, 8]           8,192\n",
      "        MaxPool2d-53             [-1, 64, 4, 4]               0\n",
      "       TransBlock-54             [-1, 64, 4, 4]               0\n",
      "           Conv2d-55            [-1, 128, 4, 4]           8,192\n",
      "AdaptiveAvgPool2d-56            [-1, 128, 1, 1]               0\n",
      "           Conv2d-57             [-1, 10, 1, 1]           1,280\n",
      "================================================================\n",
      "Total params: 193,816\n",
      "Trainable params: 193,816\n",
      "Non-trainable params: 0\n",
      "----------------------------------------------------------------\n",
      "Input size (MB): 0.01\n",
      "Forward/backward pass size (MB): 4.81\n",
      "Params size (MB): 0.74\n",
      "Estimated Total Size (MB): 5.56\n",
      "----------------------------------------------------------------\n"
     ]
    }
   ],
   "source": [
    "simple_model = Net1().to(device)\n",
    "summary(simple_model,(3,32,32))"
   ]
  },
  {
   "cell_type": "code",
   "execution_count": 9,
   "id": "b07b0465-5fd6-458f-805f-67c3ee0f0f38",
   "metadata": {
    "scrolled": true
   },
   "outputs": [
    {
     "name": "stderr",
     "output_type": "stream",
     "text": [
      "EPOCH = 1 | LR = 0.2 | Loss = 1.89 | Batch = 390 | Accuracy = 23.78: 100%|█| 391/391 [00:12<00:00, 30.46it/s\n"
     ]
    },
    {
     "name": "stdout",
     "output_type": "stream",
     "text": [
      "Test set: Average loss: 0.0142, Accuracy: 3263/10000 (32.63%)\n"
     ]
    },
    {
     "name": "stderr",
     "output_type": "stream",
     "text": [
      "EPOCH = 2 | LR = 0.2 | Loss = 1.67 | Batch = 390 | Accuracy = 32.30: 100%|█| 391/391 [00:13<00:00, 30.02it/s\n"
     ]
    },
    {
     "name": "stdout",
     "output_type": "stream",
     "text": [
      "Test set: Average loss: 0.0129, Accuracy: 3851/10000 (38.51%)\n"
     ]
    },
    {
     "name": "stderr",
     "output_type": "stream",
     "text": [
      "EPOCH = 3 | LR = 0.2 | Loss = 1.79 | Batch = 390 | Accuracy = 36.73: 100%|█| 391/391 [00:12<00:00, 31.13it/s\n"
     ]
    },
    {
     "name": "stdout",
     "output_type": "stream",
     "text": [
      "Test set: Average loss: 0.0122, Accuracy: 4297/10000 (42.97%)\n"
     ]
    },
    {
     "name": "stderr",
     "output_type": "stream",
     "text": [
      "EPOCH = 4 | LR = 0.2 | Loss = 1.59 | Batch = 390 | Accuracy = 39.65: 100%|█| 391/391 [00:12<00:00, 30.63it/s\n"
     ]
    },
    {
     "name": "stdout",
     "output_type": "stream",
     "text": [
      "Test set: Average loss: 0.0121, Accuracy: 4241/10000 (42.41%)\n"
     ]
    },
    {
     "name": "stderr",
     "output_type": "stream",
     "text": [
      "EPOCH = 5 | LR = 0.2 | Loss = 1.45 | Batch = 390 | Accuracy = 41.95: 100%|█| 391/391 [00:12<00:00, 30.80it/s\n"
     ]
    },
    {
     "name": "stdout",
     "output_type": "stream",
     "text": [
      "Test set: Average loss: 0.0112, Accuracy: 4723/10000 (47.23%)\n"
     ]
    },
    {
     "name": "stderr",
     "output_type": "stream",
     "text": [
      "EPOCH = 6 | LR = 0.2 | Loss = 1.49 | Batch = 390 | Accuracy = 44.06: 100%|█| 391/391 [00:12<00:00, 30.84it/s\n"
     ]
    },
    {
     "name": "stdout",
     "output_type": "stream",
     "text": [
      "Test set: Average loss: 0.0114, Accuracy: 4857/10000 (48.57%)\n"
     ]
    },
    {
     "name": "stderr",
     "output_type": "stream",
     "text": [
      "EPOCH = 7 | LR = 0.2 | Loss = 1.41 | Batch = 390 | Accuracy = 46.35: 100%|█| 391/391 [00:12<00:00, 30.70it/s\n"
     ]
    },
    {
     "name": "stdout",
     "output_type": "stream",
     "text": [
      "Test set: Average loss: 0.0108, Accuracy: 5061/10000 (50.61%)\n"
     ]
    },
    {
     "name": "stderr",
     "output_type": "stream",
     "text": [
      "EPOCH = 8 | LR = 0.2 | Loss = 1.57 | Batch = 390 | Accuracy = 48.22: 100%|█| 391/391 [00:12<00:00, 30.84it/s\n"
     ]
    },
    {
     "name": "stdout",
     "output_type": "stream",
     "text": [
      "Test set: Average loss: 0.0103, Accuracy: 5372/10000 (53.72%)\n"
     ]
    },
    {
     "name": "stderr",
     "output_type": "stream",
     "text": [
      "EPOCH = 9 | LR = 0.2 | Loss = 1.35 | Batch = 390 | Accuracy = 51.11: 100%|█| 391/391 [00:12<00:00, 30.86it/s\n"
     ]
    },
    {
     "name": "stdout",
     "output_type": "stream",
     "text": [
      "Test set: Average loss: 0.0097, Accuracy: 5503/10000 (55.03%)\n"
     ]
    },
    {
     "name": "stderr",
     "output_type": "stream",
     "text": [
      "EPOCH = 10 | LR = 0.2 | Loss = 1.19 | Batch = 390 | Accuracy = 52.85: 100%|█| 391/391 [00:12<00:00, 30.84it/\n"
     ]
    },
    {
     "name": "stdout",
     "output_type": "stream",
     "text": [
      "Test set: Average loss: 0.0087, Accuracy: 6034/10000 (60.34%)\n"
     ]
    },
    {
     "name": "stderr",
     "output_type": "stream",
     "text": [
      "EPOCH = 11 | LR = 0.2 | Loss = 1.24 | Batch = 390 | Accuracy = 54.76: 100%|█| 391/391 [00:12<00:00, 30.79it/\n"
     ]
    },
    {
     "name": "stdout",
     "output_type": "stream",
     "text": [
      "Test set: Average loss: 0.0086, Accuracy: 6187/10000 (61.87%)\n"
     ]
    },
    {
     "name": "stderr",
     "output_type": "stream",
     "text": [
      "EPOCH = 12 | LR = 0.2 | Loss = 1.32 | Batch = 390 | Accuracy = 56.38: 100%|█| 391/391 [00:12<00:00, 30.35it/\n"
     ]
    },
    {
     "name": "stdout",
     "output_type": "stream",
     "text": [
      "Test set: Average loss: 0.0089, Accuracy: 6054/10000 (60.54%)\n"
     ]
    },
    {
     "name": "stderr",
     "output_type": "stream",
     "text": [
      "EPOCH = 13 | LR = 0.2 | Loss = 1.05 | Batch = 390 | Accuracy = 57.99: 100%|█| 391/391 [00:12<00:00, 31.09it/\n"
     ]
    },
    {
     "name": "stdout",
     "output_type": "stream",
     "text": [
      "Test set: Average loss: 0.0081, Accuracy: 6411/10000 (64.11%)\n"
     ]
    },
    {
     "name": "stderr",
     "output_type": "stream",
     "text": [
      "EPOCH = 14 | LR = 0.2 | Loss = 1.04 | Batch = 390 | Accuracy = 59.24: 100%|█| 391/391 [00:12<00:00, 31.07it/\n"
     ]
    },
    {
     "name": "stdout",
     "output_type": "stream",
     "text": [
      "Test set: Average loss: 0.0086, Accuracy: 6214/10000 (62.14%)\n"
     ]
    },
    {
     "name": "stderr",
     "output_type": "stream",
     "text": [
      "EPOCH = 15 | LR = 0.2 | Loss = 1.09 | Batch = 390 | Accuracy = 59.94: 100%|█| 391/391 [00:12<00:00, 31.11it/\n"
     ]
    },
    {
     "name": "stdout",
     "output_type": "stream",
     "text": [
      "Test set: Average loss: 0.0076, Accuracy: 6649/10000 (66.49%)\n"
     ]
    },
    {
     "name": "stderr",
     "output_type": "stream",
     "text": [
      "EPOCH = 16 | LR = 0.2 | Loss = 1.30 | Batch = 390 | Accuracy = 61.43: 100%|█| 391/391 [00:12<00:00, 31.05it/\n"
     ]
    },
    {
     "name": "stdout",
     "output_type": "stream",
     "text": [
      "Test set: Average loss: 0.0074, Accuracy: 6772/10000 (67.72%)\n"
     ]
    },
    {
     "name": "stderr",
     "output_type": "stream",
     "text": [
      "EPOCH = 17 | LR = 0.2 | Loss = 1.16 | Batch = 390 | Accuracy = 61.89: 100%|█| 391/391 [00:12<00:00, 31.11it/\n"
     ]
    },
    {
     "name": "stdout",
     "output_type": "stream",
     "text": [
      "Test set: Average loss: 0.0077, Accuracy: 6624/10000 (66.24%)\n"
     ]
    },
    {
     "name": "stderr",
     "output_type": "stream",
     "text": [
      "EPOCH = 18 | LR = 0.2 | Loss = 1.00 | Batch = 390 | Accuracy = 62.85: 100%|█| 391/391 [00:12<00:00, 31.46it/\n"
     ]
    },
    {
     "name": "stdout",
     "output_type": "stream",
     "text": [
      "Test set: Average loss: 0.0071, Accuracy: 6935/10000 (69.35%)\n"
     ]
    },
    {
     "name": "stderr",
     "output_type": "stream",
     "text": [
      "EPOCH = 19 | LR = 0.2 | Loss = 1.23 | Batch = 390 | Accuracy = 63.32: 100%|█| 391/391 [00:12<00:00, 31.35it/\n"
     ]
    },
    {
     "name": "stdout",
     "output_type": "stream",
     "text": [
      "Test set: Average loss: 0.0070, Accuracy: 6896/10000 (68.96%)\n"
     ]
    },
    {
     "name": "stderr",
     "output_type": "stream",
     "text": [
      "EPOCH = 20 | LR = 0.2 | Loss = 0.85 | Batch = 390 | Accuracy = 64.04: 100%|█| 391/391 [00:12<00:00, 30.81it/\n"
     ]
    },
    {
     "name": "stdout",
     "output_type": "stream",
     "text": [
      "Test set: Average loss: 0.0069, Accuracy: 6916/10000 (69.16%)\n"
     ]
    },
    {
     "name": "stderr",
     "output_type": "stream",
     "text": [
      "EPOCH = 21 | LR = 0.2 | Loss = 0.79 | Batch = 390 | Accuracy = 64.92: 100%|█| 391/391 [00:14<00:00, 26.86it/\n"
     ]
    },
    {
     "name": "stdout",
     "output_type": "stream",
     "text": [
      "Test set: Average loss: 0.0068, Accuracy: 6987/10000 (69.87%)\n"
     ]
    },
    {
     "name": "stderr",
     "output_type": "stream",
     "text": [
      "EPOCH = 22 | LR = 0.2 | Loss = 0.97 | Batch = 390 | Accuracy = 65.80: 100%|█| 391/391 [00:14<00:00, 26.18it/\n"
     ]
    },
    {
     "name": "stdout",
     "output_type": "stream",
     "text": [
      "Test set: Average loss: 0.0068, Accuracy: 6982/10000 (69.82%)\n"
     ]
    },
    {
     "name": "stderr",
     "output_type": "stream",
     "text": [
      "EPOCH = 23 | LR = 0.2 | Loss = 0.96 | Batch = 390 | Accuracy = 66.22: 100%|█| 391/391 [00:14<00:00, 27.00it/\n"
     ]
    },
    {
     "name": "stdout",
     "output_type": "stream",
     "text": [
      "Test set: Average loss: 0.0072, Accuracy: 6883/10000 (68.83%)\n"
     ]
    },
    {
     "name": "stderr",
     "output_type": "stream",
     "text": [
      "EPOCH = 24 | LR = 0.2 | Loss = 0.89 | Batch = 390 | Accuracy = 67.02: 100%|█| 391/391 [00:14<00:00, 26.39it/\n"
     ]
    },
    {
     "name": "stdout",
     "output_type": "stream",
     "text": [
      "Test set: Average loss: 0.0069, Accuracy: 6959/10000 (69.59%)\n"
     ]
    },
    {
     "name": "stderr",
     "output_type": "stream",
     "text": [
      "EPOCH = 25 | LR = 0.2 | Loss = 1.17 | Batch = 390 | Accuracy = 67.03: 100%|█| 391/391 [00:14<00:00, 26.82it/\n"
     ]
    },
    {
     "name": "stdout",
     "output_type": "stream",
     "text": [
      "Test set: Average loss: 0.0062, Accuracy: 7289/10000 (72.89%)\n"
     ]
    },
    {
     "name": "stderr",
     "output_type": "stream",
     "text": [
      "EPOCH = 26 | LR = 0.2 | Loss = 0.95 | Batch = 390 | Accuracy = 67.80: 100%|█| 391/391 [00:14<00:00, 26.99it/\n"
     ]
    },
    {
     "name": "stdout",
     "output_type": "stream",
     "text": [
      "Test set: Average loss: 0.0067, Accuracy: 7087/10000 (70.87%)\n"
     ]
    },
    {
     "name": "stderr",
     "output_type": "stream",
     "text": [
      "EPOCH = 27 | LR = 0.2 | Loss = 0.67 | Batch = 390 | Accuracy = 68.32: 100%|█| 391/391 [00:11<00:00, 35.29it/\n"
     ]
    },
    {
     "name": "stdout",
     "output_type": "stream",
     "text": [
      "Test set: Average loss: 0.0065, Accuracy: 7156/10000 (71.56%)\n"
     ]
    },
    {
     "name": "stderr",
     "output_type": "stream",
     "text": [
      "EPOCH = 28 | LR = 0.2 | Loss = 0.99 | Batch = 390 | Accuracy = 68.76: 100%|█| 391/391 [00:12<00:00, 31.16it/\n"
     ]
    },
    {
     "name": "stdout",
     "output_type": "stream",
     "text": [
      "Test set: Average loss: 0.0063, Accuracy: 7258/10000 (72.58%)\n"
     ]
    },
    {
     "name": "stderr",
     "output_type": "stream",
     "text": [
      "EPOCH = 29 | LR = 0.2 | Loss = 0.86 | Batch = 390 | Accuracy = 68.80: 100%|█| 391/391 [00:12<00:00, 30.70it/\n"
     ]
    },
    {
     "name": "stdout",
     "output_type": "stream",
     "text": [
      "Test set: Average loss: 0.0059, Accuracy: 7437/10000 (74.37%)\n"
     ]
    },
    {
     "name": "stderr",
     "output_type": "stream",
     "text": [
      "EPOCH = 30 | LR = 0.2 | Loss = 1.12 | Batch = 390 | Accuracy = 69.28: 100%|█| 391/391 [00:12<00:00, 31.37it/\n"
     ]
    },
    {
     "name": "stdout",
     "output_type": "stream",
     "text": [
      "Test set: Average loss: 0.0060, Accuracy: 7391/10000 (73.91%)\n"
     ]
    },
    {
     "name": "stderr",
     "output_type": "stream",
     "text": [
      "EPOCH = 31 | LR = 0.2 | Loss = 0.68 | Batch = 390 | Accuracy = 69.82: 100%|█| 391/391 [00:12<00:00, 31.35it/\n"
     ]
    },
    {
     "name": "stdout",
     "output_type": "stream",
     "text": [
      "Test set: Average loss: 0.0063, Accuracy: 7228/10000 (72.28%)\n"
     ]
    },
    {
     "name": "stderr",
     "output_type": "stream",
     "text": [
      "EPOCH = 32 | LR = 0.2 | Loss = 0.74 | Batch = 390 | Accuracy = 70.11: 100%|█| 391/391 [00:12<00:00, 31.33it/\n"
     ]
    },
    {
     "name": "stdout",
     "output_type": "stream",
     "text": [
      "Test set: Average loss: 0.0061, Accuracy: 7306/10000 (73.06%)\n"
     ]
    },
    {
     "name": "stderr",
     "output_type": "stream",
     "text": [
      "EPOCH = 33 | LR = 0.2 | Loss = 1.07 | Batch = 390 | Accuracy = 70.71: 100%|█| 391/391 [00:12<00:00, 31.26it/\n"
     ]
    },
    {
     "name": "stdout",
     "output_type": "stream",
     "text": [
      "Test set: Average loss: 0.0058, Accuracy: 7447/10000 (74.47%)\n"
     ]
    },
    {
     "name": "stderr",
     "output_type": "stream",
     "text": [
      "EPOCH = 34 | LR = 0.2 | Loss = 1.14 | Batch = 390 | Accuracy = 70.85: 100%|█| 391/391 [00:12<00:00, 31.01it/\n"
     ]
    },
    {
     "name": "stdout",
     "output_type": "stream",
     "text": [
      "Test set: Average loss: 0.0061, Accuracy: 7331/10000 (73.31%)\n"
     ]
    },
    {
     "name": "stderr",
     "output_type": "stream",
     "text": [
      "EPOCH = 35 | LR = 0.2 | Loss = 0.92 | Batch = 390 | Accuracy = 70.77: 100%|█| 391/391 [00:12<00:00, 31.10it/\n"
     ]
    },
    {
     "name": "stdout",
     "output_type": "stream",
     "text": [
      "Test set: Average loss: 0.0060, Accuracy: 7411/10000 (74.11%)\n"
     ]
    },
    {
     "name": "stderr",
     "output_type": "stream",
     "text": [
      "EPOCH = 36 | LR = 0.2 | Loss = 0.89 | Batch = 390 | Accuracy = 71.24: 100%|█| 391/391 [00:12<00:00, 31.15it/\n"
     ]
    },
    {
     "name": "stdout",
     "output_type": "stream",
     "text": [
      "Test set: Average loss: 0.0057, Accuracy: 7496/10000 (74.96%)\n"
     ]
    },
    {
     "name": "stderr",
     "output_type": "stream",
     "text": [
      "EPOCH = 37 | LR = 0.2 | Loss = 0.82 | Batch = 390 | Accuracy = 71.19: 100%|█| 391/391 [00:12<00:00, 31.25it/\n"
     ]
    },
    {
     "name": "stdout",
     "output_type": "stream",
     "text": [
      "Test set: Average loss: 0.0056, Accuracy: 7591/10000 (75.91%)\n"
     ]
    },
    {
     "name": "stderr",
     "output_type": "stream",
     "text": [
      "EPOCH = 38 | LR = 0.2 | Loss = 0.91 | Batch = 390 | Accuracy = 71.86: 100%|█| 391/391 [00:12<00:00, 31.29it/\n"
     ]
    },
    {
     "name": "stdout",
     "output_type": "stream",
     "text": [
      "Test set: Average loss: 0.0055, Accuracy: 7605/10000 (76.05%)\n"
     ]
    },
    {
     "name": "stderr",
     "output_type": "stream",
     "text": [
      "EPOCH = 39 | LR = 0.2 | Loss = 0.70 | Batch = 390 | Accuracy = 71.85: 100%|█| 391/391 [00:12<00:00, 31.39it/\n"
     ]
    },
    {
     "name": "stdout",
     "output_type": "stream",
     "text": [
      "Test set: Average loss: 0.0056, Accuracy: 7512/10000 (75.12%)\n"
     ]
    },
    {
     "name": "stderr",
     "output_type": "stream",
     "text": [
      "EPOCH = 40 | LR = 0.2 | Loss = 0.91 | Batch = 390 | Accuracy = 72.06: 100%|█| 391/391 [00:12<00:00, 31.37it/\n"
     ]
    },
    {
     "name": "stdout",
     "output_type": "stream",
     "text": [
      "Test set: Average loss: 0.0056, Accuracy: 7547/10000 (75.47%)\n"
     ]
    },
    {
     "name": "stderr",
     "output_type": "stream",
     "text": [
      "EPOCH = 41 | LR = 0.2 | Loss = 0.71 | Batch = 390 | Accuracy = 72.50: 100%|█| 391/391 [00:12<00:00, 31.25it/\n"
     ]
    },
    {
     "name": "stdout",
     "output_type": "stream",
     "text": [
      "Test set: Average loss: 0.0055, Accuracy: 7647/10000 (76.47%)\n"
     ]
    },
    {
     "name": "stderr",
     "output_type": "stream",
     "text": [
      "EPOCH = 42 | LR = 0.2 | Loss = 0.78 | Batch = 390 | Accuracy = 72.31: 100%|█| 391/391 [00:12<00:00, 31.17it/\n"
     ]
    },
    {
     "name": "stdout",
     "output_type": "stream",
     "text": [
      "Test set: Average loss: 0.0056, Accuracy: 7545/10000 (75.45%)\n"
     ]
    },
    {
     "name": "stderr",
     "output_type": "stream",
     "text": [
      "EPOCH = 43 | LR = 0.2 | Loss = 0.61 | Batch = 390 | Accuracy = 72.55: 100%|█| 391/391 [00:12<00:00, 31.27it/\n"
     ]
    },
    {
     "name": "stdout",
     "output_type": "stream",
     "text": [
      "Test set: Average loss: 0.0053, Accuracy: 7678/10000 (76.78%)\n"
     ]
    },
    {
     "name": "stderr",
     "output_type": "stream",
     "text": [
      "EPOCH = 44 | LR = 0.2 | Loss = 0.81 | Batch = 390 | Accuracy = 72.93: 100%|█| 391/391 [00:12<00:00, 31.34it/\n"
     ]
    },
    {
     "name": "stdout",
     "output_type": "stream",
     "text": [
      "Test set: Average loss: 0.0053, Accuracy: 7737/10000 (77.37%)\n"
     ]
    },
    {
     "name": "stderr",
     "output_type": "stream",
     "text": [
      "EPOCH = 45 | LR = 0.2 | Loss = 0.77 | Batch = 390 | Accuracy = 72.88: 100%|█| 391/391 [00:12<00:00, 31.61it/\n"
     ]
    },
    {
     "name": "stdout",
     "output_type": "stream",
     "text": [
      "Test set: Average loss: 0.0056, Accuracy: 7572/10000 (75.72%)\n"
     ]
    },
    {
     "name": "stderr",
     "output_type": "stream",
     "text": [
      "EPOCH = 46 | LR = 0.2 | Loss = 0.76 | Batch = 390 | Accuracy = 73.19: 100%|█| 391/391 [00:12<00:00, 31.09it/\n"
     ]
    },
    {
     "name": "stdout",
     "output_type": "stream",
     "text": [
      "Test set: Average loss: 0.0055, Accuracy: 7580/10000 (75.80%)\n"
     ]
    },
    {
     "name": "stderr",
     "output_type": "stream",
     "text": [
      "EPOCH = 47 | LR = 0.2 | Loss = 0.87 | Batch = 390 | Accuracy = 73.42: 100%|█| 391/391 [00:12<00:00, 31.30it/\n"
     ]
    },
    {
     "name": "stdout",
     "output_type": "stream",
     "text": [
      "Test set: Average loss: 0.0053, Accuracy: 7711/10000 (77.11%)\n"
     ]
    },
    {
     "name": "stderr",
     "output_type": "stream",
     "text": [
      "EPOCH = 48 | LR = 0.2 | Loss = 0.73 | Batch = 390 | Accuracy = 73.68: 100%|█| 391/391 [00:12<00:00, 31.35it/\n"
     ]
    },
    {
     "name": "stdout",
     "output_type": "stream",
     "text": [
      "Test set: Average loss: 0.0055, Accuracy: 7644/10000 (76.44%)\n"
     ]
    },
    {
     "name": "stderr",
     "output_type": "stream",
     "text": [
      "EPOCH = 49 | LR = 0.2 | Loss = 0.95 | Batch = 390 | Accuracy = 73.86: 100%|█| 391/391 [00:12<00:00, 31.10it/\n"
     ]
    },
    {
     "name": "stdout",
     "output_type": "stream",
     "text": [
      "Test set: Average loss: 0.0055, Accuracy: 7617/10000 (76.17%)\n"
     ]
    },
    {
     "name": "stderr",
     "output_type": "stream",
     "text": [
      "EPOCH = 50 | LR = 0.2 | Loss = 0.74 | Batch = 390 | Accuracy = 74.03: 100%|█| 391/391 [00:12<00:00, 31.42it/\n"
     ]
    },
    {
     "name": "stdout",
     "output_type": "stream",
     "text": [
      "Test set: Average loss: 0.0053, Accuracy: 7682/10000 (76.82%)\n"
     ]
    }
   ],
   "source": [
    "prev_test_loss = float('inf')\n",
    "\n",
    "optimizer = optim.SGD(simple_model.parameters(), lr=0.2, momentum=0.9)\n",
    "scheduler = optim.lr_scheduler.ReduceLROnPlateau(optimizer=optimizer,mode='min',factor=0.1,patience=5)\n",
    "criterion = nn.NLLLoss()\n",
    "trainer = Trainer(simple_model, simple_train_loader, optimizer, criterion, device)\n",
    "tester = Tester(simple_model, simple_test_loader, criterion, device)\n",
    "\n",
    "for epoch in range(1, 51):\n",
    "    trainer.train(epoch=epoch)\n",
    "    _,test_loss = tester.test()\n",
    "    if prev_test_loss>test_loss:\n",
    "        torch.save(simple_model.state_dict(),'./bmodels/simple_model_with_mp_rf44.pth')\n",
    "    scheduler.step(test_loss)\n"
   ]
  },
  {
   "cell_type": "code",
   "execution_count": 10,
   "id": "9fa2423a-34f2-4397-a7c4-4306dfbb3e44",
   "metadata": {},
   "outputs": [
    {
     "data": {
      "image/png": "[encoded data removed]",
      "text/plain": [
       "<Figure size 1500x1000 with 4 Axes>"
      ]
     },
     "metadata": {},
     "output_type": "display_data"
    }
   ],
   "source": [
    "plot_curves(trainer.train_losses,trainer.train_accuracies,tester.test_losses,tester.test_accuracies)"
   ]
  },
  {
   "cell_type": "markdown",
   "id": "98a41044-f265-4d23-b99f-c9de408b68d1",
   "metadata": {},
   "source": [
    "# Model-2\n",
    "\n",
    "**Objective**\n",
    "- remove MP\n",
    "- use strided instead\n",
    "- rest same as previous model\n",
    "\n",
    "**Results**\n",
    "-\n",
    "-"
   ]
  },
  {
   "cell_type": "code",
   "execution_count": 11,
   "id": "bc6515e1-432a-4387-9abb-a4eecf784609",
   "metadata": {},
   "outputs": [],
   "source": [
    "# We used this Squeeze-Expand Network before\n",
    "class Net2(nn.Module):\n",
    "    def __init__(self,dp:int):\n",
    "        super(Net2,self).__init__()\n",
    "        self.dp_rate = dp\n",
    "\n",
    "        self.conv1 = nn.Sequential(\n",
    "            ConvLayer(inc=3,outc=8,k=3,s=1,p=1,d=1,dp_rate=self.dp_rate),\n",
    "            ConvLayer(inc=8,outc=24,k=3,s=1,p=1,d=1,dp_rate=self.dp_rate),\n",
    "            ConvLayer(inc=24,outc=32,k=3,s=2,p=1,d=1,dp_rate=self.dp_rate),\n",
    "        )\n",
    "        # self.trans1 = TransBlock(32,24)\n",
    "        self.trans1 = nn.Sequential(\n",
    "            nn.Conv2d(in_channels=32,out_channels=24,kernel_size=1,bias=False)\n",
    "        )\n",
    "        self.conv2 = nn.Sequential(\n",
    "            ConvLayer(inc=24,outc=32,k=3,s=1,p=1,d=1,dp_rate=self.dp_rate),\n",
    "            ConvLayer(inc=32,outc=32,k=3,s=1,p=1,d=1,dp_rate=self.dp_rate),\n",
    "            ConvLayer(inc=32,outc=64,k=3,s=2,p=1,d=1,dp_rate=self.dp_rate),\n",
    "        )\n",
    "        # self.trans2 = TransBlock(64,32)\n",
    "        self.trans2 = nn.Sequential(\n",
    "            nn.Conv2d(in_channels=64,out_channels=32,kernel_size=1,bias=False)\n",
    "        )\n",
    "        \n",
    "        self.conv3 = nn.Sequential(\n",
    "            ConvLayer(inc=32,outc=64,k=3,s=1,p=1,d=1,dp_rate=self.dp_rate),\n",
    "            ConvLayer(inc=64,outc=64,k=3,s=1,p=1,d=1,dp_rate=self.dp_rate),\n",
    "            ConvLayer(inc=64,outc=128,k=3,s=2,p=1,d=1,dp_rate=self.dp_rate),\n",
    "        )\n",
    "        # self.trans3 = TransBlock(128,64)\n",
    "        self.trans3 = nn.Sequential(\n",
    "            nn.Conv2d(in_channels=128,out_channels=64,kernel_size=1,bias=False)\n",
    "        )\n",
    "        self.conv4 = nn.Sequential(\n",
    "            nn.Conv2d(in_channels=64,out_channels=128,kernel_size=1,bias=False,)\n",
    "        )\n",
    "        self.gap = nn.AdaptiveAvgPool2d(output_size=1)\n",
    "        self.out = nn.Conv2d(128,10,kernel_size=1,bias=False)\n",
    "    def forward(self,x):\n",
    "        x = self.conv1(x)\n",
    "        x = self.trans1(x)\n",
    "        x = self.conv2(x)\n",
    "        x = self.trans2(x)\n",
    "        x = self.conv3(x)\n",
    "        x = self.trans3(x)\n",
    "        x = self.conv4(x)\n",
    "        x = self.gap(x)\n",
    "        x = self.out(x)\n",
    "        return F.log_softmax(x.view(-1,10), dim=1)"
   ]
  },
  {
   "cell_type": "code",
   "execution_count": 12,
   "id": "4bd66905-e672-482d-9779-8eea32d3531a",
   "metadata": {},
   "outputs": [
    {
     "name": "stdout",
     "output_type": "stream",
     "text": [
      "----------------------------------------------------------------\n",
      "        Layer (type)               Output Shape         Param #\n",
      "================================================================\n",
      "            Conv2d-1            [-1, 8, 32, 32]             216\n",
      "       BatchNorm2d-2            [-1, 8, 32, 32]              16\n",
      "              ReLU-3            [-1, 8, 32, 32]               0\n",
      "         Dropout2d-4            [-1, 8, 32, 32]               0\n",
      "         ConvLayer-5            [-1, 8, 32, 32]               0\n",
      "            Conv2d-6           [-1, 24, 32, 32]           1,728\n",
      "       BatchNorm2d-7           [-1, 24, 32, 32]              48\n",
      "              ReLU-8           [-1, 24, 32, 32]               0\n",
      "         Dropout2d-9           [-1, 24, 32, 32]               0\n",
      "        ConvLayer-10           [-1, 24, 32, 32]               0\n",
      "           Conv2d-11           [-1, 32, 16, 16]           6,912\n",
      "      BatchNorm2d-12           [-1, 32, 16, 16]              64\n",
      "             ReLU-13           [-1, 32, 16, 16]               0\n",
      "        Dropout2d-14           [-1, 32, 16, 16]               0\n",
      "        ConvLayer-15           [-1, 32, 16, 16]               0\n",
      "           Conv2d-16           [-1, 24, 16, 16]             768\n",
      "           Conv2d-17           [-1, 32, 16, 16]           6,912\n",
      "      BatchNorm2d-18           [-1, 32, 16, 16]              64\n",
      "             ReLU-19           [-1, 32, 16, 16]               0\n",
      "        Dropout2d-20           [-1, 32, 16, 16]               0\n",
      "        ConvLayer-21           [-1, 32, 16, 16]               0\n",
      "           Conv2d-22           [-1, 32, 16, 16]           9,216\n",
      "      BatchNorm2d-23           [-1, 32, 16, 16]              64\n",
      "             ReLU-24           [-1, 32, 16, 16]               0\n",
      "        Dropout2d-25           [-1, 32, 16, 16]               0\n",
      "        ConvLayer-26           [-1, 32, 16, 16]               0\n",
      "           Conv2d-27             [-1, 64, 8, 8]          18,432\n",
      "      BatchNorm2d-28             [-1, 64, 8, 8]             128\n",
      "             ReLU-29             [-1, 64, 8, 8]               0\n",
      "        Dropout2d-30             [-1, 64, 8, 8]               0\n",
      "        ConvLayer-31             [-1, 64, 8, 8]               0\n",
      "           Conv2d-32             [-1, 32, 8, 8]           2,048\n",
      "           Conv2d-33             [-1, 64, 8, 8]          18,432\n",
      "      BatchNorm2d-34             [-1, 64, 8, 8]             128\n",
      "             ReLU-35             [-1, 64, 8, 8]               0\n",
      "        Dropout2d-36             [-1, 64, 8, 8]               0\n",
      "        ConvLayer-37             [-1, 64, 8, 8]               0\n",
      "           Conv2d-38             [-1, 64, 8, 8]          36,864\n",
      "      BatchNorm2d-39             [-1, 64, 8, 8]             128\n",
      "             ReLU-40             [-1, 64, 8, 8]               0\n",
      "        Dropout2d-41             [-1, 64, 8, 8]               0\n",
      "        ConvLayer-42             [-1, 64, 8, 8]               0\n",
      "           Conv2d-43            [-1, 128, 4, 4]          73,728\n",
      "      BatchNorm2d-44            [-1, 128, 4, 4]             256\n",
      "             ReLU-45            [-1, 128, 4, 4]               0\n",
      "        Dropout2d-46            [-1, 128, 4, 4]               0\n",
      "        ConvLayer-47            [-1, 128, 4, 4]               0\n",
      "           Conv2d-48             [-1, 64, 4, 4]           8,192\n",
      "           Conv2d-49            [-1, 128, 4, 4]           8,192\n",
      "AdaptiveAvgPool2d-50            [-1, 128, 1, 1]               0\n",
      "           Conv2d-51             [-1, 10, 1, 1]           1,280\n",
      "================================================================\n",
      "Total params: 193,816\n",
      "Trainable params: 193,816\n",
      "Non-trainable params: 0\n",
      "----------------------------------------------------------------\n",
      "Input size (MB): 0.01\n",
      "Forward/backward pass size (MB): 2.82\n",
      "Params size (MB): 0.74\n",
      "Estimated Total Size (MB): 3.57\n",
      "----------------------------------------------------------------\n"
     ]
    }
   ],
   "source": [
    "model2_removed_mp = Net2(0.2).to(device)\n",
    "summary(model2_removed_mp,(3,32,32))"
   ]
  },
  {
   "cell_type": "code",
   "execution_count": 13,
   "id": "1412ad40-ce53-498d-8098-f6c2b7a8926a",
   "metadata": {},
   "outputs": [
    {
     "name": "stderr",
     "output_type": "stream",
     "text": [
      "EPOCH = 1 | LR = 0.2 | Loss = 1.81 | Batch = 390 | Accuracy = 23.08: 100%|█| 391/391 [00:12<00:00, 31.47it/s\n"
     ]
    },
    {
     "name": "stdout",
     "output_type": "stream",
     "text": [
      "Test set: Average loss: 0.0142, Accuracy: 3206/10000 (32.06%)\n"
     ]
    },
    {
     "name": "stderr",
     "output_type": "stream",
     "text": [
      "EPOCH = 2 | LR = 0.2 | Loss = 1.60 | Batch = 390 | Accuracy = 32.29: 100%|█| 391/391 [00:12<00:00, 31.28it/s\n"
     ]
    },
    {
     "name": "stdout",
     "output_type": "stream",
     "text": [
      "Test set: Average loss: 0.0132, Accuracy: 3776/10000 (37.76%)\n"
     ]
    },
    {
     "name": "stderr",
     "output_type": "stream",
     "text": [
      "EPOCH = 3 | LR = 0.2 | Loss = 1.51 | Batch = 390 | Accuracy = 37.35: 100%|█| 391/391 [00:12<00:00, 30.93it/s\n"
     ]
    },
    {
     "name": "stdout",
     "output_type": "stream",
     "text": [
      "Test set: Average loss: 0.0124, Accuracy: 4036/10000 (40.36%)\n"
     ]
    },
    {
     "name": "stderr",
     "output_type": "stream",
     "text": [
      "EPOCH = 4 | LR = 0.2 | Loss = 1.59 | Batch = 390 | Accuracy = 40.02: 100%|█| 391/391 [00:12<00:00, 31.09it/s\n"
     ]
    },
    {
     "name": "stdout",
     "output_type": "stream",
     "text": [
      "Test set: Average loss: 0.0118, Accuracy: 4506/10000 (45.06%)\n"
     ]
    },
    {
     "name": "stderr",
     "output_type": "stream",
     "text": [
      "EPOCH = 5 | LR = 0.2 | Loss = 1.57 | Batch = 390 | Accuracy = 42.37: 100%|█| 391/391 [00:12<00:00, 30.75it/s\n"
     ]
    },
    {
     "name": "stdout",
     "output_type": "stream",
     "text": [
      "Test set: Average loss: 0.0109, Accuracy: 4894/10000 (48.94%)\n"
     ]
    },
    {
     "name": "stderr",
     "output_type": "stream",
     "text": [
      "EPOCH = 6 | LR = 0.2 | Loss = 1.65 | Batch = 390 | Accuracy = 44.18: 100%|█| 391/391 [00:12<00:00, 30.92it/s\n"
     ]
    },
    {
     "name": "stdout",
     "output_type": "stream",
     "text": [
      "Test set: Average loss: 0.0109, Accuracy: 4977/10000 (49.77%)\n"
     ]
    },
    {
     "name": "stderr",
     "output_type": "stream",
     "text": [
      "EPOCH = 7 | LR = 0.2 | Loss = 1.36 | Batch = 390 | Accuracy = 46.52: 100%|█| 391/391 [00:12<00:00, 31.49it/s\n"
     ]
    },
    {
     "name": "stdout",
     "output_type": "stream",
     "text": [
      "Test set: Average loss: 0.0101, Accuracy: 5420/10000 (54.20%)\n"
     ]
    },
    {
     "name": "stderr",
     "output_type": "stream",
     "text": [
      "EPOCH = 8 | LR = 0.2 | Loss = 1.39 | Batch = 390 | Accuracy = 48.60: 100%|█| 391/391 [00:12<00:00, 30.78it/s\n"
     ]
    },
    {
     "name": "stdout",
     "output_type": "stream",
     "text": [
      "Test set: Average loss: 0.0097, Accuracy: 5579/10000 (55.79%)\n"
     ]
    },
    {
     "name": "stderr",
     "output_type": "stream",
     "text": [
      "EPOCH = 9 | LR = 0.2 | Loss = 1.45 | Batch = 390 | Accuracy = 50.10: 100%|█| 391/391 [00:12<00:00, 31.31it/s\n"
     ]
    },
    {
     "name": "stdout",
     "output_type": "stream",
     "text": [
      "Test set: Average loss: 0.0098, Accuracy: 5528/10000 (55.28%)\n"
     ]
    },
    {
     "name": "stderr",
     "output_type": "stream",
     "text": [
      "EPOCH = 10 | LR = 0.2 | Loss = 1.41 | Batch = 390 | Accuracy = 51.89: 100%|█| 391/391 [00:12<00:00, 31.22it/\n"
     ]
    },
    {
     "name": "stdout",
     "output_type": "stream",
     "text": [
      "Test set: Average loss: 0.0092, Accuracy: 5766/10000 (57.66%)\n"
     ]
    },
    {
     "name": "stderr",
     "output_type": "stream",
     "text": [
      "EPOCH = 11 | LR = 0.2 | Loss = 1.38 | Batch = 390 | Accuracy = 53.37: 100%|█| 391/391 [00:12<00:00, 30.95it/\n"
     ]
    },
    {
     "name": "stdout",
     "output_type": "stream",
     "text": [
      "Test set: Average loss: 0.0093, Accuracy: 5837/10000 (58.37%)\n"
     ]
    },
    {
     "name": "stderr",
     "output_type": "stream",
     "text": [
      "EPOCH = 12 | LR = 0.2 | Loss = 1.14 | Batch = 390 | Accuracy = 54.30: 100%|█| 391/391 [00:12<00:00, 31.10it/\n"
     ]
    },
    {
     "name": "stdout",
     "output_type": "stream",
     "text": [
      "Test set: Average loss: 0.0085, Accuracy: 6071/10000 (60.71%)\n"
     ]
    },
    {
     "name": "stderr",
     "output_type": "stream",
     "text": [
      "EPOCH = 13 | LR = 0.2 | Loss = 1.25 | Batch = 390 | Accuracy = 55.52: 100%|█| 391/391 [00:12<00:00, 31.28it/\n"
     ]
    },
    {
     "name": "stdout",
     "output_type": "stream",
     "text": [
      "Test set: Average loss: 0.0091, Accuracy: 5916/10000 (59.16%)\n"
     ]
    },
    {
     "name": "stderr",
     "output_type": "stream",
     "text": [
      "EPOCH = 14 | LR = 0.2 | Loss = 1.22 | Batch = 390 | Accuracy = 56.36: 100%|█| 391/391 [00:12<00:00, 30.89it/\n"
     ]
    },
    {
     "name": "stdout",
     "output_type": "stream",
     "text": [
      "Test set: Average loss: 0.0083, Accuracy: 6244/10000 (62.44%)\n"
     ]
    },
    {
     "name": "stderr",
     "output_type": "stream",
     "text": [
      "EPOCH = 15 | LR = 0.2 | Loss = 1.08 | Batch = 390 | Accuracy = 57.23: 100%|█| 391/391 [00:12<00:00, 31.44it/\n"
     ]
    },
    {
     "name": "stdout",
     "output_type": "stream",
     "text": [
      "Test set: Average loss: 0.0085, Accuracy: 6189/10000 (61.89%)\n"
     ]
    },
    {
     "name": "stderr",
     "output_type": "stream",
     "text": [
      "EPOCH = 16 | LR = 0.2 | Loss = 1.18 | Batch = 390 | Accuracy = 58.41: 100%|█| 391/391 [00:12<00:00, 31.50it/\n"
     ]
    },
    {
     "name": "stdout",
     "output_type": "stream",
     "text": [
      "Test set: Average loss: 0.0080, Accuracy: 6467/10000 (64.67%)\n"
     ]
    },
    {
     "name": "stderr",
     "output_type": "stream",
     "text": [
      "EPOCH = 17 | LR = 0.2 | Loss = 0.99 | Batch = 390 | Accuracy = 59.13: 100%|█| 391/391 [00:12<00:00, 31.08it/\n"
     ]
    },
    {
     "name": "stdout",
     "output_type": "stream",
     "text": [
      "Test set: Average loss: 0.0081, Accuracy: 6450/10000 (64.50%)\n"
     ]
    },
    {
     "name": "stderr",
     "output_type": "stream",
     "text": [
      "EPOCH = 18 | LR = 0.2 | Loss = 1.47 | Batch = 390 | Accuracy = 59.77: 100%|█| 391/391 [00:12<00:00, 31.02it/\n"
     ]
    },
    {
     "name": "stdout",
     "output_type": "stream",
     "text": [
      "Test set: Average loss: 0.0077, Accuracy: 6567/10000 (65.67%)\n"
     ]
    },
    {
     "name": "stderr",
     "output_type": "stream",
     "text": [
      "EPOCH = 19 | LR = 0.2 | Loss = 1.15 | Batch = 390 | Accuracy = 60.54: 100%|█| 391/391 [00:12<00:00, 31.11it/\n"
     ]
    },
    {
     "name": "stdout",
     "output_type": "stream",
     "text": [
      "Test set: Average loss: 0.0074, Accuracy: 6636/10000 (66.36%)\n"
     ]
    },
    {
     "name": "stderr",
     "output_type": "stream",
     "text": [
      "EPOCH = 20 | LR = 0.2 | Loss = 1.31 | Batch = 390 | Accuracy = 60.70: 100%|█| 391/391 [00:12<00:00, 30.92it/\n"
     ]
    },
    {
     "name": "stdout",
     "output_type": "stream",
     "text": [
      "Test set: Average loss: 0.0074, Accuracy: 6725/10000 (67.25%)\n"
     ]
    }
   ],
   "source": [
    "prev_test_loss = float('inf')\n",
    "\n",
    "optimizer = optim.SGD(model2_removed_mp.parameters(), lr=0.2, momentum=0.9)\n",
    "scheduler = optim.lr_scheduler.ReduceLROnPlateau(optimizer=optimizer,mode='min',factor=0.1,patience=5)\n",
    "criterion = nn.NLLLoss()\n",
    "trainer = Trainer(model2_removed_mp, simple_train_loader, optimizer, criterion, device)\n",
    "tester = Tester(model2_removed_mp, simple_test_loader, criterion, device)\n",
    "\n",
    "for epoch in range(1, 21):\n",
    "    trainer.train(epoch=epoch)\n",
    "    _,test_loss = tester.test()\n",
    "    if prev_test_loss>test_loss:\n",
    "        torch.save(simple_model.state_dict(),'./bmodels/model1_without_mp.pth')\n",
    "    scheduler.step(test_loss)"
   ]
  },
  {
   "cell_type": "code",
   "execution_count": 14,
   "id": "697586f6-8753-4e96-97b1-7217c201842d",
   "metadata": {},
   "outputs": [
    {
     "data": {
      "image/png": "[encoded data removed]",
      "text/plain": [
       "<Figure size 1500x1000 with 4 Axes>"
      ]
     },
     "metadata": {},
     "output_type": "display_data"
    }
   ],
   "source": [
    "plot_curves(trainer.train_losses,trainer.train_accuracies,tester.test_losses,tester.test_accuracies)"
   ]
  },
  {
   "cell_type": "code",
   "execution_count": null,
   "id": "f21d87a1-0f3c-41b5-ab5b-3b1f35bd3d3c",
   "metadata": {},
   "outputs": [],
   "source": []
  },
  {
   "cell_type": "markdown",
   "id": "492dc54c-944f-4bcb-b8d5-3d8cf2d952e0",
   "metadata": {},
   "source": [
    "# Model\n",
    "\n",
    "## normal model ( no conditions apply)\n",
    "\n",
    "## shrink model  (200k params)\n",
    "\n",
    "## remove maxpool but 3 conv\n",
    "\n",
    "## dialated kernels\n",
    "\n",
    "## depth-wise kernel\n",
    "\n",
    "## all depth-wise kernel\n",
    "\n",
    "## apply albumentation"
   ]
  },
  {
   "cell_type": "code",
   "execution_count": null,
   "id": "1f3a5c0a-09ab-46a8-ac9b-c69bb2ffe806",
   "metadata": {},
   "outputs": [],
   "source": []
  },
  {
   "cell_type": "code",
   "execution_count": null,
   "id": "0bd0186e-2d1c-46c5-9d16-adf8dd3072d4",
   "metadata": {},
   "outputs": [],
   "source": []
  }
 ],
 "metadata": {
  "kernelspec": {
   "display_name": "Python 3 (ipykernel)",
   "language": "python",
   "name": "python3"
  },
  "language_info": {
   "codemirror_mode": {
    "name": "ipython",
    "version": 3
   },
   "file_extension": ".py",
   "mimetype": "text/x-python",
   "name": "python",
   "nbconvert_exporter": "python",
   "pygments_lexer": "ipython3",
   "version": "3.11.4"
  }
 },
 "nbformat": 4,
 "nbformat_minor": 5
}
