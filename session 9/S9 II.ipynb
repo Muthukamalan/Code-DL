{
 "cells": [
  {
   "cell_type": "code",
   "execution_count": 1,
   "id": "3cbb910d-ba63-4522-9bc3-be5065efa54b",
   "metadata": {},
   "outputs": [
    {
     "name": "stdout",
     "output_type": "stream",
     "text": [
      "Tue Oct 10 22:07:02 2023       \n",
      "+---------------------------------------------------------------------------------------+\n",
      "| NVIDIA-SMI 536.67                 Driver Version: 536.67       CUDA Version: 12.2     |\n",
      "|-----------------------------------------+----------------------+----------------------+\n",
      "| GPU  Name                     TCC/WDDM  | Bus-Id        Disp.A | Volatile Uncorr. ECC |\n",
      "| Fan  Temp   Perf          Pwr:Usage/Cap |         Memory-Usage | GPU-Util  Compute M. |\n",
      "|                                         |                      |               MIG M. |\n",
      "|=========================================+======================+======================|\n",
      "|   0  NVIDIA GeForce RTX 4050 ...  WDDM  | 00000000:01:00.0 Off |                  N/A |\n",
      "| N/A   41C    P0              17W /  95W |      0MiB /  6141MiB |      0%      Default |\n",
      "|                                         |                      |                  N/A |\n",
      "+-----------------------------------------+----------------------+----------------------+\n",
      "                                                                                         \n",
      "+---------------------------------------------------------------------------------------+\n",
      "| Processes:                                                                            |\n",
      "|  GPU   GI   CI        PID   Type   Process name                            GPU Memory |\n",
      "|        ID   ID                                                             Usage      |\n",
      "|=======================================================================================|\n",
      "|  No running processes found                                                           |\n",
      "+---------------------------------------------------------------------------------------+\n"
     ]
    }
   ],
   "source": [
    "!nvidia-smi"
   ]
  },
  {
   "cell_type": "code",
   "execution_count": 2,
   "id": "a57c779e-bc7c-463c-b3e6-b0a0e607f528",
   "metadata": {},
   "outputs": [],
   "source": [
    "import numpy as np\n",
    "from torch import nn\n",
    "from torch.nn import functional as F\n",
    "import torch\n",
    "from torch import optim\n",
    "from torchvision import datasets,transforms\n",
    "from torchinfo import summary"
   ]
  },
  {
   "cell_type": "code",
   "execution_count": 3,
   "id": "0ca07a56-511b-4c64-ae8b-817b1ec9359f",
   "metadata": {},
   "outputs": [],
   "source": [
    "from transformations import train_transforms,test_transforms"
   ]
  },
  {
   "cell_type": "code",
   "execution_count": 4,
   "id": "6dae444b-7904-4456-8e58-98e20f6b3375",
   "metadata": {},
   "outputs": [],
   "source": [
    "from trainer import Trainer\n",
    "from tester import Tester\n",
    "from utlis import visualize_data,show_misclassified_images,device,is_cuda\n",
    "from viz import plot_class_distribution, plot_confusion_matrix, plot_curves\n",
    "from dataloader import CIFAR10Dataset,CIFAR10DataLoader\n",
    "from models import ConvLayer,TransBlock,DepthwiseConvLayer"
   ]
  },
  {
   "cell_type": "code",
   "execution_count": 5,
   "id": "b03b1999-c6bc-4116-a8b5-8d27ebadc572",
   "metadata": {},
   "outputs": [],
   "source": [
    "# ALbumentation\n",
    "train_dataset = CIFAR10Dataset(root='../data/',train=True,Atransforms=train_transforms,download=False)\n",
    "test_dataset  = CIFAR10Dataset(root='../data/',train=False,Atransforms=test_transforms,download=False)\n",
    "\n",
    "cifar = CIFAR10DataLoader(batch_size=512,is_cuda_available=True)\n",
    "train_loader,test_loader = cifar.get_loader(train_dataset,test_dataset)"
   ]
  },
  {
   "cell_type": "code",
   "execution_count": 6,
   "id": "732b9408-c760-41cc-80ea-38517bc6fcf4",
   "metadata": {},
   "outputs": [],
   "source": [
    "# cifar = CIFAR10DataLoader()\n",
    "# simple_train_loader , simple_test_loader = cifar.get_loader(\n",
    "#     CIFAR10Dataset(root='../data/',train=True,Atransforms=test_transforms,download=False),\n",
    "#     CIFAR10Dataset(root='../data/',train=False,Atransforms=test_transforms,download=False)\n",
    "# )"
   ]
  },
  {
   "cell_type": "code",
   "execution_count": 7,
   "id": "19cf02e0-bfdd-4704-bc0e-a232502a9d0a",
   "metadata": {},
   "outputs": [],
   "source": [
    "# We used this Squeeze-Expand Network before\n",
    "class Net3(nn.Module):\n",
    "    def __init__(self):\n",
    "        super(Net3,self).__init__()\n",
    "        self.dp_rate = 0.1\n",
    "\n",
    "        self.c1 = ConvLayer(inc=3,outc=16,s=1,k=3,p=1,d=1,dp_rate=self.dp_rate)\n",
    "        self.c2 = ConvLayer(inc=16,outc=16,s=1,p=1,k=3,d=1,dp_rate=self.dp_rate)\n",
    "        self.c3 = ConvLayer(inc=16,outc=32,s=2,p=1,d=1,k=3,dp_rate=self.dp_rate)\n",
    "\n",
    "\n",
    "        self.dilated1 = DepthwiseConvLayer(inc=32,outc=32,k=3,s=1,p=1,dp_rate=self.dp_rate)\n",
    "        \n",
    "        self.c4 = ConvLayer(inc=32,outc=40,k=3,s=1,p=1,d=1,dp_rate=self.dp_rate)\n",
    "        self.c5 = ConvLayer(inc=40,outc=40,k=3,s=1,p=1,d=1,dp_rate=self.dp_rate)\n",
    "        self.c6 = ConvLayer(inc=40,outc=40,k=3,s=2,p=1,d=1,dp_rate=self.dp_rate)\n",
    "\n",
    "        self.dilated2 = DepthwiseConvLayer(inc=40,outc=40,k=3,s=1,p=1,dp_rate=self.dp_rate)\n",
    "\n",
    "        \n",
    "        self.c7 = ConvLayer(inc=40,outc=80,k=3,s=1,p=1,d=1,dp_rate=self.dp_rate)\n",
    "        self.c8 = ConvLayer(inc=80,outc=80,k=3,s=1,p=1,d=1,dp_rate=self.dp_rate)\n",
    "        self.c9 = nn.Sequential(\n",
    "            nn.Conv2d(in_channels=80,out_channels=70,kernel_size=3,stride=2,dilation=1,padding=1,bias=False)\n",
    "        )\n",
    "        \n",
    "        self.gap = nn.AdaptiveAvgPool2d(output_size=1)\n",
    "        self.c10 = nn.Conv2d(70,10,kernel_size=1,bias=False)\n",
    "\n",
    "\n",
    "        \n",
    "    def forward(self,x):\n",
    "        x = self.c1(x)\n",
    "        x = x + self.c2(x)\n",
    "        x = self.c3(x)\n",
    "\n",
    "        x = F.dropout2d(\n",
    "                    F.relu_( \n",
    "                        F.batch_norm(\n",
    "                            self.dilated1(x),\n",
    "                            torch.zeros(32,device=device),  # mu=0\n",
    "                            torch.ones(32,device=device),   # ones are fine for first training iter  \n",
    "                            training=True,\n",
    "                            momentum=0.9\n",
    "                        )\n",
    "                    ),p=0.1\n",
    "                )\n",
    "        \n",
    "        \n",
    "        \n",
    "        x = self.c4(x)\n",
    "        x = x+self.c5(x)\n",
    "        x = self.c6(x)\n",
    "\n",
    "        # x =  F.dropout2d(\n",
    "        #             F.relu_( \n",
    "        #                 F.batch_norm(\n",
    "        #                     self.dilated2(x),\n",
    "        #                     torch.zeros(40,device=device),  # mu=0\n",
    "        #                     torch.ones(40,device=device),   # ones are fine for first training iter  \n",
    "        #                     training=True,\n",
    "        #                     momentum=0.9\n",
    "        #                 )\n",
    "        #             ),p=0.1\n",
    "        #         )\n",
    "        \n",
    "        \n",
    "        \n",
    "        \n",
    "        x = self.c7(x)\n",
    "        x = x + self.c8(x)\n",
    "        x = self.c9(x)\n",
    "\n",
    "        x = self.gap(x)\n",
    "        x = self.c10(x)\n",
    "        return F.log_softmax(x.view(-1,10), dim=1)"
   ]
  },
  {
   "cell_type": "code",
   "execution_count": 8,
   "id": "7fdefbd0-c666-44a4-8cbc-abbe1b8c07de",
   "metadata": {
    "scrolled": true
   },
   "outputs": [
    {
     "data": {
      "text/plain": [
       "==========================================================================================\n",
       "Layer (type:depth-idx)                   Output Shape              Param #\n",
       "==========================================================================================\n",
       "Net3                                     [1, 10]                   1,960\n",
       "├─ConvLayer: 1-1                         [1, 16, 32, 32]           --\n",
       "│    └─Sequential: 2-1                   [1, 16, 32, 32]           --\n",
       "│    │    └─Conv2d: 3-1                  [1, 16, 32, 32]           432\n",
       "│    │    └─BatchNorm2d: 3-2             [1, 16, 32, 32]           32\n",
       "│    │    └─ReLU: 3-3                    [1, 16, 32, 32]           --\n",
       "│    │    └─Dropout2d: 3-4               [1, 16, 32, 32]           --\n",
       "├─ConvLayer: 1-2                         [1, 16, 32, 32]           --\n",
       "│    └─Sequential: 2-2                   [1, 16, 32, 32]           --\n",
       "│    │    └─Conv2d: 3-5                  [1, 16, 32, 32]           2,304\n",
       "│    │    └─BatchNorm2d: 3-6             [1, 16, 32, 32]           32\n",
       "│    │    └─ReLU: 3-7                    [1, 16, 32, 32]           --\n",
       "│    │    └─Dropout2d: 3-8               [1, 16, 32, 32]           --\n",
       "├─ConvLayer: 1-3                         [1, 32, 16, 16]           --\n",
       "│    └─Sequential: 2-3                   [1, 32, 16, 16]           --\n",
       "│    │    └─Conv2d: 3-9                  [1, 32, 16, 16]           4,608\n",
       "│    │    └─BatchNorm2d: 3-10            [1, 32, 16, 16]           64\n",
       "│    │    └─ReLU: 3-11                   [1, 32, 16, 16]           --\n",
       "│    │    └─Dropout2d: 3-12              [1, 32, 16, 16]           --\n",
       "├─DepthwiseConvLayer: 1-4                [1, 32, 18, 18]           --\n",
       "│    └─Sequential: 2-4                   [1, 32, 18, 18]           --\n",
       "│    │    └─Conv2d: 3-13                 [1, 32, 16, 16]           288\n",
       "│    │    └─Conv2d: 3-14                 [1, 32, 18, 18]           1,024\n",
       "├─ConvLayer: 1-5                         [1, 40, 18, 18]           --\n",
       "│    └─Sequential: 2-5                   [1, 40, 18, 18]           --\n",
       "│    │    └─Conv2d: 3-15                 [1, 40, 18, 18]           11,520\n",
       "│    │    └─BatchNorm2d: 3-16            [1, 40, 18, 18]           80\n",
       "│    │    └─ReLU: 3-17                   [1, 40, 18, 18]           --\n",
       "│    │    └─Dropout2d: 3-18              [1, 40, 18, 18]           --\n",
       "├─ConvLayer: 1-6                         [1, 40, 18, 18]           --\n",
       "│    └─Sequential: 2-6                   [1, 40, 18, 18]           --\n",
       "│    │    └─Conv2d: 3-19                 [1, 40, 18, 18]           14,400\n",
       "│    │    └─BatchNorm2d: 3-20            [1, 40, 18, 18]           80\n",
       "│    │    └─ReLU: 3-21                   [1, 40, 18, 18]           --\n",
       "│    │    └─Dropout2d: 3-22              [1, 40, 18, 18]           --\n",
       "├─ConvLayer: 1-7                         [1, 40, 9, 9]             --\n",
       "│    └─Sequential: 2-7                   [1, 40, 9, 9]             --\n",
       "│    │    └─Conv2d: 3-23                 [1, 40, 9, 9]             14,400\n",
       "│    │    └─BatchNorm2d: 3-24            [1, 40, 9, 9]             80\n",
       "│    │    └─ReLU: 3-25                   [1, 40, 9, 9]             --\n",
       "│    │    └─Dropout2d: 3-26              [1, 40, 9, 9]             --\n",
       "├─ConvLayer: 1-8                         [1, 80, 9, 9]             --\n",
       "│    └─Sequential: 2-8                   [1, 80, 9, 9]             --\n",
       "│    │    └─Conv2d: 3-27                 [1, 80, 9, 9]             28,800\n",
       "│    │    └─BatchNorm2d: 3-28            [1, 80, 9, 9]             160\n",
       "│    │    └─ReLU: 3-29                   [1, 80, 9, 9]             --\n",
       "│    │    └─Dropout2d: 3-30              [1, 80, 9, 9]             --\n",
       "├─ConvLayer: 1-9                         [1, 80, 9, 9]             --\n",
       "│    └─Sequential: 2-9                   [1, 80, 9, 9]             --\n",
       "│    │    └─Conv2d: 3-31                 [1, 80, 9, 9]             57,600\n",
       "│    │    └─BatchNorm2d: 3-32            [1, 80, 9, 9]             160\n",
       "│    │    └─ReLU: 3-33                   [1, 80, 9, 9]             --\n",
       "│    │    └─Dropout2d: 3-34              [1, 80, 9, 9]             --\n",
       "├─Sequential: 1-10                       [1, 70, 5, 5]             --\n",
       "│    └─Conv2d: 2-10                      [1, 70, 5, 5]             50,400\n",
       "├─AdaptiveAvgPool2d: 1-11                [1, 70, 1, 1]             --\n",
       "├─Conv2d: 1-12                           [1, 10, 1, 1]             700\n",
       "==========================================================================================\n",
       "Total params: 189,124\n",
       "Trainable params: 189,124\n",
       "Non-trainable params: 0\n",
       "Total mult-adds (Units.MEGABYTES): 22.21\n",
       "==========================================================================================\n",
       "Input size (MB): 0.01\n",
       "Forward/backward pass size (MB): 1.49\n",
       "Params size (MB): 0.75\n",
       "Estimated Total Size (MB): 2.25\n",
       "=========================================================================================="
      ]
     },
     "execution_count": 8,
     "metadata": {},
     "output_type": "execute_result"
    }
   ],
   "source": [
    "model2 = Net3().to(device)\n",
    "summary(model2,(1,3,32,32))"
   ]
  },
  {
   "cell_type": "code",
   "execution_count": 9,
   "id": "326e1246-de51-460c-a98a-a9618ff1ff3f",
   "metadata": {
    "scrolled": true
   },
   "outputs": [
    {
     "name": "stderr",
     "output_type": "stream",
     "text": [
      "EPOCH = 1 | LR = 0.15 | Loss = 1.85 | Batch = 97 | Accuracy = 22.66: 100%|███████████████████████████████████████████████████████████████| 98/98 [00:29<00:00,  3.31it/s]\n"
     ]
    },
    {
     "name": "stdout",
     "output_type": "stream",
     "text": [
      "Test set: Average loss: 0.0036, Accuracy: 3050/10000 (30.50%)\n"
     ]
    },
    {
     "name": "stderr",
     "output_type": "stream",
     "text": [
      "EPOCH = 2 | LR = 0.15 | Loss = 1.83 | Batch = 97 | Accuracy = 31.09: 100%|███████████████████████████████████████████████████████████████| 98/98 [00:27<00:00,  3.56it/s]\n"
     ]
    },
    {
     "name": "stdout",
     "output_type": "stream",
     "text": [
      "Test set: Average loss: 0.0032, Accuracy: 4004/10000 (40.04%)\n"
     ]
    },
    {
     "name": "stderr",
     "output_type": "stream",
     "text": [
      "EPOCH = 3 | LR = 0.15 | Loss = 1.80 | Batch = 97 | Accuracy = 35.85: 100%|███████████████████████████████████████████████████████████████| 98/98 [00:28<00:00,  3.45it/s]\n"
     ]
    },
    {
     "name": "stdout",
     "output_type": "stream",
     "text": [
      "Test set: Average loss: 0.0030, Accuracy: 4266/10000 (42.66%)\n"
     ]
    },
    {
     "name": "stderr",
     "output_type": "stream",
     "text": [
      "EPOCH = 4 | LR = 0.15 | Loss = 1.66 | Batch = 97 | Accuracy = 38.68: 100%|███████████████████████████████████████████████████████████████| 98/98 [00:28<00:00,  3.49it/s]\n"
     ]
    },
    {
     "name": "stdout",
     "output_type": "stream",
     "text": [
      "Test set: Average loss: 0.0029, Accuracy: 4643/10000 (46.43%)\n"
     ]
    },
    {
     "name": "stderr",
     "output_type": "stream",
     "text": [
      "EPOCH = 5 | LR = 0.15 | Loss = 1.53 | Batch = 97 | Accuracy = 41.36: 100%|███████████████████████████████████████████████████████████████| 98/98 [00:27<00:00,  3.53it/s]\n"
     ]
    },
    {
     "name": "stdout",
     "output_type": "stream",
     "text": [
      "Test set: Average loss: 0.0027, Accuracy: 4908/10000 (49.08%)\n"
     ]
    },
    {
     "name": "stderr",
     "output_type": "stream",
     "text": [
      "EPOCH = 6 | LR = 0.15 | Loss = 1.54 | Batch = 97 | Accuracy = 42.99: 100%|███████████████████████████████████████████████████████████████| 98/98 [00:27<00:00,  3.51it/s]\n"
     ]
    },
    {
     "name": "stdout",
     "output_type": "stream",
     "text": [
      "Test set: Average loss: 0.0028, Accuracy: 4854/10000 (48.54%)\n"
     ]
    },
    {
     "name": "stderr",
     "output_type": "stream",
     "text": [
      "EPOCH = 7 | LR = 0.15 | Loss = 1.58 | Batch = 97 | Accuracy = 44.88: 100%|███████████████████████████████████████████████████████████████| 98/98 [00:27<00:00,  3.53it/s]\n"
     ]
    },
    {
     "name": "stdout",
     "output_type": "stream",
     "text": [
      "Test set: Average loss: 0.0025, Accuracy: 5348/10000 (53.48%)\n"
     ]
    },
    {
     "name": "stderr",
     "output_type": "stream",
     "text": [
      "EPOCH = 8 | LR = 0.15 | Loss = 1.49 | Batch = 97 | Accuracy = 46.55: 100%|███████████████████████████████████████████████████████████████| 98/98 [00:27<00:00,  3.51it/s]\n"
     ]
    },
    {
     "name": "stdout",
     "output_type": "stream",
     "text": [
      "Test set: Average loss: 0.0025, Accuracy: 5523/10000 (55.23%)\n"
     ]
    },
    {
     "name": "stderr",
     "output_type": "stream",
     "text": [
      "EPOCH = 9 | LR = 0.15 | Loss = 1.36 | Batch = 97 | Accuracy = 47.57: 100%|███████████████████████████████████████████████████████████████| 98/98 [00:28<00:00,  3.48it/s]\n"
     ]
    },
    {
     "name": "stdout",
     "output_type": "stream",
     "text": [
      "Test set: Average loss: 0.0024, Accuracy: 5760/10000 (57.60%)\n"
     ]
    },
    {
     "name": "stderr",
     "output_type": "stream",
     "text": [
      "EPOCH = 10 | LR = 0.15 | Loss = 1.40 | Batch = 97 | Accuracy = 48.78: 100%|██████████████████████████████████████████████████████████████| 98/98 [00:28<00:00,  3.42it/s]\n"
     ]
    },
    {
     "name": "stdout",
     "output_type": "stream",
     "text": [
      "Test set: Average loss: 0.0022, Accuracy: 5964/10000 (59.64%)\n"
     ]
    },
    {
     "name": "stderr",
     "output_type": "stream",
     "text": [
      "EPOCH = 11 | LR = 0.15 | Loss = 1.35 | Batch = 97 | Accuracy = 50.37: 100%|██████████████████████████████████████████████████████████████| 98/98 [00:28<00:00,  3.39it/s]\n"
     ]
    },
    {
     "name": "stdout",
     "output_type": "stream",
     "text": [
      "Test set: Average loss: 0.0021, Accuracy: 6177/10000 (61.77%)\n"
     ]
    },
    {
     "name": "stderr",
     "output_type": "stream",
     "text": [
      "EPOCH = 12 | LR = 0.15 | Loss = 1.38 | Batch = 97 | Accuracy = 51.37: 100%|██████████████████████████████████████████████████████████████| 98/98 [00:29<00:00,  3.32it/s]\n"
     ]
    },
    {
     "name": "stdout",
     "output_type": "stream",
     "text": [
      "Test set: Average loss: 0.0021, Accuracy: 6225/10000 (62.25%)\n"
     ]
    },
    {
     "name": "stderr",
     "output_type": "stream",
     "text": [
      "EPOCH = 13 | LR = 0.15 | Loss = 1.27 | Batch = 97 | Accuracy = 52.39: 100%|██████████████████████████████████████████████████████████████| 98/98 [00:29<00:00,  3.36it/s]\n"
     ]
    },
    {
     "name": "stdout",
     "output_type": "stream",
     "text": [
      "Test set: Average loss: 0.0020, Accuracy: 6377/10000 (63.77%)\n"
     ]
    },
    {
     "name": "stderr",
     "output_type": "stream",
     "text": [
      "EPOCH = 14 | LR = 0.15 | Loss = 1.35 | Batch = 97 | Accuracy = 53.54: 100%|██████████████████████████████████████████████████████████████| 98/98 [00:28<00:00,  3.41it/s]\n"
     ]
    },
    {
     "name": "stdout",
     "output_type": "stream",
     "text": [
      "Test set: Average loss: 0.0021, Accuracy: 6249/10000 (62.49%)\n"
     ]
    },
    {
     "name": "stderr",
     "output_type": "stream",
     "text": [
      "EPOCH = 15 | LR = 0.15 | Loss = 1.19 | Batch = 97 | Accuracy = 54.10: 100%|██████████████████████████████████████████████████████████████| 98/98 [00:28<00:00,  3.44it/s]\n"
     ]
    },
    {
     "name": "stdout",
     "output_type": "stream",
     "text": [
      "Test set: Average loss: 0.0019, Accuracy: 6549/10000 (65.49%)\n"
     ]
    },
    {
     "name": "stderr",
     "output_type": "stream",
     "text": [
      "EPOCH = 16 | LR = 0.15 | Loss = 1.19 | Batch = 97 | Accuracy = 55.23: 100%|██████████████████████████████████████████████████████████████| 98/98 [00:30<00:00,  3.17it/s]\n"
     ]
    },
    {
     "name": "stdout",
     "output_type": "stream",
     "text": [
      "Test set: Average loss: 0.0019, Accuracy: 6653/10000 (66.53%)\n"
     ]
    },
    {
     "name": "stderr",
     "output_type": "stream",
     "text": [
      "EPOCH = 17 | LR = 0.15 | Loss = 1.22 | Batch = 97 | Accuracy = 56.46: 100%|██████████████████████████████████████████████████████████████| 98/98 [00:28<00:00,  3.48it/s]\n"
     ]
    },
    {
     "name": "stdout",
     "output_type": "stream",
     "text": [
      "Test set: Average loss: 0.0018, Accuracy: 6793/10000 (67.93%)\n"
     ]
    },
    {
     "name": "stderr",
     "output_type": "stream",
     "text": [
      "EPOCH = 18 | LR = 0.15 | Loss = 1.30 | Batch = 97 | Accuracy = 56.45: 100%|██████████████████████████████████████████████████████████████| 98/98 [00:28<00:00,  3.43it/s]\n"
     ]
    },
    {
     "name": "stdout",
     "output_type": "stream",
     "text": [
      "Test set: Average loss: 0.0018, Accuracy: 6871/10000 (68.71%)\n"
     ]
    },
    {
     "name": "stderr",
     "output_type": "stream",
     "text": [
      "EPOCH = 19 | LR = 0.15 | Loss = 1.15 | Batch = 97 | Accuracy = 57.45: 100%|██████████████████████████████████████████████████████████████| 98/98 [00:28<00:00,  3.46it/s]\n"
     ]
    },
    {
     "name": "stdout",
     "output_type": "stream",
     "text": [
      "Test set: Average loss: 0.0017, Accuracy: 6921/10000 (69.21%)\n"
     ]
    },
    {
     "name": "stderr",
     "output_type": "stream",
     "text": [
      "EPOCH = 20 | LR = 0.15 | Loss = 1.16 | Batch = 97 | Accuracy = 57.56: 100%|██████████████████████████████████████████████████████████████| 98/98 [00:28<00:00,  3.42it/s]\n"
     ]
    },
    {
     "name": "stdout",
     "output_type": "stream",
     "text": [
      "Test set: Average loss: 0.0018, Accuracy: 6924/10000 (69.24%)\n"
     ]
    },
    {
     "name": "stderr",
     "output_type": "stream",
     "text": [
      "EPOCH = 21 | LR = 0.15 | Loss = 1.17 | Batch = 97 | Accuracy = 58.35: 100%|██████████████████████████████████████████████████████████████| 98/98 [00:28<00:00,  3.41it/s]\n"
     ]
    },
    {
     "name": "stdout",
     "output_type": "stream",
     "text": [
      "Test set: Average loss: 0.0017, Accuracy: 7036/10000 (70.36%)\n"
     ]
    },
    {
     "name": "stderr",
     "output_type": "stream",
     "text": [
      "EPOCH = 22 | LR = 0.15 | Loss = 1.24 | Batch = 97 | Accuracy = 58.91: 100%|██████████████████████████████████████████████████████████████| 98/98 [00:28<00:00,  3.45it/s]\n"
     ]
    },
    {
     "name": "stdout",
     "output_type": "stream",
     "text": [
      "Test set: Average loss: 0.0017, Accuracy: 7087/10000 (70.87%)\n"
     ]
    },
    {
     "name": "stderr",
     "output_type": "stream",
     "text": [
      "EPOCH = 23 | LR = 0.15 | Loss = 1.08 | Batch = 97 | Accuracy = 59.32: 100%|██████████████████████████████████████████████████████████████| 98/98 [00:28<00:00,  3.47it/s]\n"
     ]
    },
    {
     "name": "stdout",
     "output_type": "stream",
     "text": [
      "Test set: Average loss: 0.0016, Accuracy: 7188/10000 (71.88%)\n"
     ]
    },
    {
     "name": "stderr",
     "output_type": "stream",
     "text": [
      "EPOCH = 24 | LR = 0.15 | Loss = 1.15 | Batch = 97 | Accuracy = 59.67: 100%|██████████████████████████████████████████████████████████████| 98/98 [00:28<00:00,  3.42it/s]\n"
     ]
    },
    {
     "name": "stdout",
     "output_type": "stream",
     "text": [
      "Test set: Average loss: 0.0016, Accuracy: 7257/10000 (72.57%)\n"
     ]
    },
    {
     "name": "stderr",
     "output_type": "stream",
     "text": [
      "EPOCH = 25 | LR = 0.15 | Loss = 1.26 | Batch = 97 | Accuracy = 59.97: 100%|██████████████████████████████████████████████████████████████| 98/98 [00:29<00:00,  3.35it/s]\n"
     ]
    },
    {
     "name": "stdout",
     "output_type": "stream",
     "text": [
      "Test set: Average loss: 0.0016, Accuracy: 7242/10000 (72.42%)\n"
     ]
    },
    {
     "name": "stderr",
     "output_type": "stream",
     "text": [
      "EPOCH = 26 | LR = 0.15 | Loss = 1.12 | Batch = 97 | Accuracy = 60.13: 100%|██████████████████████████████████████████████████████████████| 98/98 [00:28<00:00,  3.48it/s]\n"
     ]
    },
    {
     "name": "stdout",
     "output_type": "stream",
     "text": [
      "Test set: Average loss: 0.0016, Accuracy: 7210/10000 (72.10%)\n"
     ]
    },
    {
     "name": "stderr",
     "output_type": "stream",
     "text": [
      "EPOCH = 27 | LR = 0.15 | Loss = 1.14 | Batch = 97 | Accuracy = 60.73: 100%|██████████████████████████████████████████████████████████████| 98/98 [00:27<00:00,  3.53it/s]\n"
     ]
    },
    {
     "name": "stdout",
     "output_type": "stream",
     "text": [
      "Test set: Average loss: 0.0015, Accuracy: 7303/10000 (73.03%)\n"
     ]
    },
    {
     "name": "stderr",
     "output_type": "stream",
     "text": [
      "EPOCH = 28 | LR = 0.15 | Loss = 1.02 | Batch = 97 | Accuracy = 60.58: 100%|██████████████████████████████████████████████████████████████| 98/98 [00:28<00:00,  3.42it/s]\n"
     ]
    },
    {
     "name": "stdout",
     "output_type": "stream",
     "text": [
      "Test set: Average loss: 0.0015, Accuracy: 7370/10000 (73.70%)\n"
     ]
    },
    {
     "name": "stderr",
     "output_type": "stream",
     "text": [
      "EPOCH = 29 | LR = 0.15 | Loss = 1.05 | Batch = 97 | Accuracy = 61.20: 100%|██████████████████████████████████████████████████████████████| 98/98 [00:28<00:00,  3.43it/s]\n"
     ]
    },
    {
     "name": "stdout",
     "output_type": "stream",
     "text": [
      "Test set: Average loss: 0.0015, Accuracy: 7382/10000 (73.82%)\n"
     ]
    },
    {
     "name": "stderr",
     "output_type": "stream",
     "text": [
      "EPOCH = 30 | LR = 0.15 | Loss = 0.97 | Batch = 97 | Accuracy = 61.42: 100%|██████████████████████████████████████████████████████████████| 98/98 [00:29<00:00,  3.31it/s]\n"
     ]
    },
    {
     "name": "stdout",
     "output_type": "stream",
     "text": [
      "Test set: Average loss: 0.0015, Accuracy: 7359/10000 (73.59%)\n"
     ]
    },
    {
     "name": "stderr",
     "output_type": "stream",
     "text": [
      "EPOCH = 31 | LR = 0.15 | Loss = 1.18 | Batch = 97 | Accuracy = 61.64: 100%|██████████████████████████████████████████████████████████████| 98/98 [00:28<00:00,  3.43it/s]\n"
     ]
    },
    {
     "name": "stdout",
     "output_type": "stream",
     "text": [
      "Test set: Average loss: 0.0015, Accuracy: 7423/10000 (74.23%)\n"
     ]
    },
    {
     "name": "stderr",
     "output_type": "stream",
     "text": [
      "EPOCH = 32 | LR = 0.15 | Loss = 1.10 | Batch = 97 | Accuracy = 62.10: 100%|██████████████████████████████████████████████████████████████| 98/98 [00:28<00:00,  3.41it/s]\n"
     ]
    },
    {
     "name": "stdout",
     "output_type": "stream",
     "text": [
      "Test set: Average loss: 0.0015, Accuracy: 7469/10000 (74.69%)\n"
     ]
    },
    {
     "name": "stderr",
     "output_type": "stream",
     "text": [
      "EPOCH = 33 | LR = 0.15 | Loss = 1.10 | Batch = 97 | Accuracy = 62.64: 100%|██████████████████████████████████████████████████████████████| 98/98 [00:29<00:00,  3.29it/s]\n"
     ]
    },
    {
     "name": "stdout",
     "output_type": "stream",
     "text": [
      "Test set: Average loss: 0.0015, Accuracy: 7453/10000 (74.53%)\n"
     ]
    },
    {
     "name": "stderr",
     "output_type": "stream",
     "text": [
      "EPOCH = 34 | LR = 0.15 | Loss = 1.08 | Batch = 97 | Accuracy = 62.89: 100%|██████████████████████████████████████████████████████████████| 98/98 [00:28<00:00,  3.38it/s]\n"
     ]
    },
    {
     "name": "stdout",
     "output_type": "stream",
     "text": [
      "Test set: Average loss: 0.0015, Accuracy: 7402/10000 (74.02%)\n"
     ]
    },
    {
     "name": "stderr",
     "output_type": "stream",
     "text": [
      "EPOCH = 35 | LR = 0.15 | Loss = 1.16 | Batch = 97 | Accuracy = 62.77: 100%|██████████████████████████████████████████████████████████████| 98/98 [00:29<00:00,  3.34it/s]\n"
     ]
    },
    {
     "name": "stdout",
     "output_type": "stream",
     "text": [
      "Test set: Average loss: 0.0014, Accuracy: 7553/10000 (75.53%)\n"
     ]
    },
    {
     "name": "stderr",
     "output_type": "stream",
     "text": [
      "EPOCH = 36 | LR = 0.15 | Loss = 1.06 | Batch = 97 | Accuracy = 63.07: 100%|██████████████████████████████████████████████████████████████| 98/98 [00:28<00:00,  3.39it/s]\n"
     ]
    },
    {
     "name": "stdout",
     "output_type": "stream",
     "text": [
      "Test set: Average loss: 0.0014, Accuracy: 7512/10000 (75.12%)\n"
     ]
    },
    {
     "name": "stderr",
     "output_type": "stream",
     "text": [
      "EPOCH = 37 | LR = 0.15 | Loss = 0.98 | Batch = 97 | Accuracy = 63.25: 100%|██████████████████████████████████████████████████████████████| 98/98 [00:28<00:00,  3.40it/s]\n"
     ]
    },
    {
     "name": "stdout",
     "output_type": "stream",
     "text": [
      "Test set: Average loss: 0.0014, Accuracy: 7537/10000 (75.37%)\n"
     ]
    },
    {
     "name": "stderr",
     "output_type": "stream",
     "text": [
      "EPOCH = 38 | LR = 0.15 | Loss = 0.98 | Batch = 97 | Accuracy = 63.38: 100%|██████████████████████████████████████████████████████████████| 98/98 [00:29<00:00,  3.29it/s]\n"
     ]
    },
    {
     "name": "stdout",
     "output_type": "stream",
     "text": [
      "Test set: Average loss: 0.0014, Accuracy: 7592/10000 (75.92%)\n"
     ]
    },
    {
     "name": "stderr",
     "output_type": "stream",
     "text": [
      "EPOCH = 39 | LR = 0.15 | Loss = 0.99 | Batch = 97 | Accuracy = 63.23: 100%|██████████████████████████████████████████████████████████████| 98/98 [00:29<00:00,  3.37it/s]\n"
     ]
    },
    {
     "name": "stdout",
     "output_type": "stream",
     "text": [
      "Test set: Average loss: 0.0014, Accuracy: 7583/10000 (75.83%)\n"
     ]
    },
    {
     "name": "stderr",
     "output_type": "stream",
     "text": [
      "EPOCH = 40 | LR = 0.15 | Loss = 1.08 | Batch = 97 | Accuracy = 63.53: 100%|██████████████████████████████████████████████████████████████| 98/98 [00:27<00:00,  3.51it/s]\n"
     ]
    },
    {
     "name": "stdout",
     "output_type": "stream",
     "text": [
      "Test set: Average loss: 0.0014, Accuracy: 7605/10000 (76.05%)\n"
     ]
    },
    {
     "name": "stderr",
     "output_type": "stream",
     "text": [
      "EPOCH = 41 | LR = 0.15 | Loss = 1.03 | Batch = 97 | Accuracy = 63.64: 100%|██████████████████████████████████████████████████████████████| 98/98 [00:27<00:00,  3.51it/s]\n"
     ]
    },
    {
     "name": "stdout",
     "output_type": "stream",
     "text": [
      "Test set: Average loss: 0.0014, Accuracy: 7646/10000 (76.46%)\n"
     ]
    },
    {
     "name": "stderr",
     "output_type": "stream",
     "text": [
      "EPOCH = 42 | LR = 0.15 | Loss = 0.93 | Batch = 97 | Accuracy = 63.58: 100%|██████████████████████████████████████████████████████████████| 98/98 [00:28<00:00,  3.43it/s]\n"
     ]
    },
    {
     "name": "stdout",
     "output_type": "stream",
     "text": [
      "Test set: Average loss: 0.0014, Accuracy: 7554/10000 (75.54%)\n"
     ]
    },
    {
     "name": "stderr",
     "output_type": "stream",
     "text": [
      "EPOCH = 43 | LR = 0.15 | Loss = 0.97 | Batch = 97 | Accuracy = 64.05: 100%|██████████████████████████████████████████████████████████████| 98/98 [00:28<00:00,  3.38it/s]\n"
     ]
    },
    {
     "name": "stdout",
     "output_type": "stream",
     "text": [
      "Test set: Average loss: 0.0014, Accuracy: 7645/10000 (76.45%)\n"
     ]
    },
    {
     "name": "stderr",
     "output_type": "stream",
     "text": [
      "EPOCH = 44 | LR = 0.15 | Loss = 1.07 | Batch = 97 | Accuracy = 64.44: 100%|██████████████████████████████████████████████████████████████| 98/98 [00:29<00:00,  3.34it/s]\n"
     ]
    },
    {
     "name": "stdout",
     "output_type": "stream",
     "text": [
      "Test set: Average loss: 0.0014, Accuracy: 7596/10000 (75.96%)\n"
     ]
    },
    {
     "name": "stderr",
     "output_type": "stream",
     "text": [
      "EPOCH = 45 | LR = 0.15 | Loss = 1.00 | Batch = 97 | Accuracy = 64.18: 100%|██████████████████████████████████████████████████████████████| 98/98 [00:29<00:00,  3.29it/s]\n"
     ]
    },
    {
     "name": "stdout",
     "output_type": "stream",
     "text": [
      "Test set: Average loss: 0.0013, Accuracy: 7659/10000 (76.59%)\n"
     ]
    },
    {
     "name": "stderr",
     "output_type": "stream",
     "text": [
      "EPOCH = 46 | LR = 0.15 | Loss = 1.04 | Batch = 97 | Accuracy = 64.71: 100%|██████████████████████████████████████████████████████████████| 98/98 [00:29<00:00,  3.35it/s]\n"
     ]
    },
    {
     "name": "stdout",
     "output_type": "stream",
     "text": [
      "Test set: Average loss: 0.0013, Accuracy: 7700/10000 (77.00%)\n"
     ]
    },
    {
     "name": "stderr",
     "output_type": "stream",
     "text": [
      "EPOCH = 47 | LR = 0.15 | Loss = 1.00 | Batch = 97 | Accuracy = 64.58: 100%|██████████████████████████████████████████████████████████████| 98/98 [00:29<00:00,  3.29it/s]\n"
     ]
    },
    {
     "name": "stdout",
     "output_type": "stream",
     "text": [
      "Test set: Average loss: 0.0013, Accuracy: 7693/10000 (76.93%)\n"
     ]
    },
    {
     "name": "stderr",
     "output_type": "stream",
     "text": [
      "EPOCH = 48 | LR = 0.15 | Loss = 1.01 | Batch = 97 | Accuracy = 64.67: 100%|██████████████████████████████████████████████████████████████| 98/98 [00:29<00:00,  3.30it/s]\n"
     ]
    },
    {
     "name": "stdout",
     "output_type": "stream",
     "text": [
      "Test set: Average loss: 0.0014, Accuracy: 7620/10000 (76.20%)\n"
     ]
    },
    {
     "name": "stderr",
     "output_type": "stream",
     "text": [
      "EPOCH = 49 | LR = 0.15 | Loss = 0.97 | Batch = 97 | Accuracy = 64.96: 100%|██████████████████████████████████████████████████████████████| 98/98 [00:29<00:00,  3.27it/s]\n"
     ]
    },
    {
     "name": "stdout",
     "output_type": "stream",
     "text": [
      "Test set: Average loss: 0.0013, Accuracy: 7722/10000 (77.22%)\n"
     ]
    },
    {
     "name": "stderr",
     "output_type": "stream",
     "text": [
      "EPOCH = 50 | LR = 0.15 | Loss = 0.89 | Batch = 97 | Accuracy = 65.13: 100%|██████████████████████████████████████████████████████████████| 98/98 [00:29<00:00,  3.32it/s]\n"
     ]
    },
    {
     "name": "stdout",
     "output_type": "stream",
     "text": [
      "Test set: Average loss: 0.0013, Accuracy: 7679/10000 (76.79%)\n"
     ]
    }
   ],
   "source": [
    "prev_test_loss = float('inf')\n",
    "\n",
    "optimizer = optim.SGD(model2.parameters(), lr=0.15, momentum=0.9)\n",
    "scheduler = optim.lr_scheduler.ReduceLROnPlateau(optimizer=optimizer,mode='min',factor=0.1,patience=3)\n",
    "criterion = nn.NLLLoss()\n",
    "trainer = Trainer(model2, train_loader, optimizer, criterion, device)\n",
    "tester = Tester(model2, test_loader, criterion, device)\n",
    "\n",
    "for epoch in range(1, 51):\n",
    "    trainer.train(epoch=epoch)\n",
    "    _,test_loss = tester.test()\n",
    "    if prev_test_loss>test_loss:\n",
    "        torch.save(model2.state_dict(),'./bmodels/simple_model_with_mp_rf44_resnet_dil_depthwise_conv.pth')\n",
    "    scheduler.step(test_loss)"
   ]
  },
  {
   "cell_type": "code",
   "execution_count": 10,
   "id": "3687d94c-174f-48c8-b78a-09ddf9bd63da",
   "metadata": {},
   "outputs": [
    {
     "data": {
      "image/png": "[encoded data removed]",
      "text/plain": [
       "<Figure size 1500x1000 with 4 Axes>"
      ]
     },
     "metadata": {},
     "output_type": "display_data"
    }
   ],
   "source": [
    "plot_curves(trainer.train_losses,trainer.train_accuracies,tester.test_losses,tester.test_accuracies)"
   ]
  },
  {
   "cell_type": "code",
   "execution_count": null,
   "id": "a2258c8d-be08-4ed2-8cde-df195492fd90",
   "metadata": {},
   "outputs": [],
   "source": []
  },
  {
   "cell_type": "markdown",
   "id": "74383358-3302-4c55-9216-a624e09494e1",
   "metadata": {},
   "source": [
    "# Dilated Kernels implementation"
   ]
  },
  {
   "cell_type": "code",
   "execution_count": 11,
   "id": "56ebb8df-1854-4b39-8715-cb19a7352c75",
   "metadata": {},
   "outputs": [],
   "source": [
    "class Net(nn.Module):\n",
    "    def __init__(self,dp_rate):\n",
    "        super(Net,self).__init__()\n",
    "        self.dp_rate = dp_rate\n",
    "        \n",
    "        self.c1 = nn.Sequential(\n",
    "            ConvLayer(inc=3,outc=14,k=3,p=1,s=1,d=1,dp_rate=self.dp_rate),\n",
    "            ConvLayer(inc=14,outc=14,k=3,p=1,s=1,d=1,dp_rate=self.dp_rate),\n",
    "            ConvLayer(inc=14,outc=16,k=3,p=1,s=1,d=1,dp_rate=self.dp_rate)\n",
    "        )\n",
    "\n",
    "        self.c2 = nn.Sequential(\n",
    "            ConvLayer(inc=16,outc=28,k=3,p=1,d=1,s=1,dp_rate=self.dp_rate),\n",
    "            ConvLayer(inc=28,outc=28,k=3,p=0,s=1,d=1,dp_rate=self.dp_rate)\n",
    "        )\n",
    "        self.c3DiL = nn.Sequential(\n",
    "            ConvLayer(inc=16,outc=28,s=1,p=1,d=2,k=3,dp_rate=self.dp_rate),\n",
    "        )\n",
    "\n",
    "\n",
    "        self.c4 = nn.Sequential(\n",
    "            ConvLayer(inc=28,outc=32,k=3,p=1,s=1,d=1,dp_rate=self.dp_rate),\n",
    "            ConvLayer(inc=32,outc=32,k=3,p=0,s=1,d=1,dp_rate=self.dp_rate),\n",
    "        )\n",
    "\n",
    "\n",
    "        self.c5DiL = nn.Sequential(\n",
    "            ConvLayer(inc=28,outc=32,k=3,d=2,p=1,dp_rate=self.dp_rate,s=1)\n",
    "        )\n",
    "\n",
    "        self.c6 = nn.Sequential(\n",
    "            ConvLayer(inc=32,outc=38,k=3,p=0,dp_rate=self.dp_rate,s=1,d=1),\n",
    "            ConvLayer(inc=38,outc=42,k=3,p=0,dp_rate=self.dp_rate,s=1,d=1),\n",
    "            ConvLayer(inc=42,outc=52,k=3,p=0,dp_rate=self.dp_rate,s=1,d=1),\n",
    "            ConvLayer(inc=52,outc=60,k=3,p=0,dp_rate=self.dp_rate,s=1,d=1)\n",
    "        )\n",
    "\n",
    "        self.C7DiL = nn.Sequential(\n",
    "            ConvLayer(inc=32,outc=36,k=3,p=1,dp_rate=self.dp_rate,s=1,d=2),\n",
    "            ConvLayer(inc=36,outc=42,k=3,p=1,dp_rate=self.dp_rate,s=1,d=2),\n",
    "            ConvLayer(inc=42,outc=52,k=3,p=1,dp_rate=self.dp_rate,s=1,d=2),\n",
    "            ConvLayer(inc=52,outc=60,k=3,p=1,dp_rate=self.dp_rate,s=1,d=2)\n",
    "        )\n",
    "\n",
    "        self.dilated = DepthwiseConvLayer(inc=28,outc=28,k=3,s=1,p=1,dp_rate=self.dp_rate)\n",
    "\n",
    "        \n",
    "        self.gap = nn.AdaptiveAvgPool2d(output_size=1)\n",
    "        self.out = nn.Conv2d(in_channels=60,out_channels=10,kernel_size=1,bias=False)\n",
    "    \n",
    "    def forward(self,x):\n",
    "\n",
    "        # BLOCK ONE\n",
    "        x = self.c1(x)\n",
    "        path1 = self.c2(x)\n",
    "        path2 = F.dropout2d(\n",
    "                    F.relu_( \n",
    "                        F.batch_norm(\n",
    "                            self.c3DiL(x),\n",
    "                            torch.zeros(28,device=device), #mu=0\n",
    "                            torch.ones(28,device=device),   # ones are fine for first training iter  \n",
    "                            training=True,\n",
    "                            momentum=0.9\n",
    "                        )\n",
    "                    ),p=0.1 # self.c3DiL(x)\n",
    "                )\n",
    "        x = path1 + path2\n",
    "\n",
    "        x = self.dilated(x)\n",
    "        \n",
    "        # BLOCK TWO\n",
    "        path1 = self.c4(x)\n",
    "        path2 = F.dropout2d(\n",
    "                    F.relu_( \n",
    "                        F.batch_norm(\n",
    "                            self.c5DiL(x),\n",
    "                            torch.zeros(32,device=device), #mu=0\n",
    "                            torch.ones(32,device=device),   # ones are fine for first training iter  \n",
    "                            training=True,\n",
    "                            momentum=0.9\n",
    "                        )\n",
    "                    ),p=0.1 # self.c3DiL(x)\n",
    "                )\n",
    "        x = path1+path2\n",
    "\n",
    "        # BLOCK 4\n",
    "        path1 = self.c6(x)\n",
    "        path2  =F.dropout2d(\n",
    "                    F.relu_( \n",
    "                        F.batch_norm(\n",
    "                            self.C7DiL(x),\n",
    "                            torch.zeros(60,device=device), #mu=0\n",
    "                            torch.ones(60,device=device),   # ones are fine for first training iter  \n",
    "                            training=True,\n",
    "                            momentum=0.9\n",
    "                        )\n",
    "                    ),p=0.1 # self.c3DiL(x)\n",
    "                )\n",
    "\n",
    "        \n",
    "        x = path1 + path2\n",
    "\n",
    "        # GAP\n",
    "        x = self.gap(x)\n",
    "\n",
    "        # OUT BLOCK\n",
    "        x = self.out(x)\n",
    "        return F.log_softmax(x.view(-1,10), dim=1)"
   ]
  },
  {
   "cell_type": "code",
   "execution_count": 12,
   "id": "46c2f259-12e8-4a2e-86e9-356cb9c9a2b2",
   "metadata": {
    "scrolled": true
   },
   "outputs": [
    {
     "data": {
      "text/plain": [
       "==========================================================================================\n",
       "Layer (type:depth-idx)                   Output Shape              Param #\n",
       "==========================================================================================\n",
       "Net                                      [1, 10]                   --\n",
       "├─Sequential: 1-1                        [1, 16, 32, 32]           --\n",
       "│    └─ConvLayer: 2-1                    [1, 14, 32, 32]           --\n",
       "│    │    └─Sequential: 3-1              [1, 14, 32, 32]           406\n",
       "│    └─ConvLayer: 2-2                    [1, 14, 32, 32]           --\n",
       "│    │    └─Sequential: 3-2              [1, 14, 32, 32]           1,792\n",
       "│    └─ConvLayer: 2-3                    [1, 16, 32, 32]           --\n",
       "│    │    └─Sequential: 3-3              [1, 16, 32, 32]           2,048\n",
       "├─Sequential: 1-2                        [1, 28, 30, 30]           --\n",
       "│    └─ConvLayer: 2-4                    [1, 28, 32, 32]           --\n",
       "│    │    └─Sequential: 3-4              [1, 28, 32, 32]           4,088\n",
       "│    └─ConvLayer: 2-5                    [1, 28, 30, 30]           --\n",
       "│    │    └─Sequential: 3-5              [1, 28, 30, 30]           7,112\n",
       "├─Sequential: 1-3                        [1, 28, 30, 30]           --\n",
       "│    └─ConvLayer: 2-6                    [1, 28, 30, 30]           --\n",
       "│    │    └─Sequential: 3-6              [1, 28, 30, 30]           4,088\n",
       "├─DepthwiseConvLayer: 1-4                [1, 28, 32, 32]           --\n",
       "│    └─Sequential: 2-7                   [1, 28, 32, 32]           --\n",
       "│    │    └─Conv2d: 3-7                  [1, 28, 30, 30]           252\n",
       "│    │    └─Conv2d: 3-8                  [1, 28, 32, 32]           784\n",
       "├─Sequential: 1-5                        [1, 32, 30, 30]           --\n",
       "│    └─ConvLayer: 2-8                    [1, 32, 32, 32]           --\n",
       "│    │    └─Sequential: 3-9              [1, 32, 32, 32]           8,128\n",
       "│    └─ConvLayer: 2-9                    [1, 32, 30, 30]           --\n",
       "│    │    └─Sequential: 3-10             [1, 32, 30, 30]           9,280\n",
       "├─Sequential: 1-6                        [1, 32, 30, 30]           --\n",
       "│    └─ConvLayer: 2-10                   [1, 32, 30, 30]           --\n",
       "│    │    └─Sequential: 3-11             [1, 32, 30, 30]           8,128\n",
       "├─Sequential: 1-7                        [1, 60, 22, 22]           --\n",
       "│    └─ConvLayer: 2-11                   [1, 38, 28, 28]           --\n",
       "│    │    └─Sequential: 3-12             [1, 38, 28, 28]           11,020\n",
       "│    └─ConvLayer: 2-12                   [1, 42, 26, 26]           --\n",
       "│    │    └─Sequential: 3-13             [1, 42, 26, 26]           14,448\n",
       "│    └─ConvLayer: 2-13                   [1, 52, 24, 24]           --\n",
       "│    │    └─Sequential: 3-14             [1, 52, 24, 24]           19,760\n",
       "│    └─ConvLayer: 2-14                   [1, 60, 22, 22]           --\n",
       "│    │    └─Sequential: 3-15             [1, 60, 22, 22]           28,200\n",
       "├─Sequential: 1-8                        [1, 60, 22, 22]           --\n",
       "│    └─ConvLayer: 2-15                   [1, 36, 28, 28]           --\n",
       "│    │    └─Sequential: 3-16             [1, 36, 28, 28]           10,440\n",
       "│    └─ConvLayer: 2-16                   [1, 42, 26, 26]           --\n",
       "│    │    └─Sequential: 3-17             [1, 42, 26, 26]           13,692\n",
       "│    └─ConvLayer: 2-17                   [1, 52, 24, 24]           --\n",
       "│    │    └─Sequential: 3-18             [1, 52, 24, 24]           19,760\n",
       "│    └─ConvLayer: 2-18                   [1, 60, 22, 22]           --\n",
       "│    │    └─Sequential: 3-19             [1, 60, 22, 22]           28,200\n",
       "├─AdaptiveAvgPool2d: 1-9                 [1, 60, 1, 1]             --\n",
       "├─Conv2d: 1-10                           [1, 10, 1, 1]             600\n",
       "==========================================================================================\n",
       "Total params: 192,226\n",
       "Trainable params: 192,226\n",
       "Non-trainable params: 0\n",
       "Total mult-adds (Units.MEGABYTES): 128.65\n",
       "==========================================================================================\n",
       "Input size (MB): 0.01\n",
       "Forward/backward pass size (MB): 7.59\n",
       "Params size (MB): 0.77\n",
       "Estimated Total Size (MB): 8.37\n",
       "=========================================================================================="
      ]
     },
     "execution_count": 12,
     "metadata": {},
     "output_type": "execute_result"
    }
   ],
   "source": [
    "model3 = Net(0.2).to(device)\n",
    "summary(model3,(1,3,32,32),)"
   ]
  },
  {
   "cell_type": "code",
   "execution_count": 13,
   "id": "da12f028-4980-49fe-8362-193b6f76a110",
   "metadata": {},
   "outputs": [
    {
     "name": "stderr",
     "output_type": "stream",
     "text": [
      "EPOCH = 1 | LR = 0.1 | Loss = 2.06 | Batch = 97 | Accuracy = 18.19: 100%|████████████████████████████████████████████████████████████████| 98/98 [00:49<00:00,  1.97it/s]\n"
     ]
    },
    {
     "name": "stdout",
     "output_type": "stream",
     "text": [
      "Test set: Average loss: 0.0039, Accuracy: 2770/10000 (27.70%)\n"
     ]
    },
    {
     "name": "stderr",
     "output_type": "stream",
     "text": [
      "EPOCH = 2 | LR = 0.1 | Loss = 2.06 | Batch = 97 | Accuracy = 23.59: 100%|████████████████████████████████████████████████████████████████| 98/98 [00:49<00:00,  1.97it/s]\n"
     ]
    },
    {
     "name": "stdout",
     "output_type": "stream",
     "text": [
      "Test set: Average loss: 0.0037, Accuracy: 3069/10000 (30.69%)\n"
     ]
    },
    {
     "name": "stderr",
     "output_type": "stream",
     "text": [
      "EPOCH = 3 | LR = 0.1 | Loss = 1.92 | Batch = 97 | Accuracy = 25.66: 100%|████████████████████████████████████████████████████████████████| 98/98 [00:50<00:00,  1.96it/s]\n"
     ]
    },
    {
     "name": "stdout",
     "output_type": "stream",
     "text": [
      "Test set: Average loss: 0.0036, Accuracy: 3287/10000 (32.87%)\n"
     ]
    },
    {
     "name": "stderr",
     "output_type": "stream",
     "text": [
      "EPOCH = 4 | LR = 0.1 | Loss = 1.93 | Batch = 97 | Accuracy = 27.16: 100%|████████████████████████████████████████████████████████████████| 98/98 [00:49<00:00,  1.99it/s]\n"
     ]
    },
    {
     "name": "stdout",
     "output_type": "stream",
     "text": [
      "Test set: Average loss: 0.0035, Accuracy: 3437/10000 (34.37%)\n"
     ]
    },
    {
     "name": "stderr",
     "output_type": "stream",
     "text": [
      "EPOCH = 5 | LR = 0.1 | Loss = 1.91 | Batch = 97 | Accuracy = 28.82: 100%|████████████████████████████████████████████████████████████████| 98/98 [00:49<00:00,  1.96it/s]\n"
     ]
    },
    {
     "name": "stdout",
     "output_type": "stream",
     "text": [
      "Test set: Average loss: 0.0034, Accuracy: 3708/10000 (37.08%)\n"
     ]
    },
    {
     "name": "stderr",
     "output_type": "stream",
     "text": [
      "EPOCH = 6 | LR = 0.1 | Loss = 1.91 | Batch = 97 | Accuracy = 30.30: 100%|████████████████████████████████████████████████████████████████| 98/98 [00:49<00:00,  1.97it/s]\n"
     ]
    },
    {
     "name": "stdout",
     "output_type": "stream",
     "text": [
      "Test set: Average loss: 0.0033, Accuracy: 3863/10000 (38.63%)\n"
     ]
    },
    {
     "name": "stderr",
     "output_type": "stream",
     "text": [
      "EPOCH = 7 | LR = 0.1 | Loss = 1.84 | Batch = 97 | Accuracy = 31.39: 100%|████████████████████████████████████████████████████████████████| 98/98 [00:49<00:00,  1.99it/s]\n"
     ]
    },
    {
     "name": "stdout",
     "output_type": "stream",
     "text": [
      "Test set: Average loss: 0.0032, Accuracy: 4001/10000 (40.01%)\n"
     ]
    },
    {
     "name": "stderr",
     "output_type": "stream",
     "text": [
      "EPOCH = 8 | LR = 0.1 | Loss = 1.79 | Batch = 97 | Accuracy = 32.64: 100%|████████████████████████████████████████████████████████████████| 98/98 [00:51<00:00,  1.89it/s]\n"
     ]
    },
    {
     "name": "stdout",
     "output_type": "stream",
     "text": [
      "Test set: Average loss: 0.0032, Accuracy: 4113/10000 (41.13%)\n"
     ]
    },
    {
     "name": "stderr",
     "output_type": "stream",
     "text": [
      "EPOCH = 9 | LR = 0.1 | Loss = 1.82 | Batch = 97 | Accuracy = 33.63: 100%|████████████████████████████████████████████████████████████████| 98/98 [00:50<00:00,  1.95it/s]\n"
     ]
    },
    {
     "name": "stdout",
     "output_type": "stream",
     "text": [
      "Test set: Average loss: 0.0031, Accuracy: 4228/10000 (42.28%)\n"
     ]
    },
    {
     "name": "stderr",
     "output_type": "stream",
     "text": [
      "EPOCH = 10 | LR = 0.1 | Loss = 1.73 | Batch = 97 | Accuracy = 33.80: 100%|███████████████████████████████████████████████████████████████| 98/98 [00:50<00:00,  1.95it/s]\n"
     ]
    },
    {
     "name": "stdout",
     "output_type": "stream",
     "text": [
      "Test set: Average loss: 0.0031, Accuracy: 4275/10000 (42.75%)\n"
     ]
    },
    {
     "name": "stderr",
     "output_type": "stream",
     "text": [
      "EPOCH = 11 | LR = 0.1 | Loss = 1.65 | Batch = 97 | Accuracy = 35.25: 100%|███████████████████████████████████████████████████████████████| 98/98 [00:50<00:00,  1.96it/s]\n"
     ]
    },
    {
     "name": "stdout",
     "output_type": "stream",
     "text": [
      "Test set: Average loss: 0.0030, Accuracy: 4435/10000 (44.35%)\n"
     ]
    },
    {
     "name": "stderr",
     "output_type": "stream",
     "text": [
      "EPOCH = 12 | LR = 0.1 | Loss = 1.73 | Batch = 97 | Accuracy = 35.73: 100%|███████████████████████████████████████████████████████████████| 98/98 [00:50<00:00,  1.95it/s]\n"
     ]
    },
    {
     "name": "stdout",
     "output_type": "stream",
     "text": [
      "Test set: Average loss: 0.0030, Accuracy: 4512/10000 (45.12%)\n"
     ]
    },
    {
     "name": "stderr",
     "output_type": "stream",
     "text": [
      "EPOCH = 13 | LR = 0.1 | Loss = 1.80 | Batch = 97 | Accuracy = 35.91: 100%|███████████████████████████████████████████████████████████████| 98/98 [00:52<00:00,  1.86it/s]\n"
     ]
    },
    {
     "name": "stdout",
     "output_type": "stream",
     "text": [
      "Test set: Average loss: 0.0029, Accuracy: 4526/10000 (45.26%)\n"
     ]
    },
    {
     "name": "stderr",
     "output_type": "stream",
     "text": [
      "EPOCH = 14 | LR = 0.1 | Loss = 1.60 | Batch = 97 | Accuracy = 36.85: 100%|███████████████████████████████████████████████████████████████| 98/98 [00:51<00:00,  1.91it/s]\n"
     ]
    },
    {
     "name": "stdout",
     "output_type": "stream",
     "text": [
      "Test set: Average loss: 0.0028, Accuracy: 4711/10000 (47.11%)\n"
     ]
    },
    {
     "name": "stderr",
     "output_type": "stream",
     "text": [
      "EPOCH = 15 | LR = 0.1 | Loss = 1.63 | Batch = 97 | Accuracy = 37.42: 100%|███████████████████████████████████████████████████████████████| 98/98 [00:51<00:00,  1.91it/s]\n"
     ]
    },
    {
     "name": "stdout",
     "output_type": "stream",
     "text": [
      "Test set: Average loss: 0.0028, Accuracy: 4864/10000 (48.64%)\n"
     ]
    },
    {
     "name": "stderr",
     "output_type": "stream",
     "text": [
      "EPOCH = 16 | LR = 0.1 | Loss = 1.70 | Batch = 97 | Accuracy = 38.12: 100%|███████████████████████████████████████████████████████████████| 98/98 [00:50<00:00,  1.93it/s]\n"
     ]
    },
    {
     "name": "stdout",
     "output_type": "stream",
     "text": [
      "Test set: Average loss: 0.0028, Accuracy: 4849/10000 (48.49%)\n"
     ]
    },
    {
     "name": "stderr",
     "output_type": "stream",
     "text": [
      "EPOCH = 17 | LR = 0.1 | Loss = 1.64 | Batch = 97 | Accuracy = 38.82: 100%|███████████████████████████████████████████████████████████████| 98/98 [00:50<00:00,  1.93it/s]\n"
     ]
    },
    {
     "name": "stdout",
     "output_type": "stream",
     "text": [
      "Test set: Average loss: 0.0027, Accuracy: 5022/10000 (50.22%)\n"
     ]
    },
    {
     "name": "stderr",
     "output_type": "stream",
     "text": [
      "EPOCH = 18 | LR = 0.1 | Loss = 1.67 | Batch = 97 | Accuracy = 39.35: 100%|███████████████████████████████████████████████████████████████| 98/98 [00:52<00:00,  1.88it/s]\n"
     ]
    },
    {
     "name": "stdout",
     "output_type": "stream",
     "text": [
      "Test set: Average loss: 0.0027, Accuracy: 5083/10000 (50.83%)\n"
     ]
    },
    {
     "name": "stderr",
     "output_type": "stream",
     "text": [
      "EPOCH = 19 | LR = 0.1 | Loss = 1.63 | Batch = 97 | Accuracy = 40.39: 100%|███████████████████████████████████████████████████████████████| 98/98 [00:50<00:00,  1.93it/s]\n"
     ]
    },
    {
     "name": "stdout",
     "output_type": "stream",
     "text": [
      "Test set: Average loss: 0.0026, Accuracy: 5080/10000 (50.80%)\n"
     ]
    },
    {
     "name": "stderr",
     "output_type": "stream",
     "text": [
      "EPOCH = 20 | LR = 0.1 | Loss = 1.55 | Batch = 97 | Accuracy = 41.07: 100%|███████████████████████████████████████████████████████████████| 98/98 [00:50<00:00,  1.93it/s]\n"
     ]
    },
    {
     "name": "stdout",
     "output_type": "stream",
     "text": [
      "Test set: Average loss: 0.0026, Accuracy: 5324/10000 (53.24%)\n"
     ]
    },
    {
     "name": "stderr",
     "output_type": "stream",
     "text": [
      "EPOCH = 21 | LR = 0.1 | Loss = 1.65 | Batch = 97 | Accuracy = 41.51: 100%|███████████████████████████████████████████████████████████████| 98/98 [00:51<00:00,  1.91it/s]\n"
     ]
    },
    {
     "name": "stdout",
     "output_type": "stream",
     "text": [
      "Test set: Average loss: 0.0026, Accuracy: 5204/10000 (52.04%)\n"
     ]
    },
    {
     "name": "stderr",
     "output_type": "stream",
     "text": [
      "EPOCH = 22 | LR = 0.1 | Loss = 1.56 | Batch = 97 | Accuracy = 41.74: 100%|███████████████████████████████████████████████████████████████| 98/98 [00:50<00:00,  1.94it/s]\n"
     ]
    },
    {
     "name": "stdout",
     "output_type": "stream",
     "text": [
      "Test set: Average loss: 0.0025, Accuracy: 5409/10000 (54.09%)\n"
     ]
    },
    {
     "name": "stderr",
     "output_type": "stream",
     "text": [
      "EPOCH = 23 | LR = 0.1 | Loss = 1.55 | Batch = 97 | Accuracy = 42.68: 100%|███████████████████████████████████████████████████████████████| 98/98 [00:50<00:00,  1.95it/s]\n"
     ]
    },
    {
     "name": "stdout",
     "output_type": "stream",
     "text": [
      "Test set: Average loss: 0.0024, Accuracy: 5538/10000 (55.38%)\n"
     ]
    },
    {
     "name": "stderr",
     "output_type": "stream",
     "text": [
      "EPOCH = 24 | LR = 0.1 | Loss = 1.54 | Batch = 97 | Accuracy = 42.92: 100%|███████████████████████████████████████████████████████████████| 98/98 [00:50<00:00,  1.96it/s]\n"
     ]
    },
    {
     "name": "stdout",
     "output_type": "stream",
     "text": [
      "Test set: Average loss: 0.0024, Accuracy: 5517/10000 (55.17%)\n"
     ]
    },
    {
     "name": "stderr",
     "output_type": "stream",
     "text": [
      "EPOCH = 25 | LR = 0.1 | Loss = 1.56 | Batch = 97 | Accuracy = 43.23: 100%|███████████████████████████████████████████████████████████████| 98/98 [00:50<00:00,  1.95it/s]\n"
     ]
    },
    {
     "name": "stdout",
     "output_type": "stream",
     "text": [
      "Test set: Average loss: 0.0024, Accuracy: 5580/10000 (55.80%)\n"
     ]
    },
    {
     "name": "stderr",
     "output_type": "stream",
     "text": [
      "EPOCH = 26 | LR = 0.1 | Loss = 1.55 | Batch = 97 | Accuracy = 44.07: 100%|███████████████████████████████████████████████████████████████| 98/98 [00:50<00:00,  1.95it/s]\n"
     ]
    },
    {
     "name": "stdout",
     "output_type": "stream",
     "text": [
      "Test set: Average loss: 0.0024, Accuracy: 5622/10000 (56.22%)\n"
     ]
    },
    {
     "name": "stderr",
     "output_type": "stream",
     "text": [
      "EPOCH = 27 | LR = 0.1 | Loss = 1.52 | Batch = 97 | Accuracy = 44.10: 100%|███████████████████████████████████████████████████████████████| 98/98 [00:50<00:00,  1.95it/s]\n"
     ]
    },
    {
     "name": "stdout",
     "output_type": "stream",
     "text": [
      "Test set: Average loss: 0.0024, Accuracy: 5720/10000 (57.20%)\n"
     ]
    },
    {
     "name": "stderr",
     "output_type": "stream",
     "text": [
      "EPOCH = 28 | LR = 0.1 | Loss = 1.50 | Batch = 97 | Accuracy = 44.66: 100%|███████████████████████████████████████████████████████████████| 98/98 [00:53<00:00,  1.85it/s]\n"
     ]
    },
    {
     "name": "stdout",
     "output_type": "stream",
     "text": [
      "Test set: Average loss: 0.0023, Accuracy: 5745/10000 (57.45%)\n"
     ]
    },
    {
     "name": "stderr",
     "output_type": "stream",
     "text": [
      "EPOCH = 29 | LR = 0.1 | Loss = 1.47 | Batch = 97 | Accuracy = 45.08: 100%|███████████████████████████████████████████████████████████████| 98/98 [00:51<00:00,  1.90it/s]\n"
     ]
    },
    {
     "name": "stdout",
     "output_type": "stream",
     "text": [
      "Test set: Average loss: 0.0023, Accuracy: 5784/10000 (57.84%)\n"
     ]
    },
    {
     "name": "stderr",
     "output_type": "stream",
     "text": [
      "EPOCH = 30 | LR = 0.1 | Loss = 1.56 | Batch = 97 | Accuracy = 45.61: 100%|███████████████████████████████████████████████████████████████| 98/98 [00:54<00:00,  1.81it/s]\n"
     ]
    },
    {
     "name": "stdout",
     "output_type": "stream",
     "text": [
      "Test set: Average loss: 0.0023, Accuracy: 5795/10000 (57.95%)\n"
     ]
    },
    {
     "name": "stderr",
     "output_type": "stream",
     "text": [
      "EPOCH = 31 | LR = 0.1 | Loss = 1.44 | Batch = 97 | Accuracy = 45.88: 100%|███████████████████████████████████████████████████████████████| 98/98 [00:52<00:00,  1.88it/s]\n"
     ]
    },
    {
     "name": "stdout",
     "output_type": "stream",
     "text": [
      "Test set: Average loss: 0.0023, Accuracy: 5859/10000 (58.59%)\n"
     ]
    },
    {
     "name": "stderr",
     "output_type": "stream",
     "text": [
      "EPOCH = 32 | LR = 0.1 | Loss = 1.55 | Batch = 97 | Accuracy = 46.32: 100%|███████████████████████████████████████████████████████████████| 98/98 [00:52<00:00,  1.85it/s]\n"
     ]
    },
    {
     "name": "stdout",
     "output_type": "stream",
     "text": [
      "Test set: Average loss: 0.0022, Accuracy: 5925/10000 (59.25%)\n"
     ]
    },
    {
     "name": "stderr",
     "output_type": "stream",
     "text": [
      "EPOCH = 33 | LR = 0.1 | Loss = 1.46 | Batch = 97 | Accuracy = 46.54: 100%|███████████████████████████████████████████████████████████████| 98/98 [00:50<00:00,  1.93it/s]\n"
     ]
    },
    {
     "name": "stdout",
     "output_type": "stream",
     "text": [
      "Test set: Average loss: 0.0022, Accuracy: 6062/10000 (60.62%)\n"
     ]
    },
    {
     "name": "stderr",
     "output_type": "stream",
     "text": [
      "EPOCH = 34 | LR = 0.1 | Loss = 1.45 | Batch = 97 | Accuracy = 47.21: 100%|███████████████████████████████████████████████████████████████| 98/98 [00:50<00:00,  1.93it/s]\n"
     ]
    },
    {
     "name": "stdout",
     "output_type": "stream",
     "text": [
      "Test set: Average loss: 0.0022, Accuracy: 6021/10000 (60.21%)\n"
     ]
    },
    {
     "name": "stderr",
     "output_type": "stream",
     "text": [
      "EPOCH = 35 | LR = 0.1 | Loss = 1.41 | Batch = 97 | Accuracy = 47.19: 100%|███████████████████████████████████████████████████████████████| 98/98 [00:50<00:00,  1.94it/s]\n"
     ]
    },
    {
     "name": "stdout",
     "output_type": "stream",
     "text": [
      "Test set: Average loss: 0.0022, Accuracy: 6024/10000 (60.24%)\n"
     ]
    },
    {
     "name": "stderr",
     "output_type": "stream",
     "text": [
      "EPOCH = 36 | LR = 0.1 | Loss = 1.45 | Batch = 97 | Accuracy = 47.42: 100%|███████████████████████████████████████████████████████████████| 98/98 [00:51<00:00,  1.92it/s]\n"
     ]
    },
    {
     "name": "stdout",
     "output_type": "stream",
     "text": [
      "Test set: Average loss: 0.0021, Accuracy: 6157/10000 (61.57%)\n"
     ]
    },
    {
     "name": "stderr",
     "output_type": "stream",
     "text": [
      "EPOCH = 37 | LR = 0.1 | Loss = 1.41 | Batch = 97 | Accuracy = 47.71: 100%|███████████████████████████████████████████████████████████████| 98/98 [00:50<00:00,  1.93it/s]\n"
     ]
    },
    {
     "name": "stdout",
     "output_type": "stream",
     "text": [
      "Test set: Average loss: 0.0021, Accuracy: 6245/10000 (62.45%)\n"
     ]
    },
    {
     "name": "stderr",
     "output_type": "stream",
     "text": [
      "  0%|                                                                                                                                             | 0/98 [00:15<?, ?it/s]\n",
      "\n",
      "KeyboardInterrupt\n",
      "\n"
     ]
    }
   ],
   "source": [
    "prev_test_loss = float('inf')\n",
    "\n",
    "\n",
    "optimizer = optim.SGD(model3.parameters(), lr=0.1, momentum=0.9)\n",
    "scheduler = optim.lr_scheduler.ReduceLROnPlateau(optimizer=optimizer,mode='min',factor=0.1,patience=5)\n",
    "criterion = nn.NLLLoss()\n",
    "trainer = Trainer(model3, train_loader, optimizer, criterion, device)\n",
    "tester = Tester(model3, test_loader, criterion, device)\n",
    "\n",
    "for epoch in range(1, 51):\n",
    "    trainer.train(epoch=epoch)\n",
    "    _,test_loss = tester.test()\n",
    "    if prev_test_loss>test_loss:\n",
    "        torch.save(model3.state_dict(),'./bmodels/simple_model_with_mp_rf44_resnet_with_dilation_kernel.pth')\n",
    "    scheduler.step(test_loss)"
   ]
  },
  {
   "cell_type": "code",
   "execution_count": 14,
   "id": "75531cac-2109-4762-ab06-433ed2110915",
   "metadata": {},
   "outputs": [
    {
     "data": {
      "image/png": "[encoded data removed]",
      "text/plain": [
       "<Figure size 1500x1000 with 4 Axes>"
      ]
     },
     "metadata": {},
     "output_type": "display_data"
    }
   ],
   "source": [
    "plot_curves(trainer.train_losses,trainer.train_accuracies,tester.test_losses,tester.test_accuracies)"
   ]
  },
  {
   "cell_type": "code",
   "execution_count": null,
   "id": "368f6973-249b-4e59-a104-4b7f396777ae",
   "metadata": {
    "scrolled": true
   },
   "outputs": [],
   "source": [
    "model4 = Net(0.2).to(device)\n",
    "summary(model4,(1,3,32,32),)\n",
    "\n",
    "\n",
    "prev_test_loss = float('inf')\n",
    "\n",
    "\n",
    "optimizer = optim.SGD(model4.parameters(), lr=0.1, momentum=0.9)\n",
    "scheduler = optim.lr_scheduler.ReduceLROnPlateau(optimizer=optimizer,mode='min',factor=0.1,patience=5)\n",
    "criterion = nn.NLLLoss()\n",
    "trainer = Trainer(model4, train_loader, optimizer, criterion, device)\n",
    "tester = Tester(model4, test_loader, criterion, device)\n",
    "\n",
    "for epoch in range(1, 51):\n",
    "    trainer.train(epoch=epoch)\n",
    "    _,test_loss = tester.test()\n",
    "    if prev_test_loss>test_loss:\n",
    "        torch.save(model3.state_dict(),'./bmodels/simple_model_with_mp_rf44_resnet_with_dilation_kernel_aug.pth')\n",
    "    scheduler.step(test_loss)"
   ]
  },
  {
   "cell_type": "code",
   "execution_count": null,
   "id": "141ee154-2cef-4159-8135-dacfee181afe",
   "metadata": {},
   "outputs": [],
   "source": [
    "plot_curves(trainer.train_losses,trainer.train_accuracies,tester.test_losses,tester.test_accuracies)"
   ]
  },
  {
   "cell_type": "code",
   "execution_count": null,
   "id": "9145f883-7e51-4a6a-88e0-5e6bdfac16af",
   "metadata": {},
   "outputs": [],
   "source": []
  }
 ],
 "metadata": {
  "kernelspec": {
   "display_name": "Python 3 (ipykernel)",
   "language": "python",
   "name": "python3"
  },
  "language_info": {
   "codemirror_mode": {
    "name": "ipython",
    "version": 3
   },
   "file_extension": ".py",
   "mimetype": "text/x-python",
   "name": "python",
   "nbconvert_exporter": "python",
   "pygments_lexer": "ipython3",
   "version": "3.11.4"
  }
 },
 "nbformat": 4,
 "nbformat_minor": 5
}
