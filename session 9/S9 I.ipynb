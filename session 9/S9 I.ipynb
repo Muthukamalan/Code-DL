{
 "cells": [
  {
   "cell_type": "code",
   "execution_count": 2,
   "id": "3cbb910d-ba63-4522-9bc3-be5065efa54b",
   "metadata": {},
   "outputs": [
    {
     "name": "stdout",
     "output_type": "stream",
     "text": [
      "Sat Oct  7 10:16:46 2023       \n",
      "+---------------------------------------------------------------------------------------+\n",
      "| NVIDIA-SMI 536.67                 Driver Version: 536.67       CUDA Version: 12.2     |\n",
      "|-----------------------------------------+----------------------+----------------------+\n",
      "| GPU  Name                     TCC/WDDM  | Bus-Id        Disp.A | Volatile Uncorr. ECC |\n",
      "| Fan  Temp   Perf          Pwr:Usage/Cap |         Memory-Usage | GPU-Util  Compute M. |\n",
      "|                                         |                      |               MIG M. |\n",
      "|=========================================+======================+======================|\n",
      "|   0  NVIDIA GeForce RTX 4050 ...  WDDM  | 00000000:01:00.0 Off |                  N/A |\n",
      "| N/A   40C    P4              11W /  55W |      0MiB /  6141MiB |      0%      Default |\n",
      "|                                         |                      |                  N/A |\n",
      "+-----------------------------------------+----------------------+----------------------+\n",
      "                                                                                         \n",
      "+---------------------------------------------------------------------------------------+\n",
      "| Processes:                                                                            |\n",
      "|  GPU   GI   CI        PID   Type   Process name                            GPU Memory |\n",
      "|        ID   ID                                                             Usage      |\n",
      "|=======================================================================================|\n",
      "|  No running processes found                                                           |\n",
      "+---------------------------------------------------------------------------------------+\n"
     ]
    }
   ],
   "source": [
    "!nvidia-smi"
   ]
  },
  {
   "cell_type": "code",
   "execution_count": 3,
   "id": "a57c779e-bc7c-463c-b3e6-b0a0e607f528",
   "metadata": {},
   "outputs": [],
   "source": [
    "import numpy as np\n",
    "from torch import nn\n",
    "from torch.nn import functional as F\n",
    "import torch\n",
    "from torch import optim\n",
    "from torchvision import datasets,transforms\n",
    "from torchinfo import summary"
   ]
  },
  {
   "cell_type": "code",
   "execution_count": 4,
   "id": "0ca07a56-511b-4c64-ae8b-817b1ec9359f",
   "metadata": {},
   "outputs": [],
   "source": [
    "from transformations import train_transforms,test_transforms"
   ]
  },
  {
   "cell_type": "code",
   "execution_count": 5,
   "id": "6dae444b-7904-4456-8e58-98e20f6b3375",
   "metadata": {},
   "outputs": [],
   "source": [
    "from trainer import Trainer\n",
    "from tester import Tester\n",
    "from utlis import visualize_data,show_misclassified_images,device,is_cuda\n",
    "from viz import plot_class_distribution, plot_confusion_matrix, plot_curves\n",
    "from dataloader import CIFAR10Dataset,CIFAR10DataLoader\n",
    "from models import ConvLayer,TransBlock,DepthwiseConvLayer"
   ]
  },
  {
   "cell_type": "code",
   "execution_count": 6,
   "id": "b03b1999-c6bc-4116-a8b5-8d27ebadc572",
   "metadata": {},
   "outputs": [],
   "source": [
    "# ALbumentation\n",
    "train_dataset = CIFAR10Dataset(root='../data/',train=True,Atransforms=train_transforms,download=False)\n",
    "test_dataset  = CIFAR10Dataset(root='../data/',train=False,Atransforms=test_transforms,download=False)\n",
    "\n",
    "cifar = CIFAR10DataLoader()\n",
    "train_loader,test_loader = cifar.get_loader(train_dataset,test_dataset)"
   ]
  },
  {
   "cell_type": "code",
   "execution_count": 7,
   "id": "732b9408-c760-41cc-80ea-38517bc6fcf4",
   "metadata": {},
   "outputs": [],
   "source": [
    "cifar = CIFAR10DataLoader()\n",
    "simple_train_loader , simple_test_loader = cifar.get_loader(\n",
    "    CIFAR10Dataset(root='../data/',train=True,Atransforms=test_transforms,download=False),\n",
    "    CIFAR10Dataset(root='../data/',train=False,Atransforms=test_transforms,download=False)\n",
    ")"
   ]
  },
  {
   "cell_type": "markdown",
   "id": "b51fc272-51e9-4dce-9497-7b937f62026b",
   "metadata": {},
   "source": [
    "# Resnet like Architecture"
   ]
  },
  {
   "cell_type": "code",
   "execution_count": 7,
   "id": "e03ce79f-34b1-4df2-a091-81d01ddb2562",
   "metadata": {},
   "outputs": [],
   "source": [
    "# We used this Squeeze-Expand Network before\n",
    "class Net1(nn.Module):\n",
    "    def __init__(self):\n",
    "        super(Net1,self).__init__()\n",
    "        self.dp_rate = 0.2\n",
    "\n",
    "        self.c1 = ConvLayer(inc=3,outc=16,s=1,k=3,p=1,d=1,dp_rate=self.dp_rate)\n",
    "        self.c2 = ConvLayer(inc=16,outc=16,s=1,p=1,k=3,d=1,dp_rate=self.dp_rate)\n",
    "        self.c3 = ConvLayer(inc=16,outc=32,s=2,p=1,d=1,k=3,dp_rate=self.dp_rate)\n",
    "        \n",
    "        self.c4 = ConvLayer(inc=32,outc=32,k=3,s=1,p=1,d=1,dp_rate=self.dp_rate)\n",
    "        self.c5 = ConvLayer(inc=32,outc=32,k=3,s=1,p=1,d=1,dp_rate=self.dp_rate)\n",
    "        self.c6 = ConvLayer(inc=32,outc=32,k=3,s=2,p=1,d=1,dp_rate=self.dp_rate)\n",
    "\n",
    "        self.c7 = ConvLayer(inc=32,outc=60,k=3,s=1,p=1,d=1,dp_rate=self.dp_rate)\n",
    "        self.c8 = ConvLayer(inc=60,outc=60,k=3,s=1,p=1,d=1,dp_rate=self.dp_rate)\n",
    "        self.c9 = nn.Sequential(\n",
    "            nn.Conv2d(in_channels=60,out_channels=60,kernel_size=3,stride=2,dilation=1,padding=1,bias=False)\n",
    "        )\n",
    "\n",
    "        self.gap = nn.AdaptiveAvgPool2d(output_size=1)\n",
    "        self.c10 = nn.Conv2d(60,10,kernel_size=1,bias=False)\n",
    "    def forward(self,x):\n",
    "        x = self.c1(x)\n",
    "        x = x + self.c2(x)\n",
    "        x = self.c3(x)\n",
    "        \n",
    "        x = x+self.c4(x)\n",
    "        x = x+self.c5(x)\n",
    "        x = self.c6(x)\n",
    "\n",
    "        x = self.c7(x)\n",
    "        x = x + self.c8(x)\n",
    "        x = self.c9(x)\n",
    "\n",
    "        x = self.gap(x)\n",
    "        x = self.c10(x)\n",
    "        return F.log_softmax(x.view(-1,10), dim=1)"
   ]
  },
  {
   "cell_type": "code",
   "execution_count": 8,
   "id": "02e86540-7c65-4a0d-af35-a300858cc215",
   "metadata": {},
   "outputs": [],
   "source": [
    "simple_model = Net1().to(device)\n",
    "# summary(simple_model,(3,32,32))"
   ]
  },
  {
   "cell_type": "code",
   "execution_count": 9,
   "id": "2a3650fc-60f6-4fd5-a026-83a0699d33bf",
   "metadata": {
    "scrolled": true
   },
   "outputs": [
    {
     "name": "stderr",
     "output_type": "stream",
     "text": [
      "EPOCH = 1 | LR = 0.2 | Loss = 2.05 | Batch = 390 | Accuracy = 22.65: 100%|█████████████████████████████████████████████████████████████| 391/391 [00:22<00:00, 17.31it/s]\n"
     ]
    },
    {
     "name": "stdout",
     "output_type": "stream",
     "text": [
      "Test set: Average loss: 0.0147, Accuracy: 3008/10000 (30.08%)\n"
     ]
    },
    {
     "name": "stderr",
     "output_type": "stream",
     "text": [
      "EPOCH = 2 | LR = 0.2 | Loss = 1.89 | Batch = 390 | Accuracy = 29.66: 100%|█████████████████████████████████████████████████████████████| 391/391 [00:20<00:00, 18.67it/s]\n"
     ]
    },
    {
     "name": "stdout",
     "output_type": "stream",
     "text": [
      "Test set: Average loss: 0.0130, Accuracy: 3822/10000 (38.22%)\n"
     ]
    },
    {
     "name": "stderr",
     "output_type": "stream",
     "text": [
      "EPOCH = 3 | LR = 0.2 | Loss = 1.87 | Batch = 390 | Accuracy = 33.06: 100%|█████████████████████████████████████████████████████████████| 391/391 [00:19<00:00, 20.41it/s]\n"
     ]
    },
    {
     "name": "stdout",
     "output_type": "stream",
     "text": [
      "Test set: Average loss: 0.0130, Accuracy: 4025/10000 (40.25%)\n"
     ]
    },
    {
     "name": "stderr",
     "output_type": "stream",
     "text": [
      "EPOCH = 4 | LR = 0.2 | Loss = 1.87 | Batch = 390 | Accuracy = 34.24: 100%|█████████████████████████████████████████████████████████████| 391/391 [00:16<00:00, 23.92it/s]\n"
     ]
    },
    {
     "name": "stdout",
     "output_type": "stream",
     "text": [
      "Test set: Average loss: 0.0125, Accuracy: 4148/10000 (41.48%)\n"
     ]
    },
    {
     "name": "stderr",
     "output_type": "stream",
     "text": [
      "EPOCH = 5 | LR = 0.2 | Loss = 1.90 | Batch = 390 | Accuracy = 35.92: 100%|█████████████████████████████████████████████████████████████| 391/391 [00:16<00:00, 23.78it/s]\n"
     ]
    },
    {
     "name": "stdout",
     "output_type": "stream",
     "text": [
      "Test set: Average loss: 0.0120, Accuracy: 4513/10000 (45.13%)\n"
     ]
    },
    {
     "name": "stderr",
     "output_type": "stream",
     "text": [
      "EPOCH = 6 | LR = 0.2 | Loss = 1.69 | Batch = 390 | Accuracy = 37.03: 100%|█████████████████████████████████████████████████████████████| 391/391 [00:16<00:00, 23.21it/s]\n"
     ]
    },
    {
     "name": "stdout",
     "output_type": "stream",
     "text": [
      "Test set: Average loss: 0.0114, Accuracy: 4665/10000 (46.65%)\n"
     ]
    },
    {
     "name": "stderr",
     "output_type": "stream",
     "text": [
      "EPOCH = 7 | LR = 0.2 | Loss = 1.73 | Batch = 390 | Accuracy = 38.12: 100%|█████████████████████████████████████████████████████████████| 391/391 [00:16<00:00, 23.68it/s]\n"
     ]
    },
    {
     "name": "stdout",
     "output_type": "stream",
     "text": [
      "Test set: Average loss: 0.0113, Accuracy: 4689/10000 (46.89%)\n"
     ]
    },
    {
     "name": "stderr",
     "output_type": "stream",
     "text": [
      "EPOCH = 8 | LR = 0.2 | Loss = 1.67 | Batch = 390 | Accuracy = 38.59: 100%|█████████████████████████████████████████████████████████████| 391/391 [00:16<00:00, 23.44it/s]\n"
     ]
    },
    {
     "name": "stdout",
     "output_type": "stream",
     "text": [
      "Test set: Average loss: 0.0112, Accuracy: 4689/10000 (46.89%)\n"
     ]
    },
    {
     "name": "stderr",
     "output_type": "stream",
     "text": [
      "EPOCH = 9 | LR = 0.2 | Loss = 1.70 | Batch = 390 | Accuracy = 39.45: 100%|█████████████████████████████████████████████████████████████| 391/391 [00:16<00:00, 23.88it/s]\n"
     ]
    },
    {
     "name": "stdout",
     "output_type": "stream",
     "text": [
      "Test set: Average loss: 0.0112, Accuracy: 4645/10000 (46.45%)\n"
     ]
    },
    {
     "name": "stderr",
     "output_type": "stream",
     "text": [
      "EPOCH = 10 | LR = 0.2 | Loss = 1.49 | Batch = 390 | Accuracy = 39.78: 100%|████████████████████████████████████████████████████████████| 391/391 [00:17<00:00, 22.92it/s]\n"
     ]
    },
    {
     "name": "stdout",
     "output_type": "stream",
     "text": [
      "Test set: Average loss: 0.0111, Accuracy: 4671/10000 (46.71%)\n"
     ]
    },
    {
     "name": "stderr",
     "output_type": "stream",
     "text": [
      "EPOCH = 11 | LR = 0.2 | Loss = 1.47 | Batch = 390 | Accuracy = 40.69: 100%|████████████████████████████████████████████████████████████| 391/391 [00:17<00:00, 22.43it/s]\n"
     ]
    },
    {
     "name": "stdout",
     "output_type": "stream",
     "text": [
      "Test set: Average loss: 0.0109, Accuracy: 4909/10000 (49.09%)\n"
     ]
    },
    {
     "name": "stderr",
     "output_type": "stream",
     "text": [
      "EPOCH = 12 | LR = 0.2 | Loss = 1.68 | Batch = 390 | Accuracy = 40.76: 100%|████████████████████████████████████████████████████████████| 391/391 [00:16<00:00, 23.32it/s]\n"
     ]
    },
    {
     "name": "stdout",
     "output_type": "stream",
     "text": [
      "Test set: Average loss: 0.0108, Accuracy: 4961/10000 (49.61%)\n"
     ]
    },
    {
     "name": "stderr",
     "output_type": "stream",
     "text": [
      "EPOCH = 13 | LR = 0.2 | Loss = 1.79 | Batch = 390 | Accuracy = 41.27: 100%|████████████████████████████████████████████████████████████| 391/391 [00:16<00:00, 23.92it/s]\n"
     ]
    },
    {
     "name": "stdout",
     "output_type": "stream",
     "text": [
      "Test set: Average loss: 0.0107, Accuracy: 4872/10000 (48.72%)\n"
     ]
    },
    {
     "name": "stderr",
     "output_type": "stream",
     "text": [
      "EPOCH = 14 | LR = 0.2 | Loss = 1.65 | Batch = 390 | Accuracy = 41.67: 100%|████████████████████████████████████████████████████████████| 391/391 [00:16<00:00, 23.83it/s]\n"
     ]
    },
    {
     "name": "stdout",
     "output_type": "stream",
     "text": [
      "Test set: Average loss: 0.0109, Accuracy: 4951/10000 (49.51%)\n"
     ]
    },
    {
     "name": "stderr",
     "output_type": "stream",
     "text": [
      "EPOCH = 15 | LR = 0.2 | Loss = 1.53 | Batch = 390 | Accuracy = 42.04: 100%|████████████████████████████████████████████████████████████| 391/391 [00:16<00:00, 23.70it/s]\n"
     ]
    },
    {
     "name": "stdout",
     "output_type": "stream",
     "text": [
      "Test set: Average loss: 0.0106, Accuracy: 5084/10000 (50.84%)\n"
     ]
    },
    {
     "name": "stderr",
     "output_type": "stream",
     "text": [
      "EPOCH = 16 | LR = 0.2 | Loss = 1.51 | Batch = 390 | Accuracy = 42.81: 100%|████████████████████████████████████████████████████████████| 391/391 [00:16<00:00, 23.36it/s]\n"
     ]
    },
    {
     "name": "stdout",
     "output_type": "stream",
     "text": [
      "Test set: Average loss: 0.0104, Accuracy: 5207/10000 (52.07%)\n"
     ]
    },
    {
     "name": "stderr",
     "output_type": "stream",
     "text": [
      "EPOCH = 17 | LR = 0.2 | Loss = 1.37 | Batch = 390 | Accuracy = 42.83: 100%|████████████████████████████████████████████████████████████| 391/391 [00:16<00:00, 23.81it/s]\n"
     ]
    },
    {
     "name": "stdout",
     "output_type": "stream",
     "text": [
      "Test set: Average loss: 0.0103, Accuracy: 5212/10000 (52.12%)\n"
     ]
    },
    {
     "name": "stderr",
     "output_type": "stream",
     "text": [
      "EPOCH = 18 | LR = 0.2 | Loss = 1.66 | Batch = 390 | Accuracy = 43.29: 100%|████████████████████████████████████████████████████████████| 391/391 [00:16<00:00, 23.53it/s]\n"
     ]
    },
    {
     "name": "stdout",
     "output_type": "stream",
     "text": [
      "Test set: Average loss: 0.0101, Accuracy: 5302/10000 (53.02%)\n"
     ]
    },
    {
     "name": "stderr",
     "output_type": "stream",
     "text": [
      "EPOCH = 19 | LR = 0.2 | Loss = 1.44 | Batch = 390 | Accuracy = 43.68: 100%|████████████████████████████████████████████████████████████| 391/391 [00:17<00:00, 22.20it/s]\n"
     ]
    },
    {
     "name": "stdout",
     "output_type": "stream",
     "text": [
      "Test set: Average loss: 0.0098, Accuracy: 5448/10000 (54.48%)\n"
     ]
    },
    {
     "name": "stderr",
     "output_type": "stream",
     "text": [
      "EPOCH = 20 | LR = 0.2 | Loss = 1.63 | Batch = 390 | Accuracy = 43.58: 100%|████████████████████████████████████████████████████████████| 391/391 [00:16<00:00, 24.17it/s]\n"
     ]
    },
    {
     "name": "stdout",
     "output_type": "stream",
     "text": [
      "Test set: Average loss: 0.0101, Accuracy: 5435/10000 (54.35%)\n"
     ]
    },
    {
     "name": "stderr",
     "output_type": "stream",
     "text": [
      "EPOCH = 21 | LR = 0.2 | Loss = 1.59 | Batch = 390 | Accuracy = 44.47: 100%|████████████████████████████████████████████████████████████| 391/391 [00:16<00:00, 23.26it/s]\n"
     ]
    },
    {
     "name": "stdout",
     "output_type": "stream",
     "text": [
      "Test set: Average loss: 0.0101, Accuracy: 5352/10000 (53.52%)\n"
     ]
    },
    {
     "name": "stderr",
     "output_type": "stream",
     "text": [
      "EPOCH = 22 | LR = 0.2 | Loss = 1.58 | Batch = 390 | Accuracy = 44.94: 100%|████████████████████████████████████████████████████████████| 391/391 [00:16<00:00, 23.66it/s]\n"
     ]
    },
    {
     "name": "stdout",
     "output_type": "stream",
     "text": [
      "Test set: Average loss: 0.0098, Accuracy: 5432/10000 (54.32%)\n"
     ]
    },
    {
     "name": "stderr",
     "output_type": "stream",
     "text": [
      "EPOCH = 23 | LR = 0.2 | Loss = 1.60 | Batch = 390 | Accuracy = 45.20: 100%|████████████████████████████████████████████████████████████| 391/391 [00:16<00:00, 23.92it/s]\n"
     ]
    },
    {
     "name": "stdout",
     "output_type": "stream",
     "text": [
      "Test set: Average loss: 0.0098, Accuracy: 5405/10000 (54.05%)\n"
     ]
    },
    {
     "name": "stderr",
     "output_type": "stream",
     "text": [
      "EPOCH = 24 | LR = 0.2 | Loss = 1.54 | Batch = 390 | Accuracy = 45.16: 100%|████████████████████████████████████████████████████████████| 391/391 [00:16<00:00, 23.89it/s]\n"
     ]
    },
    {
     "name": "stdout",
     "output_type": "stream",
     "text": [
      "Test set: Average loss: 0.0096, Accuracy: 5577/10000 (55.77%)\n"
     ]
    },
    {
     "name": "stderr",
     "output_type": "stream",
     "text": [
      "EPOCH = 25 | LR = 0.2 | Loss = 1.55 | Batch = 390 | Accuracy = 45.53: 100%|████████████████████████████████████████████████████████████| 391/391 [00:16<00:00, 23.69it/s]\n"
     ]
    },
    {
     "name": "stdout",
     "output_type": "stream",
     "text": [
      "Test set: Average loss: 0.0097, Accuracy: 5510/10000 (55.10%)\n"
     ]
    },
    {
     "name": "stderr",
     "output_type": "stream",
     "text": [
      "EPOCH = 26 | LR = 0.2 | Loss = 1.67 | Batch = 390 | Accuracy = 45.76: 100%|████████████████████████████████████████████████████████████| 391/391 [00:16<00:00, 24.21it/s]\n"
     ]
    },
    {
     "name": "stdout",
     "output_type": "stream",
     "text": [
      "Test set: Average loss: 0.0093, Accuracy: 5656/10000 (56.56%)\n"
     ]
    },
    {
     "name": "stderr",
     "output_type": "stream",
     "text": [
      "EPOCH = 27 | LR = 0.2 | Loss = 1.45 | Batch = 390 | Accuracy = 45.88: 100%|████████████████████████████████████████████████████████████| 391/391 [00:16<00:00, 24.22it/s]\n"
     ]
    },
    {
     "name": "stdout",
     "output_type": "stream",
     "text": [
      "Test set: Average loss: 0.0094, Accuracy: 5671/10000 (56.71%)\n"
     ]
    },
    {
     "name": "stderr",
     "output_type": "stream",
     "text": [
      "EPOCH = 28 | LR = 0.2 | Loss = 1.59 | Batch = 390 | Accuracy = 46.06: 100%|████████████████████████████████████████████████████████████| 391/391 [00:16<00:00, 24.12it/s]\n"
     ]
    },
    {
     "name": "stdout",
     "output_type": "stream",
     "text": [
      "Test set: Average loss: 0.0095, Accuracy: 5643/10000 (56.43%)\n"
     ]
    },
    {
     "name": "stderr",
     "output_type": "stream",
     "text": [
      "EPOCH = 29 | LR = 0.2 | Loss = 1.37 | Batch = 390 | Accuracy = 46.33: 100%|████████████████████████████████████████████████████████████| 391/391 [00:15<00:00, 24.70it/s]\n"
     ]
    },
    {
     "name": "stdout",
     "output_type": "stream",
     "text": [
      "Test set: Average loss: 0.0094, Accuracy: 5708/10000 (57.08%)\n"
     ]
    },
    {
     "name": "stderr",
     "output_type": "stream",
     "text": [
      "EPOCH = 30 | LR = 0.2 | Loss = 1.38 | Batch = 390 | Accuracy = 46.68: 100%|████████████████████████████████████████████████████████████| 391/391 [00:16<00:00, 24.38it/s]\n"
     ]
    },
    {
     "name": "stdout",
     "output_type": "stream",
     "text": [
      "Test set: Average loss: 0.0094, Accuracy: 5744/10000 (57.44%)\n"
     ]
    },
    {
     "name": "stderr",
     "output_type": "stream",
     "text": [
      "EPOCH = 31 | LR = 0.2 | Loss = 1.27 | Batch = 390 | Accuracy = 47.11: 100%|████████████████████████████████████████████████████████████| 391/391 [00:16<00:00, 24.15it/s]\n"
     ]
    },
    {
     "name": "stdout",
     "output_type": "stream",
     "text": [
      "Test set: Average loss: 0.0090, Accuracy: 5901/10000 (59.01%)\n"
     ]
    },
    {
     "name": "stderr",
     "output_type": "stream",
     "text": [
      "EPOCH = 32 | LR = 0.2 | Loss = 1.47 | Batch = 390 | Accuracy = 47.28: 100%|████████████████████████████████████████████████████████████| 391/391 [00:16<00:00, 24.02it/s]\n"
     ]
    },
    {
     "name": "stdout",
     "output_type": "stream",
     "text": [
      "Test set: Average loss: 0.0091, Accuracy: 5856/10000 (58.56%)\n"
     ]
    },
    {
     "name": "stderr",
     "output_type": "stream",
     "text": [
      "EPOCH = 33 | LR = 0.2 | Loss = 1.43 | Batch = 390 | Accuracy = 47.36: 100%|████████████████████████████████████████████████████████████| 391/391 [00:16<00:00, 23.43it/s]\n"
     ]
    },
    {
     "name": "stdout",
     "output_type": "stream",
     "text": [
      "Test set: Average loss: 0.0092, Accuracy: 5738/10000 (57.38%)\n"
     ]
    },
    {
     "name": "stderr",
     "output_type": "stream",
     "text": [
      "EPOCH = 34 | LR = 0.2 | Loss = 1.34 | Batch = 390 | Accuracy = 47.65: 100%|████████████████████████████████████████████████████████████| 391/391 [00:16<00:00, 23.71it/s]\n"
     ]
    },
    {
     "name": "stdout",
     "output_type": "stream",
     "text": [
      "Test set: Average loss: 0.0090, Accuracy: 5985/10000 (59.85%)\n"
     ]
    },
    {
     "name": "stderr",
     "output_type": "stream",
     "text": [
      "EPOCH = 35 | LR = 0.2 | Loss = 1.56 | Batch = 390 | Accuracy = 47.76: 100%|████████████████████████████████████████████████████████████| 391/391 [00:16<00:00, 23.72it/s]\n"
     ]
    },
    {
     "name": "stdout",
     "output_type": "stream",
     "text": [
      "Test set: Average loss: 0.0091, Accuracy: 5907/10000 (59.07%)\n"
     ]
    },
    {
     "name": "stderr",
     "output_type": "stream",
     "text": [
      "EPOCH = 36 | LR = 0.2 | Loss = 1.27 | Batch = 390 | Accuracy = 47.84: 100%|████████████████████████████████████████████████████████████| 391/391 [00:16<00:00, 24.00it/s]\n"
     ]
    },
    {
     "name": "stdout",
     "output_type": "stream",
     "text": [
      "Test set: Average loss: 0.0090, Accuracy: 5859/10000 (58.59%)\n"
     ]
    },
    {
     "name": "stderr",
     "output_type": "stream",
     "text": [
      "EPOCH = 37 | LR = 0.2 | Loss = 1.35 | Batch = 390 | Accuracy = 47.82: 100%|████████████████████████████████████████████████████████████| 391/391 [00:16<00:00, 24.00it/s]\n"
     ]
    },
    {
     "name": "stdout",
     "output_type": "stream",
     "text": [
      "Test set: Average loss: 0.0087, Accuracy: 6067/10000 (60.67%)\n"
     ]
    },
    {
     "name": "stderr",
     "output_type": "stream",
     "text": [
      "EPOCH = 38 | LR = 0.2 | Loss = 1.45 | Batch = 390 | Accuracy = 48.33: 100%|████████████████████████████████████████████████████████████| 391/391 [00:16<00:00, 23.22it/s]\n"
     ]
    },
    {
     "name": "stdout",
     "output_type": "stream",
     "text": [
      "Test set: Average loss: 0.0092, Accuracy: 5822/10000 (58.22%)\n"
     ]
    },
    {
     "name": "stderr",
     "output_type": "stream",
     "text": [
      "EPOCH = 39 | LR = 0.2 | Loss = 1.33 | Batch = 390 | Accuracy = 48.25: 100%|████████████████████████████████████████████████████████████| 391/391 [00:16<00:00, 23.68it/s]\n"
     ]
    },
    {
     "name": "stdout",
     "output_type": "stream",
     "text": [
      "Test set: Average loss: 0.0086, Accuracy: 6072/10000 (60.72%)\n"
     ]
    },
    {
     "name": "stderr",
     "output_type": "stream",
     "text": [
      "EPOCH = 40 | LR = 0.2 | Loss = 1.23 | Batch = 390 | Accuracy = 48.21: 100%|████████████████████████████████████████████████████████████| 391/391 [00:16<00:00, 23.62it/s]\n"
     ]
    },
    {
     "name": "stdout",
     "output_type": "stream",
     "text": [
      "Test set: Average loss: 0.0087, Accuracy: 6104/10000 (61.04%)\n"
     ]
    },
    {
     "name": "stderr",
     "output_type": "stream",
     "text": [
      "EPOCH = 41 | LR = 0.2 | Loss = 1.23 | Batch = 390 | Accuracy = 48.74: 100%|████████████████████████████████████████████████████████████| 391/391 [00:16<00:00, 23.73it/s]\n"
     ]
    },
    {
     "name": "stdout",
     "output_type": "stream",
     "text": [
      "Test set: Average loss: 0.0091, Accuracy: 5819/10000 (58.19%)\n"
     ]
    },
    {
     "name": "stderr",
     "output_type": "stream",
     "text": [
      "EPOCH = 42 | LR = 0.2 | Loss = 1.44 | Batch = 390 | Accuracy = 49.09: 100%|████████████████████████████████████████████████████████████| 391/391 [00:16<00:00, 23.66it/s]\n"
     ]
    },
    {
     "name": "stdout",
     "output_type": "stream",
     "text": [
      "Test set: Average loss: 0.0087, Accuracy: 5983/10000 (59.83%)\n"
     ]
    },
    {
     "name": "stderr",
     "output_type": "stream",
     "text": [
      "EPOCH = 43 | LR = 0.2 | Loss = 1.51 | Batch = 390 | Accuracy = 48.82: 100%|████████████████████████████████████████████████████████████| 391/391 [00:16<00:00, 23.78it/s]\n"
     ]
    },
    {
     "name": "stdout",
     "output_type": "stream",
     "text": [
      "Test set: Average loss: 0.0085, Accuracy: 6134/10000 (61.34%)\n"
     ]
    },
    {
     "name": "stderr",
     "output_type": "stream",
     "text": [
      "EPOCH = 44 | LR = 0.2 | Loss = 1.33 | Batch = 390 | Accuracy = 49.16: 100%|████████████████████████████████████████████████████████████| 391/391 [00:16<00:00, 23.59it/s]\n"
     ]
    },
    {
     "name": "stdout",
     "output_type": "stream",
     "text": [
      "Test set: Average loss: 0.0085, Accuracy: 6079/10000 (60.79%)\n"
     ]
    },
    {
     "name": "stderr",
     "output_type": "stream",
     "text": [
      "EPOCH = 45 | LR = 0.2 | Loss = 1.23 | Batch = 390 | Accuracy = 50.01: 100%|████████████████████████████████████████████████████████████| 391/391 [00:16<00:00, 23.31it/s]\n"
     ]
    },
    {
     "name": "stdout",
     "output_type": "stream",
     "text": [
      "Test set: Average loss: 0.0085, Accuracy: 6135/10000 (61.35%)\n"
     ]
    },
    {
     "name": "stderr",
     "output_type": "stream",
     "text": [
      "EPOCH = 46 | LR = 0.2 | Loss = 1.49 | Batch = 390 | Accuracy = 49.46: 100%|████████████████████████████████████████████████████████████| 391/391 [00:16<00:00, 24.09it/s]\n"
     ]
    },
    {
     "name": "stdout",
     "output_type": "stream",
     "text": [
      "Test set: Average loss: 0.0086, Accuracy: 6098/10000 (60.98%)\n"
     ]
    },
    {
     "name": "stderr",
     "output_type": "stream",
     "text": [
      "EPOCH = 47 | LR = 0.2 | Loss = 1.30 | Batch = 390 | Accuracy = 49.84: 100%|████████████████████████████████████████████████████████████| 391/391 [00:16<00:00, 23.93it/s]\n"
     ]
    },
    {
     "name": "stdout",
     "output_type": "stream",
     "text": [
      "Test set: Average loss: 0.0086, Accuracy: 6065/10000 (60.65%)\n"
     ]
    },
    {
     "name": "stderr",
     "output_type": "stream",
     "text": [
      "EPOCH = 48 | LR = 0.2 | Loss = 1.20 | Batch = 390 | Accuracy = 49.84: 100%|████████████████████████████████████████████████████████████| 391/391 [00:16<00:00, 23.92it/s]\n"
     ]
    },
    {
     "name": "stdout",
     "output_type": "stream",
     "text": [
      "Test set: Average loss: 0.0083, Accuracy: 6246/10000 (62.46%)\n"
     ]
    },
    {
     "name": "stderr",
     "output_type": "stream",
     "text": [
      "EPOCH = 49 | LR = 0.2 | Loss = 1.32 | Batch = 390 | Accuracy = 50.12: 100%|████████████████████████████████████████████████████████████| 391/391 [00:15<00:00, 24.76it/s]\n"
     ]
    },
    {
     "name": "stdout",
     "output_type": "stream",
     "text": [
      "Test set: Average loss: 0.0084, Accuracy: 6145/10000 (61.45%)\n"
     ]
    },
    {
     "name": "stderr",
     "output_type": "stream",
     "text": [
      "EPOCH = 50 | LR = 0.2 | Loss = 1.45 | Batch = 390 | Accuracy = 49.92: 100%|████████████████████████████████████████████████████████████| 391/391 [00:16<00:00, 24.29it/s]\n"
     ]
    },
    {
     "name": "stdout",
     "output_type": "stream",
     "text": [
      "Test set: Average loss: 0.0084, Accuracy: 6176/10000 (61.76%)\n"
     ]
    }
   ],
   "source": [
    "prev_test_loss = float('inf')\n",
    "\n",
    "optimizer = optim.SGD(simple_model.parameters(), lr=0.2, momentum=0.9)\n",
    "scheduler = optim.lr_scheduler.ReduceLROnPlateau(optimizer=optimizer,mode='min',factor=0.1,patience=5)\n",
    "criterion = nn.NLLLoss()\n",
    "trainer = Trainer(simple_model, train_loader, optimizer, criterion, device)\n",
    "tester = Tester(simple_model, test_loader, criterion, device)\n",
    "\n",
    "for epoch in range(1, 51):\n",
    "    trainer.train(epoch=epoch)\n",
    "    _,test_loss = tester.test()\n",
    "    if prev_test_loss>test_loss:\n",
    "        torch.save(simple_model.state_dict(),'./bmodels/simple_model_with_mp_rf44.pth')\n",
    "    scheduler.step(test_loss)"
   ]
  },
  {
   "cell_type": "code",
   "execution_count": 10,
   "id": "d40c3b09-de6b-441f-a4ca-b34cbc0fa982",
   "metadata": {},
   "outputs": [
    {
     "data": {
      "image/png": "[encoded data removed]",
      "text/plain": [
       "<Figure size 1500x1000 with 4 Axes>"
      ]
     },
     "metadata": {},
     "output_type": "display_data"
    }
   ],
   "source": [
    "plot_curves(trainer.train_losses,trainer.train_accuracies,tester.test_losses,tester.test_accuracies)"
   ]
  },
  {
   "cell_type": "code",
   "execution_count": 11,
   "id": "19cf02e0-bfdd-4704-bc0e-a232502a9d0a",
   "metadata": {},
   "outputs": [],
   "source": [
    "# We used this Squeeze-Expand Network before\n",
    "class Net2(nn.Module):\n",
    "    def __init__(self):\n",
    "        super(Net2,self).__init__()\n",
    "        self.dp_rate = 0.1\n",
    "\n",
    "        self.c1 = ConvLayer(inc=3,outc=16,s=1,k=3,p=1,d=1,dp_rate=self.dp_rate)\n",
    "        self.c2 = ConvLayer(inc=16,outc=16,s=1,p=1,k=3,d=1,dp_rate=self.dp_rate)\n",
    "        self.c3 = ConvLayer(inc=16,outc=32,s=2,p=1,d=1,k=3,dp_rate=self.dp_rate)\n",
    "        \n",
    "        self.c4 = ConvLayer(inc=32,outc=40,k=3,s=1,p=1,d=1,dp_rate=self.dp_rate)\n",
    "        self.c5 = ConvLayer(inc=40,outc=40,k=3,s=1,p=1,d=1,dp_rate=self.dp_rate)\n",
    "        self.c6 = ConvLayer(inc=40,outc=40,k=3,s=2,p=1,d=1,dp_rate=self.dp_rate)\n",
    "\n",
    "        self.c7 = ConvLayer(inc=40,outc=80,k=3,s=1,p=1,d=1,dp_rate=self.dp_rate)\n",
    "        self.c8 = ConvLayer(inc=80,outc=80,k=3,s=1,p=1,d=1,dp_rate=self.dp_rate)\n",
    "        self.c9 = nn.Sequential(\n",
    "            nn.Conv2d(in_channels=80,out_channels=70,kernel_size=3,stride=2,dilation=1,padding=1,bias=False)\n",
    "        )\n",
    "\n",
    "        self.gap = nn.AdaptiveAvgPool2d(output_size=1)\n",
    "        self.c10 = nn.Conv2d(70,10,kernel_size=1,bias=False)\n",
    "    def forward(self,x):\n",
    "        x = self.c1(x)\n",
    "        x = x + self.c2(x)\n",
    "        x = self.c3(x)\n",
    "        \n",
    "        x = self.c4(x)\n",
    "        x = x+self.c5(x)\n",
    "        x = self.c6(x)\n",
    "\n",
    "        x = self.c7(x)\n",
    "        x = x + self.c8(x)\n",
    "        x = self.c9(x)\n",
    "\n",
    "        x = self.gap(x)\n",
    "        x = self.c10(x)\n",
    "        return F.log_softmax(x.view(-1,10), dim=1)"
   ]
  },
  {
   "cell_type": "code",
   "execution_count": 12,
   "id": "7fdefbd0-c666-44a4-8cbc-abbe1b8c07de",
   "metadata": {
    "scrolled": true
   },
   "outputs": [],
   "source": [
    "model2 = Net2().to(device)\n",
    "# summary(model2,(3,32,32))"
   ]
  },
  {
   "cell_type": "code",
   "execution_count": 13,
   "id": "326e1246-de51-460c-a98a-a9618ff1ff3f",
   "metadata": {
    "scrolled": true
   },
   "outputs": [
    {
     "name": "stderr",
     "output_type": "stream",
     "text": [
      "EPOCH = 1 | LR = 0.1 | Loss = 1.80 | Batch = 390 | Accuracy = 25.40: 100%|█████████████████████████████████████████████████████████████| 391/391 [00:17<00:00, 22.54it/s]\n"
     ]
    },
    {
     "name": "stdout",
     "output_type": "stream",
     "text": [
      "Test set: Average loss: 0.0132, Accuracy: 3777/10000 (37.77%)\n"
     ]
    },
    {
     "name": "stderr",
     "output_type": "stream",
     "text": [
      "EPOCH = 2 | LR = 0.1 | Loss = 1.58 | Batch = 390 | Accuracy = 34.72: 100%|█████████████████████████████████████████████████████████████| 391/391 [00:16<00:00, 23.18it/s]\n"
     ]
    },
    {
     "name": "stdout",
     "output_type": "stream",
     "text": [
      "Test set: Average loss: 0.0116, Accuracy: 4613/10000 (46.13%)\n"
     ]
    },
    {
     "name": "stderr",
     "output_type": "stream",
     "text": [
      "EPOCH = 3 | LR = 0.1 | Loss = 1.65 | Batch = 390 | Accuracy = 39.03: 100%|█████████████████████████████████████████████████████████████| 391/391 [00:17<00:00, 22.90it/s]\n"
     ]
    },
    {
     "name": "stdout",
     "output_type": "stream",
     "text": [
      "Test set: Average loss: 0.0111, Accuracy: 4735/10000 (47.35%)\n"
     ]
    },
    {
     "name": "stderr",
     "output_type": "stream",
     "text": [
      "EPOCH = 4 | LR = 0.1 | Loss = 1.65 | Batch = 390 | Accuracy = 41.49: 100%|█████████████████████████████████████████████████████████████| 391/391 [00:16<00:00, 23.08it/s]\n"
     ]
    },
    {
     "name": "stdout",
     "output_type": "stream",
     "text": [
      "Test set: Average loss: 0.0105, Accuracy: 5118/10000 (51.18%)\n"
     ]
    },
    {
     "name": "stderr",
     "output_type": "stream",
     "text": [
      "EPOCH = 5 | LR = 0.1 | Loss = 1.56 | Batch = 390 | Accuracy = 43.22: 100%|█████████████████████████████████████████████████████████████| 391/391 [00:17<00:00, 22.75it/s]\n"
     ]
    },
    {
     "name": "stdout",
     "output_type": "stream",
     "text": [
      "Test set: Average loss: 0.0102, Accuracy: 5300/10000 (53.00%)\n"
     ]
    },
    {
     "name": "stderr",
     "output_type": "stream",
     "text": [
      "EPOCH = 6 | LR = 0.1 | Loss = 1.41 | Batch = 390 | Accuracy = 45.77: 100%|█████████████████████████████████████████████████████████████| 391/391 [00:16<00:00, 23.56it/s]\n"
     ]
    },
    {
     "name": "stdout",
     "output_type": "stream",
     "text": [
      "Test set: Average loss: 0.0094, Accuracy: 5601/10000 (56.01%)\n"
     ]
    },
    {
     "name": "stderr",
     "output_type": "stream",
     "text": [
      "EPOCH = 7 | LR = 0.1 | Loss = 1.58 | Batch = 390 | Accuracy = 47.07: 100%|█████████████████████████████████████████████████████████████| 391/391 [00:17<00:00, 22.99it/s]\n"
     ]
    },
    {
     "name": "stdout",
     "output_type": "stream",
     "text": [
      "Test set: Average loss: 0.0093, Accuracy: 5753/10000 (57.53%)\n"
     ]
    },
    {
     "name": "stderr",
     "output_type": "stream",
     "text": [
      "EPOCH = 8 | LR = 0.1 | Loss = 1.39 | Batch = 390 | Accuracy = 48.88: 100%|█████████████████████████████████████████████████████████████| 391/391 [00:16<00:00, 23.80it/s]\n"
     ]
    },
    {
     "name": "stdout",
     "output_type": "stream",
     "text": [
      "Test set: Average loss: 0.0088, Accuracy: 5878/10000 (58.78%)\n"
     ]
    },
    {
     "name": "stderr",
     "output_type": "stream",
     "text": [
      "EPOCH = 9 | LR = 0.1 | Loss = 1.27 | Batch = 390 | Accuracy = 50.73: 100%|█████████████████████████████████████████████████████████████| 391/391 [00:16<00:00, 23.23it/s]\n"
     ]
    },
    {
     "name": "stdout",
     "output_type": "stream",
     "text": [
      "Test set: Average loss: 0.0085, Accuracy: 6085/10000 (60.85%)\n"
     ]
    },
    {
     "name": "stderr",
     "output_type": "stream",
     "text": [
      "EPOCH = 10 | LR = 0.1 | Loss = 1.33 | Batch = 390 | Accuracy = 51.65: 100%|████████████████████████████████████████████████████████████| 391/391 [00:17<00:00, 22.80it/s]\n"
     ]
    },
    {
     "name": "stdout",
     "output_type": "stream",
     "text": [
      "Test set: Average loss: 0.0081, Accuracy: 6413/10000 (64.13%)\n"
     ]
    },
    {
     "name": "stderr",
     "output_type": "stream",
     "text": [
      "EPOCH = 11 | LR = 0.1 | Loss = 1.34 | Batch = 390 | Accuracy = 52.98: 100%|████████████████████████████████████████████████████████████| 391/391 [00:16<00:00, 23.35it/s]\n"
     ]
    },
    {
     "name": "stdout",
     "output_type": "stream",
     "text": [
      "Test set: Average loss: 0.0086, Accuracy: 6100/10000 (61.00%)\n"
     ]
    },
    {
     "name": "stderr",
     "output_type": "stream",
     "text": [
      "EPOCH = 12 | LR = 0.1 | Loss = 1.11 | Batch = 390 | Accuracy = 54.13: 100%|████████████████████████████████████████████████████████████| 391/391 [00:16<00:00, 23.65it/s]\n"
     ]
    },
    {
     "name": "stdout",
     "output_type": "stream",
     "text": [
      "Test set: Average loss: 0.0078, Accuracy: 6455/10000 (64.55%)\n"
     ]
    },
    {
     "name": "stderr",
     "output_type": "stream",
     "text": [
      "EPOCH = 13 | LR = 0.1 | Loss = 1.08 | Batch = 390 | Accuracy = 54.89: 100%|████████████████████████████████████████████████████████████| 391/391 [00:16<00:00, 23.11it/s]\n"
     ]
    },
    {
     "name": "stdout",
     "output_type": "stream",
     "text": [
      "Test set: Average loss: 0.0073, Accuracy: 6735/10000 (67.35%)\n"
     ]
    },
    {
     "name": "stderr",
     "output_type": "stream",
     "text": [
      "EPOCH = 14 | LR = 0.1 | Loss = 1.07 | Batch = 390 | Accuracy = 55.70: 100%|████████████████████████████████████████████████████████████| 391/391 [00:17<00:00, 22.85it/s]\n"
     ]
    },
    {
     "name": "stdout",
     "output_type": "stream",
     "text": [
      "Test set: Average loss: 0.0069, Accuracy: 6938/10000 (69.38%)\n"
     ]
    },
    {
     "name": "stderr",
     "output_type": "stream",
     "text": [
      "EPOCH = 15 | LR = 0.1 | Loss = 1.22 | Batch = 390 | Accuracy = 56.96: 100%|████████████████████████████████████████████████████████████| 391/391 [00:17<00:00, 22.41it/s]\n"
     ]
    },
    {
     "name": "stdout",
     "output_type": "stream",
     "text": [
      "Test set: Average loss: 0.0075, Accuracy: 6595/10000 (65.95%)\n"
     ]
    },
    {
     "name": "stderr",
     "output_type": "stream",
     "text": [
      "EPOCH = 16 | LR = 0.1 | Loss = 1.24 | Batch = 390 | Accuracy = 57.28: 100%|████████████████████████████████████████████████████████████| 391/391 [00:17<00:00, 21.98it/s]\n"
     ]
    },
    {
     "name": "stdout",
     "output_type": "stream",
     "text": [
      "Test set: Average loss: 0.0069, Accuracy: 6926/10000 (69.26%)\n"
     ]
    },
    {
     "name": "stderr",
     "output_type": "stream",
     "text": [
      "EPOCH = 17 | LR = 0.1 | Loss = 1.32 | Batch = 390 | Accuracy = 57.92: 100%|████████████████████████████████████████████████████████████| 391/391 [00:18<00:00, 21.47it/s]\n"
     ]
    },
    {
     "name": "stdout",
     "output_type": "stream",
     "text": [
      "Test set: Average loss: 0.0066, Accuracy: 7058/10000 (70.58%)\n"
     ]
    },
    {
     "name": "stderr",
     "output_type": "stream",
     "text": [
      "EPOCH = 18 | LR = 0.1 | Loss = 1.14 | Batch = 390 | Accuracy = 58.88: 100%|████████████████████████████████████████████████████████████| 391/391 [00:18<00:00, 21.51it/s]\n"
     ]
    },
    {
     "name": "stdout",
     "output_type": "stream",
     "text": [
      "Test set: Average loss: 0.0065, Accuracy: 7134/10000 (71.34%)\n"
     ]
    },
    {
     "name": "stderr",
     "output_type": "stream",
     "text": [
      "EPOCH = 19 | LR = 0.1 | Loss = 1.35 | Batch = 390 | Accuracy = 59.34: 100%|████████████████████████████████████████████████████████████| 391/391 [00:17<00:00, 22.29it/s]\n"
     ]
    },
    {
     "name": "stdout",
     "output_type": "stream",
     "text": [
      "Test set: Average loss: 0.0067, Accuracy: 7065/10000 (70.65%)\n"
     ]
    },
    {
     "name": "stderr",
     "output_type": "stream",
     "text": [
      "EPOCH = 20 | LR = 0.1 | Loss = 1.29 | Batch = 390 | Accuracy = 59.89: 100%|████████████████████████████████████████████████████████████| 391/391 [00:18<00:00, 21.29it/s]\n"
     ]
    },
    {
     "name": "stdout",
     "output_type": "stream",
     "text": [
      "Test set: Average loss: 0.0061, Accuracy: 7336/10000 (73.36%)\n"
     ]
    },
    {
     "name": "stderr",
     "output_type": "stream",
     "text": [
      "EPOCH = 21 | LR = 0.1 | Loss = 1.56 | Batch = 390 | Accuracy = 60.17: 100%|████████████████████████████████████████████████████████████| 391/391 [00:18<00:00, 21.69it/s]\n"
     ]
    },
    {
     "name": "stdout",
     "output_type": "stream",
     "text": [
      "Test set: Average loss: 0.0063, Accuracy: 7252/10000 (72.52%)\n"
     ]
    },
    {
     "name": "stderr",
     "output_type": "stream",
     "text": [
      "EPOCH = 22 | LR = 0.1 | Loss = 1.00 | Batch = 390 | Accuracy = 60.64: 100%|████████████████████████████████████████████████████████████| 391/391 [00:17<00:00, 21.75it/s]\n"
     ]
    },
    {
     "name": "stdout",
     "output_type": "stream",
     "text": [
      "Test set: Average loss: 0.0061, Accuracy: 7289/10000 (72.89%)\n"
     ]
    },
    {
     "name": "stderr",
     "output_type": "stream",
     "text": [
      "EPOCH = 23 | LR = 0.1 | Loss = 1.12 | Batch = 390 | Accuracy = 61.06: 100%|████████████████████████████████████████████████████████████| 391/391 [00:17<00:00, 22.01it/s]\n"
     ]
    },
    {
     "name": "stdout",
     "output_type": "stream",
     "text": [
      "Test set: Average loss: 0.0060, Accuracy: 7328/10000 (73.28%)\n"
     ]
    },
    {
     "name": "stderr",
     "output_type": "stream",
     "text": [
      "EPOCH = 24 | LR = 0.1 | Loss = 1.13 | Batch = 390 | Accuracy = 61.47: 100%|████████████████████████████████████████████████████████████| 391/391 [00:17<00:00, 22.01it/s]\n"
     ]
    },
    {
     "name": "stdout",
     "output_type": "stream",
     "text": [
      "Test set: Average loss: 0.0062, Accuracy: 7188/10000 (71.88%)\n"
     ]
    },
    {
     "name": "stderr",
     "output_type": "stream",
     "text": [
      "EPOCH = 25 | LR = 0.1 | Loss = 1.18 | Batch = 390 | Accuracy = 61.58: 100%|████████████████████████████████████████████████████████████| 391/391 [00:17<00:00, 21.99it/s]\n"
     ]
    },
    {
     "name": "stdout",
     "output_type": "stream",
     "text": [
      "Test set: Average loss: 0.0061, Accuracy: 7261/10000 (72.61%)\n"
     ]
    },
    {
     "name": "stderr",
     "output_type": "stream",
     "text": [
      "EPOCH = 26 | LR = 0.1 | Loss = 1.12 | Batch = 390 | Accuracy = 62.00: 100%|████████████████████████████████████████████████████████████| 391/391 [00:17<00:00, 22.22it/s]\n"
     ]
    },
    {
     "name": "stdout",
     "output_type": "stream",
     "text": [
      "Test set: Average loss: 0.0057, Accuracy: 7539/10000 (75.39%)\n"
     ]
    },
    {
     "name": "stderr",
     "output_type": "stream",
     "text": [
      "EPOCH = 27 | LR = 0.1 | Loss = 0.89 | Batch = 390 | Accuracy = 62.11: 100%|████████████████████████████████████████████████████████████| 391/391 [00:17<00:00, 21.92it/s]\n"
     ]
    },
    {
     "name": "stdout",
     "output_type": "stream",
     "text": [
      "Test set: Average loss: 0.0055, Accuracy: 7552/10000 (75.52%)\n"
     ]
    },
    {
     "name": "stderr",
     "output_type": "stream",
     "text": [
      "EPOCH = 28 | LR = 0.1 | Loss = 1.24 | Batch = 390 | Accuracy = 62.47: 100%|████████████████████████████████████████████████████████████| 391/391 [00:17<00:00, 21.77it/s]\n"
     ]
    },
    {
     "name": "stdout",
     "output_type": "stream",
     "text": [
      "Test set: Average loss: 0.0056, Accuracy: 7557/10000 (75.57%)\n"
     ]
    },
    {
     "name": "stderr",
     "output_type": "stream",
     "text": [
      "EPOCH = 29 | LR = 0.1 | Loss = 1.20 | Batch = 390 | Accuracy = 63.04: 100%|████████████████████████████████████████████████████████████| 391/391 [00:17<00:00, 22.28it/s]\n"
     ]
    },
    {
     "name": "stdout",
     "output_type": "stream",
     "text": [
      "Test set: Average loss: 0.0059, Accuracy: 7382/10000 (73.82%)\n"
     ]
    },
    {
     "name": "stderr",
     "output_type": "stream",
     "text": [
      "EPOCH = 30 | LR = 0.1 | Loss = 1.09 | Batch = 390 | Accuracy = 62.96: 100%|████████████████████████████████████████████████████████████| 391/391 [00:18<00:00, 21.56it/s]\n"
     ]
    },
    {
     "name": "stdout",
     "output_type": "stream",
     "text": [
      "Test set: Average loss: 0.0055, Accuracy: 7531/10000 (75.31%)\n"
     ]
    },
    {
     "name": "stderr",
     "output_type": "stream",
     "text": [
      "EPOCH = 31 | LR = 0.1 | Loss = 0.99 | Batch = 390 | Accuracy = 63.11: 100%|████████████████████████████████████████████████████████████| 391/391 [00:18<00:00, 21.67it/s]\n"
     ]
    },
    {
     "name": "stdout",
     "output_type": "stream",
     "text": [
      "Test set: Average loss: 0.0054, Accuracy: 7599/10000 (75.99%)\n"
     ]
    },
    {
     "name": "stderr",
     "output_type": "stream",
     "text": [
      "EPOCH = 32 | LR = 0.1 | Loss = 0.83 | Batch = 390 | Accuracy = 63.70: 100%|████████████████████████████████████████████████████████████| 391/391 [00:17<00:00, 22.19it/s]\n"
     ]
    },
    {
     "name": "stdout",
     "output_type": "stream",
     "text": [
      "Test set: Average loss: 0.0055, Accuracy: 7625/10000 (76.25%)\n"
     ]
    },
    {
     "name": "stderr",
     "output_type": "stream",
     "text": [
      "EPOCH = 33 | LR = 0.1 | Loss = 1.02 | Batch = 390 | Accuracy = 63.68: 100%|████████████████████████████████████████████████████████████| 391/391 [00:17<00:00, 22.08it/s]\n"
     ]
    },
    {
     "name": "stdout",
     "output_type": "stream",
     "text": [
      "Test set: Average loss: 0.0056, Accuracy: 7527/10000 (75.27%)\n"
     ]
    },
    {
     "name": "stderr",
     "output_type": "stream",
     "text": [
      "EPOCH = 34 | LR = 0.1 | Loss = 0.91 | Batch = 390 | Accuracy = 64.26: 100%|████████████████████████████████████████████████████████████| 391/391 [00:17<00:00, 21.73it/s]\n"
     ]
    },
    {
     "name": "stdout",
     "output_type": "stream",
     "text": [
      "Test set: Average loss: 0.0054, Accuracy: 7642/10000 (76.42%)\n"
     ]
    },
    {
     "name": "stderr",
     "output_type": "stream",
     "text": [
      "EPOCH = 35 | LR = 0.1 | Loss = 0.95 | Batch = 390 | Accuracy = 64.08: 100%|████████████████████████████████████████████████████████████| 391/391 [00:18<00:00, 21.60it/s]\n"
     ]
    },
    {
     "name": "stdout",
     "output_type": "stream",
     "text": [
      "Test set: Average loss: 0.0053, Accuracy: 7671/10000 (76.71%)\n"
     ]
    },
    {
     "name": "stderr",
     "output_type": "stream",
     "text": [
      "EPOCH = 36 | LR = 0.1 | Loss = 1.17 | Batch = 390 | Accuracy = 64.35: 100%|████████████████████████████████████████████████████████████| 391/391 [00:18<00:00, 21.50it/s]\n"
     ]
    },
    {
     "name": "stdout",
     "output_type": "stream",
     "text": [
      "Test set: Average loss: 0.0054, Accuracy: 7622/10000 (76.22%)\n"
     ]
    },
    {
     "name": "stderr",
     "output_type": "stream",
     "text": [
      "EPOCH = 37 | LR = 0.1 | Loss = 1.01 | Batch = 390 | Accuracy = 64.23: 100%|████████████████████████████████████████████████████████████| 391/391 [00:17<00:00, 22.28it/s]\n"
     ]
    },
    {
     "name": "stdout",
     "output_type": "stream",
     "text": [
      "Test set: Average loss: 0.0051, Accuracy: 7777/10000 (77.77%)\n"
     ]
    },
    {
     "name": "stderr",
     "output_type": "stream",
     "text": [
      "EPOCH = 38 | LR = 0.1 | Loss = 1.11 | Batch = 390 | Accuracy = 64.69: 100%|████████████████████████████████████████████████████████████| 391/391 [00:17<00:00, 21.77it/s]\n"
     ]
    },
    {
     "name": "stdout",
     "output_type": "stream",
     "text": [
      "Test set: Average loss: 0.0056, Accuracy: 7453/10000 (74.53%)\n"
     ]
    },
    {
     "name": "stderr",
     "output_type": "stream",
     "text": [
      "EPOCH = 39 | LR = 0.1 | Loss = 0.92 | Batch = 390 | Accuracy = 64.75: 100%|████████████████████████████████████████████████████████████| 391/391 [00:18<00:00, 21.43it/s]\n"
     ]
    },
    {
     "name": "stdout",
     "output_type": "stream",
     "text": [
      "Test set: Average loss: 0.0053, Accuracy: 7644/10000 (76.44%)\n"
     ]
    },
    {
     "name": "stderr",
     "output_type": "stream",
     "text": [
      "EPOCH = 40 | LR = 0.1 | Loss = 1.13 | Batch = 390 | Accuracy = 64.66: 100%|████████████████████████████████████████████████████████████| 391/391 [00:18<00:00, 21.47it/s]\n"
     ]
    },
    {
     "name": "stdout",
     "output_type": "stream",
     "text": [
      "Test set: Average loss: 0.0054, Accuracy: 7619/10000 (76.19%)\n"
     ]
    },
    {
     "name": "stderr",
     "output_type": "stream",
     "text": [
      "EPOCH = 41 | LR = 0.1 | Loss = 1.09 | Batch = 390 | Accuracy = 65.13: 100%|████████████████████████████████████████████████████████████| 391/391 [00:18<00:00, 21.67it/s]\n"
     ]
    },
    {
     "name": "stdout",
     "output_type": "stream",
     "text": [
      "Test set: Average loss: 0.0052, Accuracy: 7708/10000 (77.08%)\n"
     ]
    },
    {
     "name": "stderr",
     "output_type": "stream",
     "text": [
      "EPOCH = 42 | LR = 0.1 | Loss = 0.78 | Batch = 390 | Accuracy = 64.71: 100%|████████████████████████████████████████████████████████████| 391/391 [00:18<00:00, 21.62it/s]\n"
     ]
    },
    {
     "name": "stdout",
     "output_type": "stream",
     "text": [
      "Test set: Average loss: 0.0052, Accuracy: 7695/10000 (76.95%)\n"
     ]
    },
    {
     "name": "stderr",
     "output_type": "stream",
     "text": [
      "EPOCH = 43 | LR = 0.1 | Loss = 1.28 | Batch = 390 | Accuracy = 65.49: 100%|████████████████████████████████████████████████████████████| 391/391 [00:17<00:00, 21.80it/s]\n"
     ]
    },
    {
     "name": "stdout",
     "output_type": "stream",
     "text": [
      "Test set: Average loss: 0.0052, Accuracy: 7726/10000 (77.26%)\n"
     ]
    },
    {
     "name": "stderr",
     "output_type": "stream",
     "text": [
      "EPOCH = 44 | LR = 0.010000000000000002 | Loss = 0.77 | Batch = 390 | Accuracy = 67.69: 100%|███████████████████████████████████████████| 391/391 [00:17<00:00, 22.12it/s]\n"
     ]
    },
    {
     "name": "stdout",
     "output_type": "stream",
     "text": [
      "Test set: Average loss: 0.0048, Accuracy: 7906/10000 (79.06%)\n"
     ]
    },
    {
     "name": "stderr",
     "output_type": "stream",
     "text": [
      "EPOCH = 45 | LR = 0.010000000000000002 | Loss = 0.87 | Batch = 390 | Accuracy = 68.06: 100%|███████████████████████████████████████████| 391/391 [00:17<00:00, 22.15it/s]\n"
     ]
    },
    {
     "name": "stdout",
     "output_type": "stream",
     "text": [
      "Test set: Average loss: 0.0046, Accuracy: 7959/10000 (79.59%)\n"
     ]
    },
    {
     "name": "stderr",
     "output_type": "stream",
     "text": [
      "EPOCH = 46 | LR = 0.010000000000000002 | Loss = 0.91 | Batch = 390 | Accuracy = 68.47: 100%|███████████████████████████████████████████| 391/391 [00:17<00:00, 21.88it/s]\n"
     ]
    },
    {
     "name": "stdout",
     "output_type": "stream",
     "text": [
      "Test set: Average loss: 0.0047, Accuracy: 7915/10000 (79.15%)\n"
     ]
    },
    {
     "name": "stderr",
     "output_type": "stream",
     "text": [
      "EPOCH = 47 | LR = 0.010000000000000002 | Loss = 0.87 | Batch = 390 | Accuracy = 68.58: 100%|███████████████████████████████████████████| 391/391 [00:17<00:00, 22.30it/s]\n"
     ]
    },
    {
     "name": "stdout",
     "output_type": "stream",
     "text": [
      "Test set: Average loss: 0.0046, Accuracy: 7928/10000 (79.28%)\n"
     ]
    },
    {
     "name": "stderr",
     "output_type": "stream",
     "text": [
      "EPOCH = 48 | LR = 0.010000000000000002 | Loss = 0.99 | Batch = 390 | Accuracy = 68.37: 100%|███████████████████████████████████████████| 391/391 [00:17<00:00, 22.31it/s]\n"
     ]
    },
    {
     "name": "stdout",
     "output_type": "stream",
     "text": [
      "Test set: Average loss: 0.0047, Accuracy: 7934/10000 (79.34%)\n"
     ]
    },
    {
     "name": "stderr",
     "output_type": "stream",
     "text": [
      "EPOCH = 49 | LR = 0.010000000000000002 | Loss = 0.91 | Batch = 390 | Accuracy = 68.26: 100%|███████████████████████████████████████████| 391/391 [00:17<00:00, 21.98it/s]\n"
     ]
    },
    {
     "name": "stdout",
     "output_type": "stream",
     "text": [
      "Test set: Average loss: 0.0045, Accuracy: 7970/10000 (79.70%)\n"
     ]
    },
    {
     "name": "stderr",
     "output_type": "stream",
     "text": [
      "EPOCH = 50 | LR = 0.010000000000000002 | Loss = 0.96 | Batch = 390 | Accuracy = 68.73: 100%|███████████████████████████████████████████| 391/391 [00:19<00:00, 20.01it/s]\n"
     ]
    },
    {
     "name": "stdout",
     "output_type": "stream",
     "text": [
      "Test set: Average loss: 0.0045, Accuracy: 7964/10000 (79.64%)\n"
     ]
    }
   ],
   "source": [
    "prev_test_loss = float('inf')\n",
    "model2 = Net2().to(device)\n",
    "optimizer = optim.SGD(model2.parameters(), lr=0.1, momentum=0.9)\n",
    "scheduler = optim.lr_scheduler.ReduceLROnPlateau(optimizer=optimizer,mode='min',factor=0.1,patience=5)\n",
    "criterion = nn.NLLLoss()\n",
    "trainer = Trainer(model2, train_loader, optimizer, criterion, device)\n",
    "tester = Tester(model2, test_loader, criterion, device)\n",
    "\n",
    "for epoch in range(1, 51):\n",
    "    trainer.train(epoch=epoch)\n",
    "    _,test_loss = tester.test()\n",
    "    if prev_test_loss>test_loss:\n",
    "        torch.save(model2.state_dict(),'./bmodels/simple_model_with_mp_rf44_resnet.pth')\n",
    "    scheduler.step(test_loss)"
   ]
  },
  {
   "cell_type": "code",
   "execution_count": 14,
   "id": "3687d94c-174f-48c8-b78a-09ddf9bd63da",
   "metadata": {},
   "outputs": [
    {
     "data": {
      "image/png": "[encoded data removed]",
      "text/plain": [
       "<Figure size 1500x1000 with 4 Axes>"
      ]
     },
     "metadata": {},
     "output_type": "display_data"
    }
   ],
   "source": [
    "plot_curves(trainer.train_losses,trainer.train_accuracies,tester.test_losses,tester.test_accuracies)\n"
   ]
  },
  {
   "cell_type": "code",
   "execution_count": null,
   "id": "a2258c8d-be08-4ed2-8cde-df195492fd90",
   "metadata": {},
   "outputs": [],
   "source": []
  },
  {
   "cell_type": "markdown",
   "id": "74383358-3302-4c55-9216-a624e09494e1",
   "metadata": {},
   "source": [
    "# Dilated Kernels implementation"
   ]
  },
  {
   "cell_type": "code",
   "execution_count": 20,
   "id": "56ebb8df-1854-4b39-8715-cb19a7352c75",
   "metadata": {},
   "outputs": [],
   "source": [
    "class Net(nn.Module):\n",
    "    def __init__(self,dp_rate):\n",
    "        super(Net,self).__init__()\n",
    "        self.dp_rate = dp_rate\n",
    "    \n",
    "        self.c1 = nn.Sequential(\n",
    "            ConvLayer(inc=3,outc=8,k=3,p=1,s=1,d=1,dp_rate=self.dp_rate),\n",
    "            ConvLayer(inc=8,outc=12,k=3,p=1,s=1,d=1,dp_rate=self.dp_rate),\n",
    "            ConvLayer(inc=12,outc=16,k=3,p=1,s=1,d=1,dp_rate=self.dp_rate)\n",
    "        )\n",
    "\n",
    "        self.c2 = nn.Sequential(\n",
    "            ConvLayer(inc=16,outc=24,k=3,p=1,d=1,s=1,dp_rate=self.dp_rate),\n",
    "            ConvLayer(inc=24,outc=24,k=3,p=0,s=1,d=1,dp_rate=self.dp_rate)\n",
    "        )\n",
    "        self.c3DiL = nn.Sequential(\n",
    "            ConvLayer(inc=16,outc=24,s=1,p=1,d=2,k=3,dp_rate=self.dp_rate),\n",
    "        )\n",
    "\n",
    "\n",
    "        self.c4 = nn.Sequential(\n",
    "            ConvLayer(inc=24,outc=30,k=3,p=1,s=1,d=1,dp_rate=self.dp_rate),\n",
    "            ConvLayer(inc=30,outc=30,k=3,p=0,s=1,d=1,dp_rate=self.dp_rate),\n",
    "        )\n",
    "\n",
    "\n",
    "        self.c5DiL = nn.Sequential(\n",
    "            ConvLayer(inc=24,outc=30,k=3,d=2,p=1,dp_rate=self.dp_rate,s=1)\n",
    "        )\n",
    "\n",
    "        self.c6 = nn.Sequential(\n",
    "            ConvLayer(inc=30,outc=32,k=3,p=0,dp_rate=self.dp_rate,s=1,d=1),\n",
    "            ConvLayer(inc=32,outc=36,k=3,p=0,dp_rate=self.dp_rate,s=1,d=1),\n",
    "            ConvLayer(inc=36,outc=38,k=3,p=0,dp_rate=self.dp_rate,s=1,d=1),\n",
    "            ConvLayer(inc=38,outc=40,k=3,p=0,dp_rate=self.dp_rate,s=1,d=1)\n",
    "        )\n",
    "\n",
    "        self.C7DiL = nn.Sequential(\n",
    "            ConvLayer(inc=30,outc=36,k=3,p=0,dp_rate=self.dp_rate,s=1,d=2),\n",
    "            ConvLayer(inc=36,outc=40,k=3,p=0,dp_rate=self.dp_rate,s=1,d=2)\n",
    "        )\n",
    "\n",
    "        self.gap = nn.AdaptiveAvgPool2d(output_size=1)\n",
    "        self.out = nn.Conv2d(in_channels=40,out_channels=10,kernel_size=1,bias=False)\n",
    "    \n",
    "    def forward(self,x):\n",
    "\n",
    "        # BLOCK ONE\n",
    "        x = self.c1(x)\n",
    "        path1 = self.c2(x)\n",
    "        path2 = F.dropout2d(\n",
    "                    F.relu_( \n",
    "                        F.batch_norm(\n",
    "                            self.c3DiL(x),\n",
    "                            torch.zeros(24,device=device), #mu=0\n",
    "                            torch.ones(24,device=device),   # ones are fine for first training iter  \n",
    "                            training=True,\n",
    "                            momentum=0.9\n",
    "                        )\n",
    "                    ) # self.c3DiL(x)\n",
    "                )\n",
    "        x = path1 + path2\n",
    "\n",
    "        # BLOCK TWO\n",
    "        path1 = self.c4(x)\n",
    "        path2 = F.dropout2d(\n",
    "                    F.relu_( \n",
    "                        F.batch_norm(\n",
    "                            self.c5DiL(x),\n",
    "                            torch.zeros(30,device=device), #mu=0\n",
    "                            torch.ones(30,device=device),   # ones are fine for first training iter  \n",
    "                            training=True,\n",
    "                            momentum=0.9\n",
    "                        )\n",
    "                    ) # self.c3DiL(x)\n",
    "                )\n",
    "        x = path1+path2 \n",
    "\n",
    "        # BLOCK 4\n",
    "        path1 = self.c6(x)\n",
    "        path2  =F.dropout2d(\n",
    "                    F.relu_( \n",
    "                        F.batch_norm(\n",
    "                            self.C7DiL(x),\n",
    "                            torch.zeros(40,device=device), #mu=0\n",
    "                            torch.ones(40,device=device),   # ones are fine for first training iter  \n",
    "                            training=True,\n",
    "                            momentum=0.9\n",
    "                        )\n",
    "                    ) # self.c3DiL(x)\n",
    "                )\n",
    "        x = path1 + path2\n",
    "\n",
    "        # GAP\n",
    "        x = self.gap(x)\n",
    "\n",
    "        # OUT BLOCK\n",
    "        x = self.out(x)\n",
    "        return F.log_softmax(x.view(-1,10), dim=1)"
   ]
  },
  {
   "cell_type": "code",
   "execution_count": 21,
   "id": "46c2f259-12e8-4a2e-86e9-356cb9c9a2b2",
   "metadata": {
    "scrolled": true
   },
   "outputs": [
    {
     "data": {
      "text/plain": [
       "==========================================================================================\n",
       "Layer (type:depth-idx)                   Output Shape              Param #\n",
       "==========================================================================================\n",
       "Net                                      [1, 10]                   --\n",
       "├─Sequential: 1-1                        [1, 16, 32, 32]           --\n",
       "│    └─ConvLayer: 2-1                    [1, 8, 32, 32]            --\n",
       "│    │    └─Sequential: 3-1              [1, 8, 32, 32]            232\n",
       "│    └─ConvLayer: 2-2                    [1, 12, 32, 32]           --\n",
       "│    │    └─Sequential: 3-2              [1, 12, 32, 32]           888\n",
       "│    └─ConvLayer: 2-3                    [1, 16, 32, 32]           --\n",
       "│    │    └─Sequential: 3-3              [1, 16, 32, 32]           1,760\n",
       "├─Sequential: 1-2                        [1, 24, 30, 30]           --\n",
       "│    └─ConvLayer: 2-4                    [1, 24, 32, 32]           --\n",
       "│    │    └─Sequential: 3-4              [1, 24, 32, 32]           3,504\n",
       "│    └─ConvLayer: 2-5                    [1, 24, 30, 30]           --\n",
       "│    │    └─Sequential: 3-5              [1, 24, 30, 30]           5,232\n",
       "├─Sequential: 1-3                        [1, 24, 30, 30]           --\n",
       "│    └─ConvLayer: 2-6                    [1, 24, 30, 30]           --\n",
       "│    │    └─Sequential: 3-6              [1, 24, 30, 30]           3,504\n",
       "├─Sequential: 1-4                        [1, 30, 28, 28]           --\n",
       "│    └─ConvLayer: 2-7                    [1, 30, 30, 30]           --\n",
       "│    │    └─Sequential: 3-7              [1, 30, 30, 30]           6,540\n",
       "│    └─ConvLayer: 2-8                    [1, 30, 28, 28]           --\n",
       "│    │    └─Sequential: 3-8              [1, 30, 28, 28]           8,160\n",
       "├─Sequential: 1-5                        [1, 30, 28, 28]           --\n",
       "│    └─ConvLayer: 2-9                    [1, 30, 28, 28]           --\n",
       "│    │    └─Sequential: 3-9              [1, 30, 28, 28]           6,540\n",
       "├─Sequential: 1-6                        [1, 40, 20, 20]           --\n",
       "│    └─ConvLayer: 2-10                   [1, 32, 26, 26]           --\n",
       "│    │    └─Sequential: 3-10             [1, 32, 26, 26]           8,704\n",
       "│    └─ConvLayer: 2-11                   [1, 36, 24, 24]           --\n",
       "│    │    └─Sequential: 3-11             [1, 36, 24, 24]           10,440\n",
       "│    └─ConvLayer: 2-12                   [1, 38, 22, 22]           --\n",
       "│    │    └─Sequential: 3-12             [1, 38, 22, 22]           12,388\n",
       "│    └─ConvLayer: 2-13                   [1, 40, 20, 20]           --\n",
       "│    │    └─Sequential: 3-13             [1, 40, 20, 20]           13,760\n",
       "├─Sequential: 1-7                        [1, 40, 20, 20]           --\n",
       "│    └─ConvLayer: 2-14                   [1, 36, 24, 24]           --\n",
       "│    │    └─Sequential: 3-14             [1, 36, 24, 24]           9,792\n",
       "│    └─ConvLayer: 2-15                   [1, 40, 20, 20]           --\n",
       "│    │    └─Sequential: 3-15             [1, 40, 20, 20]           13,040\n",
       "├─AdaptiveAvgPool2d: 1-8                 [1, 40, 1, 1]             --\n",
       "├─Conv2d: 1-9                            [1, 10, 1, 1]             400\n",
       "==========================================================================================\n",
       "Total params: 104,884\n",
       "Trainable params: 104,884\n",
       "Non-trainable params: 0\n",
       "Total mult-adds (Units.MEGABYTES): 65.48\n",
       "==========================================================================================\n",
       "Input size (MB): 0.01\n",
       "Forward/backward pass size (MB): 4.67\n",
       "Params size (MB): 0.42\n",
       "Estimated Total Size (MB): 5.11\n",
       "=========================================================================================="
      ]
     },
     "execution_count": 21,
     "metadata": {},
     "output_type": "execute_result"
    }
   ],
   "source": [
    "model3 = Net(0.1).to(device)\n",
    "summary(model3,(1,3,32,32),)"
   ]
  },
  {
   "cell_type": "code",
   "execution_count": 22,
   "id": "da12f028-4980-49fe-8362-193b6f76a110",
   "metadata": {
    "scrolled": true
   },
   "outputs": [
    {
     "name": "stderr",
     "output_type": "stream",
     "text": [
      "EPOCH = 1 | LR = 0.1 | Loss = 1.98 | Batch = 390 | Accuracy = 19.42: 100%|█████████████████████████████████████████████████████████████| 391/391 [00:30<00:00, 12.64it/s]\n"
     ]
    },
    {
     "name": "stdout",
     "output_type": "stream",
     "text": [
      "Test set: Average loss: 0.0152, Accuracy: 2393/10000 (23.93%)\n"
     ]
    },
    {
     "name": "stderr",
     "output_type": "stream",
     "text": [
      "EPOCH = 2 | LR = 0.1 | Loss = 1.79 | Batch = 390 | Accuracy = 24.92: 100%|█████████████████████████████████████████████████████████████| 391/391 [00:30<00:00, 12.95it/s]\n"
     ]
    },
    {
     "name": "stdout",
     "output_type": "stream",
     "text": [
      "Test set: Average loss: 0.0143, Accuracy: 2792/10000 (27.92%)\n"
     ]
    },
    {
     "name": "stderr",
     "output_type": "stream",
     "text": [
      "EPOCH = 3 | LR = 0.1 | Loss = 1.77 | Batch = 390 | Accuracy = 29.03: 100%|█████████████████████████████████████████████████████████████| 391/391 [00:30<00:00, 12.96it/s]\n"
     ]
    },
    {
     "name": "stdout",
     "output_type": "stream",
     "text": [
      "Test set: Average loss: 0.0139, Accuracy: 3215/10000 (32.15%)\n"
     ]
    },
    {
     "name": "stderr",
     "output_type": "stream",
     "text": [
      "EPOCH = 4 | LR = 0.1 | Loss = 1.83 | Batch = 390 | Accuracy = 31.54: 100%|█████████████████████████████████████████████████████████████| 391/391 [00:30<00:00, 12.95it/s]\n"
     ]
    },
    {
     "name": "stdout",
     "output_type": "stream",
     "text": [
      "Test set: Average loss: 0.0133, Accuracy: 3556/10000 (35.56%)\n"
     ]
    },
    {
     "name": "stderr",
     "output_type": "stream",
     "text": [
      "EPOCH = 5 | LR = 0.1 | Loss = 1.68 | Batch = 390 | Accuracy = 33.42: 100%|█████████████████████████████████████████████████████████████| 391/391 [00:30<00:00, 12.93it/s]\n"
     ]
    },
    {
     "name": "stdout",
     "output_type": "stream",
     "text": [
      "Test set: Average loss: 0.0131, Accuracy: 3775/10000 (37.75%)\n"
     ]
    },
    {
     "name": "stderr",
     "output_type": "stream",
     "text": [
      "EPOCH = 6 | LR = 0.1 | Loss = 1.59 | Batch = 390 | Accuracy = 35.71: 100%|█████████████████████████████████████████████████████████████| 391/391 [00:30<00:00, 12.91it/s]\n"
     ]
    },
    {
     "name": "stdout",
     "output_type": "stream",
     "text": [
      "Test set: Average loss: 0.0123, Accuracy: 4120/10000 (41.20%)\n"
     ]
    },
    {
     "name": "stderr",
     "output_type": "stream",
     "text": [
      "EPOCH = 7 | LR = 0.1 | Loss = 1.63 | Batch = 390 | Accuracy = 37.70: 100%|█████████████████████████████████████████████████████████████| 391/391 [00:30<00:00, 12.96it/s]\n"
     ]
    },
    {
     "name": "stdout",
     "output_type": "stream",
     "text": [
      "Test set: Average loss: 0.0118, Accuracy: 4508/10000 (45.08%)\n"
     ]
    },
    {
     "name": "stderr",
     "output_type": "stream",
     "text": [
      "EPOCH = 8 | LR = 0.1 | Loss = 1.75 | Batch = 390 | Accuracy = 39.91: 100%|█████████████████████████████████████████████████████████████| 391/391 [00:30<00:00, 12.93it/s]\n"
     ]
    },
    {
     "name": "stdout",
     "output_type": "stream",
     "text": [
      "Test set: Average loss: 0.0115, Accuracy: 4618/10000 (46.18%)\n"
     ]
    },
    {
     "name": "stderr",
     "output_type": "stream",
     "text": [
      "EPOCH = 9 | LR = 0.1 | Loss = 1.45 | Batch = 390 | Accuracy = 41.82: 100%|█████████████████████████████████████████████████████████████| 391/391 [00:30<00:00, 12.93it/s]\n"
     ]
    },
    {
     "name": "stdout",
     "output_type": "stream",
     "text": [
      "Test set: Average loss: 0.0115, Accuracy: 4611/10000 (46.11%)\n"
     ]
    },
    {
     "name": "stderr",
     "output_type": "stream",
     "text": [
      "EPOCH = 10 | LR = 0.1 | Loss = 1.68 | Batch = 390 | Accuracy = 43.53: 100%|████████████████████████████████████████████████████████████| 391/391 [00:30<00:00, 12.95it/s]\n"
     ]
    },
    {
     "name": "stdout",
     "output_type": "stream",
     "text": [
      "Test set: Average loss: 0.0108, Accuracy: 5023/10000 (50.23%)\n"
     ]
    },
    {
     "name": "stderr",
     "output_type": "stream",
     "text": [
      "EPOCH = 11 | LR = 0.1 | Loss = 1.42 | Batch = 390 | Accuracy = 45.37: 100%|████████████████████████████████████████████████████████████| 391/391 [00:30<00:00, 12.92it/s]\n"
     ]
    },
    {
     "name": "stdout",
     "output_type": "stream",
     "text": [
      "Test set: Average loss: 0.0106, Accuracy: 5048/10000 (50.48%)\n"
     ]
    },
    {
     "name": "stderr",
     "output_type": "stream",
     "text": [
      "EPOCH = 12 | LR = 0.1 | Loss = 1.38 | Batch = 390 | Accuracy = 46.53: 100%|████████████████████████████████████████████████████████████| 391/391 [00:30<00:00, 12.90it/s]\n"
     ]
    },
    {
     "name": "stdout",
     "output_type": "stream",
     "text": [
      "Test set: Average loss: 0.0103, Accuracy: 5306/10000 (53.06%)\n"
     ]
    },
    {
     "name": "stderr",
     "output_type": "stream",
     "text": [
      "EPOCH = 13 | LR = 0.1 | Loss = 1.58 | Batch = 390 | Accuracy = 47.65: 100%|████████████████████████████████████████████████████████████| 391/391 [00:30<00:00, 12.84it/s]\n"
     ]
    },
    {
     "name": "stdout",
     "output_type": "stream",
     "text": [
      "Test set: Average loss: 0.0100, Accuracy: 5413/10000 (54.13%)\n"
     ]
    },
    {
     "name": "stderr",
     "output_type": "stream",
     "text": [
      "EPOCH = 14 | LR = 0.1 | Loss = 1.39 | Batch = 390 | Accuracy = 49.17: 100%|████████████████████████████████████████████████████████████| 391/391 [00:30<00:00, 12.91it/s]\n"
     ]
    },
    {
     "name": "stdout",
     "output_type": "stream",
     "text": [
      "Test set: Average loss: 0.0101, Accuracy: 5404/10000 (54.04%)\n"
     ]
    },
    {
     "name": "stderr",
     "output_type": "stream",
     "text": [
      "EPOCH = 15 | LR = 0.1 | Loss = 1.49 | Batch = 390 | Accuracy = 50.17: 100%|████████████████████████████████████████████████████████████| 391/391 [00:30<00:00, 12.91it/s]\n"
     ]
    },
    {
     "name": "stdout",
     "output_type": "stream",
     "text": [
      "Test set: Average loss: 0.0095, Accuracy: 5636/10000 (56.36%)\n"
     ]
    },
    {
     "name": "stderr",
     "output_type": "stream",
     "text": [
      "EPOCH = 16 | LR = 0.1 | Loss = 1.26 | Batch = 390 | Accuracy = 50.85: 100%|████████████████████████████████████████████████████████████| 391/391 [00:30<00:00, 12.95it/s]\n"
     ]
    },
    {
     "name": "stdout",
     "output_type": "stream",
     "text": [
      "Test set: Average loss: 0.0094, Accuracy: 5705/10000 (57.05%)\n"
     ]
    },
    {
     "name": "stderr",
     "output_type": "stream",
     "text": [
      "EPOCH = 17 | LR = 0.1 | Loss = 1.03 | Batch = 390 | Accuracy = 51.84: 100%|████████████████████████████████████████████████████████████| 391/391 [00:30<00:00, 12.89it/s]\n"
     ]
    },
    {
     "name": "stdout",
     "output_type": "stream",
     "text": [
      "Test set: Average loss: 0.0091, Accuracy: 5835/10000 (58.35%)\n"
     ]
    },
    {
     "name": "stderr",
     "output_type": "stream",
     "text": [
      "EPOCH = 18 | LR = 0.1 | Loss = 1.27 | Batch = 390 | Accuracy = 52.13: 100%|████████████████████████████████████████████████████████████| 391/391 [00:30<00:00, 12.88it/s]\n"
     ]
    },
    {
     "name": "stdout",
     "output_type": "stream",
     "text": [
      "Test set: Average loss: 0.0090, Accuracy: 5865/10000 (58.65%)\n"
     ]
    },
    {
     "name": "stderr",
     "output_type": "stream",
     "text": [
      "EPOCH = 19 | LR = 0.1 | Loss = 1.21 | Batch = 390 | Accuracy = 53.05: 100%|████████████████████████████████████████████████████████████| 391/391 [00:31<00:00, 12.28it/s]\n"
     ]
    },
    {
     "name": "stdout",
     "output_type": "stream",
     "text": [
      "Test set: Average loss: 0.0091, Accuracy: 5783/10000 (57.83%)\n"
     ]
    },
    {
     "name": "stderr",
     "output_type": "stream",
     "text": [
      "EPOCH = 20 | LR = 0.1 | Loss = 1.08 | Batch = 390 | Accuracy = 53.87: 100%|████████████████████████████████████████████████████████████| 391/391 [00:31<00:00, 12.44it/s]\n"
     ]
    },
    {
     "name": "stdout",
     "output_type": "stream",
     "text": [
      "Test set: Average loss: 0.0089, Accuracy: 5898/10000 (58.98%)\n"
     ]
    },
    {
     "name": "stderr",
     "output_type": "stream",
     "text": [
      "EPOCH = 21 | LR = 0.1 | Loss = 1.33 | Batch = 390 | Accuracy = 54.52: 100%|████████████████████████████████████████████████████████████| 391/391 [00:31<00:00, 12.44it/s]\n"
     ]
    },
    {
     "name": "stdout",
     "output_type": "stream",
     "text": [
      "Test set: Average loss: 0.0087, Accuracy: 5997/10000 (59.97%)\n"
     ]
    },
    {
     "name": "stderr",
     "output_type": "stream",
     "text": [
      "EPOCH = 22 | LR = 0.1 | Loss = 1.29 | Batch = 390 | Accuracy = 54.63: 100%|████████████████████████████████████████████████████████████| 391/391 [00:31<00:00, 12.46it/s]\n"
     ]
    },
    {
     "name": "stdout",
     "output_type": "stream",
     "text": [
      "Test set: Average loss: 0.0087, Accuracy: 6128/10000 (61.28%)\n"
     ]
    },
    {
     "name": "stderr",
     "output_type": "stream",
     "text": [
      "EPOCH = 23 | LR = 0.1 | Loss = 1.51 | Batch = 390 | Accuracy = 55.49: 100%|████████████████████████████████████████████████████████████| 391/391 [00:31<00:00, 12.34it/s]\n"
     ]
    },
    {
     "name": "stdout",
     "output_type": "stream",
     "text": [
      "Test set: Average loss: 0.0083, Accuracy: 6223/10000 (62.23%)\n"
     ]
    },
    {
     "name": "stderr",
     "output_type": "stream",
     "text": [
      "EPOCH = 24 | LR = 0.1 | Loss = 1.24 | Batch = 390 | Accuracy = 55.84: 100%|████████████████████████████████████████████████████████████| 391/391 [00:32<00:00, 12.19it/s]\n"
     ]
    },
    {
     "name": "stdout",
     "output_type": "stream",
     "text": [
      "Test set: Average loss: 0.0084, Accuracy: 6215/10000 (62.15%)\n"
     ]
    },
    {
     "name": "stderr",
     "output_type": "stream",
     "text": [
      "EPOCH = 25 | LR = 0.1 | Loss = 1.20 | Batch = 390 | Accuracy = 56.23: 100%|████████████████████████████████████████████████████████████| 391/391 [00:31<00:00, 12.24it/s]\n"
     ]
    },
    {
     "name": "stdout",
     "output_type": "stream",
     "text": [
      "Test set: Average loss: 0.0081, Accuracy: 6331/10000 (63.31%)\n"
     ]
    },
    {
     "name": "stderr",
     "output_type": "stream",
     "text": [
      "EPOCH = 26 | LR = 0.1 | Loss = 1.17 | Batch = 390 | Accuracy = 56.80: 100%|████████████████████████████████████████████████████████████| 391/391 [00:31<00:00, 12.57it/s]\n"
     ]
    },
    {
     "name": "stdout",
     "output_type": "stream",
     "text": [
      "Test set: Average loss: 0.0081, Accuracy: 6372/10000 (63.72%)\n"
     ]
    },
    {
     "name": "stderr",
     "output_type": "stream",
     "text": [
      "EPOCH = 27 | LR = 0.1 | Loss = 1.18 | Batch = 390 | Accuracy = 56.87: 100%|████████████████████████████████████████████████████████████| 391/391 [00:31<00:00, 12.56it/s]\n"
     ]
    },
    {
     "name": "stdout",
     "output_type": "stream",
     "text": [
      "Test set: Average loss: 0.0084, Accuracy: 6135/10000 (61.35%)\n"
     ]
    },
    {
     "name": "stderr",
     "output_type": "stream",
     "text": [
      "EPOCH = 28 | LR = 0.1 | Loss = 1.19 | Batch = 390 | Accuracy = 57.39: 100%|████████████████████████████████████████████████████████████| 391/391 [00:31<00:00, 12.56it/s]\n"
     ]
    },
    {
     "name": "stdout",
     "output_type": "stream",
     "text": [
      "Test set: Average loss: 0.0081, Accuracy: 6380/10000 (63.80%)\n"
     ]
    },
    {
     "name": "stderr",
     "output_type": "stream",
     "text": [
      "EPOCH = 29 | LR = 0.1 | Loss = 1.22 | Batch = 390 | Accuracy = 58.22: 100%|████████████████████████████████████████████████████████████| 391/391 [00:31<00:00, 12.58it/s]\n"
     ]
    },
    {
     "name": "stdout",
     "output_type": "stream",
     "text": [
      "Test set: Average loss: 0.0080, Accuracy: 6430/10000 (64.30%)\n"
     ]
    },
    {
     "name": "stderr",
     "output_type": "stream",
     "text": [
      "EPOCH = 30 | LR = 0.1 | Loss = 1.05 | Batch = 390 | Accuracy = 57.97: 100%|████████████████████████████████████████████████████████████| 391/391 [00:31<00:00, 12.58it/s]\n"
     ]
    },
    {
     "name": "stdout",
     "output_type": "stream",
     "text": [
      "Test set: Average loss: 0.0081, Accuracy: 6292/10000 (62.92%)\n"
     ]
    },
    {
     "name": "stderr",
     "output_type": "stream",
     "text": [
      "EPOCH = 31 | LR = 0.1 | Loss = 1.32 | Batch = 390 | Accuracy = 58.37: 100%|████████████████████████████████████████████████████████████| 391/391 [00:31<00:00, 12.39it/s]\n"
     ]
    },
    {
     "name": "stdout",
     "output_type": "stream",
     "text": [
      "Test set: Average loss: 0.0079, Accuracy: 6453/10000 (64.53%)\n"
     ]
    },
    {
     "name": "stderr",
     "output_type": "stream",
     "text": [
      "EPOCH = 32 | LR = 0.1 | Loss = 1.10 | Batch = 390 | Accuracy = 58.80: 100%|████████████████████████████████████████████████████████████| 391/391 [00:31<00:00, 12.57it/s]\n"
     ]
    },
    {
     "name": "stdout",
     "output_type": "stream",
     "text": [
      "Test set: Average loss: 0.0078, Accuracy: 6439/10000 (64.39%)\n"
     ]
    },
    {
     "name": "stderr",
     "output_type": "stream",
     "text": [
      "EPOCH = 33 | LR = 0.1 | Loss = 1.32 | Batch = 390 | Accuracy = 58.74: 100%|████████████████████████████████████████████████████████████| 391/391 [00:31<00:00, 12.58it/s]\n"
     ]
    },
    {
     "name": "stdout",
     "output_type": "stream",
     "text": [
      "Test set: Average loss: 0.0079, Accuracy: 6386/10000 (63.86%)\n"
     ]
    },
    {
     "name": "stderr",
     "output_type": "stream",
     "text": [
      "EPOCH = 34 | LR = 0.1 | Loss = 1.19 | Batch = 390 | Accuracy = 59.30: 100%|████████████████████████████████████████████████████████████| 391/391 [00:31<00:00, 12.60it/s]\n"
     ]
    },
    {
     "name": "stdout",
     "output_type": "stream",
     "text": [
      "Test set: Average loss: 0.0076, Accuracy: 6532/10000 (65.32%)\n"
     ]
    },
    {
     "name": "stderr",
     "output_type": "stream",
     "text": [
      "EPOCH = 35 | LR = 0.1 | Loss = 1.06 | Batch = 390 | Accuracy = 59.61: 100%|████████████████████████████████████████████████████████████| 391/391 [00:31<00:00, 12.56it/s]\n"
     ]
    },
    {
     "name": "stdout",
     "output_type": "stream",
     "text": [
      "Test set: Average loss: 0.0077, Accuracy: 6479/10000 (64.79%)\n"
     ]
    },
    {
     "name": "stderr",
     "output_type": "stream",
     "text": [
      "EPOCH = 36 | LR = 0.1 | Loss = 1.21 | Batch = 390 | Accuracy = 59.54: 100%|████████████████████████████████████████████████████████████| 391/391 [00:31<00:00, 12.55it/s]\n"
     ]
    },
    {
     "name": "stdout",
     "output_type": "stream",
     "text": [
      "Test set: Average loss: 0.0078, Accuracy: 6410/10000 (64.10%)\n"
     ]
    },
    {
     "name": "stderr",
     "output_type": "stream",
     "text": [
      "EPOCH = 37 | LR = 0.1 | Loss = 1.18 | Batch = 390 | Accuracy = 59.77: 100%|████████████████████████████████████████████████████████████| 391/391 [00:31<00:00, 12.55it/s]\n"
     ]
    },
    {
     "name": "stdout",
     "output_type": "stream",
     "text": [
      "Test set: Average loss: 0.0077, Accuracy: 6475/10000 (64.75%)\n"
     ]
    },
    {
     "name": "stderr",
     "output_type": "stream",
     "text": [
      "EPOCH = 38 | LR = 0.1 | Loss = 1.20 | Batch = 390 | Accuracy = 60.22: 100%|████████████████████████████████████████████████████████████| 391/391 [00:31<00:00, 12.55it/s]\n"
     ]
    },
    {
     "name": "stdout",
     "output_type": "stream",
     "text": [
      "Test set: Average loss: 0.0076, Accuracy: 6559/10000 (65.59%)\n"
     ]
    },
    {
     "name": "stderr",
     "output_type": "stream",
     "text": [
      "EPOCH = 39 | LR = 0.1 | Loss = 0.90 | Batch = 390 | Accuracy = 60.28: 100%|████████████████████████████████████████████████████████████| 391/391 [00:31<00:00, 12.56it/s]\n"
     ]
    },
    {
     "name": "stdout",
     "output_type": "stream",
     "text": [
      "Test set: Average loss: 0.0074, Accuracy: 6618/10000 (66.18%)\n"
     ]
    },
    {
     "name": "stderr",
     "output_type": "stream",
     "text": [
      "EPOCH = 40 | LR = 0.1 | Loss = 0.92 | Batch = 390 | Accuracy = 60.96: 100%|████████████████████████████████████████████████████████████| 391/391 [00:31<00:00, 12.55it/s]\n"
     ]
    },
    {
     "name": "stdout",
     "output_type": "stream",
     "text": [
      "Test set: Average loss: 0.0074, Accuracy: 6721/10000 (67.21%)\n"
     ]
    },
    {
     "name": "stderr",
     "output_type": "stream",
     "text": [
      "EPOCH = 41 | LR = 0.1 | Loss = 1.22 | Batch = 390 | Accuracy = 60.61: 100%|████████████████████████████████████████████████████████████| 391/391 [00:31<00:00, 12.54it/s]\n"
     ]
    },
    {
     "name": "stdout",
     "output_type": "stream",
     "text": [
      "Test set: Average loss: 0.0074, Accuracy: 6639/10000 (66.39%)\n"
     ]
    },
    {
     "name": "stderr",
     "output_type": "stream",
     "text": [
      "EPOCH = 42 | LR = 0.1 | Loss = 1.31 | Batch = 390 | Accuracy = 61.36: 100%|████████████████████████████████████████████████████████████| 391/391 [00:31<00:00, 12.56it/s]\n"
     ]
    },
    {
     "name": "stdout",
     "output_type": "stream",
     "text": [
      "Test set: Average loss: 0.0073, Accuracy: 6711/10000 (67.11%)\n"
     ]
    },
    {
     "name": "stderr",
     "output_type": "stream",
     "text": [
      "EPOCH = 43 | LR = 0.1 | Loss = 1.15 | Batch = 390 | Accuracy = 61.19: 100%|████████████████████████████████████████████████████████████| 391/391 [00:31<00:00, 12.55it/s]\n"
     ]
    },
    {
     "name": "stdout",
     "output_type": "stream",
     "text": [
      "Test set: Average loss: 0.0073, Accuracy: 6733/10000 (67.33%)\n"
     ]
    },
    {
     "name": "stderr",
     "output_type": "stream",
     "text": [
      "EPOCH = 44 | LR = 0.1 | Loss = 1.24 | Batch = 390 | Accuracy = 61.46: 100%|████████████████████████████████████████████████████████████| 391/391 [00:31<00:00, 12.36it/s]\n"
     ]
    },
    {
     "name": "stdout",
     "output_type": "stream",
     "text": [
      "Test set: Average loss: 0.0073, Accuracy: 6691/10000 (66.91%)\n"
     ]
    },
    {
     "name": "stderr",
     "output_type": "stream",
     "text": [
      "EPOCH = 45 | LR = 0.1 | Loss = 1.04 | Batch = 390 | Accuracy = 61.54: 100%|████████████████████████████████████████████████████████████| 391/391 [00:31<00:00, 12.52it/s]\n"
     ]
    },
    {
     "name": "stdout",
     "output_type": "stream",
     "text": [
      "Test set: Average loss: 0.0073, Accuracy: 6733/10000 (67.33%)\n"
     ]
    },
    {
     "name": "stderr",
     "output_type": "stream",
     "text": [
      "EPOCH = 46 | LR = 0.1 | Loss = 1.00 | Batch = 390 | Accuracy = 61.82: 100%|████████████████████████████████████████████████████████████| 391/391 [00:31<00:00, 12.55it/s]\n"
     ]
    },
    {
     "name": "stdout",
     "output_type": "stream",
     "text": [
      "Test set: Average loss: 0.0070, Accuracy: 6851/10000 (68.51%)\n"
     ]
    },
    {
     "name": "stderr",
     "output_type": "stream",
     "text": [
      "EPOCH = 47 | LR = 0.1 | Loss = 0.95 | Batch = 390 | Accuracy = 61.92: 100%|████████████████████████████████████████████████████████████| 391/391 [00:31<00:00, 12.56it/s]\n"
     ]
    },
    {
     "name": "stdout",
     "output_type": "stream",
     "text": [
      "Test set: Average loss: 0.0073, Accuracy: 6648/10000 (66.48%)\n"
     ]
    },
    {
     "name": "stderr",
     "output_type": "stream",
     "text": [
      "EPOCH = 48 | LR = 0.1 | Loss = 0.86 | Batch = 390 | Accuracy = 62.10: 100%|████████████████████████████████████████████████████████████| 391/391 [00:31<00:00, 12.55it/s]\n"
     ]
    },
    {
     "name": "stdout",
     "output_type": "stream",
     "text": [
      "Test set: Average loss: 0.0073, Accuracy: 6723/10000 (67.23%)\n"
     ]
    },
    {
     "name": "stderr",
     "output_type": "stream",
     "text": [
      "EPOCH = 49 | LR = 0.1 | Loss = 1.05 | Batch = 390 | Accuracy = 62.06: 100%|████████████████████████████████████████████████████████████| 391/391 [00:31<00:00, 12.50it/s]\n"
     ]
    },
    {
     "name": "stdout",
     "output_type": "stream",
     "text": [
      "Test set: Average loss: 0.0070, Accuracy: 6817/10000 (68.17%)\n"
     ]
    },
    {
     "name": "stderr",
     "output_type": "stream",
     "text": [
      "EPOCH = 50 | LR = 0.1 | Loss = 1.03 | Batch = 390 | Accuracy = 62.47: 100%|████████████████████████████████████████████████████████████| 391/391 [00:31<00:00, 12.53it/s]\n"
     ]
    },
    {
     "name": "stdout",
     "output_type": "stream",
     "text": [
      "Test set: Average loss: 0.0071, Accuracy: 6756/10000 (67.56%)\n"
     ]
    }
   ],
   "source": [
    "prev_test_loss = float('inf')\n",
    "\n",
    "\n",
    "optimizer = optim.SGD(model3.parameters(), lr=0.1, momentum=0.9)\n",
    "scheduler = optim.lr_scheduler.ReduceLROnPlateau(optimizer=optimizer,mode='min',factor=0.1,patience=5)\n",
    "criterion = nn.NLLLoss()\n",
    "trainer = Trainer(model3, simple_train_loader, optimizer, criterion, device)\n",
    "tester = Tester(model3, simple_test_loader, criterion, device)\n",
    "\n",
    "for epoch in range(1, 51):\n",
    "    trainer.train(epoch=epoch)\n",
    "    _,test_loss = tester.test()\n",
    "    if prev_test_loss>test_loss:\n",
    "        torch.save(model3.state_dict(),'./bmodels/simple_model_with_mp_rf44_resnet_with_dilation_kernel.pth')\n",
    "    scheduler.step(test_loss)"
   ]
  },
  {
   "cell_type": "code",
   "execution_count": 23,
   "id": "75531cac-2109-4762-ab06-433ed2110915",
   "metadata": {},
   "outputs": [
    {
     "data": {
      "image/png": "[encoded data removed]",
      "text/plain": [
       "<Figure size 1500x1000 with 4 Axes>"
      ]
     },
     "metadata": {},
     "output_type": "display_data"
    }
   ],
   "source": [
    "plot_curves(trainer.train_losses,trainer.train_accuracies,tester.test_losses,tester.test_accuracies)"
   ]
  },
  {
   "cell_type": "code",
   "execution_count": null,
   "id": "368f6973-249b-4e59-a104-4b7f396777ae",
   "metadata": {
    "scrolled": true
   },
   "outputs": [
    {
     "name": "stderr",
     "output_type": "stream",
     "text": [
      "EPOCH = 1 | LR = 0.1 | Loss = 2.15 | Batch = 390 | Accuracy = 15.45: 100%|█████████████████████████████████████████████████████████████| 391/391 [00:35<00:00, 11.06it/s]\n"
     ]
    },
    {
     "name": "stdout",
     "output_type": "stream",
     "text": [
      "Test set: Average loss: 0.0169, Accuracy: 2083/10000 (20.83%)\n"
     ]
    },
    {
     "name": "stderr",
     "output_type": "stream",
     "text": [
      "EPOCH = 2 | LR = 0.1 | Loss = 2.10 | Batch = 390 | Accuracy = 18.49: 100%|█████████████████████████████████████████████████████████████| 391/391 [00:34<00:00, 11.35it/s]\n"
     ]
    },
    {
     "name": "stdout",
     "output_type": "stream",
     "text": [
      "Test set: Average loss: 0.0164, Accuracy: 2073/10000 (20.73%)\n"
     ]
    },
    {
     "name": "stderr",
     "output_type": "stream",
     "text": [
      "EPOCH = 3 | LR = 0.1 | Loss = 2.19 | Batch = 390 | Accuracy = 19.10: 100%|█████████████████████████████████████████████████████████████| 391/391 [00:34<00:00, 11.37it/s]\n"
     ]
    },
    {
     "name": "stdout",
     "output_type": "stream",
     "text": [
      "Test set: Average loss: 0.0163, Accuracy: 2155/10000 (21.55%)\n"
     ]
    },
    {
     "name": "stderr",
     "output_type": "stream",
     "text": [
      "EPOCH = 4 | LR = 0.1 | Loss = 2.24 | Batch = 390 | Accuracy = 19.78: 100%|█████████████████████████████████████████████████████████████| 391/391 [00:33<00:00, 11.65it/s]\n"
     ]
    },
    {
     "name": "stdout",
     "output_type": "stream",
     "text": [
      "Test set: Average loss: 0.0161, Accuracy: 2232/10000 (22.32%)\n"
     ]
    },
    {
     "name": "stderr",
     "output_type": "stream",
     "text": [
      "EPOCH = 5 | LR = 0.1 | Loss = 1.95 | Batch = 390 | Accuracy = 20.45: 100%|█████████████████████████████████████████████████████████████| 391/391 [00:33<00:00, 11.65it/s]\n"
     ]
    },
    {
     "name": "stdout",
     "output_type": "stream",
     "text": [
      "Test set: Average loss: 0.0159, Accuracy: 2537/10000 (25.37%)\n"
     ]
    },
    {
     "name": "stderr",
     "output_type": "stream",
     "text": [
      "EPOCH = 6 | LR = 0.1 | Loss = 2.08 | Batch = 390 | Accuracy = 21.23: 100%|█████████████████████████████████████████████████████████████| 391/391 [00:33<00:00, 11.65it/s]\n"
     ]
    },
    {
     "name": "stdout",
     "output_type": "stream",
     "text": [
      "Test set: Average loss: 0.0156, Accuracy: 2492/10000 (24.92%)\n"
     ]
    },
    {
     "name": "stderr",
     "output_type": "stream",
     "text": [
      "EPOCH = 7 | LR = 0.1 | Loss = 2.03 | Batch = 390 | Accuracy = 22.21: 100%|█████████████████████████████████████████████████████████████| 391/391 [00:33<00:00, 11.67it/s]\n"
     ]
    },
    {
     "name": "stdout",
     "output_type": "stream",
     "text": [
      "Test set: Average loss: 0.0153, Accuracy: 2805/10000 (28.05%)\n"
     ]
    },
    {
     "name": "stderr",
     "output_type": "stream",
     "text": [
      "EPOCH = 8 | LR = 0.1 | Loss = 2.31 | Batch = 390 | Accuracy = 22.67: 100%|█████████████████████████████████████████████████████████████| 391/391 [00:33<00:00, 11.69it/s]\n"
     ]
    },
    {
     "name": "stdout",
     "output_type": "stream",
     "text": [
      "Test set: Average loss: 0.0151, Accuracy: 2819/10000 (28.19%)\n"
     ]
    },
    {
     "name": "stderr",
     "output_type": "stream",
     "text": [
      "EPOCH = 9 | LR = 0.1 | Loss = 1.93 | Batch = 390 | Accuracy = 23.60: 100%|█████████████████████████████████████████████████████████████| 391/391 [00:33<00:00, 11.69it/s]\n"
     ]
    },
    {
     "name": "stdout",
     "output_type": "stream",
     "text": [
      "Test set: Average loss: 0.0148, Accuracy: 3004/10000 (30.04%)\n"
     ]
    },
    {
     "name": "stderr",
     "output_type": "stream",
     "text": [
      "EPOCH = 10 | LR = 0.1 | Loss = 2.09 | Batch = 390 | Accuracy = 23.97: 100%|████████████████████████████████████████████████████████████| 391/391 [00:33<00:00, 11.54it/s]\n"
     ]
    },
    {
     "name": "stdout",
     "output_type": "stream",
     "text": [
      "Test set: Average loss: 0.0145, Accuracy: 3135/10000 (31.35%)\n"
     ]
    },
    {
     "name": "stderr",
     "output_type": "stream",
     "text": [
      "EPOCH = 11 | LR = 0.1 | Loss = 2.04 | Batch = 390 | Accuracy = 25.24: 100%|████████████████████████████████████████████████████████████| 391/391 [09:56<00:00,  1.52s/it]\n"
     ]
    },
    {
     "name": "stdout",
     "output_type": "stream",
     "text": [
      "Test set: Average loss: 0.0145, Accuracy: 3012/10000 (30.12%)\n"
     ]
    },
    {
     "name": "stderr",
     "output_type": "stream",
     "text": [
      "EPOCH = 12 | LR = 0.1 | Loss = 1.91 | Batch = 390 | Accuracy = 25.35: 100%|████████████████████████████████████████████████████████████| 391/391 [00:33<00:00, 11.65it/s]\n"
     ]
    },
    {
     "name": "stdout",
     "output_type": "stream",
     "text": [
      "Test set: Average loss: 0.0142, Accuracy: 3184/10000 (31.84%)\n"
     ]
    },
    {
     "name": "stderr",
     "output_type": "stream",
     "text": [
      "EPOCH = 13 | LR = 0.1 | Loss = 1.82 | Batch = 390 | Accuracy = 26.16: 100%|████████████████████████████████████████████████████████████| 391/391 [00:33<00:00, 11.57it/s]\n"
     ]
    },
    {
     "name": "stdout",
     "output_type": "stream",
     "text": [
      "Test set: Average loss: 0.0138, Accuracy: 3294/10000 (32.94%)\n"
     ]
    },
    {
     "name": "stderr",
     "output_type": "stream",
     "text": [
      "EPOCH = 14 | LR = 0.1 | Loss = 1.92 | Batch = 390 | Accuracy = 26.83: 100%|████████████████████████████████████████████████████████████| 391/391 [00:33<00:00, 11.63it/s]\n"
     ]
    },
    {
     "name": "stdout",
     "output_type": "stream",
     "text": [
      "Test set: Average loss: 0.0138, Accuracy: 3433/10000 (34.33%)\n"
     ]
    },
    {
     "name": "stderr",
     "output_type": "stream",
     "text": [
      "EPOCH = 15 | LR = 0.1 | Loss = 1.73 | Batch = 390 | Accuracy = 27.14: 100%|████████████████████████████████████████████████████████████| 391/391 [00:33<00:00, 11.66it/s]\n"
     ]
    },
    {
     "name": "stdout",
     "output_type": "stream",
     "text": [
      "Test set: Average loss: 0.0137, Accuracy: 3388/10000 (33.88%)\n"
     ]
    },
    {
     "name": "stderr",
     "output_type": "stream",
     "text": [
      "EPOCH = 16 | LR = 0.1 | Loss = 2.14 | Batch = 390 | Accuracy = 27.64: 100%|████████████████████████████████████████████████████████████| 391/391 [00:33<00:00, 11.65it/s]\n"
     ]
    },
    {
     "name": "stdout",
     "output_type": "stream",
     "text": [
      "Test set: Average loss: 0.0135, Accuracy: 3573/10000 (35.73%)\n"
     ]
    },
    {
     "name": "stderr",
     "output_type": "stream",
     "text": [
      "EPOCH = 17 | LR = 0.1 | Loss = 1.98 | Batch = 390 | Accuracy = 28.18: 100%|████████████████████████████████████████████████████████████| 391/391 [00:33<00:00, 11.69it/s]\n"
     ]
    },
    {
     "name": "stdout",
     "output_type": "stream",
     "text": [
      "Test set: Average loss: 0.0135, Accuracy: 3504/10000 (35.04%)\n"
     ]
    },
    {
     "name": "stderr",
     "output_type": "stream",
     "text": [
      "EPOCH = 18 | LR = 0.1 | Loss = 1.83 | Batch = 390 | Accuracy = 28.63: 100%|████████████████████████████████████████████████████████████| 391/391 [00:33<00:00, 11.67it/s]\n"
     ]
    },
    {
     "name": "stdout",
     "output_type": "stream",
     "text": [
      "Test set: Average loss: 0.0135, Accuracy: 3582/10000 (35.82%)\n"
     ]
    },
    {
     "name": "stderr",
     "output_type": "stream",
     "text": [
      "EPOCH = 19 | LR = 0.1 | Loss = 1.71 | Batch = 390 | Accuracy = 28.90: 100%|████████████████████████████████████████████████████████████| 391/391 [00:33<00:00, 11.59it/s]\n"
     ]
    },
    {
     "name": "stdout",
     "output_type": "stream",
     "text": [
      "Test set: Average loss: 0.0134, Accuracy: 3564/10000 (35.64%)\n"
     ]
    },
    {
     "name": "stderr",
     "output_type": "stream",
     "text": [
      "EPOCH = 20 | LR = 0.1 | Loss = 2.00 | Batch = 390 | Accuracy = 29.00: 100%|████████████████████████████████████████████████████████████| 391/391 [00:33<00:00, 11.65it/s]\n"
     ]
    },
    {
     "name": "stdout",
     "output_type": "stream",
     "text": [
      "Test set: Average loss: 0.0131, Accuracy: 3738/10000 (37.38%)\n"
     ]
    },
    {
     "name": "stderr",
     "output_type": "stream",
     "text": [
      "EPOCH = 21 | LR = 0.1 | Loss = 1.79 | Batch = 390 | Accuracy = 29.29: 100%|████████████████████████████████████████████████████████████| 391/391 [00:33<00:00, 11.66it/s]\n"
     ]
    },
    {
     "name": "stdout",
     "output_type": "stream",
     "text": [
      "Test set: Average loss: 0.0132, Accuracy: 3759/10000 (37.59%)\n"
     ]
    },
    {
     "name": "stderr",
     "output_type": "stream",
     "text": [
      "EPOCH = 22 | LR = 0.1 | Loss = 1.82 | Batch = 390 | Accuracy = 30.14: 100%|████████████████████████████████████████████████████████████| 391/391 [00:35<00:00, 10.99it/s]\n"
     ]
    },
    {
     "name": "stdout",
     "output_type": "stream",
     "text": [
      "Test set: Average loss: 0.0131, Accuracy: 3789/10000 (37.89%)\n"
     ]
    },
    {
     "name": "stderr",
     "output_type": "stream",
     "text": [
      "EPOCH = 23 | LR = 0.1 | Loss = 1.80 | Batch = 390 | Accuracy = 30.16: 100%|████████████████████████████████████████████████████████████| 391/391 [00:36<00:00, 10.74it/s]\n"
     ]
    },
    {
     "name": "stdout",
     "output_type": "stream",
     "text": [
      "Test set: Average loss: 0.0132, Accuracy: 3849/10000 (38.49%)\n"
     ]
    },
    {
     "name": "stderr",
     "output_type": "stream",
     "text": [
      "EPOCH = 24 | LR = 0.1 | Loss = 1.92 | Batch = 390 | Accuracy = 30.13: 100%|████████████████████████████████████████████████████████████| 391/391 [00:36<00:00, 10.76it/s]\n"
     ]
    },
    {
     "name": "stdout",
     "output_type": "stream",
     "text": [
      "Test set: Average loss: 0.0131, Accuracy: 3756/10000 (37.56%)\n"
     ]
    },
    {
     "name": "stderr",
     "output_type": "stream",
     "text": [
      "EPOCH = 25 | LR = 0.1 | Loss = 1.71 | Batch = 390 | Accuracy = 30.89: 100%|████████████████████████████████████████████████████████████| 391/391 [00:36<00:00, 10.76it/s]\n"
     ]
    },
    {
     "name": "stdout",
     "output_type": "stream",
     "text": [
      "Test set: Average loss: 0.0130, Accuracy: 3803/10000 (38.03%)\n"
     ]
    },
    {
     "name": "stderr",
     "output_type": "stream",
     "text": [
      "EPOCH = 26 | LR = 0.1 | Loss = 1.79 | Batch = 390 | Accuracy = 30.86: 100%|████████████████████████████████████████████████████████████| 391/391 [00:35<00:00, 11.10it/s]\n"
     ]
    },
    {
     "name": "stdout",
     "output_type": "stream",
     "text": [
      "Test set: Average loss: 0.0128, Accuracy: 3903/10000 (39.03%)\n"
     ]
    },
    {
     "name": "stderr",
     "output_type": "stream",
     "text": [
      "EPOCH = 27 | LR = 0.1 | Loss = 1.77 | Batch = 390 | Accuracy = 30.87: 100%|████████████████████████████████████████████████████████████| 391/391 [00:35<00:00, 10.94it/s]\n"
     ]
    },
    {
     "name": "stdout",
     "output_type": "stream",
     "text": [
      "Test set: Average loss: 0.0130, Accuracy: 3884/10000 (38.84%)\n"
     ]
    },
    {
     "name": "stderr",
     "output_type": "stream",
     "text": [
      "EPOCH = 28 | LR = 0.1 | Loss = 1.63 | Batch = 390 | Accuracy = 31.72: 100%|████████████████████████████████████████████████████████████| 391/391 [00:36<00:00, 10.77it/s]\n"
     ]
    },
    {
     "name": "stdout",
     "output_type": "stream",
     "text": [
      "Test set: Average loss: 0.0127, Accuracy: 3990/10000 (39.90%)\n"
     ]
    },
    {
     "name": "stderr",
     "output_type": "stream",
     "text": [
      "EPOCH = 29 | LR = 0.1 | Loss = 1.91 | Batch = 390 | Accuracy = 31.84: 100%|████████████████████████████████████████████████████████████| 391/391 [00:35<00:00, 11.00it/s]\n"
     ]
    },
    {
     "name": "stdout",
     "output_type": "stream",
     "text": [
      "Test set: Average loss: 0.0126, Accuracy: 4098/10000 (40.98%)\n"
     ]
    },
    {
     "name": "stderr",
     "output_type": "stream",
     "text": [
      "EPOCH = 30 | LR = 0.1 | Loss = 1.70 | Batch = 390 | Accuracy = 32.13: 100%|████████████████████████████████████████████████████████████| 391/391 [00:35<00:00, 11.02it/s]\n"
     ]
    },
    {
     "name": "stdout",
     "output_type": "stream",
     "text": [
      "Test set: Average loss: 0.0125, Accuracy: 4092/10000 (40.92%)\n"
     ]
    },
    {
     "name": "stderr",
     "output_type": "stream",
     "text": [
      "EPOCH = 31 | LR = 0.1 | Loss = 1.89 | Batch = 390 | Accuracy = 32.07: 100%|████████████████████████████████████████████████████████████| 391/391 [00:35<00:00, 11.03it/s]\n"
     ]
    },
    {
     "name": "stdout",
     "output_type": "stream",
     "text": [
      "Test set: Average loss: 0.0127, Accuracy: 4099/10000 (40.99%)\n"
     ]
    },
    {
     "name": "stderr",
     "output_type": "stream",
     "text": [
      "EPOCH = 32 | LR = 0.1 | Loss = 1.77 | Batch = 390 | Accuracy = 32.50: 100%|████████████████████████████████████████████████████████████| 391/391 [00:35<00:00, 10.97it/s]\n"
     ]
    },
    {
     "name": "stdout",
     "output_type": "stream",
     "text": [
      "Test set: Average loss: 0.0126, Accuracy: 4056/10000 (40.56%)\n"
     ]
    },
    {
     "name": "stderr",
     "output_type": "stream",
     "text": [
      "EPOCH = 33 | LR = 0.1 | Loss = 1.65 | Batch = 390 | Accuracy = 32.79: 100%|████████████████████████████████████████████████████████████| 391/391 [00:35<00:00, 10.98it/s]\n"
     ]
    },
    {
     "name": "stdout",
     "output_type": "stream",
     "text": [
      "Test set: Average loss: 0.0124, Accuracy: 4181/10000 (41.81%)\n"
     ]
    },
    {
     "name": "stderr",
     "output_type": "stream",
     "text": [
      "EPOCH = 34 | LR = 0.1 | Loss = 1.70 | Batch = 390 | Accuracy = 32.84: 100%|████████████████████████████████████████████████████████████| 391/391 [00:35<00:00, 11.03it/s]\n"
     ]
    },
    {
     "name": "stdout",
     "output_type": "stream",
     "text": [
      "Test set: Average loss: 0.0123, Accuracy: 4230/10000 (42.30%)\n"
     ]
    },
    {
     "name": "stderr",
     "output_type": "stream",
     "text": [
      "EPOCH = 35 | LR = 0.1 | Loss = 1.77 | Batch = 390 | Accuracy = 33.05: 100%|████████████████████████████████████████████████████████████| 391/391 [00:35<00:00, 11.02it/s]\n"
     ]
    },
    {
     "name": "stdout",
     "output_type": "stream",
     "text": [
      "Test set: Average loss: 0.0123, Accuracy: 4163/10000 (41.63%)\n"
     ]
    },
    {
     "name": "stderr",
     "output_type": "stream",
     "text": [
      "EPOCH = 36 | LR = 0.1 | Loss = 1.82 | Batch = 390 | Accuracy = 33.34: 100%|████████████████████████████████████████████████████████████| 391/391 [00:35<00:00, 10.99it/s]\n"
     ]
    },
    {
     "name": "stdout",
     "output_type": "stream",
     "text": [
      "Test set: Average loss: 0.0122, Accuracy: 4228/10000 (42.28%)\n"
     ]
    },
    {
     "name": "stderr",
     "output_type": "stream",
     "text": [
      "EPOCH = 37 | LR = 0.1 | Loss = 1.86 | Batch = 390 | Accuracy = 33.08: 100%|████████████████████████████████████████████████████████████| 391/391 [00:35<00:00, 10.99it/s]\n"
     ]
    },
    {
     "name": "stdout",
     "output_type": "stream",
     "text": [
      "Test set: Average loss: 0.0124, Accuracy: 4176/10000 (41.76%)\n"
     ]
    },
    {
     "name": "stderr",
     "output_type": "stream",
     "text": [
      "EPOCH = 38 | LR = 0.1 | Loss = 1.72 | Batch = 390 | Accuracy = 33.60: 100%|████████████████████████████████████████████████████████████| 391/391 [00:35<00:00, 11.00it/s]\n"
     ]
    },
    {
     "name": "stdout",
     "output_type": "stream",
     "text": [
      "Test set: Average loss: 0.0124, Accuracy: 4188/10000 (41.88%)\n"
     ]
    },
    {
     "name": "stderr",
     "output_type": "stream",
     "text": [
      "EPOCH = 39 | LR = 0.1 | Loss = 1.88 | Batch = 390 | Accuracy = 33.81: 100%|████████████████████████████████████████████████████████████| 391/391 [00:57<00:00,  6.77it/s]\n"
     ]
    },
    {
     "name": "stdout",
     "output_type": "stream",
     "text": [
      "Test set: Average loss: 0.0122, Accuracy: 4304/10000 (43.04%)\n"
     ]
    },
    {
     "name": "stderr",
     "output_type": "stream",
     "text": [
      "EPOCH = 40 | LR = 0.1 | Loss = 1.81 | Batch = 390 | Accuracy = 33.98: 100%|████████████████████████████████████████████████████████████| 391/391 [01:22<00:00,  4.75it/s]\n"
     ]
    },
    {
     "name": "stdout",
     "output_type": "stream",
     "text": [
      "Test set: Average loss: 0.0123, Accuracy: 4258/10000 (42.58%)\n"
     ]
    },
    {
     "name": "stderr",
     "output_type": "stream",
     "text": [
      "EPOCH = 41 | LR = 0.1 | Loss = 1.87 | Batch = 390 | Accuracy = 33.78: 100%|████████████████████████████████████████████████████████████| 391/391 [01:22<00:00,  4.77it/s]\n"
     ]
    },
    {
     "name": "stdout",
     "output_type": "stream",
     "text": [
      "Test set: Average loss: 0.0122, Accuracy: 4291/10000 (42.91%)\n"
     ]
    },
    {
     "name": "stderr",
     "output_type": "stream",
     "text": [
      "EPOCH = 42 | LR = 0.1 | Loss = 1.71 | Batch = 390 | Accuracy = 34.01: 100%|████████████████████████████████████████████████████████████| 391/391 [01:22<00:00,  4.75it/s]\n"
     ]
    },
    {
     "name": "stdout",
     "output_type": "stream",
     "text": [
      "Test set: Average loss: 0.0123, Accuracy: 4229/10000 (42.29%)\n"
     ]
    },
    {
     "name": "stderr",
     "output_type": "stream",
     "text": [
      "EPOCH = 43 | LR = 0.010000000000000002 | Loss = 1.64 | Batch = 390 | Accuracy = 34.79: 100%|███████████████████████████████████████████| 391/391 [01:23<00:00,  4.70it/s]\n"
     ]
    },
    {
     "name": "stdout",
     "output_type": "stream",
     "text": [
      "Test set: Average loss: 0.0120, Accuracy: 4382/10000 (43.82%)\n"
     ]
    },
    {
     "name": "stderr",
     "output_type": "stream",
     "text": [
      "EPOCH = 44 | LR = 0.010000000000000002 | Loss = 1.80 | Batch = 137 | Accuracy = 34.95:  35%|███████████████▏                           | 138/391 [00:29<00:53,  4.69it/s]\n"
     ]
    }
   ],
   "source": [
    "model4 = Net(0.2).to(device)\n",
    "summary(model4,(1,3,32,32),)\n",
    "\n",
    "\n",
    "prev_test_loss = float('inf')\n",
    "\n",
    "\n",
    "optimizer = optim.SGD(model4.parameters(), lr=0.1, momentum=0.9)\n",
    "scheduler = optim.lr_scheduler.ReduceLROnPlateau(optimizer=optimizer,mode='min',factor=0.1,patience=5)\n",
    "criterion = nn.NLLLoss()\n",
    "trainer = Trainer(model4, train_loader, optimizer, criterion, device)\n",
    "tester = Tester(model4, test_loader, criterion, device)\n",
    "\n",
    "for epoch in range(1, 51):\n",
    "    trainer.train(epoch=epoch)\n",
    "    _,test_loss = tester.test()\n",
    "    if prev_test_loss>test_loss:\n",
    "        torch.save(model3.state_dict(),'./bmodels/simple_model_with_mp_rf44_resnet_with_dilation_kernel_aug.pth')\n",
    "    scheduler.step(test_loss)"
   ]
  },
  {
   "cell_type": "code",
   "execution_count": null,
   "id": "141ee154-2cef-4159-8135-dacfee181afe",
   "metadata": {},
   "outputs": [],
   "source": [
    "plot_curves(trainer.train_losses,trainer.train_accuracies,tester.test_losses,tester.test_accuracies)"
   ]
  },
  {
   "cell_type": "code",
   "execution_count": null,
   "id": "9145f883-7e51-4a6a-88e0-5e6bdfac16af",
   "metadata": {},
   "outputs": [],
   "source": []
  }
 ],
 "metadata": {
  "kernelspec": {
   "display_name": "Python 3 (ipykernel)",
   "language": "python",
   "name": "python3"
  },
  "language_info": {
   "codemirror_mode": {
    "name": "ipython",
    "version": 3
   },
   "file_extension": ".py",
   "mimetype": "text/x-python",
   "name": "python",
   "nbconvert_exporter": "python",
   "pygments_lexer": "ipython3",
   "version": "3.11.4"
  }
 },
 "nbformat": 4,
 "nbformat_minor": 5
}
