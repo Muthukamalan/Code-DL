{
 "cells": [
  {
   "cell_type": "code",
   "execution_count": 1,
   "id": "8bf359bd-67be-484d-a08a-3be9469f841d",
   "metadata": {
    "scrolled": true
   },
   "outputs": [
    {
     "name": "stdout",
     "output_type": "stream",
     "text": [
      "Sat Oct 14 19:02:35 2023       \n",
      "+---------------------------------------------------------------------------------------+\n",
      "| NVIDIA-SMI 536.67                 Driver Version: 536.67       CUDA Version: 12.2     |\n",
      "|-----------------------------------------+----------------------+----------------------+\n",
      "| GPU  Name                     TCC/WDDM  | Bus-Id        Disp.A | Volatile Uncorr. ECC |\n",
      "| Fan  Temp   Perf          Pwr:Usage/Cap |         Memory-Usage | GPU-Util  Compute M. |\n",
      "|                                         |                      |               MIG M. |\n",
      "|=========================================+======================+======================|\n",
      "|   0  NVIDIA GeForce RTX 4050 ...  WDDM  | 00000000:01:00.0 Off |                  N/A |\n",
      "| N/A   52C    P4              39W /  40W |   3434MiB /  6141MiB |     93%      Default |\n",
      "|                                         |                      |                  N/A |\n",
      "+-----------------------------------------+----------------------+----------------------+\n",
      "                                                                                         \n",
      "+---------------------------------------------------------------------------------------+\n",
      "| Processes:                                                                            |\n",
      "|  GPU   GI   CI        PID   Type   Process name                            GPU Memory |\n",
      "|        ID   ID                                                             Usage      |\n",
      "|=======================================================================================|\n",
      "|    0   N/A  N/A      6680      C   ...miniconda3\\envs\\torchenv\\python.exe    N/A      |\n",
      "+---------------------------------------------------------------------------------------+\n"
     ]
    }
   ],
   "source": [
    "!nvidia-smi"
   ]
  },
  {
   "cell_type": "code",
   "execution_count": 2,
   "id": "9f452fae-095c-4719-890d-a788e5b7cc1d",
   "metadata": {},
   "outputs": [],
   "source": [
    "import numpy as np\n",
    "from torch import nn\n",
    "from torch.nn import functional as F\n",
    "import torch\n",
    "from torch import optim\n",
    "from torchvision import datasets,transforms\n",
    "from torchinfo import summary"
   ]
  },
  {
   "cell_type": "code",
   "execution_count": 3,
   "id": "94c5adb5-3555-4215-87f8-e0cc33fbff74",
   "metadata": {},
   "outputs": [],
   "source": [
    "from transformations import test_transforms #train_transforms"
   ]
  },
  {
   "cell_type": "code",
   "execution_count": 4,
   "id": "1178d989-481f-4c92-9274-2247bcf8a605",
   "metadata": {},
   "outputs": [],
   "source": [
    "from trainer import Trainer\n",
    "from tester import Tester\n",
    "from utlis import visualize_data,show_misclassified_images,device,is_cuda\n",
    "from viz import plot_class_distribution, plot_confusion_matrix, plot_curves\n",
    "from dataloader import CIFAR10Dataset,CIFAR10DataLoader\n",
    "from models import ConvLayer,TransBlock,DepthwiseConvLayer"
   ]
  },
  {
   "cell_type": "code",
   "execution_count": 5,
   "id": "bc4971c5-f3aa-4603-bea9-19b1e8eacb5d",
   "metadata": {},
   "outputs": [],
   "source": [
    "# ALbumentation\n",
    "import albumentations as A\n",
    "from albumentations.pytorch import ToTensorV2\n",
    "\n",
    "train_transforms = A.Compose([\n",
    "    A.HorizontalFlip(always_apply=False,p=0.5),\n",
    "    A.ShiftScaleRotate(shift_limit=0.0625, scale_limit=0.1, rotate_limit=45, mask_value=(0.4914, 0.4822, 0.4465), always_apply=False,p=0.5,),\n",
    "    A.CoarseDropout( max_holes= 2,max_height = 8,max_width = 8,min_holes= 2,min_height = 8,min_width= 8,mask_fill_value = (0.4914, 0.4822, 0.4465),always_apply = False, p= 0.7),\n",
    "    A.Normalize(mean=(0.4914, 0.4822, 0.4465),std=(0.2470, 0.2435, 0.2616),p=1),\n",
    "    ToTensorV2(),\n",
    "])\n",
    "\n",
    "atrain_dataset = CIFAR10Dataset(root='../data/',train=True,Atransforms=train_transforms,download=False)\n",
    "atest_dataset  = CIFAR10Dataset(root='../data/',train=False,Atransforms=test_transforms,download=False)\n",
    "\n",
    "acifar = CIFAR10DataLoader(batch_size=512,is_cuda_available=True)\n",
    "atrain_loader, atest_loader = acifar.get_loader(atrain_dataset,atest_dataset)"
   ]
  },
  {
   "cell_type": "code",
   "execution_count": 6,
   "id": "bd83658e-2e12-4704-934e-443b9139a5e7",
   "metadata": {},
   "outputs": [],
   "source": [
    "# # GET Train Loader\n",
    "\n",
    "# train_dataset = CIFAR10Dataset(root='../data/',train=True,Atransforms=test_transforms,download=False)\n",
    "# test_dataset  = CIFAR10Dataset(root='../data/',train=False,Atransforms=test_transforms,download=False)\n",
    "\n",
    "# cifar = CIFAR10DataLoader(batch_size=512,is_cuda_available=True)\n",
    "# train_loader, test_loader = cifar.get_loader(train_dataset,test_dataset)"
   ]
  },
  {
   "cell_type": "code",
   "execution_count": 7,
   "id": "1d0c6af3-176a-4c92-a8bc-90e85cd3894d",
   "metadata": {},
   "outputs": [
    {
     "name": "stderr",
     "output_type": "stream",
     "text": [
      "C:\\Users\\muthu\\Documents\\TSAI\\session 9\\utlis.py:44: UserWarning: The figure layout has changed to tight\n",
      "  plt.tight_layout()\n"
     ]
    },
    {
     "data": {
      "image/png": "[encoded data removed]",
      "text/plain": [
       "<Figure size 640x480 with 24 Axes>"
      ]
     },
     "metadata": {},
     "output_type": "display_data"
    }
   ],
   "source": [
    "visualize_data(atrain_loader,classes=acifar.classes,num_figures=24)"
   ]
  },
  {
   "cell_type": "code",
   "execution_count": 12,
   "id": "2222e150-fc7b-4e2d-92a8-348b7b69ddba",
   "metadata": {
    "scrolled": true
   },
   "outputs": [
    {
     "data": {
      "text/plain": [
       "==========================================================================================\n",
       "Layer (type:depth-idx)                   Output Shape              Param #\n",
       "==========================================================================================\n",
       "Net9                                     [1, 10]                   --\n",
       "├─Sequential: 1-1                        [1, 16, 32, 32]           --\n",
       "│    └─Conv2d: 2-1                       [1, 3, 32, 32]            27\n",
       "│    └─Conv2d: 2-2                       [1, 16, 32, 32]           48\n",
       "│    └─ReLU: 2-3                         [1, 16, 32, 32]           --\n",
       "│    └─BatchNorm2d: 2-4                  [1, 16, 32, 32]           32\n",
       "│    └─Dropout2d: 2-5                    [1, 16, 32, 32]           --\n",
       "├─Sequential: 1-2                        [1, 16, 32, 32]           --\n",
       "│    └─Conv2d: 2-6                       [1, 16, 32, 32]           144\n",
       "│    └─Conv2d: 2-7                       [1, 16, 32, 32]           256\n",
       "│    └─ReLU: 2-8                         [1, 16, 32, 32]           --\n",
       "│    └─BatchNorm2d: 2-9                  [1, 16, 32, 32]           32\n",
       "│    └─Dropout2d: 2-10                   [1, 16, 32, 32]           --\n",
       "├─Sequential: 1-3                        [1, 16, 32, 32]           --\n",
       "│    └─Conv2d: 2-11                      [1, 16, 32, 32]           144\n",
       "│    └─Conv2d: 2-12                      [1, 16, 32, 32]           256\n",
       "│    └─ReLU: 2-13                        [1, 16, 32, 32]           --\n",
       "│    └─BatchNorm2d: 2-14                 [1, 16, 32, 32]           32\n",
       "│    └─Dropout2d: 2-15                   [1, 16, 32, 32]           --\n",
       "├─Sequential: 1-4                        [1, 8, 32, 32]            --\n",
       "│    └─Conv2d: 2-16                      [1, 8, 32, 32]            128\n",
       "├─Sequential: 1-5                        [1, 32, 32, 32]           --\n",
       "│    └─Conv2d: 2-17                      [1, 8, 32, 32]            72\n",
       "│    └─Conv2d: 2-18                      [1, 32, 32, 32]           256\n",
       "│    └─ReLU: 2-19                        [1, 32, 32, 32]           --\n",
       "│    └─BatchNorm2d: 2-20                 [1, 32, 32, 32]           64\n",
       "│    └─Dropout2d: 2-21                   [1, 32, 32, 32]           --\n",
       "├─Sequential: 1-6                        [1, 32, 32, 32]           --\n",
       "│    └─Conv2d: 2-22                      [1, 32, 32, 32]           288\n",
       "│    └─Conv2d: 2-23                      [1, 32, 32, 32]           1,024\n",
       "│    └─ReLU: 2-24                        [1, 32, 32, 32]           --\n",
       "│    └─BatchNorm2d: 2-25                 [1, 32, 32, 32]           64\n",
       "│    └─Dropout2d: 2-26                   [1, 32, 32, 32]           --\n",
       "├─Sequential: 1-7                        [1, 32, 32, 32]           --\n",
       "│    └─Conv2d: 2-27                      [1, 32, 32, 32]           288\n",
       "│    └─Conv2d: 2-28                      [1, 32, 32, 32]           1,024\n",
       "│    └─ReLU: 2-29                        [1, 32, 32, 32]           --\n",
       "│    └─BatchNorm2d: 2-30                 [1, 32, 32, 32]           64\n",
       "│    └─Dropout2d: 2-31                   [1, 32, 32, 32]           --\n",
       "├─Sequential: 1-8                        [1, 24, 32, 32]           --\n",
       "│    └─Conv2d: 2-32                      [1, 24, 32, 32]           768\n",
       "├─Sequential: 1-9                        [1, 40, 32, 32]           --\n",
       "│    └─Conv2d: 2-33                      [1, 24, 32, 32]           216\n",
       "│    └─Conv2d: 2-34                      [1, 40, 32, 32]           960\n",
       "│    └─ReLU: 2-35                        [1, 40, 32, 32]           --\n",
       "│    └─BatchNorm2d: 2-36                 [1, 40, 32, 32]           80\n",
       "│    └─Dropout2d: 2-37                   [1, 40, 32, 32]           --\n",
       "├─Sequential: 1-10                       [1, 40, 32, 32]           --\n",
       "│    └─Conv2d: 2-38                      [1, 40, 32, 32]           360\n",
       "│    └─Conv2d: 2-39                      [1, 40, 32, 32]           1,600\n",
       "│    └─ReLU: 2-40                        [1, 40, 32, 32]           --\n",
       "│    └─BatchNorm2d: 2-41                 [1, 40, 32, 32]           80\n",
       "│    └─Dropout2d: 2-42                   [1, 40, 32, 32]           --\n",
       "├─Sequential: 1-11                       [1, 40, 32, 32]           --\n",
       "│    └─Conv2d: 2-43                      [1, 40, 32, 32]           360\n",
       "│    └─Conv2d: 2-44                      [1, 40, 32, 32]           1,600\n",
       "│    └─ReLU: 2-45                        [1, 40, 32, 32]           --\n",
       "│    └─BatchNorm2d: 2-46                 [1, 40, 32, 32]           80\n",
       "│    └─Dropout2d: 2-47                   [1, 40, 32, 32]           --\n",
       "├─Sequential: 1-12                       [1, 10, 32, 32]           --\n",
       "│    └─Conv2d: 2-48                      [1, 10, 32, 32]           400\n",
       "├─AdaptiveAvgPool2d: 1-13                [1, 10, 1, 1]             --\n",
       "==========================================================================================\n",
       "Total params: 10,747\n",
       "Trainable params: 10,747\n",
       "Non-trainable params: 0\n",
       "Total mult-adds (Units.MEGABYTES): 10.46\n",
       "==========================================================================================\n",
       "Input size (MB): 0.01\n",
       "Forward/backward pass size (MB): 6.40\n",
       "Params size (MB): 0.04\n",
       "Estimated Total Size (MB): 6.45\n",
       "=========================================================================================="
      ]
     },
     "execution_count": 12,
     "metadata": {},
     "output_type": "execute_result"
    }
   ],
   "source": [
    "class Net9(nn.Module):\n",
    "        def __init__(self,sequeeze_channels:list,dp_rate=0.1):\n",
    "            super(Net9,self).__init__()\n",
    "            self.dp_rate=dp_rate\n",
    "\n",
    "            self.C11 =  nn.Sequential(\n",
    "                        nn.Conv2d(in_channels=sequeeze_channels[0] ,out_channels=sequeeze_channels[0],groups=sequeeze_channels[0], kernel_size=3,bias=False,padding=1,stride=1),\n",
    "                        nn.Conv2d(in_channels=sequeeze_channels[0], out_channels=sequeeze_channels[2], kernel_size=1,padding=0,bias=False),\n",
    "                        # nn.Conv2d(\n",
    "                        #     in_channels=sequeeze_channels[0],\n",
    "                        #     out_channels=sequeeze_channels[2],\n",
    "                        #     kernel_size=3,stride=1,padding=1,bias=False),\n",
    "                        nn.ReLU(inplace=True),\n",
    "                        nn.BatchNorm2d(sequeeze_channels[2]),\n",
    "                        nn.Dropout2d(self.dp_rate)\n",
    "                    )\n",
    "\n",
    "            self.C12 = nn.Sequential(\n",
    "                        nn.Conv2d(in_channels=sequeeze_channels[2] ,out_channels=sequeeze_channels[2],groups=sequeeze_channels[2], kernel_size=3,bias=False,padding=1,stride=1),\n",
    "                        nn.Conv2d(in_channels=sequeeze_channels[2], out_channels=sequeeze_channels[2], kernel_size=1,padding=0,bias=False),\n",
    "                        \n",
    "                        # nn.Conv2d(\n",
    "                        #     in_channels=sequeeze_channels[2],\n",
    "                        #     out_channels=sequeeze_channels[2],\n",
    "                        #     kernel_size=3,stride=1,padding=1,bias=False),\n",
    "                        nn.ReLU(inplace=True),\n",
    "                        nn.BatchNorm2d(sequeeze_channels[2]),\n",
    "                        nn.Dropout2d(self.dp_rate)\n",
    "                    )\n",
    "            self.C13 = nn.Sequential(\n",
    "                        nn.Conv2d(in_channels=sequeeze_channels[2] ,out_channels=sequeeze_channels[2],groups=sequeeze_channels[2], kernel_size=3,bias=False,padding=1,stride=1),\n",
    "                        nn.Conv2d(in_channels=sequeeze_channels[2], out_channels=sequeeze_channels[2], kernel_size=1,padding=0,bias=False),\n",
    "                        # nn.Conv2d(in_channels=sequeeze_channels[2],\n",
    "                        #           out_channels=sequeeze_channels[2],\n",
    "                        #           kernel_size=3,stride=2,padding=1,bias=False),\n",
    "                        nn.ReLU(inplace=True),\n",
    "                        nn.BatchNorm2d(sequeeze_channels[2]),\n",
    "                        nn.Dropout2d(self.dp_rate)\n",
    "                    )\n",
    "            self.T11 = nn.Sequential(\n",
    "                nn.Conv2d(in_channels=sequeeze_channels[2],out_channels=sequeeze_channels[1],kernel_size=1,stride=1,bias=False,dilation=1)\n",
    "            )\n",
    "\n",
    "\n",
    "            self.C21  = nn.Sequential(\n",
    "                        nn.Conv2d(in_channels=sequeeze_channels[1],out_channels=sequeeze_channels[1],groups=sequeeze_channels[1],kernel_size=3,bias=False,padding=1,stride=1),\n",
    "                        nn.Conv2d(in_channels=sequeeze_channels[1],out_channels=sequeeze_channels[4],kernel_size=1,padding=0,bias=False),\n",
    "                        # nn.Conv2d(in_channels=sequeeze_channels[1],out_channels=sequeeze_channels[4],kernel_size=3,stride=1,padding=1,bias=False),\n",
    "                        nn.ReLU(inplace=True),\n",
    "                        nn.BatchNorm2d(sequeeze_channels[4]),\n",
    "                        nn.Dropout2d(self.dp_rate)\n",
    "            )\n",
    "            self.C22 =  nn.Sequential(\n",
    "                        nn.Conv2d(in_channels=sequeeze_channels[4],out_channels=sequeeze_channels[4],groups=sequeeze_channels[4],kernel_size=3,bias=False,padding=1,stride=1),\n",
    "                        nn.Conv2d(in_channels=sequeeze_channels[4],out_channels=sequeeze_channels[4],kernel_size=1,padding=0,bias=False),\n",
    "                        # nn.Conv2d(in_channels=sequeeze_channels[4],out_channels=sequeeze_channels[4],kernel_size=3,stride=1,padding=1,bias=False),\n",
    "                        nn.ReLU(inplace=True),\n",
    "                        nn.BatchNorm2d(sequeeze_channels[4]),\n",
    "                        nn.Dropout2d(self.dp_rate)\n",
    "            )\n",
    "            self.C23 =  nn.Sequential(\n",
    "                        nn.Conv2d(in_channels=sequeeze_channels[4],out_channels=sequeeze_channels[4],groups=sequeeze_channels[4],kernel_size=3,bias=False,padding=1,stride=1),\n",
    "                        nn.Conv2d(in_channels=sequeeze_channels[4],out_channels=sequeeze_channels[4],kernel_size=1,padding=0,bias=False),\n",
    "                        # nn.Conv2d(in_channels=sequeeze_channels[4],out_channels=sequeeze_channels[4],kernel_size=3,stride=2,padding=1,bias=False),\n",
    "                        nn.ReLU(inplace=True),\n",
    "                        nn.BatchNorm2d(sequeeze_channels[4]),\n",
    "                        nn.Dropout2d(self.dp_rate)\n",
    "            )\n",
    "            self.T21 = nn.Sequential(nn.Conv2d(in_channels=sequeeze_channels[4],out_channels=sequeeze_channels[3],kernel_size=1,stride=1,bias=False,dilation=2))\n",
    "\n",
    "            \n",
    "            self.C31  = nn.Sequential(\n",
    "                        nn.Conv2d(in_channels=sequeeze_channels[3],out_channels=sequeeze_channels[3],groups=sequeeze_channels[3],kernel_size=3,bias=False,padding=1,stride=1),\n",
    "                        nn.Conv2d(in_channels=sequeeze_channels[3],out_channels=sequeeze_channels[5],kernel_size=1,padding=0,bias=False),\n",
    "                        # nn.Conv2d(in_channels=sequeeze_channels[3],out_channels=sequeeze_channels[5],kernel_size=3,stride=1,padding=1,bias=False),\n",
    "                        nn.ReLU(inplace=True),\n",
    "                        nn.BatchNorm2d(sequeeze_channels[5]),\n",
    "                        nn.Dropout2d(self.dp_rate)\n",
    "            )\n",
    "            self.C32  =  nn.Sequential(\n",
    "                        nn.Conv2d(in_channels=sequeeze_channels[5],out_channels=sequeeze_channels[5],groups=sequeeze_channels[5],kernel_size=3,bias=False,padding=1,stride=1),\n",
    "                        nn.Conv2d(in_channels=sequeeze_channels[5],out_channels=sequeeze_channels[5],kernel_size=1,padding=0,bias=False),\n",
    "                        # nn.Conv2d(in_channels=sequeeze_channels[5],out_channels=sequeeze_channels[5],kernel_size=3,stride=1,padding=1,bias=False),\n",
    "                        nn.ReLU(inplace=True),\n",
    "                        nn.BatchNorm2d(sequeeze_channels[5]),\n",
    "                        nn.Dropout2d(self.dp_rate)\n",
    "            )\n",
    "            self.C33 =  nn.Sequential(\n",
    "                        nn.Conv2d(in_channels=sequeeze_channels[5],out_channels=sequeeze_channels[5],groups=sequeeze_channels[5],kernel_size=3,bias=False,padding=1,stride=1),\n",
    "                        nn.Conv2d(in_channels=sequeeze_channels[5],out_channels=sequeeze_channels[5],kernel_size=1,padding=0,bias=False),\n",
    "                        # nn.Conv2d(in_channels=sequeeze_channels[5],out_channels=sequeeze_channels[5],kernel_size=3,stride=2,padding=1,bias=False),\n",
    "                        nn.ReLU(inplace=True),\n",
    "                        nn.BatchNorm2d(sequeeze_channels[5]),\n",
    "                        nn.Dropout2d(self.dp_rate)\n",
    "            )\n",
    "            self.T31 = nn.Sequential(\n",
    "                        nn.Conv2d(in_channels=sequeeze_channels[5],out_channels=sequeeze_channels[6],kernel_size=1,stride=1,bias=False,dilation=3)\n",
    "            )           \n",
    "            self.gap = nn.AdaptiveAvgPool2d(output_size=1)\n",
    "            \n",
    "        def forward(self,x):\n",
    "            x = self.C11(x)\n",
    "            x = x+self.C12(x)            \n",
    "            x = self.C13(x)\n",
    "            x = self.T11(x)\n",
    "            \n",
    "            x = self.C21(x)\n",
    "            x = x+self.C22(x)\n",
    "            x = self.C23(x)\n",
    "            x = self.T21(x)\n",
    "            \n",
    "            \n",
    "            x = self.C31(x)\n",
    "            x = x+self.C32(x)\n",
    "            x = self.C33(x)\n",
    "            x = self.T31(x)\n",
    "\n",
    "            x = self.gap(x)\n",
    "            return F.log_softmax(x.view(-1,10), dim=1)\n",
    "\n",
    "model9 = Net9(sequeeze_channels=[3,8,16,24,32,40,10],dp_rate=0.15)\n",
    "summary(model9,(1,3,32,32))"
   ]
  },
  {
   "cell_type": "code",
   "execution_count": 13,
   "id": "e6030c3f-6864-4985-9825-b811ee55082d",
   "metadata": {
    "scrolled": true
   },
   "outputs": [
    {
     "name": "stderr",
     "output_type": "stream",
     "text": [
      "EPOCH = 1 | LR = 0.1 | Loss = 1.88 | Batch = 97 | Accuracy = 21.93: 100%|████████████████████████████████████████████████████████████████| 98/98 [02:09<00:00,  1.32s/it]\n"
     ]
    },
    {
     "name": "stdout",
     "output_type": "stream",
     "text": [
      "Test set: Average loss: 0.0036, Accuracy: 2768/10000 (27.68%)\n"
     ]
    },
    {
     "name": "stderr",
     "output_type": "stream",
     "text": [
      "EPOCH = 2 | LR = 0.1 | Loss = 1.82 | Batch = 97 | Accuracy = 29.15: 100%|████████████████████████████████████████████████████████████████| 98/98 [02:32<00:00,  1.55s/it]\n"
     ]
    },
    {
     "name": "stdout",
     "output_type": "stream",
     "text": [
      "Test set: Average loss: 0.0035, Accuracy: 3370/10000 (33.70%)\n"
     ]
    },
    {
     "name": "stderr",
     "output_type": "stream",
     "text": [
      "EPOCH = 3 | LR = 0.1 | Loss = 1.76 | Batch = 97 | Accuracy = 32.36: 100%|████████████████████████████████████████████████████████████████| 98/98 [02:38<00:00,  1.62s/it]\n"
     ]
    },
    {
     "name": "stdout",
     "output_type": "stream",
     "text": [
      "Test set: Average loss: 0.0032, Accuracy: 4007/10000 (40.07%)\n"
     ]
    },
    {
     "name": "stderr",
     "output_type": "stream",
     "text": [
      "EPOCH = 4 | LR = 0.1 | Loss = 1.68 | Batch = 97 | Accuracy = 34.75: 100%|████████████████████████████████████████████████████████████████| 98/98 [02:42<00:00,  1.66s/it]\n"
     ]
    },
    {
     "name": "stdout",
     "output_type": "stream",
     "text": [
      "Test set: Average loss: 0.0032, Accuracy: 4020/10000 (40.20%)\n"
     ]
    },
    {
     "name": "stderr",
     "output_type": "stream",
     "text": [
      "EPOCH = 5 | LR = 0.1 | Loss = 1.70 | Batch = 97 | Accuracy = 36.93: 100%|████████████████████████████████████████████████████████████████| 98/98 [02:42<00:00,  1.66s/it]\n"
     ]
    },
    {
     "name": "stdout",
     "output_type": "stream",
     "text": [
      "Test set: Average loss: 0.0030, Accuracy: 4291/10000 (42.91%)\n"
     ]
    },
    {
     "name": "stderr",
     "output_type": "stream",
     "text": [
      "EPOCH = 6 | LR = 0.1 | Loss = 1.66 | Batch = 97 | Accuracy = 38.27: 100%|████████████████████████████████████████████████████████████████| 98/98 [02:42<00:00,  1.66s/it]\n"
     ]
    },
    {
     "name": "stdout",
     "output_type": "stream",
     "text": [
      "Test set: Average loss: 0.0029, Accuracy: 4696/10000 (46.96%)\n"
     ]
    },
    {
     "name": "stderr",
     "output_type": "stream",
     "text": [
      "EPOCH = 7 | LR = 0.1 | Loss = 1.61 | Batch = 97 | Accuracy = 39.39: 100%|████████████████████████████████████████████████████████████████| 98/98 [02:40<00:00,  1.64s/it]\n"
     ]
    },
    {
     "name": "stdout",
     "output_type": "stream",
     "text": [
      "Test set: Average loss: 0.0028, Accuracy: 4803/10000 (48.03%)\n"
     ]
    },
    {
     "name": "stderr",
     "output_type": "stream",
     "text": [
      "EPOCH = 8 | LR = 0.1 | Loss = 1.56 | Batch = 97 | Accuracy = 40.42: 100%|████████████████████████████████████████████████████████████████| 98/98 [02:35<00:00,  1.58s/it]\n"
     ]
    },
    {
     "name": "stdout",
     "output_type": "stream",
     "text": [
      "Test set: Average loss: 0.0028, Accuracy: 4883/10000 (48.83%)\n"
     ]
    },
    {
     "name": "stderr",
     "output_type": "stream",
     "text": [
      "EPOCH = 9 | LR = 0.1 | Loss = 1.55 | Batch = 97 | Accuracy = 41.43: 100%|████████████████████████████████████████████████████████████████| 98/98 [02:33<00:00,  1.56s/it]\n"
     ]
    },
    {
     "name": "stdout",
     "output_type": "stream",
     "text": [
      "Test set: Average loss: 0.0028, Accuracy: 4818/10000 (48.18%)\n"
     ]
    },
    {
     "name": "stderr",
     "output_type": "stream",
     "text": [
      "EPOCH = 10 | LR = 0.1 | Loss = 1.60 | Batch = 97 | Accuracy = 42.23: 100%|███████████████████████████████████████████████████████████████| 98/98 [02:31<00:00,  1.55s/it]\n"
     ]
    },
    {
     "name": "stdout",
     "output_type": "stream",
     "text": [
      "Test set: Average loss: 0.0026, Accuracy: 5285/10000 (52.85%)\n"
     ]
    },
    {
     "name": "stderr",
     "output_type": "stream",
     "text": [
      "EPOCH = 11 | LR = 0.1 | Loss = 1.55 | Batch = 97 | Accuracy = 42.81: 100%|███████████████████████████████████████████████████████████████| 98/98 [02:30<00:00,  1.54s/it]\n"
     ]
    },
    {
     "name": "stdout",
     "output_type": "stream",
     "text": [
      "Test set: Average loss: 0.0026, Accuracy: 5156/10000 (51.56%)\n"
     ]
    },
    {
     "name": "stderr",
     "output_type": "stream",
     "text": [
      "EPOCH = 12 | LR = 0.1 | Loss = 1.54 | Batch = 97 | Accuracy = 43.40: 100%|███████████████████████████████████████████████████████████████| 98/98 [02:33<00:00,  1.56s/it]\n"
     ]
    },
    {
     "name": "stdout",
     "output_type": "stream",
     "text": [
      "Test set: Average loss: 0.0026, Accuracy: 5243/10000 (52.43%)\n"
     ]
    },
    {
     "name": "stderr",
     "output_type": "stream",
     "text": [
      "EPOCH = 13 | LR = 0.1 | Loss = 1.55 | Batch = 97 | Accuracy = 44.03: 100%|███████████████████████████████████████████████████████████████| 98/98 [02:32<00:00,  1.56s/it]\n"
     ]
    },
    {
     "name": "stdout",
     "output_type": "stream",
     "text": [
      "Test set: Average loss: 0.0025, Accuracy: 5336/10000 (53.36%)\n"
     ]
    },
    {
     "name": "stderr",
     "output_type": "stream",
     "text": [
      "EPOCH = 14 | LR = 0.1 | Loss = 1.46 | Batch = 97 | Accuracy = 44.41: 100%|███████████████████████████████████████████████████████████████| 98/98 [02:29<00:00,  1.53s/it]\n"
     ]
    },
    {
     "name": "stdout",
     "output_type": "stream",
     "text": [
      "Test set: Average loss: 0.0026, Accuracy: 5403/10000 (54.03%)\n"
     ]
    },
    {
     "name": "stderr",
     "output_type": "stream",
     "text": [
      "EPOCH = 15 | LR = 0.1 | Loss = 1.49 | Batch = 97 | Accuracy = 45.20: 100%|███████████████████████████████████████████████████████████████| 98/98 [02:29<00:00,  1.52s/it]\n"
     ]
    },
    {
     "name": "stdout",
     "output_type": "stream",
     "text": [
      "Test set: Average loss: 0.0025, Accuracy: 5483/10000 (54.83%)\n"
     ]
    },
    {
     "name": "stderr",
     "output_type": "stream",
     "text": [
      "EPOCH = 16 | LR = 0.1 | Loss = 1.58 | Batch = 97 | Accuracy = 45.28: 100%|█████████████████████████████████████████████████████████████| 98/98 [1:10:35<00:00, 43.22s/it]\n"
     ]
    },
    {
     "name": "stdout",
     "output_type": "stream",
     "text": [
      "Test set: Average loss: 0.0025, Accuracy: 5570/10000 (55.70%)\n"
     ]
    },
    {
     "name": "stderr",
     "output_type": "stream",
     "text": [
      "EPOCH = 17 | LR = 0.1 | Loss = 1.44 | Batch = 97 | Accuracy = 45.42: 100%|███████████████████████████████████████████████████████████████| 98/98 [01:32<00:00,  1.06it/s]\n"
     ]
    },
    {
     "name": "stdout",
     "output_type": "stream",
     "text": [
      "Test set: Average loss: 0.0025, Accuracy: 5307/10000 (53.07%)\n"
     ]
    },
    {
     "name": "stderr",
     "output_type": "stream",
     "text": [
      "EPOCH = 18 | LR = 0.1 | Loss = 1.44 | Batch = 97 | Accuracy = 45.81: 100%|███████████████████████████████████████████████████████████████| 98/98 [01:08<00:00,  1.44it/s]\n"
     ]
    },
    {
     "name": "stdout",
     "output_type": "stream",
     "text": [
      "Test set: Average loss: 0.0024, Accuracy: 5708/10000 (57.08%)\n"
     ]
    },
    {
     "name": "stderr",
     "output_type": "stream",
     "text": [
      "EPOCH = 19 | LR = 0.1 | Loss = 1.54 | Batch = 97 | Accuracy = 46.41: 100%|███████████████████████████████████████████████████████████████| 98/98 [00:57<00:00,  1.71it/s]\n"
     ]
    },
    {
     "name": "stdout",
     "output_type": "stream",
     "text": [
      "Test set: Average loss: 0.0024, Accuracy: 5618/10000 (56.18%)\n"
     ]
    },
    {
     "name": "stderr",
     "output_type": "stream",
     "text": [
      "EPOCH = 20 | LR = 0.1 | Loss = 1.40 | Batch = 97 | Accuracy = 46.35: 100%|███████████████████████████████████████████████████████████████| 98/98 [01:21<00:00,  1.20it/s]\n"
     ]
    },
    {
     "name": "stdout",
     "output_type": "stream",
     "text": [
      "Test set: Average loss: 0.0024, Accuracy: 5775/10000 (57.75%)\n"
     ]
    },
    {
     "name": "stderr",
     "output_type": "stream",
     "text": [
      "EPOCH = 21 | LR = 0.1 | Loss = 1.53 | Batch = 97 | Accuracy = 46.66: 100%|███████████████████████████████████████████████████████████████| 98/98 [00:45<00:00,  2.17it/s]\n"
     ]
    },
    {
     "name": "stdout",
     "output_type": "stream",
     "text": [
      "Test set: Average loss: 0.0024, Accuracy: 5716/10000 (57.16%)\n"
     ]
    },
    {
     "name": "stderr",
     "output_type": "stream",
     "text": [
      "EPOCH = 22 | LR = 0.1 | Loss = 1.43 | Batch = 97 | Accuracy = 46.89: 100%|███████████████████████████████████████████████████████████████| 98/98 [01:26<00:00,  1.13it/s]\n"
     ]
    },
    {
     "name": "stdout",
     "output_type": "stream",
     "text": [
      "Test set: Average loss: 0.0023, Accuracy: 5713/10000 (57.13%)\n"
     ]
    },
    {
     "name": "stderr",
     "output_type": "stream",
     "text": [
      "EPOCH = 23 | LR = 0.1 | Loss = 1.46 | Batch = 97 | Accuracy = 47.63: 100%|███████████████████████████████████████████████████████████████| 98/98 [00:56<00:00,  1.73it/s]\n"
     ]
    },
    {
     "name": "stdout",
     "output_type": "stream",
     "text": [
      "Test set: Average loss: 0.0024, Accuracy: 5692/10000 (56.92%)\n"
     ]
    },
    {
     "name": "stderr",
     "output_type": "stream",
     "text": [
      "EPOCH = 24 | LR = 0.1 | Loss = 1.46 | Batch = 97 | Accuracy = 47.50: 100%|███████████████████████████████████████████████████████████████| 98/98 [01:00<00:00,  1.61it/s]\n"
     ]
    },
    {
     "name": "stdout",
     "output_type": "stream",
     "text": [
      "Test set: Average loss: 0.0023, Accuracy: 5798/10000 (57.98%)\n"
     ]
    },
    {
     "name": "stderr",
     "output_type": "stream",
     "text": [
      "EPOCH = 25 | LR = 0.1 | Loss = 1.39 | Batch = 97 | Accuracy = 47.37: 100%|███████████████████████████████████████████████████████████████| 98/98 [01:17<00:00,  1.26it/s]\n"
     ]
    },
    {
     "name": "stdout",
     "output_type": "stream",
     "text": [
      "Test set: Average loss: 0.0023, Accuracy: 5733/10000 (57.33%)\n"
     ]
    },
    {
     "name": "stderr",
     "output_type": "stream",
     "text": [
      "EPOCH = 26 | LR = 0.1 | Loss = 1.47 | Batch = 97 | Accuracy = 47.96: 100%|███████████████████████████████████████████████████████████████| 98/98 [00:50<00:00,  1.93it/s]\n"
     ]
    },
    {
     "name": "stdout",
     "output_type": "stream",
     "text": [
      "Test set: Average loss: 0.0023, Accuracy: 5867/10000 (58.67%)\n"
     ]
    },
    {
     "name": "stderr",
     "output_type": "stream",
     "text": [
      "EPOCH = 27 | LR = 0.1 | Loss = 1.45 | Batch = 97 | Accuracy = 48.15: 100%|███████████████████████████████████████████████████████████████| 98/98 [01:28<00:00,  1.10it/s]\n"
     ]
    },
    {
     "name": "stdout",
     "output_type": "stream",
     "text": [
      "Test set: Average loss: 0.0023, Accuracy: 5937/10000 (59.37%)\n"
     ]
    },
    {
     "name": "stderr",
     "output_type": "stream",
     "text": [
      "EPOCH = 28 | LR = 0.1 | Loss = 1.47 | Batch = 97 | Accuracy = 48.27: 100%|███████████████████████████████████████████████████████████████| 98/98 [00:43<00:00,  2.26it/s]\n"
     ]
    },
    {
     "name": "stdout",
     "output_type": "stream",
     "text": [
      "Test set: Average loss: 0.0023, Accuracy: 5851/10000 (58.51%)\n"
     ]
    },
    {
     "name": "stderr",
     "output_type": "stream",
     "text": [
      "EPOCH = 29 | LR = 0.1 | Loss = 1.44 | Batch = 97 | Accuracy = 48.30: 100%|███████████████████████████████████████████████████████████████| 98/98 [01:12<00:00,  1.35it/s]\n"
     ]
    },
    {
     "name": "stdout",
     "output_type": "stream",
     "text": [
      "Test set: Average loss: 0.0023, Accuracy: 5824/10000 (58.24%)\n"
     ]
    },
    {
     "name": "stderr",
     "output_type": "stream",
     "text": [
      "EPOCH = 30 | LR = 0.1 | Loss = 1.49 | Batch = 97 | Accuracy = 48.55: 100%|███████████████████████████████████████████████████████████████| 98/98 [01:08<00:00,  1.43it/s]\n"
     ]
    },
    {
     "name": "stdout",
     "output_type": "stream",
     "text": [
      "Test set: Average loss: 0.0022, Accuracy: 5953/10000 (59.53%)\n"
     ]
    },
    {
     "name": "stderr",
     "output_type": "stream",
     "text": [
      "EPOCH = 31 | LR = 0.1 | Loss = 1.47 | Batch = 97 | Accuracy = 48.63: 100%|███████████████████████████████████████████████████████████████| 98/98 [00:59<00:00,  1.65it/s]\n"
     ]
    },
    {
     "name": "stdout",
     "output_type": "stream",
     "text": [
      "Test set: Average loss: 0.0023, Accuracy: 5867/10000 (58.67%)\n"
     ]
    },
    {
     "name": "stderr",
     "output_type": "stream",
     "text": [
      "EPOCH = 32 | LR = 0.1 | Loss = 1.30 | Batch = 97 | Accuracy = 49.02: 100%|███████████████████████████████████████████████████████████████| 98/98 [01:21<00:00,  1.20it/s]\n"
     ]
    },
    {
     "name": "stdout",
     "output_type": "stream",
     "text": [
      "Test set: Average loss: 0.0023, Accuracy: 5877/10000 (58.77%)\n"
     ]
    },
    {
     "name": "stderr",
     "output_type": "stream",
     "text": [
      "EPOCH = 33 | LR = 0.1 | Loss = 1.34 | Batch = 97 | Accuracy = 49.37: 100%|███████████████████████████████████████████████████████████████| 98/98 [00:43<00:00,  2.23it/s]\n"
     ]
    },
    {
     "name": "stdout",
     "output_type": "stream",
     "text": [
      "Test set: Average loss: 0.0022, Accuracy: 6036/10000 (60.36%)\n"
     ]
    },
    {
     "name": "stderr",
     "output_type": "stream",
     "text": [
      "EPOCH = 34 | LR = 0.1 | Loss = 1.48 | Batch = 97 | Accuracy = 49.24: 100%|███████████████████████████████████████████████████████████████| 98/98 [01:31<00:00,  1.07it/s]\n"
     ]
    },
    {
     "name": "stdout",
     "output_type": "stream",
     "text": [
      "Test set: Average loss: 0.0022, Accuracy: 6062/10000 (60.62%)\n"
     ]
    },
    {
     "name": "stderr",
     "output_type": "stream",
     "text": [
      "EPOCH = 35 | LR = 0.1 | Loss = 1.45 | Batch = 97 | Accuracy = 49.34: 100%|███████████████████████████████████████████████████████████████| 98/98 [01:08<00:00,  1.44it/s]\n"
     ]
    },
    {
     "name": "stdout",
     "output_type": "stream",
     "text": [
      "Test set: Average loss: 0.0022, Accuracy: 6046/10000 (60.46%)\n"
     ]
    },
    {
     "name": "stderr",
     "output_type": "stream",
     "text": [
      "EPOCH = 36 | LR = 0.1 | Loss = 1.38 | Batch = 97 | Accuracy = 49.46: 100%|███████████████████████████████████████████████████████████████| 98/98 [00:56<00:00,  1.74it/s]\n"
     ]
    },
    {
     "name": "stdout",
     "output_type": "stream",
     "text": [
      "Test set: Average loss: 0.0022, Accuracy: 6105/10000 (61.05%)\n"
     ]
    },
    {
     "name": "stderr",
     "output_type": "stream",
     "text": [
      "EPOCH = 37 | LR = 0.1 | Loss = 1.38 | Batch = 97 | Accuracy = 49.47: 100%|███████████████████████████████████████████████████████████████| 98/98 [01:18<00:00,  1.25it/s]\n"
     ]
    },
    {
     "name": "stdout",
     "output_type": "stream",
     "text": [
      "Test set: Average loss: 0.0022, Accuracy: 6046/10000 (60.46%)\n"
     ]
    },
    {
     "name": "stderr",
     "output_type": "stream",
     "text": [
      "EPOCH = 38 | LR = 0.1 | Loss = 1.36 | Batch = 97 | Accuracy = 49.57: 100%|███████████████████████████████████████████████████████████████| 98/98 [00:45<00:00,  2.16it/s]\n"
     ]
    },
    {
     "name": "stdout",
     "output_type": "stream",
     "text": [
      "Test set: Average loss: 0.0024, Accuracy: 5665/10000 (56.65%)\n"
     ]
    },
    {
     "name": "stderr",
     "output_type": "stream",
     "text": [
      "EPOCH = 39 | LR = 0.1 | Loss = 1.43 | Batch = 97 | Accuracy = 49.61: 100%|███████████████████████████████████████████████████████████████| 98/98 [01:26<00:00,  1.13it/s]\n"
     ]
    },
    {
     "name": "stdout",
     "output_type": "stream",
     "text": [
      "Test set: Average loss: 0.0022, Accuracy: 6082/10000 (60.82%)\n"
     ]
    },
    {
     "name": "stderr",
     "output_type": "stream",
     "text": [
      "EPOCH = 40 | LR = 0.1 | Loss = 1.41 | Batch = 97 | Accuracy = 49.76: 100%|███████████████████████████████████████████████████████████████| 98/98 [00:50<00:00,  1.92it/s]\n"
     ]
    },
    {
     "name": "stdout",
     "output_type": "stream",
     "text": [
      "Test set: Average loss: 0.0022, Accuracy: 6062/10000 (60.62%)\n"
     ]
    },
    {
     "name": "stderr",
     "output_type": "stream",
     "text": [
      "EPOCH = 41 | LR = 0.1 | Loss = 1.37 | Batch = 97 | Accuracy = 50.03: 100%|███████████████████████████████████████████████████████████████| 98/98 [01:00<00:00,  1.62it/s]\n"
     ]
    },
    {
     "name": "stdout",
     "output_type": "stream",
     "text": [
      "Test set: Average loss: 0.0022, Accuracy: 6042/10000 (60.42%)\n"
     ]
    },
    {
     "name": "stderr",
     "output_type": "stream",
     "text": [
      "EPOCH = 42 | LR = 0.1 | Loss = 1.35 | Batch = 97 | Accuracy = 50.24: 100%|███████████████████████████████████████████████████████████████| 98/98 [01:14<00:00,  1.31it/s]\n"
     ]
    },
    {
     "name": "stdout",
     "output_type": "stream",
     "text": [
      "Test set: Average loss: 0.0022, Accuracy: 6137/10000 (61.37%)\n"
     ]
    },
    {
     "name": "stderr",
     "output_type": "stream",
     "text": [
      "EPOCH = 43 | LR = 0.1 | Loss = 1.45 | Batch = 97 | Accuracy = 50.26: 100%|███████████████████████████████████████████████████████████████| 98/98 [00:55<00:00,  1.77it/s]\n"
     ]
    },
    {
     "name": "stdout",
     "output_type": "stream",
     "text": [
      "Test set: Average loss: 0.0021, Accuracy: 6131/10000 (61.31%)\n"
     ]
    },
    {
     "name": "stderr",
     "output_type": "stream",
     "text": [
      "EPOCH = 44 | LR = 0.1 | Loss = 1.40 | Batch = 97 | Accuracy = 50.50: 100%|███████████████████████████████████████████████████████████████| 98/98 [01:26<00:00,  1.13it/s]\n"
     ]
    },
    {
     "name": "stdout",
     "output_type": "stream",
     "text": [
      "Test set: Average loss: 0.0022, Accuracy: 5934/10000 (59.34%)\n"
     ]
    },
    {
     "name": "stderr",
     "output_type": "stream",
     "text": [
      "EPOCH = 45 | LR = 0.1 | Loss = 1.57 | Batch = 97 | Accuracy = 50.44: 100%|███████████████████████████████████████████████████████████████| 98/98 [00:43<00:00,  2.23it/s]\n"
     ]
    },
    {
     "name": "stdout",
     "output_type": "stream",
     "text": [
      "Test set: Average loss: 0.0021, Accuracy: 6150/10000 (61.50%)\n"
     ]
    },
    {
     "name": "stderr",
     "output_type": "stream",
     "text": [
      "EPOCH = 46 | LR = 0.1 | Loss = 1.34 | Batch = 97 | Accuracy = 50.44: 100%|███████████████████████████████████████████████████████████████| 98/98 [01:19<00:00,  1.23it/s]\n"
     ]
    },
    {
     "name": "stdout",
     "output_type": "stream",
     "text": [
      "Test set: Average loss: 0.0021, Accuracy: 6168/10000 (61.68%)\n"
     ]
    },
    {
     "name": "stderr",
     "output_type": "stream",
     "text": [
      "EPOCH = 47 | LR = 0.1 | Loss = 1.41 | Batch = 97 | Accuracy = 50.76: 100%|███████████████████████████████████████████████████████████████| 98/98 [01:07<00:00,  1.44it/s]\n"
     ]
    },
    {
     "name": "stdout",
     "output_type": "stream",
     "text": [
      "Test set: Average loss: 0.0022, Accuracy: 5990/10000 (59.90%)\n"
     ]
    },
    {
     "name": "stderr",
     "output_type": "stream",
     "text": [
      "EPOCH = 48 | LR = 0.1 | Loss = 1.42 | Batch = 97 | Accuracy = 50.71: 100%|███████████████████████████████████████████████████████████████| 98/98 [00:58<00:00,  1.69it/s]\n"
     ]
    },
    {
     "name": "stdout",
     "output_type": "stream",
     "text": [
      "Test set: Average loss: 0.0021, Accuracy: 6120/10000 (61.20%)\n"
     ]
    },
    {
     "name": "stderr",
     "output_type": "stream",
     "text": [
      "EPOCH = 49 | LR = 0.1 | Loss = 1.32 | Batch = 97 | Accuracy = 50.81: 100%|███████████████████████████████████████████████████████████████| 98/98 [01:20<00:00,  1.21it/s]\n"
     ]
    },
    {
     "name": "stdout",
     "output_type": "stream",
     "text": [
      "Test set: Average loss: 0.0021, Accuracy: 6252/10000 (62.52%)\n"
     ]
    },
    {
     "name": "stderr",
     "output_type": "stream",
     "text": [
      "EPOCH = 50 | LR = 0.1 | Loss = 1.31 | Batch = 97 | Accuracy = 50.86: 100%|███████████████████████████████████████████████████████████████| 98/98 [00:42<00:00,  2.29it/s]\n"
     ]
    },
    {
     "name": "stdout",
     "output_type": "stream",
     "text": [
      "Test set: Average loss: 0.0021, Accuracy: 6146/10000 (61.46%)\n"
     ]
    }
   ],
   "source": [
    "prev_test_loss = float('inf')\n",
    "\n",
    "optimizer = optim.SGD(params=model9.parameters(), lr=0.1, momentum=0.9)\n",
    "scheduler = optim.lr_scheduler.ReduceLROnPlateau(optimizer=optimizer,mode='min',factor=0.1,patience=3)\n",
    "criterion = nn.NLLLoss()\n",
    "trainer = Trainer(model=model9, train_loader=atrain_loader, optimizer=optimizer, criterion=criterion, device=device)\n",
    "tester = Tester(model=model9, test_loader=atest_loader,criterion=criterion, device=device)\n",
    "\n",
    "for epoch in range(1, 51):\n",
    "    trainer.train(epoch=epoch)\n",
    "    _,test_loss = tester.test()\n",
    "    if prev_test_loss>test_loss:\n",
    "        torch.save(obj=model9.state_dict(),f='./bmodels/model9_modified_aug.pth')\n",
    "    scheduler.step(test_loss)"
   ]
  },
  {
   "cell_type": "code",
   "execution_count": 14,
   "id": "ea1db830-98ed-4908-a0c5-b75df207e1e2",
   "metadata": {},
   "outputs": [
    {
     "data": {
      "image/png": "[encoded data removed]",
      "text/plain": [
       "<Figure size 1500x1000 with 4 Axes>"
      ]
     },
     "metadata": {},
     "output_type": "display_data"
    }
   ],
   "source": [
    "\n",
    "plot_curves(trainer.train_losses,trainer.train_accuracies,tester.test_losses,tester.test_accuracies)"
   ]
  },
  {
   "cell_type": "code",
   "execution_count": null,
   "id": "4104b695-ce39-4e45-834c-f61788a736e7",
   "metadata": {},
   "outputs": [],
   "source": []
  },
  {
   "cell_type": "code",
   "execution_count": null,
   "id": "a41c2b35-fbac-4d15-ab3e-931f516c037e",
   "metadata": {},
   "outputs": [],
   "source": []
  },
  {
   "cell_type": "code",
   "execution_count": null,
   "id": "0ff41151-19f7-4255-a02d-8c8d4417ce2e",
   "metadata": {},
   "outputs": [],
   "source": []
  },
  {
   "cell_type": "code",
   "execution_count": null,
   "id": "8ac998bf-783e-4bb0-a0ee-e0e67da7f03a",
   "metadata": {},
   "outputs": [],
   "source": []
  },
  {
   "cell_type": "code",
   "execution_count": null,
   "id": "8dcff532-c670-431e-be07-40f1525520ce",
   "metadata": {},
   "outputs": [],
   "source": []
  },
  {
   "cell_type": "code",
   "execution_count": null,
   "id": "a91b0604-9c05-4ad6-b82c-3a850da3de4f",
   "metadata": {},
   "outputs": [],
   "source": []
  },
  {
   "cell_type": "markdown",
   "id": "5bc1cc47-2c13-4a75-bb7a-552009bf69d6",
   "metadata": {},
   "source": [
    "# OLD CODE"
   ]
  },
  {
   "cell_type": "code",
   "execution_count": null,
   "id": "8931ebf2-bef6-49e8-9000-0a9d38df8c22",
   "metadata": {},
   "outputs": [],
   "source": [
    "# We used this Squeeze-Expand Network before\n",
    "class Net1(nn.Module):\n",
    "    def __init__(self):\n",
    "        super(Net1,self).__init__()\n",
    "        self.dp_rate = 0.2\n",
    "\n",
    "        self.conv1 = nn.Sequential(\n",
    "            ConvLayer(inc=3,outc=8,k=3,s=1,p=1,d=1,dp_rate=self.dp_rate),\n",
    "            ConvLayer(inc=8,outc=24,k=3,s=1,p=1,d=1,dp_rate=self.dp_rate),\n",
    "            ConvLayer(inc=24,outc=32,k=3,s=1,p=1,d=1,dp_rate=self.dp_rate),\n",
    "        )\n",
    "        self.trans1 = TransBlock(32,24,p=0.1)\n",
    "        self.conv2 = nn.Sequential(\n",
    "            ConvLayer(inc=24,outc=32,k=3,s=1,p=1,d=1,dp_rate=self.dp_rate),\n",
    "            ConvLayer(inc=32,outc=32,k=3,s=1,p=1,d=1,dp_rate=self.dp_rate),\n",
    "            ConvLayer(inc=32,outc=64,k=3,s=1,p=1,d=1,dp_rate=self.dp_rate),\n",
    "        )\n",
    "        self.trans2 = TransBlock(64,32,p=0.1)\n",
    "        self.conv3 = nn.Sequential(\n",
    "            ConvLayer(inc=32,outc=64,k=3,s=1,p=1,d=1,dp_rate=self.dp_rate),\n",
    "            ConvLayer(inc=64,outc=64,k=3,s=1,p=1,d=1,dp_rate=self.dp_rate),\n",
    "            ConvLayer(inc=64,outc=128,k=3,s=1,p=1,d=1,dp_rate=self.dp_rate),\n",
    "        )\n",
    "        self.trans3 = TransBlock(128,64,p=0.1)\n",
    "        self.conv4 = nn.Sequential(\n",
    "            nn.Conv2d(in_channels=64,out_channels=128,kernel_size=1,bias=False,)\n",
    "        )\n",
    "        self.gap = nn.AdaptiveAvgPool2d(output_size=1)\n",
    "        self.out = nn.Conv2d(128,10,kernel_size=1,bias=False)\n",
    "    def forward(self,x):\n",
    "        x = self.conv1(x)\n",
    "        x = self.trans1(x)\n",
    "        x = self.conv2(x)\n",
    "        x = self.trans2(x)\n",
    "        x = self.conv3(x)\n",
    "        x = self.trans3(x)\n",
    "        x = self.conv4(x)\n",
    "        x = self.gap(x)\n",
    "        x = self.out(x)\n",
    "        return F.log_softmax(x.view(-1,10), dim=1)"
   ]
  },
  {
   "cell_type": "code",
   "execution_count": null,
   "id": "865710fe-1bd2-4ea3-a9ff-c6b1c3541cbf",
   "metadata": {
    "scrolled": true
   },
   "outputs": [],
   "source": [
    "simple_model = Net1().to(device)\n",
    "summary(simple_model,(1,3,32,32))"
   ]
  },
  {
   "cell_type": "code",
   "execution_count": null,
   "id": "b07b0465-5fd6-458f-805f-67c3ee0f0f38",
   "metadata": {
    "scrolled": true
   },
   "outputs": [],
   "source": [
    "prev_test_loss = float('inf')\n",
    "\n",
    "optimizer = optim.SGD(simple_model.parameters(), lr=0.2, momentum=0.9)\n",
    "scheduler = optim.lr_scheduler.ReduceLROnPlateau(optimizer=optimizer,mode='min',factor=0.1,patience=5)\n",
    "criterion = nn.NLLLoss()\n",
    "trainer = Trainer(simple_model, simple_train_loader, optimizer, criterion, device)\n",
    "tester = Tester(simple_model, simple_test_loader, criterion, device)\n",
    "\n",
    "for epoch in range(1, 51):\n",
    "    trainer.train(epoch=epoch)\n",
    "    _,test_loss = tester.test()\n",
    "    if prev_test_loss>test_loss:\n",
    "        torch.save(simple_model.state_dict(),'./bmodels/simple_model_with_mp_rf44.pth')\n",
    "    scheduler.step(test_loss)\n"
   ]
  },
  {
   "cell_type": "code",
   "execution_count": null,
   "id": "9fa2423a-34f2-4397-a7c4-4306dfbb3e44",
   "metadata": {},
   "outputs": [],
   "source": [
    "plot_curves(trainer.train_losses,trainer.train_accuracies,tester.test_losses,tester.test_accuracies)"
   ]
  },
  {
   "cell_type": "markdown",
   "id": "c2f01a96-0c62-49cf-9a1a-b046e2c49893",
   "metadata": {},
   "source": [
    "# Model-1 with Augmentation"
   ]
  },
  {
   "cell_type": "code",
   "execution_count": null,
   "id": "49f784c1-a2ae-421c-8d45-3973a5836f02",
   "metadata": {
    "scrolled": true
   },
   "outputs": [],
   "source": [
    "prev_test_loss = float('inf')\n",
    "simple_model = Net1().to(device)\n",
    "optimizer = optim.SGD(simple_model.parameters(), lr=0.2, momentum=0.9)\n",
    "scheduler = optim.lr_scheduler.ReduceLROnPlateau(optimizer=optimizer,mode='min',factor=0.1,patience=5)\n",
    "criterion = nn.NLLLoss()\n",
    "trainer = Trainer(simple_model, train_loader, optimizer, criterion, device)\n",
    "tester = Tester(simple_model, test_loader, criterion, device)\n",
    "\n",
    "for epoch in range(1, 51):\n",
    "    trainer.train(epoch=epoch)\n",
    "    _,test_loss = tester.test()\n",
    "    if prev_test_loss>test_loss:\n",
    "        torch.save(simple_model.state_dict(),'./bmodels/simple_model_with_mp_rf44_aug.pth')\n",
    "    scheduler.step(test_loss)"
   ]
  },
  {
   "cell_type": "code",
   "execution_count": null,
   "id": "f7efc0d9-c208-4313-9df7-e31d0b1fc60b",
   "metadata": {},
   "outputs": [],
   "source": [
    "plot_curves(trainer.train_losses,trainer.train_accuracies,tester.test_losses,tester.test_accuracies)"
   ]
  },
  {
   "cell_type": "markdown",
   "id": "98a41044-f265-4d23-b99f-c9de408b68d1",
   "metadata": {},
   "source": [
    "# Model-2\n",
    "\n",
    "**Objective**\n",
    "- remove MP\n",
    "- use strided instead\n",
    "- rest same as previous model\n",
    "\n",
    "**Results**\n",
    "-\n",
    "-"
   ]
  },
  {
   "cell_type": "code",
   "execution_count": null,
   "id": "bc6515e1-432a-4387-9abb-a4eecf784609",
   "metadata": {},
   "outputs": [],
   "source": [
    "# We used this Squeeze-Expand Network before\n",
    "class Net2(nn.Module):\n",
    "    def __init__(self,dp:int):\n",
    "        super(Net2,self).__init__()\n",
    "        self.dp_rate = dp\n",
    "\n",
    "        self.conv1 = nn.Sequential(\n",
    "            ConvLayer(inc=3,outc=8,k=3,s=1,p=1,d=1,dp_rate=self.dp_rate),\n",
    "            ConvLayer(inc=8,outc=24,k=3,s=1,p=1,d=1,dp_rate=self.dp_rate),\n",
    "            ConvLayer(inc=24,outc=32,k=3,s=2,p=1,d=1,dp_rate=self.dp_rate),\n",
    "        )\n",
    "        # self.trans1 = TransBlock(32,24)\n",
    "        self.trans1 = nn.Sequential(\n",
    "            nn.Conv2d(in_channels=32,out_channels=24,kernel_size=1,bias=False)\n",
    "        )\n",
    "        self.conv2 = nn.Sequential(\n",
    "            ConvLayer(inc=24,outc=32,k=3,s=1,p=1,d=1,dp_rate=self.dp_rate),\n",
    "            ConvLayer(inc=32,outc=32,k=3,s=1,p=1,d=1,dp_rate=self.dp_rate),\n",
    "            ConvLayer(inc=32,outc=64,k=3,s=2,p=1,d=1,dp_rate=self.dp_rate),\n",
    "        )\n",
    "        # self.trans2 = TransBlock(64,32)\n",
    "        self.trans2 = nn.Sequential(\n",
    "            nn.Conv2d(in_channels=64,out_channels=32,kernel_size=1,bias=False)\n",
    "        )\n",
    "        \n",
    "        self.conv3 = nn.Sequential(\n",
    "            ConvLayer(inc=32,outc=64,k=3,s=1,p=1,d=1,dp_rate=self.dp_rate),\n",
    "            ConvLayer(inc=64,outc=64,k=3,s=1,p=1,d=1,dp_rate=self.dp_rate),\n",
    "            ConvLayer(inc=64,outc=128,k=3,s=2,p=1,d=1,dp_rate=self.dp_rate),\n",
    "        )\n",
    "        # self.trans3 = TransBlock(128,64)\n",
    "        self.trans3 = nn.Sequential(\n",
    "            nn.Conv2d(in_channels=128,out_channels=64,kernel_size=1,bias=False)\n",
    "        )\n",
    "        self.conv4 = nn.Sequential(\n",
    "            nn.Conv2d(in_channels=64,out_channels=128,kernel_size=1,bias=False,)\n",
    "        )\n",
    "        self.gap = nn.AdaptiveAvgPool2d(output_size=1)\n",
    "        self.out = nn.Conv2d(128,10,kernel_size=1,bias=False)\n",
    "    def forward(self,x):\n",
    "        x = self.conv1(x)\n",
    "        x = self.trans1(x)\n",
    "        x = self.conv2(x)\n",
    "        x = self.trans2(x)\n",
    "        x = self.conv3(x)\n",
    "        x = self.trans3(x)\n",
    "        x = self.conv4(x)\n",
    "        x = self.gap(x)\n",
    "        x = self.out(x)\n",
    "        return F.log_softmax(x.view(-1,10), dim=1)"
   ]
  },
  {
   "cell_type": "code",
   "execution_count": null,
   "id": "4bd66905-e672-482d-9779-8eea32d3531a",
   "metadata": {
    "scrolled": true
   },
   "outputs": [],
   "source": [
    "model2_removed_mp = Net2(0.2).to(device)\n",
    "# summary(model2_removed_mp,(3,32,32))"
   ]
  },
  {
   "cell_type": "code",
   "execution_count": null,
   "id": "1412ad40-ce53-498d-8098-f6c2b7a8926a",
   "metadata": {
    "scrolled": true
   },
   "outputs": [],
   "source": [
    "prev_test_loss = float('inf')\n",
    "\n",
    "optimizer = optim.SGD(model2_removed_mp.parameters(), lr=0.2, momentum=0.9)\n",
    "scheduler = optim.lr_scheduler.ReduceLROnPlateau(optimizer=optimizer,mode='min',factor=0.1,patience=5)\n",
    "criterion = nn.NLLLoss()\n",
    "trainer = Trainer(model2_removed_mp, train_loader, optimizer, criterion, device)\n",
    "tester = Tester(model2_removed_mp, test_loader, criterion, device)\n",
    "\n",
    "for epoch in range(1, 51):\n",
    "    trainer.train(epoch=epoch)\n",
    "    _,test_loss = tester.test()\n",
    "    if prev_test_loss>test_loss:\n",
    "        torch.save(simple_model.state_dict(),'./bmodels/model1_without_mp.pth')\n",
    "    scheduler.step(test_loss)"
   ]
  },
  {
   "cell_type": "code",
   "execution_count": null,
   "id": "697586f6-8753-4e96-97b1-7217c201842d",
   "metadata": {},
   "outputs": [],
   "source": [
    "plot_curves(trainer.train_losses,trainer.train_accuracies,tester.test_losses,tester.test_accuracies)"
   ]
  },
  {
   "cell_type": "markdown",
   "id": "8861885a-610c-44a5-beeb-aa5f5ae9ff7b",
   "metadata": {},
   "source": [
    "# Model-2 with AUG"
   ]
  },
  {
   "cell_type": "code",
   "execution_count": null,
   "id": "f21d87a1-0f3c-41b5-ab5b-3b1f35bd3d3c",
   "metadata": {
    "scrolled": true
   },
   "outputs": [],
   "source": [
    "prev_test_loss = float('inf')\n",
    "model2_removed_mp = Net2(0.2).to(device)\n",
    "optimizer = optim.SGD(model2_removed_mp.parameters(), lr=0.2, momentum=0.9)\n",
    "scheduler = optim.lr_scheduler.ReduceLROnPlateau(optimizer=optimizer,mode='min',factor=0.1,patience=5)\n",
    "criterion = nn.NLLLoss()\n",
    "trainer = Trainer(model2_removed_mp, simple_train_loader, optimizer, criterion, device)\n",
    "tester = Tester(model2_removed_mp, simple_test_loader, criterion, device)\n",
    "\n",
    "for epoch in range(1, 51):\n",
    "    trainer.train(epoch=epoch)\n",
    "    _,test_loss = tester.test()\n",
    "    if prev_test_loss>test_loss:\n",
    "        torch.save(simple_model.state_dict(),'./bmodels/model1_without_mp.pth')\n",
    "    scheduler.step(test_loss)"
   ]
  },
  {
   "cell_type": "code",
   "execution_count": null,
   "id": "e0e9d733-efc8-4fe0-8d6b-a79f391a1d36",
   "metadata": {},
   "outputs": [],
   "source": [
    "plot_curves(trainer.train_losses,trainer.train_accuracies,tester.test_losses,tester.test_accuracies)"
   ]
  },
  {
   "cell_type": "markdown",
   "id": "492dc54c-944f-4bcb-b8d5-3d8cf2d952e0",
   "metadata": {},
   "source": [
    "# Model\n",
    "\n",
    "## normal model ( no conditions apply)\n",
    "\n",
    "## shrink model  (200k params)\n",
    "\n",
    "## remove maxpool but 3 conv\n",
    "\n",
    "## dialated kernels\n",
    "\n",
    "## depth-wise kernel\n",
    "\n",
    "## all depth-wise kernel\n",
    "\n",
    "## apply albumentation"
   ]
  },
  {
   "cell_type": "code",
   "execution_count": null,
   "id": "1f3a5c0a-09ab-46a8-ac9b-c69bb2ffe806",
   "metadata": {},
   "outputs": [],
   "source": []
  },
  {
   "cell_type": "code",
   "execution_count": null,
   "id": "0bd0186e-2d1c-46c5-9d16-adf8dd3072d4",
   "metadata": {},
   "outputs": [],
   "source": []
  }
 ],
 "metadata": {
  "kernelspec": {
   "display_name": "Python 3 (ipykernel)",
   "language": "python",
   "name": "python3"
  },
  "language_info": {
   "codemirror_mode": {
    "name": "ipython",
    "version": 3
   },
   "file_extension": ".py",
   "mimetype": "text/x-python",
   "name": "python",
   "nbconvert_exporter": "python",
   "pygments_lexer": "ipython3",
   "version": "3.11.4"
  }
 },
 "nbformat": 4,
 "nbformat_minor": 5
}
