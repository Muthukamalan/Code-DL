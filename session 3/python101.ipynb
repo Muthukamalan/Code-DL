{
 "cells": [
  {
   "cell_type": "markdown",
   "id": "f07cbab0-b2d6-4b5f-b4e6-848c432fe660",
   "metadata": {},
   "source": [
    "Python3\n",
    "---\n",
    "\n",
    "Python is a high-level, dynamically typed multiparadigm programming language. Python code is often said to be almost like pseudocode, since it allows you to express very powerful ideas in very few lines of code while being very readable."
   ]
  },
  {
   "cell_type": "markdown",
   "id": "e38cf18f-28c6-4dda-98d7-29b5668cd6cb",
   "metadata": {},
   "source": [
    "inspired from: Stanford's Python Refresher which can be found at: https://cs231n.github.io/python-numpy-tutorial/"
   ]
  },
  {
   "cell_type": "code",
   "execution_count": 1,
   "id": "3ecb012d-f299-4e5b-aac6-8b2af21b40ec",
   "metadata": {},
   "outputs": [
    {
     "name": "stdout",
     "output_type": "stream",
     "text": [
      "Python 3.10.9\n"
     ]
    }
   ],
   "source": [
    "!python --version"
   ]
  },
  {
   "cell_type": "markdown",
   "id": "83f64a05-8649-442b-8c4d-da9dea74d635",
   "metadata": {},
   "source": [
    "data types\n",
    "---\n",
    "Like most languages, py3 has a number of basic types including\n",
    "- integers, \n",
    "- floats, \n",
    "- booleans, and \n",
    "- strings\n",
    "- list\n",
    "- tuple\n",
    "- dict\n",
    "- set\n",
    "- generator\n",
    "These data types behave in ways that are familiar from other programming languages.\n"
   ]
  },
  {
   "cell_type": "code",
   "execution_count": 1,
   "id": "3d75b03c-cf5b-4c8f-a161-5f1501c7d2ae",
   "metadata": {},
   "outputs": [
    {
     "name": "stdout",
     "output_type": "stream",
     "text": [
      "<class 'int'>\n",
      "37\n",
      "38\n",
      "36\n",
      "74\n",
      "1369\n",
      "38\n",
      "76\n",
      "<class 'float'>\n",
      "2.5 3.5 5.0 6.25\n",
      "Final Value of x is: 268.5\n"
     ]
    }
   ],
   "source": [
    "x = 37 # Initial Value of x\n",
    "\n",
    "# Type\n",
    "print(type(x)) # Prints \"\"\n",
    "\n",
    "\n",
    "# Simple Operations\n",
    "print(x)       # Prints \"2\"\n",
    "print(x + 1)   # Addition; prints \"3\"\n",
    "print(x - 1)   # Subtraction; prints \"1\"\n",
    "print(x * 2)   # Multiplication; prints \"4\"\n",
    "print(x ** 2)  # Exponentiation; prints \"4\"\n",
    "x += 1 #x = 3\n",
    "print(x)  # Prints \"3\"\n",
    "x *= 2\n",
    "print(x)  # Prints \"6\"\n",
    "y = 2.5\n",
    "print(type(y)) # Prints \"\"\n",
    "print(y, y + 1, y * 2, y ** 2) # Prints \"2.5 3.5 5.0 6.25\"\n",
    "\n",
    "\n",
    "\n",
    "x = x * y + x + y # Final value of x\n",
    "print(\"Final Value of x is:\", x)"
   ]
  },
  {
   "cell_type": "code",
   "execution_count": null,
   "id": "cdc1c978-1603-407d-b391-dd9c1e9aa6d2",
   "metadata": {},
   "outputs": [],
   "source": []
  },
  {
   "cell_type": "markdown",
   "id": "3168cdb7-4d88-4551-8dbd-aaea22419e87",
   "metadata": {},
   "source": [
    "Python implements all of the usual operators for Boolean logic, but uses English words rather than symbols (&&, ||, etc.):"
   ]
  },
  {
   "cell_type": "code",
   "execution_count": 2,
   "id": "f45df164-cbeb-456f-bff3-f509d1ba25d2",
   "metadata": {},
   "outputs": [
    {
     "name": "stdout",
     "output_type": "stream",
     "text": [
      "<class 'bool'>\n",
      "False\n",
      "True\n",
      "False\n",
      "True\n"
     ]
    }
   ],
   "source": [
    "t = True\n",
    "f = False\n",
    "print(type(t)) # Prints \"\"\n",
    "print(t and f) # Logical AND; prints \"False\"\n",
    "print(t or f)  # Logical OR; prints \"True\"\n",
    "print(not t)   # Logical NOT; prints \"False\"\n",
    "print(t != f)  # Logical XOR; prints \"True\"\n"
   ]
  },
  {
   "cell_type": "code",
   "execution_count": 3,
   "id": "b81b7848-8bff-4827-ba9c-ddbc3607b6e6",
   "metadata": {},
   "outputs": [
    {
     "name": "stdout",
     "output_type": "stream",
     "text": [
      "f*t:  0\n",
      "False+0: 0\n"
     ]
    },
    {
     "data": {
      "text/plain": [
       "True"
      ]
     },
     "execution_count": 3,
     "metadata": {},
     "output_type": "execute_result"
    }
   ],
   "source": [
    "print(f\"f*t:  {f*t}\")\n",
    "print(f\"False+0: {f+0}\")\n",
    "not( not t + f*t)"
   ]
  },
  {
   "cell_type": "code",
   "execution_count": null,
   "id": "f9e8b1f5-6421-4496-a512-573e3f9fd698",
   "metadata": {},
   "outputs": [],
   "source": []
  },
  {
   "cell_type": "markdown",
   "id": "9c8f0925-2f85-4d85-937c-f365f2858970",
   "metadata": {},
   "source": [
    "### container\n",
    "Python includes several built-in container types: lists, dictionaries,sets, and tuples.\n",
    "\n",
    "Lists A list is the Python equivalent of an array, but is resizeable and can contain elements of different types:"
   ]
  },
  {
   "cell_type": "code",
   "execution_count": 4,
   "id": "b55dac01-4b82-49da-8e95-220417da6823",
   "metadata": {},
   "outputs": [
    {
     "name": "stdout",
     "output_type": "stream",
     "text": [
      "[3, 1, 2] 2\n",
      "2\n",
      "[3, 1, 'foo']\n",
      "[3, 1, 'foo', 'bar']\n",
      "bar [3, 1, 'foo']\n"
     ]
    }
   ],
   "source": [
    "xs = [3, 1, 2]    # Create a list\n",
    "print(xs, xs[2])  # Prints \"[3, 1, 2] 2\"\n",
    "\n",
    "\n",
    "print(xs[-1])     # Negative indices count from the end of the list; prints \"2\"\n",
    "xs[2] = 'foo'     # Lists can contain elements of different types\n",
    "print(xs)         # Prints \"[3, 1, 'foo']\"\n",
    "\n",
    "\n",
    "xs.append('bar')  # Add a new element to the end of the list\n",
    "print(xs)         # Prints \"[3, 1, 'foo', 'bar']\"\n",
    "x = xs.pop()      # Remove and return the last element of the list\n",
    "\n",
    "\n",
    "print(x, xs)"
   ]
  },
  {
   "cell_type": "code",
   "execution_count": 5,
   "id": "3bca8eb3-6bd2-438c-906a-0349fa2ab0b4",
   "metadata": {},
   "outputs": [
    {
     "name": "stdout",
     "output_type": "stream",
     "text": [
      "[0, 1, 2, 3, 4, 5, 6, 7, 8]\n",
      "[2, 3]\n",
      "[2, 3, 4, 5, 6, 7, 8]\n",
      "[0, 1]\n",
      "[0, 1, 2, 3, 4, 5, 6, 7, 8]\n",
      "[0, 1, 2, 3, 4, 5, 6, 7]\n",
      "[0, 1, 8, 9, 4, 5, 6, 7, 8]\n",
      "48\n"
     ]
    }
   ],
   "source": [
    "rng = 9\n",
    "nums = list(range(rng))     # range is a built-in function that creates a list of integers\n",
    "\n",
    "print(nums)               # Prints \"[0, 1, 2, 3, 4]\"\n",
    "print(nums[2:4])          # Get a slice from index 2 to 4 (exclusive); prints \"[2, 3]\"\n",
    "print(nums[2:])           # Get a slice from index 2 to the end; prints \"[2, 3, 4]\"\n",
    "print(nums[:2])           # Get a slice from the start to index 2 (exclusive); prints \"[0, 1]\"\n",
    "print(nums[:])            # Get a slice of the whole list; prints \"[0, 1, 2, 3, 4]\"\n",
    "print(nums[:-1])          # Slice indices can be negative; prints \"[0, 1, 2, 3]\"\n",
    "\n",
    "\n",
    "nums[2:4] = [8, 9]        # Assign a new sublist to a slice  #MUTABLE\n",
    "print(nums)               # Prints \"[0, 1, 8, 9, 4]\"\n",
    "print(sum(nums))"
   ]
  },
  {
   "cell_type": "code",
   "execution_count": 6,
   "id": "036697af-aae7-40c6-a101-12ba20872189",
   "metadata": {},
   "outputs": [
    {
     "name": "stdout",
     "output_type": "stream",
     "text": [
      "cat\n",
      "dog\n",
      "monkey\n"
     ]
    }
   ],
   "source": [
    "animals = ['cat', 'dog', 'monkey']\n",
    "for animal in animals:\n",
    "    print(animal)"
   ]
  },
  {
   "cell_type": "code",
   "execution_count": 7,
   "id": "473253c7-5be0-4d11-ad4b-fb47e1b93694",
   "metadata": {},
   "outputs": [
    {
     "name": "stdout",
     "output_type": "stream",
     "text": [
      "#1: cat\n",
      "#2: dog\n",
      "#3: monkey\n"
     ]
    }
   ],
   "source": [
    "animals = ['cat', 'dog', 'monkey']\n",
    "for idx, animal in enumerate(animals):\n",
    "    print('#%d: %s' % (idx + 1, animal))"
   ]
  },
  {
   "cell_type": "code",
   "execution_count": 8,
   "id": "4156b114-4e1a-4d7e-925f-242fe4176e60",
   "metadata": {},
   "outputs": [
    {
     "name": "stdout",
     "output_type": "stream",
     "text": [
      "range(0, 7)\n",
      "[0, 1, 4, 9, 16, 25, 36]\n",
      "91\n"
     ]
    }
   ],
   "source": [
    "rng2 = 7\n",
    "nums = range(rng2)\n",
    "squares = []\n",
    "for x in nums:\n",
    "    squares.append(x ** 2)\n",
    "\n",
    "print(nums)\n",
    "print(squares)\n",
    "print(sum(squares))"
   ]
  },
  {
   "cell_type": "code",
   "execution_count": 9,
   "id": "9273c03e-cc38-4bea-85c2-8fc34ad85ecc",
   "metadata": {},
   "outputs": [
    {
     "name": "stdout",
     "output_type": "stream",
     "text": [
      "list comprehension [0, 1, 4, 9, 16, 25, 36]\n",
      "[0, 4, 16, 36]\n"
     ]
    }
   ],
   "source": [
    "print(\"list comprehension\",[ i**2 for  i in range(rng2)])\n",
    "\n",
    "print([ i**2 for  i in range(rng2) if i%2==0])"
   ]
  },
  {
   "cell_type": "code",
   "execution_count": null,
   "id": "128802dc-d171-482a-b2b5-b0fb2beeb371",
   "metadata": {},
   "outputs": [],
   "source": []
  },
  {
   "cell_type": "markdown",
   "id": "3e85e75d-34b9-493c-97e9-9a9375d73610",
   "metadata": {},
   "source": [
    "### Dictionaries\n",
    "\n",
    "A dictionary stores (key, value) pairs, similar to a Map in Java or an object in Javascript"
   ]
  },
  {
   "cell_type": "code",
   "execution_count": 10,
   "id": "5717c3d8-d5cb-4059-9a7b-c7e8d47171ff",
   "metadata": {},
   "outputs": [
    {
     "name": "stdout",
     "output_type": "stream",
     "text": [
      "cute\n",
      "True\n",
      "wet\n",
      "N/A\n",
      "wet\n",
      "N/A\n",
      "{'cat': 'cute', 'dog': 'furry'}\n"
     ]
    }
   ],
   "source": [
    "d = {'cat': 'cute', 'dog': 'furry'}  # Create a new dictionary with some data\n",
    "print(d['cat'])       # Get an entry from a dictionary; prints \"cute\"\n",
    "print('cat' in d)     # Check if a dictionary has a given key; prints \"True\" else \"False\"\n",
    "\n",
    "\n",
    "d['fish'] = 'wet'     # Set an entry in a dictionary\n",
    "print(d['fish'])      # Prints \"wet\"\n",
    "\n",
    "\n",
    "# print(d['monkey'])  # KeyError: 'monkey' not a key of d\n",
    "print(d.get('monkey', 'N/A'))  # Get an element with a default; prints \"N/A\"\n",
    "print(d.get('fish', 'N/A'))    # Get an element with a default; prints \"wet\"\n",
    "del d['fish']         # Remove an element from a dictionary\n",
    "\n",
    "\n",
    "print(d.get('fish', 'N/A')) # \"fish\" is no longer a key; prints \"N/A\"\n",
    "\n",
    "print(d)"
   ]
  },
  {
   "cell_type": "code",
   "execution_count": 11,
   "id": "b16cff4f-32c5-4eda-b0a6-dbc67f32e8a5",
   "metadata": {},
   "outputs": [
    {
     "name": "stdout",
     "output_type": "stream",
     "text": [
      "keys dict_keys(['cat', 'dog'])\n",
      "values dict_values(['cute', 'furry'])\n"
     ]
    },
    {
     "data": {
      "text/plain": [
       "['cat', 'dog']"
      ]
     },
     "execution_count": 11,
     "metadata": {},
     "output_type": "execute_result"
    }
   ],
   "source": [
    "print(\"keys\",d.keys())\n",
    "print('values',d.values())\n",
    "\n",
    "\n",
    "[i for i in d]  # Keys by default"
   ]
  },
  {
   "cell_type": "code",
   "execution_count": 12,
   "id": "d1eda664-a1f6-4e25-ae7c-5795cd12107d",
   "metadata": {},
   "outputs": [
    {
     "name": "stdout",
     "output_type": "stream",
     "text": [
      "A person has 2 legs\n",
      "A cat has 4 legs\n",
      "A spider has 8 legs\n"
     ]
    }
   ],
   "source": [
    "d = {'person': 2, 'cat': 4, 'spider': 8}\n",
    "\n",
    "for animal in d:\n",
    "    legs = d[animal]\n",
    "    # print('A %s has %d legs' % (animal, legs))\n",
    "    print(f'A {animal} has {legs} legs')"
   ]
  },
  {
   "cell_type": "code",
   "execution_count": 13,
   "id": "02f98344-9c10-409c-ac74-770ed2df07f8",
   "metadata": {},
   "outputs": [
    {
     "name": "stdout",
     "output_type": "stream",
     "text": [
      "A person has 2 legs\n",
      "A cat has 4 legs\n",
      "A spider has 8 legs\n"
     ]
    }
   ],
   "source": [
    "d = {'person': 2, 'cat': 4, 'spider': 8}\n",
    "for animal in d:\n",
    "    legs = d[animal]\n",
    "    print('A %s has %d legs' % (animal, legs))"
   ]
  },
  {
   "cell_type": "code",
   "execution_count": 14,
   "id": "ada543f9-08cd-43d2-b4d4-e35bf152016b",
   "metadata": {},
   "outputs": [
    {
     "name": "stdout",
     "output_type": "stream",
     "text": [
      "{0: 0, 2: 4, 4: 16}\n"
     ]
    }
   ],
   "source": [
    "\n",
    "# Dict comprehension\n",
    "\n",
    "nums = [0, 1, 2, 3, 4]\n",
    "even_num_to_square = {x: x ** 2 for x in nums if x % 2 == 0}\n",
    "\n",
    "print(even_num_to_square)"
   ]
  },
  {
   "cell_type": "markdown",
   "id": "e13a82c7-b38c-4be7-bf1f-88fa513c93e6",
   "metadata": {},
   "source": [
    "### Sets\n",
    "A set is an unordered collection of distinct elements\n",
    "\n",
    "### Tuples\n",
    "Immutable objects"
   ]
  },
  {
   "cell_type": "code",
   "execution_count": 15,
   "id": "5237e58c-e75e-4ffb-8b91-ccd0cce811ed",
   "metadata": {},
   "outputs": [
    {
     "name": "stdout",
     "output_type": "stream",
     "text": [
      "True\n",
      "False\n",
      "True\n",
      "3\n",
      "3\n",
      "2\n"
     ]
    }
   ],
   "source": [
    "animals = {'cat', 'dog'}\n",
    "print('cat' in animals)   # Check if an element is in a set; prints \"True\"\n",
    "print('fish' in animals)  # prints \"False\"\n",
    "animals.add('fish')       # Add an element to a set\n",
    "print('fish' in animals)  # Prints \"True\"\n",
    "print(len(animals))       # Number of elements in a set; prints \"3\"\n",
    "animals.add('cat')        # Adding an element that is already in the set does nothing\n",
    "print(len(animals))       # Prints \"3\"\n",
    "animals.remove('cat')     # Remove an element from a set\n",
    "print(len(animals))       # Prints \"2\""
   ]
  },
  {
   "cell_type": "code",
   "execution_count": 16,
   "id": "8bbd1313-9a88-42a1-8c61-8ec31bb1ab0e",
   "metadata": {},
   "outputs": [
    {
     "name": "stdout",
     "output_type": "stream",
     "text": [
      "cat\n",
      "meow\n",
      "cat count in tuple 2\n",
      "dog count in tuple 1\n",
      "cat count in tuple 2\n",
      "meow count in tuple 1\n",
      "4\n",
      "0\n"
     ]
    }
   ],
   "source": [
    "animals = ('cat','dog','cat','meow')\n",
    "\n",
    "print(animals[0]) # accessible by index\n",
    "print(animals[-1])\n",
    "\n",
    "for animal in  animals:\n",
    "    print(f\"{animal} count in tuple {animals.count(animal)}\")\n",
    "    \n",
    "    \n",
    "print(len(animals))\n",
    "print(animals.index('cat'))"
   ]
  },
  {
   "cell_type": "code",
   "execution_count": null,
   "id": "c1696755-04a8-4ec4-be62-337d17e39e1f",
   "metadata": {},
   "outputs": [],
   "source": []
  },
  {
   "cell_type": "markdown",
   "id": "c21e3f20-cb60-48bd-bee5-c11c3f521c13",
   "metadata": {},
   "source": [
    "functions\n",
    "---\n",
    "Python functions are defined using the def keyword"
   ]
  },
  {
   "cell_type": "code",
   "execution_count": 17,
   "id": "63ac3e4c-b022-47ec-8865-32869ffadfce",
   "metadata": {},
   "outputs": [
    {
     "name": "stdout",
     "output_type": "stream",
     "text": [
      "negative\n",
      "zero\n",
      "positive\n"
     ]
    }
   ],
   "source": [
    "def sign(x):\n",
    "    if x > 0:\n",
    "        return 'positive'\n",
    "    elif x < 0:\n",
    "        return 'negative'\n",
    "    else:\n",
    "        return 'zero'\n",
    "\n",
    "for x in range(-1,2):\n",
    "    print(sign(x))"
   ]
  },
  {
   "cell_type": "code",
   "execution_count": 18,
   "id": "2b89def7-7f3c-400e-8705-478de239c6d8",
   "metadata": {},
   "outputs": [
    {
     "name": "stdout",
     "output_type": "stream",
     "text": [
      "Hello, Bob\n",
      "HELLO, FRED!\n"
     ]
    }
   ],
   "source": [
    "def hello(name, loud=False):\n",
    "    if loud:\n",
    "        print('HELLO, %s!' % name.upper())\n",
    "    else:\n",
    "        print('Hello, %s' % name)\n",
    "\n",
    "hello('Bob') # Prints \"Hello, Bob\"\n",
    "hello('Fred', loud=True)  # Prints \"HELLO, FRED!\""
   ]
  },
  {
   "cell_type": "code",
   "execution_count": null,
   "id": "30e09747-5ab8-4421-8770-09026cb607d4",
   "metadata": {},
   "outputs": [],
   "source": []
  },
  {
   "cell_type": "markdown",
   "id": "cf2f0bfd-c1b8-4ffc-ac38-b4ebc3c9c919",
   "metadata": {},
   "source": [
    "classes\n",
    "----\n",
    "The syntax for defining classes in Python is straightforward:"
   ]
  },
  {
   "cell_type": "code",
   "execution_count": 19,
   "id": "2de284ba-5030-4c20-950b-9c944ba2205b",
   "metadata": {},
   "outputs": [
    {
     "name": "stdout",
     "output_type": "stream",
     "text": [
      "Hello, Fred\n",
      "HELLO, FRED!\n"
     ]
    }
   ],
   "source": [
    "class Greeter(object):\n",
    "\n",
    "    # Constructor\n",
    "    def __init__(self, name):\n",
    "        self.name = name  # Create an instance variable\n",
    "\n",
    "    # Instance method\n",
    "    def greet(self, loud=False):\n",
    "        if loud:\n",
    "            print('HELLO, %s!' % self.name.upper())\n",
    "        else:\n",
    "            print('Hello, %s' % self.name)\n",
    "\n",
    "g = Greeter('Fred')  # Construct an instance of the Greeter class\n",
    "g.greet()            # Call an instance method; prints \"Hello, Fred\"\n",
    "g.greet(loud=True)   # Call an instance method; prints \"HELLO, FRED!\"\n",
    "     "
   ]
  },
  {
   "cell_type": "code",
   "execution_count": 29,
   "id": "3e5ef50d-ab24-4218-b81a-e1fa9acfb1a3",
   "metadata": {},
   "outputs": [],
   "source": [
    "from matplotlib import pyplot as plt"
   ]
  },
  {
   "cell_type": "code",
   "execution_count": 32,
   "id": "553c17fb-ebdc-4e00-9f2e-915cf0d0eeb2",
   "metadata": {},
   "outputs": [
    {
     "data": {
      "image/png": "[encoded data removed]",
      "text/plain": [
       "<Figure size 640x480 with 1 Axes>"
      ]
     },
     "metadata": {},
     "output_type": "display_data"
    }
   ],
   "source": [
    "from PIL import Image\n",
    "import requests\n",
    "from io import BytesIO\n",
    "\n",
    "response = requests.get('https://encrypted-tbn0.gstatic.com/images?q=tbn%3AANd9GcRZpTmijaNOH6MmycM_eiPKcEl5mVvbwl7a8YKVGpEEMIanDcSt')\n",
    "\n",
    "img = Image.open(BytesIO(response.content))\n",
    "\n",
    "plt.imshow(img);\n",
    "plt.show()"
   ]
  },
  {
   "cell_type": "code",
   "execution_count": 34,
   "id": "c898d390-a9aa-48d6-9dbf-d89380e07394",
   "metadata": {},
   "outputs": [
    {
     "data": {
      "image/png": "[encoded data removed]",
      "text/plain": [
       "<Figure size 640x480 with 1 Axes>"
      ]
     },
     "metadata": {},
     "output_type": "display_data"
    }
   ],
   "source": [
    "# (left, upper, right, lower)-tuple\n",
    "box1 = (150, 150, 300, 300)\n",
    "box2 = (200, 100, 250, 200)\n",
    "box3 = (100, 0, 200, 200)\n",
    "box4 = (100, 400, 200, 200)\n",
    "box5 = (0, 0, 100, 100)\n",
    "box6 = (200, 0, 200, 200)\n",
    "box7 = (0, 0, 200, 200) #This is the value which gives the complete python image\n",
    "box8 = (100, 100, 200, 200)\n",
    "box9 = (100, 250, 400, 300)\n",
    "region = img.crop(box7)\n",
    "\n",
    "plt.imshow(region);\n",
    "plt.show()"
   ]
  },
  {
   "cell_type": "code",
   "execution_count": null,
   "id": "3eff7ef7",
   "metadata": {},
   "outputs": [],
   "source": []
  }
 ],
 "metadata": {
  "kernelspec": {
   "display_name": "Python 3 (ipykernel)",
   "language": "python",
   "name": "python3"
  },
  "language_info": {
   "codemirror_mode": {
    "name": "ipython",
    "version": 3
   },
   "file_extension": ".py",
   "mimetype": "text/x-python",
   "name": "python",
   "nbconvert_exporter": "python",
   "pygments_lexer": "ipython3",
   "version": "3.11.4"
  }
 },
 "nbformat": 4,
 "nbformat_minor": 5
}
