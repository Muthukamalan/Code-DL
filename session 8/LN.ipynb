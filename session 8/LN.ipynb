{
 "cells": [
  {
   "cell_type": "code",
   "execution_count": 1,
   "id": "51d4ef24-5999-4a80-bc61-26607ea35a83",
   "metadata": {},
   "outputs": [
    {
     "name": "stdout",
     "output_type": "stream",
     "text": [
      "Sat Sep 30 00:03:55 2023       \n",
      "+---------------------------------------------------------------------------------------+\n",
      "| NVIDIA-SMI 536.67                 Driver Version: 536.67       CUDA Version: 12.2     |\n",
      "|-----------------------------------------+----------------------+----------------------+\n",
      "| GPU  Name                     TCC/WDDM  | Bus-Id        Disp.A | Volatile Uncorr. ECC |\n",
      "| Fan  Temp   Perf          Pwr:Usage/Cap |         Memory-Usage | GPU-Util  Compute M. |\n",
      "|                                         |                      |               MIG M. |\n",
      "|=========================================+======================+======================|\n",
      "|   0  NVIDIA GeForce RTX 4050 ...  WDDM  | 00000000:01:00.0 Off |                  N/A |\n",
      "| N/A   43C    P0              16W / 134W |   1304MiB /  6141MiB |      0%      Default |\n",
      "|                                         |                      |                  N/A |\n",
      "+-----------------------------------------+----------------------+----------------------+\n",
      "                                                                                         \n",
      "+---------------------------------------------------------------------------------------+\n",
      "| Processes:                                                                            |\n",
      "|  GPU   GI   CI        PID   Type   Process name                            GPU Memory |\n",
      "|        ID   ID                                                             Usage      |\n",
      "|=======================================================================================|\n",
      "|    0   N/A  N/A     10196      C   ...miniconda3\\envs\\torchenv\\python.exe    N/A      |\n",
      "+---------------------------------------------------------------------------------------+\n"
     ]
    }
   ],
   "source": [
    "!nvidia-smi"
   ]
  },
  {
   "cell_type": "code",
   "execution_count": 2,
   "id": "14cad19c-8fbb-4c62-a834-c1a63eca154f",
   "metadata": {},
   "outputs": [
    {
     "data": {
      "text/plain": [
       "device(type='cuda', index=0)"
      ]
     },
     "execution_count": 2,
     "metadata": {},
     "output_type": "execute_result"
    }
   ],
   "source": [
    "import random\n",
    "import numpy as np\n",
    "import matplotlib.pyplot as plt\n",
    "\n",
    "import torch\n",
    "import torch.nn as nn\n",
    "import torch.optim as optim\n",
    "import torch.nn.functional as F\n",
    "from torchvision import datasets, transforms\n",
    "from torchsummary import summary\n",
    "from tqdm import tqdm\n",
    "import albumentations as A\n",
    "from albumentations.pytorch import ToTensorV2\n",
    "\n",
    "device = torch.device('cuda:0' if torch.cuda.is_available() else 'cpu')\n",
    "device"
   ]
  },
  {
   "cell_type": "code",
   "execution_count": 3,
   "id": "20570172-193a-41f0-8548-4ff7ea28416b",
   "metadata": {},
   "outputs": [],
   "source": [
    "train_losses = []\n",
    "test_losses  = []\n",
    "train_acc    = []\n",
    "test_acc     = []\n",
    "\n",
    "test_incorrect_pred={\n",
    "    'images':[], 'ground_truths':[],'predicted_vals':[]\n",
    "}\n",
    "\n",
    "def GetCorrectPredCount(pPrediction, pLabels):\n",
    "  return pPrediction.argmax(dim=1).eq(pLabels).sum().item()\n",
    "\n",
    "def train(model, device, train_loader, optimizer):\n",
    "  model.train()\n",
    "  pbar = tqdm(train_loader)\n",
    "\n",
    "  train_loss = 0\n",
    "  correct = 0\n",
    "  processed = 0\n",
    "\n",
    "  for batch_idx, (data, target) in enumerate(pbar):\n",
    "    data, target = data.to(device), target.to(device)\n",
    "    optimizer.zero_grad()\n",
    "\n",
    "    # Predict\n",
    "    pred = model(data)\n",
    "\n",
    "    # Calculate loss\n",
    "    loss = F.nll_loss(pred, target)\n",
    "    train_loss+=loss.item()\n",
    "\n",
    "    # Backpropagation\n",
    "    loss.backward()\n",
    "    optimizer.step()\n",
    "    \n",
    "    correct += GetCorrectPredCount(pred, target)\n",
    "    processed += len(data)\n",
    "\n",
    "    pbar.set_description(desc= f'Train: Loss={loss.item():0.4f} Batch_id={batch_idx} Accuracy={100*correct/processed:0.2f}')\n",
    "\n",
    "  train_acc.append(100*correct/processed)\n",
    "  train_losses.append(train_loss/len(train_loader))\n",
    "\n",
    "def test(model, device, test_loader):\n",
    "    model.eval()\n",
    "\n",
    "    test_loss = 0\n",
    "    correct = 0\n",
    "\n",
    "    with torch.no_grad():\n",
    "        for batch_idx, (data, target) in enumerate(test_loader):\n",
    "            data, target = data.to(device), target.to(device)\n",
    "\n",
    "            output = model(data)\n",
    "            test_loss += F.nll_loss(output, target, reduction='sum').item()  # sum up batch loss\n",
    "\n",
    "            correct += GetCorrectPredCount(output, target)\n",
    "\n",
    "\n",
    "    test_loss /= len(test_loader.dataset)\n",
    "    test_acc.append(100. * correct / len(test_loader.dataset))\n",
    "    test_losses.append(test_loss)\n",
    "\n",
    "    print('Test set: Average loss: {:.4f}, Accuracy: {}/{} ({:.2f}%)\\n'.format(\n",
    "        test_loss, correct, len(test_loader.dataset),\n",
    "        100. * correct / len(test_loader.dataset)))\n",
    "    return test_loss\n",
    "\n",
    "def plot_curves():\n",
    "  fig, axs = plt.subplots(2,2,figsize=(15,10))\n",
    "  axs[0, 0].plot(train_losses)\n",
    "  axs[0, 0].set_title(\"Training Loss\")\n",
    "  axs[1, 0].plot(train_acc)\n",
    "  axs[1, 0].set_title(\"Training Accuracy\")\n",
    "  axs[0, 1].plot(test_losses)\n",
    "  axs[0, 1].set_title(\"Test Loss\")\n",
    "  axs[1, 1].plot(test_acc)\n",
    "  axs[1, 1].set_title(\"Test Accuracy\")\n",
    "  plt.show()"
   ]
  },
  {
   "cell_type": "code",
   "execution_count": 4,
   "id": "f88219bf-a5fd-4755-baed-dc6a01cf1931",
   "metadata": {},
   "outputs": [],
   "source": [
    "def get_misclassified_images(model,test_loader,device,n):\n",
    "    if n%5!=0:\n",
    "        return(\"give multiple of 5\")\n",
    "    model.eval()\n",
    "    \n",
    "    images               = []\n",
    "    predictions          = []\n",
    "    labels               = []\n",
    "    with torch.no_grad():\n",
    "        for inputs,targets in test_loader:\n",
    "            inputs  = inputs.to(device)\n",
    "            targets = targets.to(device)\n",
    "\n",
    "            outputs = model(inputs)\n",
    "\n",
    "            _,pred = torch.max(outputs,1)\n",
    "\n",
    "            for i in range(len(pred)):\n",
    "                if pred[i]!=targets[i]:\n",
    "                    images.append(inputs[i])\n",
    "                    predictions.append(pred[i])\n",
    "                    labels.append(targets[i])\n",
    "    # return images,predictions,labels\n",
    "    assert len(images) == len(predictions) == len(labels)\n",
    "\n",
    "    images=images[:n]\n",
    "    predictions=predictions[:n]\n",
    "    labels=labels[:n]\n",
    "    \n",
    "    classes = test_loader.dataset.classes\n",
    "    \n",
    "    fig = plt.figure(figsize=(20, 10))\n",
    "    for i in range(len(images)):\n",
    "        sub = fig.add_subplot(len(images) // 5, 5, i + 1)\n",
    "        image = images[i]\n",
    "        image = image.T\n",
    "        npimg = image.cpu().numpy().squeeze()\n",
    "        plt.imshow(npimg, cmap=\"gray\")\n",
    "        predicted = classes[predictions[i]]\n",
    "        correct = classes[labels[i]]\n",
    "        sub.set_title(\n",
    "            \"Correct class: {}\\nPredicted class: {}\".format(correct, predicted)\n",
    "        )\n",
    "    plt.tight_layout()"
   ]
  },
  {
   "cell_type": "code",
   "execution_count": 5,
   "id": "3d65a59f-72d2-4368-b225-f6e7ac3760ee",
   "metadata": {},
   "outputs": [],
   "source": [
    "def show_images(loader):\n",
    "    inputs,classes = next(iter(loader))\n",
    "    inputs=inputs[:10]\n",
    "    classes=inputs[:10]\n",
    "    out = torchvision.utils.make_grid(inputs)\n",
    "    plt.imshow(out,title=[i for i in classes])"
   ]
  },
  {
   "cell_type": "code",
   "execution_count": 6,
   "id": "9f02fe84-4e1f-4422-8e61-594bac7c215c",
   "metadata": {},
   "outputs": [],
   "source": [
    "class ConvLayer(nn.Module):\n",
    "    def __init__(self,inc:int,outc:int,k:int,p:int,norm:str,dp_rate:int,grp:int=0):\n",
    "        super(ConvLayer,self).__init__()\n",
    "\n",
    "        self.layer = nn.Sequential(\n",
    "            nn.Conv2d(in_channels=inc,out_channels=outc,kernel_size=3,padding=p,bias=False),\n",
    "            self.get_norm(norm=norm,grp=grp,num_f=outc),\n",
    "            nn.ReLU(inplace=True),\n",
    "            nn.Dropout2d(dp_rate)\n",
    "        )\n",
    "\n",
    "    def get_norm(self,norm:str,num_f:int,grp:int=0):\n",
    "        if norm=='bn':\n",
    "            return nn.BatchNorm2d(num_features=num_f)\n",
    "        elif norm=='ln':\n",
    "            return nn.GroupNorm(num_groups=1,num_channels=num_f)\n",
    "        elif norm=='gn':\n",
    "            return nn.GroupNorm(num_groups=grp,num_channels=num_f)\n",
    "        else:\n",
    "            raise ValueError(\"choose bn/ln/gn\")\n",
    "\n",
    "    def forward(self,x):\n",
    "        x = self.layer(x)\n",
    "        return x\n",
    "\n",
    "\n",
    "class TransBlock(nn.Module):\n",
    "    def __init__(self,inc:int,outc:int):\n",
    "        super(TransBlock,self).__init__()\n",
    "\n",
    "        self.layer = nn.Sequential(\n",
    "            nn.Conv2d(in_channels=inc,out_channels=outc,kernel_size=1,bias=False),\n",
    "            nn.MaxPool2d(kernel_size=2,stride=2)\n",
    "        )\n",
    "    def forward(self,x):\n",
    "        x = self.layer(x)\n",
    "        return x\n",
    "\n",
    "class Model(nn.Module):\n",
    "    def __init__(self,norm_method:str,grp:int):\n",
    "        super(Model,self).__init__()\n",
    "        self.dropout_rate = 0.1\n",
    "        if not norm_method in('bn','ln','gn'):\n",
    "            raise ValueError('choose bn/ln/gn')\n",
    "        else:\n",
    "            self.norm = norm_method\n",
    "            if self.norm =='gn':\n",
    "                self.grp=grp\n",
    "            else:\n",
    "                self.grp=0\n",
    "\n",
    "        self.conv1 = nn.Sequential(\n",
    "            ConvLayer(inc=3,outc=16,k=3,p=1,norm=self.norm,dp_rate=self.dropout_rate,grp=self.grp),\n",
    "            ConvLayer(inc=16,outc=32,p=1,k=3,norm=self.norm,dp_rate=self.dropout_rate,grp=self.grp)\n",
    "        )\n",
    "        self.trans1 = TransBlock(inc=32,outc=16)\n",
    "        \n",
    "        self.conv2 = nn.Sequential(\n",
    "            ConvLayer(inc=16,outc=16,p=1,k=3,norm=self.norm,dp_rate=self.dropout_rate,grp=self.grp),\n",
    "            ConvLayer(inc=16,outc=16,p=1,k=3,norm=self.norm,dp_rate=self.dropout_rate,grp=self.grp),\n",
    "            ConvLayer(inc=16,outc=32,p=1,k=3,norm=self.norm,dp_rate=self.dropout_rate,grp=self.grp)\n",
    "        )\n",
    "        self.trans2 = TransBlock(inc=32,outc=16)\n",
    "        \n",
    "        self.conv3 = nn.Sequential(\n",
    "            ConvLayer(inc=16,outc=16,p=1,k=3,norm=self.norm,dp_rate=self.dropout_rate,grp=self.grp),\n",
    "            ConvLayer(inc=16,outc=32,p=1,k=3,norm=self.norm,dp_rate=self.dropout_rate,grp=self.grp),\n",
    "            ConvLayer(inc=32,outc=64,p=1,k=3,norm=self.norm,dp_rate=self.dropout_rate,grp=self.grp)            \n",
    "        )\n",
    "        self.trans3 = TransBlock(inc=64,outc=16)\n",
    "\n",
    "        self.gap = nn.AdaptiveAvgPool2d(1)\n",
    "\n",
    "        self.out = nn.Conv2d(16,10,1,bias=False)\n",
    "    \n",
    "    def forward(self,x):\n",
    "        x = self.trans1(self.conv1(x))\n",
    "        x = self.trans2(self.conv2(x))\n",
    "        x = self.trans3(self.conv3(x))\n",
    "        x = self.gap(x)\n",
    "        x = self.out(x)\n",
    "        logit = F.log_softmax(x.view(-1,10), dim=1)\n",
    "        return logit"
   ]
  },
  {
   "cell_type": "code",
   "execution_count": 7,
   "id": "996eba00-539a-4798-8191-778c6f2a8ea5",
   "metadata": {},
   "outputs": [
    {
     "name": "stdout",
     "output_type": "stream",
     "text": [
      "----------------------------------------------------------------\n",
      "        Layer (type)               Output Shape         Param #\n",
      "================================================================\n",
      "            Conv2d-1           [-1, 16, 32, 32]             432\n",
      "         GroupNorm-2           [-1, 16, 32, 32]              32\n",
      "              ReLU-3           [-1, 16, 32, 32]               0\n",
      "         Dropout2d-4           [-1, 16, 32, 32]               0\n",
      "         ConvLayer-5           [-1, 16, 32, 32]               0\n",
      "            Conv2d-6           [-1, 32, 32, 32]           4,608\n",
      "         GroupNorm-7           [-1, 32, 32, 32]              64\n",
      "              ReLU-8           [-1, 32, 32, 32]               0\n",
      "         Dropout2d-9           [-1, 32, 32, 32]               0\n",
      "        ConvLayer-10           [-1, 32, 32, 32]               0\n",
      "           Conv2d-11           [-1, 16, 32, 32]             512\n",
      "        MaxPool2d-12           [-1, 16, 16, 16]               0\n",
      "       TransBlock-13           [-1, 16, 16, 16]               0\n",
      "           Conv2d-14           [-1, 16, 16, 16]           2,304\n",
      "        GroupNorm-15           [-1, 16, 16, 16]              32\n",
      "             ReLU-16           [-1, 16, 16, 16]               0\n",
      "        Dropout2d-17           [-1, 16, 16, 16]               0\n",
      "        ConvLayer-18           [-1, 16, 16, 16]               0\n",
      "           Conv2d-19           [-1, 16, 16, 16]           2,304\n",
      "        GroupNorm-20           [-1, 16, 16, 16]              32\n",
      "             ReLU-21           [-1, 16, 16, 16]               0\n",
      "        Dropout2d-22           [-1, 16, 16, 16]               0\n",
      "        ConvLayer-23           [-1, 16, 16, 16]               0\n",
      "           Conv2d-24           [-1, 32, 16, 16]           4,608\n",
      "        GroupNorm-25           [-1, 32, 16, 16]              64\n",
      "             ReLU-26           [-1, 32, 16, 16]               0\n",
      "        Dropout2d-27           [-1, 32, 16, 16]               0\n",
      "        ConvLayer-28           [-1, 32, 16, 16]               0\n",
      "           Conv2d-29           [-1, 16, 16, 16]             512\n",
      "        MaxPool2d-30             [-1, 16, 8, 8]               0\n",
      "       TransBlock-31             [-1, 16, 8, 8]               0\n",
      "           Conv2d-32             [-1, 16, 8, 8]           2,304\n",
      "        GroupNorm-33             [-1, 16, 8, 8]              32\n",
      "             ReLU-34             [-1, 16, 8, 8]               0\n",
      "        Dropout2d-35             [-1, 16, 8, 8]               0\n",
      "        ConvLayer-36             [-1, 16, 8, 8]               0\n",
      "           Conv2d-37             [-1, 32, 8, 8]           4,608\n",
      "        GroupNorm-38             [-1, 32, 8, 8]              64\n",
      "             ReLU-39             [-1, 32, 8, 8]               0\n",
      "        Dropout2d-40             [-1, 32, 8, 8]               0\n",
      "        ConvLayer-41             [-1, 32, 8, 8]               0\n",
      "           Conv2d-42             [-1, 64, 8, 8]          18,432\n",
      "        GroupNorm-43             [-1, 64, 8, 8]             128\n",
      "             ReLU-44             [-1, 64, 8, 8]               0\n",
      "        Dropout2d-45             [-1, 64, 8, 8]               0\n",
      "        ConvLayer-46             [-1, 64, 8, 8]               0\n",
      "           Conv2d-47             [-1, 16, 8, 8]           1,024\n",
      "        MaxPool2d-48             [-1, 16, 4, 4]               0\n",
      "       TransBlock-49             [-1, 16, 4, 4]               0\n",
      "AdaptiveAvgPool2d-50             [-1, 16, 1, 1]               0\n",
      "           Conv2d-51             [-1, 10, 1, 1]             160\n",
      "================================================================\n",
      "Total params: 42,256\n",
      "Trainable params: 42,256\n",
      "Non-trainable params: 0\n",
      "----------------------------------------------------------------\n",
      "Input size (MB): 0.01\n",
      "Forward/backward pass size (MB): 3.02\n",
      "Params size (MB): 0.16\n",
      "Estimated Total Size (MB): 3.19\n",
      "----------------------------------------------------------------\n"
     ]
    }
   ],
   "source": [
    "model = Model(norm_method='ln',grp=0).to(device)\n",
    "summary(model,(3,32,32))"
   ]
  },
  {
   "cell_type": "code",
   "execution_count": 8,
   "id": "549793ad-ea50-4085-99eb-f19f30ddc996",
   "metadata": {},
   "outputs": [],
   "source": [
    "train_transforms =  transforms.Compose([\n",
    "        transforms.ToTensor(),\n",
    "        transforms.Normalize(\n",
    "            (0.4914, 0.4822, 0.4465),\n",
    "            (0.2470, 0.2435, 0.2616),\n",
    "        ),\n",
    "        transforms.RandomHorizontalFlip(),\n",
    "        transforms.RandomRotation((-10,10)),\n",
    "        # # transforms.RandomAffine(0, shear=10, scale=(0.8, 1.2)),\n",
    "        transforms.ColorJitter(brightness=0.2, contrast=0.2, saturation=0.2),\n",
    "        # transforms.RandomCrop(32, padding=4),\n",
    "        # transforms.autoaugment.AutoAugmentPolicy('cifar10')\n",
    "    ])\n",
    "\n",
    "test_transforms  = transforms.Compose([\n",
    "        transforms.ToTensor(),\n",
    "        transforms.Normalize(\n",
    "            (0.4914, 0.4822, 0.4465),\n",
    "            (0.2470, 0.2435, 0.2616),\n",
    "        )\n",
    "    ])\n",
    "\n",
    "train_data = datasets.CIFAR10('../data', train=True, download=False, transform=train_transforms)\n",
    "test_data = datasets.CIFAR10('../data', train=False, download=False, transform=test_transforms)\n",
    "\n",
    "\n",
    "if device.type=='cuda':\n",
    "    kwargs = {'batch_size': 64, 'shuffle': True, 'num_workers': 4}\n",
    "else:\n",
    "    kwargs = {'batch_size':32,'shuffle':True}\n",
    "\n",
    "test_loader = torch.utils.data.DataLoader(test_data, **kwargs)\n",
    "train_loader = torch.utils.data.DataLoader(train_data, **kwargs)"
   ]
  },
  {
   "cell_type": "code",
   "execution_count": 9,
   "id": "3a65712a-19b0-485e-9b7f-0e148d2e8f7f",
   "metadata": {},
   "outputs": [
    {
     "name": "stdout",
     "output_type": "stream",
     "text": [
      "Epoch 1\n"
     ]
    },
    {
     "name": "stderr",
     "output_type": "stream",
     "text": [
      "Train: Loss=1.9026 Batch_id=781 Accuracy=20.08: 100%|████████████████████████████████| 782/782 [00:32<00:00, 23.75it/s]\n"
     ]
    },
    {
     "name": "stdout",
     "output_type": "stream",
     "text": [
      "Test set: Average loss: 2.3685, Accuracy: 1662/10000 (16.62%)\n",
      "\n",
      "Epoch 2\n"
     ]
    },
    {
     "name": "stderr",
     "output_type": "stream",
     "text": [
      "Train: Loss=1.9175 Batch_id=781 Accuracy=27.76: 100%|████████████████████████████████| 782/782 [00:30<00:00, 25.89it/s]\n"
     ]
    },
    {
     "name": "stdout",
     "output_type": "stream",
     "text": [
      "Test set: Average loss: 2.0742, Accuracy: 2336/10000 (23.36%)\n",
      "\n",
      "Epoch 3\n"
     ]
    },
    {
     "name": "stderr",
     "output_type": "stream",
     "text": [
      "Train: Loss=1.7862 Batch_id=781 Accuracy=30.01: 100%|████████████████████████████████| 782/782 [00:30<00:00, 25.52it/s]\n"
     ]
    },
    {
     "name": "stdout",
     "output_type": "stream",
     "text": [
      "Test set: Average loss: 2.2317, Accuracy: 2017/10000 (20.17%)\n",
      "\n",
      "Epoch 4\n"
     ]
    },
    {
     "name": "stderr",
     "output_type": "stream",
     "text": [
      "Train: Loss=1.8477 Batch_id=781 Accuracy=31.93: 100%|████████████████████████████████| 782/782 [00:30<00:00, 25.81it/s]\n"
     ]
    },
    {
     "name": "stdout",
     "output_type": "stream",
     "text": [
      "Test set: Average loss: 2.3689, Accuracy: 2034/10000 (20.34%)\n",
      "\n",
      "Epoch 5\n"
     ]
    },
    {
     "name": "stderr",
     "output_type": "stream",
     "text": [
      "Train: Loss=2.4706 Batch_id=781 Accuracy=33.51: 100%|████████████████████████████████| 782/782 [00:30<00:00, 26.06it/s]\n"
     ]
    },
    {
     "name": "stdout",
     "output_type": "stream",
     "text": [
      "Test set: Average loss: 2.1540, Accuracy: 2213/10000 (22.13%)\n",
      "\n",
      "Epoch 6\n"
     ]
    },
    {
     "name": "stderr",
     "output_type": "stream",
     "text": [
      "Train: Loss=1.7707 Batch_id=781 Accuracy=34.37: 100%|████████████████████████████████| 782/782 [00:30<00:00, 25.39it/s]\n"
     ]
    },
    {
     "name": "stdout",
     "output_type": "stream",
     "text": [
      "Test set: Average loss: 2.1985, Accuracy: 2340/10000 (23.40%)\n",
      "\n",
      "Epoch 7\n"
     ]
    },
    {
     "name": "stderr",
     "output_type": "stream",
     "text": [
      "Train: Loss=1.7581 Batch_id=781 Accuracy=35.81: 100%|████████████████████████████████| 782/782 [00:30<00:00, 25.94it/s]\n"
     ]
    },
    {
     "name": "stdout",
     "output_type": "stream",
     "text": [
      "Test set: Average loss: 2.6776, Accuracy: 1938/10000 (19.38%)\n",
      "\n",
      "Epoch 8\n"
     ]
    },
    {
     "name": "stderr",
     "output_type": "stream",
     "text": [
      "Train: Loss=1.4394 Batch_id=781 Accuracy=36.89: 100%|████████████████████████████████| 782/782 [00:30<00:00, 25.48it/s]\n"
     ]
    },
    {
     "name": "stdout",
     "output_type": "stream",
     "text": [
      "Test set: Average loss: 2.0185, Accuracy: 2839/10000 (28.39%)\n",
      "\n",
      "Epoch 9\n"
     ]
    },
    {
     "name": "stderr",
     "output_type": "stream",
     "text": [
      "Train: Loss=1.6684 Batch_id=781 Accuracy=37.43: 100%|████████████████████████████████| 782/782 [00:29<00:00, 26.32it/s]\n"
     ]
    },
    {
     "name": "stdout",
     "output_type": "stream",
     "text": [
      "Test set: Average loss: 1.9698, Accuracy: 3050/10000 (30.50%)\n",
      "\n",
      "Epoch 10\n"
     ]
    },
    {
     "name": "stderr",
     "output_type": "stream",
     "text": [
      "Train: Loss=1.6523 Batch_id=781 Accuracy=38.10: 100%|████████████████████████████████| 782/782 [00:30<00:00, 25.89it/s]\n"
     ]
    },
    {
     "name": "stdout",
     "output_type": "stream",
     "text": [
      "Test set: Average loss: 2.1354, Accuracy: 2540/10000 (25.40%)\n",
      "\n",
      "Epoch 11\n"
     ]
    },
    {
     "name": "stderr",
     "output_type": "stream",
     "text": [
      "Train: Loss=2.1931 Batch_id=781 Accuracy=38.99: 100%|████████████████████████████████| 782/782 [00:30<00:00, 25.75it/s]\n"
     ]
    },
    {
     "name": "stdout",
     "output_type": "stream",
     "text": [
      "Test set: Average loss: 1.8910, Accuracy: 3096/10000 (30.96%)\n",
      "\n",
      "Epoch 12\n"
     ]
    },
    {
     "name": "stderr",
     "output_type": "stream",
     "text": [
      "Train: Loss=1.5405 Batch_id=781 Accuracy=39.73: 100%|████████████████████████████████| 782/782 [00:30<00:00, 26.00it/s]\n"
     ]
    },
    {
     "name": "stdout",
     "output_type": "stream",
     "text": [
      "Test set: Average loss: 1.8742, Accuracy: 3149/10000 (31.49%)\n",
      "\n",
      "Epoch 13\n"
     ]
    },
    {
     "name": "stderr",
     "output_type": "stream",
     "text": [
      "Train: Loss=1.2288 Batch_id=781 Accuracy=40.12: 100%|████████████████████████████████| 782/782 [00:29<00:00, 26.11it/s]\n"
     ]
    },
    {
     "name": "stdout",
     "output_type": "stream",
     "text": [
      "Test set: Average loss: 2.2647, Accuracy: 2437/10000 (24.37%)\n",
      "\n",
      "Epoch 14\n"
     ]
    },
    {
     "name": "stderr",
     "output_type": "stream",
     "text": [
      "Train: Loss=1.4766 Batch_id=781 Accuracy=40.47: 100%|████████████████████████████████| 782/782 [00:29<00:00, 26.22it/s]\n"
     ]
    },
    {
     "name": "stdout",
     "output_type": "stream",
     "text": [
      "Test set: Average loss: 2.0615, Accuracy: 2924/10000 (29.24%)\n",
      "\n",
      "Epoch 15\n"
     ]
    },
    {
     "name": "stderr",
     "output_type": "stream",
     "text": [
      "Train: Loss=1.3572 Batch_id=781 Accuracy=41.15: 100%|████████████████████████████████| 782/782 [00:30<00:00, 25.93it/s]\n"
     ]
    },
    {
     "name": "stdout",
     "output_type": "stream",
     "text": [
      "Test set: Average loss: 2.1267, Accuracy: 2950/10000 (29.50%)\n",
      "\n",
      "Epoch 16\n"
     ]
    },
    {
     "name": "stderr",
     "output_type": "stream",
     "text": [
      "Train: Loss=1.5996 Batch_id=781 Accuracy=41.92: 100%|████████████████████████████████| 782/782 [00:30<00:00, 26.06it/s]\n"
     ]
    },
    {
     "name": "stdout",
     "output_type": "stream",
     "text": [
      "Test set: Average loss: 1.9216, Accuracy: 3207/10000 (32.07%)\n",
      "\n",
      "Epoch 17\n"
     ]
    },
    {
     "name": "stderr",
     "output_type": "stream",
     "text": [
      "Train: Loss=1.4838 Batch_id=781 Accuracy=41.97: 100%|████████████████████████████████| 782/782 [00:30<00:00, 25.96it/s]\n"
     ]
    },
    {
     "name": "stdout",
     "output_type": "stream",
     "text": [
      "Test set: Average loss: 1.7734, Accuracy: 3533/10000 (35.33%)\n",
      "\n",
      "Epoch 18\n"
     ]
    },
    {
     "name": "stderr",
     "output_type": "stream",
     "text": [
      "Train: Loss=1.6567 Batch_id=781 Accuracy=42.51: 100%|████████████████████████████████| 782/782 [00:29<00:00, 26.39it/s]\n"
     ]
    },
    {
     "name": "stdout",
     "output_type": "stream",
     "text": [
      "Test set: Average loss: 1.9904, Accuracy: 3326/10000 (33.26%)\n",
      "\n",
      "Epoch 19\n"
     ]
    },
    {
     "name": "stderr",
     "output_type": "stream",
     "text": [
      "Train: Loss=1.4070 Batch_id=781 Accuracy=42.41: 100%|████████████████████████████████| 782/782 [00:29<00:00, 26.33it/s]\n"
     ]
    },
    {
     "name": "stdout",
     "output_type": "stream",
     "text": [
      "Test set: Average loss: 1.8574, Accuracy: 3444/10000 (34.44%)\n",
      "\n",
      "Epoch 20\n"
     ]
    },
    {
     "name": "stderr",
     "output_type": "stream",
     "text": [
      "Train: Loss=1.4742 Batch_id=781 Accuracy=43.31: 100%|████████████████████████████████| 782/782 [00:29<00:00, 26.13it/s]\n"
     ]
    },
    {
     "name": "stdout",
     "output_type": "stream",
     "text": [
      "Test set: Average loss: 1.9554, Accuracy: 3227/10000 (32.27%)\n",
      "\n"
     ]
    }
   ],
   "source": [
    "\n",
    "optimizer = optim.SGD(model.parameters(), lr=0.2, momentum=0.9)\n",
    "scheduler = optim.lr_scheduler.ReduceLROnPlateau(optimizer, mode='min', factor=0.1, patience=5)\n",
    "# New Line\n",
    "criterion =  F.nll_loss\n",
    "num_epochs = 20\n",
    "\n",
    "for epoch in range(1, num_epochs+1):\n",
    "  print(f'Epoch {epoch}')\n",
    "  train(model, device, train_loader, optimizer)\n",
    "  tl = test(model, device, test_loader)\n",
    "  scheduler.step(tl)"
   ]
  },
  {
   "cell_type": "code",
   "execution_count": 10,
   "id": "dd24bf27-c3b0-4573-b08d-c41537a1e8fd",
   "metadata": {},
   "outputs": [
    {
     "data": {
      "image/png": "[encoded data removed]",
      "text/plain": [
       "<Figure size 1500x1000 with 4 Axes>"
      ]
     },
     "metadata": {},
     "output_type": "display_data"
    }
   ],
   "source": [
    "fig, axs = plt.subplots(2,2,figsize=(15,10))\n",
    "\n",
    "axs[0, 0].plot(train_losses)\n",
    "axs[0, 0].set_title(\"Training Loss\")\n",
    "\n",
    "axs[1, 0].plot(train_acc)\n",
    "axs[1, 0].set_title(\"Training Accuracy\")\n",
    "\n",
    "axs[0, 1].plot(test_losses)\n",
    "axs[0, 1].set_title(\"Test Loss\")\n",
    "\n",
    "axs[1, 1].plot(test_acc)\n",
    "axs[1, 1].set_title(\"Test Accuracy\")\n",
    "plt.show()"
   ]
  }
 ],
 "metadata": {
  "kernelspec": {
   "display_name": "Python 3 (ipykernel)",
   "language": "python",
   "name": "python3"
  },
  "language_info": {
   "codemirror_mode": {
    "name": "ipython",
    "version": 3
   },
   "file_extension": ".py",
   "mimetype": "text/x-python",
   "name": "python",
   "nbconvert_exporter": "python",
   "pygments_lexer": "ipython3",
   "version": "3.11.4"
  }
 },
 "nbformat": 4,
 "nbformat_minor": 5
}
