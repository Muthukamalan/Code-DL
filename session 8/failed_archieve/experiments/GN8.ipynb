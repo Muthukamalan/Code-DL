{
 "cells": [
  {
   "cell_type": "code",
   "execution_count": 1,
   "id": "51d4ef24-5999-4a80-bc61-26607ea35a83",
   "metadata": {},
   "outputs": [
    {
     "name": "stdout",
     "output_type": "stream",
     "text": [
      "Sat Sep 30 00:17:21 2023       \n",
      "+---------------------------------------------------------------------------------------+\n",
      "| NVIDIA-SMI 536.67                 Driver Version: 536.67       CUDA Version: 12.2     |\n",
      "|-----------------------------------------+----------------------+----------------------+\n",
      "| GPU  Name                     TCC/WDDM  | Bus-Id        Disp.A | Volatile Uncorr. ECC |\n",
      "| Fan  Temp   Perf          Pwr:Usage/Cap |         Memory-Usage | GPU-Util  Compute M. |\n",
      "|                                         |                      |               MIG M. |\n",
      "|=========================================+======================+======================|\n",
      "|   0  NVIDIA GeForce RTX 4050 ...  WDDM  | 00000000:01:00.0 Off |                  N/A |\n",
      "| N/A   43C    P8               1W / 140W |   3099MiB /  6141MiB |      0%      Default |\n",
      "|                                         |                      |                  N/A |\n",
      "+-----------------------------------------+----------------------+----------------------+\n",
      "                                                                                         \n",
      "+---------------------------------------------------------------------------------------+\n",
      "| Processes:                                                                            |\n",
      "|  GPU   GI   CI        PID   Type   Process name                            GPU Memory |\n",
      "|        ID   ID                                                             Usage      |\n",
      "|=======================================================================================|\n",
      "|    0   N/A  N/A      8728      C   ...miniconda3\\envs\\torchenv\\python.exe    N/A      |\n",
      "|    0   N/A  N/A     10196      C   ...miniconda3\\envs\\torchenv\\python.exe    N/A      |\n",
      "+---------------------------------------------------------------------------------------+\n"
     ]
    }
   ],
   "source": [
    "!nvidia-smi"
   ]
  },
  {
   "cell_type": "code",
   "execution_count": 2,
   "id": "14cad19c-8fbb-4c62-a834-c1a63eca154f",
   "metadata": {},
   "outputs": [],
   "source": [
    "import random\n",
    "import numpy as np\n",
    "import matplotlib.pyplot as plt\n",
    "\n",
    "import torch\n",
    "import torch.nn as nn\n",
    "import torch.optim as optim\n",
    "import torch.nn.functional as F\n",
    "from torchvision import datasets, transforms\n",
    "from torchsummary import summary\n",
    "from tqdm import tqdm\n",
    "import albumentations as A\n",
    "from albumentations.pytorch import ToTensorV2\n",
    "\n",
    "device = torch.device('cuda:0' if torch.cuda.is_available() else 'cpu')\n",
    "device\n",
    "\n",
    "\n",
    "torch.cuda.amp.autocast(enabled=True)\n",
    "\n",
    "# REPRODUCE\n",
    "torch.backends.cudnn.deterministi=True\n",
    "random.seed(hash('setting random seeds')% 2**32-1)\n",
    "np.random.seed(hash('improves reproducibility')%2**32-1)\n",
    "torch.manual_seed(hash(\"by removing stochasticity\")%2**32-1)\n",
    "torch.cuda.manual_seed_all(hash('so runs are repetable')%2**32-1)"
   ]
  },
  {
   "cell_type": "code",
   "execution_count": 3,
   "id": "20570172-193a-41f0-8548-4ff7ea28416b",
   "metadata": {},
   "outputs": [],
   "source": [
    "train_losses = []\n",
    "test_losses  = []\n",
    "train_acc    = []\n",
    "test_acc     = []\n",
    "\n",
    "test_incorrect_pred={\n",
    "    'images':[], 'ground_truths':[],'predicted_vals':[]\n",
    "}\n",
    "\n",
    "def GetCorrectPredCount(pPrediction, pLabels):\n",
    "  return pPrediction.argmax(dim=1).eq(pLabels).sum().item()\n",
    "\n",
    "def train(model, device, train_loader, optimizer):\n",
    "  model.train()\n",
    "  pbar = tqdm(train_loader)\n",
    "\n",
    "  train_loss = 0\n",
    "  correct = 0\n",
    "  processed = 0\n",
    "\n",
    "  for batch_idx, (data, target) in enumerate(pbar):\n",
    "    data, target = data.to(device), target.to(device)\n",
    "    optimizer.zero_grad()\n",
    "\n",
    "    # Predict\n",
    "    pred = model(data)\n",
    "\n",
    "    # Calculate loss\n",
    "    loss = F.nll_loss(pred, target)\n",
    "    train_loss+=loss.item()\n",
    "\n",
    "    # Backpropagation\n",
    "    loss.backward()\n",
    "    optimizer.step()\n",
    "    \n",
    "    correct += GetCorrectPredCount(pred, target)\n",
    "    processed += len(data)\n",
    "\n",
    "    pbar.set_description(desc= f'Train: Loss={loss.item():0.4f} Batch_id={batch_idx} Accuracy={100*correct/processed:0.2f}')\n",
    "\n",
    "  train_acc.append(100*correct/processed)\n",
    "  train_losses.append(train_loss/len(train_loader))\n",
    "\n",
    "def test(model, device, test_loader):\n",
    "    model.eval()\n",
    "\n",
    "    test_loss = 0\n",
    "    correct = 0\n",
    "\n",
    "    with torch.no_grad():\n",
    "        for batch_idx, (data, target) in enumerate(test_loader):\n",
    "            data, target = data.to(device), target.to(device)\n",
    "\n",
    "            output = model(data)\n",
    "            test_loss += F.nll_loss(output, target, reduction='sum').item()  # sum up batch loss\n",
    "\n",
    "            correct += GetCorrectPredCount(output, target)\n",
    "\n",
    "\n",
    "    test_loss /= len(test_loader.dataset)\n",
    "    test_acc.append(100. * correct / len(test_loader.dataset))\n",
    "    test_losses.append(test_loss)\n",
    "\n",
    "    print('Test set: Average loss: {:.4f}, Accuracy: {}/{} ({:.2f}%)\\n'.format(\n",
    "        test_loss, correct, len(test_loader.dataset),\n",
    "        100. * correct / len(test_loader.dataset)))\n",
    "    return test_loss\n",
    "\n",
    "def plot_curves():\n",
    "  fig, axs = plt.subplots(2,2,figsize=(15,10))\n",
    "  axs[0, 0].plot(train_losses)\n",
    "  axs[0, 0].set_title(\"Training Loss\")\n",
    "  axs[1, 0].plot(train_acc)\n",
    "  axs[1, 0].set_title(\"Training Accuracy\")\n",
    "  axs[0, 1].plot(test_losses)\n",
    "  axs[0, 1].set_title(\"Test Loss\")\n",
    "  axs[1, 1].plot(test_acc)\n",
    "  axs[1, 1].set_title(\"Test Accuracy\")\n",
    "  plt.show()"
   ]
  },
  {
   "cell_type": "code",
   "execution_count": 4,
   "id": "f88219bf-a5fd-4755-baed-dc6a01cf1931",
   "metadata": {},
   "outputs": [],
   "source": [
    "def get_misclassified_images(model,test_loader,device,n):\n",
    "    if n%5!=0:\n",
    "        return(\"give multiple of 5\")\n",
    "    model.eval()\n",
    "    \n",
    "    images               = []\n",
    "    predictions          = []\n",
    "    labels               = []\n",
    "    with torch.no_grad():\n",
    "        for inputs,targets in test_loader:\n",
    "            inputs  = inputs.to(device)\n",
    "            targets = targets.to(device)\n",
    "\n",
    "            outputs = model(inputs)\n",
    "\n",
    "            _,pred = torch.max(outputs,1)\n",
    "\n",
    "            for i in range(len(pred)):\n",
    "                if pred[i]!=targets[i]:\n",
    "                    images.append(inputs[i])\n",
    "                    predictions.append(pred[i])\n",
    "                    labels.append(targets[i])\n",
    "    # return images,predictions,labels\n",
    "    assert len(images) == len(predictions) == len(labels)\n",
    "\n",
    "    images=images[:n]\n",
    "    predictions=predictions[:n]\n",
    "    labels=labels[:n]\n",
    "    \n",
    "    classes = test_loader.dataset.classes\n",
    "    \n",
    "    fig = plt.figure(figsize=(20, 10))\n",
    "    for i in range(len(images)):\n",
    "        sub = fig.add_subplot(len(images) // 5, 5, i + 1)\n",
    "        image = images[i]\n",
    "        image = image.T\n",
    "        npimg = image.cpu().numpy().squeeze()\n",
    "        plt.imshow(npimg, cmap=\"gray\")\n",
    "        predicted = classes[predictions[i]]\n",
    "        correct = classes[labels[i]]\n",
    "        sub.set_title(\n",
    "            \"Correct class: {}\\nPredicted class: {}\".format(correct, predicted)\n",
    "        )\n",
    "    plt.tight_layout()"
   ]
  },
  {
   "cell_type": "code",
   "execution_count": 5,
   "id": "3d65a59f-72d2-4368-b225-f6e7ac3760ee",
   "metadata": {},
   "outputs": [],
   "source": [
    "def show_images(loader):\n",
    "    inputs,classes = next(iter(loader))\n",
    "    inputs=inputs[:10]\n",
    "    classes=inputs[:10]\n",
    "    out = torchvision.utils.make_grid(inputs)\n",
    "    plt.imshow(out,title=[i for i in classes])"
   ]
  },
  {
   "cell_type": "code",
   "execution_count": 6,
   "id": "cfa12fe5-cd47-4b04-acd1-bae38f0db161",
   "metadata": {},
   "outputs": [],
   "source": [
    "class ConvLayer(nn.Module):\n",
    "    def __init__(self,inc:int,outc:int,k:int,p:int,norm:str,dp_rate:int,grp:int=0):\n",
    "        super(ConvLayer,self).__init__()\n",
    "\n",
    "        self.layer = nn.Sequential(\n",
    "            nn.Conv2d(in_channels=inc,out_channels=outc,kernel_size=3,padding=p,bias=False),\n",
    "            self.get_norm(norm=norm,grp=grp,num_f=outc),\n",
    "            nn.ReLU(inplace=True),\n",
    "            nn.Dropout2d(dp_rate)\n",
    "        )\n",
    "\n",
    "    def get_norm(self,norm:str,num_f:int,grp:int=0):\n",
    "        if norm=='bn':\n",
    "            return nn.BatchNorm2d(num_features=num_f)\n",
    "        elif norm=='ln':\n",
    "            return nn.GroupNorm(num_groups=1,num_channels=num_f)\n",
    "        elif norm=='gn':\n",
    "            return nn.GroupNorm(num_groups=grp,num_channels=num_f)\n",
    "        else:\n",
    "            raise ValueError(\"choose bn/ln/gn\")\n",
    "\n",
    "    def forward(self,x):\n",
    "        x = self.layer(x)\n",
    "        return x\n",
    "\n",
    "\n",
    "class TransBlock(nn.Module):\n",
    "    def __init__(self,inc:int,outc:int):\n",
    "        super(TransBlock,self).__init__()\n",
    "\n",
    "        self.layer = nn.Sequential(\n",
    "            nn.Conv2d(in_channels=inc,out_channels=outc,kernel_size=1,bias=False),\n",
    "            nn.MaxPool2d(kernel_size=2,stride=2)\n",
    "        )\n",
    "    def forward(self,x):\n",
    "        x = self.layer(x)\n",
    "        return x\n",
    "\n",
    "class Model(nn.Module):\n",
    "    def __init__(self,norm_method:str,grp:int):\n",
    "        super(Model,self).__init__()\n",
    "        self.dropout_rate = 0.1\n",
    "        if not norm_method in('bn','ln','gn'):\n",
    "            raise ValueError('choose bn/ln/gn')\n",
    "        else:\n",
    "            self.norm = norm_method\n",
    "            if self.norm =='gn':\n",
    "                self.grp=grp\n",
    "            else:\n",
    "                self.grp=0\n",
    "\n",
    "        self.conv1 = nn.Sequential(\n",
    "            ConvLayer(inc=3,outc=16,k=3,p=1,norm=self.norm,dp_rate=self.dropout_rate,grp=self.grp),\n",
    "            ConvLayer(inc=16,outc=32,p=1,k=3,norm=self.norm,dp_rate=self.dropout_rate,grp=self.grp)\n",
    "        )\n",
    "        self.trans1 = TransBlock(inc=32,outc=16)\n",
    "        \n",
    "        self.conv2 = nn.Sequential(\n",
    "            ConvLayer(inc=16,outc=16,p=1,k=3,norm=self.norm,dp_rate=self.dropout_rate,grp=self.grp),\n",
    "            ConvLayer(inc=16,outc=16,p=1,k=3,norm=self.norm,dp_rate=self.dropout_rate,grp=self.grp),\n",
    "            ConvLayer(inc=16,outc=32,p=1,k=3,norm=self.norm,dp_rate=self.dropout_rate,grp=self.grp)\n",
    "        )\n",
    "        self.trans2 = TransBlock(inc=32,outc=16)\n",
    "        \n",
    "        self.conv3 = nn.Sequential(\n",
    "            ConvLayer(inc=16,outc=16,p=1,k=3,norm=self.norm,dp_rate=self.dropout_rate,grp=self.grp),\n",
    "            ConvLayer(inc=16,outc=32,p=1,k=3,norm=self.norm,dp_rate=self.dropout_rate,grp=self.grp),\n",
    "            ConvLayer(inc=32,outc=64,p=1,k=3,norm=self.norm,dp_rate=self.dropout_rate,grp=self.grp)            \n",
    "        )\n",
    "        self.trans3 = TransBlock(inc=64,outc=16)\n",
    "\n",
    "        self.gap = nn.AdaptiveAvgPool2d(1)\n",
    "\n",
    "        self.out = nn.Conv2d(16,10,1,bias=False)\n",
    "    \n",
    "    def forward(self,x):\n",
    "        x = self.trans1(self.conv1(x))\n",
    "        x = self.trans2(self.conv2(x))\n",
    "        x = self.trans3(self.conv3(x))\n",
    "        x = self.gap(x)\n",
    "        x = self.out(x)\n",
    "        logit = F.log_softmax(x.view(-1,10), dim=1)\n",
    "        return logit"
   ]
  },
  {
   "cell_type": "code",
   "execution_count": 7,
   "id": "5f343b8f-63bc-462a-bacb-4aa29239ba57",
   "metadata": {
    "scrolled": true
   },
   "outputs": [
    {
     "name": "stdout",
     "output_type": "stream",
     "text": [
      "----------------------------------------------------------------\n",
      "        Layer (type)               Output Shape         Param #\n",
      "================================================================\n",
      "            Conv2d-1           [-1, 16, 32, 32]             432\n",
      "         GroupNorm-2           [-1, 16, 32, 32]              32\n",
      "              ReLU-3           [-1, 16, 32, 32]               0\n",
      "         Dropout2d-4           [-1, 16, 32, 32]               0\n",
      "         ConvLayer-5           [-1, 16, 32, 32]               0\n",
      "            Conv2d-6           [-1, 32, 32, 32]           4,608\n",
      "         GroupNorm-7           [-1, 32, 32, 32]              64\n",
      "              ReLU-8           [-1, 32, 32, 32]               0\n",
      "         Dropout2d-9           [-1, 32, 32, 32]               0\n",
      "        ConvLayer-10           [-1, 32, 32, 32]               0\n",
      "           Conv2d-11           [-1, 16, 32, 32]             512\n",
      "        MaxPool2d-12           [-1, 16, 16, 16]               0\n",
      "       TransBlock-13           [-1, 16, 16, 16]               0\n",
      "           Conv2d-14           [-1, 16, 16, 16]           2,304\n",
      "        GroupNorm-15           [-1, 16, 16, 16]              32\n",
      "             ReLU-16           [-1, 16, 16, 16]               0\n",
      "        Dropout2d-17           [-1, 16, 16, 16]               0\n",
      "        ConvLayer-18           [-1, 16, 16, 16]               0\n",
      "           Conv2d-19           [-1, 16, 16, 16]           2,304\n",
      "        GroupNorm-20           [-1, 16, 16, 16]              32\n",
      "             ReLU-21           [-1, 16, 16, 16]               0\n",
      "        Dropout2d-22           [-1, 16, 16, 16]               0\n",
      "        ConvLayer-23           [-1, 16, 16, 16]               0\n",
      "           Conv2d-24           [-1, 32, 16, 16]           4,608\n",
      "        GroupNorm-25           [-1, 32, 16, 16]              64\n",
      "             ReLU-26           [-1, 32, 16, 16]               0\n",
      "        Dropout2d-27           [-1, 32, 16, 16]               0\n",
      "        ConvLayer-28           [-1, 32, 16, 16]               0\n",
      "           Conv2d-29           [-1, 16, 16, 16]             512\n",
      "        MaxPool2d-30             [-1, 16, 8, 8]               0\n",
      "       TransBlock-31             [-1, 16, 8, 8]               0\n",
      "           Conv2d-32             [-1, 16, 8, 8]           2,304\n",
      "        GroupNorm-33             [-1, 16, 8, 8]              32\n",
      "             ReLU-34             [-1, 16, 8, 8]               0\n",
      "        Dropout2d-35             [-1, 16, 8, 8]               0\n",
      "        ConvLayer-36             [-1, 16, 8, 8]               0\n",
      "           Conv2d-37             [-1, 32, 8, 8]           4,608\n",
      "        GroupNorm-38             [-1, 32, 8, 8]              64\n",
      "             ReLU-39             [-1, 32, 8, 8]               0\n",
      "        Dropout2d-40             [-1, 32, 8, 8]               0\n",
      "        ConvLayer-41             [-1, 32, 8, 8]               0\n",
      "           Conv2d-42             [-1, 64, 8, 8]          18,432\n",
      "        GroupNorm-43             [-1, 64, 8, 8]             128\n",
      "             ReLU-44             [-1, 64, 8, 8]               0\n",
      "        Dropout2d-45             [-1, 64, 8, 8]               0\n",
      "        ConvLayer-46             [-1, 64, 8, 8]               0\n",
      "           Conv2d-47             [-1, 16, 8, 8]           1,024\n",
      "        MaxPool2d-48             [-1, 16, 4, 4]               0\n",
      "       TransBlock-49             [-1, 16, 4, 4]               0\n",
      "AdaptiveAvgPool2d-50             [-1, 16, 1, 1]               0\n",
      "           Conv2d-51             [-1, 10, 1, 1]             160\n",
      "================================================================\n",
      "Total params: 42,256\n",
      "Trainable params: 42,256\n",
      "Non-trainable params: 0\n",
      "----------------------------------------------------------------\n",
      "Input size (MB): 0.01\n",
      "Forward/backward pass size (MB): 3.02\n",
      "Params size (MB): 0.16\n",
      "Estimated Total Size (MB): 3.19\n",
      "----------------------------------------------------------------\n"
     ]
    }
   ],
   "source": [
    "model8 = Model(norm_method='gn',grp=8).to(device)\n",
    "summary(model8,(3,32,32))"
   ]
  },
  {
   "cell_type": "code",
   "execution_count": 8,
   "id": "3ba1ef00-268b-4a10-ba5e-309e70ad7676",
   "metadata": {},
   "outputs": [],
   "source": [
    "train_transforms =  transforms.Compose([\n",
    "        transforms.ToTensor(),\n",
    "        transforms.Normalize(\n",
    "            (0.4914, 0.4822, 0.4465),\n",
    "            (0.2470, 0.2435, 0.2616),\n",
    "        ),\n",
    "        transforms.RandomHorizontalFlip(),\n",
    "        transforms.RandomRotation((-10,10)),\n",
    "        # # transforms.RandomAffine(0, shear=10, scale=(0.8, 1.2)),\n",
    "        transforms.ColorJitter(brightness=0.2, contrast=0.2, saturation=0.2),\n",
    "        # transforms.RandomCrop(32, padding=4),\n",
    "        # transforms.autoaugment.AutoAugmentPolicy('cifar10')\n",
    "    ])\n",
    "\n",
    "test_transforms  = transforms.Compose([\n",
    "        transforms.ToTensor(),\n",
    "        transforms.Normalize(\n",
    "            (0.4914, 0.4822, 0.4465),\n",
    "            (0.2470, 0.2435, 0.2616),\n",
    "        )\n",
    "    ])\n",
    "\n",
    "train_data = datasets.CIFAR10('../data', train=True, download=False, transform=train_transforms)\n",
    "test_data = datasets.CIFAR10('../data', train=False, download=False, transform=test_transforms)\n",
    "\n",
    "\n",
    "if device.type=='cuda':\n",
    "    kwargs = {'batch_size': 76, 'shuffle': True, 'num_workers': 4}\n",
    "else:\n",
    "    kwargs = {'batch_size':32,'shuffle':True}\n",
    "\n",
    "test_loader = torch.utils.data.DataLoader(test_data, **kwargs)\n",
    "train_loader = torch.utils.data.DataLoader(train_data, **kwargs)"
   ]
  },
  {
   "cell_type": "code",
   "execution_count": 9,
   "id": "7d533457-2218-45b3-87ab-0e16bad6fe0c",
   "metadata": {},
   "outputs": [
    {
     "name": "stdout",
     "output_type": "stream",
     "text": [
      "Epoch 1\n"
     ]
    },
    {
     "name": "stderr",
     "output_type": "stream",
     "text": [
      "Train: Loss=1.9748 Batch_id=657 Accuracy=21.41: 100%|████████████████████████████████| 658/658 [00:32<00:00, 20.43it/s]\n"
     ]
    },
    {
     "name": "stdout",
     "output_type": "stream",
     "text": [
      "Test set: Average loss: 1.9314, Accuracy: 2857/10000 (28.57%)\n",
      "\n",
      "Epoch 2\n"
     ]
    },
    {
     "name": "stderr",
     "output_type": "stream",
     "text": [
      "Train: Loss=1.8826 Batch_id=657 Accuracy=29.06: 100%|████████████████████████████████| 658/658 [00:29<00:00, 22.15it/s]\n"
     ]
    },
    {
     "name": "stdout",
     "output_type": "stream",
     "text": [
      "Test set: Average loss: 1.8896, Accuracy: 3188/10000 (31.88%)\n",
      "\n",
      "Epoch 3\n"
     ]
    },
    {
     "name": "stderr",
     "output_type": "stream",
     "text": [
      "Train: Loss=1.7196 Batch_id=657 Accuracy=31.76: 100%|████████████████████████████████| 658/658 [00:29<00:00, 22.29it/s]\n"
     ]
    },
    {
     "name": "stdout",
     "output_type": "stream",
     "text": [
      "Test set: Average loss: 1.7670, Accuracy: 3419/10000 (34.19%)\n",
      "\n",
      "Epoch 4\n"
     ]
    },
    {
     "name": "stderr",
     "output_type": "stream",
     "text": [
      "Train: Loss=1.7452 Batch_id=657 Accuracy=34.60: 100%|████████████████████████████████| 658/658 [00:29<00:00, 22.19it/s]\n"
     ]
    },
    {
     "name": "stdout",
     "output_type": "stream",
     "text": [
      "Test set: Average loss: 1.7565, Accuracy: 3512/10000 (35.12%)\n",
      "\n",
      "Epoch 5\n"
     ]
    },
    {
     "name": "stderr",
     "output_type": "stream",
     "text": [
      "Train: Loss=1.6431 Batch_id=657 Accuracy=36.54: 100%|████████████████████████████████| 658/658 [00:29<00:00, 22.55it/s]\n"
     ]
    },
    {
     "name": "stdout",
     "output_type": "stream",
     "text": [
      "Test set: Average loss: 1.6552, Accuracy: 3930/10000 (39.30%)\n",
      "\n",
      "Epoch 6\n"
     ]
    },
    {
     "name": "stderr",
     "output_type": "stream",
     "text": [
      "Train: Loss=1.7956 Batch_id=657 Accuracy=37.89: 100%|████████████████████████████████| 658/658 [00:28<00:00, 22.83it/s]\n"
     ]
    },
    {
     "name": "stdout",
     "output_type": "stream",
     "text": [
      "Test set: Average loss: 1.6027, Accuracy: 4067/10000 (40.67%)\n",
      "\n",
      "Epoch 7\n"
     ]
    },
    {
     "name": "stderr",
     "output_type": "stream",
     "text": [
      "Train: Loss=1.6279 Batch_id=657 Accuracy=39.03: 100%|████████████████████████████████| 658/658 [00:28<00:00, 22.72it/s]\n"
     ]
    },
    {
     "name": "stdout",
     "output_type": "stream",
     "text": [
      "Test set: Average loss: 1.6001, Accuracy: 4097/10000 (40.97%)\n",
      "\n",
      "Epoch 8\n"
     ]
    },
    {
     "name": "stderr",
     "output_type": "stream",
     "text": [
      "Train: Loss=1.6325 Batch_id=657 Accuracy=40.03: 100%|████████████████████████████████| 658/658 [00:28<00:00, 23.07it/s]\n"
     ]
    },
    {
     "name": "stdout",
     "output_type": "stream",
     "text": [
      "Test set: Average loss: 1.5699, Accuracy: 4156/10000 (41.56%)\n",
      "\n",
      "Epoch 9\n"
     ]
    },
    {
     "name": "stderr",
     "output_type": "stream",
     "text": [
      "Train: Loss=1.8395 Batch_id=657 Accuracy=41.44: 100%|████████████████████████████████| 658/658 [00:29<00:00, 21.95it/s]\n"
     ]
    },
    {
     "name": "stdout",
     "output_type": "stream",
     "text": [
      "Test set: Average loss: 1.5865, Accuracy: 4224/10000 (42.24%)\n",
      "\n",
      "Epoch 10\n"
     ]
    },
    {
     "name": "stderr",
     "output_type": "stream",
     "text": [
      "Train: Loss=1.4163 Batch_id=657 Accuracy=42.22: 100%|████████████████████████████████| 658/658 [00:29<00:00, 22.03it/s]\n"
     ]
    },
    {
     "name": "stdout",
     "output_type": "stream",
     "text": [
      "Test set: Average loss: 1.5199, Accuracy: 4432/10000 (44.32%)\n",
      "\n",
      "Epoch 11\n"
     ]
    },
    {
     "name": "stderr",
     "output_type": "stream",
     "text": [
      "Train: Loss=1.5222 Batch_id=657 Accuracy=42.82: 100%|████████████████████████████████| 658/658 [00:28<00:00, 22.77it/s]\n"
     ]
    },
    {
     "name": "stdout",
     "output_type": "stream",
     "text": [
      "Test set: Average loss: 1.4436, Accuracy: 4648/10000 (46.48%)\n",
      "\n",
      "Epoch 12\n"
     ]
    },
    {
     "name": "stderr",
     "output_type": "stream",
     "text": [
      "Train: Loss=1.4563 Batch_id=657 Accuracy=43.67: 100%|████████████████████████████████| 658/658 [00:28<00:00, 22.78it/s]\n"
     ]
    },
    {
     "name": "stdout",
     "output_type": "stream",
     "text": [
      "Test set: Average loss: 1.4507, Accuracy: 4701/10000 (47.01%)\n",
      "\n",
      "Epoch 13\n"
     ]
    },
    {
     "name": "stderr",
     "output_type": "stream",
     "text": [
      "Train: Loss=1.5724 Batch_id=657 Accuracy=44.30: 100%|████████████████████████████████| 658/658 [00:29<00:00, 22.58it/s]\n"
     ]
    },
    {
     "name": "stdout",
     "output_type": "stream",
     "text": [
      "Test set: Average loss: 1.4432, Accuracy: 4776/10000 (47.76%)\n",
      "\n",
      "Epoch 14\n"
     ]
    },
    {
     "name": "stderr",
     "output_type": "stream",
     "text": [
      "Train: Loss=1.3720 Batch_id=657 Accuracy=44.97: 100%|████████████████████████████████| 658/658 [00:29<00:00, 22.53it/s]\n"
     ]
    },
    {
     "name": "stdout",
     "output_type": "stream",
     "text": [
      "Test set: Average loss: 1.4462, Accuracy: 4704/10000 (47.04%)\n",
      "\n",
      "Epoch 15\n"
     ]
    },
    {
     "name": "stderr",
     "output_type": "stream",
     "text": [
      "Train: Loss=1.4768 Batch_id=657 Accuracy=45.69: 100%|████████████████████████████████| 658/658 [00:29<00:00, 22.67it/s]\n"
     ]
    },
    {
     "name": "stdout",
     "output_type": "stream",
     "text": [
      "Test set: Average loss: 1.3774, Accuracy: 5030/10000 (50.30%)\n",
      "\n",
      "Epoch 16\n"
     ]
    },
    {
     "name": "stderr",
     "output_type": "stream",
     "text": [
      "Train: Loss=1.3991 Batch_id=657 Accuracy=45.91: 100%|████████████████████████████████| 658/658 [00:29<00:00, 21.95it/s]\n"
     ]
    },
    {
     "name": "stdout",
     "output_type": "stream",
     "text": [
      "Test set: Average loss: 1.4416, Accuracy: 4770/10000 (47.70%)\n",
      "\n",
      "Epoch 17\n"
     ]
    },
    {
     "name": "stderr",
     "output_type": "stream",
     "text": [
      "Train: Loss=1.4126 Batch_id=657 Accuracy=46.47: 100%|████████████████████████████████| 658/658 [00:31<00:00, 21.01it/s]\n"
     ]
    },
    {
     "name": "stdout",
     "output_type": "stream",
     "text": [
      "Test set: Average loss: 1.3456, Accuracy: 5044/10000 (50.44%)\n",
      "\n",
      "Epoch 18\n"
     ]
    },
    {
     "name": "stderr",
     "output_type": "stream",
     "text": [
      "Train: Loss=1.4778 Batch_id=657 Accuracy=46.99: 100%|████████████████████████████████| 658/658 [00:30<00:00, 21.63it/s]\n"
     ]
    },
    {
     "name": "stdout",
     "output_type": "stream",
     "text": [
      "Test set: Average loss: 1.3530, Accuracy: 5143/10000 (51.43%)\n",
      "\n",
      "Epoch 19\n"
     ]
    },
    {
     "name": "stderr",
     "output_type": "stream",
     "text": [
      "Train: Loss=1.4597 Batch_id=657 Accuracy=48.03: 100%|████████████████████████████████| 658/658 [00:30<00:00, 21.38it/s]\n"
     ]
    },
    {
     "name": "stdout",
     "output_type": "stream",
     "text": [
      "Test set: Average loss: 1.3841, Accuracy: 5014/10000 (50.14%)\n",
      "\n",
      "Epoch 20\n"
     ]
    },
    {
     "name": "stderr",
     "output_type": "stream",
     "text": [
      "Train: Loss=1.3177 Batch_id=657 Accuracy=48.00: 100%|████████████████████████████████| 658/658 [00:29<00:00, 21.99it/s]\n"
     ]
    },
    {
     "name": "stdout",
     "output_type": "stream",
     "text": [
      "Test set: Average loss: 1.3251, Accuracy: 5188/10000 (51.88%)\n",
      "\n"
     ]
    }
   ],
   "source": [
    "\n",
    "optimizer = optim.SGD(model8.parameters(), lr=0.2, momentum=0.9)\n",
    "scheduler = optim.lr_scheduler.ReduceLROnPlateau(optimizer, mode='min', factor=0.1, patience=5)\n",
    "# New Line\n",
    "criterion =  F.nll_loss\n",
    "num_epochs = 20\n",
    "\n",
    "for epoch in range(1, num_epochs+1):\n",
    "  print(f'Epoch {epoch}')\n",
    "  train(model8, device, train_loader, optimizer)\n",
    "  tl = test(model8, device, test_loader)\n",
    "  scheduler.step(tl)"
   ]
  },
  {
   "cell_type": "code",
   "execution_count": 10,
   "id": "4c5d800d-ad8f-4273-98d1-d64ec22aefe6",
   "metadata": {},
   "outputs": [
    {
     "data": {
      "image/png": "[encoded data removed]",
      "text/plain": [
       "<Figure size 1500x1000 with 4 Axes>"
      ]
     },
     "metadata": {},
     "output_type": "display_data"
    }
   ],
   "source": [
    "fig, axs = plt.subplots(2,2,figsize=(15,10))\n",
    "\n",
    "axs[0, 0].plot(train_losses)\n",
    "axs[0, 0].set_title(\"Training Loss\")\n",
    "\n",
    "axs[1, 0].plot(train_acc)\n",
    "axs[1, 0].set_title(\"Training Accuracy\")\n",
    "\n",
    "axs[0, 1].plot(test_losses)\n",
    "axs[0, 1].set_title(\"Test Loss\")\n",
    "\n",
    "axs[1, 1].plot(test_acc)\n",
    "axs[1, 1].set_title(\"Test Accuracy\")\n",
    "plt.show()"
   ]
  }
 ],
 "metadata": {
  "kernelspec": {
   "display_name": "Python 3 (ipykernel)",
   "language": "python",
   "name": "python3"
  },
  "language_info": {
   "codemirror_mode": {
    "name": "ipython",
    "version": 3
   },
   "file_extension": ".py",
   "mimetype": "text/x-python",
   "name": "python",
   "nbconvert_exporter": "python",
   "pygments_lexer": "ipython3",
   "version": "3.11.4"
  }
 },
 "nbformat": 4,
 "nbformat_minor": 5
}
