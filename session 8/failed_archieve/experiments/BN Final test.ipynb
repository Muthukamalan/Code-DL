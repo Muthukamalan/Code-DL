{
 "cells": [
  {
   "cell_type": "code",
   "execution_count": 1,
   "id": "51d4ef24-5999-4a80-bc61-26607ea35a83",
   "metadata": {},
   "outputs": [
    {
     "name": "stdout",
     "output_type": "stream",
     "text": [
      "Sun Oct  1 12:34:11 2023       \n",
      "+---------------------------------------------------------------------------------------+\n",
      "| NVIDIA-SMI 536.67                 Driver Version: 536.67       CUDA Version: 12.2     |\n",
      "|-----------------------------------------+----------------------+----------------------+\n",
      "| GPU  Name                     TCC/WDDM  | Bus-Id        Disp.A | Volatile Uncorr. ECC |\n",
      "| Fan  Temp   Perf          Pwr:Usage/Cap |         Memory-Usage | GPU-Util  Compute M. |\n",
      "|                                         |                      |               MIG M. |\n",
      "|=========================================+======================+======================|\n",
      "|   0  NVIDIA GeForce RTX 4050 ...  WDDM  | 00000000:01:00.0 Off |                  N/A |\n",
      "| N/A   41C    P4              13W / 140W |      0MiB /  6141MiB |      0%      Default |\n",
      "|                                         |                      |                  N/A |\n",
      "+-----------------------------------------+----------------------+----------------------+\n",
      "                                                                                         \n",
      "+---------------------------------------------------------------------------------------+\n",
      "| Processes:                                                                            |\n",
      "|  GPU   GI   CI        PID   Type   Process name                            GPU Memory |\n",
      "|        ID   ID                                                             Usage      |\n",
      "|=======================================================================================|\n",
      "|  No running processes found                                                           |\n",
      "+---------------------------------------------------------------------------------------+\n"
     ]
    }
   ],
   "source": [
    "!nvidia-smi"
   ]
  },
  {
   "cell_type": "code",
   "execution_count": 2,
   "id": "14cad19c-8fbb-4c62-a834-c1a63eca154f",
   "metadata": {},
   "outputs": [
    {
     "data": {
      "text/plain": [
       "device(type='cuda', index=0)"
      ]
     },
     "execution_count": 2,
     "metadata": {},
     "output_type": "execute_result"
    }
   ],
   "source": [
    "import random\n",
    "import numpy as np\n",
    "import matplotlib.pyplot as plt\n",
    "\n",
    "import torch\n",
    "import torch.nn as nn\n",
    "import torch.optim as optim\n",
    "import torch.nn.functional as F\n",
    "import torchvision\n",
    "from torchvision import datasets, transforms\n",
    "from torchsummary import summary\n",
    "from tqdm import tqdm\n",
    "import albumentations as A\n",
    "from albumentations.pytorch import ToTensorV2\n",
    "\n",
    "device = torch.device('cuda:0' if torch.cuda.is_available() else 'cpu')\n",
    "device"
   ]
  },
  {
   "cell_type": "code",
   "execution_count": 3,
   "id": "20570172-193a-41f0-8548-4ff7ea28416b",
   "metadata": {},
   "outputs": [],
   "source": [
    "train_losses = []\n",
    "test_losses  = []\n",
    "train_acc    = []\n",
    "test_acc     = []\n",
    "\n",
    "test_incorrect_pred={\n",
    "    'images':[], 'ground_truths':[],'predicted_vals':[]\n",
    "}\n",
    "\n",
    "def GetCorrectPredCount(pPrediction, pLabels):\n",
    "  return pPrediction.argmax(dim=1).eq(pLabels).sum().item()\n",
    "\n",
    "def train(model, device, train_loader, optimizer):\n",
    "  model.train()\n",
    "  pbar = tqdm(train_loader)\n",
    "\n",
    "  train_loss = 0\n",
    "  correct = 0\n",
    "  processed = 0\n",
    "\n",
    "  for batch_idx, (data, target) in enumerate(pbar):\n",
    "    data, target = data.to(device), target.to(device)\n",
    "    optimizer.zero_grad()\n",
    "\n",
    "    # Predict\n",
    "    pred = model(data)\n",
    "\n",
    "    # Calculate loss\n",
    "    loss = F.nll_loss(pred, target)\n",
    "    train_loss+=loss.item()\n",
    "\n",
    "    # Backpropagation\n",
    "    loss.backward()\n",
    "    optimizer.step()\n",
    "    \n",
    "    correct += GetCorrectPredCount(pred, target)\n",
    "    processed += len(data)\n",
    "\n",
    "    pbar.set_description(desc= f'Train: Loss={loss.item():0.4f} Batch_id={batch_idx} Accuracy={100*correct/processed:0.2f}')\n",
    "\n",
    "  train_acc.append(100*correct/processed)\n",
    "  train_losses.append(train_loss/len(train_loader))\n",
    "\n",
    "def test(model, device, test_loader):\n",
    "    model.eval()\n",
    "\n",
    "    test_loss = 0\n",
    "    correct = 0\n",
    "\n",
    "    with torch.no_grad():\n",
    "        for batch_idx, (data, target) in enumerate(test_loader):\n",
    "            data, target = data.to(device), target.to(device)\n",
    "\n",
    "            output = model(data)\n",
    "            test_loss += F.nll_loss(output, target, reduction='sum').item()  # sum up batch loss\n",
    "\n",
    "            correct += GetCorrectPredCount(output, target)\n",
    "\n",
    "\n",
    "    test_loss /= len(test_loader.dataset)\n",
    "    test_acc.append(100. * correct / len(test_loader.dataset))\n",
    "    test_losses.append(test_loss)\n",
    "\n",
    "    print('Test set: Average loss: {:.4f}, Accuracy: {}/{} ({:.2f}%)\\n'.format(\n",
    "        test_loss, correct, len(test_loader.dataset),\n",
    "        100. * correct / len(test_loader.dataset)))\n",
    "    return test_loss\n",
    "\n",
    "def plot_curves():\n",
    "  fig, axs = plt.subplots(2,2,figsize=(15,10))\n",
    "  axs[0, 0].plot(train_losses)\n",
    "  axs[0, 0].set_title(\"Training Loss\")\n",
    "  axs[1, 0].plot(train_acc)\n",
    "  axs[1, 0].set_title(\"Training Accuracy\")\n",
    "  axs[0, 1].plot(test_losses)\n",
    "  axs[0, 1].set_title(\"Test Loss\")\n",
    "  axs[1, 1].plot(test_acc)\n",
    "  axs[1, 1].set_title(\"Test Accuracy\")\n",
    "  plt.show()"
   ]
  },
  {
   "cell_type": "code",
   "execution_count": 4,
   "id": "f88219bf-a5fd-4755-baed-dc6a01cf1931",
   "metadata": {},
   "outputs": [],
   "source": [
    "def get_misclassified_images(model,test_loader,device,n):\n",
    "    if n%5!=0:\n",
    "        return(\"give multiple of 5\")\n",
    "    model.eval()\n",
    "    \n",
    "    images               = []\n",
    "    predictions          = []\n",
    "    labels               = []\n",
    "    with torch.no_grad():\n",
    "        for inputs,targets in test_loader:\n",
    "            inputs  = inputs.to(device)\n",
    "            targets = targets.to(device)\n",
    "\n",
    "            outputs = model(inputs)\n",
    "\n",
    "            _,pred = torch.max(outputs,1)\n",
    "\n",
    "            for i in range(len(pred)):\n",
    "                if pred[i]!=targets[i]:\n",
    "                    images.append(inputs[i])\n",
    "                    predictions.append(pred[i])\n",
    "                    labels.append(targets[i])\n",
    "    # return images,predictions,labels\n",
    "    assert len(images) == len(predictions) == len(labels)\n",
    "\n",
    "    images=images[:n]\n",
    "    predictions=predictions[:n]\n",
    "    labels=labels[:n]\n",
    "    \n",
    "    classes = test_loader.dataset.classes\n",
    "    \n",
    "    fig = plt.figure(figsize=(20, 10))\n",
    "    for i in range(len(images)):\n",
    "        sub = fig.add_subplot(len(images) // 5, 5, i + 1)\n",
    "        image = images[i]\n",
    "        image = image.T\n",
    "        npimg = image.cpu().numpy().squeeze()\n",
    "        plt.imshow(npimg, cmap=\"gray\")\n",
    "        predicted = classes[predictions[i]]\n",
    "        correct = classes[labels[i]]\n",
    "        sub.set_title(\n",
    "            \"Correct class: {}\\nPredicted class: {}\".format(correct, predicted)\n",
    "        )\n",
    "    plt.tight_layout()"
   ]
  },
  {
   "cell_type": "code",
   "execution_count": 5,
   "id": "3d65a59f-72d2-4368-b225-f6e7ac3760ee",
   "metadata": {},
   "outputs": [],
   "source": [
    "def show_images(loader):\n",
    "    inputs,classes = next(iter(loader))\n",
    "    inputs=inputs[:10]\n",
    "    classes=inputs[:10]\n",
    "    out = torchvision.utils.make_grid(inputs)\n",
    "    plt.imshow(out,title=[i for i in classes])"
   ]
  },
  {
   "cell_type": "code",
   "execution_count": 6,
   "id": "3e3586ff-0acc-484e-9a99-a3eb7eaab359",
   "metadata": {},
   "outputs": [
    {
     "name": "stdout",
     "output_type": "stream",
     "text": [
      "Files already downloaded and verified\n",
      "Files already downloaded and verified\n"
     ]
    }
   ],
   "source": [
    "train_transforms =  transforms.Compose([\n",
    "        transforms.ColorJitter(brightness=0.10, contrast=0.1, saturation=0.10, hue=0.1),\n",
    "        transforms.RandomHorizontalFlip(p=0.3),\n",
    "        transforms.RandomRotation((-10., 10.), fill=1),\n",
    "        transforms.ToTensor(),\n",
    "        transforms.Normalize((0.4914, 0.4822, 0.4465),(0.2470, 0.2435, 0.2616)),\n",
    "        # transforms.autoaugment.AutoAugmentPolicy('cifar10')\n",
    "    ])\n",
    "\n",
    "test_transforms  = transforms.Compose([\n",
    "        transforms.ToTensor(),\n",
    "        transforms.Normalize(\n",
    "            (0.4914, 0.4822, 0.4465),\n",
    "            (0.2470, 0.2435, 0.2616),\n",
    "        )\n",
    "    ])\n",
    "\n",
    "train_data = datasets.CIFAR10('../data', train=True, download=True, transform=train_transforms)\n",
    "test_data = datasets.CIFAR10('../data', train=False, download=True, transform=test_transforms)\n",
    "\n",
    "\n",
    "if device.type=='cuda':\n",
    "    kwargs = {'batch_size': 128, 'shuffle': True, 'num_workers': 4,'pin_memory':True}\n",
    "else:\n",
    "    kwargs = {'batch_size':32,'shuffle':True}\n",
    "\n",
    "test_loader = torch.utils.data.DataLoader(test_data, **kwargs)\n",
    "train_loader = torch.utils.data.DataLoader(train_data, **kwargs)"
   ]
  },
  {
   "cell_type": "code",
   "execution_count": 7,
   "id": "fd0be4e8-c525-4c6d-8f13-2565bffa1d73",
   "metadata": {},
   "outputs": [],
   "source": [
    "class ConvLayer(nn.Module):\n",
    "    def __init__(self,inc:int,outc:int,k:int,p:int,norm:str,dp_rate:int,grp:int=0):\n",
    "        super(ConvLayer,self).__init__()\n",
    "\n",
    "        self.layer = nn.Sequential(\n",
    "            nn.Conv2d(in_channels=inc,out_channels=outc,kernel_size=3,padding=p,bias=False),\n",
    "            self.get_norm(norm=norm,grp=grp,num_f=outc),\n",
    "            nn.ReLU(inplace=True),\n",
    "            nn.Dropout2d(dp_rate)\n",
    "        )\n",
    "\n",
    "    def get_norm(self,norm:str,num_f:int,grp:int=0):\n",
    "        if norm=='bn':\n",
    "            return nn.BatchNorm2d(num_features=num_f)\n",
    "        elif norm=='ln':\n",
    "            return nn.GroupNorm(num_groups=1,num_channels=num_f)\n",
    "        elif norm=='gn':\n",
    "            return nn.GroupNorm(num_groups=grp,num_channels=num_f)\n",
    "        else:\n",
    "            raise ValueError(\"choose bn/ln/gn\")\n",
    "\n",
    "    def forward(self,x):\n",
    "        x = self.layer(x)\n",
    "        return x\n",
    "\n",
    "\n",
    "class TransBlock(nn.Module):\n",
    "    def __init__(self,inc:int,outc:int):\n",
    "        super(TransBlock,self).__init__()\n",
    "\n",
    "        self.layer = nn.Sequential(\n",
    "            nn.Conv2d(in_channels=inc,out_channels=outc,kernel_size=1,bias=False),\n",
    "            nn.MaxPool2d(kernel_size=2,stride=2)\n",
    "        )\n",
    "    def forward(self,x):\n",
    "        x = self.layer(x)\n",
    "        return x"
   ]
  },
  {
   "cell_type": "markdown",
   "id": "dc7e8cc4-a992-443d-89e3-4ea855fe3b8d",
   "metadata": {},
   "source": [
    "# Normal Architecture"
   ]
  },
  {
   "cell_type": "code",
   "execution_count": null,
   "id": "88dae6d2-24fd-44b0-a6c6-1a5d7e43e43a",
   "metadata": {},
   "outputs": [],
   "source": [
    "\n",
    "class Model(nn.Module):\n",
    "    def __init__(self,norm_method:str,grp:int):\n",
    "        super(Model,self).__init__()\n",
    "        self.dropout_rate = 0.2\n",
    "        if not norm_method in('bn','ln','gn'):\n",
    "            raise ValueError('choose bn/ln/gn')\n",
    "        else:\n",
    "            self.norm = norm_method\n",
    "            if self.norm =='gn':\n",
    "                self.grp=grp\n",
    "            else:\n",
    "                self.grp=0\n",
    "\n",
    "        self.conv1 = nn.Sequential(\n",
    "            ConvLayer(inc=3,outc=16,k=3,p=1,norm=self.norm,dp_rate=self.dropout_rate,grp=self.grp),\n",
    "            ConvLayer(inc=16,outc=32,p=1,k=3,norm=self.norm,dp_rate=self.dropout_rate,grp=self.grp)\n",
    "        )\n",
    "        self.trans1 = TransBlock(inc=32,outc=16)\n",
    "        \n",
    "        self.conv2 = nn.Sequential(\n",
    "            ConvLayer(inc=16,outc=16,p=1,k=3,norm=self.norm,dp_rate=self.dropout_rate,grp=self.grp),\n",
    "            ConvLayer(inc=16,outc=16,p=1,k=3,norm=self.norm,dp_rate=self.dropout_rate,grp=self.grp),\n",
    "            ConvLayer(inc=16,outc=32,p=1,k=3,norm=self.norm,dp_rate=self.dropout_rate,grp=self.grp)\n",
    "        )\n",
    "        self.trans2 = TransBlock(inc=32,outc=16)\n",
    "        \n",
    "        self.conv3 = nn.Sequential(\n",
    "            ConvLayer(inc=16,outc=16,p=1,k=3,norm=self.norm,dp_rate=self.dropout_rate,grp=self.grp),\n",
    "            ConvLayer(inc=16,outc=32,p=1,k=3,norm=self.norm,dp_rate=self.dropout_rate,grp=self.grp),\n",
    "            ConvLayer(inc=32,outc=64,p=1,k=3,norm=self.norm,dp_rate=self.dropout_rate,grp=self.grp)            \n",
    "        )\n",
    "        self.trans3 = TransBlock(inc=64,outc=16)\n",
    "\n",
    "        self.gap = nn.AdaptiveAvgPool2d(1)\n",
    "\n",
    "        self.out = nn.Conv2d(16,10,1,bias=False)\n",
    "    \n",
    "    def forward(self,x):\n",
    "        x = self.trans1(self.conv1(x))\n",
    "        x = self.trans2(self.conv2(x))\n",
    "        x = self.trans3(self.conv3(x))\n",
    "        x = self.gap(x)\n",
    "        x = self.out(x)\n",
    "        logit = F.log_softmax(x.view(-1,10), dim=1)\n",
    "        return logit"
   ]
  },
  {
   "cell_type": "code",
   "execution_count": null,
   "id": "02d9331d-676d-4866-a2ef-ac9e94c61182",
   "metadata": {},
   "outputs": [],
   "source": [
    "model = Model(norm_method='bn',grp=0,).to(device)\n",
    "summary(model,(3,32,32))"
   ]
  },
  {
   "cell_type": "code",
   "execution_count": null,
   "id": "53a6e874-5a2c-4db5-8138-766feaa75700",
   "metadata": {
    "scrolled": true
   },
   "outputs": [],
   "source": [
    "optimizer = optim.SGD(model.parameters(), lr=0.2, momentum=0.9)\n",
    "scheduler = optim.lr_scheduler.ReduceLROnPlateau(optimizer, mode='min', factor=0.1, patience=5)\n",
    "# New Line\n",
    "criterion =  F.nll_loss\n",
    "num_epochs =20\n",
    "\n",
    "for epoch in range(1, num_epochs+1):\n",
    "  print(f'Epoch {epoch}')\n",
    "  train(model, device, train_loader, optimizer)\n",
    "  tl = test(model, device, test_loader)\n",
    "  scheduler.step(tl)\n",
    "\n",
    "fig, axs = plt.subplots(2,2,figsize=(15,10))\n",
    "\n",
    "axs[0, 0].plot(train_losses)\n",
    "axs[0, 0].set_title(\"Training Loss\")\n",
    "\n",
    "axs[1, 0].plot(train_acc)\n",
    "axs[1, 0].set_title(\"Training Accuracy\")\n",
    "\n",
    "axs[0, 1].plot(test_losses)\n",
    "axs[0, 1].set_title(\"Test Loss\")\n",
    "\n",
    "axs[1, 1].plot(test_acc)\n",
    "axs[1, 1].set_title(\"Test Accuracy\")\n",
    "plt.show()"
   ]
  },
  {
   "cell_type": "code",
   "execution_count": null,
   "id": "db4ce740-0a72-4598-917e-346c8fe0ce2f",
   "metadata": {},
   "outputs": [],
   "source": []
  },
  {
   "cell_type": "code",
   "execution_count": null,
   "id": "592da3ce-ed7d-4351-9087-f57b8945c7ce",
   "metadata": {},
   "outputs": [],
   "source": []
  },
  {
   "cell_type": "code",
   "execution_count": null,
   "id": "37a76b3f-c32c-4012-a918-870ceb29b184",
   "metadata": {},
   "outputs": [],
   "source": []
  },
  {
   "cell_type": "markdown",
   "id": "68736f54-22e0-48d4-b498-fe75e7c577dd",
   "metadata": {},
   "source": [
    "# With One Skip Architecture"
   ]
  },
  {
   "cell_type": "code",
   "execution_count": null,
   "id": "339a1b68-1217-4f24-a3b0-fbbac1b599e0",
   "metadata": {},
   "outputs": [],
   "source": [
    "class NewModel1(nn.Module):\n",
    "        def __init__(self,norm_method:str, grp:int=0,dp_rate=0.2):\n",
    "            super(NewModel1,self).__init__()\n",
    "            if not norm_method in('bn','ln','gn'):\n",
    "                raise ValueError('choose bn/ln/gn')\n",
    "            else:\n",
    "                self.norm = norm_method\n",
    "                if self.norm =='gn':\n",
    "                    self.grp=grp\n",
    "                else:\n",
    "                    self.grp=0\n",
    "\n",
    "            self.dp_rate=dp_rate\n",
    "\n",
    "            self.C1 = ConvLayer(inc=3,outc=8,k=3,p=1,norm=self.norm,dp_rate=self.dp_rate)\n",
    "            self.C2 = ConvLayer(inc=8,outc=8,k=3,p=1,norm=self.norm,dp_rate=self.dp_rate)\n",
    "            self.t1 = TransBlock(inc=8,outc=8)\n",
    "            \n",
    "            self.C4 = ConvLayer(inc=8,outc=12,k=3,p=1,norm=self.norm,dp_rate=self.dp_rate)\n",
    "            self.C5 = ConvLayer(inc=12,outc=12,k=3,p=1,norm=self.norm,dp_rate=self.dp_rate)\n",
    "            self.t2 = TransBlock(inc=12,outc=20)\n",
    "\n",
    "            self.C7 = ConvLayer(inc=20,outc=32,p=3,k=3,norm=self.norm,dp_rate=self.dp_rate)\n",
    "            self.C8 = ConvLayer(inc=32,outc=32,p=3,k=3,norm=self.norm,dp_rate=self.dp_rate)\n",
    "            self.C9 = ConvLayer(inc=32,outc=32,p=3,k=3,norm=self.norm,dp_rate=self.dp_rate)\n",
    "\n",
    "            self.gap = nn.AdaptiveAvgPool2d(output_size=1)\n",
    "            self.out = nn.Conv2d(in_channels=32,out_channels=10,kernel_size=1,stride=1,bias=False)\n",
    "    \n",
    "        def forward(self,x):\n",
    "            x = self.C1(x)\n",
    "            x = x + self.C2(x)\n",
    "            x = self.t1(x)\n",
    "            x = self.t2( self.C5(  self.C4(x) ) )\n",
    "            x = self.C9( self.C8(  self.C7(x) ) )\n",
    "            x = self.gap(x)\n",
    "            x = self.out(x)\n",
    "            return F.log_softmax(x.view(-1,10), dim=1)"
   ]
  },
  {
   "cell_type": "code",
   "execution_count": null,
   "id": "f7ec149b-ed7a-4cb9-adb2-ff9c4568a263",
   "metadata": {
    "scrolled": true
   },
   "outputs": [],
   "source": [
    "rmodel = NewModel1(norm_method='bn',grp=0).to(device)\n",
    "summary(rmodel,(3,32,32))"
   ]
  },
  {
   "cell_type": "code",
   "execution_count": null,
   "id": "88a24946-f707-4745-a800-bf6b258bdc02",
   "metadata": {
    "scrolled": true
   },
   "outputs": [],
   "source": [
    "train_losses = []\n",
    "test_losses  = []\n",
    "train_acc    = []\n",
    "test_acc     = []\n",
    "\n",
    "test_incorrect_pred={\n",
    "    'images':[], 'ground_truths':[],'predicted_vals':[]\n",
    "}\n",
    "\n",
    "optimizer = optim.SGD(rmodel.parameters(), lr=0.2, momentum=0.9)\n",
    "scheduler = optim.lr_scheduler.ReduceLROnPlateau(optimizer, mode='min', factor=0.1, patience=5)\n",
    "# New Line\n",
    "criterion =  F.nll_loss\n",
    "num_epochs =20\n",
    "\n",
    "for epoch in range(1, num_epochs+1):\n",
    "  print(f'Epoch {epoch}')\n",
    "  train(rmodel, device, train_loader, optimizer)\n",
    "  tl = test(rmodel, device, test_loader)\n",
    "  scheduler.step(tl)\n",
    "\n",
    "\n",
    "fig, axs = plt.subplots(2,2,figsize=(15,10))\n",
    "\n",
    "axs[0, 0].plot(train_losses)\n",
    "axs[0, 0].set_title(\"Training Loss\")\n",
    "\n",
    "axs[1, 0].plot(train_acc)\n",
    "axs[1, 0].set_title(\"Training Accuracy\")\n",
    "\n",
    "axs[0, 1].plot(test_losses)\n",
    "axs[0, 1].set_title(\"Test Loss\")\n",
    "\n",
    "axs[1, 1].plot(test_acc)\n",
    "axs[1, 1].set_title(\"Test Accuracy\")\n",
    "plt.show()"
   ]
  },
  {
   "cell_type": "markdown",
   "id": "802cbe49-5e10-43d0-ad89-559e54fc8e32",
   "metadata": {},
   "source": [
    "## Ablation result:\n",
    "- reduced model size by half still delivers 82% accuracy\n",
    "- skip connection works!!"
   ]
  },
  {
   "cell_type": "code",
   "execution_count": null,
   "id": "38498596-d709-4680-adeb-87787b91f84a",
   "metadata": {},
   "outputs": [],
   "source": []
  },
  {
   "cell_type": "markdown",
   "id": "8ad02d57-f6df-4ead-99c9-e4e174a16ec3",
   "metadata": {},
   "source": [
    "# More Skip Architecture"
   ]
  },
  {
   "cell_type": "code",
   "execution_count": null,
   "id": "e5959a25-8119-47ce-931c-dab73bf5b5ce",
   "metadata": {},
   "outputs": [],
   "source": [
    "class NewModel3(nn.Module):\n",
    "        def __init__(self,norm_method:str, grp:int=0,dp_rate=0.2):\n",
    "            super(NewModel3,self).__init__()\n",
    "            if not norm_method in('bn','ln','gn'):\n",
    "                raise ValueError('choose bn/ln/gn')\n",
    "            else:\n",
    "                self.norm = norm_method\n",
    "                if self.norm =='gn':\n",
    "                    self.grp=grp\n",
    "                else:\n",
    "                    self.grp=0\n",
    "\n",
    "            self.dp_rate=dp_rate\n",
    "\n",
    "            self.C1 = ConvLayer(inc=3,outc=8,k=3,p=1,norm=self.norm,dp_rate=self.dp_rate)\n",
    "            self.C2 = ConvLayer(inc=8,outc=8,k=3,p=1,norm=self.norm,dp_rate=self.dp_rate)\n",
    "            self.t1 = TransBlock(inc=8,outc=8)\n",
    "            \n",
    "            self.C4 = ConvLayer(inc=8,outc=12,k=3,p=1,norm=self.norm,dp_rate=self.dp_rate)\n",
    "            self.C5 = ConvLayer(inc=12,outc=12,k=3,p=1,norm=self.norm,dp_rate=self.dp_rate)\n",
    "            self.t2 = TransBlock(inc=12,outc=20)\n",
    "\n",
    "            self.C7 = ConvLayer(inc=20,outc=32,p=1,k=3,norm=self.norm,dp_rate=self.dp_rate)\n",
    "            self.C8 = ConvLayer(inc=32,outc=32,p=1,k=3,norm=self.norm,dp_rate=self.dp_rate)\n",
    "            self.C9 = ConvLayer(inc=32,outc=32,p=1,k=3,norm=self.norm,dp_rate=self.dp_rate)\n",
    "\n",
    "            self.gap = nn.AdaptiveAvgPool2d(output_size=1)\n",
    "            self.out = nn.Conv2d(in_channels=32,out_channels=10,kernel_size=1,stride=1,bias=False)\n",
    "    \n",
    "        def forward(self,x):\n",
    "            x = self.C1(x)\n",
    "            x = x + self.C2(x)\n",
    "            x = self.t1(x)\n",
    "\n",
    "            x = self.C4(x)\n",
    "            x = x + self.C5(x)\n",
    "            x = self.t2(x)\n",
    "\n",
    "            x = self.C7(x)\n",
    "            x = x + self.C8(x)\n",
    "            x = x + self.C9(x)\n",
    "            x = self.gap(x)\n",
    "            x = self.out(x)\n",
    "            return F.log_softmax(x.view(-1,10), dim=1)"
   ]
  },
  {
   "cell_type": "code",
   "execution_count": null,
   "id": "3e038a0e-830b-4046-b616-cc6a532d16f8",
   "metadata": {},
   "outputs": [],
   "source": [
    "res_model = NewModel3(norm_method='bn',grp=0,dp_rate=0.1).cuda()\n",
    "summary(res_model,(3,32,32))"
   ]
  },
  {
   "cell_type": "code",
   "execution_count": null,
   "id": "3b017e12-163a-4432-b80a-bdd477e074dc",
   "metadata": {
    "scrolled": true
   },
   "outputs": [],
   "source": [
    "train_losses = []\n",
    "test_losses  = []\n",
    "train_acc    = []\n",
    "test_acc     = []\n",
    "\n",
    "test_incorrect_pred={\n",
    "    'images':[], 'ground_truths':[],'predicted_vals':[]\n",
    "}\n",
    "\n",
    "optimizer = optim.SGD(res_model.parameters(), lr=0.2, momentum=0.9)\n",
    "scheduler = optim.lr_scheduler.ReduceLROnPlateau(optimizer, mode='min', factor=0.1, patience=5)\n",
    "# New Line\n",
    "criterion =  F.nll_loss\n",
    "num_epochs =20\n",
    "\n",
    "for epoch in range(1, num_epochs+1):\n",
    "  print(f'Epoch {epoch}')\n",
    "  train(res_model, device, train_loader, optimizer)\n",
    "  tl = test(res_model, device, test_loader)\n",
    "  scheduler.step(tl)\n",
    "\n",
    "\n",
    "\n",
    "fig, axs = plt.subplots(2,2,figsize=(15,10))\n",
    "\n",
    "axs[0, 0].plot(train_losses)\n",
    "axs[0, 0].set_title(\"Training Loss\")\n",
    "\n",
    "axs[1, 0].plot(train_acc)\n",
    "axs[1, 0].set_title(\"Training Accuracy\")\n",
    "\n",
    "axs[0, 1].plot(test_losses)\n",
    "axs[0, 1].set_title(\"Test Loss\")\n",
    "\n",
    "axs[1, 1].plot(test_acc)\n",
    "axs[1, 1].set_title(\"Test Accuracy\")\n",
    "plt.show()"
   ]
  },
  {
   "cell_type": "code",
   "execution_count": null,
   "id": "afaae56d-181c-445d-8dff-ed175d1ae2be",
   "metadata": {},
   "outputs": [],
   "source": []
  },
  {
   "cell_type": "code",
   "execution_count": null,
   "id": "dc2b08d7-50e8-4727-bd2d-7fb08c416c8b",
   "metadata": {},
   "outputs": [],
   "source": []
  },
  {
   "cell_type": "code",
   "execution_count": null,
   "id": "b5d691c3-484a-4afd-834a-b551a93c0d83",
   "metadata": {},
   "outputs": [],
   "source": []
  },
  {
   "cell_type": "code",
   "execution_count": null,
   "id": "d83c2007-68ca-471b-a8f0-218c4ad75517",
   "metadata": {},
   "outputs": [],
   "source": []
  },
  {
   "cell_type": "code",
   "execution_count": null,
   "id": "8ed97299-269d-48c1-bf45-2865aea0bd9b",
   "metadata": {},
   "outputs": [],
   "source": []
  },
  {
   "cell_type": "code",
   "execution_count": null,
   "id": "9f6255c5-3427-4700-863c-67b8e32f6dec",
   "metadata": {},
   "outputs": [],
   "source": []
  },
  {
   "cell_type": "code",
   "execution_count": 8,
   "id": "44ddf91b-625b-4e03-ac3f-379e8366a230",
   "metadata": {},
   "outputs": [],
   "source": [
    "class Net(nn.Module):\n",
    "        def __init__(self,norm_method:str,channels:list=[3,8,12,20,32,10],grp:int=0,dp_rate=0.1):\n",
    "            super(Net,self).__init__()\n",
    "            if not norm_method in('bn','ln','gn'):\n",
    "                raise ValueError('choose bn/ln/gn')\n",
    "            else:\n",
    "                self.norm = norm_method\n",
    "                if self.norm =='gn':\n",
    "                    self.grp=grp\n",
    "                else:\n",
    "                    self.grp=0\n",
    "\n",
    "            self.dp_rate=dp_rate\n",
    "            \n",
    "            self.C1 = ConvLayer(inc=3,outc=channels[1],k=3,p=1,norm=self.norm,dp_rate=self.dp_rate)\n",
    "            self.C2 = ConvLayer(inc=channels[1],outc=channels[1],k=3,p=1,norm=self.norm,dp_rate=self.dp_rate)\n",
    "            self.t1 = TransBlock(inc=channels[1],outc=channels[1])\n",
    "            \n",
    "            self.C4 = ConvLayer(inc=channels[1],outc=channels[2],k=3,p=1,norm=self.norm,dp_rate=self.dp_rate)\n",
    "            self.C5 = ConvLayer(inc=channels[2],outc=channels[2],k=3,p=1,norm=self.norm,dp_rate=self.dp_rate)\n",
    "            self.t2 = TransBlock(inc=channels[2],outc=channels[3])\n",
    "\n",
    "            self.C7 = ConvLayer(inc=channels[3],outc=channels[4],p=1,k=3,norm=self.norm,dp_rate=self.dp_rate)\n",
    "            self.C8 = ConvLayer(inc=channels[4],outc=channels[4],p=1,k=3,norm=self.norm,dp_rate=self.dp_rate)\n",
    "            self.C9 = ConvLayer(inc=channels[4],outc=channels[4],p=1,k=3,norm=self.norm,dp_rate=self.dp_rate)\n",
    "\n",
    "            self.gap = nn.AdaptiveAvgPool2d(output_size=1)\n",
    "            self.out = nn.Conv2d(in_channels=channels[4],out_channels=channels[-1],kernel_size=1,stride=1,bias=False)\n",
    "    \n",
    "        def forward(self,x):\n",
    "            x = self.C1(x)\n",
    "            x = x + self.C2(x)\n",
    "            x = self.t1(x)\n",
    "\n",
    "            x = self.C4(x)\n",
    "            x = x + self.C5(x)\n",
    "            x = self.t2(x)\n",
    "\n",
    "            x = self.C7(x)\n",
    "            x = x + self.C8(x)\n",
    "            x = x + self.C9(x)\n",
    "            x = self.gap(x)\n",
    "            x = self.out(x)\n",
    "            return F.log_softmax(x.view(-1,10), dim=1)"
   ]
  },
  {
   "cell_type": "code",
   "execution_count": 9,
   "id": "df32530c-0d2d-4f71-8b46-ca7065b4bc7d",
   "metadata": {},
   "outputs": [
    {
     "name": "stdout",
     "output_type": "stream",
     "text": [
      "----------------------------------------------------------------\n",
      "        Layer (type)               Output Shape         Param #\n",
      "================================================================\n",
      "            Conv2d-1           [-1, 16, 32, 32]             432\n",
      "       BatchNorm2d-2           [-1, 16, 32, 32]              32\n",
      "              ReLU-3           [-1, 16, 32, 32]               0\n",
      "         Dropout2d-4           [-1, 16, 32, 32]               0\n",
      "         ConvLayer-5           [-1, 16, 32, 32]               0\n",
      "            Conv2d-6           [-1, 16, 32, 32]           2,304\n",
      "       BatchNorm2d-7           [-1, 16, 32, 32]              32\n",
      "              ReLU-8           [-1, 16, 32, 32]               0\n",
      "         Dropout2d-9           [-1, 16, 32, 32]               0\n",
      "        ConvLayer-10           [-1, 16, 32, 32]               0\n",
      "           Conv2d-11           [-1, 16, 32, 32]             256\n",
      "        MaxPool2d-12           [-1, 16, 16, 16]               0\n",
      "       TransBlock-13           [-1, 16, 16, 16]               0\n",
      "           Conv2d-14           [-1, 20, 16, 16]           2,880\n",
      "      BatchNorm2d-15           [-1, 20, 16, 16]              40\n",
      "             ReLU-16           [-1, 20, 16, 16]               0\n",
      "        Dropout2d-17           [-1, 20, 16, 16]               0\n",
      "        ConvLayer-18           [-1, 20, 16, 16]               0\n",
      "           Conv2d-19           [-1, 20, 16, 16]           3,600\n",
      "      BatchNorm2d-20           [-1, 20, 16, 16]              40\n",
      "             ReLU-21           [-1, 20, 16, 16]               0\n",
      "        Dropout2d-22           [-1, 20, 16, 16]               0\n",
      "        ConvLayer-23           [-1, 20, 16, 16]               0\n",
      "           Conv2d-24           [-1, 28, 16, 16]             560\n",
      "        MaxPool2d-25             [-1, 28, 8, 8]               0\n",
      "       TransBlock-26             [-1, 28, 8, 8]               0\n",
      "           Conv2d-27             [-1, 40, 8, 8]          10,080\n",
      "      BatchNorm2d-28             [-1, 40, 8, 8]              80\n",
      "             ReLU-29             [-1, 40, 8, 8]               0\n",
      "        Dropout2d-30             [-1, 40, 8, 8]               0\n",
      "        ConvLayer-31             [-1, 40, 8, 8]               0\n",
      "           Conv2d-32             [-1, 40, 8, 8]          14,400\n",
      "      BatchNorm2d-33             [-1, 40, 8, 8]              80\n",
      "             ReLU-34             [-1, 40, 8, 8]               0\n",
      "        Dropout2d-35             [-1, 40, 8, 8]               0\n",
      "        ConvLayer-36             [-1, 40, 8, 8]               0\n",
      "           Conv2d-37             [-1, 40, 8, 8]          14,400\n",
      "      BatchNorm2d-38             [-1, 40, 8, 8]              80\n",
      "             ReLU-39             [-1, 40, 8, 8]               0\n",
      "        Dropout2d-40             [-1, 40, 8, 8]               0\n",
      "        ConvLayer-41             [-1, 40, 8, 8]               0\n",
      "AdaptiveAvgPool2d-42             [-1, 40, 1, 1]               0\n",
      "           Conv2d-43             [-1, 10, 1, 1]             400\n",
      "================================================================\n",
      "Total params: 49,696\n",
      "Trainable params: 49,696\n",
      "Non-trainable params: 0\n",
      "----------------------------------------------------------------\n",
      "Input size (MB): 0.01\n",
      "Forward/backward pass size (MB): 2.20\n",
      "Params size (MB): 0.19\n",
      "Estimated Total Size (MB): 2.40\n",
      "----------------------------------------------------------------\n"
     ]
    }
   ],
   "source": [
    "r_model = Net(norm_method='bn',channels=[3,16,20,28,40,10],grp=0,dp_rate=0.1).cuda()\n",
    "summary(r_model,(3,32,32))"
   ]
  },
  {
   "cell_type": "code",
   "execution_count": 10,
   "id": "af88580b-50a6-414a-b6a4-f44f2ff4bbc6",
   "metadata": {},
   "outputs": [
    {
     "name": "stdout",
     "output_type": "stream",
     "text": [
      "Epoch 1\n"
     ]
    },
    {
     "name": "stderr",
     "output_type": "stream",
     "text": [
      "Train: Loss=1.4327 Batch_id=390 Accuracy=30.92: 100%|██████████████████████████████████████████████████████████████████████████████████| 391/391 [00:22<00:00, 17.42it/s]\n"
     ]
    },
    {
     "name": "stdout",
     "output_type": "stream",
     "text": [
      "Test set: Average loss: 1.4782, Accuracy: 4420/10000 (44.20%)\n",
      "\n",
      "Epoch 2\n"
     ]
    },
    {
     "name": "stderr",
     "output_type": "stream",
     "text": [
      "Train: Loss=1.2930 Batch_id=390 Accuracy=44.70: 100%|██████████████████████████████████████████████████████████████████████████████████| 391/391 [00:21<00:00, 17.99it/s]\n"
     ]
    },
    {
     "name": "stdout",
     "output_type": "stream",
     "text": [
      "Test set: Average loss: 1.3648, Accuracy: 4855/10000 (48.55%)\n",
      "\n",
      "Epoch 3\n"
     ]
    },
    {
     "name": "stderr",
     "output_type": "stream",
     "text": [
      "Train: Loss=1.3327 Batch_id=390 Accuracy=50.59: 100%|██████████████████████████████████████████████████████████████████████████████████| 391/391 [00:21<00:00, 17.90it/s]\n"
     ]
    },
    {
     "name": "stdout",
     "output_type": "stream",
     "text": [
      "Test set: Average loss: 1.2267, Accuracy: 5526/10000 (55.26%)\n",
      "\n",
      "Epoch 4\n"
     ]
    },
    {
     "name": "stderr",
     "output_type": "stream",
     "text": [
      "Train: Loss=1.4358 Batch_id=390 Accuracy=54.43: 100%|██████████████████████████████████████████████████████████████████████████████████| 391/391 [00:22<00:00, 17.07it/s]\n"
     ]
    },
    {
     "name": "stdout",
     "output_type": "stream",
     "text": [
      "Test set: Average loss: 1.1464, Accuracy: 5929/10000 (59.29%)\n",
      "\n",
      "Epoch 5\n"
     ]
    },
    {
     "name": "stderr",
     "output_type": "stream",
     "text": [
      "Train: Loss=1.0343 Batch_id=390 Accuracy=56.48: 100%|██████████████████████████████████████████████████████████████████████████████████| 391/391 [00:23<00:00, 16.54it/s]\n"
     ]
    },
    {
     "name": "stdout",
     "output_type": "stream",
     "text": [
      "Test set: Average loss: 1.0173, Accuracy: 6407/10000 (64.07%)\n",
      "\n",
      "Epoch 6\n"
     ]
    },
    {
     "name": "stderr",
     "output_type": "stream",
     "text": [
      "Train: Loss=1.1761 Batch_id=390 Accuracy=58.88: 100%|██████████████████████████████████████████████████████████████████████████████████| 391/391 [00:22<00:00, 17.32it/s]\n"
     ]
    },
    {
     "name": "stdout",
     "output_type": "stream",
     "text": [
      "Test set: Average loss: 1.0019, Accuracy: 6374/10000 (63.74%)\n",
      "\n",
      "Epoch 7\n"
     ]
    },
    {
     "name": "stderr",
     "output_type": "stream",
     "text": [
      "Train: Loss=1.1054 Batch_id=390 Accuracy=60.04: 100%|██████████████████████████████████████████████████████████████████████████████████| 391/391 [00:22<00:00, 17.10it/s]\n"
     ]
    },
    {
     "name": "stdout",
     "output_type": "stream",
     "text": [
      "Test set: Average loss: 0.9782, Accuracy: 6550/10000 (65.50%)\n",
      "\n",
      "Epoch 8\n"
     ]
    },
    {
     "name": "stderr",
     "output_type": "stream",
     "text": [
      "Train: Loss=1.0914 Batch_id=390 Accuracy=61.52: 100%|██████████████████████████████████████████████████████████████████████████████████| 391/391 [00:22<00:00, 17.70it/s]\n"
     ]
    },
    {
     "name": "stdout",
     "output_type": "stream",
     "text": [
      "Test set: Average loss: 0.9773, Accuracy: 6408/10000 (64.08%)\n",
      "\n",
      "Epoch 9\n"
     ]
    },
    {
     "name": "stderr",
     "output_type": "stream",
     "text": [
      "Train: Loss=0.9793 Batch_id=390 Accuracy=62.09: 100%|██████████████████████████████████████████████████████████████████████████████████| 391/391 [00:22<00:00, 17.43it/s]\n"
     ]
    },
    {
     "name": "stdout",
     "output_type": "stream",
     "text": [
      "Test set: Average loss: 0.8660, Accuracy: 6857/10000 (68.57%)\n",
      "\n",
      "Epoch 10\n"
     ]
    },
    {
     "name": "stderr",
     "output_type": "stream",
     "text": [
      "Train: Loss=1.0395 Batch_id=390 Accuracy=63.20: 100%|██████████████████████████████████████████████████████████████████████████████████| 391/391 [00:22<00:00, 17.68it/s]\n"
     ]
    },
    {
     "name": "stdout",
     "output_type": "stream",
     "text": [
      "Test set: Average loss: 0.8994, Accuracy: 6831/10000 (68.31%)\n",
      "\n",
      "Epoch 11\n"
     ]
    },
    {
     "name": "stderr",
     "output_type": "stream",
     "text": [
      "Train: Loss=0.9439 Batch_id=390 Accuracy=64.21: 100%|██████████████████████████████████████████████████████████████████████████████████| 391/391 [00:22<00:00, 17.69it/s]\n"
     ]
    },
    {
     "name": "stdout",
     "output_type": "stream",
     "text": [
      "Test set: Average loss: 0.8608, Accuracy: 6876/10000 (68.76%)\n",
      "\n",
      "Epoch 12\n"
     ]
    },
    {
     "name": "stderr",
     "output_type": "stream",
     "text": [
      "Train: Loss=0.9224 Batch_id=390 Accuracy=64.56: 100%|██████████████████████████████████████████████████████████████████████████████████| 391/391 [00:21<00:00, 17.87it/s]\n"
     ]
    },
    {
     "name": "stdout",
     "output_type": "stream",
     "text": [
      "Test set: Average loss: 0.8415, Accuracy: 7000/10000 (70.00%)\n",
      "\n",
      "Epoch 13\n"
     ]
    },
    {
     "name": "stderr",
     "output_type": "stream",
     "text": [
      "Train: Loss=0.8492 Batch_id=390 Accuracy=65.54: 100%|██████████████████████████████████████████████████████████████████████████████████| 391/391 [00:22<00:00, 17.58it/s]\n"
     ]
    },
    {
     "name": "stdout",
     "output_type": "stream",
     "text": [
      "Test set: Average loss: 0.8514, Accuracy: 7048/10000 (70.48%)\n",
      "\n",
      "Epoch 14\n"
     ]
    },
    {
     "name": "stderr",
     "output_type": "stream",
     "text": [
      "Train: Loss=1.0125 Batch_id=390 Accuracy=65.74: 100%|██████████████████████████████████████████████████████████████████████████████████| 391/391 [00:22<00:00, 17.57it/s]\n"
     ]
    },
    {
     "name": "stdout",
     "output_type": "stream",
     "text": [
      "Test set: Average loss: 0.8139, Accuracy: 7162/10000 (71.62%)\n",
      "\n",
      "Epoch 15\n"
     ]
    },
    {
     "name": "stderr",
     "output_type": "stream",
     "text": [
      "Train: Loss=0.9003 Batch_id=390 Accuracy=66.71: 100%|██████████████████████████████████████████████████████████████████████████████████| 391/391 [00:22<00:00, 17.66it/s]\n"
     ]
    },
    {
     "name": "stdout",
     "output_type": "stream",
     "text": [
      "Test set: Average loss: 0.7617, Accuracy: 7325/10000 (73.25%)\n",
      "\n",
      "Epoch 16\n"
     ]
    },
    {
     "name": "stderr",
     "output_type": "stream",
     "text": [
      "Train: Loss=0.8495 Batch_id=390 Accuracy=66.88: 100%|██████████████████████████████████████████████████████████████████████████████████| 391/391 [00:22<00:00, 17.63it/s]\n"
     ]
    },
    {
     "name": "stdout",
     "output_type": "stream",
     "text": [
      "Test set: Average loss: 0.7762, Accuracy: 7298/10000 (72.98%)\n",
      "\n",
      "Epoch 17\n"
     ]
    },
    {
     "name": "stderr",
     "output_type": "stream",
     "text": [
      "Train: Loss=0.8305 Batch_id=390 Accuracy=67.58: 100%|██████████████████████████████████████████████████████████████████████████████████| 391/391 [00:22<00:00, 17.42it/s]\n"
     ]
    },
    {
     "name": "stdout",
     "output_type": "stream",
     "text": [
      "Test set: Average loss: 0.7373, Accuracy: 7397/10000 (73.97%)\n",
      "\n",
      "Epoch 18\n"
     ]
    },
    {
     "name": "stderr",
     "output_type": "stream",
     "text": [
      "Train: Loss=0.9531 Batch_id=390 Accuracy=67.94: 100%|██████████████████████████████████████████████████████████████████████████████████| 391/391 [00:22<00:00, 17.73it/s]\n"
     ]
    },
    {
     "name": "stdout",
     "output_type": "stream",
     "text": [
      "Test set: Average loss: 0.7670, Accuracy: 7253/10000 (72.53%)\n",
      "\n",
      "Epoch 19\n"
     ]
    },
    {
     "name": "stderr",
     "output_type": "stream",
     "text": [
      "Train: Loss=0.8986 Batch_id=390 Accuracy=68.39: 100%|██████████████████████████████████████████████████████████████████████████████████| 391/391 [00:23<00:00, 16.95it/s]\n"
     ]
    },
    {
     "name": "stdout",
     "output_type": "stream",
     "text": [
      "Test set: Average loss: 0.7344, Accuracy: 7386/10000 (73.86%)\n",
      "\n",
      "Epoch 20\n"
     ]
    },
    {
     "name": "stderr",
     "output_type": "stream",
     "text": [
      "Train: Loss=0.9974 Batch_id=390 Accuracy=68.68: 100%|██████████████████████████████████████████████████████████████████████████████████| 391/391 [00:21<00:00, 17.80it/s]\n"
     ]
    },
    {
     "name": "stdout",
     "output_type": "stream",
     "text": [
      "Test set: Average loss: 0.7452, Accuracy: 7425/10000 (74.25%)\n",
      "\n"
     ]
    },
    {
     "data": {
      "image/png": "[encoded data removed]",
      "text/plain": [
       "<Figure size 1500x1000 with 4 Axes>"
      ]
     },
     "metadata": {},
     "output_type": "display_data"
    }
   ],
   "source": [
    "train_losses = []\n",
    "test_losses  = []\n",
    "train_acc    = []\n",
    "test_acc     = []\n",
    "\n",
    "test_incorrect_pred={\n",
    "    'images':[], 'ground_truths':[],'predicted_vals':[]\n",
    "}\n",
    "\n",
    "optimizer = optim.SGD(r_model.parameters(), lr=0.2, momentum=0.9)\n",
    "scheduler = optim.lr_scheduler.ReduceLROnPlateau(optimizer, mode='min', factor=0.1, patience=5)\n",
    "# New Line\n",
    "criterion =  F.nll_loss\n",
    "num_epochs =20\n",
    "\n",
    "for epoch in range(1, num_epochs+1):\n",
    "  print(f'Epoch {epoch}')\n",
    "  train(r_model, device, train_loader, optimizer)\n",
    "  tl = test(r_model, device, test_loader)\n",
    "  scheduler.step(tl)\n",
    "\n",
    "\n",
    "\n",
    "fig, axs = plt.subplots(2,2,figsize=(15,10))\n",
    "\n",
    "axs[0, 0].plot(train_losses)\n",
    "axs[0, 0].set_title(\"Training Loss\")\n",
    "\n",
    "axs[1, 0].plot(train_acc)\n",
    "axs[1, 0].set_title(\"Training Accuracy\")\n",
    "\n",
    "axs[0, 1].plot(test_losses)\n",
    "axs[0, 1].set_title(\"Test Loss\")\n",
    "\n",
    "axs[1, 1].plot(test_acc)\n",
    "axs[1, 1].set_title(\"Test Accuracy\")\n",
    "plt.show()"
   ]
  },
  {
   "cell_type": "code",
   "execution_count": null,
   "id": "10e611db-da67-4b07-989f-ea0302af936a",
   "metadata": {},
   "outputs": [],
   "source": []
  }
 ],
 "metadata": {
  "kernelspec": {
   "display_name": "Python 3 (ipykernel)",
   "language": "python",
   "name": "python3"
  },
  "language_info": {
   "codemirror_mode": {
    "name": "ipython",
    "version": 3
   },
   "file_extension": ".py",
   "mimetype": "text/x-python",
   "name": "python",
   "nbconvert_exporter": "python",
   "pygments_lexer": "ipython3",
   "version": "3.11.4"
  }
 },
 "nbformat": 4,
 "nbformat_minor": 5
}
