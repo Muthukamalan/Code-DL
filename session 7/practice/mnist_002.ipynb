{
 "cells": [
  {
   "cell_type": "code",
   "execution_count": 1,
   "metadata": {},
   "outputs": [
    {
     "name": "stdout",
     "output_type": "stream",
     "text": [
      "Sun Sep 10 11:46:05 2023       \n",
      "+---------------------------------------------------------------------------------------+\n",
      "| NVIDIA-SMI 536.67                 Driver Version: 536.67       CUDA Version: 12.2     |\n",
      "|-----------------------------------------+----------------------+----------------------+\n",
      "| GPU  Name                     TCC/WDDM  | Bus-Id        Disp.A | Volatile Uncorr. ECC |\n",
      "| Fan  Temp   Perf          Pwr:Usage/Cap |         Memory-Usage | GPU-Util  Compute M. |\n",
      "|                                         |                      |               MIG M. |\n",
      "|=========================================+======================+======================|\n",
      "|   0  NVIDIA GeForce RTX 4050 ...  WDDM  | 00000000:01:00.0 Off |                  N/A |\n",
      "| N/A   45C    P8               1W /  95W |   1356MiB /  6141MiB |      0%      Default |\n",
      "|                                         |                      |                  N/A |\n",
      "+-----------------------------------------+----------------------+----------------------+\n",
      "                                                                                         \n",
      "+---------------------------------------------------------------------------------------+\n",
      "| Processes:                                                                            |\n",
      "|  GPU   GI   CI        PID   Type   Process name                            GPU Memory |\n",
      "|        ID   ID                                                             Usage      |\n",
      "|=======================================================================================|\n",
      "|    0   N/A  N/A      9452      C   ...miniconda3\\envs\\torchenv\\python.exe    N/A      |\n",
      "+---------------------------------------------------------------------------------------+\n"
     ]
    }
   ],
   "source": [
    "!nvidia-smi"
   ]
  },
  {
   "cell_type": "code",
   "execution_count": 2,
   "metadata": {},
   "outputs": [],
   "source": [
    "import random\n",
    "import numpy as np\n",
    "import matplotlib.pyplot as plt\n",
    "\n",
    "import torch\n",
    "import torch.nn as nn\n",
    "import torch.optim as optim\n",
    "import torch.nn.functional as F\n",
    "from torchvision import datasets, transforms\n",
    "from torchsummary import summary\n",
    "from tqdm import tqdm\n",
    "import albumentations as A\n",
    "from albumentations.pytorch import ToTensorV2\n",
    "\n",
    "device = torch.device('cuda:0' if torch.cuda.is_available() else 'cpu')\n",
    "device\n",
    "\n",
    "\n",
    "torch.cuda.amp.autocast(enabled=False)\n",
    "\n",
    "# REPRODUCE\n",
    "torch.backends.cudnn.deterministi=True\n",
    "random.seed(hash('setting random seeds')% 2**32-1)\n",
    "np.random.seed(hash('improves reproducibility')%2**32-1)\n",
    "torch.manual_seed(hash(\"by removing stochasticity\")%2**32-1)\n",
    "torch.cuda.manual_seed_all(hash('so runs are repetable')%2**32-1)"
   ]
  },
  {
   "cell_type": "code",
   "execution_count": 3,
   "metadata": {},
   "outputs": [],
   "source": [
    "from utils import cuda,device,show__random_img"
   ]
  },
  {
   "cell_type": "code",
   "execution_count": 4,
   "metadata": {},
   "outputs": [],
   "source": [
    "train_transforms = transforms.Compose([\n",
    "    # transforms.RandomApply([transforms.CenterCrop(22), ], p=0.1),\n",
    "    # transforms.Resize((28, 28)),\n",
    "    # transforms.RandomRotation((-15., 15.), fill=0),\n",
    "    transforms.ToTensor(),\n",
    "    transforms.Normalize((0.1307,), (0.3081,)),\n",
    "    ])\n",
    "\n",
    "# Test data transformations\n",
    "test_transforms = transforms.Compose([\n",
    "    transforms.ToTensor(),\n",
    "    transforms.Normalize((0.1307,), (0.3081,))\n",
    "    ])\n"
   ]
  },
  {
   "cell_type": "code",
   "execution_count": 5,
   "metadata": {},
   "outputs": [],
   "source": [
    "train_data = datasets.MNIST('../data', train=True, download=False, transform=train_transforms)\n",
    "test_data = datasets.MNIST('../data', train=False, download=False, transform=test_transforms)"
   ]
  },
  {
   "cell_type": "code",
   "execution_count": 6,
   "metadata": {},
   "outputs": [],
   "source": [
    "batch_size = 64\n",
    "\n",
    "if torch.cuda.is_available():\n",
    "    kwargs = {'batch_size': batch_size, 'shuffle': True, 'num_workers': 3, 'pin_memory': True}\n",
    "else:\n",
    "    kwargs = {'batch_size':32,'shuffle':True}\n",
    "\n",
    "test_loader = torch.utils.data.DataLoader(test_data, **kwargs)\n",
    "train_loader = torch.utils.data.DataLoader(train_data, **kwargs)"
   ]
  },
  {
   "cell_type": "code",
   "execution_count": 7,
   "metadata": {},
   "outputs": [],
   "source": [
    "# Data to plot accuracy and loss graphs\n",
    "train_losses = []\n",
    "test_losses = []\n",
    "train_acc = []\n",
    "test_acc = []\n",
    "\n",
    "test_incorrect_pred = {'images': [], 'ground_truths': [], 'predicted_vals': []}\n",
    "\n",
    "def GetCorrectPredCount(pPrediction, pLabels):\n",
    "  return pPrediction.argmax(dim=1).eq(pLabels).sum().item()\n",
    "\n",
    "\n",
    "def train(model, device, train_loader, optimizer, criterion):\n",
    "  model.train()\n",
    "  pbar = tqdm(train_loader)\n",
    "\n",
    "  train_loss = 0\n",
    "  correct = 0\n",
    "  processed = 0\n",
    "\n",
    "  for batch_idx, (data, target) in enumerate(pbar):\n",
    "    data, target = data.to(device), target.to(device)\n",
    "    optimizer.zero_grad()\n",
    "\n",
    "    # Predict\n",
    "    pred = model(data)\n",
    "\n",
    "    # Calculate loss\n",
    "    loss = criterion(pred, target)\n",
    "    train_loss+=loss.item()\n",
    "\n",
    "    # Backpropagation\n",
    "    loss.backward()\n",
    "    optimizer.step()\n",
    "\n",
    "    correct += GetCorrectPredCount(pred, target)\n",
    "    processed += len(data)\n",
    "\n",
    "    pbar.set_description(desc= f'Train: Loss={loss.item():0.4f} Batch_id={batch_idx} Accuracy={100*correct/processed:0.2f}')\n",
    "\n",
    "  train_acc.append(100*correct/processed)\n",
    "  train_losses.append(train_loss/len(train_loader))\n",
    "\n",
    "def test(model, device, test_loader, criterion):\n",
    "    model.eval()\n",
    "\n",
    "    test_loss = 0\n",
    "    correct = 0\n",
    "\n",
    "    with torch.no_grad():\n",
    "        for batch_idx, (data, target) in enumerate(test_loader):\n",
    "            data, target = data.to(device), target.to(device)\n",
    "\n",
    "            output = model(data)\n",
    "            test_loss += criterion(output, target, reduction='sum').item()  # sum up batch loss\n",
    "\n",
    "            correct += GetCorrectPredCount(output, target)\n",
    "\n",
    "\n",
    "    test_loss /= len(test_loader.dataset)\n",
    "    test_acc.append(100. * correct / len(test_loader.dataset))\n",
    "    test_losses.append(test_loss)\n",
    "    \n",
    "    print('Test set: Average loss: {:.4f}, Accuracy: {}/{} ({:.4f}%)\\n'.format(\n",
    "        test_loss, correct, len(test_loader.dataset),\n",
    "        100. * correct / len(test_loader.dataset)))\n",
    "    return test_loss"
   ]
  },
  {
   "cell_type": "code",
   "execution_count": 8,
   "metadata": {},
   "outputs": [
    {
     "data": {
      "image/png": "[encoded data removed]",
      "text/plain": [
       "<Figure size 640x480 with 1 Axes>"
      ]
     },
     "metadata": {},
     "output_type": "display_data"
    }
   ],
   "source": [
    "for i in random.choices(np.arange(0,20),k=1):\n",
    "    plt.imshow(train_data.data[i],cmap='binary')\n",
    "    plt.title(f'label = {train_data.targets[i].numpy()}')\n",
    "    plt.show()"
   ]
  },
  {
   "cell_type": "code",
   "execution_count": null,
   "metadata": {},
   "outputs": [],
   "source": []
  },
  {
   "cell_type": "markdown",
   "metadata": {},
   "source": [
    "### Model 1"
   ]
  },
  {
   "cell_type": "code",
   "execution_count": 9,
   "metadata": {},
   "outputs": [],
   "source": [
    "import torch.nn as nn\n",
    "import torch.nn.functional as F\n",
    "\n",
    "class Net(nn.Module):\n",
    "    def __init__(self):\n",
    "        super(Net,self).__init__()\n",
    "        DROPOUT=0.0\n",
    "        self.conv1 = nn.Sequential(\n",
    "\n",
    "            nn.Conv2d(in_channels=1,out_channels=3,kernel_size=3,stride=1,padding=1,bias=False),\n",
    "            nn.BatchNorm2d(3),\n",
    "            nn.ReLU(),\n",
    "            nn.Dropout2d(p=DROPOUT),\n",
    "\n",
    "            nn.Conv2d(in_channels=3,out_channels=8,kernel_size=3,stride=1,padding=1,bias=False),\n",
    "            nn.BatchNorm2d(8),\n",
    "            nn.ReLU(),\n",
    "            nn.Dropout2d(p=DROPOUT),\n",
    "            \n",
    "            nn.Conv2d(in_channels=8,out_channels=10,kernel_size=3,stride=1,padding=1,bias=False),\n",
    "            nn.BatchNorm2d(10),\n",
    "            nn.ReLU(),\n",
    "            nn.Dropout2d(p=DROPOUT),\n",
    "        )\n",
    "        self.trans1 = nn.Sequential(\n",
    "\n",
    "            nn.MaxPool2d( kernel_size =2 , stride =2 , padding =1 ),\n",
    "            nn.Conv2d(in_channels=10,out_channels=8,kernel_size=1,bias=False,padding=1),\n",
    "            nn.BatchNorm2d(8),\n",
    "\n",
    "        )\n",
    "\n",
    "        self.conv2 =nn.Sequential(\n",
    "            nn.Conv2d(in_channels=8,out_channels=10,kernel_size=3,stride=1,padding=1,bias=False),\n",
    "            nn.BatchNorm2d(10),\n",
    "            nn.ReLU(),\n",
    "            nn.Dropout2d(p=DROPOUT),\n",
    "\n",
    "            nn.Conv2d(in_channels=10,out_channels=12,kernel_size=3,stride=1,padding=1,bias=False),\n",
    "            nn.BatchNorm2d(12),\n",
    "            nn.ReLU(),\n",
    "            nn.Dropout2d(p=DROPOUT),\n",
    "\n",
    "            nn.Conv2d(in_channels=12,out_channels=12,kernel_size=3,stride=1,padding=1,bias=False),\n",
    "            nn.BatchNorm2d(12),\n",
    "            nn.ReLU(),\n",
    "            nn.Dropout2d(p=DROPOUT),\n",
    "        )\n",
    "        self.trans2 = nn.Sequential(\n",
    "            nn.MaxPool2d( kernel_size =2 , stride =2 , padding =1 ),\n",
    "            nn.Conv2d(in_channels=12,out_channels=8,kernel_size=1,bias=False),\n",
    "            nn.BatchNorm2d(8),\n",
    "        )\n",
    "\n",
    "        self.conv3 = nn.Sequential(\n",
    "            nn.Conv2d(in_channels=8,out_channels=12,kernel_size=3,stride=1,padding=1,bias=False),\n",
    "            nn.BatchNorm2d(12),\n",
    "            nn.ReLU(),\n",
    "            nn.Dropout2d(p=DROPOUT),\n",
    "            \n",
    "            nn.Conv2d(in_channels=12,out_channels=12,kernel_size=3,stride=1,padding=1,bias=False),\n",
    "            nn.ReLU(),\n",
    "            nn.BatchNorm2d(12),\n",
    "            nn.Dropout2d(p=DROPOUT),\n",
    "\n",
    "        )\n",
    "        self.trans3 = nn.Sequential(\n",
    "            nn.MaxPool2d( kernel_size =2 , stride =2 , padding =0 ),\n",
    "            nn.Conv2d(in_channels=12,out_channels=10,kernel_size=1,bias=False),\n",
    "            nn.BatchNorm2d(10),\n",
    "        )\n",
    "\n",
    "        self.out4 = nn.Sequential(\n",
    "            nn.Conv2d(in_channels=10 ,out_channels=10, kernel_size=3,stride=1,padding=1,bias=False),\n",
    "            nn.BatchNorm2d(10),\n",
    "            nn.AvgPool2d(kernel_size=3)  #(1*1*10)\n",
    "        )\n",
    "\n",
    "\n",
    "    def forward(self,x):\n",
    "        x = self.trans1( self.conv1(x) )\n",
    "        x = self.trans2( self.conv2(x) )\n",
    "        x = self.trans3( self.conv3(x) )\n",
    "        x = self.out4(x)\n",
    "        x = x.view(-1,10)\n",
    "        return F.log_softmax(x,dim=1)\n"
   ]
  },
  {
   "cell_type": "code",
   "execution_count": 10,
   "metadata": {},
   "outputs": [
    {
     "name": "stdout",
     "output_type": "stream",
     "text": [
      "conv1.0.weight\t\t torch.Size([3, 1, 3, 3])\n",
      "conv1.1.weight\t\t torch.Size([3])\n",
      "conv1.1.bias\t\t torch.Size([3])\n",
      "conv1.4.weight\t\t torch.Size([8, 3, 3, 3])\n",
      "conv1.5.weight\t\t torch.Size([8])\n",
      "conv1.5.bias\t\t torch.Size([8])\n",
      "conv1.8.weight\t\t torch.Size([10, 8, 3, 3])\n",
      "conv1.9.weight\t\t torch.Size([10])\n",
      "conv1.9.bias\t\t torch.Size([10])\n",
      "trans1.1.weight\t\t torch.Size([8, 10, 1, 1])\n",
      "trans1.2.weight\t\t torch.Size([8])\n",
      "trans1.2.bias\t\t torch.Size([8])\n",
      "conv2.0.weight\t\t torch.Size([10, 8, 3, 3])\n",
      "conv2.1.weight\t\t torch.Size([10])\n",
      "conv2.1.bias\t\t torch.Size([10])\n",
      "conv2.4.weight\t\t torch.Size([12, 10, 3, 3])\n",
      "conv2.5.weight\t\t torch.Size([12])\n",
      "conv2.5.bias\t\t torch.Size([12])\n",
      "conv2.8.weight\t\t torch.Size([12, 12, 3, 3])\n",
      "conv2.9.weight\t\t torch.Size([12])\n",
      "conv2.9.bias\t\t torch.Size([12])\n",
      "trans2.1.weight\t\t torch.Size([8, 12, 1, 1])\n",
      "trans2.2.weight\t\t torch.Size([8])\n",
      "trans2.2.bias\t\t torch.Size([8])\n",
      "conv3.0.weight\t\t torch.Size([12, 8, 3, 3])\n",
      "conv3.1.weight\t\t torch.Size([12])\n",
      "conv3.1.bias\t\t torch.Size([12])\n",
      "conv3.4.weight\t\t torch.Size([12, 12, 3, 3])\n",
      "conv3.6.weight\t\t torch.Size([12])\n",
      "conv3.6.bias\t\t torch.Size([12])\n",
      "trans3.1.weight\t\t torch.Size([10, 12, 1, 1])\n",
      "trans3.2.weight\t\t torch.Size([10])\n",
      "trans3.2.bias\t\t torch.Size([10])\n",
      "out4.0.weight\t\t torch.Size([10, 10, 3, 3])\n",
      "out4.1.weight\t\t torch.Size([10])\n",
      "out4.1.bias\t\t torch.Size([10])\n",
      "----------------------------------------------------------------\n",
      "        Layer (type)               Output Shape         Param #\n",
      "================================================================\n",
      "            Conv2d-1            [-1, 3, 28, 28]              27\n",
      "       BatchNorm2d-2            [-1, 3, 28, 28]               6\n",
      "              ReLU-3            [-1, 3, 28, 28]               0\n",
      "         Dropout2d-4            [-1, 3, 28, 28]               0\n",
      "            Conv2d-5            [-1, 8, 28, 28]             216\n",
      "       BatchNorm2d-6            [-1, 8, 28, 28]              16\n",
      "              ReLU-7            [-1, 8, 28, 28]               0\n",
      "         Dropout2d-8            [-1, 8, 28, 28]               0\n",
      "            Conv2d-9           [-1, 10, 28, 28]             720\n",
      "      BatchNorm2d-10           [-1, 10, 28, 28]              20\n",
      "             ReLU-11           [-1, 10, 28, 28]               0\n",
      "        Dropout2d-12           [-1, 10, 28, 28]               0\n",
      "        MaxPool2d-13           [-1, 10, 15, 15]               0\n",
      "           Conv2d-14            [-1, 8, 17, 17]              80\n",
      "      BatchNorm2d-15            [-1, 8, 17, 17]              16\n",
      "           Conv2d-16           [-1, 10, 17, 17]             720\n",
      "      BatchNorm2d-17           [-1, 10, 17, 17]              20\n",
      "             ReLU-18           [-1, 10, 17, 17]               0\n",
      "        Dropout2d-19           [-1, 10, 17, 17]               0\n",
      "           Conv2d-20           [-1, 12, 17, 17]           1,080\n",
      "      BatchNorm2d-21           [-1, 12, 17, 17]              24\n",
      "             ReLU-22           [-1, 12, 17, 17]               0\n",
      "        Dropout2d-23           [-1, 12, 17, 17]               0\n",
      "           Conv2d-24           [-1, 12, 17, 17]           1,296\n",
      "      BatchNorm2d-25           [-1, 12, 17, 17]              24\n",
      "             ReLU-26           [-1, 12, 17, 17]               0\n",
      "        Dropout2d-27           [-1, 12, 17, 17]               0\n",
      "        MaxPool2d-28             [-1, 12, 9, 9]               0\n",
      "           Conv2d-29              [-1, 8, 9, 9]              96\n",
      "      BatchNorm2d-30              [-1, 8, 9, 9]              16\n",
      "           Conv2d-31             [-1, 12, 9, 9]             864\n",
      "      BatchNorm2d-32             [-1, 12, 9, 9]              24\n",
      "             ReLU-33             [-1, 12, 9, 9]               0\n",
      "        Dropout2d-34             [-1, 12, 9, 9]               0\n",
      "           Conv2d-35             [-1, 12, 9, 9]           1,296\n",
      "             ReLU-36             [-1, 12, 9, 9]               0\n",
      "      BatchNorm2d-37             [-1, 12, 9, 9]              24\n",
      "        Dropout2d-38             [-1, 12, 9, 9]               0\n",
      "        MaxPool2d-39             [-1, 12, 4, 4]               0\n",
      "           Conv2d-40             [-1, 10, 4, 4]             120\n",
      "      BatchNorm2d-41             [-1, 10, 4, 4]              20\n",
      "           Conv2d-42             [-1, 10, 4, 4]             900\n",
      "      BatchNorm2d-43             [-1, 10, 4, 4]              20\n",
      "        AvgPool2d-44             [-1, 10, 1, 1]               0\n",
      "================================================================\n",
      "Total params: 7,645\n",
      "Trainable params: 7,645\n",
      "Non-trainable params: 0\n",
      "----------------------------------------------------------------\n",
      "Input size (MB): 0.00\n",
      "Forward/backward pass size (MB): 0.94\n",
      "Params size (MB): 0.03\n",
      "Estimated Total Size (MB): 0.97\n",
      "----------------------------------------------------------------\n",
      "Adjusting learning rate of group 0 to 2.0000e-01.\n",
      "Epoch 1\n"
     ]
    },
    {
     "name": "stderr",
     "output_type": "stream",
     "text": [
      "Train: Loss=0.1142 Batch_id=937 Accuracy=94.60: 100%|████████████| 938/938 [00:18<00:00, 51.54it/s]\n"
     ]
    },
    {
     "name": "stdout",
     "output_type": "stream",
     "text": [
      "Test set: Average loss: 0.0725, Accuracy: 9773/10000 (97.7300%)\n",
      "\n",
      "Adjusting learning rate of group 0 to 2.0000e-01.\n",
      "Epoch 2\n"
     ]
    },
    {
     "name": "stderr",
     "output_type": "stream",
     "text": [
      "Train: Loss=0.0695 Batch_id=937 Accuracy=97.94: 100%|████████████| 938/938 [00:18<00:00, 51.34it/s]\n"
     ]
    },
    {
     "name": "stdout",
     "output_type": "stream",
     "text": [
      "Test set: Average loss: 0.0492, Accuracy: 9840/10000 (98.4000%)\n",
      "\n",
      "Adjusting learning rate of group 0 to 2.0000e-01.\n",
      "Epoch 3\n"
     ]
    },
    {
     "name": "stderr",
     "output_type": "stream",
     "text": [
      "Train: Loss=0.0756 Batch_id=937 Accuracy=98.35: 100%|████████████| 938/938 [00:18<00:00, 51.46it/s]\n"
     ]
    },
    {
     "name": "stdout",
     "output_type": "stream",
     "text": [
      "Test set: Average loss: 0.0524, Accuracy: 9831/10000 (98.3100%)\n",
      "\n",
      "Adjusting learning rate of group 0 to 2.0000e-01.\n",
      "Epoch 4\n"
     ]
    },
    {
     "name": "stderr",
     "output_type": "stream",
     "text": [
      "Train: Loss=0.0314 Batch_id=937 Accuracy=98.61: 100%|████████████| 938/938 [00:20<00:00, 45.39it/s]\n"
     ]
    },
    {
     "name": "stdout",
     "output_type": "stream",
     "text": [
      "Test set: Average loss: 0.0357, Accuracy: 9892/10000 (98.9200%)\n",
      "\n",
      "Adjusting learning rate of group 0 to 2.0000e-01.\n",
      "Epoch 5\n"
     ]
    },
    {
     "name": "stderr",
     "output_type": "stream",
     "text": [
      "Train: Loss=0.0049 Batch_id=937 Accuracy=98.79: 100%|████████████| 938/938 [00:18<00:00, 49.48it/s]\n"
     ]
    },
    {
     "name": "stdout",
     "output_type": "stream",
     "text": [
      "Test set: Average loss: 0.0557, Accuracy: 9814/10000 (98.1400%)\n",
      "\n",
      "Adjusting learning rate of group 0 to 2.0000e-02.\n",
      "Epoch 6\n"
     ]
    },
    {
     "name": "stderr",
     "output_type": "stream",
     "text": [
      "Train: Loss=0.0347 Batch_id=937 Accuracy=99.21: 100%|████████████| 938/938 [00:18<00:00, 50.36it/s]\n"
     ]
    },
    {
     "name": "stdout",
     "output_type": "stream",
     "text": [
      "Test set: Average loss: 0.0225, Accuracy: 9923/10000 (99.2300%)\n",
      "\n",
      "Adjusting learning rate of group 0 to 2.0000e-02.\n",
      "Epoch 7\n"
     ]
    },
    {
     "name": "stderr",
     "output_type": "stream",
     "text": [
      "Train: Loss=0.0105 Batch_id=937 Accuracy=99.34: 100%|████████████| 938/938 [00:19<00:00, 48.72it/s]\n"
     ]
    },
    {
     "name": "stdout",
     "output_type": "stream",
     "text": [
      "Test set: Average loss: 0.0221, Accuracy: 9933/10000 (99.3300%)\n",
      "\n",
      "Adjusting learning rate of group 0 to 2.0000e-02.\n",
      "Epoch 8\n"
     ]
    },
    {
     "name": "stderr",
     "output_type": "stream",
     "text": [
      "Train: Loss=0.1160 Batch_id=937 Accuracy=99.36: 100%|████████████| 938/938 [00:20<00:00, 45.90it/s]\n"
     ]
    },
    {
     "name": "stdout",
     "output_type": "stream",
     "text": [
      "Test set: Average loss: 0.0217, Accuracy: 9930/10000 (99.3000%)\n",
      "\n",
      "Adjusting learning rate of group 0 to 2.0000e-02.\n",
      "Epoch 9\n"
     ]
    },
    {
     "name": "stderr",
     "output_type": "stream",
     "text": [
      "Train: Loss=0.0175 Batch_id=937 Accuracy=99.41: 100%|████████████| 938/938 [00:19<00:00, 48.18it/s]\n"
     ]
    },
    {
     "name": "stdout",
     "output_type": "stream",
     "text": [
      "Test set: Average loss: 0.0223, Accuracy: 9924/10000 (99.2400%)\n",
      "\n",
      "Adjusting learning rate of group 0 to 2.0000e-02.\n",
      "Epoch 10\n"
     ]
    },
    {
     "name": "stderr",
     "output_type": "stream",
     "text": [
      "Train: Loss=0.0115 Batch_id=937 Accuracy=99.44: 100%|████████████| 938/938 [00:20<00:00, 46.10it/s]\n"
     ]
    },
    {
     "name": "stdout",
     "output_type": "stream",
     "text": [
      "Test set: Average loss: 0.0226, Accuracy: 9925/10000 (99.2500%)\n",
      "\n",
      "Adjusting learning rate of group 0 to 2.0000e-03.\n",
      "Epoch 11\n"
     ]
    },
    {
     "name": "stderr",
     "output_type": "stream",
     "text": [
      "Train: Loss=0.0028 Batch_id=937 Accuracy=99.48: 100%|████████████| 938/938 [00:20<00:00, 46.29it/s]\n"
     ]
    },
    {
     "name": "stdout",
     "output_type": "stream",
     "text": [
      "Test set: Average loss: 0.0220, Accuracy: 9928/10000 (99.2800%)\n",
      "\n",
      "Adjusting learning rate of group 0 to 2.0000e-03.\n",
      "Epoch 12\n"
     ]
    },
    {
     "name": "stderr",
     "output_type": "stream",
     "text": [
      "Train: Loss=0.0296 Batch_id=937 Accuracy=99.48: 100%|████████████| 938/938 [00:20<00:00, 46.63it/s]\n"
     ]
    },
    {
     "name": "stdout",
     "output_type": "stream",
     "text": [
      "Test set: Average loss: 0.0220, Accuracy: 9928/10000 (99.2800%)\n",
      "\n",
      "Adjusting learning rate of group 0 to 2.0000e-03.\n",
      "Epoch 13\n"
     ]
    },
    {
     "name": "stderr",
     "output_type": "stream",
     "text": [
      "Train: Loss=0.0063 Batch_id=937 Accuracy=99.48: 100%|████████████| 938/938 [00:20<00:00, 44.89it/s]\n"
     ]
    },
    {
     "name": "stdout",
     "output_type": "stream",
     "text": [
      "Test set: Average loss: 0.0220, Accuracy: 9925/10000 (99.2500%)\n",
      "\n",
      "Adjusting learning rate of group 0 to 2.0000e-03.\n",
      "Epoch 14\n"
     ]
    },
    {
     "name": "stderr",
     "output_type": "stream",
     "text": [
      "Train: Loss=0.0024 Batch_id=937 Accuracy=99.48: 100%|████████████| 938/938 [00:20<00:00, 45.35it/s]\n"
     ]
    },
    {
     "name": "stdout",
     "output_type": "stream",
     "text": [
      "Test set: Average loss: 0.0220, Accuracy: 9925/10000 (99.2500%)\n",
      "\n",
      "Adjusting learning rate of group 0 to 2.0000e-03.\n",
      "Epoch 15\n"
     ]
    },
    {
     "name": "stderr",
     "output_type": "stream",
     "text": [
      "Train: Loss=0.0032 Batch_id=937 Accuracy=99.48: 100%|████████████| 938/938 [00:20<00:00, 45.39it/s]\n"
     ]
    },
    {
     "name": "stdout",
     "output_type": "stream",
     "text": [
      "Test set: Average loss: 0.0216, Accuracy: 9932/10000 (99.3200%)\n",
      "\n",
      "Adjusting learning rate of group 0 to 2.0000e-04.\n"
     ]
    }
   ],
   "source": [
    "model = Net().to(device)\n",
    "for name,weights in model.named_parameters():\n",
    "    print(f\"{name}\\t\\t {weights.shape}\")\n",
    "\n",
    "summary(model=model,input_size=(1,28,28),device='cuda');\n",
    "\n",
    "optimizer = optim.SGD(model.parameters(), lr=0.2, momentum=0.9)\n",
    "scheduler = optim.lr_scheduler.StepLR(optimizer, step_size=5, gamma=0.1, verbose=True)\n",
    "# New Line\n",
    "criterion =  F.nll_loss\n",
    "num_epochs = 15\n",
    "\n",
    "for epoch in range(1, num_epochs+1):\n",
    "  print(f'Epoch {epoch}')\n",
    "  train(model, device, train_loader, optimizer, criterion)\n",
    "  test(model, device, test_loader, criterion)\n",
    "  scheduler.step()"
   ]
  },
  {
   "cell_type": "code",
   "execution_count": null,
   "metadata": {
    "scrolled": true
   },
   "outputs": [],
   "source": []
  },
  {
   "cell_type": "code",
   "execution_count": 11,
   "metadata": {},
   "outputs": [
    {
     "data": {
      "image/png": "[encoded data removed]",
      "text/plain": [
       "<Figure size 1500x1000 with 4 Axes>"
      ]
     },
     "metadata": {},
     "output_type": "display_data"
    }
   ],
   "source": [
    "fig, axs = plt.subplots(2,2,figsize=(15,10))\n",
    "\n",
    "axs[0, 0].plot(train_losses)\n",
    "axs[0, 0].set_title(\"Training Loss\")\n",
    "\n",
    "axs[1, 0].plot(train_acc)\n",
    "axs[1, 0].set_title(\"Training Accuracy\")\n",
    "\n",
    "axs[0, 1].plot(test_losses)\n",
    "axs[0, 1].set_title(\"Test Loss\")\n",
    "\n",
    "axs[1, 1].plot(test_acc)\n",
    "axs[1, 1].set_title(\"Test Accuracy\")\n",
    "plt.show()"
   ]
  },
  {
   "cell_type": "code",
   "execution_count": 12,
   "metadata": {},
   "outputs": [
    {
     "name": "stdout",
     "output_type": "stream",
     "text": [
      "0.13065974414348602 0.3015038073062897\n"
     ]
    }
   ],
   "source": [
    "from utils import calculate_mean_std_mnist\n",
    "mnist_data = datasets.MNIST( root='../data', download=False, transform=transforms.ToTensor() ,)\n",
    "mean,std= calculate_mean_std_mnist(mnist_data)\n",
    "\n",
    "print(mean,std)"
   ]
  },
  {
   "cell_type": "code",
   "execution_count": null,
   "metadata": {},
   "outputs": [],
   "source": []
  }
 ],
 "metadata": {
  "kernelspec": {
   "display_name": "Python 3 (ipykernel)",
   "language": "python",
   "name": "python3"
  },
  "language_info": {
   "codemirror_mode": {
    "name": "ipython",
    "version": 3
   },
   "file_extension": ".py",
   "mimetype": "text/x-python",
   "name": "python",
   "nbconvert_exporter": "python",
   "pygments_lexer": "ipython3",
   "version": "3.11.4"
  }
 },
 "nbformat": 4,
 "nbformat_minor": 4
}
