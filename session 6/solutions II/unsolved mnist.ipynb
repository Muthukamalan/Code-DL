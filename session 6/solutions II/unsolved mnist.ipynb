{
 "cells": [
  {
   "cell_type": "markdown",
   "metadata": {},
   "source": [
    "<a href=\"https://colab.research.google.com/drive/1C7VRyV9v7zw_M8Lqd-ZoPG4D9WCrfOlQ?usp=sharing\" target=\"_parent\"><img src=\"https://colab.research.google.com/assets/colab-badge.svg\" alt=\"Open In Colab\"/></a>\n"
   ]
  },
  {
   "cell_type": "code",
   "execution_count": 1,
   "metadata": {},
   "outputs": [
    {
     "name": "stdout",
     "output_type": "stream",
     "text": [
      "Thu Sep  7 21:56:10 2023       \n",
      "+---------------------------------------------------------------------------------------+\n",
      "| NVIDIA-SMI 536.67                 Driver Version: 536.67       CUDA Version: 12.2     |\n",
      "|-----------------------------------------+----------------------+----------------------+\n",
      "| GPU  Name                     TCC/WDDM  | Bus-Id        Disp.A | Volatile Uncorr. ECC |\n",
      "| Fan  Temp   Perf          Pwr:Usage/Cap |         Memory-Usage | GPU-Util  Compute M. |\n",
      "|                                         |                      |               MIG M. |\n",
      "|=========================================+======================+======================|\n",
      "|   0  NVIDIA GeForce RTX 4050 ...  WDDM  | 00000000:01:00.0 Off |                  N/A |\n",
      "| N/A   46C    P4              13W /  55W |      0MiB /  6141MiB |      0%      Default |\n",
      "|                                         |                      |                  N/A |\n",
      "+-----------------------------------------+----------------------+----------------------+\n",
      "                                                                                         \n",
      "+---------------------------------------------------------------------------------------+\n",
      "| Processes:                                                                            |\n",
      "|  GPU   GI   CI        PID   Type   Process name                            GPU Memory |\n",
      "|        ID   ID                                                             Usage      |\n",
      "|=======================================================================================|\n",
      "|  No running processes found                                                           |\n",
      "+---------------------------------------------------------------------------------------+\n"
     ]
    }
   ],
   "source": [
    "!nvidia-smi"
   ]
  },
  {
   "cell_type": "code",
   "execution_count": 2,
   "metadata": {},
   "outputs": [],
   "source": [
    "import random\n",
    "import numpy as np\n",
    "import matplotlib.pyplot as plt\n",
    "\n",
    "import torch\n",
    "import torch.nn as nn\n",
    "import torch.optim as optim\n",
    "import torch.nn.functional as F\n",
    "from torchvision import datasets, transforms\n",
    "from torchsummary import summary\n",
    "from tqdm import tqdm\n",
    "import albumentations as A\n",
    "from albumentations.pytorch import ToTensorV2\n",
    "\n",
    "device = torch.device('cuda:0' if torch.cuda.is_available() else 'cpu')\n",
    "device\n",
    "\n",
    "\n",
    "torch.cuda.amp.autocast(enabled=False)\n",
    "\n",
    "# REPRODUCE\n",
    "torch.backends.cudnn.deterministi=True\n",
    "random.seed(hash('setting random seeds')% 2**32-1)\n",
    "np.random.seed(hash('improves reproducibility')%2**32-1)\n",
    "torch.manual_seed(hash(\"by removing stochasticity\")%2**32-1)\n",
    "torch.cuda.manual_seed_all(hash('so runs are repetable')%2**32-1)"
   ]
  },
  {
   "cell_type": "code",
   "execution_count": 3,
   "metadata": {},
   "outputs": [],
   "source": [
    "from utils import cuda,device,show__random_img"
   ]
  },
  {
   "cell_type": "code",
   "execution_count": 4,
   "metadata": {},
   "outputs": [
    {
     "data": {
      "text/plain": [
       "'2.0.1+cu118'"
      ]
     },
     "execution_count": 4,
     "metadata": {},
     "output_type": "execute_result"
    }
   ],
   "source": [
    "torch.__version__"
   ]
  },
  {
   "cell_type": "code",
   "execution_count": 5,
   "metadata": {},
   "outputs": [],
   "source": [
    "train_transforms = transforms.Compose([\n",
    "    transforms.RandomApply([transforms.CenterCrop(22), ], p=0.1),\n",
    "    transforms.Resize((28, 28)),\n",
    "    transforms.RandomRotation((-15., 15.), fill=0),\n",
    "    transforms.ToTensor(),\n",
    "    transforms.Normalize((0.1307,), (0.3081,)),\n",
    "    ])\n",
    "\n",
    "# Test data transformations\n",
    "test_transforms = transforms.Compose([\n",
    "    transforms.ToTensor(),\n",
    "    transforms.Normalize((0.1307,), (0.3081,))\n",
    "    ])\n"
   ]
  },
  {
   "cell_type": "code",
   "execution_count": 6,
   "metadata": {},
   "outputs": [],
   "source": [
    "train_data = datasets.MNIST('../../data', train=True, download=False, transform=train_transforms)\n",
    "test_data = datasets.MNIST('../../data', train=False, download=False, transform=test_transforms)"
   ]
  },
  {
   "cell_type": "code",
   "execution_count": 7,
   "metadata": {},
   "outputs": [],
   "source": [
    "batch_size = 64\n",
    "\n",
    "if torch.cuda.is_available():\n",
    "    kwargs = {'batch_size': batch_size, 'shuffle': True, 'num_workers': 3, 'pin_memory': True}\n",
    "else:\n",
    "    kwargs = {'batch_size':32,'shuffle':True}\n",
    "\n",
    "test_loader = torch.utils.data.DataLoader(test_data, **kwargs)\n",
    "train_loader = torch.utils.data.DataLoader(train_data, **kwargs)"
   ]
  },
  {
   "cell_type": "code",
   "execution_count": 8,
   "metadata": {},
   "outputs": [],
   "source": [
    "# Data to plot accuracy and loss graphs\n",
    "train_losses = []\n",
    "test_losses = []\n",
    "train_acc = []\n",
    "test_acc = []\n",
    "\n",
    "test_incorrect_pred = {'images': [], 'ground_truths': [], 'predicted_vals': []}\n",
    "\n",
    "def GetCorrectPredCount(pPrediction, pLabels):\n",
    "  return pPrediction.argmax(dim=1).eq(pLabels).sum().item()\n",
    "\n",
    "\n",
    "def train(model, device, train_loader, optimizer, criterion):\n",
    "  model.train()\n",
    "  pbar = tqdm(train_loader)\n",
    "\n",
    "  train_loss = 0\n",
    "  correct = 0\n",
    "  processed = 0\n",
    "\n",
    "  for batch_idx, (data, target) in enumerate(pbar):\n",
    "    data, target = data.to(device), target.to(device)\n",
    "    optimizer.zero_grad()\n",
    "\n",
    "    # Predict\n",
    "    pred = model(data)\n",
    "\n",
    "    # Calculate loss\n",
    "    loss = criterion(pred, target)\n",
    "    train_loss+=loss.item()\n",
    "\n",
    "    # Backpropagation\n",
    "    loss.backward()\n",
    "    optimizer.step()\n",
    "\n",
    "    correct += GetCorrectPredCount(pred, target)\n",
    "    processed += len(data)\n",
    "\n",
    "    pbar.set_description(desc= f'Train: Loss={loss.item():0.4f} Batch_id={batch_idx} Accuracy={100*correct/processed:0.2f}')\n",
    "\n",
    "  train_acc.append(100*correct/processed)\n",
    "  train_losses.append(train_loss/len(train_loader))\n",
    "\n",
    "def test(model, device, test_loader, criterion):\n",
    "    model.eval()\n",
    "\n",
    "    test_loss = 0\n",
    "    correct = 0\n",
    "\n",
    "    with torch.no_grad():\n",
    "        for batch_idx, (data, target) in enumerate(test_loader):\n",
    "            data, target = data.to(device), target.to(device)\n",
    "\n",
    "            output = model(data)\n",
    "            test_loss += criterion(output, target, reduction='sum').item()  # sum up batch loss\n",
    "\n",
    "            correct += GetCorrectPredCount(output, target)\n",
    "\n",
    "\n",
    "    test_loss /= len(test_loader.dataset)\n",
    "    test_acc.append(100. * correct / len(test_loader.dataset))\n",
    "    test_losses.append(test_loss)\n",
    "    \n",
    "    print('Test set: Average loss: {:.4f}, Accuracy: {}/{} ({:.4f}%)\\n'.format(\n",
    "        test_loss, correct, len(test_loader.dataset),\n",
    "        100. * correct / len(test_loader.dataset)))\n",
    "    return test_loss"
   ]
  },
  {
   "cell_type": "code",
   "execution_count": 9,
   "metadata": {},
   "outputs": [
    {
     "data": {
      "image/png": "[encoded data removed]",
      "text/plain": [
       "<Figure size 640x480 with 1 Axes>"
      ]
     },
     "metadata": {},
     "output_type": "display_data"
    }
   ],
   "source": [
    "for i in random.choices(np.arange(0,20),k=1):\n",
    "    plt.imshow(train_data.data[i])\n",
    "    plt.title(f'label = {train_data.targets[i].numpy()}')\n",
    "    plt.show()"
   ]
  },
  {
   "cell_type": "code",
   "execution_count": null,
   "metadata": {},
   "outputs": [],
   "source": []
  },
  {
   "cell_type": "markdown",
   "metadata": {},
   "source": [
    "### Model 1"
   ]
  },
  {
   "cell_type": "code",
   "execution_count": 10,
   "metadata": {},
   "outputs": [],
   "source": [
    "from model import Net"
   ]
  },
  {
   "cell_type": "code",
   "execution_count": 11,
   "metadata": {},
   "outputs": [
    {
     "name": "stdout",
     "output_type": "stream",
     "text": [
      "----------------------------------------------------------------\n",
      "        Layer (type)               Output Shape         Param #\n",
      "================================================================\n",
      "            Conv2d-1            [-1, 3, 28, 28]              27\n",
      "       BatchNorm2d-2            [-1, 3, 28, 28]               6\n",
      "              ReLU-3            [-1, 3, 28, 28]               0\n",
      "         Dropout2d-4            [-1, 3, 28, 28]               0\n",
      "            Conv2d-5            [-1, 8, 28, 28]             216\n",
      "       BatchNorm2d-6            [-1, 8, 28, 28]              16\n",
      "              ReLU-7            [-1, 8, 28, 28]               0\n",
      "         Dropout2d-8            [-1, 8, 28, 28]               0\n",
      "            Conv2d-9           [-1, 16, 28, 28]           1,152\n",
      "      BatchNorm2d-10           [-1, 16, 28, 28]              32\n",
      "             ReLU-11           [-1, 16, 28, 28]               0\n",
      "        Dropout2d-12           [-1, 16, 28, 28]               0\n",
      "        MaxPool2d-13           [-1, 16, 15, 15]               0\n",
      "           Conv2d-14            [-1, 8, 17, 17]             128\n",
      "      BatchNorm2d-15            [-1, 8, 17, 17]              16\n",
      "           Conv2d-16           [-1, 16, 17, 17]           1,152\n",
      "      BatchNorm2d-17           [-1, 16, 17, 17]              32\n",
      "             ReLU-18           [-1, 16, 17, 17]               0\n",
      "        Dropout2d-19           [-1, 16, 17, 17]               0\n",
      "           Conv2d-20           [-1, 16, 17, 17]           2,304\n",
      "      BatchNorm2d-21           [-1, 16, 17, 17]              32\n",
      "             ReLU-22           [-1, 16, 17, 17]               0\n",
      "        Dropout2d-23           [-1, 16, 17, 17]               0\n",
      "           Conv2d-24           [-1, 16, 17, 17]           2,304\n",
      "      BatchNorm2d-25           [-1, 16, 17, 17]              32\n",
      "             ReLU-26           [-1, 16, 17, 17]               0\n",
      "        Dropout2d-27           [-1, 16, 17, 17]               0\n",
      "        MaxPool2d-28             [-1, 16, 9, 9]               0\n",
      "           Conv2d-29             [-1, 16, 9, 9]             256\n",
      "      BatchNorm2d-30             [-1, 16, 9, 9]              32\n",
      "           Conv2d-31             [-1, 16, 9, 9]           2,304\n",
      "      BatchNorm2d-32             [-1, 16, 9, 9]              32\n",
      "             ReLU-33             [-1, 16, 9, 9]               0\n",
      "        Dropout2d-34             [-1, 16, 9, 9]               0\n",
      "           Conv2d-35             [-1, 16, 9, 9]           2,304\n",
      "             ReLU-36             [-1, 16, 9, 9]               0\n",
      "      BatchNorm2d-37             [-1, 16, 9, 9]              32\n",
      "        Dropout2d-38             [-1, 16, 9, 9]               0\n",
      "        MaxPool2d-39             [-1, 16, 4, 4]               0\n",
      "           Conv2d-40             [-1, 16, 4, 4]             256\n",
      "      BatchNorm2d-41             [-1, 16, 4, 4]              32\n",
      "           Conv2d-42             [-1, 10, 4, 4]           1,440\n",
      "      BatchNorm2d-43             [-1, 10, 4, 4]              20\n",
      "        AvgPool2d-44             [-1, 10, 1, 1]               0\n",
      "================================================================\n",
      "Total params: 14,157\n",
      "Trainable params: 14,157\n",
      "Non-trainable params: 0\n",
      "----------------------------------------------------------------\n",
      "Input size (MB): 0.00\n",
      "Forward/backward pass size (MB): 1.25\n",
      "Params size (MB): 0.05\n",
      "Estimated Total Size (MB): 1.31\n",
      "----------------------------------------------------------------\n",
      "Adjusting learning rate of group 0 to 2.0000e-01.\n",
      "Epoch 1\n"
     ]
    },
    {
     "name": "stderr",
     "output_type": "stream",
     "text": [
      "Train: Loss=0.0881 Batch_id=937 Accuracy=93.44: 100%|██████████| 938/938 [00:10<00:00, 87.10it/s] \n"
     ]
    },
    {
     "name": "stdout",
     "output_type": "stream",
     "text": [
      "Test set: Average loss: 0.0491, Accuracy: 9843/10000 (98.4300%)\n",
      "\n",
      "Adjusting learning rate of group 0 to 2.0000e-01.\n",
      "Epoch 2\n"
     ]
    },
    {
     "name": "stderr",
     "output_type": "stream",
     "text": [
      "Train: Loss=0.0430 Batch_id=937 Accuracy=97.30: 100%|██████████| 938/938 [00:10<00:00, 89.18it/s] \n"
     ]
    },
    {
     "name": "stdout",
     "output_type": "stream",
     "text": [
      "Test set: Average loss: 0.0389, Accuracy: 9884/10000 (98.8400%)\n",
      "\n",
      "Adjusting learning rate of group 0 to 2.0000e-01.\n",
      "Epoch 3\n"
     ]
    },
    {
     "name": "stderr",
     "output_type": "stream",
     "text": [
      "Train: Loss=0.0082 Batch_id=937 Accuracy=97.79: 100%|██████████| 938/938 [00:10<00:00, 87.58it/s] \n"
     ]
    },
    {
     "name": "stdout",
     "output_type": "stream",
     "text": [
      "Test set: Average loss: 0.0386, Accuracy: 9879/10000 (98.7900%)\n",
      "\n",
      "Adjusting learning rate of group 0 to 2.0000e-01.\n",
      "Epoch 4\n"
     ]
    },
    {
     "name": "stderr",
     "output_type": "stream",
     "text": [
      "Train: Loss=0.0653 Batch_id=937 Accuracy=98.08: 100%|██████████| 938/938 [00:10<00:00, 89.32it/s] \n"
     ]
    },
    {
     "name": "stdout",
     "output_type": "stream",
     "text": [
      "Test set: Average loss: 0.0326, Accuracy: 9897/10000 (98.9700%)\n",
      "\n",
      "Adjusting learning rate of group 0 to 2.0000e-01.\n",
      "Epoch 5\n"
     ]
    },
    {
     "name": "stderr",
     "output_type": "stream",
     "text": [
      "Train: Loss=0.0071 Batch_id=937 Accuracy=98.25: 100%|██████████| 938/938 [00:10<00:00, 88.18it/s] \n"
     ]
    },
    {
     "name": "stdout",
     "output_type": "stream",
     "text": [
      "Test set: Average loss: 0.0264, Accuracy: 9915/10000 (99.1500%)\n",
      "\n",
      "Adjusting learning rate of group 0 to 2.0000e-02.\n",
      "Epoch 6\n"
     ]
    },
    {
     "name": "stderr",
     "output_type": "stream",
     "text": [
      "Train: Loss=0.0393 Batch_id=937 Accuracy=98.68: 100%|██████████| 938/938 [00:10<00:00, 88.46it/s] \n"
     ]
    },
    {
     "name": "stdout",
     "output_type": "stream",
     "text": [
      "Test set: Average loss: 0.0200, Accuracy: 9927/10000 (99.2700%)\n",
      "\n",
      "Adjusting learning rate of group 0 to 2.0000e-02.\n",
      "Epoch 7\n"
     ]
    },
    {
     "name": "stderr",
     "output_type": "stream",
     "text": [
      "Train: Loss=0.1257 Batch_id=937 Accuracy=98.79: 100%|██████████| 938/938 [00:10<00:00, 89.31it/s] \n"
     ]
    },
    {
     "name": "stdout",
     "output_type": "stream",
     "text": [
      "Test set: Average loss: 0.0189, Accuracy: 9935/10000 (99.3500%)\n",
      "\n",
      "Adjusting learning rate of group 0 to 2.0000e-02.\n",
      "Epoch 8\n"
     ]
    },
    {
     "name": "stderr",
     "output_type": "stream",
     "text": [
      "Train: Loss=0.0065 Batch_id=937 Accuracy=98.87: 100%|██████████| 938/938 [00:10<00:00, 89.93it/s] \n"
     ]
    },
    {
     "name": "stdout",
     "output_type": "stream",
     "text": [
      "Test set: Average loss: 0.0189, Accuracy: 9935/10000 (99.3500%)\n",
      "\n",
      "Adjusting learning rate of group 0 to 2.0000e-02.\n",
      "Epoch 9\n"
     ]
    },
    {
     "name": "stderr",
     "output_type": "stream",
     "text": [
      "Train: Loss=0.0046 Batch_id=937 Accuracy=98.98: 100%|██████████| 938/938 [00:10<00:00, 87.80it/s] \n"
     ]
    },
    {
     "name": "stdout",
     "output_type": "stream",
     "text": [
      "Test set: Average loss: 0.0184, Accuracy: 9939/10000 (99.3900%)\n",
      "\n",
      "Adjusting learning rate of group 0 to 2.0000e-02.\n",
      "Epoch 10\n"
     ]
    },
    {
     "name": "stderr",
     "output_type": "stream",
     "text": [
      "Train: Loss=0.0048 Batch_id=937 Accuracy=98.89: 100%|██████████| 938/938 [00:10<00:00, 88.88it/s] \n"
     ]
    },
    {
     "name": "stdout",
     "output_type": "stream",
     "text": [
      "Test set: Average loss: 0.0179, Accuracy: 9941/10000 (99.4100%)\n",
      "\n",
      "Adjusting learning rate of group 0 to 2.0000e-03.\n",
      "Epoch 11\n"
     ]
    },
    {
     "name": "stderr",
     "output_type": "stream",
     "text": [
      "Train: Loss=0.0129 Batch_id=937 Accuracy=98.94: 100%|██████████| 938/938 [00:10<00:00, 90.11it/s] \n"
     ]
    },
    {
     "name": "stdout",
     "output_type": "stream",
     "text": [
      "Test set: Average loss: 0.0179, Accuracy: 9941/10000 (99.4100%)\n",
      "\n",
      "Adjusting learning rate of group 0 to 2.0000e-03.\n",
      "Epoch 12\n"
     ]
    },
    {
     "name": "stderr",
     "output_type": "stream",
     "text": [
      "Train: Loss=0.0212 Batch_id=937 Accuracy=98.96: 100%|██████████| 938/938 [00:10<00:00, 88.36it/s] \n"
     ]
    },
    {
     "name": "stdout",
     "output_type": "stream",
     "text": [
      "Test set: Average loss: 0.0179, Accuracy: 9940/10000 (99.4000%)\n",
      "\n",
      "Adjusting learning rate of group 0 to 2.0000e-03.\n",
      "Epoch 13\n"
     ]
    },
    {
     "name": "stderr",
     "output_type": "stream",
     "text": [
      "Train: Loss=0.0405 Batch_id=937 Accuracy=98.93: 100%|██████████| 938/938 [00:10<00:00, 87.11it/s] \n"
     ]
    },
    {
     "name": "stdout",
     "output_type": "stream",
     "text": [
      "Test set: Average loss: 0.0176, Accuracy: 9942/10000 (99.4200%)\n",
      "\n",
      "Adjusting learning rate of group 0 to 2.0000e-03.\n",
      "Epoch 14\n"
     ]
    },
    {
     "name": "stderr",
     "output_type": "stream",
     "text": [
      "Train: Loss=0.0577 Batch_id=937 Accuracy=98.95: 100%|██████████| 938/938 [00:10<00:00, 88.75it/s] \n"
     ]
    },
    {
     "name": "stdout",
     "output_type": "stream",
     "text": [
      "Test set: Average loss: 0.0181, Accuracy: 9943/10000 (99.4300%)\n",
      "\n",
      "Adjusting learning rate of group 0 to 2.0000e-03.\n",
      "Epoch 15\n"
     ]
    },
    {
     "name": "stderr",
     "output_type": "stream",
     "text": [
      "Train: Loss=0.0662 Batch_id=937 Accuracy=98.98: 100%|██████████| 938/938 [00:10<00:00, 87.60it/s] \n"
     ]
    },
    {
     "name": "stdout",
     "output_type": "stream",
     "text": [
      "Test set: Average loss: 0.0178, Accuracy: 9941/10000 (99.4100%)\n",
      "\n",
      "Adjusting learning rate of group 0 to 2.0000e-04.\n",
      "Epoch 16\n"
     ]
    },
    {
     "name": "stderr",
     "output_type": "stream",
     "text": [
      "Train: Loss=0.0103 Batch_id=937 Accuracy=98.98: 100%|██████████| 938/938 [00:10<00:00, 88.92it/s] \n"
     ]
    },
    {
     "name": "stdout",
     "output_type": "stream",
     "text": [
      "Test set: Average loss: 0.0179, Accuracy: 9944/10000 (99.4400%)\n",
      "\n",
      "Adjusting learning rate of group 0 to 2.0000e-04.\n",
      "Epoch 17\n"
     ]
    },
    {
     "name": "stderr",
     "output_type": "stream",
     "text": [
      "Train: Loss=0.0046 Batch_id=937 Accuracy=99.01: 100%|██████████| 938/938 [00:10<00:00, 91.03it/s] \n"
     ]
    },
    {
     "name": "stdout",
     "output_type": "stream",
     "text": [
      "Test set: Average loss: 0.0176, Accuracy: 9942/10000 (99.4200%)\n",
      "\n",
      "Adjusting learning rate of group 0 to 2.0000e-04.\n",
      "Epoch 18\n"
     ]
    },
    {
     "name": "stderr",
     "output_type": "stream",
     "text": [
      "Train: Loss=0.0664 Batch_id=937 Accuracy=99.01: 100%|██████████| 938/938 [00:10<00:00, 91.15it/s] \n"
     ]
    },
    {
     "name": "stdout",
     "output_type": "stream",
     "text": [
      "Test set: Average loss: 0.0178, Accuracy: 9940/10000 (99.4000%)\n",
      "\n",
      "Adjusting learning rate of group 0 to 2.0000e-04.\n",
      "Epoch 19\n"
     ]
    },
    {
     "name": "stderr",
     "output_type": "stream",
     "text": [
      "Train: Loss=0.0383 Batch_id=937 Accuracy=98.97: 100%|██████████| 938/938 [00:10<00:00, 91.30it/s] \n"
     ]
    },
    {
     "name": "stdout",
     "output_type": "stream",
     "text": [
      "Test set: Average loss: 0.0178, Accuracy: 9942/10000 (99.4200%)\n",
      "\n",
      "Adjusting learning rate of group 0 to 2.0000e-04.\n",
      "Epoch 20\n"
     ]
    },
    {
     "name": "stderr",
     "output_type": "stream",
     "text": [
      "Train: Loss=0.0065 Batch_id=937 Accuracy=99.02: 100%|██████████| 938/938 [00:10<00:00, 90.76it/s] \n"
     ]
    },
    {
     "name": "stdout",
     "output_type": "stream",
     "text": [
      "Test set: Average loss: 0.0178, Accuracy: 9946/10000 (99.4600%)\n",
      "\n",
      "Adjusting learning rate of group 0 to 2.0000e-05.\n"
     ]
    }
   ],
   "source": [
    "model = Net().to(device)\n",
    "# for name,weights in model.named_parameters():\n",
    "#     print(f\"{name}\\t\\t {weights.shape}\")\n",
    "\n",
    "summary(model=model,input_size=(1,28,28),device='cuda');\n",
    "\n",
    "optimizer = optim.SGD(model.parameters(), lr=0.2, momentum=0.9)\n",
    "scheduler = optim.lr_scheduler.StepLR(optimizer, step_size=5, gamma=0.1, verbose=True)\n",
    "# New Line\n",
    "criterion =  F.nll_loss\n",
    "num_epochs = 20\n",
    "\n",
    "for epoch in range(1, num_epochs+1):\n",
    "  print(f'Epoch {epoch}')\n",
    "  train(model, device, train_loader, optimizer, criterion)\n",
    "  test(model, device, test_loader, criterion)\n",
    "  scheduler.step()"
   ]
  },
  {
   "cell_type": "code",
   "execution_count": null,
   "metadata": {
    "scrolled": true
   },
   "outputs": [],
   "source": []
  },
  {
   "cell_type": "code",
   "execution_count": 12,
   "metadata": {},
   "outputs": [
    {
     "data": {
      "image/png": "[encoded data removed]",
      "text/plain": [
       "<Figure size 1500x1000 with 4 Axes>"
      ]
     },
     "metadata": {},
     "output_type": "display_data"
    }
   ],
   "source": [
    "fig, axs = plt.subplots(2,2,figsize=(15,10))\n",
    "\n",
    "axs[0, 0].plot(train_losses)\n",
    "axs[0, 0].set_title(\"Training Loss\")\n",
    "\n",
    "axs[1, 0].plot(train_acc)\n",
    "axs[1, 0].set_title(\"Training Accuracy\")\n",
    "\n",
    "axs[0, 1].plot(test_losses)\n",
    "axs[0, 1].set_title(\"Test Loss\")\n",
    "\n",
    "axs[1, 1].plot(test_acc)\n",
    "axs[1, 1].set_title(\"Test Accuracy\")\n",
    "plt.show()"
   ]
  },
  {
   "cell_type": "code",
   "execution_count": 3,
   "metadata": {},
   "outputs": [
    {
     "name": "stdout",
     "output_type": "stream",
     "text": [
      "0.13065974414348602 0.3015038073062897\n"
     ]
    }
   ],
   "source": [
    "from utils import calculate_mean_std_mnist\n",
    "mnist_data = datasets.MNIST( root='../../data', download=True, transform=transforms.ToTensor() ,)\n",
    "mean,std= calculate_mean_std_mnist(mnist_data)\n",
    "\n",
    "print(mean,std)"
   ]
  },
  {
   "cell_type": "code",
   "execution_count": null,
   "metadata": {},
   "outputs": [],
   "source": []
  }
 ],
 "metadata": {
  "kernelspec": {
   "display_name": "Python 3 (ipykernel)",
   "language": "python",
   "name": "python3"
  },
  "language_info": {
   "codemirror_mode": {
    "name": "ipython",
    "version": 3
   },
   "file_extension": ".py",
   "mimetype": "text/x-python",
   "name": "python",
   "nbconvert_exporter": "python",
   "pygments_lexer": "ipython3",
   "version": "3.11.4"
  }
 },
 "nbformat": 4,
 "nbformat_minor": 4
}
